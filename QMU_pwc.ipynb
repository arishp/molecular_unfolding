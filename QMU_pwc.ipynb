{
 "metadata": {
  "language_info": {
   "codemirror_mode": {
    "name": "ipython",
    "version": 3
   },
   "file_extension": ".py",
   "mimetype": "text/x-python",
   "name": "python",
   "nbconvert_exporter": "python",
   "pygments_lexer": "ipython3",
   "version": "3.9.16"
  },
  "orig_nbformat": 4,
  "kernelspec": {
   "name": "python3",
   "display_name": "Python 3.9.16 64-bit"
  },
  "interpreter": {
   "hash": "4cd7ab41f5fca4b9b44701077e38c5ffd31fe66a6cab21e0214b68d958d0e462"
  }
 },
 "nbformat": 4,
 "nbformat_minor": 2,
 "cells": [
  {
   "source": [
    "# Import necessary packages"
   ],
   "cell_type": "markdown",
   "metadata": {}
  },
  {
   "cell_type": "code",
   "execution_count": 48,
   "metadata": {},
   "outputs": [],
   "source": [
    "import copy\n",
    "import sympy as sp\n",
    "from sympy.matrices import ones, eye"
   ]
  },
  {
   "source": [
    "# Input Variables"
   ],
   "cell_type": "markdown",
   "metadata": {}
  },
  {
   "source": [
    "coords_original - Coordinates considered for distance measure in the hubo<br>torsional_bonds - Torsional bond numbers and their respective coordinate ends<br>coords_rotation_dict - Coordinate numbers and the bonds that affect them<br>distance_pairs - Pairs of coordinates to find distance"
   ],
   "cell_type": "markdown",
   "metadata": {}
  },
  {
   "cell_type": "code",
   "execution_count": 49,
   "metadata": {},
   "outputs": [],
   "source": [
    "coords_original = {\n",
    "    0: [1.0, -0.5, 0.0],\n",
    "    1: [0.0, 0.0, 0.0],\n",
    "    2: [0.0, 1.0, 0.0],\n",
    "    3: [1.0, 1.5, 0.0],\n",
    "    4: [2.0, 1.0, 0.0]\n",
    "}\n",
    "torsional_bonds = {\n",
    "    0: (1, 2),\n",
    "    1: (2, 3)\n",
    "}\n",
    "coords_rotation_dict = {\n",
    "    0: [],\n",
    "    1: [],\n",
    "    2: [],\n",
    "    3: [0],\n",
    "    4: [0, 1]\n",
    "}\n",
    "distance_pairs = [\n",
    "    (0, 3),\n",
    "    (0, 4),\n",
    "    (1, 3),\n",
    "    (1, 4),\n",
    "    (2, 4)]"
   ]
  },
  {
   "cell_type": "code",
   "execution_count": 50,
   "metadata": {},
   "outputs": [],
   "source": [
    "coords_dict = copy.deepcopy(coords_original)\n",
    "final_coords = copy.deepcopy(coords_original)\n",
    "\n",
    "n_bonds = len(torsional_bonds)  # no. of bonds\n",
    "n_angles = 4  # no. of discrete angles\n",
    "\n",
    "x = []  # hubo variables"
   ]
  },
  {
   "source": [
    "#Function to generate hard constraint"
   ],
   "cell_type": "markdown",
   "metadata": {}
  },
  {
   "cell_type": "code",
   "execution_count": 51,
   "metadata": {},
   "outputs": [],
   "source": [
    "def generate_hard_constraint(include_a=False, a_value=1.0):\n",
    "    for i in range(n_bonds):\n",
    "        x.append(sp.symbols(f'x_{str(i)}_(0:{n_angles})'))\n",
    "    hard_constraint = 0\n",
    "    for i in range(n_bonds):\n",
    "        summation = 0\n",
    "        for j in range(n_angles):\n",
    "            summation += x[i][j]\n",
    "        hard_constraint += (summation - 1) ** 2\n",
    "    if include_a:\n",
    "        a_const = sp.Symbol('A_const')\n",
    "        hard_constraint *= a_const\n",
    "    else:\n",
    "        hard_constraint *= a_value\n",
    "    return hard_constraint.expand()"
   ]
  },
  {
   "cell_type": "code",
   "execution_count": 52,
   "metadata": {},
   "outputs": [
    {
     "output_type": "stream",
     "name": "stdout",
     "text": [
      "            2                                                                 \nA_const⋅x₀ ₀  + 2⋅A_const⋅x₀ ₀⋅x₀ ₁ + 2⋅A_const⋅x₀ ₀⋅x₀ ₂ + 2⋅A_const⋅x₀ ₀⋅x₀ \n\n                                 2                                            \n₃ - 2⋅A_const⋅x₀ ₀ + A_const⋅x₀ ₁  + 2⋅A_const⋅x₀ ₁⋅x₀ ₂ + 2⋅A_const⋅x₀ ₁⋅x₀ ₃\n\n                                2                                             \n - 2⋅A_const⋅x₀ ₁ + A_const⋅x₀ ₂  + 2⋅A_const⋅x₀ ₂⋅x₀ ₃ - 2⋅A_const⋅x₀ ₂ + A_c\n\n         2                                2                                   \nonst⋅x₀ ₃  - 2⋅A_const⋅x₀ ₃ + A_const⋅x₁ ₀  + 2⋅A_const⋅x₁ ₀⋅x₁ ₁ + 2⋅A_const⋅\n\n                                                               2              \nx₁ ₀⋅x₁ ₂ + 2⋅A_const⋅x₁ ₀⋅x₁ ₃ - 2⋅A_const⋅x₁ ₀ + A_const⋅x₁ ₁  + 2⋅A_const⋅x\n\n                                                              2               \n₁ ₁⋅x₁ ₂ + 2⋅A_const⋅x₁ ₁⋅x₁ ₃ - 2⋅A_const⋅x₁ ₁ + A_const⋅x₁ ₂  + 2⋅A_const⋅x₁\n\n                                       2                             \n ₂⋅x₁ ₃ - 2⋅A_const⋅x₁ ₂ + A_const⋅x₁ ₃  - 2⋅A_const⋅x₁ ₃ + 2⋅A_const\n"
     ]
    }
   ],
   "source": [
    "hubo_expr = generate_hard_constraint(include_a=True)\n",
    "sp.pprint(hubo_expr)"
   ]
  },
  {
   "source": [
    "# Functions to rotate coordinates with hubo variables"
   ],
   "cell_type": "markdown",
   "metadata": {}
  },
  {
   "cell_type": "code",
   "execution_count": 53,
   "metadata": {},
   "outputs": [],
   "source": [
    "def rotate_coordinates(rotation_matrix, old_coords):\n",
    "    coord_vector = ones(4, 1)\n",
    "    coord_vector[0, 0] = old_coords[0]\n",
    "    coord_vector[1, 0] = old_coords[1]\n",
    "    coord_vector[2, 0] = old_coords[2]\n",
    "    coord_rot_vector = sp.expand(rotation_matrix * coord_vector)\n",
    "    return [coord_rot_vector[0, 0], coord_rot_vector[1, 0], coord_rot_vector[2, 0]]"
   ]
  },
  {
   "cell_type": "code",
   "execution_count": 54,
   "metadata": {},
   "outputs": [],
   "source": [
    "def generate_thetas():\n",
    "    angle_incr = 2 * sp.pi / n_angles\n",
    "    thetas = [i*angle_incr for i in range(n_angles)]\n",
    "    return thetas"
   ]
  },
  {
   "cell_type": "code",
   "execution_count": 55,
   "metadata": {},
   "outputs": [],
   "source": [
    "def generate_rotation_matrix(first_coords, second_coords, bond_no):\n",
    "    x_dash, y_dash, z_dash = first_coords[0], first_coords[1], first_coords[2]\n",
    "    x_ddash, y_ddash, z_ddash = second_coords[0], second_coords[1], second_coords[2]\n",
    "    dx = x_ddash - x_dash\n",
    "    dy = y_ddash - y_dash\n",
    "    dz = z_ddash - z_dash\n",
    "    l_sq = sp.expand(dx ** 2 + dy ** 2 + dz ** 2)\n",
    "    l = sp.expand(sp.sqrt(l_sq))\n",
    "    thetas = generate_thetas()\n",
    "    c_theta = 0.0\n",
    "    s_theta = 0.0\n",
    "    for i in range(n_angles):\n",
    "        c_theta += sp.expand(sp.cos(thetas[i]) * x[bond_no][i])\n",
    "        s_theta += sp.expand(sp.sin(thetas[i]) * x[bond_no][i])\n",
    "    rotation_matrix = eye(4)\n",
    "    rotation_matrix[0, 0] = sp.expand((dx ** 2 + (dy ** 2 + dz ** 2) * c_theta) / l_sq)\n",
    "    rotation_matrix[0, 1] = sp.expand((dx * dy * (1 - c_theta) - dz * l * s_theta) / l_sq)\n",
    "    rotation_matrix[0, 2] = sp.expand((dx * dz * (1 - c_theta) + dy * l * s_theta) / l_sq)\n",
    "    rotation_matrix[0, 3] = sp.expand(((x_dash * (dy ** 2 + dz ** 2) - dx * (y_dash * dy + z_dash * dz)) * (1 - c_theta) + (\n",
    "            y_dash * dz - z_dash * dy) * l * s_theta) / l_sq)\n",
    "    rotation_matrix[1, 0] = sp.expand((dx * dy * (1 - c_theta) + dz * l * s_theta) / l_sq)\n",
    "    rotation_matrix[1, 1] = sp.expand((dy ** 2 + (dx ** 2 + dz ** 2) * c_theta) / l_sq)\n",
    "    rotation_matrix[1, 2] = sp.expand((dy * dz * (1 - c_theta) - dx * l * s_theta) / l_sq)\n",
    "    rotation_matrix[1, 3] = sp.expand(((y_dash * (dx ** 2 + dz ** 2) - dy * (x_dash * dx + z_dash * dz)) * (1 - c_theta) + (\n",
    "            z_dash * dx - x_dash * dz) * l * s_theta) / l_sq)\n",
    "    rotation_matrix[2, 0] = sp.expand((dx * dz * (1 - c_theta) - dy * l * s_theta) / l_sq)\n",
    "    rotation_matrix[2, 1] = sp.expand((dy * dz * (1 - c_theta) + dx * l * s_theta) / l_sq)\n",
    "    rotation_matrix[2, 2] = sp.expand((dz ** 2 + (dx ** 2 + dy ** 2) * c_theta) / l_sq)\n",
    "    rotation_matrix[2, 3] = sp.expand(((z_dash * (dx ** 2 + dy ** 2) - dz * (x_dash * dx + y_dash * dy)) * (1 - c_theta) + (\n",
    "            x_dash * dy - y_dash * dx) * l * s_theta) / l_sq)\n",
    "    return sp.expand(rotation_matrix)"
   ]
  },
  {
   "cell_type": "code",
   "execution_count": 56,
   "metadata": {},
   "outputs": [],
   "source": [
    "def rotate_all_coordinates():\n",
    "    for i in coords_original.keys():\n",
    "        if len(coords_rotation_dict[i]) > 0:\n",
    "            rot_mat = eye(4, 4)\n",
    "            for bond_no in coords_rotation_dict[i]:\n",
    "                temp_rot_mat = generate_rotation_matrix(coords_original[torsional_bonds[bond_no][0]],\n",
    "                                                        coords_original[torsional_bonds[bond_no][1]], bond_no)\n",
    "                rot_mat = rot_mat * temp_rot_mat\n",
    "            coords_dict[i] = rotate_coordinates(rot_mat, coords_original[i])"
   ]
  },
  {
   "cell_type": "code",
   "execution_count": 57,
   "metadata": {},
   "outputs": [],
   "source": [
    "rotate_all_coordinates()"
   ]
  },
  {
   "cell_type": "code",
   "execution_count": 58,
   "metadata": {},
   "outputs": [
    {
     "output_type": "stream",
     "name": "stdout",
     "text": [
      "{0: [1.0, -0.5, 0.0], 1: [0.0, 0.0, 0.0], 2: [0.0, 1.0, 0.0], 3: [1.0, 1.5, 0.\n0], 4: [2.0, 1.0, 0.0]}\n"
     ]
    }
   ],
   "source": [
    "sp.pprint(coords_original)"
   ]
  },
  {
   "cell_type": "code",
   "execution_count": 59,
   "metadata": {},
   "outputs": [
    {
     "output_type": "stream",
     "name": "stdout",
     "text": [
      "{0: [1.0, -0.5, 0.0], 1: [0.0, 0.0, 0.0], 2: [0.0, 1.0, 0.0], 3: [1.0⋅x₀ ₀ - x\n₀ ₂, 1.5, -x₀ ₁ + 1.0⋅x₀ ₃], 4: [0.4⋅x₀ ₀⋅x₁ ₀ - 0.4⋅x₀ ₀⋅x₁ ₂ + 1.6⋅x₀ ₀ - 0.\n894427190999916⋅x₀ ₁⋅x₁ ₁ + 0.894427190999916⋅x₀ ₁⋅x₁ ₃ - 0.4⋅x₀ ₂⋅x₁ ₀ + 0.4⋅\nx₀ ₂⋅x₁ ₂ - 1.6⋅x₀ ₂ + 0.894427190999916⋅x₀ ₃⋅x₁ ₁ - 0.894427190999916⋅x₀ ₃⋅x₁\n ₃, -0.8⋅x₁ ₀ + 0.8⋅x₁ ₂ + 1.8, -0.894427190999916⋅x₀ ₀⋅x₁ ₁ + 0.8944271909999\n16⋅x₀ ₀⋅x₁ ₃ - 0.4⋅x₀ ₁⋅x₁ ₀ + 0.4⋅x₀ ₁⋅x₁ ₂ - 1.6⋅x₀ ₁ + 0.894427190999916⋅x₀\n ₂⋅x₁ ₁ - 0.894427190999916⋅x₀ ₂⋅x₁ ₃ + 0.4⋅x₀ ₃⋅x₁ ₀ - 0.4⋅x₀ ₃⋅x₁ ₂ + 1.6⋅x₀\n ₃]}\n"
     ]
    }
   ],
   "source": [
    "sp.pprint(coords_dict)"
   ]
  },
  {
   "source": [
    "# Functions to generate the optimization contraint in hubo"
   ],
   "cell_type": "markdown",
   "metadata": {}
  },
  {
   "cell_type": "code",
   "execution_count": 60,
   "metadata": {},
   "outputs": [],
   "source": [
    "def distance_squared(first_coords, second_coords):\n",
    "    dis_sq = sp.expand((second_coords[0] - first_coords[0])**2 + (second_coords[1] - first_coords[1])**2 +(second_coords[2] - first_coords[2])**2)\n",
    "    return dis_sq\n",
    "\n",
    "def generate_distance_hubo():\n",
    "    distance_sq = 0\n",
    "    for pair in distance_pairs:\n",
    "        distance_sq += distance_squared(coords_dict[pair[0]], coords_dict[pair[1]])\n",
    "    return distance_sq.expand()"
   ]
  },
  {
   "cell_type": "code",
   "execution_count": 61,
   "metadata": {},
   "outputs": [
    {
     "output_type": "stream",
     "name": "stdout",
     "text": [
      "         2     2            2                      2                2     2   \n0.48⋅x₀ ₀ ⋅x₁ ₀  - 0.96⋅x₀ ₀ ⋅x₁ ₀⋅x₁ ₂ + 3.84⋅x₀ ₀ ⋅x₁ ₀ + 2.4⋅x₀ ₀ ⋅x₁ ₁  - \n\n        2                      2     2            2                2     2    \n4.8⋅x₀ ₀ ⋅x₁ ₁⋅x₁ ₃ + 0.48⋅x₀ ₀ ⋅x₁ ₂  - 3.84⋅x₀ ₀ ⋅x₁ ₂ + 2.4⋅x₀ ₀ ⋅x₁ ₃  + 9\n\n        2                      2                                              \n.68⋅x₀ ₀  - 0.96⋅x₀ ₀⋅x₀ ₂⋅x₁ ₀  + 1.92⋅x₀ ₀⋅x₀ ₂⋅x₁ ₀⋅x₁ ₂ - 7.68⋅x₀ ₀⋅x₀ ₂⋅x\n\n                        2                                                2    \n₁ ₀ - 4.8⋅x₀ ₀⋅x₀ ₂⋅x₁ ₁  + 9.6⋅x₀ ₀⋅x₀ ₂⋅x₁ ₁⋅x₁ ₃ - 0.96⋅x₀ ₀⋅x₀ ₂⋅x₁ ₂  + 7\n\n                                       2                                      \n.68⋅x₀ ₀⋅x₀ ₂⋅x₁ ₂ - 4.8⋅x₀ ₀⋅x₀ ₂⋅x₁ ₃  - 19.36⋅x₀ ₀⋅x₀ ₂ - 0.8⋅x₀ ₀⋅x₁ ₀ + 0\n\n                                   2     2            2                      2\n.8⋅x₀ ₀⋅x₁ ₂ - 5.2⋅x₀ ₀ + 0.48⋅x₀ ₁ ⋅x₁ ₀  - 0.96⋅x₀ ₁ ⋅x₁ ₀⋅x₁ ₂ + 3.84⋅x₀ ₁ \n\n                2     2           2                      2     2            2 \n⋅x₁ ₀ + 2.4⋅x₀ ₁ ⋅x₁ ₁  - 4.8⋅x₀ ₁ ⋅x₁ ₁⋅x₁ ₃ + 0.48⋅x₀ ₁ ⋅x₁ ₂  - 3.84⋅x₀ ₁ ⋅\n\n               2     2            2                      2                    \nx₁ ₂ + 2.4⋅x₀ ₁ ⋅x₁ ₃  + 9.68⋅x₀ ₁  - 0.96⋅x₀ ₁⋅x₀ ₃⋅x₁ ₀  + 1.92⋅x₀ ₁⋅x₀ ₃⋅x₁\n\n                                                  2                           \n ₀⋅x₁ ₂ - 7.68⋅x₀ ₁⋅x₀ ₃⋅x₁ ₀ - 4.8⋅x₀ ₁⋅x₀ ₃⋅x₁ ₁  + 9.6⋅x₀ ₁⋅x₀ ₃⋅x₁ ₁⋅x₁ ₃ \n\n                     2                                           2            \n- 0.96⋅x₀ ₁⋅x₀ ₃⋅x₁ ₂  + 7.68⋅x₀ ₁⋅x₀ ₃⋅x₁ ₂ - 4.8⋅x₀ ₁⋅x₀ ₃⋅x₁ ₃  - 19.36⋅x₀ \n\n                                                                            2 \n₁⋅x₀ ₃ + 1.78885438199983⋅x₀ ₁⋅x₁ ₁ - 1.78885438199983⋅x₀ ₁⋅x₁ ₃ + 0.48⋅x₀ ₂ ⋅\n\n    2            2                      2                2     2           2  \nx₁ ₀  - 0.96⋅x₀ ₂ ⋅x₁ ₀⋅x₁ ₂ + 3.84⋅x₀ ₂ ⋅x₁ ₀ + 2.4⋅x₀ ₂ ⋅x₁ ₁  - 4.8⋅x₀ ₂ ⋅x\n\n                    2     2            2                2     2            2  \n₁ ₁⋅x₁ ₃ + 0.48⋅x₀ ₂ ⋅x₁ ₂  - 3.84⋅x₀ ₂ ⋅x₁ ₂ + 2.4⋅x₀ ₂ ⋅x₁ ₃  + 9.68⋅x₀ ₂  +\n\n                                                     2     2            2     \n 0.8⋅x₀ ₂⋅x₁ ₀ - 0.8⋅x₀ ₂⋅x₁ ₂ + 5.2⋅x₀ ₂ + 0.48⋅x₀ ₃ ⋅x₁ ₀  - 0.96⋅x₀ ₃ ⋅x₁ ₀\n\n                 2                2     2           2                      2  \n⋅x₁ ₂ + 3.84⋅x₀ ₃ ⋅x₁ ₀ + 2.4⋅x₀ ₃ ⋅x₁ ₁  - 4.8⋅x₀ ₃ ⋅x₁ ₁⋅x₁ ₃ + 0.48⋅x₀ ₃ ⋅x\n\n   2            2                2     2            2                         \n₁ ₂  - 3.84⋅x₀ ₃ ⋅x₁ ₂ + 2.4⋅x₀ ₃ ⋅x₁ ₃  + 9.68⋅x₀ ₃  - 1.78885438199983⋅x₀ ₃⋅\n\n                                             2                                \nx₁ ₁ + 1.78885438199983⋅x₀ ₃⋅x₁ ₃ + 1.92⋅x₁ ₀  - 3.84⋅x₁ ₀⋅x₁ ₂ - 7.84⋅x₁ ₀ + \n\n         2                    \n1.92⋅x₁ ₂  + 7.84⋅x₁ ₂ + 17.42\n"
     ]
    }
   ],
   "source": [
    "distance_hubo = generate_distance_hubo()\n",
    "sp.pprint(distance_hubo)"
   ]
  },
  {
   "source": [
    "# The full hubo expression is written in the file 'full_hubo_expr.txt'"
   ],
   "cell_type": "markdown",
   "metadata": {}
  },
  {
   "cell_type": "code",
   "execution_count": 62,
   "metadata": {},
   "outputs": [
    {
     "output_type": "stream",
     "name": "stdout",
     "text": [
      "full hubo expression written in file - full_hubo_expr.txt\n"
     ]
    }
   ],
   "source": [
    "hubo_expr -= distance_hubo\n",
    "hubo_expr_str = str(hubo_expr.expand())\n",
    "f = open(\"full_hubo_expr.txt\", \"w\")\n",
    "print('full hubo expression written in file - full_hubo_expr.txt')\n",
    "f.write(hubo_expr_str)\n",
    "f.close()"
   ]
  },
  {
   "cell_type": "code",
   "execution_count": null,
   "metadata": {},
   "outputs": [],
   "source": []
  }
 ]
}