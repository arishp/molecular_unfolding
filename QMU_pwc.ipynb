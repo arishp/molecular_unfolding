{
 "metadata": {
  "language_info": {
   "codemirror_mode": {
    "name": "ipython",
    "version": 3
   },
   "file_extension": ".py",
   "mimetype": "text/x-python",
   "name": "python",
   "nbconvert_exporter": "python",
   "pygments_lexer": "ipython3",
   "version": "3.9.16"
  },
  "orig_nbformat": 4,
  "kernelspec": {
   "name": "python3",
   "display_name": "Python 3.9.16 64-bit"
  },
  "interpreter": {
   "hash": "4cd7ab41f5fca4b9b44701077e38c5ffd31fe66a6cab21e0214b68d958d0e462"
  }
 },
 "nbformat": 4,
 "nbformat_minor": 2,
 "cells": [
  {
   "source": [
    "# Import necessary packages"
   ],
   "cell_type": "markdown",
   "metadata": {}
  },
  {
   "cell_type": "code",
   "execution_count": 108,
   "metadata": {},
   "outputs": [],
   "source": [
    "import copy\n",
    "import sympy as sp\n",
    "from sympy.matrices import ones, eye\n",
    "import re\n",
    "import dimod\n",
    "import neal\n",
    "from dwave.system import DWaveSampler, EmbeddingComposite"
   ]
  },
  {
   "source": [
    "# Input Variables"
   ],
   "cell_type": "markdown",
   "metadata": {}
  },
  {
   "source": [
    "coords_original - Coordinates considered for distance measure in the hubo<br>torsional_bonds - Torsional bond numbers and their respective coordinate ends<br>coords_rotation_dict - Coordinate numbers and the bonds that affect them<br>distance_pairs - Pairs of coordinates to find distance"
   ],
   "cell_type": "markdown",
   "metadata": {}
  },
  {
   "cell_type": "code",
   "execution_count": 57,
   "metadata": {},
   "outputs": [],
   "source": [
    "coords_original = {\n",
    "    0: [1.0, -0.5, 0.0],\n",
    "    1: [0.0, 0.0, 0.0],\n",
    "    2: [0.0, 1.0, 0.0],\n",
    "    3: [1.0, 1.5, 0.0],\n",
    "    4: [2.0, 1.0, 0.0]\n",
    "}\n",
    "torsional_bonds = {\n",
    "    0: (1, 2),\n",
    "    1: (2, 3)\n",
    "}\n",
    "coords_rotation_dict = {\n",
    "    0: [],\n",
    "    1: [],\n",
    "    2: [],\n",
    "    3: [0],\n",
    "    4: [0, 1]\n",
    "}\n",
    "distance_pairs = [\n",
    "    (0, 3),\n",
    "    (0, 4),\n",
    "    (1, 3),\n",
    "    (1, 4),\n",
    "    (2, 4)]"
   ]
  },
  {
   "cell_type": "code",
   "execution_count": 58,
   "metadata": {},
   "outputs": [
    {
     "output_type": "stream",
     "name": "stdout",
     "text": [
      "(x0, x1, x2, x3, x4, x5, x6, x7, x8, x9, x10, x11, x12, x13, x14, x15)\n"
     ]
    }
   ],
   "source": [
    "coords_dict = copy.deepcopy(coords_original)\n",
    "final_coords = copy.deepcopy(coords_original)\n",
    "\n",
    "n_bonds = len(torsional_bonds)  # no. of bonds\n",
    "n_angles = 8  # no. of discrete angles\n",
    "\n",
    "x = sp.symbols(f'x(0:{n_bonds*n_angles})')  # hubo variables\n",
    "print(x)"
   ]
  },
  {
   "source": [
    "# Function to generate hard constraint"
   ],
   "cell_type": "markdown",
   "metadata": {}
  },
  {
   "cell_type": "code",
   "execution_count": 59,
   "metadata": {},
   "outputs": [],
   "source": [
    "def generate_hard_constraint(include_a=True, a_value=1.0):\n",
    "    for i in range(n_bonds):\n",
    "        x.append(sp.symbols(f'x_{str(i)}_(0:{n_angles})'))\n",
    "    hard_constraint = 0\n",
    "    for i in range(n_bonds):\n",
    "        summation = 0\n",
    "        for j in range(n_angles):\n",
    "            summation += x[i][j]\n",
    "        hard_constraint += (summation - 1) ** 2\n",
    "    if include_a:\n",
    "        a_const = sp.Symbol('A_const')\n",
    "        hard_constraint *= a_const\n",
    "    else:\n",
    "        hard_constraint *= a_value\n",
    "    print(x)\n",
    "    return hard_constraint.expand()"
   ]
  },
  {
   "cell_type": "code",
   "execution_count": 60,
   "metadata": {},
   "outputs": [],
   "source": [
    "def generate_hard_constraint_2():\n",
    "    hard_constraint = 0\n",
    "    index = 0\n",
    "    for i in range(n_bonds):\n",
    "        summation = 0\n",
    "        for j in range(n_angles):\n",
    "            summation += x[index]\n",
    "            index += 1\n",
    "        hard_constraint += (summation - 1) ** 2\n",
    "    a_const = sp.Symbol('A_const')\n",
    "    hard_constraint *= a_const\n",
    "    return hard_constraint"
   ]
  },
  {
   "cell_type": "code",
   "execution_count": 61,
   "metadata": {},
   "outputs": [
    {
     "output_type": "stream",
     "name": "stdout",
     "text": [
      "        ⎛                                           2                         \nA_const⋅⎝(x₀ + x₁ + x₂ + x₃ + x₄ + x₅ + x₆ + x₇ - 1)  + (x₁₀ + x₁₁ + x₁₂ + x₁₃\n\n                           2⎞\n + x₁₄ + x₁₅ + x₈ + x₉ - 1) ⎠\n"
     ]
    }
   ],
   "source": [
    "hard_hubo = generate_hard_constraint_2()\n",
    "sp.pprint(hard_hubo)"
   ]
  },
  {
   "source": [
    "# Functions to rotate coordinates with hubo variables"
   ],
   "cell_type": "markdown",
   "metadata": {}
  },
  {
   "cell_type": "code",
   "execution_count": 62,
   "metadata": {},
   "outputs": [],
   "source": [
    "def rotate_coordinates(rotation_matrix, old_coords):\n",
    "    coord_vector = ones(4, 1)\n",
    "    coord_vector[0, 0] = old_coords[0]\n",
    "    coord_vector[1, 0] = old_coords[1]\n",
    "    coord_vector[2, 0] = old_coords[2]\n",
    "    coord_rot_vector = sp.expand(rotation_matrix * coord_vector)\n",
    "    return [coord_rot_vector[0, 0], coord_rot_vector[1, 0], coord_rot_vector[2, 0]]"
   ]
  },
  {
   "cell_type": "code",
   "execution_count": 63,
   "metadata": {},
   "outputs": [],
   "source": [
    "def generate_thetas():\n",
    "    angle_incr = 2 * sp.pi / n_angles\n",
    "    thetas = [i*angle_incr for i in range(n_angles)]\n",
    "    return thetas"
   ]
  },
  {
   "cell_type": "code",
   "execution_count": 64,
   "metadata": {},
   "outputs": [],
   "source": [
    "def generate_rotation_matrix_2(first_coords, second_coords, bond_no):\n",
    "    x_dash, y_dash, z_dash = first_coords[0], first_coords[1], first_coords[2]\n",
    "    x_ddash, y_ddash, z_ddash = second_coords[0], second_coords[1], second_coords[2]\n",
    "    dx = x_ddash - x_dash\n",
    "    dy = y_ddash - y_dash\n",
    "    dz = z_ddash - z_dash\n",
    "    l_sq = dx ** 2 + dy ** 2 + dz ** 2\n",
    "    l = sp.sqrt(l_sq)\n",
    "    thetas = generate_thetas()\n",
    "    c_theta = 0.0\n",
    "    s_theta = 0.0\n",
    "    index = n_angles * bond_no\n",
    "    for i in range(n_angles):\n",
    "        c_theta += sp.cos(thetas[i]) * x[index]\n",
    "        s_theta += sp.sin(thetas[i]) * x[index]\n",
    "        index += 1\n",
    "    rotation_matrix = eye(4)\n",
    "    rotation_matrix[0, 0] = (dx ** 2 + (dy ** 2 + dz ** 2) * c_theta) / l_sq\n",
    "    rotation_matrix[0, 1] = (dx * dy * (1 - c_theta) - dz * l * s_theta) / l_sq\n",
    "    rotation_matrix[0, 2] = (dx * dz * (1 - c_theta) + dy * l * s_theta) / l_sq\n",
    "    rotation_matrix[0, 3] = ((x_dash * (dy ** 2 + dz ** 2) - dx * (y_dash * dy + z_dash * dz)) * (1 - c_theta) + (\n",
    "            y_dash * dz - z_dash * dy) * l * s_theta) / l_sq\n",
    "    rotation_matrix[1, 0] = (dx * dy * (1 - c_theta) + dz * l * s_theta) / l_sq\n",
    "    rotation_matrix[1, 1] = (dy ** 2 + (dx ** 2 + dz ** 2) * c_theta) / l_sq\n",
    "    rotation_matrix[1, 2] = (dy * dz * (1 - c_theta) - dx * l * s_theta) / l_sq\n",
    "    rotation_matrix[1, 3] = ((y_dash * (dx ** 2 + dz ** 2) - dy * (x_dash * dx + z_dash * dz)) * (1 - c_theta) + (\n",
    "            z_dash * dx - x_dash * dz) * l * s_theta) / l_sq\n",
    "    rotation_matrix[2, 0] = (dx * dz * (1 - c_theta) - dy * l * s_theta) / l_sq\n",
    "    rotation_matrix[2, 1] = (dy * dz * (1 - c_theta) + dx * l * s_theta) / l_sq\n",
    "    rotation_matrix[2, 2] = (dz ** 2 + (dx ** 2 + dy ** 2) * c_theta) / l_sq\n",
    "    rotation_matrix[2, 3] = ((z_dash * (dx ** 2 + dy ** 2) - dz * (x_dash * dx + y_dash * dy)) * (1 - c_theta) + (\n",
    "            x_dash * dy - y_dash * dx) * l * s_theta) / l_sq\n",
    "    return rotation_matrix"
   ]
  },
  {
   "cell_type": "code",
   "execution_count": 65,
   "metadata": {},
   "outputs": [],
   "source": [
    "def generate_rotation_matrix(first_coords, second_coords, bond_no):\n",
    "    x_dash, y_dash, z_dash = first_coords[0], first_coords[1], first_coords[2]\n",
    "    x_ddash, y_ddash, z_ddash = second_coords[0], second_coords[1], second_coords[2]\n",
    "    dx = x_ddash - x_dash\n",
    "    dy = y_ddash - y_dash\n",
    "    dz = z_ddash - z_dash\n",
    "    l_sq = sp.expand(dx ** 2 + dy ** 2 + dz ** 2)\n",
    "    l = sp.expand(sp.sqrt(l_sq))\n",
    "    thetas = generate_thetas()\n",
    "    c_theta = 0.0\n",
    "    s_theta = 0.0\n",
    "    for i in range(n_angles):\n",
    "        c_theta += sp.expand(sp.cos(thetas[i]) * x[bond_no][i])\n",
    "        s_theta += sp.expand(sp.sin(thetas[i]) * x[bond_no][i])\n",
    "    rotation_matrix = eye(4)\n",
    "    rotation_matrix[0, 0] = sp.expand((dx ** 2 + (dy ** 2 + dz ** 2) * c_theta) / l_sq)\n",
    "    rotation_matrix[0, 1] = sp.expand((dx * dy * (1 - c_theta) - dz * l * s_theta) / l_sq)\n",
    "    rotation_matrix[0, 2] = sp.expand((dx * dz * (1 - c_theta) + dy * l * s_theta) / l_sq)\n",
    "    rotation_matrix[0, 3] = sp.expand(((x_dash * (dy ** 2 + dz ** 2) - dx * (y_dash * dy + z_dash * dz)) * (1 - c_theta) + (\n",
    "            y_dash * dz - z_dash * dy) * l * s_theta) / l_sq)\n",
    "    rotation_matrix[1, 0] = sp.expand((dx * dy * (1 - c_theta) + dz * l * s_theta) / l_sq)\n",
    "    rotation_matrix[1, 1] = sp.expand((dy ** 2 + (dx ** 2 + dz ** 2) * c_theta) / l_sq)\n",
    "    rotation_matrix[1, 2] = sp.expand((dy * dz * (1 - c_theta) - dx * l * s_theta) / l_sq)\n",
    "    rotation_matrix[1, 3] = sp.expand(((y_dash * (dx ** 2 + dz ** 2) - dy * (x_dash * dx + z_dash * dz)) * (1 - c_theta) + (\n",
    "            z_dash * dx - x_dash * dz) * l * s_theta) / l_sq)\n",
    "    rotation_matrix[2, 0] = sp.expand((dx * dz * (1 - c_theta) - dy * l * s_theta) / l_sq)\n",
    "    rotation_matrix[2, 1] = sp.expand((dy * dz * (1 - c_theta) + dx * l * s_theta) / l_sq)\n",
    "    rotation_matrix[2, 2] = sp.expand((dz ** 2 + (dx ** 2 + dy ** 2) * c_theta) / l_sq)\n",
    "    rotation_matrix[2, 3] = sp.expand(((z_dash * (dx ** 2 + dy ** 2) - dz * (x_dash * dx + y_dash * dy)) * (1 - c_theta) + (\n",
    "            x_dash * dy - y_dash * dx) * l * s_theta) / l_sq)\n",
    "    return sp.expand(rotation_matrix)"
   ]
  },
  {
   "cell_type": "code",
   "execution_count": 66,
   "metadata": {},
   "outputs": [],
   "source": [
    "def rotate_all_coordinates():\n",
    "    for i in coords_original.keys():\n",
    "        if len(coords_rotation_dict[i]) > 0:\n",
    "            rot_mat = eye(4, 4)\n",
    "            for bond_no in coords_rotation_dict[i]:\n",
    "                temp_rot_mat = generate_rotation_matrix_2(coords_original[torsional_bonds[bond_no][0]],\n",
    "                                                        coords_original[torsional_bonds[bond_no][1]], bond_no)\n",
    "                rot_mat = rot_mat * temp_rot_mat\n",
    "            coords_dict[i] = rotate_coordinates(rot_mat, coords_original[i])"
   ]
  },
  {
   "cell_type": "code",
   "execution_count": 67,
   "metadata": {},
   "outputs": [],
   "source": [
    "rotate_all_coordinates()"
   ]
  },
  {
   "cell_type": "code",
   "execution_count": 68,
   "metadata": {},
   "outputs": [
    {
     "output_type": "stream",
     "name": "stdout",
     "text": [
      "{0: [1.0, -0.5, 0.0], 1: [0.0, 0.0, 0.0], 2: [0.0, 1.0, 0.0], 3: [1.0, 1.5, 0.\n0], 4: [2.0, 1.0, 0.0]}\n"
     ]
    }
   ],
   "source": [
    "sp.pprint(coords_original)"
   ]
  },
  {
   "cell_type": "code",
   "execution_count": 69,
   "metadata": {},
   "outputs": [
    {
     "output_type": "stream",
     "name": "stdout",
     "text": [
      "{0: [1.0, -0.5, 0.0], 1: [0.0, 0.0, 0.0], 2: [0.0, 1.0, 0.0], 3: [1.0⋅x₀ + 0.5\n⋅√2⋅x₁ - 0.5⋅√2⋅x₃ - x₄ - 0.5⋅√2⋅x₅ + 0.5⋅√2⋅x₇, 1.5, -0.5⋅√2⋅x₁ - x₂ - 0.5⋅√2\n⋅x₃ + 0.5⋅√2⋅x₅ + 1.0⋅x₆ + 0.5⋅√2⋅x₇], 4: [-0.2⋅√2⋅x₀⋅x₁₁ - 0.4⋅x₀⋅x₁₂ - 0.2⋅√\n2⋅x₀⋅x₁₃ + 0.2⋅√2⋅x₀⋅x₁₅ + 0.4⋅x₀⋅x₈ + 0.2⋅√2⋅x₀⋅x₉ + 1.6⋅x₀ - 0.4472135954999\n58⋅√2⋅x₁⋅x₁₀ - 0.647213595499958⋅x₁⋅x₁₁ - 0.2⋅√2⋅x₁⋅x₁₂ + 0.247213595499958⋅x₁\n⋅x₁₃ + 0.447213595499958⋅√2⋅x₁⋅x₁₄ + 0.647213595499958⋅x₁⋅x₁₅ + 0.2⋅√2⋅x₁⋅x₈ -\n 0.247213595499958⋅x₁⋅x₉ + 0.8⋅√2⋅x₁ - 0.894427190999916⋅x₁₀⋅x₂ - 0.4472135954\n99958⋅√2⋅x₁₀⋅x₃ + 0.447213595499958⋅√2⋅x₁₀⋅x₅ + 0.894427190999916⋅x₁₀⋅x₆ + 0.4\n47213595499958⋅√2⋅x₁₀⋅x₇ - 0.447213595499958⋅√2⋅x₁₁⋅x₂ - 0.247213595499958⋅x₁₁\n⋅x₃ + 0.2⋅√2⋅x₁₁⋅x₄ + 0.647213595499958⋅x₁₁⋅x₅ + 0.447213595499958⋅√2⋅x₁₁⋅x₆ +\n 0.247213595499958⋅x₁₁⋅x₇ + 0.2⋅√2⋅x₁₂⋅x₃ + 0.4⋅x₁₂⋅x₄ + 0.2⋅√2⋅x₁₂⋅x₅ - 0.2⋅√\n2⋅x₁₂⋅x₇ + 0.447213595499958⋅√2⋅x₁₃⋅x₂ + 0.647213595499958⋅x₁₃⋅x₃ + 0.2⋅√2⋅x₁₃\n⋅x₄ - 0.247213595499958⋅x₁₃⋅x₅ - 0.447213595499958⋅√2⋅x₁₃⋅x₆ - 0.6472135954999\n58⋅x₁₃⋅x₇ + 0.894427190999916⋅x₁₄⋅x₂ + 0.447213595499958⋅√2⋅x₁₄⋅x₃ - 0.4472135\n95499958⋅√2⋅x₁₄⋅x₅ - 0.894427190999916⋅x₁₄⋅x₆ - 0.447213595499958⋅√2⋅x₁₄⋅x₇ + \n0.447213595499958⋅√2⋅x₁₅⋅x₂ + 0.247213595499958⋅x₁₅⋅x₃ - 0.2⋅√2⋅x₁₅⋅x₄ - 0.647\n213595499958⋅x₁₅⋅x₅ - 0.447213595499958⋅√2⋅x₁₅⋅x₆ - 0.247213595499958⋅x₁₅⋅x₇ -\n 0.447213595499958⋅√2⋅x₂⋅x₉ - 0.2⋅√2⋅x₃⋅x₈ - 0.647213595499958⋅x₃⋅x₉ - 0.8⋅√2⋅\nx₃ - 0.4⋅x₄⋅x₈ - 0.2⋅√2⋅x₄⋅x₉ - 1.6⋅x₄ - 0.2⋅√2⋅x₅⋅x₈ + 0.247213595499958⋅x₅⋅x\n₉ - 0.8⋅√2⋅x₅ + 0.447213595499958⋅√2⋅x₆⋅x₉ + 0.2⋅√2⋅x₇⋅x₈ + 0.647213595499958⋅\nx₇⋅x₉ + 0.8⋅√2⋅x₇, 0.4⋅√2⋅x₁₁ + 0.8⋅x₁₂ + 0.4⋅√2⋅x₁₃ - 0.4⋅√2⋅x₁₅ - 0.8⋅x₈ - 0\n.4⋅√2⋅x₉ + 1.8, -0.894427190999916⋅x₀⋅x₁₀ - 0.447213595499958⋅√2⋅x₀⋅x₁₁ + 0.44\n7213595499958⋅√2⋅x₀⋅x₁₃ + 0.894427190999916⋅x₀⋅x₁₄ + 0.447213595499958⋅√2⋅x₀⋅x\n₁₅ - 0.447213595499958⋅√2⋅x₀⋅x₉ - 0.447213595499958⋅√2⋅x₁⋅x₁₀ - 0.247213595499\n958⋅x₁⋅x₁₁ + 0.2⋅√2⋅x₁⋅x₁₂ + 0.647213595499958⋅x₁⋅x₁₃ + 0.447213595499958⋅√2⋅x\n₁⋅x₁₄ + 0.247213595499958⋅x₁⋅x₁₅ - 0.2⋅√2⋅x₁⋅x₈ - 0.647213595499958⋅x₁⋅x₉ - 0.\n8⋅√2⋅x₁ + 0.447213595499958⋅√2⋅x₁₀⋅x₃ + 0.894427190999916⋅x₁₀⋅x₄ + 0.447213595\n499958⋅√2⋅x₁₀⋅x₅ - 0.447213595499958⋅√2⋅x₁₀⋅x₇ + 0.2⋅√2⋅x₁₁⋅x₂ + 0.64721359549\n9958⋅x₁₁⋅x₃ + 0.447213595499958⋅√2⋅x₁₁⋅x₄ + 0.247213595499958⋅x₁₁⋅x₅ - 0.2⋅√2⋅\nx₁₁⋅x₆ - 0.647213595499958⋅x₁₁⋅x₇ + 0.4⋅x₁₂⋅x₂ + 0.2⋅√2⋅x₁₂⋅x₃ - 0.2⋅√2⋅x₁₂⋅x₅\n - 0.4⋅x₁₂⋅x₆ - 0.2⋅√2⋅x₁₂⋅x₇ + 0.2⋅√2⋅x₁₃⋅x₂ - 0.247213595499958⋅x₁₃⋅x₃ - 0.4\n47213595499958⋅√2⋅x₁₃⋅x₄ - 0.647213595499958⋅x₁₃⋅x₅ - 0.2⋅√2⋅x₁₃⋅x₆ + 0.247213\n595499958⋅x₁₃⋅x₇ - 0.447213595499958⋅√2⋅x₁₄⋅x₃ - 0.894427190999916⋅x₁₄⋅x₄ - 0.\n447213595499958⋅√2⋅x₁₄⋅x₅ + 0.447213595499958⋅√2⋅x₁₄⋅x₇ - 0.2⋅√2⋅x₁₅⋅x₂ - 0.64\n7213595499958⋅x₁₅⋅x₃ - 0.447213595499958⋅√2⋅x₁₅⋅x₄ - 0.247213595499958⋅x₁₅⋅x₅ \n+ 0.2⋅√2⋅x₁₅⋅x₆ + 0.647213595499958⋅x₁₅⋅x₇ - 0.4⋅x₂⋅x₈ - 0.2⋅√2⋅x₂⋅x₉ - 1.6⋅x₂\n - 0.2⋅√2⋅x₃⋅x₈ + 0.247213595499958⋅x₃⋅x₉ - 0.8⋅√2⋅x₃ + 0.447213595499958⋅√2⋅x\n₄⋅x₉ + 0.2⋅√2⋅x₅⋅x₈ + 0.647213595499958⋅x₅⋅x₉ + 0.8⋅√2⋅x₅ + 0.4⋅x₆⋅x₈ + 0.2⋅√2\n⋅x₆⋅x₉ + 1.6⋅x₆ + 0.2⋅√2⋅x₇⋅x₈ - 0.247213595499958⋅x₇⋅x₉ + 0.8⋅√2⋅x₇]}\n"
     ]
    }
   ],
   "source": [
    "sp.pprint(coords_dict)"
   ]
  },
  {
   "source": [
    "# Functions to generate the optimization contraint in hubo"
   ],
   "cell_type": "markdown",
   "metadata": {}
  },
  {
   "cell_type": "code",
   "execution_count": 70,
   "metadata": {},
   "outputs": [],
   "source": [
    "def distance_squared(first_coords, second_coords):\n",
    "    dis_sq = sp.expand((second_coords[0] - first_coords[0])**2 + (second_coords[1] - first_coords[1])**2 +(second_coords[2] - first_coords[2])**2)\n",
    "    return dis_sq\n",
    "\n",
    "def generate_distance_hubo():\n",
    "    distance_sq = 0\n",
    "    for pair in distance_pairs:\n",
    "        distance_sq += distance_squared(coords_dict[pair[0]], coords_dict[pair[1]])\n",
    "    return distance_sq.expand()"
   ]
  },
  {
   "cell_type": "code",
   "execution_count": 71,
   "metadata": {
    "tags": [
     "outputPrepend"
    ]
   },
   "outputs": [
    {
     "output_type": "stream",
     "name": "stdout",
     "text": [
      "⋅x₉ - 3.84⋅x₁₁⋅x₄⋅x₅ + 0.96⋅x₁₁⋅x₄⋅x₇⋅x₈ - 1.92⋅√2⋅x₁₁⋅x₄⋅x₇⋅\n\n                                                    2                 2       \nx₉ + 3.84⋅x₁₁⋅x₄⋅x₇ - 0.4⋅√2⋅x₁₁⋅x₄ - 0.48⋅√2⋅x₁₁⋅x₅ ⋅x₈ + 1.92⋅x₁₁⋅x₅ ⋅x₉ - 1\n\n             2                                                                \n.92⋅√2⋅x₁₁⋅x₅  - 0.96⋅x₁₁⋅x₅⋅x₆⋅x₈ + 1.92⋅√2⋅x₁₁⋅x₅⋅x₆⋅x₉ - 3.84⋅x₁₁⋅x₅⋅x₆ - 1\n\n                                       2                 2                    \n.29442719099992⋅x₁₁⋅x₅ - 0.48⋅√2⋅x₁₁⋅x₆ ⋅x₈ + 1.92⋅x₁₁⋅x₆ ⋅x₉ - 1.92⋅√2⋅x₁₁⋅x₆\n\n2                                                                             \n  - 0.96⋅x₁₁⋅x₆⋅x₇⋅x₈ + 1.92⋅√2⋅x₁₁⋅x₆⋅x₇⋅x₉ - 3.84⋅x₁₁⋅x₆⋅x₇ - 0.894427190999\n\n                              2                 2                    2        \n916⋅√2⋅x₁₁⋅x₆ - 0.48⋅√2⋅x₁₁⋅x₇ ⋅x₈ + 1.92⋅x₁₁⋅x₇ ⋅x₉ - 1.92⋅√2⋅x₁₁⋅x₇  - 0.494\n\n                                                                           2  \n427190999916⋅x₁₁⋅x₇ - 1.92⋅√2⋅x₁₁⋅x₈ - 1.92⋅x₁₁⋅x₉ + 3.92⋅√2⋅x₁₁ + 0.48⋅x₁₂ ⋅x\n\n 2              2                    2                 2                    2 \n₂  + 0.48⋅√2⋅x₁₂ ⋅x₂⋅x₃ - 0.48⋅√2⋅x₁₂ ⋅x₂⋅x₅ - 0.96⋅x₁₂ ⋅x₂⋅x₆ - 0.48⋅√2⋅x₁₂ ⋅\n\n                2   2              2                    2                 2   \nx₂⋅x₇ + 0.48⋅x₁₂ ⋅x₃  + 0.48⋅√2⋅x₁₂ ⋅x₃⋅x₄ - 0.48⋅√2⋅x₁₂ ⋅x₃⋅x₆ - 0.96⋅x₁₂ ⋅x₃\n\n              2   2              2                    2                 2   2 \n⋅x₇ + 0.48⋅x₁₂ ⋅x₄  + 0.48⋅√2⋅x₁₂ ⋅x₄⋅x₅ - 0.48⋅√2⋅x₁₂ ⋅x₄⋅x₇ + 0.48⋅x₁₂ ⋅x₅  \n\n             2                 2   2              2                 2   2     \n+ 0.48⋅√2⋅x₁₂ ⋅x₅⋅x₆ + 0.48⋅x₁₂ ⋅x₆  + 0.48⋅√2⋅x₁₂ ⋅x₆⋅x₇ + 0.48⋅x₁₂ ⋅x₇  + 1.\n\n      2                     2                                                 \n92⋅x₁₂  + 0.48⋅√2⋅x₁₂⋅x₁₃⋅x₂  + 0.96⋅x₁₂⋅x₁₃⋅x₂⋅x₃ - 0.96⋅x₁₂⋅x₁₃⋅x₂⋅x₅ - 0.96\n\n                                                           2                  \n⋅√2⋅x₁₂⋅x₁₃⋅x₂⋅x₆ - 0.96⋅x₁₂⋅x₁₃⋅x₂⋅x₇ + 0.48⋅√2⋅x₁₂⋅x₁₃⋅x₃  + 0.96⋅x₁₂⋅x₁₃⋅x₃\n\n                                                                              \n⋅x₄ - 0.96⋅x₁₂⋅x₁₃⋅x₃⋅x₆ - 0.960000000000001⋅√2⋅x₁₂⋅x₁₃⋅x₃⋅x₇ + 0.48⋅√2⋅x₁₂⋅x₁\n\n    2                                                               2         \n₃⋅x₄  + 0.96⋅x₁₂⋅x₁₃⋅x₄⋅x₅ - 0.96⋅x₁₂⋅x₁₃⋅x₄⋅x₇ + 0.48⋅√2⋅x₁₂⋅x₁₃⋅x₅  + 0.96⋅x\n\n                                 2                                          2 \n₁₂⋅x₁₃⋅x₅⋅x₆ + 0.48⋅√2⋅x₁₂⋅x₁₃⋅x₆  + 0.96⋅x₁₂⋅x₁₃⋅x₆⋅x₇ + 0.48⋅√2⋅x₁₂⋅x₁₃⋅x₇  \n\n                                      2                                       \n+ 1.92⋅√2⋅x₁₂⋅x₁₃ - 0.48⋅√2⋅x₁₂⋅x₁₅⋅x₂  - 0.96⋅x₁₂⋅x₁₅⋅x₂⋅x₃ + 0.96⋅x₁₂⋅x₁₅⋅x₂\n\n                                                                     2        \n⋅x₅ + 0.96⋅√2⋅x₁₂⋅x₁₅⋅x₂⋅x₆ + 0.96⋅x₁₂⋅x₁₅⋅x₂⋅x₇ - 0.48⋅√2⋅x₁₂⋅x₁₅⋅x₃  - 0.96⋅\n\n                                                                              \nx₁₂⋅x₁₅⋅x₃⋅x₄ + 0.96⋅x₁₂⋅x₁₅⋅x₃⋅x₆ + 0.960000000000001⋅√2⋅x₁₂⋅x₁₅⋅x₃⋅x₇ - 0.48\n\n              2                                                               \n⋅√2⋅x₁₂⋅x₁₅⋅x₄  - 0.96⋅x₁₂⋅x₁₅⋅x₄⋅x₅ + 0.96⋅x₁₂⋅x₁₅⋅x₄⋅x₇ - 0.48⋅√2⋅x₁₂⋅x₁₅⋅x₅\n\n2                                          2                                  \n  - 0.96⋅x₁₂⋅x₁₅⋅x₅⋅x₆ - 0.48⋅√2⋅x₁₂⋅x₁₅⋅x₆  - 0.96⋅x₁₂⋅x₁₅⋅x₆⋅x₇ - 0.48⋅√2⋅x₁\n\n        2                                2                    2               \n₂⋅x₁₅⋅x₇  - 1.92⋅√2⋅x₁₂⋅x₁₅ - 0.96⋅x₁₂⋅x₂ ⋅x₈ - 0.48⋅√2⋅x₁₂⋅x₂ ⋅x₉ - 3.84⋅x₁₂⋅\n\n  2                                                                           \nx₂  - 0.96⋅√2⋅x₁₂⋅x₂⋅x₃⋅x₈ - 0.96⋅x₁₂⋅x₂⋅x₃⋅x₉ - 3.84⋅√2⋅x₁₂⋅x₂⋅x₃ + 0.96⋅√2⋅x\n\n                                                                              \n₁₂⋅x₂⋅x₅⋅x₈ + 0.96⋅x₁₂⋅x₂⋅x₅⋅x₉ + 3.84⋅√2⋅x₁₂⋅x₂⋅x₅ + 1.92⋅x₁₂⋅x₂⋅x₆⋅x₈ + 0.96\n\n                                                                              \n⋅√2⋅x₁₂⋅x₂⋅x₆⋅x₉ + 7.68⋅x₁₂⋅x₂⋅x₆ + 0.96⋅√2⋅x₁₂⋅x₂⋅x₇⋅x₈ + 0.96⋅x₁₂⋅x₂⋅x₇⋅x₉ +\n\n                                2                    2                 2      \n 3.84⋅√2⋅x₁₂⋅x₂⋅x₇ - 0.96⋅x₁₂⋅x₃ ⋅x₈ - 0.48⋅√2⋅x₁₂⋅x₃ ⋅x₉ - 3.84⋅x₁₂⋅x₃  - 0.9\n\n                                                                              \n6⋅√2⋅x₁₂⋅x₃⋅x₄⋅x₈ - 0.96⋅x₁₂⋅x₃⋅x₄⋅x₉ - 3.84⋅√2⋅x₁₂⋅x₃⋅x₄ + 0.96⋅√2⋅x₁₂⋅x₃⋅x₆⋅\n\n                                                                              \nx₈ + 0.96⋅x₁₂⋅x₃⋅x₆⋅x₉ + 3.84⋅√2⋅x₁₂⋅x₃⋅x₆ + 1.92⋅x₁₂⋅x₃⋅x₇⋅x₈ + 0.96000000000\n\n                                                                   2          \n0001⋅√2⋅x₁₂⋅x₃⋅x₇⋅x₉ + 7.68⋅x₁₂⋅x₃⋅x₇ - 0.4⋅√2⋅x₁₂⋅x₃ - 0.96⋅x₁₂⋅x₄ ⋅x₈ - 0.48\n\n          2                 2                                                 \n⋅√2⋅x₁₂⋅x₄ ⋅x₉ - 3.84⋅x₁₂⋅x₄  - 0.96⋅√2⋅x₁₂⋅x₄⋅x₅⋅x₈ - 0.96⋅x₁₂⋅x₄⋅x₅⋅x₉ - 3.8\n\n                                                                              \n4⋅√2⋅x₁₂⋅x₄⋅x₅ + 0.96⋅√2⋅x₁₂⋅x₄⋅x₇⋅x₈ + 0.96⋅x₁₂⋅x₄⋅x₇⋅x₉ + 3.84⋅√2⋅x₁₂⋅x₄⋅x₇ \n\n                          2                    2                 2            \n- 0.8⋅x₁₂⋅x₄ - 0.96⋅x₁₂⋅x₅ ⋅x₈ - 0.48⋅√2⋅x₁₂⋅x₅ ⋅x₉ - 3.84⋅x₁₂⋅x₅  - 0.96⋅√2⋅x\n\n                                                                              \n₁₂⋅x₅⋅x₆⋅x₈ - 0.96⋅x₁₂⋅x₅⋅x₆⋅x₉ - 3.84⋅√2⋅x₁₂⋅x₅⋅x₆ - 0.4⋅√2⋅x₁₂⋅x₅ - 0.96⋅x₁₂\n\n   2                    2                 2                                   \n⋅x₆ ⋅x₈ - 0.48⋅√2⋅x₁₂⋅x₆ ⋅x₉ - 3.84⋅x₁₂⋅x₆  - 0.96⋅√2⋅x₁₂⋅x₆⋅x₇⋅x₈ - 0.96⋅x₁₂⋅\n\n                                          2                    2              \nx₆⋅x₇⋅x₉ - 3.84⋅√2⋅x₁₂⋅x₆⋅x₇ - 0.96⋅x₁₂⋅x₇ ⋅x₈ - 0.48⋅√2⋅x₁₂⋅x₇ ⋅x₉ - 3.84⋅x₁₂\n\n   2                                                                     2   2\n⋅x₇  + 0.4⋅√2⋅x₁₂⋅x₇ - 3.84⋅x₁₂⋅x₈ - 1.92⋅√2⋅x₁₂⋅x₉ + 7.84⋅x₁₂ + 1.44⋅x₁₃ ⋅x₂ \n\n              2                    2                 2                    2   \n + 1.44⋅√2⋅x₁₃ ⋅x₂⋅x₃ - 1.44⋅√2⋅x₁₃ ⋅x₂⋅x₅ - 2.88⋅x₁₃ ⋅x₂⋅x₆ - 1.44⋅√2⋅x₁₃ ⋅x₂\n\n              2   2              2                    2                 2     \n⋅x₇ + 1.44⋅x₁₃ ⋅x₃  + 1.44⋅√2⋅x₁₃ ⋅x₃⋅x₄ - 1.44⋅√2⋅x₁₃ ⋅x₃⋅x₆ - 2.88⋅x₁₃ ⋅x₃⋅x\n\n            2   2              2                    2                 2   2   \n₇ + 1.44⋅x₁₃ ⋅x₄  + 1.44⋅√2⋅x₁₃ ⋅x₄⋅x₅ - 1.44⋅√2⋅x₁₃ ⋅x₄⋅x₇ + 1.44⋅x₁₃ ⋅x₅  + \n\n           2                 2   2              2                 2   2       \n1.44⋅√2⋅x₁₃ ⋅x₅⋅x₆ + 1.44⋅x₁₃ ⋅x₆  + 1.44⋅√2⋅x₁₃ ⋅x₆⋅x₇ + 1.44⋅x₁₃ ⋅x₇  + 0.96\n\n    2                    2                                                    \n⋅x₁₃  + 2.4⋅√2⋅x₁₃⋅x₁₄⋅x₂  + 4.8⋅x₁₃⋅x₁₄⋅x₂⋅x₃ - 4.8⋅x₁₃⋅x₁₄⋅x₂⋅x₅ - 4.8⋅√2⋅x₁\n\n                                                   2                          \n₃⋅x₁₄⋅x₂⋅x₆ - 4.8⋅x₁₃⋅x₁₄⋅x₂⋅x₇ + 2.4⋅√2⋅x₁₃⋅x₁₄⋅x₃  + 4.8⋅x₁₃⋅x₁₄⋅x₃⋅x₄ - 4.8\n\n                                                         2                    \n⋅x₁₃⋅x₁₄⋅x₃⋅x₆ - 4.8⋅√2⋅x₁₃⋅x₁₄⋅x₃⋅x₇ + 2.4⋅√2⋅x₁₃⋅x₁₄⋅x₄  + 4.8⋅x₁₃⋅x₁₄⋅x₄⋅x₅\n\n                                        2                                     \n - 4.8⋅x₁₃⋅x₁₄⋅x₄⋅x₇ + 2.4⋅√2⋅x₁₃⋅x₁₄⋅x₅  + 4.8⋅x₁₃⋅x₁₄⋅x₅⋅x₆ + 2.4⋅√2⋅x₁₃⋅x₁₄\n\n   2                                        2                  2              \n⋅x₆  + 4.8⋅x₁₃⋅x₁₄⋅x₆⋅x₇ + 2.4⋅√2⋅x₁₃⋅x₁₄⋅x₇  + 1.92⋅x₁₃⋅x₁₅⋅x₂  + 1.92⋅√2⋅x₁₃\n\n                                                                              \n⋅x₁₅⋅x₂⋅x₃ - 1.92⋅√2⋅x₁₃⋅x₁₅⋅x₂⋅x₅ - 3.84⋅x₁₃⋅x₁₅⋅x₂⋅x₆ - 1.92⋅√2⋅x₁₃⋅x₁₅⋅x₂⋅x\n\n                   2                                                          \n₇ + 1.92⋅x₁₃⋅x₁₅⋅x₃  + 1.92⋅√2⋅x₁₃⋅x₁₅⋅x₃⋅x₄ - 1.92⋅√2⋅x₁₃⋅x₁₅⋅x₃⋅x₆ - 3.84⋅x₁\n\n                             2                                                \n₃⋅x₁₅⋅x₃⋅x₇ + 1.92⋅x₁₃⋅x₁₅⋅x₄  + 1.92⋅√2⋅x₁₃⋅x₁₅⋅x₄⋅x₅ - 1.92⋅√2⋅x₁₃⋅x₁₅⋅x₄⋅x₇\n\n                  2                                          2                \n + 1.92⋅x₁₃⋅x₁₅⋅x₅  + 1.92⋅√2⋅x₁₃⋅x₁₅⋅x₅⋅x₆ + 1.92⋅x₁₃⋅x₁₅⋅x₆  + 1.92⋅√2⋅x₁₃⋅x\n\n                          2                                2                 2\n₁₅⋅x₆⋅x₇ + 1.92⋅x₁₃⋅x₁₅⋅x₇  - 1.92⋅x₁₃⋅x₁₅ - 0.48⋅√2⋅x₁₃⋅x₂ ⋅x₈ - 2.88⋅x₁₃⋅x₂ \n\n                    2                                                         \n⋅x₉ - 1.92⋅√2⋅x₁₃⋅x₂  - 0.96⋅x₁₃⋅x₂⋅x₃⋅x₈ - 2.88⋅√2⋅x₁₃⋅x₂⋅x₃⋅x₉ - 3.84⋅x₁₃⋅x₂\n\n                                                                              \n⋅x₃ + 0.96⋅x₁₃⋅x₂⋅x₅⋅x₈ + 2.88⋅√2⋅x₁₃⋅x₂⋅x₅⋅x₉ + 3.84⋅x₁₃⋅x₂⋅x₅ + 0.96⋅√2⋅x₁₃⋅\n\n                                                                              \nx₂⋅x₆⋅x₈ + 5.76⋅x₁₃⋅x₂⋅x₆⋅x₉ + 3.84⋅√2⋅x₁₃⋅x₂⋅x₆ + 0.96⋅x₁₃⋅x₂⋅x₇⋅x₈ + 2.88⋅√2\n\n                                                                             2\n⋅x₁₃⋅x₂⋅x₇⋅x₉ + 3.84⋅x₁₃⋅x₂⋅x₇ - 0.894427190999916⋅√2⋅x₁₃⋅x₂ - 0.48⋅√2⋅x₁₃⋅x₃ \n\n                 2                    2                                       \n⋅x₈ - 2.88⋅x₁₃⋅x₃ ⋅x₉ - 1.92⋅√2⋅x₁₃⋅x₃  - 0.96⋅x₁₃⋅x₃⋅x₄⋅x₈ - 2.88⋅√2⋅x₁₃⋅x₃⋅x\n\n                                                                              \n₄⋅x₉ - 3.84⋅x₁₃⋅x₃⋅x₄ + 0.96⋅x₁₃⋅x₃⋅x₆⋅x₈ + 2.88⋅√2⋅x₁₃⋅x₃⋅x₆⋅x₉ + 3.84⋅x₁₃⋅x₃\n\n                                                                              \n⋅x₆ + 0.960000000000001⋅√2⋅x₁₃⋅x₃⋅x₇⋅x₈ + 5.76⋅x₁₃⋅x₃⋅x₇⋅x₉ + 3.84⋅√2⋅x₁₃⋅x₃⋅x\n\n                                            2                 2               \n₇ - 1.29442719099992⋅x₁₃⋅x₃ - 0.48⋅√2⋅x₁₃⋅x₄ ⋅x₈ - 2.88⋅x₁₃⋅x₄ ⋅x₉ - 1.92⋅√2⋅x\n\n     2                                                                        \n₁₃⋅x₄  - 0.96⋅x₁₃⋅x₄⋅x₅⋅x₈ - 2.88⋅√2⋅x₁₃⋅x₄⋅x₅⋅x₉ - 3.84⋅x₁₃⋅x₄⋅x₅ + 0.96⋅x₁₃⋅\n\n                                                                              \nx₄⋅x₇⋅x₈ + 2.88⋅√2⋅x₁₃⋅x₄⋅x₇⋅x₉ + 3.84⋅x₁₃⋅x₄⋅x₇ - 0.4⋅√2⋅x₁₃⋅x₄ - 0.48⋅√2⋅x₁₃\n\n   2                 2                    2                                   \n⋅x₅ ⋅x₈ - 2.88⋅x₁₃⋅x₅ ⋅x₉ - 1.92⋅√2⋅x₁₃⋅x₅  - 0.96⋅x₁₃⋅x₅⋅x₆⋅x₈ - 2.88⋅√2⋅x₁₃⋅\n\n                                                                     2        \nx₅⋅x₆⋅x₉ - 3.84⋅x₁₃⋅x₅⋅x₆ + 0.494427190999916⋅x₁₃⋅x₅ - 0.48⋅√2⋅x₁₃⋅x₆ ⋅x₈ - 2.\n\n         2                    2                                               \n88⋅x₁₃⋅x₆ ⋅x₉ - 1.92⋅√2⋅x₁₃⋅x₆  - 0.96⋅x₁₃⋅x₆⋅x₇⋅x₈ - 2.88⋅√2⋅x₁₃⋅x₆⋅x₇⋅x₉ - 3\n\n                                                            2                 \n.84⋅x₁₃⋅x₆⋅x₇ + 0.894427190999916⋅√2⋅x₁₃⋅x₆ - 0.48⋅√2⋅x₁₃⋅x₇ ⋅x₈ - 2.88⋅x₁₃⋅x₇\n\n2                    2                                                        \n ⋅x₉ - 1.92⋅√2⋅x₁₃⋅x₇  + 1.29442719099992⋅x₁₃⋅x₇ - 1.92⋅√2⋅x₁₃⋅x₈ - 1.92⋅x₁₃⋅x\n\n                         2   2             2                   2              \n₉ + 3.92⋅√2⋅x₁₃ + 2.4⋅x₁₄ ⋅x₂  + 2.4⋅√2⋅x₁₄ ⋅x₂⋅x₃ - 2.4⋅√2⋅x₁₄ ⋅x₂⋅x₅ - 4.8⋅x\n\n  2                   2                2   2             2                   2\n₁₄ ⋅x₂⋅x₆ - 2.4⋅√2⋅x₁₄ ⋅x₂⋅x₇ + 2.4⋅x₁₄ ⋅x₃  + 2.4⋅√2⋅x₁₄ ⋅x₃⋅x₄ - 2.4⋅√2⋅x₁₄ \n\n                2                2   2             2                   2      \n⋅x₃⋅x₆ - 4.8⋅x₁₄ ⋅x₃⋅x₇ + 2.4⋅x₁₄ ⋅x₄  + 2.4⋅√2⋅x₁₄ ⋅x₄⋅x₅ - 2.4⋅√2⋅x₁₄ ⋅x₄⋅x₇\n\n          2   2             2                2   2             2              \n + 2.4⋅x₁₄ ⋅x₅  + 2.4⋅√2⋅x₁₄ ⋅x₅⋅x₆ + 2.4⋅x₁₄ ⋅x₆  + 2.4⋅√2⋅x₁₄ ⋅x₆⋅x₇ + 2.4⋅x\n\n  2   2                    2                                                  \n₁₄ ⋅x₇  + 2.4⋅√2⋅x₁₄⋅x₁₅⋅x₂  + 4.8⋅x₁₄⋅x₁₅⋅x₂⋅x₃ - 4.8⋅x₁₄⋅x₁₅⋅x₂⋅x₅ - 4.8⋅√2⋅\n\n                                                     2                        \nx₁₄⋅x₁₅⋅x₂⋅x₆ - 4.8⋅x₁₄⋅x₁₅⋅x₂⋅x₇ + 2.4⋅√2⋅x₁₄⋅x₁₅⋅x₃  + 4.8⋅x₁₄⋅x₁₅⋅x₃⋅x₄ - 4\n\n                                                           2                  \n.8⋅x₁₄⋅x₁₅⋅x₃⋅x₆ - 4.8⋅√2⋅x₁₄⋅x₁₅⋅x₃⋅x₇ + 2.4⋅√2⋅x₁₄⋅x₁₅⋅x₄  + 4.8⋅x₁₄⋅x₁₅⋅x₄⋅\n\n                                          2                                   \nx₅ - 4.8⋅x₁₄⋅x₁₅⋅x₄⋅x₇ + 2.4⋅√2⋅x₁₄⋅x₁₅⋅x₅  + 4.8⋅x₁₄⋅x₁₅⋅x₅⋅x₆ + 2.4⋅√2⋅x₁₄⋅x\n\n     2                                        2                2              \n₁₅⋅x₆  + 4.8⋅x₁₄⋅x₁₅⋅x₆⋅x₇ + 2.4⋅√2⋅x₁₄⋅x₁₅⋅x₇  - 2.4⋅√2⋅x₁₄⋅x₂ ⋅x₉ - 4.8⋅x₁₄⋅\n\n                                                                              \nx₂⋅x₃⋅x₉ + 4.8⋅x₁₄⋅x₂⋅x₅⋅x₉ + 4.8⋅√2⋅x₁₄⋅x₂⋅x₆⋅x₉ + 4.8⋅x₁₄⋅x₂⋅x₇⋅x₉ - 1.78885\n\n                                2                                             \n438199983⋅x₁₄⋅x₂ - 2.4⋅√2⋅x₁₄⋅x₃ ⋅x₉ - 4.8⋅x₁₄⋅x₃⋅x₄⋅x₉ + 4.8⋅x₁₄⋅x₃⋅x₆⋅x₉ + 4\n\n                                                                2             \n.8⋅√2⋅x₁₄⋅x₃⋅x₇⋅x₉ - 0.894427190999916⋅√2⋅x₁₄⋅x₃ - 2.4⋅√2⋅x₁₄⋅x₄ ⋅x₉ - 4.8⋅x₁₄\n\n                                            2                                 \n⋅x₄⋅x₅⋅x₉ + 4.8⋅x₁₄⋅x₄⋅x₇⋅x₉ - 2.4⋅√2⋅x₁₄⋅x₅ ⋅x₉ - 4.8⋅x₁₄⋅x₅⋅x₆⋅x₉ + 0.894427\n\n                                   2                                          \n190999916⋅√2⋅x₁₄⋅x₅ - 2.4⋅√2⋅x₁₄⋅x₆ ⋅x₉ - 4.8⋅x₁₄⋅x₆⋅x₇⋅x₉ + 1.78885438199983⋅\n\n                      2                                            2   2      \nx₁₄⋅x₆ - 2.4⋅√2⋅x₁₄⋅x₇ ⋅x₉ + 0.894427190999916⋅√2⋅x₁₄⋅x₇ + 1.44⋅x₁₅ ⋅x₂  + 1.4\n\n        2                    2                 2                    2         \n4⋅√2⋅x₁₅ ⋅x₂⋅x₃ - 1.44⋅√2⋅x₁₅ ⋅x₂⋅x₅ - 2.88⋅x₁₅ ⋅x₂⋅x₆ - 1.44⋅√2⋅x₁₅ ⋅x₂⋅x₇ + \n\n        2   2              2                    2                 2           \n1.44⋅x₁₅ ⋅x₃  + 1.44⋅√2⋅x₁₅ ⋅x₃⋅x₄ - 1.44⋅√2⋅x₁₅ ⋅x₃⋅x₆ - 2.88⋅x₁₅ ⋅x₃⋅x₇ + 1.\n\n      2   2              2                    2                 2   2         \n44⋅x₁₅ ⋅x₄  + 1.44⋅√2⋅x₁₅ ⋅x₄⋅x₅ - 1.44⋅√2⋅x₁₅ ⋅x₄⋅x₇ + 1.44⋅x₁₅ ⋅x₅  + 1.44⋅√\n\n     2                 2   2              2                 2   2           2 \n2⋅x₁₅ ⋅x₅⋅x₆ + 1.44⋅x₁₅ ⋅x₆  + 1.44⋅√2⋅x₁₅ ⋅x₆⋅x₇ + 1.44⋅x₁₅ ⋅x₇  + 0.96⋅x₁₅  \n\n                2                 2                    2                      \n+ 0.48⋅√2⋅x₁₅⋅x₂ ⋅x₈ - 1.92⋅x₁₅⋅x₂ ⋅x₉ + 1.92⋅√2⋅x₁₅⋅x₂  + 0.96⋅x₁₅⋅x₂⋅x₃⋅x₈ -\n\n                                                                              \n 1.92⋅√2⋅x₁₅⋅x₂⋅x₃⋅x₉ + 3.84⋅x₁₅⋅x₂⋅x₃ - 0.96⋅x₁₅⋅x₂⋅x₅⋅x₈ + 1.92⋅√2⋅x₁₅⋅x₂⋅x₅\n\n                                                                              \n⋅x₉ - 3.84⋅x₁₅⋅x₂⋅x₅ - 0.96⋅√2⋅x₁₅⋅x₂⋅x₆⋅x₈ + 3.84⋅x₁₅⋅x₂⋅x₆⋅x₉ - 3.84⋅√2⋅x₁₅⋅\n\n                                                                              \nx₂⋅x₆ - 0.96⋅x₁₅⋅x₂⋅x₇⋅x₈ + 1.92⋅√2⋅x₁₅⋅x₂⋅x₇⋅x₉ - 3.84⋅x₁₅⋅x₂⋅x₇ - 0.89442719\n\n                                  2                 2                    2    \n0999916⋅√2⋅x₁₅⋅x₂ + 0.48⋅√2⋅x₁₅⋅x₃ ⋅x₈ - 1.92⋅x₁₅⋅x₃ ⋅x₉ + 1.92⋅√2⋅x₁₅⋅x₃  + 0\n\n                                                                              \n.96⋅x₁₅⋅x₃⋅x₄⋅x₈ - 1.92⋅√2⋅x₁₅⋅x₃⋅x₄⋅x₉ + 3.84⋅x₁₅⋅x₃⋅x₄ - 0.96⋅x₁₅⋅x₃⋅x₆⋅x₈ +\n\n                                                                              \n 1.92⋅√2⋅x₁₅⋅x₃⋅x₆⋅x₉ - 3.84⋅x₁₅⋅x₃⋅x₆ - 0.960000000000001⋅√2⋅x₁₅⋅x₃⋅x₇⋅x₈ + 3\n\n                                                                              \n.84⋅x₁₅⋅x₃⋅x₇⋅x₉ - 3.84⋅√2⋅x₁₅⋅x₃⋅x₇ - 0.494427190999916⋅x₁₅⋅x₃ + 0.48⋅√2⋅x₁₅⋅\n\n  2                 2                    2                                    \nx₄ ⋅x₈ - 1.92⋅x₁₅⋅x₄ ⋅x₉ + 1.92⋅√2⋅x₁₅⋅x₄  + 0.96⋅x₁₅⋅x₄⋅x₅⋅x₈ - 1.92⋅√2⋅x₁₅⋅x\n\n                                                                              \n₄⋅x₅⋅x₉ + 3.84⋅x₁₅⋅x₄⋅x₅ - 0.96⋅x₁₅⋅x₄⋅x₇⋅x₈ + 1.92⋅√2⋅x₁₅⋅x₄⋅x₇⋅x₉ - 3.84⋅x₁₅\n\n                                       2                 2                    \n⋅x₄⋅x₇ + 0.4⋅√2⋅x₁₅⋅x₄ + 0.48⋅√2⋅x₁₅⋅x₅ ⋅x₈ - 1.92⋅x₁₅⋅x₅ ⋅x₉ + 1.92⋅√2⋅x₁₅⋅x₅\n\n2                                                                             \n  + 0.96⋅x₁₅⋅x₅⋅x₆⋅x₈ - 1.92⋅√2⋅x₁₅⋅x₅⋅x₆⋅x₉ + 3.84⋅x₁₅⋅x₅⋅x₆ + 1.294427190999\n\n                          2                 2                    2            \n92⋅x₁₅⋅x₅ + 0.48⋅√2⋅x₁₅⋅x₆ ⋅x₈ - 1.92⋅x₁₅⋅x₆ ⋅x₉ + 1.92⋅√2⋅x₁₅⋅x₆  + 0.96⋅x₁₅⋅\n\n                                                                              \nx₆⋅x₇⋅x₈ - 1.92⋅√2⋅x₁₅⋅x₆⋅x₇⋅x₉ + 3.84⋅x₁₅⋅x₆⋅x₇ + 0.894427190999916⋅√2⋅x₁₅⋅x₆\n\n                 2                 2                    2                     \n + 0.48⋅√2⋅x₁₅⋅x₇ ⋅x₈ - 1.92⋅x₁₅⋅x₇ ⋅x₉ + 1.92⋅√2⋅x₁₅⋅x₇  + 0.494427190999916⋅\n\n                                                             2   2            \nx₁₅⋅x₇ + 1.92⋅√2⋅x₁₅⋅x₈ + 1.92⋅x₁₅⋅x₉ - 3.92⋅√2⋅x₁₅ + 0.48⋅x₂ ⋅x₈  + 0.48⋅√2⋅x\n\n 2                2             2   2             2             2             \n₂ ⋅x₈⋅x₉ + 3.84⋅x₂ ⋅x₈ + 1.44⋅x₂ ⋅x₉  + 1.92⋅√2⋅x₂ ⋅x₉ + 9.68⋅x₂  + 0.48⋅√2⋅x₂\n\n      2                                                         2             \n⋅x₃⋅x₈  + 0.96⋅x₂⋅x₃⋅x₈⋅x₉ + 3.84⋅√2⋅x₂⋅x₃⋅x₈ + 1.44⋅√2⋅x₂⋅x₃⋅x₉  + 3.84⋅x₂⋅x₃\n\n                                      2                                       \n⋅x₉ + 9.68⋅√2⋅x₂⋅x₃ - 0.48⋅√2⋅x₂⋅x₅⋅x₈  - 0.96⋅x₂⋅x₅⋅x₈⋅x₉ - 3.84⋅√2⋅x₂⋅x₅⋅x₈ \n\n                  2                                                2          \n- 1.44⋅√2⋅x₂⋅x₅⋅x₉  - 3.84⋅x₂⋅x₅⋅x₉ - 9.68⋅√2⋅x₂⋅x₅ - 0.96⋅x₂⋅x₆⋅x₈  - 0.96⋅√2\n\n                                            2                                 \n⋅x₂⋅x₆⋅x₈⋅x₉ - 7.68⋅x₂⋅x₆⋅x₈ - 2.88⋅x₂⋅x₆⋅x₉  - 3.84⋅√2⋅x₂⋅x₆⋅x₉ - 19.36⋅x₂⋅x₆\n\n                   2                                                         2\n - 0.48⋅√2⋅x₂⋅x₇⋅x₈  - 0.96⋅x₂⋅x₇⋅x₈⋅x₉ - 3.84⋅√2⋅x₂⋅x₇⋅x₈ - 1.44⋅√2⋅x₂⋅x₇⋅x₉ \n\n                                                                       2   2  \n - 3.84⋅x₂⋅x₇⋅x₉ - 9.68⋅√2⋅x₂⋅x₇ + 0.894427190999916⋅√2⋅x₂⋅x₉ + 0.48⋅x₃ ⋅x₈  +\n\n           2                2             2   2             2             2   \n 0.48⋅√2⋅x₃ ⋅x₈⋅x₉ + 3.84⋅x₃ ⋅x₈ + 1.44⋅x₃ ⋅x₉  + 1.92⋅√2⋅x₃ ⋅x₉ + 9.68⋅x₃  + \n\n                2                                                         2   \n0.48⋅√2⋅x₃⋅x₄⋅x₈  + 0.96⋅x₃⋅x₄⋅x₈⋅x₉ + 3.84⋅√2⋅x₃⋅x₄⋅x₈ + 1.44⋅√2⋅x₃⋅x₄⋅x₉  + \n\n                                                2                             \n3.84⋅x₃⋅x₄⋅x₉ + 9.68⋅√2⋅x₃⋅x₄ - 0.48⋅√2⋅x₃⋅x₆⋅x₈  - 0.96⋅x₃⋅x₆⋅x₈⋅x₉ - 3.84⋅√2\n\n                            2                                                2\n⋅x₃⋅x₆⋅x₈ - 1.44⋅√2⋅x₃⋅x₆⋅x₉  - 3.84⋅x₃⋅x₆⋅x₉ - 9.68⋅√2⋅x₃⋅x₆ - 0.96⋅x₃⋅x₇⋅x₈ \n\n                                                                   2          \n - 0.960000000000001⋅√2⋅x₃⋅x₇⋅x₈⋅x₉ - 7.68⋅x₃⋅x₇⋅x₈ - 2.88⋅x₃⋅x₇⋅x₉  - 3.84⋅√2\n\n                                                                              \n⋅x₃⋅x₇⋅x₉ - 19.36⋅x₃⋅x₇ + 0.4⋅√2⋅x₃⋅x₈ + 1.29442719099992⋅x₃⋅x₉ + 2.6⋅√2⋅x₃ + \n\n       2   2             2                2             2   2             2   \n0.48⋅x₄ ⋅x₈  + 0.48⋅√2⋅x₄ ⋅x₈⋅x₉ + 3.84⋅x₄ ⋅x₈ + 1.44⋅x₄ ⋅x₉  + 1.92⋅√2⋅x₄ ⋅x₉\n\n          2                   2                                               \n + 9.68⋅x₄  + 0.48⋅√2⋅x₄⋅x₅⋅x₈  + 0.96⋅x₄⋅x₅⋅x₈⋅x₉ + 3.84⋅√2⋅x₄⋅x₅⋅x₈ + 1.44⋅√\n\n          2                                                   2               \n2⋅x₄⋅x₅⋅x₉  + 3.84⋅x₄⋅x₅⋅x₉ + 9.68⋅√2⋅x₄⋅x₅ - 0.48⋅√2⋅x₄⋅x₇⋅x₈  - 0.96⋅x₄⋅x₇⋅x\n\n                                          2                                   \n₈⋅x₉ - 3.84⋅√2⋅x₄⋅x₇⋅x₈ - 1.44⋅√2⋅x₄⋅x₇⋅x₉  - 3.84⋅x₄⋅x₇⋅x₉ - 9.68⋅√2⋅x₄⋅x₇ + \n\n                                           2   2             2                \n0.8⋅x₄⋅x₈ + 0.4⋅√2⋅x₄⋅x₉ + 5.2⋅x₄ + 0.48⋅x₅ ⋅x₈  + 0.48⋅√2⋅x₅ ⋅x₈⋅x₉ + 3.84⋅x₅\n\n2             2   2             2             2                   2           \n ⋅x₈ + 1.44⋅x₅ ⋅x₉  + 1.92⋅√2⋅x₅ ⋅x₉ + 9.68⋅x₅  + 0.48⋅√2⋅x₅⋅x₆⋅x₈  + 0.96⋅x₅⋅\n\n                                              2                               \nx₆⋅x₈⋅x₉ + 3.84⋅√2⋅x₅⋅x₆⋅x₈ + 1.44⋅√2⋅x₅⋅x₆⋅x₉  + 3.84⋅x₅⋅x₆⋅x₉ + 9.68⋅√2⋅x₅⋅x\n\n                                                                2   2         \n₆ + 0.4⋅√2⋅x₅⋅x₈ - 0.494427190999916⋅x₅⋅x₉ + 2.6⋅√2⋅x₅ + 0.48⋅x₆ ⋅x₈  + 0.48⋅√\n\n    2                2             2   2             2             2          \n2⋅x₆ ⋅x₈⋅x₉ + 3.84⋅x₆ ⋅x₈ + 1.44⋅x₆ ⋅x₉  + 1.92⋅√2⋅x₆ ⋅x₉ + 9.68⋅x₆  + 0.48⋅√2\n\n         2                                                         2          \n⋅x₆⋅x₇⋅x₈  + 0.96⋅x₆⋅x₇⋅x₈⋅x₉ + 3.84⋅√2⋅x₆⋅x₇⋅x₈ + 1.44⋅√2⋅x₆⋅x₇⋅x₉  + 3.84⋅x₆\n\n                                                             2   2            \n⋅x₇⋅x₉ + 9.68⋅√2⋅x₆⋅x₇ - 0.894427190999916⋅√2⋅x₆⋅x₉ + 0.48⋅x₇ ⋅x₈  + 0.48⋅√2⋅x\n\n 2                2             2   2             2             2             \n₇ ⋅x₈⋅x₉ + 3.84⋅x₇ ⋅x₈ + 1.44⋅x₇ ⋅x₉  + 1.92⋅√2⋅x₇ ⋅x₉ + 9.68⋅x₇  - 0.4⋅√2⋅x₇⋅\n\n                                                 2                            \nx₈ - 1.29442719099992⋅x₇⋅x₉ - 2.6⋅√2⋅x₇ + 1.92⋅x₈  + 1.92⋅√2⋅x₈⋅x₉ - 7.84⋅x₈ +\n\n        2                     \n 0.96⋅x₉  - 3.92⋅√2⋅x₉ + 17.42\n"
     ]
    }
   ],
   "source": [
    "distance_hubo = generate_distance_hubo()\n",
    "sp.pprint(distance_hubo)"
   ]
  },
  {
   "source": [
    "# The full hubo expression is written in the file 'full_hubo_expr.txt'"
   ],
   "cell_type": "markdown",
   "metadata": {}
  },
  {
   "cell_type": "code",
   "execution_count": 72,
   "metadata": {},
   "outputs": [
    {
     "output_type": "execute_result",
     "data": {
      "text/plain": [
       "x2 - 0.96*x1*x11*x4*x8 + 1.92*sqrt(2)*x1*x11*x4*x9 - 3.84*x1*x11*x4 - 0.960000000000001*sqrt(2)*x1*x11*x5*x8 + 3.84*x1*x11*x5*x9 - 3.84*sqrt(2)*x1*x11*x5 - 0.96*x1*x11*x6*x8 + 1.92*sqrt(2)*x1*x11*x6*x9 - 3.84*x1*x11*x6 - 1.29442719099992*x1*x11 - 0.48*sqrt(2)*x1*x12**2*x2 + 0.48*sqrt(2)*x1*x12**2*x4 + 0.96*x1*x12**2*x5 + 0.48*sqrt(2)*x1*x12**2*x6 - 0.96*x1*x12*x13*x2 + 0.96*x1*x12*x13*x4 + 0.960000000000001*sqrt(2)*x1*x12*x13*x5 + 0.96*x1*x12*x13*x6 + 0.96*x1*x12*x15*x2 - 0.96*x1*x12*x15*x4 - 0.960000000000001*sqrt(2)*x1*x12*x15*x5 - 0.96*x1*x12*x15*x6 + 0.96*sqrt(2)*x1*x12*x2*x8 + 0.96*x1*x12*x2*x9 + 3.84*sqrt(2)*x1*x12*x2 - 0.96*sqrt(2)*x1*x12*x4*x8 - 0.96*x1*x12*x4*x9 - 3.84*sqrt(2)*x1*x12*x4 - 1.92*x1*x12*x5*x8 - 0.960000000000001*sqrt(2)*x1*x12*x5*x9 - 7.68*x1*x12*x5 - 0.96*sqrt(2)*x1*x12*x6*x8 - 0.96*x1*x12*x6*x9 - 3.84*sqrt(2)*x1*x12*x6 - 0.4*sqrt(2)*x1*x12 - 1.44*sqrt(2)*x1*x13**2*x2 + 1.44*sqrt(2)*x1*x13**2*x4 + 2.88*x1*x13**2*x5 + 1.44*sqrt(2)*x1*x13**2*x6 - 4.8*x1*x13*x14*x2 + 4.8*x1*x13*x14*x4 + 4.8*sqrt(2)*x1*x13*x14*x5 + 4.8*x1*x13*x14*x6 - 1.92*sqrt(2)*x1*x13*x15*x2 + 1.92*sqrt(2)*x1*x13*x15*x4 + 3.84*x1*x13*x15*x5 + 1.92*sqrt(2)*x1*x13*x15*x6 + 0.96*x1*x13*x2*x8 + 2.88*sqrt(2)*x1*x13*x2*x9 + 3.84*x1*x13*x2 - 0.96*x1*x13*x4*x8 - 2.88*sqrt(2)*x1*x13*x4*x9 - 3.84*x1*x13*x4 - 0.960000000000001*sqrt(2)*x1*x13*x5*x8 - 5.76*x1*x13*x5*x9 - 3.84*sqrt(2)*x1*x13*x5 - 0.96*x1*x13*x6*x8 - 2.88*sqrt(2)*x1*x13*x6*x9 - 3.84*x1*x13*x6 + 0.494427190999916*x1*x13 - 2.4*sqrt(2)*x1*x14**2*x2 + 2.4*sqrt(2)*x1*x14**2*x4 + 4.8*x1*x14**2*x5 + 2.4*sqrt(2)*x1*x14**2*x6 - 4.8*x1*x14*x15*x2 + 4.8*x1*x14*x15*x4 + 4.8*sqrt(2)*x1*x14*x15*x5 + 4.8*x1*x14*x15*x6 + 4.8*x1*x14*x2*x9 - 4.8*x1*x14*x4*x9 - 4.8*sqrt(2)*x1*x14*x5*x9 - 4.8*x1*x14*x6*x9 + 0.894427190999916*sqrt(2)*x1*x14 - 1.44*sqrt(2)*x1*x15**2*x2 + 1.44*sqrt(2)*x1*x15**2*x4 + 2.88*x1*x15**2*x5 + 1.44*sqrt(2)*x1*x15**2*x6 - 0.96*x1*x15*x2*x8 + 1.92*sqrt(2)*x1*x15*x2*x9 - 3.84*x1*x15*x2 + 0.96*x1*x15*x4*x8 - 1.92*sqrt(2)*x1*x15*x4*x9 + 3.84*x1*x15*x4 + 0.960000000000001*sqrt(2)*x1*x15*x5*x8 - 3.84*x1*x15*x5*x9 + 3.84*sqrt(2)*x1*x15*x5 + 0.96*x1*x15*x6*x8 - 1.92*sqrt(2)*x1*x15*x6*x9 + 3.84*x1*x15*x6 + 1.29442719099992*x1*x15 - 0.48*sqrt(2)*x1*x2*x8**2 - 0.96*x1*x2*x8*x9 - 3.84*sqrt(2)*x1*x2*x8 - 1.44*sqrt(2)*x1*x2*x9**2 - 3.84*x1*x2*x9 - 9.68*sqrt(2)*x1*x2 + 0.48*sqrt(2)*x1*x4*x8**2 + 0.96*x1*x4*x8*x9 + 3.84*sqrt(2)*x1*x4*x8 + 1.44*sqrt(2)*x1*x4*x9**2 + 3.84*x1*x4*x9 + 9.68*sqrt(2)*x1*x4 + 0.96*x1*x5*x8**2 + 0.960000000000001*sqrt(2)*x1*x5*x8*x9 + 7.68*x1*x5*x8 + 2.88*x1*x5*x9**2 + 3.84*sqrt(2)*x1*x5*x9 + 19.36*x1*x5 + 0.48*sqrt(2)*x1*x6*x8**2 + 0.96*x1*x6*x8*x9 + 3.84*sqrt(2)*x1*x6*x8 + 1.44*sqrt(2)*x1*x6*x9**2 + 3.84*x1*x6*x9 + 9.68*sqrt(2)*x1*x6 + 0.4*sqrt(2)*x1*x8 - 0.494427190999916*x1*x9 + 2.6*sqrt(2)*x1 - 2.4*x10**2*x2**2 - 2.4*sqrt(2)*x10**2*x2*x3 + 2.4*sqrt(2)*x10**2*x2*x5 + 4.8*x10**2*x2*x6 + 2.4*sqrt(2)*x10**2*x2*x7 - 2.4*x10**2*x3**2 - 2.4*sqrt(2)*x10**2*x3*x4 + 2.4*sqrt(2)*x10**2*x3*x6 + 4.8*x10**2*x3*x7 - 2.4*x10**2*x4**2 - 2.4*sqrt(2)*x10**2*x4*x5 + 2.4*sqrt(2)*x10**2*x4*x7 - 2.4*x10**2*x5**2 - 2.4*sqrt(2)*x10**2*x5*x6 - 2.4*x10**2*x6**2 - 2.4*sqrt(2)*x10**2*x6*x7 - 2.4*x10**2*x7**2 - 2.4*sqrt(2)*x10*x11*x2**2 - 4.8*x10*x11*x2*x3 + 4.8*x10*x11*x2*x5 + 4.8*sqrt(2)*x10*x11*x2*x6 + 4.8*x10*x11*x2*x7 - 2.4*sqrt(2)*x10*x11*x3**2 - 4.8*x10*x11*x3*x4 + 4.8*x10*x11*x3*x6 + 4.8*sqrt(2)*x10*x11*x3*x7 - 2.4*sqrt(2)*x10*x11*x4**2 - 4.8*x10*x11*x4*x5 + 4.8*x10*x11*x4*x7 - 2.4*sqrt(2)*x10*x11*x5**2 - 4.8*x10*x11*x5*x6 - 2.4*sqrt(2)*x10*x11*x6**2 - 4.8*x10*x11*x6*x7 - 2.4*sqrt(2)*x10*x11*x7**2 + 2.4*sqrt(2)*x10*x13*x2**2 + 4.8*x10*x13*x2*x3 - 4.8*x10*x13*x2*x5 - 4.8*sqrt(2)*x10*x13*x2*x6 - 4.8*x10*x13*x2*x7 + 2.4*sqrt(2)*x10*x13*x3**2 + 4.8*x10*x13*x3*x4 - 4.8*x10*x13*x3*x6 - 4.8*sqrt(2)*x10*x13*x3*x7 + 2.4*sqrt(2)*x10*x13*x4**2 + 4.8*x10*x13*x4*x5 - 4.8*x10*x13*x4*x7 + 2.4*sqrt(2)*x10*x13*x5**2 + 4.8*x10*x13*x5*x6 + 2.4*sqrt(2)*x10*x13*x6**2 + 4.8*x10*x13*x6*x7 + 2.4*sqrt(2)*x10*x13*x7**2 + 4.8*x10*x14*x2**2 + 4.8*sqrt(2)*x10*x14*x2*x3 - 4.8*sqrt(2)*x10*x14*x2*x5 - 9.6*x10*x14*x2*x6 - 4.8*sqrt(2)*x10*x14*x2*x7 + 4.8*x10*x14*x3**2 + 4.8*sqrt(2)*x10*x14*x3*x4 - 4.8*sqrt(2)*x10*x14*x3*x6 - 9.6*x10*x14*x3*x7 + 4.8*x10*x14*x4**2 + 4.8*sqrt(2)*x10*x14*x4*x5 - 4.8*sqrt(2)*x10*x14*x4*x7 + 4.8*x10*x14*x5**2 + 4.8*sqrt(2)*x10*x14*x5*x6 + 4.8*x10*x14*x6**2 + 4.8*sqrt(2)*x10*x14*x6*x7 + 4.8*x10*x14*x7**2 + 2.4*sqrt(2)*x10*x15*x2**2 + 4.8*x10*x15*x2*x3 - 4.8*x10*x15*x2*x5 - 4.8*sqrt(2)*x10*x15*x2*x6 - 4.8*x10*x15*x2*x7 + 2.4*sqrt(2)*x10*x15*x3**2 + 4.8*x10*x15*x3*x4 - 4.8*x10*x15*x3*x6 - 4.8*sqrt(2)*x10*x15*x3*x7 + 2.4*sqrt(2)*x10*x15*x4**2 + 4.8*x10*x15*x4*x5 - 4.8*x10*x15*x4*x7 + 2.4*sqrt(2)*x10*x15*x5**2 + 4.8*x10*x15*x5*x6 + 2.4*sqrt(2)*x10*x15*x6**2 + 4.8*x10*x15*x6*x7 + 2.4*sqrt(2)*x10*x15*x7**2 - 2.4*sqrt(2)*x10*x2**2*x9 - 4.8*x10*x2*x3*x9 + 4.8*x10*x2*x5*x9 + 4.8*sqrt(2)*x10*x2*x6*x9 + 4.8*x10*x2*x7*x9 - 1.78885438199983*x10*x2 - 2.4*sqrt(2)*x10*x3**2*x9 - 4.8*x10*x3*x4*x9 + 4.8*x10*x3*x6*x9 + 4.8*sqrt(2)*x10*x3*x7*x9 - 0.894427190999916*sqrt(2)*x10*x3 - 2.4*sqrt(2)*x10*x4**2*x9 - 4.8*x10*x4*x5*x9 + 4.8*x10*x4*x7*x9 - 2.4*sqrt(2)*x10*x5**2*x9 - 4.8*x10*x5*x6*x9 + 0.894427190999916*sqrt(2)*x10*x5 - 2.4*sqrt(2)*x10*x6**2*x9 - 4.8*x10*x6*x7*x9 + 1.78885438199983*x10*x6 - 2.4*sqrt(2)*x10*x7**2*x9 + 0.894427190999916*sqrt(2)*x10*x7 - 1.44*x11**2*x2**2 - 1.44*sqrt(2)*x11**2*x2*x3 + 1.44*sqrt(2)*x11**2*x2*x5 + 2.88*x11**2*x2*x6 + 1.44*sqrt(2)*x11**2*x2*x7 - 1.44*x11**2*x3**2 - 1.44*sqrt(2)*x11**2*x3*x4 + 1.44*sqrt(2)*x11**2*x3*x6 + 2.88*x11**2*x3*x7 - 1.44*x11**2*x4**2 - 1.44*sqrt(2)*x11**2*x4*x5 + 1.44*sqrt(2)*x11**2*x4*x7 - 1.44*x11**2*x5**2 - 1.44*sqrt(2)*x11**2*x5*x6 - 1.44*x11**2*x6**2 - 1.44*sqrt(2)*x11**2*x6*x7 - 1.44*x11**2*x7**2 - 0.96*x11**2 - 0.48*sqrt(2)*x11*x12*x2**2 - 0.96*x11*x12*x2*x3 + 0.96*x11*x12*x2*x5 + 0.96*sqrt(2)*x11*x12*x2*x6 + 0.96*x11*x12*x2*x7 - 0.48*sqrt(2)*x11*x12*x3**2 - 0.96*x11*x12*x3*x4 + 0.96*x11*x12*x3*x6 + 0.960000000000001*sqrt(2)*x11*x12*x3*x7 - 0.48*sqrt(2)*x11*x12*x4**2 - 0.96*x11*x12*x4*x5 + 0.96*x11*x12*x4*x7 - 0.48*sqrt(2)*x11*x12*x5**2 - 0.96*x11*x12*x5*x6 - 0.48*sqrt(2)*x11*x12*x6**2 - 0.96*x11*x12*x6*x7 - 0.48*sqrt(2)*x11*x12*x7**2 - 1.92*sqrt(2)*x11*x12 + 1.92*x11*x13*x2**2 + 1.92*sqrt(2)*x11*x13*x2*x3 - 1.92*sqrt(2)*x11*x13*x2*x5 - 3.84*x11*x13*x2*x6 - 1.92*sqrt(2)*x11*x13*x2*x7 + 1.92*x11*x13*x3**2 + 1.92*sqrt(2)*x11*x13*x3*x4 - 1.92*sqrt(2)*x11*x13*x3*x6 - 3.84*x11*x13*x3*x7 + 1.92*x11*x13*x4**2 + 1.92*sqrt(2)*x11*x13*x4*x5 - 1.92*sqrt(2)*x11*x13*x4*x7 + 1.92*x11*x13*x5**2 + 1.92*sqrt(2)*x11*x13*x5*x6 + 1.92*x11*x13*x6**2 + 1.92*sqrt(2)*x11*x13*x6*x7 + 1.92*x11*x13*x7**2 - 1.92*x11*x13 + 2.4*sqrt(2)*x11*x14*x2**2 + 4.8*x11*x14*x2*x3 - 4.8*x11*x14*x2*x5 - 4.8*sqrt(2)*x11*x14*x2*x6 - 4.8*x11*x14*x2*x7 + 2.4*sqrt(2)*x11*x14*x3**2 + 4.8*x11*x14*x3*x4 - 4.8*x11*x14*x3*x6 - 4.8*sqrt(2)*x11*x14*x3*x7 + 2.4*sqrt(2)*x11*x14*x4**2 + 4.8*x11*x14*x4*x5 - 4.8*x11*x14*x4*x7 + 2.4*sqrt(2)*x11*x14*x5**2 + 4.8*x11*x14*x5*x6 + 2.4*sqrt(2)*x11*x14*x6**2 + 4.8*x11*x14*x6*x7 + 2.4*sqrt(2)*x11*x14*x7**2 + 2.88*x11*x15*x2**2 + 2.88*sqrt(2)*x11*x15*x2*x3 - 2.88*sqrt(2)*x11*x15*x2*x5 - 5.76*x11*x15*x2*x6 - 2.88*sqrt(2)*x11*x15*x2*x7 + 2.88*x11*x15*x3**2 + 2.88*sqrt(2)*x11*x15*x3*x4 - 2.88*sqrt(2)*x11*x15*x3*x6 - 5.76*x11*x15*x3*x7 + 2.88*x11*x15*x4**2 + 2.88*sqrt(2)*x11*x15*x4*x5 - 2.88*sqrt(2)*x11*x15*x4*x7 + 2.88*x11*x15*x5**2 + 2.88*sqrt(2)*x11*x15*x5*x6 + 2.88*x11*x15*x6**2 + 2.88*sqrt(2)*x11*x15*x6*x7 + 2.88*x11*x15*x7**2 + 1.92*x11*x15 + 0.48*sqrt(2)*x11*x2**2*x8 - 1.92*x11*x2**2*x9 + 1.92*sqrt(2)*x11*x2**2 + 0.96*x11*x2*x3*x8 - 1.92*sqrt(2)*x11*x2*x3*x9 + 3.84*x11*x2*x3 - 0.96*x11*x2*x5*x8 + 1.92*sqrt(2)*x11*x2*x5*x9 - 3.84*x11*x2*x5 - 0.96*sqrt(2)*x11*x2*x6*x8 + 3.84*x11*x2*x6*x9 - 3.84*sqrt(2)*x11*x2*x6 - 0.96*x11*x2*x7*x8 + 1.92*sqrt(2)*x11*x2*x7*x9 - 3.84*x11*x2*x7 - 0.894427190999916*sqrt(2)*x11*x2 + 0.48*sqrt(2)*x11*x3**2*x8 - 1.92*x11*x3**2*x9 + 1.92*sqrt(2)*x11*x3**2 + 0.96*x11*x3*x4*x8 - 1.92*sqrt(2)*x11*x3*x4*x9 + 3.84*x11*x3*x4 - 0.96*x11*x3*x6*x8 + 1.92*sqrt(2)*x11*x3*x6*x9 - 3.84*x11*x3*x6 - 0.960000000000001*sqrt(2)*x11*x3*x7*x8 + 3.84*x11*x3*x7*x9 - 3.84*sqrt(2)*x11*x3*x7 - 0.494427190999916*x11*x3 + 0.48*sqrt(2)*x11*x4**2*x8 - 1.92*x11*x4**2*x9 + 1.92*sqrt(2)*x11*x4**2 + 0.96*x11*x4*x5*x8 - 1.92*sqrt(2)*x11*x4*x5*x9 + 3.84*x11*x4*x5 - 0.96*x11*x4*x7*x8 + 1.92*sqrt(2)*x11*x4*x7*x9 - 3.84*x11*x4*x7 + 0.4*sqrt(2)*x11*x4 + 0.48*sqrt(2)*x11*x5**2*x8 - 1.92*x11*x5**2*x9 + 1.92*sqrt(2)*x11*x5**2 + 0.96*x11*x5*x6*x8 - 1.92*sqrt(2)*x11*x5*x6*x9 + 3.84*x11*x5*x6 + 1.29442719099992*x11*x5 + 0.48*sqrt(2)*x11*x6**2*x8 - 1.92*x11*x6**2*x9 + 1.92*sqrt(2)*x11*x6**2 + 0.96*x11*x6*x7*x8 - 1.92*sqrt(2)*x11*x6*x7*x9 + 3.84*x11*x6*x7 + 0.894427190999916*sqrt(2)*x11*x6 + 0.48*sqrt(2)*x11*x7**2*x8 - 1.92*x11*x7**2*x9 + 1.92*sqrt(2)*x11*x7**2 + 0.494427190999916*x11*x7 + 1.92*sqrt(2)*x11*x8 + 1.92*x11*x9 - 3.92*sqrt(2)*x11 - 0.48*x12**2*x2**2 - 0.48*sqrt(2)*x12**2*x2*x3 + 0.48*sqrt(2)*x12**2*x2*x5 + 0.96*x12**2*x2*x6 + 0.48*sqrt(2)*x12**2*x2*x7 - 0.48*x12**2*x3**2 - 0.48*sqrt(2)*x12**2*x3*x4 + 0.48*sqrt(2)*x12**2*x3*x6 + 0.96*x12**2*x3*x7 - 0.48*x12**2*x4**2 - 0.48*sqrt(2)*x12**2*x4*x5 + 0.48*sqrt(2)*x12**2*x4*x7 - 0.48*x12**2*x5**2 - 0.48*sqrt(2)*x12**2*x5*x6 - 0.48*x12**2*x6**2 - 0.48*sqrt(2)*x12**2*x6*x7 - 0.48*x12**2*x7**2 - 1.92*x12**2 - 0.48*sqrt(2)*x12*x13*x2**2 - 0.96*x12*x13*x2*x3 + 0.96*x12*x13*x2*x5 + 0.96*sqrt(2)*x12*x13*x2*x6 + 0.96*x12*x13*x2*x7 - 0.48*sqrt(2)*x12*x13*x3**2 - 0.96*x12*x13*x3*x4 + 0.96*x12*x13*x3*x6 + 0.960000000000001*sqrt(2)*x12*x13*x3*x7 - 0.48*sqrt(2)*x12*x13*x4**2 - 0.96*x12*x13*x4*x5 + 0.96*x12*x13*x4*x7 - 0.48*sqrt(2)*x12*x13*x5**2 - 0.96*x12*x13*x5*x6 - 0.48*sqrt(2)*x12*x13*x6**2 - 0.96*x12*x13*x6*x7 - 0.48*sqrt(2)*x12*x13*x7**2 - 1.92*sqrt(2)*x12*x13 + 0.48*sqrt(2)*x12*x15*x2**2 + 0.96*x12*x15*x2*x3 - 0.96*x12*x15*x2*x5 - 0.96*sqrt(2)*x12*x15*x2*x6 - 0.96*x12*x15*x2*x7 + 0.48*sqrt(2)*x12*x15*x3**2 + 0.96*x12*x15*x3*x4 - 0.96*x12*x15*x3*x6 - 0.960000000000001*sqrt(2)*x12*x15*x3*x7 + 0.48*sqrt(2)*x12*x15*x4**2 + 0.96*x12*x15*x4*x5 - 0.96*x12*x15*x4*x7 + 0.48*sqrt(2)*x12*x15*x5**2 + 0.96*x12*x15*x5*x6 + 0.48*sqrt(2)*x12*x15*x6**2 + 0.96*x12*x15*x6*x7 + 0.48*sqrt(2)*x12*x15*x7**2 + 1.92*sqrt(2)*x12*x15 + 0.96*x12*x2**2*x8 + 0.48*sqrt(2)*x12*x2**2*x9 + 3.84*x12*x2**2 + 0.96*sqrt(2)*x12*x2*x3*x8 + 0.96*x12*x2*x3*x9 + 3.84*sqrt(2)*x12*x2*x3 - 0.96*sqrt(2)*x12*x2*x5*x8 - 0.96*x12*x2*x5*x9 - 3.84*sqrt(2)*x12*x2*x5 - 1.92*x12*x2*x6*x8 - 0.96*sqrt(2)*x12*x2*x6*x9 - 7.68*x12*x2*x6 - 0.96*sqrt(2)*x12*x2*x7*x8 - 0.96*x12*x2*x7*x9 - 3.84*sqrt(2)*x12*x2*x7 + 0.96*x12*x3**2*x8 + 0.48*sqrt(2)*x12*x3**2*x9 + 3.84*x12*x3**2 + 0.96*sqrt(2)*x12*x3*x4*x8 + 0.96*x12*x3*x4*x9 + 3.84*sqrt(2)*x12*x3*x4 - 0.96*sqrt(2)*x12*x3*x6*x8 - 0.96*x12*x3*x6*x9 - 3.84*sqrt(2)*x12*x3*x6 - 1.92*x12*x3*x7*x8 - 0.960000000000001*sqrt(2)*x12*x3*x7*x9 - 7.68*x12*x3*x7 + 0.4*sqrt(2)*x12*x3 + 0.96*x12*x4**2*x8 + 0.48*sqrt(2)*x12*x4**2*x9 + 3.84*x12*x4**2 + 0.96*sqrt(2)*x12*x4*x5*x8 + 0.96*x12*x4*x5*x9 + 3.84*sqrt(2)*x12*x4*x5 - 0.96*sqrt(2)*x12*x4*x7*x8 - 0.96*x12*x4*x7*x9 - 3.84*sqrt(2)*x12*x4*x7 + 0.8*x12*x4 + 0.96*x12*x5**2*x8 + 0.48*sqrt(2)*x12*x5**2*x9 + 3.84*x12*x5**2 + 0.96*sqrt(2)*x12*x5*x6*x8 + 0.96*x12*x5*x6*x9 + 3.84*sqrt(2)*x12*x5*x6 + 0.4*sqrt(2)*x12*x5 + 0.96*x12*x6**2*x8 + 0.48*sqrt(2)*x12*x6**2*x9 + 3.84*x12*x6**2 + 0.96*sqrt(2)*x12*x6*x7*x8 + 0.96*x12*x6*x7*x9 + 3.84*sqrt(2)*x12*x6*x7 + 0.96*x12*x7**2*x8 + 0.48*sqrt(2)*x12*x7**2*x9 + 3.84*x12*x7**2 - 0.4*sqrt(2)*x12*x7 + 3.84*x12*x8 + 1.92*sqrt(2)*x12*x9 - 7.84*x12 - 1.44*x13**2*x2**2 - 1.44*sqrt(2)*x13**2*x2*x3 + 1.44*sqrt(2)*x13**2*x2*x5 + 2.88*x13**2*x2*x6 + 1.44*sqrt(2)*x13**2*x2*x7 - 1.44*x13**2*x3**2 - 1.44*sqrt(2)*x13**2*x3*x4 + 1.44*sqrt(2)*x13**2*x3*x6 + 2.88*x13**2*x3*x7 - 1.44*x13**2*x4**2 - 1.44*sqrt(2)*x13**2*x4*x5 + 1.44*sqrt(2)*x13**2*x4*x7 - 1.44*x13**2*x5**2 - 1.44*sqrt(2)*x13**2*x5*x6 - 1.44*x13**2*x6**2 - 1.44*sqrt(2)*x13**2*x6*x7 - 1.44*x13**2*x7**2 - 0.96*x13**2 - 2.4*sqrt(2)*x13*x14*x2**2 - 4.8*x13*x14*x2*x3 + 4.8*x13*x14*x2*x5 + 4.8*sqrt(2)*x13*x14*x2*x6 + 4.8*x13*x14*x2*x7 - 2.4*sqrt(2)*x13*x14*x3**2 - 4.8*x13*x14*x3*x4 + 4.8*x13*x14*x3*x6 + 4.8*sqrt(2)*x13*x14*x3*x7 - 2.4*sqrt(2)*x13*x14*x4**2 - 4.8*x13*x14*x4*x5 + 4.8*x13*x14*x4*x7 - 2.4*sqrt(2)*x13*x14*x5**2 - 4.8*x13*x14*x5*x6 - 2.4*sqrt(2)*x13*x14*x6**2 - 4.8*x13*x14*x6*x7 - 2.4*sqrt(2)*x13*x14*x7**2 - 1.92*x13*x15*x2**2 - 1.92*sqrt(2)*x13*x15*x2*x3 + 1.92*sqrt(2)*x13*x15*x2*x5 + 3.84*x13*x15*x2*x6 + 1.92*sqrt(2)*x13*x15*x2*x7 - 1.92*x13*x15*x3**2 - 1.92*sqrt(2)*x13*x15*x3*x4 + 1.92*sqrt(2)*x13*x15*x3*x6 + 3.84*x13*x15*x3*x7 - 1.92*x13*x15*x4**2 - 1.92*sqrt(2)*x13*x15*x4*x5 + 1.92*sqrt(2)*x13*x15*x4*x7 - 1.92*x13*x15*x5**2 - 1.92*sqrt(2)*x13*x15*x5*x6 - 1.92*x13*x15*x6**2 - 1.92*sqrt(2)*x13*x15*x6*x7 - 1.92*x13*x15*x7**2 + 1.92*x13*x15 + 0.48*sqrt(2)*x13*x2**2*x8 + 2.88*x13*x2**2*x9 + 1.92*sqrt(2)*x13*x2**2 + 0.96*x13*x2*x3*x8 + 2.88*sqrt(2)*x13*x2*x3*x9 + 3.84*x13*x2*x3 - 0.96*x13*x2*x5*x8 - 2.88*sqrt(2)*x13*x2*x5*x9 - 3.84*x13*x2*x5 - 0.96*sqrt(2)*x13*x2*x6*x8 - 5.76*x13*x2*x6*x9 - 3.84*sqrt(2)*x13*x2*x6 - 0.96*x13*x2*x7*x8 - 2.88*sqrt(2)*x13*x2*x7*x9 - 3.84*x13*x2*x7 + 0.894427190999916*sqrt(2)*x13*x2 + 0.48*sqrt(2)*x13*x3**2*x8 + 2.88*x13*x3**2*x9 + 1.92*sqrt(2)*x13*x3**2 + 0.96*x13*x3*x4*x8 + 2.88*sqrt(2)*x13*x3*x4*x9 + 3.84*x13*x3*x4 - 0.96*x13*x3*x6*x8 - 2.88*sqrt(2)*x13*x3*x6*x9 - 3.84*x13*x3*x6 - 0.960000000000001*sqrt(2)*x13*x3*x7*x8 - 5.76*x13*x3*x7*x9 - 3.84*sqrt(2)*x13*x3*x7 + 1.29442719099992*x13*x3 + 0.48*sqrt(2)*x13*x4**2*x8 + 2.88*x13*x4**2*x9 + 1.92*sqrt(2)*x13*x4**2 + 0.96*x13*x4*x5*x8 + 2.88*sqrt(2)*x13*x4*x5*x9 + 3.84*x13*x4*x5 - 0.96*x13*x4*x7*x8 - 2.88*sqrt(2)*x13*x4*x7*x9 - 3.84*x13*x4*x7 + 0.4*sqrt(2)*x13*x4 + 0.48*sqrt(2)*x13*x5**2*x8 + 2.88*x13*x5**2*x9 + 1.92*sqrt(2)*x13*x5**2 + 0.96*x13*x5*x6*x8 + 2.88*sqrt(2)*x13*x5*x6*x9 + 3.84*x13*x5*x6 - 0.494427190999916*x13*x5 + 0.48*sqrt(2)*x13*x6**2*x8 + 2.88*x13*x6**2*x9 + 1.92*sqrt(2)*x13*x6**2 + 0.96*x13*x6*x7*x8 + 2.88*sqrt(2)*x13*x6*x7*x9 + 3.84*x13*x6*x7 - 0.894427190999916*sqrt(2)*x13*x6 + 0.48*sqrt(2)*x13*x7**2*x8 + 2.88*x13*x7**2*x9 + 1.92*sqrt(2)*x13*x7**2 - 1.29442719099992*x13*x7 + 1.92*sqrt(2)*x13*x8 + 1.92*x13*x9 - 3.92*sqrt(2)*x13 - 2.4*x14**2*x2**2 - 2.4*sqrt(2)*x14**2*x2*x3 + 2.4*sqrt(2)*x14**2*x2*x5 + 4.8*x14**2*x2*x6 + 2.4*sqrt(2)*x14**2*x2*x7 - 2.4*x14**2*x3**2 - 2.4*sqrt(2)*x14**2*x3*x4 + 2.4*sqrt(2)*x14**2*x3*x6 + 4.8*x14**2*x3*x7 - 2.4*x14**2*x4**2 - 2.4*sqrt(2)*x14**2*x4*x5 + 2.4*sqrt(2)*x14**2*x4*x7 - 2.4*x14**2*x5**2 - 2.4*sqrt(2)*x14**2*x5*x6 - 2.4*x14**2*x6**2 - 2.4*sqrt(2)*x14**2*x6*x7 - 2.4*x14**2*x7**2 - 2.4*sqrt(2)*x14*x15*x2**2 - 4.8*x14*x15*x2*x3 + 4.8*x14*x15*x2*x5 + 4.8*sqrt(2)*x14*x15*x2*x6 + 4.8*x14*x15*x2*x7 - 2.4*sqrt(2)*x14*x15*x3**2 - 4.8*x14*x15*x3*x4 + 4.8*x14*x15*x3*x6 + 4.8*sqrt(2)*x14*x15*x3*x7 - 2.4*sqrt(2)*x14*x15*x4**2 - 4.8*x14*x15*x4*x5 + 4.8*x14*x15*x4*x7 - 2.4*sqrt(2)*x14*x15*x5**2 - 4.8*x14*x15*x5*x6 - 2.4*sqrt(2)*x14*x15*x6**2 - 4.8*x14*x15*x6*x7 - 2.4*sqrt(2)*x14*x15*x7**2 + 2.4*sqrt(2)*x14*x2**2*x9 + 4.8*x14*x2*x3*x9 - 4.8*x14*x2*x5*x9 - 4.8*sqrt(2)*x14*x2*x6*x9 - 4.8*x14*x2*x7*x9 + 1.78885438199983*x14*x2 + 2.4*sqrt(2)*x14*x3**2*x9 + 4.8*x14*x3*x4*x9 - 4.8*x14*x3*x6*x9 - 4.8*sqrt(2)*x14*x3*x7*x9 + 0.894427190999916*sqrt(2)*x14*x3 + 2.4*sqrt(2)*x14*x4**2*x9 + 4.8*x14*x4*x5*x9 - 4.8*x14*x4*x7*x9 + 2.4*sqrt(2)*x14*x5**2*x9 + 4.8*x14*x5*x6*x9 - 0.894427190999916*sqrt(2)*x14*x5 + 2.4*sqrt(2)*x14*x6**2*x9 + 4.8*x14*x6*x7*x9 - 1.78885438199983*x14*x6 + 2.4*sqrt(2)*x14*x7**2*x9 - 0.894427190999916*sqrt(2)*x14*x7 - 1.44*x15**2*x2**2 - 1.44*sqrt(2)*x15**2*x2*x3 + 1.44*sqrt(2)*x15**2*x2*x5 + 2.88*x15**2*x2*x6 + 1.44*sqrt(2)*x15**2*x2*x7 - 1.44*x15**2*x3**2 - 1.44*sqrt(2)*x15**2*x3*x4 + 1.44*sqrt(2)*x15**2*x3*x6 + 2.88*x15**2*x3*x7 - 1.44*x15**2*x4**2 - 1.44*sqrt(2)*x15**2*x4*x5 + 1.44*sqrt(2)*x15**2*x4*x7 - 1.44*x15**2*x5**2 - 1.44*sqrt(2)*x15**2*x5*x6 - 1.44*x15**2*x6**2 - 1.44*sqrt(2)*x15**2*x6*x7 - 1.44*x15**2*x7**2 - 0.96*x15**2 - 0.48*sqrt(2)*x15*x2**2*x8 + 1.92*x15*x2**2*x9 - 1.92*sqrt(2)*x15*x2**2 - 0.96*x15*x2*x3*x8 + 1.92*sqrt(2)*x15*x2*x3*x9 - 3.84*x15*x2*x3 + 0.96*x15*x2*x5*x8 - 1.92*sqrt(2)*x15*x2*x5*x9 + 3.84*x15*x2*x5 + 0.96*sqrt(2)*x15*x2*x6*x8 - 3.84*x15*x2*x6*x9 + 3.84*sqrt(2)*x15*x2*x6 + 0.96*x15*x2*x7*x8 - 1.92*sqrt(2)*x15*x2*x7*x9 + 3.84*x15*x2*x7 + 0.894427190999916*sqrt(2)*x15*x2 - 0.48*sqrt(2)*x15*x3**2*x8 + 1.92*x15*x3**2*x9 - 1.92*sqrt(2)*x15*x3**2 - 0.96*x15*x3*x4*x8 + 1.92*sqrt(2)*x15*x3*x4*x9 - 3.84*x15*x3*x4 + 0.96*x15*x3*x6*x8 - 1.92*sqrt(2)*x15*x3*x6*x9 + 3.84*x15*x3*x6 + 0.960000000000001*sqrt(2)*x15*x3*x7*x8 - 3.84*x15*x3*x7*x9 + 3.84*sqrt(2)*x15*x3*x7 + 0.494427190999916*x15*x3 - 0.48*sqrt(2)*x15*x4**2*x8 + 1.92*x15*x4**2*x9 - 1.92*sqrt(2)*x15*x4**2 - 0.96*x15*x4*x5*x8 + 1.92*sqrt(2)*x15*x4*x5*x9 - 3.84*x15*x4*x5 + 0.96*x15*x4*x7*x8 - 1.92*sqrt(2)*x15*x4*x7*x9 + 3.84*x15*x4*x7 - 0.4*sqrt(2)*x15*x4 - 0.48*sqrt(2)*x15*x5**2*x8 + 1.92*x15*x5**2*x9 - 1.92*sqrt(2)*x15*x5**2 - 0.96*x15*x5*x6*x8 + 1.92*sqrt(2)*x15*x5*x6*x9 - 3.84*x15*x5*x6 - 1.29442719099992*x15*x5 - 0.48*sqrt(2)*x15*x6**2*x8 + 1.92*x15*x6**2*x9 - 1.92*sqrt(2)*x15*x6**2 - 0.96*x15*x6*x7*x8 + 1.92*sqrt(2)*x15*x6*x7*x9 - 3.84*x15*x6*x7 - 0.894427190999916*sqrt(2)*x15*x6 - 0.48*sqrt(2)*x15*x7**2*x8 + 1.92*x15*x7**2*x9 - 1.92*sqrt(2)*x15*x7**2 - 0.494427190999916*x15*x7 - 1.92*sqrt(2)*x15*x8 - 1.92*x15*x9 + 3.92*sqrt(2)*x15 - 0.48*x2**2*x8**2 - 0.48*sqrt(2)*x2**2*x8*x9 - 3.84*x2**2*x8 - 1.44*x2**2*x9**2 - 1.92*sqrt(2)*x2**2*x9 - 9.68*x2**2 - 0.48*sqrt(2)*x2*x3*x8**2 - 0.96*x2*x3*x8*x9 - 3.84*sqrt(2)*x2*x3*x8 - 1.44*sqrt(2)*x2*x3*x9**2 - 3.84*x2*x3*x9 - 9.68*sqrt(2)*x2*x3 + 0.48*sqrt(2)*x2*x5*x8**2 + 0.96*x2*x5*x8*x9 + 3.84*sqrt(2)*x2*x5*x8 + 1.44*sqrt(2)*x2*x5*x9**2 + 3.84*x2*x5*x9 + 9.68*sqrt(2)*x2*x5 + 0.96*x2*x6*x8**2 + 0.96*sqrt(2)*x2*x6*x8*x9 + 7.68*x2*x6*x8 + 2.88*x2*x6*x9**2 + 3.84*sqrt(2)*x2*x6*x9 + 19.36*x2*x6 + 0.48*sqrt(2)*x2*x7*x8**2 + 0.96*x2*x7*x8*x9 + 3.84*sqrt(2)*x2*x7*x8 + 1.44*sqrt(2)*x2*x7*x9**2 + 3.84*x2*x7*x9 + 9.68*sqrt(2)*x2*x7 - 0.894427190999916*sqrt(2)*x2*x9 - 0.48*x3**2*x8**2 - 0.48*sqrt(2)*x3**2*x8*x9 - 3.84*x3**2*x8 - 1.44*x3**2*x9**2 - 1.92*sqrt(2)*x3**2*x9 - 9.68*x3**2 - 0.48*sqrt(2)*x3*x4*x8**2 - 0.96*x3*x4*x8*x9 - 3.84*sqrt(2)*x3*x4*x8 - 1.44*sqrt(2)*x3*x4*x9**2 - 3.84*x3*x4*x9 - 9.68*sqrt(2)*x3*x4 + 0.48*sqrt(2)*x3*x6*x8**2 + 0.96*x3*x6*x8*x9 + 3.84*sqrt(2)*x3*x6*x8 + 1.44*sqrt(2)*x3*x6*x9**2 + 3.84*x3*x6*x9 + 9.68*sqrt(2)*x3*x6 + 0.96*x3*x7*x8**2 + 0.960000000000001*sqrt(2)*x3*x7*x8*x9 + 7.68*x3*x7*x8 + 2.88*x3*x7*x9**2 + 3.84*sqrt(2)*x3*x7*x9 + 19.36*x3*x7 - 0.4*sqrt(2)*x3*x8 - 1.29442719099992*x3*x9 - 2.6*sqrt(2)*x3 - 0.48*x4**2*x8**2 - 0.48*sqrt(2)*x4**2*x8*x9 - 3.84*x4**2*x8 - 1.44*x4**2*x9**2 - 1.92*sqrt(2)*x4**2*x9 - 9.68*x4**2 - 0.48*sqrt(2)*x4*x5*x8**2 - 0.96*x4*x5*x8*x9 - 3.84*sqrt(2)*x4*x5*x8 - 1.44*sqrt(2)*x4*x5*x9**2 - 3.84*x4*x5*x9 - 9.68*sqrt(2)*x4*x5 + 0.48*sqrt(2)*x4*x7*x8**2 + 0.96*x4*x7*x8*x9 + 3.84*sqrt(2)*x4*x7*x8 + 1.44*sqrt(2)*x4*x7*x9**2 + 3.84*x4*x7*x9 + 9.68*sqrt(2)*x4*x7 - 0.8*x4*x8 - 0.4*sqrt(2)*x4*x9 - 5.2*x4 - 0.48*x5**2*x8**2 - 0.48*sqrt(2)*x5**2*x8*x9 - 3.84*x5**2*x8 - 1.44*x5**2*x9**2 - 1.92*sqrt(2)*x5**2*x9 - 9.68*x5**2 - 0.48*sqrt(2)*x5*x6*x8**2 - 0.96*x5*x6*x8*x9 - 3.84*sqrt(2)*x5*x6*x8 - 1.44*sqrt(2)*x5*x6*x9**2 - 3.84*x5*x6*x9 - 9.68*sqrt(2)*x5*x6 - 0.4*sqrt(2)*x5*x8 + 0.494427190999916*x5*x9 - 2.6*sqrt(2)*x5 - 0.48*x6**2*x8**2 - 0.48*sqrt(2)*x6**2*x8*x9 - 3.84*x6**2*x8 - 1.44*x6**2*x9**2 - 1.92*sqrt(2)*x6**2*x9 - 9.68*x6**2 - 0.48*sqrt(2)*x6*x7*x8**2 - 0.96*x6*x7*x8*x9 - 3.84*sqrt(2)*x6*x7*x8 - 1.44*sqrt(2)*x6*x7*x9**2 - 3.84*x6*x7*x9 - 9.68*sqrt(2)*x6*x7 + 0.894427190999916*sqrt(2)*x6*x9 - 0.48*x7**2*x8**2 - 0.48*sqrt(2)*x7**2*x8*x9 - 3.84*x7**2*x8 - 1.44*x7**2*x9**2 - 1.92*sqrt(2)*x7**2*x9 - 9.68*x7**2 + 0.4*sqrt(2)*x7*x8 + 1.29442719099992*x7*x9 + 2.6*sqrt(2)*x7 - 1.92*x8**2 - 1.92*sqrt(2)*x8*x9 + 7.84*x8 - 0.96*x9**2 + 3.92*sqrt(2)*x9 - 17.42"
      ],
      "text/latex": "$\\displaystyle A_{const} x_{0}^{2} + 2 A_{const} x_{0} x_{1} + 2 A_{const} x_{0} x_{2} + 2 A_{const} x_{0} x_{3} + 2 A_{const} x_{0} x_{4} + 2 A_{const} x_{0} x_{5} + 2 A_{const} x_{0} x_{6} + 2 A_{const} x_{0} x_{7} - 2 A_{const} x_{0} + A_{const} x_{1}^{2} + 2 A_{const} x_{1} x_{2} + 2 A_{const} x_{1} x_{3} + 2 A_{const} x_{1} x_{4} + 2 A_{const} x_{1} x_{5} + 2 A_{const} x_{1} x_{6} + 2 A_{const} x_{1} x_{7} - 2 A_{const} x_{1} + A_{const} x_{10}^{2} + 2 A_{const} x_{10} x_{11} + 2 A_{const} x_{10} x_{12} + 2 A_{const} x_{10} x_{13} + 2 A_{const} x_{10} x_{14} + 2 A_{const} x_{10} x_{15} + 2 A_{const} x_{10} x_{8} + 2 A_{const} x_{10} x_{9} - 2 A_{const} x_{10} + A_{const} x_{11}^{2} + 2 A_{const} x_{11} x_{12} + 2 A_{const} x_{11} x_{13} + 2 A_{const} x_{11} x_{14} + 2 A_{const} x_{11} x_{15} + 2 A_{const} x_{11} x_{8} + 2 A_{const} x_{11} x_{9} - 2 A_{const} x_{11} + A_{const} x_{12}^{2} + 2 A_{const} x_{12} x_{13} + 2 A_{const} x_{12} x_{14} + 2 A_{const} x_{12} x_{15} + 2 A_{const} x_{12} x_{8} + 2 A_{const} x_{12} x_{9} - 2 A_{const} x_{12} + A_{const} x_{13}^{2} + 2 A_{const} x_{13} x_{14} + 2 A_{const} x_{13} x_{15} + 2 A_{const} x_{13} x_{8} + 2 A_{const} x_{13} x_{9} - 2 A_{const} x_{13} + A_{const} x_{14}^{2} + 2 A_{const} x_{14} x_{15} + 2 A_{const} x_{14} x_{8} + 2 A_{const} x_{14} x_{9} - 2 A_{const} x_{14} + A_{const} x_{15}^{2} + 2 A_{const} x_{15} x_{8} + 2 A_{const} x_{15} x_{9} - 2 A_{const} x_{15} + A_{const} x_{2}^{2} + 2 A_{const} x_{2} x_{3} + 2 A_{const} x_{2} x_{4} + 2 A_{const} x_{2} x_{5} + 2 A_{const} x_{2} x_{6} + 2 A_{const} x_{2} x_{7} - 2 A_{const} x_{2} + A_{const} x_{3}^{2} + 2 A_{const} x_{3} x_{4} + 2 A_{const} x_{3} x_{5} + 2 A_{const} x_{3} x_{6} + 2 A_{const} x_{3} x_{7} - 2 A_{const} x_{3} + A_{const} x_{4}^{2} + 2 A_{const} x_{4} x_{5} + 2 A_{const} x_{4} x_{6} + 2 A_{const} x_{4} x_{7} - 2 A_{const} x_{4} + A_{const} x_{5}^{2} + 2 A_{const} x_{5} x_{6} + 2 A_{const} x_{5} x_{7} - 2 A_{const} x_{5} + A_{const} x_{6}^{2} + 2 A_{const} x_{6} x_{7} - 2 A_{const} x_{6} + A_{const} x_{7}^{2} - 2 A_{const} x_{7} + A_{const} x_{8}^{2} + 2 A_{const} x_{8} x_{9} - 2 A_{const} x_{8} + A_{const} x_{9}^{2} - 2 A_{const} x_{9} + 2 A_{const} - 2.4 x_{0}^{2} x_{10}^{2} - 2.4 \\sqrt{2} x_{0}^{2} x_{10} x_{11} + 2.4 \\sqrt{2} x_{0}^{2} x_{10} x_{13} + 4.8 x_{0}^{2} x_{10} x_{14} + 2.4 \\sqrt{2} x_{0}^{2} x_{10} x_{15} - 2.4 \\sqrt{2} x_{0}^{2} x_{10} x_{9} - 1.44 x_{0}^{2} x_{11}^{2} - 0.48 \\sqrt{2} x_{0}^{2} x_{11} x_{12} + 1.92 x_{0}^{2} x_{11} x_{13} + 2.4 \\sqrt{2} x_{0}^{2} x_{11} x_{14} + 2.88 x_{0}^{2} x_{11} x_{15} + 0.48 \\sqrt{2} x_{0}^{2} x_{11} x_{8} - 1.92 x_{0}^{2} x_{11} x_{9} + 1.92 \\sqrt{2} x_{0}^{2} x_{11} - 0.48 x_{0}^{2} x_{12}^{2} - 0.48 \\sqrt{2} x_{0}^{2} x_{12} x_{13} + 0.48 \\sqrt{2} x_{0}^{2} x_{12} x_{15} + 0.96 x_{0}^{2} x_{12} x_{8} + 0.48 \\sqrt{2} x_{0}^{2} x_{12} x_{9} + 3.84 x_{0}^{2} x_{12} - 1.44 x_{0}^{2} x_{13}^{2} - 2.4 \\sqrt{2} x_{0}^{2} x_{13} x_{14} - 1.92 x_{0}^{2} x_{13} x_{15} + 0.48 \\sqrt{2} x_{0}^{2} x_{13} x_{8} + 2.88 x_{0}^{2} x_{13} x_{9} + 1.92 \\sqrt{2} x_{0}^{2} x_{13} - 2.4 x_{0}^{2} x_{14}^{2} - 2.4 \\sqrt{2} x_{0}^{2} x_{14} x_{15} + 2.4 \\sqrt{2} x_{0}^{2} x_{14} x_{9} - 1.44 x_{0}^{2} x_{15}^{2} - 0.48 \\sqrt{2} x_{0}^{2} x_{15} x_{8} + 1.92 x_{0}^{2} x_{15} x_{9} - 1.92 \\sqrt{2} x_{0}^{2} x_{15} - 0.48 x_{0}^{2} x_{8}^{2} - 0.48 \\sqrt{2} x_{0}^{2} x_{8} x_{9} - 3.84 x_{0}^{2} x_{8} - 1.44 x_{0}^{2} x_{9}^{2} - 1.92 \\sqrt{2} x_{0}^{2} x_{9} - 9.68 x_{0}^{2} - 2.4 \\sqrt{2} x_{0} x_{1} x_{10}^{2} - 4.8 x_{0} x_{1} x_{10} x_{11} + 4.8 x_{0} x_{1} x_{10} x_{13} + 4.8 \\sqrt{2} x_{0} x_{1} x_{10} x_{14} + 4.8 x_{0} x_{1} x_{10} x_{15} - 4.8 x_{0} x_{1} x_{10} x_{9} - 1.44 \\sqrt{2} x_{0} x_{1} x_{11}^{2} - 0.96 x_{0} x_{1} x_{11} x_{12} + 1.92 \\sqrt{2} x_{0} x_{1} x_{11} x_{13} + 4.8 x_{0} x_{1} x_{11} x_{14} + 2.88 \\sqrt{2} x_{0} x_{1} x_{11} x_{15} + 0.96 x_{0} x_{1} x_{11} x_{8} - 1.92 \\sqrt{2} x_{0} x_{1} x_{11} x_{9} + 3.84 x_{0} x_{1} x_{11} - 0.48 \\sqrt{2} x_{0} x_{1} x_{12}^{2} - 0.96 x_{0} x_{1} x_{12} x_{13} + 0.96 x_{0} x_{1} x_{12} x_{15} + 0.96 \\sqrt{2} x_{0} x_{1} x_{12} x_{8} + 0.96 x_{0} x_{1} x_{12} x_{9} + 3.84 \\sqrt{2} x_{0} x_{1} x_{12} - 1.44 \\sqrt{2} x_{0} x_{1} x_{13}^{2} - 4.8 x_{0} x_{1} x_{13} x_{14} - 1.92 \\sqrt{2} x_{0} x_{1} x_{13} x_{15} + 0.96 x_{0} x_{1} x_{13} x_{8} + 2.88 \\sqrt{2} x_{0} x_{1} x_{13} x_{9} + 3.84 x_{0} x_{1} x_{13} - 2.4 \\sqrt{2} x_{0} x_{1} x_{14}^{2} - 4.8 x_{0} x_{1} x_{14} x_{15} + 4.8 x_{0} x_{1} x_{14} x_{9} - 1.44 \\sqrt{2} x_{0} x_{1} x_{15}^{2} - 0.96 x_{0} x_{1} x_{15} x_{8} + 1.92 \\sqrt{2} x_{0} x_{1} x_{15} x_{9} - 3.84 x_{0} x_{1} x_{15} - 0.48 \\sqrt{2} x_{0} x_{1} x_{8}^{2} - 0.96 x_{0} x_{1} x_{8} x_{9} - 3.84 \\sqrt{2} x_{0} x_{1} x_{8} - 1.44 \\sqrt{2} x_{0} x_{1} x_{9}^{2} - 3.84 x_{0} x_{1} x_{9} - 9.68 \\sqrt{2} x_{0} x_{1} + 2.4 \\sqrt{2} x_{0} x_{10}^{2} x_{3} + 4.8 x_{0} x_{10}^{2} x_{4} + 2.4 \\sqrt{2} x_{0} x_{10}^{2} x_{5} - 2.4 \\sqrt{2} x_{0} x_{10}^{2} x_{7} + 4.8 x_{0} x_{10} x_{11} x_{3} + 4.8 \\sqrt{2} x_{0} x_{10} x_{11} x_{4} + 4.8 x_{0} x_{10} x_{11} x_{5} - 4.8 x_{0} x_{10} x_{11} x_{7} - 4.8 x_{0} x_{10} x_{13} x_{3} - 4.8 \\sqrt{2} x_{0} x_{10} x_{13} x_{4} - 4.8 x_{0} x_{10} x_{13} x_{5} + 4.8 x_{0} x_{10} x_{13} x_{7} - 4.8 \\sqrt{2} x_{0} x_{10} x_{14} x_{3} - 9.6 x_{0} x_{10} x_{14} x_{4} - 4.8 \\sqrt{2} x_{0} x_{10} x_{14} x_{5} + 4.8 \\sqrt{2} x_{0} x_{10} x_{14} x_{7} - 4.8 x_{0} x_{10} x_{15} x_{3} - 4.8 \\sqrt{2} x_{0} x_{10} x_{15} x_{4} - 4.8 x_{0} x_{10} x_{15} x_{5} + 4.8 x_{0} x_{10} x_{15} x_{7} + 4.8 x_{0} x_{10} x_{3} x_{9} + 4.8 \\sqrt{2} x_{0} x_{10} x_{4} x_{9} + 4.8 x_{0} x_{10} x_{5} x_{9} - 4.8 x_{0} x_{10} x_{7} x_{9} + 1.44 \\sqrt{2} x_{0} x_{11}^{2} x_{3} + 2.88 x_{0} x_{11}^{2} x_{4} + 1.44 \\sqrt{2} x_{0} x_{11}^{2} x_{5} - 1.44 \\sqrt{2} x_{0} x_{11}^{2} x_{7} + 0.96 x_{0} x_{11} x_{12} x_{3} + 0.96 \\sqrt{2} x_{0} x_{11} x_{12} x_{4} + 0.96 x_{0} x_{11} x_{12} x_{5} - 0.96 x_{0} x_{11} x_{12} x_{7} - 1.92 \\sqrt{2} x_{0} x_{11} x_{13} x_{3} - 3.84 x_{0} x_{11} x_{13} x_{4} - 1.92 \\sqrt{2} x_{0} x_{11} x_{13} x_{5} + 1.92 \\sqrt{2} x_{0} x_{11} x_{13} x_{7} - 4.8 x_{0} x_{11} x_{14} x_{3} - 4.8 \\sqrt{2} x_{0} x_{11} x_{14} x_{4} - 4.8 x_{0} x_{11} x_{14} x_{5} + 4.8 x_{0} x_{11} x_{14} x_{7} - 2.88 \\sqrt{2} x_{0} x_{11} x_{15} x_{3} - 5.76 x_{0} x_{11} x_{15} x_{4} - 2.88 \\sqrt{2} x_{0} x_{11} x_{15} x_{5} + 2.88 \\sqrt{2} x_{0} x_{11} x_{15} x_{7} - 0.96 x_{0} x_{11} x_{3} x_{8} + 1.92 \\sqrt{2} x_{0} x_{11} x_{3} x_{9} - 3.84 x_{0} x_{11} x_{3} - 0.96 \\sqrt{2} x_{0} x_{11} x_{4} x_{8} + 3.84 x_{0} x_{11} x_{4} x_{9} - 3.84 \\sqrt{2} x_{0} x_{11} x_{4} - 0.96 x_{0} x_{11} x_{5} x_{8} + 1.92 \\sqrt{2} x_{0} x_{11} x_{5} x_{9} - 3.84 x_{0} x_{11} x_{5} + 0.96 x_{0} x_{11} x_{7} x_{8} - 1.92 \\sqrt{2} x_{0} x_{11} x_{7} x_{9} + 3.84 x_{0} x_{11} x_{7} - 0.4 \\sqrt{2} x_{0} x_{11} + 0.48 \\sqrt{2} x_{0} x_{12}^{2} x_{3} + 0.96 x_{0} x_{12}^{2} x_{4} + 0.48 \\sqrt{2} x_{0} x_{12}^{2} x_{5} - 0.48 \\sqrt{2} x_{0} x_{12}^{2} x_{7} + 0.96 x_{0} x_{12} x_{13} x_{3} + 0.96 \\sqrt{2} x_{0} x_{12} x_{13} x_{4} + 0.96 x_{0} x_{12} x_{13} x_{5} - 0.96 x_{0} x_{12} x_{13} x_{7} - 0.96 x_{0} x_{12} x_{15} x_{3} - 0.96 \\sqrt{2} x_{0} x_{12} x_{15} x_{4} - 0.96 x_{0} x_{12} x_{15} x_{5} + 0.96 x_{0} x_{12} x_{15} x_{7} - 0.96 \\sqrt{2} x_{0} x_{12} x_{3} x_{8} - 0.96 x_{0} x_{12} x_{3} x_{9} - 3.84 \\sqrt{2} x_{0} x_{12} x_{3} - 1.92 x_{0} x_{12} x_{4} x_{8} - 0.96 \\sqrt{2} x_{0} x_{12} x_{4} x_{9} - 7.68 x_{0} x_{12} x_{4} - 0.96 \\sqrt{2} x_{0} x_{12} x_{5} x_{8} - 0.96 x_{0} x_{12} x_{5} x_{9} - 3.84 \\sqrt{2} x_{0} x_{12} x_{5} + 0.96 \\sqrt{2} x_{0} x_{12} x_{7} x_{8} + 0.96 x_{0} x_{12} x_{7} x_{9} + 3.84 \\sqrt{2} x_{0} x_{12} x_{7} - 0.8 x_{0} x_{12} + 1.44 \\sqrt{2} x_{0} x_{13}^{2} x_{3} + 2.88 x_{0} x_{13}^{2} x_{4} + 1.44 \\sqrt{2} x_{0} x_{13}^{2} x_{5} - 1.44 \\sqrt{2} x_{0} x_{13}^{2} x_{7} + 4.8 x_{0} x_{13} x_{14} x_{3} + 4.8 \\sqrt{2} x_{0} x_{13} x_{14} x_{4} + 4.8 x_{0} x_{13} x_{14} x_{5} - 4.8 x_{0} x_{13} x_{14} x_{7} + 1.92 \\sqrt{2} x_{0} x_{13} x_{15} x_{3} + 3.84 x_{0} x_{13} x_{15} x_{4} + 1.92 \\sqrt{2} x_{0} x_{13} x_{15} x_{5} - 1.92 \\sqrt{2} x_{0} x_{13} x_{15} x_{7} - 0.96 x_{0} x_{13} x_{3} x_{8} - 2.88 \\sqrt{2} x_{0} x_{13} x_{3} x_{9} - 3.84 x_{0} x_{13} x_{3} - 0.96 \\sqrt{2} x_{0} x_{13} x_{4} x_{8} - 5.76 x_{0} x_{13} x_{4} x_{9} - 3.84 \\sqrt{2} x_{0} x_{13} x_{4} - 0.96 x_{0} x_{13} x_{5} x_{8} - 2.88 \\sqrt{2} x_{0} x_{13} x_{5} x_{9} - 3.84 x_{0} x_{13} x_{5} + 0.96 x_{0} x_{13} x_{7} x_{8} + 2.88 \\sqrt{2} x_{0} x_{13} x_{7} x_{9} + 3.84 x_{0} x_{13} x_{7} - 0.4 \\sqrt{2} x_{0} x_{13} + 2.4 \\sqrt{2} x_{0} x_{14}^{2} x_{3} + 4.8 x_{0} x_{14}^{2} x_{4} + 2.4 \\sqrt{2} x_{0} x_{14}^{2} x_{5} - 2.4 \\sqrt{2} x_{0} x_{14}^{2} x_{7} + 4.8 x_{0} x_{14} x_{15} x_{3} + 4.8 \\sqrt{2} x_{0} x_{14} x_{15} x_{4} + 4.8 x_{0} x_{14} x_{15} x_{5} - 4.8 x_{0} x_{14} x_{15} x_{7} - 4.8 x_{0} x_{14} x_{3} x_{9} - 4.8 \\sqrt{2} x_{0} x_{14} x_{4} x_{9} - 4.8 x_{0} x_{14} x_{5} x_{9} + 4.8 x_{0} x_{14} x_{7} x_{9} + 1.44 \\sqrt{2} x_{0} x_{15}^{2} x_{3} + 2.88 x_{0} x_{15}^{2} x_{4} + 1.44 \\sqrt{2} x_{0} x_{15}^{2} x_{5} - 1.44 \\sqrt{2} x_{0} x_{15}^{2} x_{7} + 0.96 x_{0} x_{15} x_{3} x_{8} - 1.92 \\sqrt{2} x_{0} x_{15} x_{3} x_{9} + 3.84 x_{0} x_{15} x_{3} + 0.96 \\sqrt{2} x_{0} x_{15} x_{4} x_{8} - 3.84 x_{0} x_{15} x_{4} x_{9} + 3.84 \\sqrt{2} x_{0} x_{15} x_{4} + 0.96 x_{0} x_{15} x_{5} x_{8} - 1.92 \\sqrt{2} x_{0} x_{15} x_{5} x_{9} + 3.84 x_{0} x_{15} x_{5} - 0.96 x_{0} x_{15} x_{7} x_{8} + 1.92 \\sqrt{2} x_{0} x_{15} x_{7} x_{9} - 3.84 x_{0} x_{15} x_{7} + 0.4 \\sqrt{2} x_{0} x_{15} + 0.48 \\sqrt{2} x_{0} x_{3} x_{8}^{2} + 0.96 x_{0} x_{3} x_{8} x_{9} + 3.84 \\sqrt{2} x_{0} x_{3} x_{8} + 1.44 \\sqrt{2} x_{0} x_{3} x_{9}^{2} + 3.84 x_{0} x_{3} x_{9} + 9.68 \\sqrt{2} x_{0} x_{3} + 0.96 x_{0} x_{4} x_{8}^{2} + 0.96 \\sqrt{2} x_{0} x_{4} x_{8} x_{9} + 7.68 x_{0} x_{4} x_{8} + 2.88 x_{0} x_{4} x_{9}^{2} + 3.84 \\sqrt{2} x_{0} x_{4} x_{9} + 19.36 x_{0} x_{4} + 0.48 \\sqrt{2} x_{0} x_{5} x_{8}^{2} + 0.96 x_{0} x_{5} x_{8} x_{9} + 3.84 \\sqrt{2} x_{0} x_{5} x_{8} + 1.44 \\sqrt{2} x_{0} x_{5} x_{9}^{2} + 3.84 x_{0} x_{5} x_{9} + 9.68 \\sqrt{2} x_{0} x_{5} - 0.48 \\sqrt{2} x_{0} x_{7} x_{8}^{2} - 0.96 x_{0} x_{7} x_{8} x_{9} - 3.84 \\sqrt{2} x_{0} x_{7} x_{8} - 1.44 \\sqrt{2} x_{0} x_{7} x_{9}^{2} - 3.84 x_{0} x_{7} x_{9} - 9.68 \\sqrt{2} x_{0} x_{7} + 0.8 x_{0} x_{8} + 0.4 \\sqrt{2} x_{0} x_{9} + 5.2 x_{0} - 2.4 x_{1}^{2} x_{10}^{2} - 2.4 \\sqrt{2} x_{1}^{2} x_{10} x_{11} + 2.4 \\sqrt{2} x_{1}^{2} x_{10} x_{13} + 4.8 x_{1}^{2} x_{10} x_{14} + 2.4 \\sqrt{2} x_{1}^{2} x_{10} x_{15} - 2.4 \\sqrt{2} x_{1}^{2} x_{10} x_{9} - 1.44 x_{1}^{2} x_{11}^{2} - 0.48 \\sqrt{2} x_{1}^{2} x_{11} x_{12} + 1.92 x_{1}^{2} x_{11} x_{13} + 2.4 \\sqrt{2} x_{1}^{2} x_{11} x_{14} + 2.88 x_{1}^{2} x_{11} x_{15} + 0.48 \\sqrt{2} x_{1}^{2} x_{11} x_{8} - 1.92 x_{1}^{2} x_{11} x_{9} + 1.92 \\sqrt{2} x_{1}^{2} x_{11} - 0.48 x_{1}^{2} x_{12}^{2} - 0.48 \\sqrt{2} x_{1}^{2} x_{12} x_{13} + 0.48 \\sqrt{2} x_{1}^{2} x_{12} x_{15} + 0.96 x_{1}^{2} x_{12} x_{8} + 0.48 \\sqrt{2} x_{1}^{2} x_{12} x_{9} + 3.84 x_{1}^{2} x_{12} - 1.44 x_{1}^{2} x_{13}^{2} - 2.4 \\sqrt{2} x_{1}^{2} x_{13} x_{14} - 1.92 x_{1}^{2} x_{13} x_{15} + 0.48 \\sqrt{2} x_{1}^{2} x_{13} x_{8} + 2.88 x_{1}^{2} x_{13} x_{9} + 1.92 \\sqrt{2} x_{1}^{2} x_{13} - 2.4 x_{1}^{2} x_{14}^{2} - 2.4 \\sqrt{2} x_{1}^{2} x_{14} x_{15} + 2.4 \\sqrt{2} x_{1}^{2} x_{14} x_{9} - 1.44 x_{1}^{2} x_{15}^{2} - 0.48 \\sqrt{2} x_{1}^{2} x_{15} x_{8} + 1.92 x_{1}^{2} x_{15} x_{9} - 1.92 \\sqrt{2} x_{1}^{2} x_{15} - 0.48 x_{1}^{2} x_{8}^{2} - 0.48 \\sqrt{2} x_{1}^{2} x_{8} x_{9} - 3.84 x_{1}^{2} x_{8} - 1.44 x_{1}^{2} x_{9}^{2} - 1.92 \\sqrt{2} x_{1}^{2} x_{9} - 9.68 x_{1}^{2} - 2.4 \\sqrt{2} x_{1} x_{10}^{2} x_{2} + 2.4 \\sqrt{2} x_{1} x_{10}^{2} x_{4} + 4.8 x_{1} x_{10}^{2} x_{5} + 2.4 \\sqrt{2} x_{1} x_{10}^{2} x_{6} - 4.8 x_{1} x_{10} x_{11} x_{2} + 4.8 x_{1} x_{10} x_{11} x_{4} + 4.8 \\sqrt{2} x_{1} x_{10} x_{11} x_{5} + 4.8 x_{1} x_{10} x_{11} x_{6} + 4.8 x_{1} x_{10} x_{13} x_{2} - 4.8 x_{1} x_{10} x_{13} x_{4} - 4.8 \\sqrt{2} x_{1} x_{10} x_{13} x_{5} - 4.8 x_{1} x_{10} x_{13} x_{6} + 4.8 \\sqrt{2} x_{1} x_{10} x_{14} x_{2} - 4.8 \\sqrt{2} x_{1} x_{10} x_{14} x_{4} - 9.6 x_{1} x_{10} x_{14} x_{5} - 4.8 \\sqrt{2} x_{1} x_{10} x_{14} x_{6} + 4.8 x_{1} x_{10} x_{15} x_{2} - 4.8 x_{1} x_{10} x_{15} x_{4} - 4.8 \\sqrt{2} x_{1} x_{10} x_{15} x_{5} - 4.8 x_{1} x_{10} x_{15} x_{6} - 4.8 x_{1} x_{10} x_{2} x_{9} + 4.8 x_{1} x_{10} x_{4} x_{9} + 4.8 \\sqrt{2} x_{1} x_{10} x_{5} x_{9} + 4.8 x_{1} x_{10} x_{6} x_{9} - 0.894427190999916 \\sqrt{2} x_{1} x_{10} - 1.44 \\sqrt{2} x_{1} x_{11}^{2} x_{2} + 1.44 \\sqrt{2} x_{1} x_{11}^{2} x_{4} + 2.88 x_{1} x_{11}^{2} x_{5} + 1.44 \\sqrt{2} x_{1} x_{11}^{2} x_{6} - 0.96 x_{1} x_{11} x_{12} x_{2} + 0.96 x_{1} x_{11} x_{12} x_{4} + 0.960000000000001 \\sqrt{2} x_{1} x_{11} x_{12} x_{5} + 0.96 x_{1} x_{11} x_{12} x_{6} + 1.92 \\sqrt{2} x_{1} x_{11} x_{13} x_{2} - 1.92 \\sqrt{2} x_{1} x_{11} x_{13} x_{4} - 3.84 x_{1} x_{11} x_{13} x_{5} - 1.92 \\sqrt{2} x_{1} x_{11} x_{13} x_{6} + 4.8 x_{1} x_{11} x_{14} x_{2} - 4.8 x_{1} x_{11} x_{14} x_{4} - 4.8 \\sqrt{2} x_{1} x_{11} x_{14} x_{5} - 4.8 x_{1} x_{11} x_{14} x_{6} + 2.88 \\sqrt{2} x_{1} x_{11} x_{15} x_{2} - 2.88 \\sqrt{2} x_{1} x_{11} x_{15} x_{4} - 5.76 x_{1} x_{11} x_{15} x_{5} - 2.88 \\sqrt{2} x_{1} x_{11} x_{15} x_{6} + 0.96 x_{1} x_{11} x_{2} x_{8} - 1.92 \\sqrt{2} x_{1} x_{11} x_{2} x_{9} + 3.84 x_{1} x_{11} x_{2} - 0.96 x_{1} x_{11} x_{4} x_{8} + 1.92 \\sqrt{2} x_{1} x_{11} x_{4} x_{9} - 3.84 x_{1} x_{11} x_{4} - 0.960000000000001 \\sqrt{2} x_{1} x_{11} x_{5} x_{8} + 3.84 x_{1} x_{11} x_{5} x_{9} - 3.84 \\sqrt{2} x_{1} x_{11} x_{5} - 0.96 x_{1} x_{11} x_{6} x_{8} + 1.92 \\sqrt{2} x_{1} x_{11} x_{6} x_{9} - 3.84 x_{1} x_{11} x_{6} - 1.29442719099992 x_{1} x_{11} - 0.48 \\sqrt{2} x_{1} x_{12}^{2} x_{2} + 0.48 \\sqrt{2} x_{1} x_{12}^{2} x_{4} + 0.96 x_{1} x_{12}^{2} x_{5} + 0.48 \\sqrt{2} x_{1} x_{12}^{2} x_{6} - 0.96 x_{1} x_{12} x_{13} x_{2} + 0.96 x_{1} x_{12} x_{13} x_{4} + 0.960000000000001 \\sqrt{2} x_{1} x_{12} x_{13} x_{5} + 0.96 x_{1} x_{12} x_{13} x_{6} + 0.96 x_{1} x_{12} x_{15} x_{2} - 0.96 x_{1} x_{12} x_{15} x_{4} - 0.960000000000001 \\sqrt{2} x_{1} x_{12} x_{15} x_{5} - 0.96 x_{1} x_{12} x_{15} x_{6} + 0.96 \\sqrt{2} x_{1} x_{12} x_{2} x_{8} + 0.96 x_{1} x_{12} x_{2} x_{9} + 3.84 \\sqrt{2} x_{1} x_{12} x_{2} - 0.96 \\sqrt{2} x_{1} x_{12} x_{4} x_{8} - 0.96 x_{1} x_{12} x_{4} x_{9} - 3.84 \\sqrt{2} x_{1} x_{12} x_{4} - 1.92 x_{1} x_{12} x_{5} x_{8} - 0.960000000000001 \\sqrt{2} x_{1} x_{12} x_{5} x_{9} - 7.68 x_{1} x_{12} x_{5} - 0.96 \\sqrt{2} x_{1} x_{12} x_{6} x_{8} - 0.96 x_{1} x_{12} x_{6} x_{9} - 3.84 \\sqrt{2} x_{1} x_{12} x_{6} - 0.4 \\sqrt{2} x_{1} x_{12} - 1.44 \\sqrt{2} x_{1} x_{13}^{2} x_{2} + 1.44 \\sqrt{2} x_{1} x_{13}^{2} x_{4} + 2.88 x_{1} x_{13}^{2} x_{5} + 1.44 \\sqrt{2} x_{1} x_{13}^{2} x_{6} - 4.8 x_{1} x_{13} x_{14} x_{2} + 4.8 x_{1} x_{13} x_{14} x_{4} + 4.8 \\sqrt{2} x_{1} x_{13} x_{14} x_{5} + 4.8 x_{1} x_{13} x_{14} x_{6} - 1.92 \\sqrt{2} x_{1} x_{13} x_{15} x_{2} + 1.92 \\sqrt{2} x_{1} x_{13} x_{15} x_{4} + 3.84 x_{1} x_{13} x_{15} x_{5} + 1.92 \\sqrt{2} x_{1} x_{13} x_{15} x_{6} + 0.96 x_{1} x_{13} x_{2} x_{8} + 2.88 \\sqrt{2} x_{1} x_{13} x_{2} x_{9} + 3.84 x_{1} x_{13} x_{2} - 0.96 x_{1} x_{13} x_{4} x_{8} - 2.88 \\sqrt{2} x_{1} x_{13} x_{4} x_{9} - 3.84 x_{1} x_{13} x_{4} - 0.960000000000001 \\sqrt{2} x_{1} x_{13} x_{5} x_{8} - 5.76 x_{1} x_{13} x_{5} x_{9} - 3.84 \\sqrt{2} x_{1} x_{13} x_{5} - 0.96 x_{1} x_{13} x_{6} x_{8} - 2.88 \\sqrt{2} x_{1} x_{13} x_{6} x_{9} - 3.84 x_{1} x_{13} x_{6} + 0.494427190999916 x_{1} x_{13} - 2.4 \\sqrt{2} x_{1} x_{14}^{2} x_{2} + 2.4 \\sqrt{2} x_{1} x_{14}^{2} x_{4} + 4.8 x_{1} x_{14}^{2} x_{5} + 2.4 \\sqrt{2} x_{1} x_{14}^{2} x_{6} - 4.8 x_{1} x_{14} x_{15} x_{2} + 4.8 x_{1} x_{14} x_{15} x_{4} + 4.8 \\sqrt{2} x_{1} x_{14} x_{15} x_{5} + 4.8 x_{1} x_{14} x_{15} x_{6} + 4.8 x_{1} x_{14} x_{2} x_{9} - 4.8 x_{1} x_{14} x_{4} x_{9} - 4.8 \\sqrt{2} x_{1} x_{14} x_{5} x_{9} - 4.8 x_{1} x_{14} x_{6} x_{9} + 0.894427190999916 \\sqrt{2} x_{1} x_{14} - 1.44 \\sqrt{2} x_{1} x_{15}^{2} x_{2} + 1.44 \\sqrt{2} x_{1} x_{15}^{2} x_{4} + 2.88 x_{1} x_{15}^{2} x_{5} + 1.44 \\sqrt{2} x_{1} x_{15}^{2} x_{6} - 0.96 x_{1} x_{15} x_{2} x_{8} + 1.92 \\sqrt{2} x_{1} x_{15} x_{2} x_{9} - 3.84 x_{1} x_{15} x_{2} + 0.96 x_{1} x_{15} x_{4} x_{8} - 1.92 \\sqrt{2} x_{1} x_{15} x_{4} x_{9} + 3.84 x_{1} x_{15} x_{4} + 0.960000000000001 \\sqrt{2} x_{1} x_{15} x_{5} x_{8} - 3.84 x_{1} x_{15} x_{5} x_{9} + 3.84 \\sqrt{2} x_{1} x_{15} x_{5} + 0.96 x_{1} x_{15} x_{6} x_{8} - 1.92 \\sqrt{2} x_{1} x_{15} x_{6} x_{9} + 3.84 x_{1} x_{15} x_{6} + 1.29442719099992 x_{1} x_{15} - 0.48 \\sqrt{2} x_{1} x_{2} x_{8}^{2} - 0.96 x_{1} x_{2} x_{8} x_{9} - 3.84 \\sqrt{2} x_{1} x_{2} x_{8} - 1.44 \\sqrt{2} x_{1} x_{2} x_{9}^{2} - 3.84 x_{1} x_{2} x_{9} - 9.68 \\sqrt{2} x_{1} x_{2} + 0.48 \\sqrt{2} x_{1} x_{4} x_{8}^{2} + 0.96 x_{1} x_{4} x_{8} x_{9} + 3.84 \\sqrt{2} x_{1} x_{4} x_{8} + 1.44 \\sqrt{2} x_{1} x_{4} x_{9}^{2} + 3.84 x_{1} x_{4} x_{9} + 9.68 \\sqrt{2} x_{1} x_{4} + 0.96 x_{1} x_{5} x_{8}^{2} + 0.960000000000001 \\sqrt{2} x_{1} x_{5} x_{8} x_{9} + 7.68 x_{1} x_{5} x_{8} + 2.88 x_{1} x_{5} x_{9}^{2} + 3.84 \\sqrt{2} x_{1} x_{5} x_{9} + 19.36 x_{1} x_{5} + 0.48 \\sqrt{2} x_{1} x_{6} x_{8}^{2} + 0.96 x_{1} x_{6} x_{8} x_{9} + 3.84 \\sqrt{2} x_{1} x_{6} x_{8} + 1.44 \\sqrt{2} x_{1} x_{6} x_{9}^{2} + 3.84 x_{1} x_{6} x_{9} + 9.68 \\sqrt{2} x_{1} x_{6} + 0.4 \\sqrt{2} x_{1} x_{8} - 0.494427190999916 x_{1} x_{9} + 2.6 \\sqrt{2} x_{1} - 2.4 x_{10}^{2} x_{2}^{2} - 2.4 \\sqrt{2} x_{10}^{2} x_{2} x_{3} + 2.4 \\sqrt{2} x_{10}^{2} x_{2} x_{5} + 4.8 x_{10}^{2} x_{2} x_{6} + 2.4 \\sqrt{2} x_{10}^{2} x_{2} x_{7} - 2.4 x_{10}^{2} x_{3}^{2} - 2.4 \\sqrt{2} x_{10}^{2} x_{3} x_{4} + 2.4 \\sqrt{2} x_{10}^{2} x_{3} x_{6} + 4.8 x_{10}^{2} x_{3} x_{7} - 2.4 x_{10}^{2} x_{4}^{2} - 2.4 \\sqrt{2} x_{10}^{2} x_{4} x_{5} + 2.4 \\sqrt{2} x_{10}^{2} x_{4} x_{7} - 2.4 x_{10}^{2} x_{5}^{2} - 2.4 \\sqrt{2} x_{10}^{2} x_{5} x_{6} - 2.4 x_{10}^{2} x_{6}^{2} - 2.4 \\sqrt{2} x_{10}^{2} x_{6} x_{7} - 2.4 x_{10}^{2} x_{7}^{2} - 2.4 \\sqrt{2} x_{10} x_{11} x_{2}^{2} - 4.8 x_{10} x_{11} x_{2} x_{3} + 4.8 x_{10} x_{11} x_{2} x_{5} + 4.8 \\sqrt{2} x_{10} x_{11} x_{2} x_{6} + 4.8 x_{10} x_{11} x_{2} x_{7} - 2.4 \\sqrt{2} x_{10} x_{11} x_{3}^{2} - 4.8 x_{10} x_{11} x_{3} x_{4} + 4.8 x_{10} x_{11} x_{3} x_{6} + 4.8 \\sqrt{2} x_{10} x_{11} x_{3} x_{7} - 2.4 \\sqrt{2} x_{10} x_{11} x_{4}^{2} - 4.8 x_{10} x_{11} x_{4} x_{5} + 4.8 x_{10} x_{11} x_{4} x_{7} - 2.4 \\sqrt{2} x_{10} x_{11} x_{5}^{2} - 4.8 x_{10} x_{11} x_{5} x_{6} - 2.4 \\sqrt{2} x_{10} x_{11} x_{6}^{2} - 4.8 x_{10} x_{11} x_{6} x_{7} - 2.4 \\sqrt{2} x_{10} x_{11} x_{7}^{2} + 2.4 \\sqrt{2} x_{10} x_{13} x_{2}^{2} + 4.8 x_{10} x_{13} x_{2} x_{3} - 4.8 x_{10} x_{13} x_{2} x_{5} - 4.8 \\sqrt{2} x_{10} x_{13} x_{2} x_{6} - 4.8 x_{10} x_{13} x_{2} x_{7} + 2.4 \\sqrt{2} x_{10} x_{13} x_{3}^{2} + 4.8 x_{10} x_{13} x_{3} x_{4} - 4.8 x_{10} x_{13} x_{3} x_{6} - 4.8 \\sqrt{2} x_{10} x_{13} x_{3} x_{7} + 2.4 \\sqrt{2} x_{10} x_{13} x_{4}^{2} + 4.8 x_{10} x_{13} x_{4} x_{5} - 4.8 x_{10} x_{13} x_{4} x_{7} + 2.4 \\sqrt{2} x_{10} x_{13} x_{5}^{2} + 4.8 x_{10} x_{13} x_{5} x_{6} + 2.4 \\sqrt{2} x_{10} x_{13} x_{6}^{2} + 4.8 x_{10} x_{13} x_{6} x_{7} + 2.4 \\sqrt{2} x_{10} x_{13} x_{7}^{2} + 4.8 x_{10} x_{14} x_{2}^{2} + 4.8 \\sqrt{2} x_{10} x_{14} x_{2} x_{3} - 4.8 \\sqrt{2} x_{10} x_{14} x_{2} x_{5} - 9.6 x_{10} x_{14} x_{2} x_{6} - 4.8 \\sqrt{2} x_{10} x_{14} x_{2} x_{7} + 4.8 x_{10} x_{14} x_{3}^{2} + 4.8 \\sqrt{2} x_{10} x_{14} x_{3} x_{4} - 4.8 \\sqrt{2} x_{10} x_{14} x_{3} x_{6} - 9.6 x_{10} x_{14} x_{3} x_{7} + 4.8 x_{10} x_{14} x_{4}^{2} + 4.8 \\sqrt{2} x_{10} x_{14} x_{4} x_{5} - 4.8 \\sqrt{2} x_{10} x_{14} x_{4} x_{7} + 4.8 x_{10} x_{14} x_{5}^{2} + 4.8 \\sqrt{2} x_{10} x_{14} x_{5} x_{6} + 4.8 x_{10} x_{14} x_{6}^{2} + 4.8 \\sqrt{2} x_{10} x_{14} x_{6} x_{7} + 4.8 x_{10} x_{14} x_{7}^{2} + 2.4 \\sqrt{2} x_{10} x_{15} x_{2}^{2} + 4.8 x_{10} x_{15} x_{2} x_{3} - 4.8 x_{10} x_{15} x_{2} x_{5} - 4.8 \\sqrt{2} x_{10} x_{15} x_{2} x_{6} - 4.8 x_{10} x_{15} x_{2} x_{7} + 2.4 \\sqrt{2} x_{10} x_{15} x_{3}^{2} + 4.8 x_{10} x_{15} x_{3} x_{4} - 4.8 x_{10} x_{15} x_{3} x_{6} - 4.8 \\sqrt{2} x_{10} x_{15} x_{3} x_{7} + 2.4 \\sqrt{2} x_{10} x_{15} x_{4}^{2} + 4.8 x_{10} x_{15} x_{4} x_{5} - 4.8 x_{10} x_{15} x_{4} x_{7} + 2.4 \\sqrt{2} x_{10} x_{15} x_{5}^{2} + 4.8 x_{10} x_{15} x_{5} x_{6} + 2.4 \\sqrt{2} x_{10} x_{15} x_{6}^{2} + 4.8 x_{10} x_{15} x_{6} x_{7} + 2.4 \\sqrt{2} x_{10} x_{15} x_{7}^{2} - 2.4 \\sqrt{2} x_{10} x_{2}^{2} x_{9} - 4.8 x_{10} x_{2} x_{3} x_{9} + 4.8 x_{10} x_{2} x_{5} x_{9} + 4.8 \\sqrt{2} x_{10} x_{2} x_{6} x_{9} + 4.8 x_{10} x_{2} x_{7} x_{9} - 1.78885438199983 x_{10} x_{2} - 2.4 \\sqrt{2} x_{10} x_{3}^{2} x_{9} - 4.8 x_{10} x_{3} x_{4} x_{9} + 4.8 x_{10} x_{3} x_{6} x_{9} + 4.8 \\sqrt{2} x_{10} x_{3} x_{7} x_{9} - 0.894427190999916 \\sqrt{2} x_{10} x_{3} - 2.4 \\sqrt{2} x_{10} x_{4}^{2} x_{9} - 4.8 x_{10} x_{4} x_{5} x_{9} + 4.8 x_{10} x_{4} x_{7} x_{9} - 2.4 \\sqrt{2} x_{10} x_{5}^{2} x_{9} - 4.8 x_{10} x_{5} x_{6} x_{9} + 0.894427190999916 \\sqrt{2} x_{10} x_{5} - 2.4 \\sqrt{2} x_{10} x_{6}^{2} x_{9} - 4.8 x_{10} x_{6} x_{7} x_{9} + 1.78885438199983 x_{10} x_{6} - 2.4 \\sqrt{2} x_{10} x_{7}^{2} x_{9} + 0.894427190999916 \\sqrt{2} x_{10} x_{7} - 1.44 x_{11}^{2} x_{2}^{2} - 1.44 \\sqrt{2} x_{11}^{2} x_{2} x_{3} + 1.44 \\sqrt{2} x_{11}^{2} x_{2} x_{5} + 2.88 x_{11}^{2} x_{2} x_{6} + 1.44 \\sqrt{2} x_{11}^{2} x_{2} x_{7} - 1.44 x_{11}^{2} x_{3}^{2} - 1.44 \\sqrt{2} x_{11}^{2} x_{3} x_{4} + 1.44 \\sqrt{2} x_{11}^{2} x_{3} x_{6} + 2.88 x_{11}^{2} x_{3} x_{7} - 1.44 x_{11}^{2} x_{4}^{2} - 1.44 \\sqrt{2} x_{11}^{2} x_{4} x_{5} + 1.44 \\sqrt{2} x_{11}^{2} x_{4} x_{7} - 1.44 x_{11}^{2} x_{5}^{2} - 1.44 \\sqrt{2} x_{11}^{2} x_{5} x_{6} - 1.44 x_{11}^{2} x_{6}^{2} - 1.44 \\sqrt{2} x_{11}^{2} x_{6} x_{7} - 1.44 x_{11}^{2} x_{7}^{2} - 0.96 x_{11}^{2} - 0.48 \\sqrt{2} x_{11} x_{12} x_{2}^{2} - 0.96 x_{11} x_{12} x_{2} x_{3} + 0.96 x_{11} x_{12} x_{2} x_{5} + 0.96 \\sqrt{2} x_{11} x_{12} x_{2} x_{6} + 0.96 x_{11} x_{12} x_{2} x_{7} - 0.48 \\sqrt{2} x_{11} x_{12} x_{3}^{2} - 0.96 x_{11} x_{12} x_{3} x_{4} + 0.96 x_{11} x_{12} x_{3} x_{6} + 0.960000000000001 \\sqrt{2} x_{11} x_{12} x_{3} x_{7} - 0.48 \\sqrt{2} x_{11} x_{12} x_{4}^{2} - 0.96 x_{11} x_{12} x_{4} x_{5} + 0.96 x_{11} x_{12} x_{4} x_{7} - 0.48 \\sqrt{2} x_{11} x_{12} x_{5}^{2} - 0.96 x_{11} x_{12} x_{5} x_{6} - 0.48 \\sqrt{2} x_{11} x_{12} x_{6}^{2} - 0.96 x_{11} x_{12} x_{6} x_{7} - 0.48 \\sqrt{2} x_{11} x_{12} x_{7}^{2} - 1.92 \\sqrt{2} x_{11} x_{12} + 1.92 x_{11} x_{13} x_{2}^{2} + 1.92 \\sqrt{2} x_{11} x_{13} x_{2} x_{3} - 1.92 \\sqrt{2} x_{11} x_{13} x_{2} x_{5} - 3.84 x_{11} x_{13} x_{2} x_{6} - 1.92 \\sqrt{2} x_{11} x_{13} x_{2} x_{7} + 1.92 x_{11} x_{13} x_{3}^{2} + 1.92 \\sqrt{2} x_{11} x_{13} x_{3} x_{4} - 1.92 \\sqrt{2} x_{11} x_{13} x_{3} x_{6} - 3.84 x_{11} x_{13} x_{3} x_{7} + 1.92 x_{11} x_{13} x_{4}^{2} + 1.92 \\sqrt{2} x_{11} x_{13} x_{4} x_{5} - 1.92 \\sqrt{2} x_{11} x_{13} x_{4} x_{7} + 1.92 x_{11} x_{13} x_{5}^{2} + 1.92 \\sqrt{2} x_{11} x_{13} x_{5} x_{6} + 1.92 x_{11} x_{13} x_{6}^{2} + 1.92 \\sqrt{2} x_{11} x_{13} x_{6} x_{7} + 1.92 x_{11} x_{13} x_{7}^{2} - 1.92 x_{11} x_{13} + 2.4 \\sqrt{2} x_{11} x_{14} x_{2}^{2} + 4.8 x_{11} x_{14} x_{2} x_{3} - 4.8 x_{11} x_{14} x_{2} x_{5} - 4.8 \\sqrt{2} x_{11} x_{14} x_{2} x_{6} - 4.8 x_{11} x_{14} x_{2} x_{7} + 2.4 \\sqrt{2} x_{11} x_{14} x_{3}^{2} + 4.8 x_{11} x_{14} x_{3} x_{4} - 4.8 x_{11} x_{14} x_{3} x_{6} - 4.8 \\sqrt{2} x_{11} x_{14} x_{3} x_{7} + 2.4 \\sqrt{2} x_{11} x_{14} x_{4}^{2} + 4.8 x_{11} x_{14} x_{4} x_{5} - 4.8 x_{11} x_{14} x_{4} x_{7} + 2.4 \\sqrt{2} x_{11} x_{14} x_{5}^{2} + 4.8 x_{11} x_{14} x_{5} x_{6} + 2.4 \\sqrt{2} x_{11} x_{14} x_{6}^{2} + 4.8 x_{11} x_{14} x_{6} x_{7} + 2.4 \\sqrt{2} x_{11} x_{14} x_{7}^{2} + 2.88 x_{11} x_{15} x_{2}^{2} + 2.88 \\sqrt{2} x_{11} x_{15} x_{2} x_{3} - 2.88 \\sqrt{2} x_{11} x_{15} x_{2} x_{5} - 5.76 x_{11} x_{15} x_{2} x_{6} - 2.88 \\sqrt{2} x_{11} x_{15} x_{2} x_{7} + 2.88 x_{11} x_{15} x_{3}^{2} + 2.88 \\sqrt{2} x_{11} x_{15} x_{3} x_{4} - 2.88 \\sqrt{2} x_{11} x_{15} x_{3} x_{6} - 5.76 x_{11} x_{15} x_{3} x_{7} + 2.88 x_{11} x_{15} x_{4}^{2} + 2.88 \\sqrt{2} x_{11} x_{15} x_{4} x_{5} - 2.88 \\sqrt{2} x_{11} x_{15} x_{4} x_{7} + 2.88 x_{11} x_{15} x_{5}^{2} + 2.88 \\sqrt{2} x_{11} x_{15} x_{5} x_{6} + 2.88 x_{11} x_{15} x_{6}^{2} + 2.88 \\sqrt{2} x_{11} x_{15} x_{6} x_{7} + 2.88 x_{11} x_{15} x_{7}^{2} + 1.92 x_{11} x_{15} + 0.48 \\sqrt{2} x_{11} x_{2}^{2} x_{8} - 1.92 x_{11} x_{2}^{2} x_{9} + 1.92 \\sqrt{2} x_{11} x_{2}^{2} + 0.96 x_{11} x_{2} x_{3} x_{8} - 1.92 \\sqrt{2} x_{11} x_{2} x_{3} x_{9} + 3.84 x_{11} x_{2} x_{3} - 0.96 x_{11} x_{2} x_{5} x_{8} + 1.92 \\sqrt{2} x_{11} x_{2} x_{5} x_{9} - 3.84 x_{11} x_{2} x_{5} - 0.96 \\sqrt{2} x_{11} x_{2} x_{6} x_{8} + 3.84 x_{11} x_{2} x_{6} x_{9} - 3.84 \\sqrt{2} x_{11} x_{2} x_{6} - 0.96 x_{11} x_{2} x_{7} x_{8} + 1.92 \\sqrt{2} x_{11} x_{2} x_{7} x_{9} - 3.84 x_{11} x_{2} x_{7} - 0.894427190999916 \\sqrt{2} x_{11} x_{2} + 0.48 \\sqrt{2} x_{11} x_{3}^{2} x_{8} - 1.92 x_{11} x_{3}^{2} x_{9} + 1.92 \\sqrt{2} x_{11} x_{3}^{2} + 0.96 x_{11} x_{3} x_{4} x_{8} - 1.92 \\sqrt{2} x_{11} x_{3} x_{4} x_{9} + 3.84 x_{11} x_{3} x_{4} - 0.96 x_{11} x_{3} x_{6} x_{8} + 1.92 \\sqrt{2} x_{11} x_{3} x_{6} x_{9} - 3.84 x_{11} x_{3} x_{6} - 0.960000000000001 \\sqrt{2} x_{11} x_{3} x_{7} x_{8} + 3.84 x_{11} x_{3} x_{7} x_{9} - 3.84 \\sqrt{2} x_{11} x_{3} x_{7} - 0.494427190999916 x_{11} x_{3} + 0.48 \\sqrt{2} x_{11} x_{4}^{2} x_{8} - 1.92 x_{11} x_{4}^{2} x_{9} + 1.92 \\sqrt{2} x_{11} x_{4}^{2} + 0.96 x_{11} x_{4} x_{5} x_{8} - 1.92 \\sqrt{2} x_{11} x_{4} x_{5} x_{9} + 3.84 x_{11} x_{4} x_{5} - 0.96 x_{11} x_{4} x_{7} x_{8} + 1.92 \\sqrt{2} x_{11} x_{4} x_{7} x_{9} - 3.84 x_{11} x_{4} x_{7} + 0.4 \\sqrt{2} x_{11} x_{4} + 0.48 \\sqrt{2} x_{11} x_{5}^{2} x_{8} - 1.92 x_{11} x_{5}^{2} x_{9} + 1.92 \\sqrt{2} x_{11} x_{5}^{2} + 0.96 x_{11} x_{5} x_{6} x_{8} - 1.92 \\sqrt{2} x_{11} x_{5} x_{6} x_{9} + 3.84 x_{11} x_{5} x_{6} + 1.29442719099992 x_{11} x_{5} + 0.48 \\sqrt{2} x_{11} x_{6}^{2} x_{8} - 1.92 x_{11} x_{6}^{2} x_{9} + 1.92 \\sqrt{2} x_{11} x_{6}^{2} + 0.96 x_{11} x_{6} x_{7} x_{8} - 1.92 \\sqrt{2} x_{11} x_{6} x_{7} x_{9} + 3.84 x_{11} x_{6} x_{7} + 0.894427190999916 \\sqrt{2} x_{11} x_{6} + 0.48 \\sqrt{2} x_{11} x_{7}^{2} x_{8} - 1.92 x_{11} x_{7}^{2} x_{9} + 1.92 \\sqrt{2} x_{11} x_{7}^{2} + 0.494427190999916 x_{11} x_{7} + 1.92 \\sqrt{2} x_{11} x_{8} + 1.92 x_{11} x_{9} - 3.92 \\sqrt{2} x_{11} - 0.48 x_{12}^{2} x_{2}^{2} - 0.48 \\sqrt{2} x_{12}^{2} x_{2} x_{3} + 0.48 \\sqrt{2} x_{12}^{2} x_{2} x_{5} + 0.96 x_{12}^{2} x_{2} x_{6} + 0.48 \\sqrt{2} x_{12}^{2} x_{2} x_{7} - 0.48 x_{12}^{2} x_{3}^{2} - 0.48 \\sqrt{2} x_{12}^{2} x_{3} x_{4} + 0.48 \\sqrt{2} x_{12}^{2} x_{3} x_{6} + 0.96 x_{12}^{2} x_{3} x_{7} - 0.48 x_{12}^{2} x_{4}^{2} - 0.48 \\sqrt{2} x_{12}^{2} x_{4} x_{5} + 0.48 \\sqrt{2} x_{12}^{2} x_{4} x_{7} - 0.48 x_{12}^{2} x_{5}^{2} - 0.48 \\sqrt{2} x_{12}^{2} x_{5} x_{6} - 0.48 x_{12}^{2} x_{6}^{2} - 0.48 \\sqrt{2} x_{12}^{2} x_{6} x_{7} - 0.48 x_{12}^{2} x_{7}^{2} - 1.92 x_{12}^{2} - 0.48 \\sqrt{2} x_{12} x_{13} x_{2}^{2} - 0.96 x_{12} x_{13} x_{2} x_{3} + 0.96 x_{12} x_{13} x_{2} x_{5} + 0.96 \\sqrt{2} x_{12} x_{13} x_{2} x_{6} + 0.96 x_{12} x_{13} x_{2} x_{7} - 0.48 \\sqrt{2} x_{12} x_{13} x_{3}^{2} - 0.96 x_{12} x_{13} x_{3} x_{4} + 0.96 x_{12} x_{13} x_{3} x_{6} + 0.960000000000001 \\sqrt{2} x_{12} x_{13} x_{3} x_{7} - 0.48 \\sqrt{2} x_{12} x_{13} x_{4}^{2} - 0.96 x_{12} x_{13} x_{4} x_{5} + 0.96 x_{12} x_{13} x_{4} x_{7} - 0.48 \\sqrt{2} x_{12} x_{13} x_{5}^{2} - 0.96 x_{12} x_{13} x_{5} x_{6} - 0.48 \\sqrt{2} x_{12} x_{13} x_{6}^{2} - 0.96 x_{12} x_{13} x_{6} x_{7} - 0.48 \\sqrt{2} x_{12} x_{13} x_{7}^{2} - 1.92 \\sqrt{2} x_{12} x_{13} + 0.48 \\sqrt{2} x_{12} x_{15} x_{2}^{2} + 0.96 x_{12} x_{15} x_{2} x_{3} - 0.96 x_{12} x_{15} x_{2} x_{5} - 0.96 \\sqrt{2} x_{12} x_{15} x_{2} x_{6} - 0.96 x_{12} x_{15} x_{2} x_{7} + 0.48 \\sqrt{2} x_{12} x_{15} x_{3}^{2} + 0.96 x_{12} x_{15} x_{3} x_{4} - 0.96 x_{12} x_{15} x_{3} x_{6} - 0.960000000000001 \\sqrt{2} x_{12} x_{15} x_{3} x_{7} + 0.48 \\sqrt{2} x_{12} x_{15} x_{4}^{2} + 0.96 x_{12} x_{15} x_{4} x_{5} - 0.96 x_{12} x_{15} x_{4} x_{7} + 0.48 \\sqrt{2} x_{12} x_{15} x_{5}^{2} + 0.96 x_{12} x_{15} x_{5} x_{6} + 0.48 \\sqrt{2} x_{12} x_{15} x_{6}^{2} + 0.96 x_{12} x_{15} x_{6} x_{7} + 0.48 \\sqrt{2} x_{12} x_{15} x_{7}^{2} + 1.92 \\sqrt{2} x_{12} x_{15} + 0.96 x_{12} x_{2}^{2} x_{8} + 0.48 \\sqrt{2} x_{12} x_{2}^{2} x_{9} + 3.84 x_{12} x_{2}^{2} + 0.96 \\sqrt{2} x_{12} x_{2} x_{3} x_{8} + 0.96 x_{12} x_{2} x_{3} x_{9} + 3.84 \\sqrt{2} x_{12} x_{2} x_{3} - 0.96 \\sqrt{2} x_{12} x_{2} x_{5} x_{8} - 0.96 x_{12} x_{2} x_{5} x_{9} - 3.84 \\sqrt{2} x_{12} x_{2} x_{5} - 1.92 x_{12} x_{2} x_{6} x_{8} - 0.96 \\sqrt{2} x_{12} x_{2} x_{6} x_{9} - 7.68 x_{12} x_{2} x_{6} - 0.96 \\sqrt{2} x_{12} x_{2} x_{7} x_{8} - 0.96 x_{12} x_{2} x_{7} x_{9} - 3.84 \\sqrt{2} x_{12} x_{2} x_{7} + 0.96 x_{12} x_{3}^{2} x_{8} + 0.48 \\sqrt{2} x_{12} x_{3}^{2} x_{9} + 3.84 x_{12} x_{3}^{2} + 0.96 \\sqrt{2} x_{12} x_{3} x_{4} x_{8} + 0.96 x_{12} x_{3} x_{4} x_{9} + 3.84 \\sqrt{2} x_{12} x_{3} x_{4} - 0.96 \\sqrt{2} x_{12} x_{3} x_{6} x_{8} - 0.96 x_{12} x_{3} x_{6} x_{9} - 3.84 \\sqrt{2} x_{12} x_{3} x_{6} - 1.92 x_{12} x_{3} x_{7} x_{8} - 0.960000000000001 \\sqrt{2} x_{12} x_{3} x_{7} x_{9} - 7.68 x_{12} x_{3} x_{7} + 0.4 \\sqrt{2} x_{12} x_{3} + 0.96 x_{12} x_{4}^{2} x_{8} + 0.48 \\sqrt{2} x_{12} x_{4}^{2} x_{9} + 3.84 x_{12} x_{4}^{2} + 0.96 \\sqrt{2} x_{12} x_{4} x_{5} x_{8} + 0.96 x_{12} x_{4} x_{5} x_{9} + 3.84 \\sqrt{2} x_{12} x_{4} x_{5} - 0.96 \\sqrt{2} x_{12} x_{4} x_{7} x_{8} - 0.96 x_{12} x_{4} x_{7} x_{9} - 3.84 \\sqrt{2} x_{12} x_{4} x_{7} + 0.8 x_{12} x_{4} + 0.96 x_{12} x_{5}^{2} x_{8} + 0.48 \\sqrt{2} x_{12} x_{5}^{2} x_{9} + 3.84 x_{12} x_{5}^{2} + 0.96 \\sqrt{2} x_{12} x_{5} x_{6} x_{8} + 0.96 x_{12} x_{5} x_{6} x_{9} + 3.84 \\sqrt{2} x_{12} x_{5} x_{6} + 0.4 \\sqrt{2} x_{12} x_{5} + 0.96 x_{12} x_{6}^{2} x_{8} + 0.48 \\sqrt{2} x_{12} x_{6}^{2} x_{9} + 3.84 x_{12} x_{6}^{2} + 0.96 \\sqrt{2} x_{12} x_{6} x_{7} x_{8} + 0.96 x_{12} x_{6} x_{7} x_{9} + 3.84 \\sqrt{2} x_{12} x_{6} x_{7} + 0.96 x_{12} x_{7}^{2} x_{8} + 0.48 \\sqrt{2} x_{12} x_{7}^{2} x_{9} + 3.84 x_{12} x_{7}^{2} - 0.4 \\sqrt{2} x_{12} x_{7} + 3.84 x_{12} x_{8} + 1.92 \\sqrt{2} x_{12} x_{9} - 7.84 x_{12} - 1.44 x_{13}^{2} x_{2}^{2} - 1.44 \\sqrt{2} x_{13}^{2} x_{2} x_{3} + 1.44 \\sqrt{2} x_{13}^{2} x_{2} x_{5} + 2.88 x_{13}^{2} x_{2} x_{6} + 1.44 \\sqrt{2} x_{13}^{2} x_{2} x_{7} - 1.44 x_{13}^{2} x_{3}^{2} - 1.44 \\sqrt{2} x_{13}^{2} x_{3} x_{4} + 1.44 \\sqrt{2} x_{13}^{2} x_{3} x_{6} + 2.88 x_{13}^{2} x_{3} x_{7} - 1.44 x_{13}^{2} x_{4}^{2} - 1.44 \\sqrt{2} x_{13}^{2} x_{4} x_{5} + 1.44 \\sqrt{2} x_{13}^{2} x_{4} x_{7} - 1.44 x_{13}^{2} x_{5}^{2} - 1.44 \\sqrt{2} x_{13}^{2} x_{5} x_{6} - 1.44 x_{13}^{2} x_{6}^{2} - 1.44 \\sqrt{2} x_{13}^{2} x_{6} x_{7} - 1.44 x_{13}^{2} x_{7}^{2} - 0.96 x_{13}^{2} - 2.4 \\sqrt{2} x_{13} x_{14} x_{2}^{2} - 4.8 x_{13} x_{14} x_{2} x_{3} + 4.8 x_{13} x_{14} x_{2} x_{5} + 4.8 \\sqrt{2} x_{13} x_{14} x_{2} x_{6} + 4.8 x_{13} x_{14} x_{2} x_{7} - 2.4 \\sqrt{2} x_{13} x_{14} x_{3}^{2} - 4.8 x_{13} x_{14} x_{3} x_{4} + 4.8 x_{13} x_{14} x_{3} x_{6} + 4.8 \\sqrt{2} x_{13} x_{14} x_{3} x_{7} - 2.4 \\sqrt{2} x_{13} x_{14} x_{4}^{2} - 4.8 x_{13} x_{14} x_{4} x_{5} + 4.8 x_{13} x_{14} x_{4} x_{7} - 2.4 \\sqrt{2} x_{13} x_{14} x_{5}^{2} - 4.8 x_{13} x_{14} x_{5} x_{6} - 2.4 \\sqrt{2} x_{13} x_{14} x_{6}^{2} - 4.8 x_{13} x_{14} x_{6} x_{7} - 2.4 \\sqrt{2} x_{13} x_{14} x_{7}^{2} - 1.92 x_{13} x_{15} x_{2}^{2} - 1.92 \\sqrt{2} x_{13} x_{15} x_{2} x_{3} + 1.92 \\sqrt{2} x_{13} x_{15} x_{2} x_{5} + 3.84 x_{13} x_{15} x_{2} x_{6} + 1.92 \\sqrt{2} x_{13} x_{15} x_{2} x_{7} - 1.92 x_{13} x_{15} x_{3}^{2} - 1.92 \\sqrt{2} x_{13} x_{15} x_{3} x_{4} + 1.92 \\sqrt{2} x_{13} x_{15} x_{3} x_{6} + 3.84 x_{13} x_{15} x_{3} x_{7} - 1.92 x_{13} x_{15} x_{4}^{2} - 1.92 \\sqrt{2} x_{13} x_{15} x_{4} x_{5} + 1.92 \\sqrt{2} x_{13} x_{15} x_{4} x_{7} - 1.92 x_{13} x_{15} x_{5}^{2} - 1.92 \\sqrt{2} x_{13} x_{15} x_{5} x_{6} - 1.92 x_{13} x_{15} x_{6}^{2} - 1.92 \\sqrt{2} x_{13} x_{15} x_{6} x_{7} - 1.92 x_{13} x_{15} x_{7}^{2} + 1.92 x_{13} x_{15} + 0.48 \\sqrt{2} x_{13} x_{2}^{2} x_{8} + 2.88 x_{13} x_{2}^{2} x_{9} + 1.92 \\sqrt{2} x_{13} x_{2}^{2} + 0.96 x_{13} x_{2} x_{3} x_{8} + 2.88 \\sqrt{2} x_{13} x_{2} x_{3} x_{9} + 3.84 x_{13} x_{2} x_{3} - 0.96 x_{13} x_{2} x_{5} x_{8} - 2.88 \\sqrt{2} x_{13} x_{2} x_{5} x_{9} - 3.84 x_{13} x_{2} x_{5} - 0.96 \\sqrt{2} x_{13} x_{2} x_{6} x_{8} - 5.76 x_{13} x_{2} x_{6} x_{9} - 3.84 \\sqrt{2} x_{13} x_{2} x_{6} - 0.96 x_{13} x_{2} x_{7} x_{8} - 2.88 \\sqrt{2} x_{13} x_{2} x_{7} x_{9} - 3.84 x_{13} x_{2} x_{7} + 0.894427190999916 \\sqrt{2} x_{13} x_{2} + 0.48 \\sqrt{2} x_{13} x_{3}^{2} x_{8} + 2.88 x_{13} x_{3}^{2} x_{9} + 1.92 \\sqrt{2} x_{13} x_{3}^{2} + 0.96 x_{13} x_{3} x_{4} x_{8} + 2.88 \\sqrt{2} x_{13} x_{3} x_{4} x_{9} + 3.84 x_{13} x_{3} x_{4} - 0.96 x_{13} x_{3} x_{6} x_{8} - 2.88 \\sqrt{2} x_{13} x_{3} x_{6} x_{9} - 3.84 x_{13} x_{3} x_{6} - 0.960000000000001 \\sqrt{2} x_{13} x_{3} x_{7} x_{8} - 5.76 x_{13} x_{3} x_{7} x_{9} - 3.84 \\sqrt{2} x_{13} x_{3} x_{7} + 1.29442719099992 x_{13} x_{3} + 0.48 \\sqrt{2} x_{13} x_{4}^{2} x_{8} + 2.88 x_{13} x_{4}^{2} x_{9} + 1.92 \\sqrt{2} x_{13} x_{4}^{2} + 0.96 x_{13} x_{4} x_{5} x_{8} + 2.88 \\sqrt{2} x_{13} x_{4} x_{5} x_{9} + 3.84 x_{13} x_{4} x_{5} - 0.96 x_{13} x_{4} x_{7} x_{8} - 2.88 \\sqrt{2} x_{13} x_{4} x_{7} x_{9} - 3.84 x_{13} x_{4} x_{7} + 0.4 \\sqrt{2} x_{13} x_{4} + 0.48 \\sqrt{2} x_{13} x_{5}^{2} x_{8} + 2.88 x_{13} x_{5}^{2} x_{9} + 1.92 \\sqrt{2} x_{13} x_{5}^{2} + 0.96 x_{13} x_{5} x_{6} x_{8} + 2.88 \\sqrt{2} x_{13} x_{5} x_{6} x_{9} + 3.84 x_{13} x_{5} x_{6} - 0.494427190999916 x_{13} x_{5} + 0.48 \\sqrt{2} x_{13} x_{6}^{2} x_{8} + 2.88 x_{13} x_{6}^{2} x_{9} + 1.92 \\sqrt{2} x_{13} x_{6}^{2} + 0.96 x_{13} x_{6} x_{7} x_{8} + 2.88 \\sqrt{2} x_{13} x_{6} x_{7} x_{9} + 3.84 x_{13} x_{6} x_{7} - 0.894427190999916 \\sqrt{2} x_{13} x_{6} + 0.48 \\sqrt{2} x_{13} x_{7}^{2} x_{8} + 2.88 x_{13} x_{7}^{2} x_{9} + 1.92 \\sqrt{2} x_{13} x_{7}^{2} - 1.29442719099992 x_{13} x_{7} + 1.92 \\sqrt{2} x_{13} x_{8} + 1.92 x_{13} x_{9} - 3.92 \\sqrt{2} x_{13} - 2.4 x_{14}^{2} x_{2}^{2} - 2.4 \\sqrt{2} x_{14}^{2} x_{2} x_{3} + 2.4 \\sqrt{2} x_{14}^{2} x_{2} x_{5} + 4.8 x_{14}^{2} x_{2} x_{6} + 2.4 \\sqrt{2} x_{14}^{2} x_{2} x_{7} - 2.4 x_{14}^{2} x_{3}^{2} - 2.4 \\sqrt{2} x_{14}^{2} x_{3} x_{4} + 2.4 \\sqrt{2} x_{14}^{2} x_{3} x_{6} + 4.8 x_{14}^{2} x_{3} x_{7} - 2.4 x_{14}^{2} x_{4}^{2} - 2.4 \\sqrt{2} x_{14}^{2} x_{4} x_{5} + 2.4 \\sqrt{2} x_{14}^{2} x_{4} x_{7} - 2.4 x_{14}^{2} x_{5}^{2} - 2.4 \\sqrt{2} x_{14}^{2} x_{5} x_{6} - 2.4 x_{14}^{2} x_{6}^{2} - 2.4 \\sqrt{2} x_{14}^{2} x_{6} x_{7} - 2.4 x_{14}^{2} x_{7}^{2} - 2.4 \\sqrt{2} x_{14} x_{15} x_{2}^{2} - 4.8 x_{14} x_{15} x_{2} x_{3} + 4.8 x_{14} x_{15} x_{2} x_{5} + 4.8 \\sqrt{2} x_{14} x_{15} x_{2} x_{6} + 4.8 x_{14} x_{15} x_{2} x_{7} - 2.4 \\sqrt{2} x_{14} x_{15} x_{3}^{2} - 4.8 x_{14} x_{15} x_{3} x_{4} + 4.8 x_{14} x_{15} x_{3} x_{6} + 4.8 \\sqrt{2} x_{14} x_{15} x_{3} x_{7} - 2.4 \\sqrt{2} x_{14} x_{15} x_{4}^{2} - 4.8 x_{14} x_{15} x_{4} x_{5} + 4.8 x_{14} x_{15} x_{4} x_{7} - 2.4 \\sqrt{2} x_{14} x_{15} x_{5}^{2} - 4.8 x_{14} x_{15} x_{5} x_{6} - 2.4 \\sqrt{2} x_{14} x_{15} x_{6}^{2} - 4.8 x_{14} x_{15} x_{6} x_{7} - 2.4 \\sqrt{2} x_{14} x_{15} x_{7}^{2} + 2.4 \\sqrt{2} x_{14} x_{2}^{2} x_{9} + 4.8 x_{14} x_{2} x_{3} x_{9} - 4.8 x_{14} x_{2} x_{5} x_{9} - 4.8 \\sqrt{2} x_{14} x_{2} x_{6} x_{9} - 4.8 x_{14} x_{2} x_{7} x_{9} + 1.78885438199983 x_{14} x_{2} + 2.4 \\sqrt{2} x_{14} x_{3}^{2} x_{9} + 4.8 x_{14} x_{3} x_{4} x_{9} - 4.8 x_{14} x_{3} x_{6} x_{9} - 4.8 \\sqrt{2} x_{14} x_{3} x_{7} x_{9} + 0.894427190999916 \\sqrt{2} x_{14} x_{3} + 2.4 \\sqrt{2} x_{14} x_{4}^{2} x_{9} + 4.8 x_{14} x_{4} x_{5} x_{9} - 4.8 x_{14} x_{4} x_{7} x_{9} + 2.4 \\sqrt{2} x_{14} x_{5}^{2} x_{9} + 4.8 x_{14} x_{5} x_{6} x_{9} - 0.894427190999916 \\sqrt{2} x_{14} x_{5} + 2.4 \\sqrt{2} x_{14} x_{6}^{2} x_{9} + 4.8 x_{14} x_{6} x_{7} x_{9} - 1.78885438199983 x_{14} x_{6} + 2.4 \\sqrt{2} x_{14} x_{7}^{2} x_{9} - 0.894427190999916 \\sqrt{2} x_{14} x_{7} - 1.44 x_{15}^{2} x_{2}^{2} - 1.44 \\sqrt{2} x_{15}^{2} x_{2} x_{3} + 1.44 \\sqrt{2} x_{15}^{2} x_{2} x_{5} + 2.88 x_{15}^{2} x_{2} x_{6} + 1.44 \\sqrt{2} x_{15}^{2} x_{2} x_{7} - 1.44 x_{15}^{2} x_{3}^{2} - 1.44 \\sqrt{2} x_{15}^{2} x_{3} x_{4} + 1.44 \\sqrt{2} x_{15}^{2} x_{3} x_{6} + 2.88 x_{15}^{2} x_{3} x_{7} - 1.44 x_{15}^{2} x_{4}^{2} - 1.44 \\sqrt{2} x_{15}^{2} x_{4} x_{5} + 1.44 \\sqrt{2} x_{15}^{2} x_{4} x_{7} - 1.44 x_{15}^{2} x_{5}^{2} - 1.44 \\sqrt{2} x_{15}^{2} x_{5} x_{6} - 1.44 x_{15}^{2} x_{6}^{2} - 1.44 \\sqrt{2} x_{15}^{2} x_{6} x_{7} - 1.44 x_{15}^{2} x_{7}^{2} - 0.96 x_{15}^{2} - 0.48 \\sqrt{2} x_{15} x_{2}^{2} x_{8} + 1.92 x_{15} x_{2}^{2} x_{9} - 1.92 \\sqrt{2} x_{15} x_{2}^{2} - 0.96 x_{15} x_{2} x_{3} x_{8} + 1.92 \\sqrt{2} x_{15} x_{2} x_{3} x_{9} - 3.84 x_{15} x_{2} x_{3} + 0.96 x_{15} x_{2} x_{5} x_{8} - 1.92 \\sqrt{2} x_{15} x_{2} x_{5} x_{9} + 3.84 x_{15} x_{2} x_{5} + 0.96 \\sqrt{2} x_{15} x_{2} x_{6} x_{8} - 3.84 x_{15} x_{2} x_{6} x_{9} + 3.84 \\sqrt{2} x_{15} x_{2} x_{6} + 0.96 x_{15} x_{2} x_{7} x_{8} - 1.92 \\sqrt{2} x_{15} x_{2} x_{7} x_{9} + 3.84 x_{15} x_{2} x_{7} + 0.894427190999916 \\sqrt{2} x_{15} x_{2} - 0.48 \\sqrt{2} x_{15} x_{3}^{2} x_{8} + 1.92 x_{15} x_{3}^{2} x_{9} - 1.92 \\sqrt{2} x_{15} x_{3}^{2} - 0.96 x_{15} x_{3} x_{4} x_{8} + 1.92 \\sqrt{2} x_{15} x_{3} x_{4} x_{9} - 3.84 x_{15} x_{3} x_{4} + 0.96 x_{15} x_{3} x_{6} x_{8} - 1.92 \\sqrt{2} x_{15} x_{3} x_{6} x_{9} + 3.84 x_{15} x_{3} x_{6} + 0.960000000000001 \\sqrt{2} x_{15} x_{3} x_{7} x_{8} - 3.84 x_{15} x_{3} x_{7} x_{9} + 3.84 \\sqrt{2} x_{15} x_{3} x_{7} + 0.494427190999916 x_{15} x_{3} - 0.48 \\sqrt{2} x_{15} x_{4}^{2} x_{8} + 1.92 x_{15} x_{4}^{2} x_{9} - 1.92 \\sqrt{2} x_{15} x_{4}^{2} - 0.96 x_{15} x_{4} x_{5} x_{8} + 1.92 \\sqrt{2} x_{15} x_{4} x_{5} x_{9} - 3.84 x_{15} x_{4} x_{5} + 0.96 x_{15} x_{4} x_{7} x_{8} - 1.92 \\sqrt{2} x_{15} x_{4} x_{7} x_{9} + 3.84 x_{15} x_{4} x_{7} - 0.4 \\sqrt{2} x_{15} x_{4} - 0.48 \\sqrt{2} x_{15} x_{5}^{2} x_{8} + 1.92 x_{15} x_{5}^{2} x_{9} - 1.92 \\sqrt{2} x_{15} x_{5}^{2} - 0.96 x_{15} x_{5} x_{6} x_{8} + 1.92 \\sqrt{2} x_{15} x_{5} x_{6} x_{9} - 3.84 x_{15} x_{5} x_{6} - 1.29442719099992 x_{15} x_{5} - 0.48 \\sqrt{2} x_{15} x_{6}^{2} x_{8} + 1.92 x_{15} x_{6}^{2} x_{9} - 1.92 \\sqrt{2} x_{15} x_{6}^{2} - 0.96 x_{15} x_{6} x_{7} x_{8} + 1.92 \\sqrt{2} x_{15} x_{6} x_{7} x_{9} - 3.84 x_{15} x_{6} x_{7} - 0.894427190999916 \\sqrt{2} x_{15} x_{6} - 0.48 \\sqrt{2} x_{15} x_{7}^{2} x_{8} + 1.92 x_{15} x_{7}^{2} x_{9} - 1.92 \\sqrt{2} x_{15} x_{7}^{2} - 0.494427190999916 x_{15} x_{7} - 1.92 \\sqrt{2} x_{15} x_{8} - 1.92 x_{15} x_{9} + 3.92 \\sqrt{2} x_{15} - 0.48 x_{2}^{2} x_{8}^{2} - 0.48 \\sqrt{2} x_{2}^{2} x_{8} x_{9} - 3.84 x_{2}^{2} x_{8} - 1.44 x_{2}^{2} x_{9}^{2} - 1.92 \\sqrt{2} x_{2}^{2} x_{9} - 9.68 x_{2}^{2} - 0.48 \\sqrt{2} x_{2} x_{3} x_{8}^{2} - 0.96 x_{2} x_{3} x_{8} x_{9} - 3.84 \\sqrt{2} x_{2} x_{3} x_{8} - 1.44 \\sqrt{2} x_{2} x_{3} x_{9}^{2} - 3.84 x_{2} x_{3} x_{9} - 9.68 \\sqrt{2} x_{2} x_{3} + 0.48 \\sqrt{2} x_{2} x_{5} x_{8}^{2} + 0.96 x_{2} x_{5} x_{8} x_{9} + 3.84 \\sqrt{2} x_{2} x_{5} x_{8} + 1.44 \\sqrt{2} x_{2} x_{5} x_{9}^{2} + 3.84 x_{2} x_{5} x_{9} + 9.68 \\sqrt{2} x_{2} x_{5} + 0.96 x_{2} x_{6} x_{8}^{2} + 0.96 \\sqrt{2} x_{2} x_{6} x_{8} x_{9} + 7.68 x_{2} x_{6} x_{8} + 2.88 x_{2} x_{6} x_{9}^{2} + 3.84 \\sqrt{2} x_{2} x_{6} x_{9} + 19.36 x_{2} x_{6} + 0.48 \\sqrt{2} x_{2} x_{7} x_{8}^{2} + 0.96 x_{2} x_{7} x_{8} x_{9} + 3.84 \\sqrt{2} x_{2} x_{7} x_{8} + 1.44 \\sqrt{2} x_{2} x_{7} x_{9}^{2} + 3.84 x_{2} x_{7} x_{9} + 9.68 \\sqrt{2} x_{2} x_{7} - 0.894427190999916 \\sqrt{2} x_{2} x_{9} - 0.48 x_{3}^{2} x_{8}^{2} - 0.48 \\sqrt{2} x_{3}^{2} x_{8} x_{9} - 3.84 x_{3}^{2} x_{8} - 1.44 x_{3}^{2} x_{9}^{2} - 1.92 \\sqrt{2} x_{3}^{2} x_{9} - 9.68 x_{3}^{2} - 0.48 \\sqrt{2} x_{3} x_{4} x_{8}^{2} - 0.96 x_{3} x_{4} x_{8} x_{9} - 3.84 \\sqrt{2} x_{3} x_{4} x_{8} - 1.44 \\sqrt{2} x_{3} x_{4} x_{9}^{2} - 3.84 x_{3} x_{4} x_{9} - 9.68 \\sqrt{2} x_{3} x_{4} + 0.48 \\sqrt{2} x_{3} x_{6} x_{8}^{2} + 0.96 x_{3} x_{6} x_{8} x_{9} + 3.84 \\sqrt{2} x_{3} x_{6} x_{8} + 1.44 \\sqrt{2} x_{3} x_{6} x_{9}^{2} + 3.84 x_{3} x_{6} x_{9} + 9.68 \\sqrt{2} x_{3} x_{6} + 0.96 x_{3} x_{7} x_{8}^{2} + 0.960000000000001 \\sqrt{2} x_{3} x_{7} x_{8} x_{9} + 7.68 x_{3} x_{7} x_{8} + 2.88 x_{3} x_{7} x_{9}^{2} + 3.84 \\sqrt{2} x_{3} x_{7} x_{9} + 19.36 x_{3} x_{7} - 0.4 \\sqrt{2} x_{3} x_{8} - 1.29442719099992 x_{3} x_{9} - 2.6 \\sqrt{2} x_{3} - 0.48 x_{4}^{2} x_{8}^{2} - 0.48 \\sqrt{2} x_{4}^{2} x_{8} x_{9} - 3.84 x_{4}^{2} x_{8} - 1.44 x_{4}^{2} x_{9}^{2} - 1.92 \\sqrt{2} x_{4}^{2} x_{9} - 9.68 x_{4}^{2} - 0.48 \\sqrt{2} x_{4} x_{5} x_{8}^{2} - 0.96 x_{4} x_{5} x_{8} x_{9} - 3.84 \\sqrt{2} x_{4} x_{5} x_{8} - 1.44 \\sqrt{2} x_{4} x_{5} x_{9}^{2} - 3.84 x_{4} x_{5} x_{9} - 9.68 \\sqrt{2} x_{4} x_{5} + 0.48 \\sqrt{2} x_{4} x_{7} x_{8}^{2} + 0.96 x_{4} x_{7} x_{8} x_{9} + 3.84 \\sqrt{2} x_{4} x_{7} x_{8} + 1.44 \\sqrt{2} x_{4} x_{7} x_{9}^{2} + 3.84 x_{4} x_{7} x_{9} + 9.68 \\sqrt{2} x_{4} x_{7} - 0.8 x_{4} x_{8} - 0.4 \\sqrt{2} x_{4} x_{9} - 5.2 x_{4} - 0.48 x_{5}^{2} x_{8}^{2} - 0.48 \\sqrt{2} x_{5}^{2} x_{8} x_{9} - 3.84 x_{5}^{2} x_{8} - 1.44 x_{5}^{2} x_{9}^{2} - 1.92 \\sqrt{2} x_{5}^{2} x_{9} - 9.68 x_{5}^{2} - 0.48 \\sqrt{2} x_{5} x_{6} x_{8}^{2} - 0.96 x_{5} x_{6} x_{8} x_{9} - 3.84 \\sqrt{2} x_{5} x_{6} x_{8} - 1.44 \\sqrt{2} x_{5} x_{6} x_{9}^{2} - 3.84 x_{5} x_{6} x_{9} - 9.68 \\sqrt{2} x_{5} x_{6} - 0.4 \\sqrt{2} x_{5} x_{8} + 0.494427190999916 x_{5} x_{9} - 2.6 \\sqrt{2} x_{5} - 0.48 x_{6}^{2} x_{8}^{2} - 0.48 \\sqrt{2} x_{6}^{2} x_{8} x_{9} - 3.84 x_{6}^{2} x_{8} - 1.44 x_{6}^{2} x_{9}^{2} - 1.92 \\sqrt{2} x_{6}^{2} x_{9} - 9.68 x_{6}^{2} - 0.48 \\sqrt{2} x_{6} x_{7} x_{8}^{2} - 0.96 x_{6} x_{7} x_{8} x_{9} - 3.84 \\sqrt{2} x_{6} x_{7} x_{8} - 1.44 \\sqrt{2} x_{6} x_{7} x_{9}^{2} - 3.84 x_{6} x_{7} x_{9} - 9.68 \\sqrt{2} x_{6} x_{7} + 0.894427190999916 \\sqrt{2} x_{6} x_{9} - 0.48 x_{7}^{2} x_{8}^{2} - 0.48 \\sqrt{2} x_{7}^{2} x_{8} x_{9} - 3.84 x_{7}^{2} x_{8} - 1.44 x_{7}^{2} x_{9}^{2} - 1.92 \\sqrt{2} x_{7}^{2} x_{9} - 9.68 x_{7}^{2} + 0.4 \\sqrt{2} x_{7} x_{8} + 1.29442719099992 x_{7} x_{9} + 2.6 \\sqrt{2} x_{7} - 1.92 x_{8}^{2} - 1.92 \\sqrt{2} x_{8} x_{9} + 7.84 x_{8} - 0.96 x_{9}^{2} + 3.92 \\sqrt{2} x_{9} - 17.42$"
     },
     "metadata": {},
     "execution_count": 72
    }
   ],
   "source": [
    "hubo_expr = sp.expand(hard_hubo - distance_hubo)\n",
    "hubo_expr"
   ]
  },
  {
   "cell_type": "code",
   "execution_count": 98,
   "metadata": {},
   "outputs": [],
   "source": [
    "def hubo_expr_to_dict():\n",
    "    hubo_args = hubo_expr.args\n",
    "    hubo_dict = {}\n",
    "    for monom in hubo_args:\n",
    "        monom_key = monom.as_coeff_mul()[1][1:]\n",
    "        legal_monom_key = 1\n",
    "        for monom_item in monom_key:\n",
    "            if not re.match(\"^x(\\d*)\\d$\", str(monom_item)):\n",
    "                legal_monom_key = 0\n",
    "        if legal_monom_key == 1:\n",
    "            dict_key = []\n",
    "            for monom_item in monom_key:\n",
    "                dict_key.append(int(str(monom_item)[1:]))\n",
    "            if len(dict_key) < 1:\n",
    "                dict_key = ()\n",
    "            else:\n",
    "                dict_key = tuple(dict_key)\n",
    "            if dict_key in hubo_dict:\n",
    "                hubo_dict[dict_key] += monom.as_coeff_mul()[1][0]*monom.as_coeff_mul()[0]\n",
    "            else:\n",
    "                hubo_dict[dict_key] = monom.as_coeff_mul()[1][0]*monom.as_coeff_mul()[0]    \n",
    "    return hubo_dict"
   ]
  },
  {
   "cell_type": "code",
   "execution_count": 99,
   "metadata": {
    "tags": []
   },
   "outputs": [
    {
     "output_type": "stream",
     "name": "stdout",
     "text": [
      "{(): 2*A_const - 17.42, (0,): 5.2 - 2*A_const, (8,): 7.84 - 2*A_const, (4,): -2*A_const - 5.2, (12,): -2*A_const - 7.84, (1,): -2*A_const, (10,): -2*A_const, (11,): -2*A_const, (13,): -2*A_const, (14,): -2*A_const, (15,): -2*A_const, (2,): -2*A_const, (3,): -2*A_const, (5,): -2*A_const, (6,): -2*A_const, (7,): -2*A_const, (9,): -2*A_const, (1, 15): 1.29442719099992, (11, 5): 1.29442719099992, (13, 3): 1.29442719099992, (7, 9): 1.29442719099992, (11, 15): 2*A_const + 1.92, (11, 9): 2*A_const + 1.92, (13, 15): 2*A_const + 1.92, (13, 9): 2*A_const + 1.92, (12, 8): 2*A_const + 3.84, (0, 4): 2*A_const + 19.36, (1, 5): 2*A_const + 19.36, (2, 6): 2*A_const + 19.36, (3, 7): 2*A_const + 19.36, (0, 8): 0.800000000000000, (12, 4): 0.800000000000000, (10, 6): 1.78885438199983, (14, 2): 1.78885438199983, (1, 13): 0.494427190999916, (11, 7): 0.494427190999916, (15, 3): 0.494427190999916, (5, 9): 0.494427190999916, (1, 11): -1.29442719099992, (13, 7): -1.29442719099992, (15, 5): -1.29442719099992, (3, 9): -1.29442719099992, (11, 13): 2*A_const - 1.92, (15, 9): 2*A_const - 1.92, (0, 12): -0.800000000000000, (4, 8): -0.800000000000000, (10, 2): -1.78885438199983, (14, 6): -1.78885438199983, (1, 9): -0.494427190999916, (11, 3): -0.494427190999916, (13, 5): -0.494427190999916, (15, 7): -0.494427190999916, (0, 1): 2*A_const, (0, 2): 2*A_const, (0, 3): 2*A_const, (0, 5): 2*A_const, (0, 6): 2*A_const, (0, 7): 2*A_const, (1, 2): 2*A_const, (1, 3): 2*A_const, (1, 4): 2*A_const, (1, 6): 2*A_const, (1, 7): 2*A_const, (10, 11): 2*A_const, (10, 12): 2*A_const, (10, 13): 2*A_const, (10, 14): 2*A_const, (10, 15): 2*A_const, (10, 8): 2*A_const, (10, 9): 2*A_const, (11, 12): 2*A_const, (11, 14): 2*A_const, (11, 8): 2*A_const, (12, 13): 2*A_const, (12, 14): 2*A_const, (12, 15): 2*A_const, (12, 9): 2*A_const, (13, 14): 2*A_const, (13, 8): 2*A_const, (14, 15): 2*A_const, (14, 8): 2*A_const, (14, 9): 2*A_const, (15, 8): 2*A_const, (2, 3): 2*A_const, (2, 4): 2*A_const, (2, 5): 2*A_const, (2, 7): 2*A_const, (3, 4): 2*A_const, (3, 5): 2*A_const, (3, 6): 2*A_const, (4, 5): 2*A_const, (4, 6): 2*A_const, (4, 7): 2*A_const, (5, 6): 2*A_const, (5, 7): 2*A_const, (6, 7): 2*A_const, (8, 9): 2*A_const, (0, 1, 11): 3.84000000000000, (0, 13, 7): 3.84000000000000, (0, 15, 5): 3.84000000000000, (0, 3, 9): 3.84000000000000, (1, 13, 2): 3.84000000000000, (1, 15, 4): 3.84000000000000, (1, 6, 9): 3.84000000000000, (11, 2, 3): 3.84000000000000, (11, 4, 5): 3.84000000000000, (11, 6, 7): 3.84000000000000, (13, 3, 4): 3.84000000000000, (13, 5, 6): 3.84000000000000, (15, 2, 7): 3.84000000000000, (15, 3, 6): 3.84000000000000, (2, 5, 9): 3.84000000000000, (4, 7, 9): 3.84000000000000, (0, 1, 13): 3.84000000000000, (0, 11, 7): 3.84000000000000, (0, 15, 3): 3.84000000000000, (0, 5, 9): 3.84000000000000, (1, 11, 2): 3.84000000000000, (1, 15, 6): 3.84000000000000, (1, 4, 9): 3.84000000000000, (11, 3, 4): 3.84000000000000, (11, 5, 6): 3.84000000000000, (13, 2, 3): 3.84000000000000, (13, 4, 5): 3.84000000000000, (13, 6, 7): 3.84000000000000, (15, 2, 5): 3.84000000000000, (15, 4, 7): 3.84000000000000, (2, 7, 9): 3.84000000000000, (3, 6, 9): 3.84000000000000, (0, 4, 8): 7.68000000000000, (1, 5, 8): 7.68000000000000, (2, 6, 8): 7.68000000000000, (3, 7, 8): 7.68000000000000, (0, 1, 15): -3.84000000000000, (0, 11, 5): -3.84000000000000, (0, 13, 3): -3.84000000000000, (0, 7, 9): -3.84000000000000, (1, 11, 4): -3.84000000000000, (1, 13, 6): -3.84000000000000, (1, 2, 9): -3.84000000000000, (11, 2, 7): -3.84000000000000, (11, 3, 6): -3.84000000000000, (13, 2, 5): -3.84000000000000, (13, 4, 7): -3.84000000000000, (15, 2, 3): -3.84000000000000, (15, 4, 5): -3.84000000000000, (15, 6, 7): -3.84000000000000, (3, 4, 9): -3.84000000000000, (5, 6, 9): -3.84000000000000, (0, 1, 9): -3.84000000000000, (0, 11, 3): -3.84000000000000, (0, 13, 5): -3.84000000000000, (0, 15, 7): -3.84000000000000, (1, 11, 6): -3.84000000000000, (1, 13, 4): -3.84000000000000, (1, 15, 2): -3.84000000000000, (11, 2, 5): -3.84000000000000, (11, 4, 7): -3.84000000000000, (13, 2, 7): -3.84000000000000, (13, 3, 6): -3.84000000000000, (15, 3, 4): -3.84000000000000, (15, 5, 6): -3.84000000000000, (2, 3, 9): -3.84000000000000, (4, 5, 9): -3.84000000000000, (6, 7, 9): -3.84000000000000, (0, 12, 4): -7.68000000000000, (1, 12, 5): -7.68000000000000, (12, 2, 6): -7.68000000000000, (12, 3, 7): -7.68000000000000, (0, 1, 11, 8): 0.960000000000000, (0, 1, 12, 15): 0.960000000000000, (0, 11, 12, 5): 0.960000000000000, (0, 12, 13, 3): 0.960000000000000, (0, 12, 7, 9): 0.960000000000000, (0, 13, 7, 8): 0.960000000000000, (0, 15, 5, 8): 0.960000000000000, (0, 3, 8, 9): 0.960000000000000, (1, 11, 12, 4): 0.960000000000000, (1, 12, 13, 6): 0.960000000000000, (1, 12, 2, 9): 0.960000000000000, (1, 13, 2, 8): 0.960000000000000, (1, 15, 4, 8): 0.960000000000000, (1, 6, 8, 9): 0.960000000000000, (11, 12, 2, 7): 0.960000000000000, (11, 12, 3, 6): 0.960000000000000, (11, 2, 3, 8): 0.960000000000000, (11, 4, 5, 8): 0.960000000000000, (11, 6, 7, 8): 0.960000000000000, (12, 13, 2, 5): 0.960000000000000, (12, 13, 4, 7): 0.960000000000000, (12, 15, 2, 3): 0.960000000000000, (12, 15, 4, 5): 0.960000000000000, (12, 15, 6, 7): 0.960000000000000, (12, 3, 4, 9): 0.960000000000000, (12, 5, 6, 9): 0.960000000000000, (13, 3, 4, 8): 0.960000000000000, (13, 5, 6, 8): 0.960000000000000, (15, 2, 7, 8): 0.960000000000000, (15, 3, 6, 8): 0.960000000000000, (2, 5, 8, 9): 0.960000000000000, (4, 7, 8, 9): 0.960000000000000, (0, 11, 4, 9): 3.84000000000000, (0, 13, 15, 4): 3.84000000000000, (1, 11, 5, 9): 3.84000000000000, (1, 13, 15, 5): 3.84000000000000, (11, 2, 6, 9): 3.84000000000000, (11, 3, 7, 9): 3.84000000000000, (13, 15, 2, 6): 3.84000000000000, (13, 15, 3, 7): 3.84000000000000, (0, 1, 10, 13): 4.80000000000000, (0, 1, 10, 15): 4.80000000000000, (0, 1, 11, 14): 4.80000000000000, (0, 1, 14, 9): 4.80000000000000, (0, 10, 11, 3): 4.80000000000000, (0, 10, 11, 5): 4.80000000000000, (0, 10, 13, 7): 4.80000000000000, (0, 10, 15, 7): 4.80000000000000, (0, 10, 3, 9): 4.80000000000000, (0, 10, 5, 9): 4.80000000000000, (0, 11, 14, 7): 4.80000000000000, (0, 13, 14, 3): 4.80000000000000, (0, 13, 14, 5): 4.80000000000000, (0, 14, 15, 3): 4.80000000000000, (0, 14, 15, 5): 4.80000000000000, (0, 14, 7, 9): 4.80000000000000, (1, 10, 11, 4): 4.80000000000000, (1, 10, 11, 6): 4.80000000000000, (1, 10, 13, 2): 4.80000000000000, (1, 10, 15, 2): 4.80000000000000, (1, 10, 4, 9): 4.80000000000000, (1, 10, 6, 9): 4.80000000000000, (1, 11, 14, 2): 4.80000000000000, (1, 13, 14, 4): 4.80000000000000, (1, 13, 14, 6): 4.80000000000000, (1, 14, 15, 4): 4.80000000000000, (1, 14, 15, 6): 4.80000000000000, (1, 14, 2, 9): 4.80000000000000, (10, 11, 2, 5): 4.80000000000000, (10, 11, 2, 7): 4.80000000000000, (10, 11, 3, 6): 4.80000000000000, (10, 11, 4, 7): 4.80000000000000, (10, 13, 2, 3): 4.80000000000000, (10, 13, 3, 4): 4.80000000000000, (10, 13, 4, 5): 4.80000000000000, (10, 13, 5, 6): 4.80000000000000, (10, 13, 6, 7): 4.80000000000000, (10, 15, 2, 3): 4.80000000000000, (10, 15, 3, 4): 4.80000000000000, (10, 15, 4, 5): 4.80000000000000, (10, 15, 5, 6): 4.80000000000000, (10, 15, 6, 7): 4.80000000000000, (10, 2, 5, 9): 4.80000000000000, (10, 2, 7, 9): 4.80000000000000, (10, 3, 6, 9): 4.80000000000000, (10, 4, 7, 9): 4.80000000000000, (11, 14, 2, 3): 4.80000000000000, (11, 14, 3, 4): 4.80000000000000, (11, 14, 4, 5): 4.80000000000000, (11, 14, 5, 6): 4.80000000000000, (11, 14, 6, 7): 4.80000000000000, (13, 14, 2, 5): 4.80000000000000, (13, 14, 2, 7): 4.80000000000000, (13, 14, 3, 6): 4.80000000000000, (13, 14, 4, 7): 4.80000000000000, (14, 15, 2, 5): 4.80000000000000, (14, 15, 2, 7): 4.80000000000000, (14, 15, 3, 6): 4.80000000000000, (14, 15, 4, 7): 4.80000000000000, (14, 2, 3, 9): 4.80000000000000, (14, 3, 4, 9): 4.80000000000000, (14, 4, 5, 9): 4.80000000000000, (14, 5, 6, 9): 4.80000000000000, (14, 6, 7, 9): 4.80000000000000, (0, 1, 12, 9): 0.960000000000000, (0, 1, 13, 8): 0.960000000000000, (0, 11, 12, 3): 0.960000000000000, (0, 11, 7, 8): 0.960000000000000, (0, 12, 13, 5): 0.960000000000000, (0, 12, 15, 7): 0.960000000000000, (0, 15, 3, 8): 0.960000000000000, (0, 5, 8, 9): 0.960000000000000, (1, 11, 12, 6): 0.960000000000000, (1, 11, 2, 8): 0.960000000000000, (1, 12, 13, 4): 0.960000000000000, (1, 12, 15, 2): 0.960000000000000, (1, 15, 6, 8): 0.960000000000000, (1, 4, 8, 9): 0.960000000000000, (11, 12, 2, 5): 0.960000000000000, (11, 12, 4, 7): 0.960000000000000, (11, 3, 4, 8): 0.960000000000000, (11, 5, 6, 8): 0.960000000000000, (12, 13, 2, 7): 0.960000000000000, (12, 13, 3, 6): 0.960000000000000, (12, 15, 3, 4): 0.960000000000000, (12, 15, 5, 6): 0.960000000000000, (12, 2, 3, 9): 0.960000000000000, (12, 4, 5, 9): 0.960000000000000, (12, 6, 7, 9): 0.960000000000000, (13, 2, 3, 8): 0.960000000000000, (13, 4, 5, 8): 0.960000000000000, (13, 6, 7, 8): 0.960000000000000, (15, 2, 5, 8): 0.960000000000000, (15, 4, 7, 8): 0.960000000000000, (2, 7, 8, 9): 0.960000000000000, (3, 6, 8, 9): 0.960000000000000, (0, 1, 11, 12): -0.960000000000000, (0, 1, 15, 8): -0.960000000000000, (0, 11, 5, 8): -0.960000000000000, (0, 12, 13, 7): -0.960000000000000, (0, 12, 15, 5): -0.960000000000000, (0, 12, 3, 9): -0.960000000000000, (0, 13, 3, 8): -0.960000000000000, (0, 7, 8, 9): -0.960000000000000, (1, 11, 4, 8): -0.960000000000000, (1, 12, 13, 2): -0.960000000000000, (1, 12, 15, 4): -0.960000000000000, (1, 12, 6, 9): -0.960000000000000, (1, 13, 6, 8): -0.960000000000000, (1, 2, 8, 9): -0.960000000000000, (11, 12, 2, 3): -0.960000000000000, (11, 12, 4, 5): -0.960000000000000, (11, 12, 6, 7): -0.960000000000000, (11, 2, 7, 8): -0.960000000000000, (11, 3, 6, 8): -0.960000000000000, (12, 13, 3, 4): -0.960000000000000, (12, 13, 5, 6): -0.960000000000000, (12, 15, 2, 7): -0.960000000000000, (12, 15, 3, 6): -0.960000000000000, (12, 2, 5, 9): -0.960000000000000, (12, 4, 7, 9): -0.960000000000000, (13, 2, 5, 8): -0.960000000000000, (13, 4, 7, 8): -0.960000000000000, (15, 2, 3, 8): -0.960000000000000, (15, 4, 5, 8): -0.960000000000000, (15, 6, 7, 8): -0.960000000000000, (3, 4, 8, 9): -0.960000000000000, (5, 6, 8, 9): -0.960000000000000, (0, 11, 15, 4): -5.76000000000000, (0, 13, 4, 9): -5.76000000000000, (11, 15, 2, 6): -5.76000000000000, (13, 2, 6, 9): -5.76000000000000, (0, 11, 13, 4): -3.84000000000000, (0, 15, 4, 9): -3.84000000000000, (1, 11, 13, 5): -3.84000000000000, (1, 15, 5, 9): -3.84000000000000, (11, 13, 2, 6): -3.84000000000000, (11, 13, 3, 7): -3.84000000000000, (15, 2, 6, 9): -3.84000000000000, (15, 3, 7, 9): -3.84000000000000, (0, 1, 10, 11): -4.80000000000000, (0, 1, 10, 9): -4.80000000000000, (0, 1, 13, 14): -4.80000000000000, (0, 1, 14, 15): -4.80000000000000, (0, 10, 11, 7): -4.80000000000000, (0, 10, 13, 3): -4.80000000000000, (0, 10, 13, 5): -4.80000000000000, (0, 10, 15, 3): -4.80000000000000, (0, 10, 15, 5): -4.80000000000000, (0, 10, 7, 9): -4.80000000000000, (0, 11, 14, 3): -4.80000000000000, (0, 11, 14, 5): -4.80000000000000, (0, 13, 14, 7): -4.80000000000000, (0, 14, 15, 7): -4.80000000000000, (0, 14, 3, 9): -4.80000000000000, (0, 14, 5, 9): -4.80000000000000, (1, 10, 11, 2): -4.80000000000000, (1, 10, 13, 4): -4.80000000000000, (1, 10, 13, 6): -4.80000000000000, (1, 10, 15, 4): -4.80000000000000, (1, 10, 15, 6): -4.80000000000000, (1, 10, 2, 9): -4.80000000000000, (1, 11, 14, 4): -4.80000000000000, (1, 11, 14, 6): -4.80000000000000, (1, 13, 14, 2): -4.80000000000000, (1, 14, 15, 2): -4.80000000000000, (1, 14, 4, 9): -4.80000000000000, (1, 14, 6, 9): -4.80000000000000, (10, 11, 2, 3): -4.80000000000000, (10, 11, 3, 4): -4.80000000000000, (10, 11, 4, 5): -4.80000000000000, (10, 11, 5, 6): -4.80000000000000, (10, 11, 6, 7): -4.80000000000000, (10, 13, 2, 5): -4.80000000000000, (10, 13, 2, 7): -4.80000000000000, (10, 13, 3, 6): -4.80000000000000, (10, 13, 4, 7): -4.80000000000000, (10, 15, 2, 5): -4.80000000000000, (10, 15, 2, 7): -4.80000000000000, (10, 15, 3, 6): -4.80000000000000, (10, 15, 4, 7): -4.80000000000000, (10, 2, 3, 9): -4.80000000000000, (10, 3, 4, 9): -4.80000000000000, (10, 4, 5, 9): -4.80000000000000, (10, 5, 6, 9): -4.80000000000000, (10, 6, 7, 9): -4.80000000000000, (11, 14, 2, 5): -4.80000000000000, (11, 14, 2, 7): -4.80000000000000, (11, 14, 3, 6): -4.80000000000000, (11, 14, 4, 7): -4.80000000000000, (13, 14, 2, 3): -4.80000000000000, (13, 14, 3, 4): -4.80000000000000, (13, 14, 4, 5): -4.80000000000000, (13, 14, 5, 6): -4.80000000000000, (13, 14, 6, 7): -4.80000000000000, (14, 15, 2, 3): -4.80000000000000, (14, 15, 3, 4): -4.80000000000000, (14, 15, 4, 5): -4.80000000000000, (14, 15, 5, 6): -4.80000000000000, (14, 15, 6, 7): -4.80000000000000, (14, 2, 5, 9): -4.80000000000000, (14, 2, 7, 9): -4.80000000000000, (14, 3, 6, 9): -4.80000000000000, (14, 4, 7, 9): -4.80000000000000, (1, 11, 15, 5): -5.76000000000000, (1, 13, 5, 9): -5.76000000000000, (11, 15, 3, 7): -5.76000000000000, (13, 3, 7, 9): -5.76000000000000, (0, 1, 12, 13): -0.960000000000000, (0, 1, 8, 9): -0.960000000000000, (0, 11, 12, 7): -0.960000000000000, (0, 11, 3, 8): -0.960000000000000, (0, 12, 15, 3): -0.960000000000000, (0, 12, 5, 9): -0.960000000000000, (0, 13, 5, 8): -0.960000000000000, (0, 15, 7, 8): -0.960000000000000, (1, 11, 12, 2): -0.960000000000000, (1, 11, 6, 8): -0.960000000000000, (1, 12, 15, 6): -0.960000000000000, (1, 12, 4, 9): -0.960000000000000, (1, 13, 4, 8): -0.960000000000000, (1, 15, 2, 8): -0.960000000000000, (11, 12, 3, 4): -0.960000000000000, (11, 12, 5, 6): -0.960000000000000, (11, 2, 5, 8): -0.960000000000000, (11, 4, 7, 8): -0.960000000000000, (12, 13, 2, 3): -0.960000000000000, (12, 13, 4, 5): -0.960000000000000, (12, 13, 6, 7): -0.960000000000000, (12, 15, 2, 5): -0.960000000000000, (12, 15, 4, 7): -0.960000000000000, (12, 2, 7, 9): -0.960000000000000, (12, 3, 6, 9): -0.960000000000000, (13, 2, 7, 8): -0.960000000000000, (13, 3, 6, 8): -0.960000000000000, (15, 3, 4, 8): -0.960000000000000, (15, 5, 6, 8): -0.960000000000000, (2, 3, 8, 9): -0.960000000000000, (4, 5, 8, 9): -0.960000000000000, (6, 7, 8, 9): -0.960000000000000, (0, 12, 4, 8): -1.92000000000000, (1, 12, 5, 8): -1.92000000000000, (12, 2, 6, 8): -1.92000000000000, (12, 3, 7, 8): -1.92000000000000, (0, 10, 14, 4): -9.60000000000000, (1, 10, 14, 5): -9.60000000000000, (10, 14, 2, 6): -9.60000000000000, (10, 14, 3, 7): -9.60000000000000}\n"
     ]
    }
   ],
   "source": [
    "hubo_dict = hubo_expr_to_dict()\n",
    "print(hubo_dict)"
   ]
  },
  {
   "cell_type": "code",
   "execution_count": 100,
   "metadata": {},
   "outputs": [
    {
     "output_type": "stream",
     "name": "stdout",
     "text": [
      "full hubo dictionary written in file - hubo_dict.txt\n"
     ]
    }
   ],
   "source": [
    "file_name = \"hubo_dict.txt\"\n",
    "f = open(file_name, \"w\")\n",
    "print('full hubo dictionary written in file - hubo_dict.txt')\n",
    "f.write(str(hubo_dict))\n",
    "f.close()"
   ]
  },
  {
   "cell_type": "code",
   "execution_count": 112,
   "metadata": {},
   "outputs": [],
   "source": [
    "#This is used to check the maximum coefficient appearing in Hubo_B\n",
    "A_const=0\n",
    "read_dictionary_B = open(file_name, 'r').read()\n",
    "HUBO_B=eval(read_dictionary_B)\n",
    "\n",
    "#We set the Hard constraint strength as the (maximum coefficient appearing in Hubo_B)*const.\n",
    "#const was empirically selected to be 10\n",
    "const=10\n",
    "# A_const=max(map(abs, list(HUBO_B.values())))*const\n",
    "A_const = 1000\n",
    "\n",
    "#read the final HUBO\n",
    "read_dictionary= open(file_name, 'r').read()\n",
    "HUBO=eval(read_dictionary)"
   ]
  },
  {
   "cell_type": "code",
   "execution_count": 113,
   "metadata": {},
   "outputs": [
    {
     "output_type": "stream",
     "name": "stdout",
     "text": [
      "Current size of the HUBO: 457\n"
     ]
    }
   ],
   "source": [
    "print(\"Current size of the HUBO:\",len(HUBO)) "
   ]
  },
  {
   "cell_type": "code",
   "execution_count": 114,
   "metadata": {},
   "outputs": [],
   "source": [
    "def threshold_approx(h, val=1):\n",
    "    d =h.copy()\n",
    "    monoms = h.keys()\n",
    "    for m in monoms:     \n",
    "        temp = d[m]\n",
    "        if (temp < 0.0):\n",
    "            temp = -1.0 * temp\n",
    "        if (temp <= (10.0 ** (val))):\n",
    "            del d[m]\n",
    "    return d"
   ]
  },
  {
   "cell_type": "code",
   "execution_count": 115,
   "metadata": {},
   "outputs": [
    {
     "output_type": "stream",
     "name": "stdout",
     "text": [
      "Size of the HUBO after threshold approximation: 73\n"
     ]
    }
   ],
   "source": [
    "#Coefficints with absolute value less than 10^{threshold} are deleted from the HUBO.\n",
    "threshold=2\n",
    "\n",
    "HUBO=threshold_approx(HUBO,threshold)\n",
    "\n",
    "print(\"Size of the HUBO after threshold approximation:\",len(HUBO))"
   ]
  },
  {
   "cell_type": "code",
   "execution_count": 116,
   "metadata": {},
   "outputs": [],
   "source": [
    "#calculate the strength parameter needed by make_quadratic\n",
    "max_hubo_value=max(map(abs, list(HUBO.values())))\n",
    "strength=1.5*max_hubo_value\n",
    "#generate the bqm\n",
    "bqm = dimod.make_quadratic(HUBO, strength, dimod.BINARY)"
   ]
  },
  {
   "cell_type": "code",
   "execution_count": 117,
   "metadata": {},
   "outputs": [],
   "source": [
    "sampler = neal.SimulatedAnnealingSampler()\n",
    "\n",
    "sample_size=10"
   ]
  },
  {
   "cell_type": "code",
   "execution_count": 118,
   "metadata": {},
   "outputs": [
    {
     "output_type": "stream",
     "name": "stdout",
     "text": [
      "   0  1  2  3  4  5  6  7  8  9 10 11 12 13 14 15   energy num_oc.\n0  0  1  1  0  0  0  0  0  0  1  0  0  1  0  0  0 -2025.26       1\n4  0  0  0  0  0  0  1  1  0  0  0  0  0  1  1  0 -2017.42       1\n9  0  1  0  1  0  0  0  0  0  0  0  0  0  0  1  0 -2017.42       1\n2  0  0  0  0  0  1  1  0  0  0  0  1  0  0  0  1  -2015.5       1\n1  1  0  0  0  0  0  1  0  0  0  1  0  0  0  0  0 -2012.22       1\n3  1  0  0  1  0  0  0  0  0  1  0  0  0  0  0  0 -2012.22       1\n6  1  0  0  0  0  0  0  0  0  0  1  0  0  1  0  0 -2012.22       1\n8  0  1  0  0  0  1  0  0  0  1  0  0  1  0  0  0  -2005.9       1\n5  1  0  0  0  0  0  0  1  1  0  0  1  0  0  0  0 -2004.38       1\n7  0  1  0  0  0  1  0  0  0  1  0  0  0  0  0  1 -1999.98       1\n['BINARY', 10 rows, 10 samples, 16 variables]\n"
     ]
    }
   ],
   "source": [
    "sampleset = sampler.sample(bqm, num_reads=sample_size)\n",
    "print(sampleset)"
   ]
  },
  {
   "cell_type": "code",
   "execution_count": 119,
   "metadata": {
    "tags": []
   },
   "outputs": [
    {
     "output_type": "stream",
     "name": "stdout",
     "text": [
      "{0: 0, 1: 0, 2: 0, 3: 1, 4: 1, 5: 0, 6: 0, 7: 0, 8: 0, 9: 0, 10: 0, 11: 1, 12: 1, 13: 0, 14: 0, 15: 0}\n"
     ]
    }
   ],
   "source": [
    "sampler = EmbeddingComposite(DWaveSampler())\n",
    "sampleset = sampler.sample(bqm, num_reads=1000)\n",
    "print(sampleset.first.sample)"
   ]
  },
  {
   "cell_type": "code",
   "execution_count": null,
   "metadata": {},
   "outputs": [],
   "source": []
  }
 ]
}