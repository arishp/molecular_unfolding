{
 "metadata": {
  "language_info": {
   "codemirror_mode": {
    "name": "ipython",
    "version": 3
   },
   "file_extension": ".py",
   "mimetype": "text/x-python",
   "name": "python",
   "nbconvert_exporter": "python",
   "pygments_lexer": "ipython3",
   "version": "3.9.16"
  },
  "orig_nbformat": 4,
  "kernelspec": {
   "name": "python3",
   "display_name": "Python 3.9.16 64-bit"
  },
  "interpreter": {
   "hash": "4cd7ab41f5fca4b9b44701077e38c5ffd31fe66a6cab21e0214b68d958d0e462"
  }
 },
 "nbformat": 4,
 "nbformat_minor": 2,
 "cells": [
  {
   "source": [
    "# Import necessary packages"
   ],
   "cell_type": "markdown",
   "metadata": {}
  },
  {
   "cell_type": "code",
   "execution_count": 123,
   "metadata": {},
   "outputs": [],
   "source": [
    "import copy\n",
    "import sympy as sp\n",
    "from sympy.matrices import ones, eye\n",
    "import re\n",
    "import dimod\n",
    "import neal\n",
    "from dwave.system import DWaveSampler, EmbeddingComposite"
   ]
  },
  {
   "source": [
    "# Input Variables"
   ],
   "cell_type": "markdown",
   "metadata": {}
  },
  {
   "source": [
    "coords_original - Coordinates considered for distance measure in the hubo<br>torsional_bonds - Torsional bond numbers and their respective coordinate ends<br>coords_rotation_dict - Coordinate numbers and the bonds that affect them<br>distance_pairs - Pairs of coordinates to find distance"
   ],
   "cell_type": "markdown",
   "metadata": {}
  },
  {
   "cell_type": "code",
   "execution_count": 124,
   "metadata": {},
   "outputs": [],
   "source": [
    "coords_original = {\n",
    "    0: [1.0, -0.5, 0.0],\n",
    "    1: [0.0, 0.0, 0.0],\n",
    "    2: [0.0, 1.0, 0.0],\n",
    "    3: [1.0, 1.5, 0.0],\n",
    "    4: [2.0, 1.0, 0.0]\n",
    "}\n",
    "torsional_bonds = {\n",
    "    0: (1, 2),\n",
    "    1: (2, 3)\n",
    "}\n",
    "coords_rotation_dict = {\n",
    "    0: [],\n",
    "    1: [],\n",
    "    2: [],\n",
    "    3: [0],\n",
    "    4: [0, 1]\n",
    "}\n",
    "distance_pairs = [\n",
    "    (0, 3),\n",
    "    (0, 4),\n",
    "    (1, 3),\n",
    "    (1, 4),\n",
    "    (2, 4)]"
   ]
  },
  {
   "cell_type": "code",
   "execution_count": 125,
   "metadata": {},
   "outputs": [
    {
     "output_type": "stream",
     "name": "stdout",
     "text": [
      "(x0, x1, x2, x3, x4, x5, x6, x7)\n"
     ]
    }
   ],
   "source": [
    "coords_dict = copy.deepcopy(coords_original)\n",
    "final_coords = copy.deepcopy(coords_original)\n",
    "\n",
    "n_bonds = len(torsional_bonds)  # no. of bonds\n",
    "n_angles = 4  # no. of discrete angles\n",
    "\n",
    "x = sp.symbols(f'x(0:{n_bonds*n_angles})')  # hubo variables\n",
    "print(x)"
   ]
  },
  {
   "source": [
    "# Function to generate hard constraint"
   ],
   "cell_type": "markdown",
   "metadata": {}
  },
  {
   "cell_type": "code",
   "execution_count": 126,
   "metadata": {},
   "outputs": [],
   "source": [
    "def generate_hard_constraint(include_a=True, a_value=1.0):\n",
    "    for i in range(n_bonds):\n",
    "        x.append(sp.symbols(f'x_{str(i)}_(0:{n_angles})'))\n",
    "    hard_constraint = 0\n",
    "    for i in range(n_bonds):\n",
    "        summation = 0\n",
    "        for j in range(n_angles):\n",
    "            summation += x[i][j]\n",
    "        hard_constraint += (summation - 1) ** 2\n",
    "    if include_a:\n",
    "        a_const = sp.Symbol('A_const')\n",
    "        hard_constraint *= a_const\n",
    "    else:\n",
    "        hard_constraint *= a_value\n",
    "    print(x)\n",
    "    return hard_constraint.expand()"
   ]
  },
  {
   "cell_type": "code",
   "execution_count": 127,
   "metadata": {},
   "outputs": [],
   "source": [
    "def generate_hard_constraint_2():\n",
    "    hard_constraint = 0\n",
    "    index = 0\n",
    "    for i in range(n_bonds):\n",
    "        summation = 0\n",
    "        for j in range(n_angles):\n",
    "            summation += x[index]\n",
    "            index += 1\n",
    "        hard_constraint += (summation - 1) ** 2\n",
    "    a_const = sp.Symbol('A_const')\n",
    "    hard_constraint *= a_const\n",
    "    return hard_constraint"
   ]
  },
  {
   "cell_type": "code",
   "execution_count": 128,
   "metadata": {},
   "outputs": [
    {
     "output_type": "stream",
     "name": "stdout",
     "text": [
      "        ⎛                       2                          2⎞\nA_const⋅⎝(x₀ + x₁ + x₂ + x₃ - 1)  + (x₄ + x₅ + x₆ + x₇ - 1) ⎠\n"
     ]
    }
   ],
   "source": [
    "hard_hubo = generate_hard_constraint_2()\n",
    "sp.pprint(hard_hubo)"
   ]
  },
  {
   "source": [
    "# Functions to rotate coordinates with hubo variables"
   ],
   "cell_type": "markdown",
   "metadata": {}
  },
  {
   "cell_type": "code",
   "execution_count": 129,
   "metadata": {},
   "outputs": [],
   "source": [
    "def rotate_coordinates(rotation_matrix, old_coords):\n",
    "    coord_vector = ones(4, 1)\n",
    "    coord_vector[0, 0] = old_coords[0]\n",
    "    coord_vector[1, 0] = old_coords[1]\n",
    "    coord_vector[2, 0] = old_coords[2]\n",
    "    coord_rot_vector = sp.expand(rotation_matrix * coord_vector)\n",
    "    return [coord_rot_vector[0, 0], coord_rot_vector[1, 0], coord_rot_vector[2, 0]]"
   ]
  },
  {
   "cell_type": "code",
   "execution_count": 130,
   "metadata": {},
   "outputs": [],
   "source": [
    "def generate_thetas():\n",
    "    angle_incr = 2 * sp.pi / n_angles\n",
    "    thetas = [i*angle_incr for i in range(n_angles)]\n",
    "    return thetas"
   ]
  },
  {
   "cell_type": "code",
   "execution_count": 131,
   "metadata": {},
   "outputs": [],
   "source": [
    "def generate_rotation_matrix_2(first_coords, second_coords, bond_no):\n",
    "    x_dash, y_dash, z_dash = first_coords[0], first_coords[1], first_coords[2]\n",
    "    x_ddash, y_ddash, z_ddash = second_coords[0], second_coords[1], second_coords[2]\n",
    "    dx = x_ddash - x_dash\n",
    "    dy = y_ddash - y_dash\n",
    "    dz = z_ddash - z_dash\n",
    "    l_sq = dx ** 2 + dy ** 2 + dz ** 2\n",
    "    l = sp.sqrt(l_sq)\n",
    "    thetas = generate_thetas()\n",
    "    c_theta = 0.0\n",
    "    s_theta = 0.0\n",
    "    index = n_angles * bond_no\n",
    "    for i in range(n_angles):\n",
    "        c_theta += sp.cos(thetas[i]) * x[index]\n",
    "        s_theta += sp.sin(thetas[i]) * x[index]\n",
    "        index += 1\n",
    "    rotation_matrix = eye(4)\n",
    "    rotation_matrix[0, 0] = (dx ** 2 + (dy ** 2 + dz ** 2) * c_theta) / l_sq\n",
    "    rotation_matrix[0, 1] = (dx * dy * (1 - c_theta) - dz * l * s_theta) / l_sq\n",
    "    rotation_matrix[0, 2] = (dx * dz * (1 - c_theta) + dy * l * s_theta) / l_sq\n",
    "    rotation_matrix[0, 3] = ((x_dash * (dy ** 2 + dz ** 2) - dx * (y_dash * dy + z_dash * dz)) * (1 - c_theta) + (\n",
    "            y_dash * dz - z_dash * dy) * l * s_theta) / l_sq\n",
    "    rotation_matrix[1, 0] = (dx * dy * (1 - c_theta) + dz * l * s_theta) / l_sq\n",
    "    rotation_matrix[1, 1] = (dy ** 2 + (dx ** 2 + dz ** 2) * c_theta) / l_sq\n",
    "    rotation_matrix[1, 2] = (dy * dz * (1 - c_theta) - dx * l * s_theta) / l_sq\n",
    "    rotation_matrix[1, 3] = ((y_dash * (dx ** 2 + dz ** 2) - dy * (x_dash * dx + z_dash * dz)) * (1 - c_theta) + (\n",
    "            z_dash * dx - x_dash * dz) * l * s_theta) / l_sq\n",
    "    rotation_matrix[2, 0] = (dx * dz * (1 - c_theta) - dy * l * s_theta) / l_sq\n",
    "    rotation_matrix[2, 1] = (dy * dz * (1 - c_theta) + dx * l * s_theta) / l_sq\n",
    "    rotation_matrix[2, 2] = (dz ** 2 + (dx ** 2 + dy ** 2) * c_theta) / l_sq\n",
    "    rotation_matrix[2, 3] = ((z_dash * (dx ** 2 + dy ** 2) - dz * (x_dash * dx + y_dash * dy)) * (1 - c_theta) + (\n",
    "            x_dash * dy - y_dash * dx) * l * s_theta) / l_sq\n",
    "    return rotation_matrix"
   ]
  },
  {
   "cell_type": "code",
   "execution_count": 132,
   "metadata": {},
   "outputs": [],
   "source": [
    "def generate_rotation_matrix(first_coords, second_coords, bond_no):\n",
    "    x_dash, y_dash, z_dash = first_coords[0], first_coords[1], first_coords[2]\n",
    "    x_ddash, y_ddash, z_ddash = second_coords[0], second_coords[1], second_coords[2]\n",
    "    dx = x_ddash - x_dash\n",
    "    dy = y_ddash - y_dash\n",
    "    dz = z_ddash - z_dash\n",
    "    l_sq = sp.expand(dx ** 2 + dy ** 2 + dz ** 2)\n",
    "    l = sp.expand(sp.sqrt(l_sq))\n",
    "    thetas = generate_thetas()\n",
    "    c_theta = 0.0\n",
    "    s_theta = 0.0\n",
    "    for i in range(n_angles):\n",
    "        c_theta += sp.expand(sp.cos(thetas[i]) * x[bond_no][i])\n",
    "        s_theta += sp.expand(sp.sin(thetas[i]) * x[bond_no][i])\n",
    "    rotation_matrix = eye(4)\n",
    "    rotation_matrix[0, 0] = sp.expand((dx ** 2 + (dy ** 2 + dz ** 2) * c_theta) / l_sq)\n",
    "    rotation_matrix[0, 1] = sp.expand((dx * dy * (1 - c_theta) - dz * l * s_theta) / l_sq)\n",
    "    rotation_matrix[0, 2] = sp.expand((dx * dz * (1 - c_theta) + dy * l * s_theta) / l_sq)\n",
    "    rotation_matrix[0, 3] = sp.expand(((x_dash * (dy ** 2 + dz ** 2) - dx * (y_dash * dy + z_dash * dz)) * (1 - c_theta) + (\n",
    "            y_dash * dz - z_dash * dy) * l * s_theta) / l_sq)\n",
    "    rotation_matrix[1, 0] = sp.expand((dx * dy * (1 - c_theta) + dz * l * s_theta) / l_sq)\n",
    "    rotation_matrix[1, 1] = sp.expand((dy ** 2 + (dx ** 2 + dz ** 2) * c_theta) / l_sq)\n",
    "    rotation_matrix[1, 2] = sp.expand((dy * dz * (1 - c_theta) - dx * l * s_theta) / l_sq)\n",
    "    rotation_matrix[1, 3] = sp.expand(((y_dash * (dx ** 2 + dz ** 2) - dy * (x_dash * dx + z_dash * dz)) * (1 - c_theta) + (\n",
    "            z_dash * dx - x_dash * dz) * l * s_theta) / l_sq)\n",
    "    rotation_matrix[2, 0] = sp.expand((dx * dz * (1 - c_theta) - dy * l * s_theta) / l_sq)\n",
    "    rotation_matrix[2, 1] = sp.expand((dy * dz * (1 - c_theta) + dx * l * s_theta) / l_sq)\n",
    "    rotation_matrix[2, 2] = sp.expand((dz ** 2 + (dx ** 2 + dy ** 2) * c_theta) / l_sq)\n",
    "    rotation_matrix[2, 3] = sp.expand(((z_dash * (dx ** 2 + dy ** 2) - dz * (x_dash * dx + y_dash * dy)) * (1 - c_theta) + (\n",
    "            x_dash * dy - y_dash * dx) * l * s_theta) / l_sq)\n",
    "    return sp.expand(rotation_matrix)"
   ]
  },
  {
   "cell_type": "code",
   "execution_count": 133,
   "metadata": {},
   "outputs": [],
   "source": [
    "def rotate_all_coordinates():\n",
    "    for i in coords_original.keys():\n",
    "        if len(coords_rotation_dict[i]) > 0:\n",
    "            rot_mat = eye(4, 4)\n",
    "            for bond_no in coords_rotation_dict[i]:\n",
    "                temp_rot_mat = generate_rotation_matrix_2(coords_original[torsional_bonds[bond_no][0]],\n",
    "                                                        coords_original[torsional_bonds[bond_no][1]], bond_no)\n",
    "                rot_mat = rot_mat * temp_rot_mat\n",
    "            coords_dict[i] = rotate_coordinates(rot_mat, coords_original[i])"
   ]
  },
  {
   "cell_type": "code",
   "execution_count": 134,
   "metadata": {},
   "outputs": [],
   "source": [
    "rotate_all_coordinates()"
   ]
  },
  {
   "cell_type": "code",
   "execution_count": 135,
   "metadata": {},
   "outputs": [
    {
     "output_type": "stream",
     "name": "stdout",
     "text": [
      "{0: [1.0, -0.5, 0.0], 1: [0.0, 0.0, 0.0], 2: [0.0, 1.0, 0.0], 3: [1.0, 1.5, 0.\n0], 4: [2.0, 1.0, 0.0]}\n"
     ]
    }
   ],
   "source": [
    "sp.pprint(coords_original)"
   ]
  },
  {
   "cell_type": "code",
   "execution_count": 136,
   "metadata": {},
   "outputs": [
    {
     "output_type": "stream",
     "name": "stdout",
     "text": [
      "{0: [1.0, -0.5, 0.0], 1: [0.0, 0.0, 0.0], 2: [0.0, 1.0, 0.0], 3: [1.0⋅x₀ - x₂,\n 1.5, -x₁ + 1.0⋅x₃], 4: [0.4⋅x₀⋅x₄ - 0.4⋅x₀⋅x₆ + 1.6⋅x₀ - 0.894427190999916⋅x₁\n⋅x₅ + 0.894427190999916⋅x₁⋅x₇ - 0.4⋅x₂⋅x₄ + 0.4⋅x₂⋅x₆ - 1.6⋅x₂ + 0.89442719099\n9916⋅x₃⋅x₅ - 0.894427190999916⋅x₃⋅x₇, -0.8⋅x₄ + 0.8⋅x₆ + 1.8, -0.8944271909999\n16⋅x₀⋅x₅ + 0.894427190999916⋅x₀⋅x₇ - 0.4⋅x₁⋅x₄ + 0.4⋅x₁⋅x₆ - 1.6⋅x₁ + 0.894427\n190999916⋅x₂⋅x₅ - 0.894427190999916⋅x₂⋅x₇ + 0.4⋅x₃⋅x₄ - 0.4⋅x₃⋅x₆ + 1.6⋅x₃]}\n"
     ]
    }
   ],
   "source": [
    "sp.pprint(coords_dict)"
   ]
  },
  {
   "source": [
    "# Functions to generate the optimization contraint in hubo"
   ],
   "cell_type": "markdown",
   "metadata": {}
  },
  {
   "cell_type": "code",
   "execution_count": 137,
   "metadata": {},
   "outputs": [],
   "source": [
    "def distance_squared(first_coords, second_coords):\n",
    "    dis_sq = sp.expand((second_coords[0] - first_coords[0])**2 + (second_coords[1] - first_coords[1])**2 +(second_coords[2] - first_coords[2])**2)\n",
    "    return dis_sq\n",
    "\n",
    "def generate_distance_hubo():\n",
    "    distance_sq = 0\n",
    "    for pair in distance_pairs:\n",
    "        distance_sq += distance_squared(coords_dict[pair[0]], coords_dict[pair[1]])\n",
    "    return distance_sq.expand()"
   ]
  },
  {
   "cell_type": "code",
   "execution_count": 138,
   "metadata": {
    "tags": []
   },
   "outputs": [
    {
     "output_type": "stream",
     "name": "stdout",
     "text": [
      "       2   2          2                2            2   2         2           \n0.48⋅x₀ ⋅x₄  - 0.96⋅x₀ ⋅x₄⋅x₆ + 3.84⋅x₀ ⋅x₄ + 2.4⋅x₀ ⋅x₅  - 4.8⋅x₀ ⋅x₅⋅x₇ + 0.\n\n     2   2          2            2   2          2                2            \n48⋅x₀ ⋅x₆  - 3.84⋅x₀ ⋅x₆ + 2.4⋅x₀ ⋅x₇  + 9.68⋅x₀  - 0.96⋅x₀⋅x₂⋅x₄  + 1.92⋅x₀⋅x\n\n                                      2                                  2    \n₂⋅x₄⋅x₆ - 7.68⋅x₀⋅x₂⋅x₄ - 4.8⋅x₀⋅x₂⋅x₅  + 9.6⋅x₀⋅x₂⋅x₅⋅x₇ - 0.96⋅x₀⋅x₂⋅x₆  + 7\n\n                           2                                                  \n.68⋅x₀⋅x₂⋅x₆ - 4.8⋅x₀⋅x₂⋅x₇  - 19.36⋅x₀⋅x₂ - 0.8⋅x₀⋅x₄ + 0.8⋅x₀⋅x₆ - 5.2⋅x₀ + \n\n       2   2          2                2            2   2         2           \n0.48⋅x₁ ⋅x₄  - 0.96⋅x₁ ⋅x₄⋅x₆ + 3.84⋅x₁ ⋅x₄ + 2.4⋅x₁ ⋅x₅  - 4.8⋅x₁ ⋅x₅⋅x₇ + 0.\n\n     2   2          2            2   2          2                2            \n48⋅x₁ ⋅x₆  - 3.84⋅x₁ ⋅x₆ + 2.4⋅x₁ ⋅x₇  + 9.68⋅x₁  - 0.96⋅x₁⋅x₃⋅x₄  + 1.92⋅x₁⋅x\n\n                                      2                                  2    \n₃⋅x₄⋅x₆ - 7.68⋅x₁⋅x₃⋅x₄ - 4.8⋅x₁⋅x₃⋅x₅  + 9.6⋅x₁⋅x₃⋅x₅⋅x₇ - 0.96⋅x₁⋅x₃⋅x₆  + 7\n\n                           2                                                  \n.68⋅x₁⋅x₃⋅x₆ - 4.8⋅x₁⋅x₃⋅x₇  - 19.36⋅x₁⋅x₃ + 1.78885438199983⋅x₁⋅x₅ - 1.788854\n\n                        2   2          2                2            2   2    \n38199983⋅x₁⋅x₇ + 0.48⋅x₂ ⋅x₄  - 0.96⋅x₂ ⋅x₄⋅x₆ + 3.84⋅x₂ ⋅x₄ + 2.4⋅x₂ ⋅x₅  - 4\n\n     2                2   2          2            2   2          2            \n.8⋅x₂ ⋅x₅⋅x₇ + 0.48⋅x₂ ⋅x₆  - 3.84⋅x₂ ⋅x₆ + 2.4⋅x₂ ⋅x₇  + 9.68⋅x₂  + 0.8⋅x₂⋅x₄\n\n                               2   2          2                2            2 \n - 0.8⋅x₂⋅x₆ + 5.2⋅x₂ + 0.48⋅x₃ ⋅x₄  - 0.96⋅x₃ ⋅x₄⋅x₆ + 3.84⋅x₃ ⋅x₄ + 2.4⋅x₃ ⋅\n\n  2         2                2   2          2            2   2          2     \nx₅  - 4.8⋅x₃ ⋅x₅⋅x₇ + 0.48⋅x₃ ⋅x₆  - 3.84⋅x₃ ⋅x₆ + 2.4⋅x₃ ⋅x₇  + 9.68⋅x₃  - 1.\n\n                                                       2                      \n78885438199983⋅x₃⋅x₅ + 1.78885438199983⋅x₃⋅x₇ + 1.92⋅x₄  - 3.84⋅x₄⋅x₆ - 7.84⋅x\n\n           2                  \n₄ + 1.92⋅x₆  + 7.84⋅x₆ + 17.42\n"
     ]
    }
   ],
   "source": [
    "distance_hubo = generate_distance_hubo()\n",
    "sp.pprint(distance_hubo)"
   ]
  },
  {
   "source": [
    "# The full hubo expression is written in the file 'full_hubo_expr.txt'"
   ],
   "cell_type": "markdown",
   "metadata": {}
  },
  {
   "cell_type": "code",
   "execution_count": 139,
   "metadata": {},
   "outputs": [
    {
     "output_type": "execute_result",
     "data": {
      "text/plain": [
       "A_const*x0**2 + 2*A_const*x0*x1 + 2*A_const*x0*x2 + 2*A_const*x0*x3 - 2*A_const*x0 + A_const*x1**2 + 2*A_const*x1*x2 + 2*A_const*x1*x3 - 2*A_const*x1 + A_const*x2**2 + 2*A_const*x2*x3 - 2*A_const*x2 + A_const*x3**2 - 2*A_const*x3 + A_const*x4**2 + 2*A_const*x4*x5 + 2*A_const*x4*x6 + 2*A_const*x4*x7 - 2*A_const*x4 + A_const*x5**2 + 2*A_const*x5*x6 + 2*A_const*x5*x7 - 2*A_const*x5 + A_const*x6**2 + 2*A_const*x6*x7 - 2*A_const*x6 + A_const*x7**2 - 2*A_const*x7 + 2*A_const - 0.48*x0**2*x4**2 + 0.96*x0**2*x4*x6 - 3.84*x0**2*x4 - 2.4*x0**2*x5**2 + 4.8*x0**2*x5*x7 - 0.48*x0**2*x6**2 + 3.84*x0**2*x6 - 2.4*x0**2*x7**2 - 9.68*x0**2 + 0.96*x0*x2*x4**2 - 1.92*x0*x2*x4*x6 + 7.68*x0*x2*x4 + 4.8*x0*x2*x5**2 - 9.6*x0*x2*x5*x7 + 0.96*x0*x2*x6**2 - 7.68*x0*x2*x6 + 4.8*x0*x2*x7**2 + 19.36*x0*x2 + 0.8*x0*x4 - 0.8*x0*x6 + 5.2*x0 - 0.48*x1**2*x4**2 + 0.96*x1**2*x4*x6 - 3.84*x1**2*x4 - 2.4*x1**2*x5**2 + 4.8*x1**2*x5*x7 - 0.48*x1**2*x6**2 + 3.84*x1**2*x6 - 2.4*x1**2*x7**2 - 9.68*x1**2 + 0.96*x1*x3*x4**2 - 1.92*x1*x3*x4*x6 + 7.68*x1*x3*x4 + 4.8*x1*x3*x5**2 - 9.6*x1*x3*x5*x7 + 0.96*x1*x3*x6**2 - 7.68*x1*x3*x6 + 4.8*x1*x3*x7**2 + 19.36*x1*x3 - 1.78885438199983*x1*x5 + 1.78885438199983*x1*x7 - 0.48*x2**2*x4**2 + 0.96*x2**2*x4*x6 - 3.84*x2**2*x4 - 2.4*x2**2*x5**2 + 4.8*x2**2*x5*x7 - 0.48*x2**2*x6**2 + 3.84*x2**2*x6 - 2.4*x2**2*x7**2 - 9.68*x2**2 - 0.8*x2*x4 + 0.8*x2*x6 - 5.2*x2 - 0.48*x3**2*x4**2 + 0.96*x3**2*x4*x6 - 3.84*x3**2*x4 - 2.4*x3**2*x5**2 + 4.8*x3**2*x5*x7 - 0.48*x3**2*x6**2 + 3.84*x3**2*x6 - 2.4*x3**2*x7**2 - 9.68*x3**2 + 1.78885438199983*x3*x5 - 1.78885438199983*x3*x7 - 1.92*x4**2 + 3.84*x4*x6 + 7.84*x4 - 1.92*x6**2 - 7.84*x6 - 17.42"
      ],
      "text/latex": "$\\displaystyle A_{const} x_{0}^{2} + 2 A_{const} x_{0} x_{1} + 2 A_{const} x_{0} x_{2} + 2 A_{const} x_{0} x_{3} - 2 A_{const} x_{0} + A_{const} x_{1}^{2} + 2 A_{const} x_{1} x_{2} + 2 A_{const} x_{1} x_{3} - 2 A_{const} x_{1} + A_{const} x_{2}^{2} + 2 A_{const} x_{2} x_{3} - 2 A_{const} x_{2} + A_{const} x_{3}^{2} - 2 A_{const} x_{3} + A_{const} x_{4}^{2} + 2 A_{const} x_{4} x_{5} + 2 A_{const} x_{4} x_{6} + 2 A_{const} x_{4} x_{7} - 2 A_{const} x_{4} + A_{const} x_{5}^{2} + 2 A_{const} x_{5} x_{6} + 2 A_{const} x_{5} x_{7} - 2 A_{const} x_{5} + A_{const} x_{6}^{2} + 2 A_{const} x_{6} x_{7} - 2 A_{const} x_{6} + A_{const} x_{7}^{2} - 2 A_{const} x_{7} + 2 A_{const} - 0.48 x_{0}^{2} x_{4}^{2} + 0.96 x_{0}^{2} x_{4} x_{6} - 3.84 x_{0}^{2} x_{4} - 2.4 x_{0}^{2} x_{5}^{2} + 4.8 x_{0}^{2} x_{5} x_{7} - 0.48 x_{0}^{2} x_{6}^{2} + 3.84 x_{0}^{2} x_{6} - 2.4 x_{0}^{2} x_{7}^{2} - 9.68 x_{0}^{2} + 0.96 x_{0} x_{2} x_{4}^{2} - 1.92 x_{0} x_{2} x_{4} x_{6} + 7.68 x_{0} x_{2} x_{4} + 4.8 x_{0} x_{2} x_{5}^{2} - 9.6 x_{0} x_{2} x_{5} x_{7} + 0.96 x_{0} x_{2} x_{6}^{2} - 7.68 x_{0} x_{2} x_{6} + 4.8 x_{0} x_{2} x_{7}^{2} + 19.36 x_{0} x_{2} + 0.8 x_{0} x_{4} - 0.8 x_{0} x_{6} + 5.2 x_{0} - 0.48 x_{1}^{2} x_{4}^{2} + 0.96 x_{1}^{2} x_{4} x_{6} - 3.84 x_{1}^{2} x_{4} - 2.4 x_{1}^{2} x_{5}^{2} + 4.8 x_{1}^{2} x_{5} x_{7} - 0.48 x_{1}^{2} x_{6}^{2} + 3.84 x_{1}^{2} x_{6} - 2.4 x_{1}^{2} x_{7}^{2} - 9.68 x_{1}^{2} + 0.96 x_{1} x_{3} x_{4}^{2} - 1.92 x_{1} x_{3} x_{4} x_{6} + 7.68 x_{1} x_{3} x_{4} + 4.8 x_{1} x_{3} x_{5}^{2} - 9.6 x_{1} x_{3} x_{5} x_{7} + 0.96 x_{1} x_{3} x_{6}^{2} - 7.68 x_{1} x_{3} x_{6} + 4.8 x_{1} x_{3} x_{7}^{2} + 19.36 x_{1} x_{3} - 1.78885438199983 x_{1} x_{5} + 1.78885438199983 x_{1} x_{7} - 0.48 x_{2}^{2} x_{4}^{2} + 0.96 x_{2}^{2} x_{4} x_{6} - 3.84 x_{2}^{2} x_{4} - 2.4 x_{2}^{2} x_{5}^{2} + 4.8 x_{2}^{2} x_{5} x_{7} - 0.48 x_{2}^{2} x_{6}^{2} + 3.84 x_{2}^{2} x_{6} - 2.4 x_{2}^{2} x_{7}^{2} - 9.68 x_{2}^{2} - 0.8 x_{2} x_{4} + 0.8 x_{2} x_{6} - 5.2 x_{2} - 0.48 x_{3}^{2} x_{4}^{2} + 0.96 x_{3}^{2} x_{4} x_{6} - 3.84 x_{3}^{2} x_{4} - 2.4 x_{3}^{2} x_{5}^{2} + 4.8 x_{3}^{2} x_{5} x_{7} - 0.48 x_{3}^{2} x_{6}^{2} + 3.84 x_{3}^{2} x_{6} - 2.4 x_{3}^{2} x_{7}^{2} - 9.68 x_{3}^{2} + 1.78885438199983 x_{3} x_{5} - 1.78885438199983 x_{3} x_{7} - 1.92 x_{4}^{2} + 3.84 x_{4} x_{6} + 7.84 x_{4} - 1.92 x_{6}^{2} - 7.84 x_{6} - 17.42$"
     },
     "metadata": {},
     "execution_count": 139
    }
   ],
   "source": [
    "hubo_expr = sp.expand(hard_hubo - distance_hubo)\n",
    "hubo_expr"
   ]
  },
  {
   "cell_type": "code",
   "execution_count": 157,
   "metadata": {},
   "outputs": [],
   "source": [
    "def hubo_expr_to_dict():\n",
    "    hubo_args = hubo_expr.args\n",
    "    hubo_dict = {}\n",
    "    for monom in hubo_args:\n",
    "        monom_key = monom.as_coeff_mul()[1][1:]\n",
    "        dict_key = []\n",
    "        for monom_item in monom_key:\n",
    "            if re.match(\"^x(\\d*)\\d$\", str(monom_item)):\n",
    "                dict_key.append(int(str(monom_item)[1:]))\n",
    "            else:\n",
    "                dict_key.append(int(str(monom_item).split('**')[0][1:]))\n",
    "        if len(dict_key) > 0:\n",
    "            dict_key.sort()\n",
    "            dict_key = tuple(dict_key)\n",
    "        else:\n",
    "            dict_key = ()\n",
    "        if dict_key in hubo_dict:\n",
    "            hubo_dict[dict_key] += monom.as_coeff_mul()[1][0]*monom.as_coeff_mul()[0]\n",
    "        else:\n",
    "            hubo_dict[dict_key] = monom.as_coeff_mul()[1][0]*monom.as_coeff_mul()[0]\n",
    "    return hubo_dict"
   ]
  },
  {
   "cell_type": "code",
   "execution_count": 158,
   "metadata": {
    "tags": []
   },
   "outputs": [
    {
     "output_type": "stream",
     "name": "stdout",
     "text": [
      "{(): 2*A_const - 17.42, (0,): -A_const - 4.48, (4,): 5.92 - A_const, (2,): -A_const - 14.88, (6,): -A_const - 9.76, (1,): -A_const - 9.68, (3,): -A_const - 9.68, (5,): -A_const, (7,): -A_const, (4, 6): 2*A_const + 3.84, (0, 6): 2.56000000000000, (1, 6): 3.36000000000000, (2, 6): 4.16000000000000, (3, 6): 3.36000000000000, (0, 2): 2*A_const + 19.36, (1, 3): 2*A_const + 19.36, (0, 4): -3.52000000000000, (1, 7): -0.611145618000169, (3, 5): -0.611145618000169, (1, 4): -4.32000000000000, (2, 4): -5.12000000000000, (3, 4): -4.32000000000000, (0, 5): -2.40000000000000, (0, 7): -2.40000000000000, (1, 5): -4.18885438199983, (2, 5): -2.40000000000000, (2, 7): -2.40000000000000, (3, 7): -4.18885438199983, (0, 1): 2*A_const, (0, 3): 2*A_const, (1, 2): 2*A_const, (2, 3): 2*A_const, (4, 5): 2*A_const, (4, 7): 2*A_const, (5, 6): 2*A_const, (5, 7): 2*A_const, (6, 7): 2*A_const, (0, 2, 4): 8.64000000000000, (0, 2, 6): -6.72000000000000, (1, 3, 4): 8.64000000000000, (1, 3, 6): -6.72000000000000, (0, 4, 6): 0.960000000000000, (1, 4, 6): 0.960000000000000, (2, 4, 6): 0.960000000000000, (3, 4, 6): 0.960000000000000, (0, 2, 5): 4.80000000000000, (0, 2, 7): 4.80000000000000, (1, 3, 5): 4.80000000000000, (1, 3, 7): 4.80000000000000, (0, 5, 7): 4.80000000000000, (1, 5, 7): 4.80000000000000, (2, 5, 7): 4.80000000000000, (3, 5, 7): 4.80000000000000, (0, 2, 4, 6): -1.92000000000000, (1, 3, 4, 6): -1.92000000000000, (0, 2, 5, 7): -9.60000000000000, (1, 3, 5, 7): -9.60000000000000}\n"
     ]
    }
   ],
   "source": [
    "hubo_dict = hubo_expr_to_dict()\n",
    "print(hubo_dict)"
   ]
  },
  {
   "cell_type": "code",
   "execution_count": 159,
   "metadata": {},
   "outputs": [
    {
     "output_type": "stream",
     "name": "stdout",
     "text": [
      "full hubo dictionary written in file - hubo_dict.txt\n"
     ]
    }
   ],
   "source": [
    "file_name = \"hubo_dict.txt\"\n",
    "f = open(file_name, \"w\")\n",
    "print('full hubo dictionary written in file - hubo_dict.txt')\n",
    "f.write(str(hubo_dict))\n",
    "f.close()"
   ]
  },
  {
   "cell_type": "code",
   "execution_count": 160,
   "metadata": {},
   "outputs": [],
   "source": [
    "#This is used to check the maximum coefficient appearing in Hubo_B\n",
    "A_const=0\n",
    "read_dictionary_B = open(file_name, 'r').read()\n",
    "HUBO_B=eval(read_dictionary_B)\n",
    "\n",
    "#We set the Hard constraint strength as the (maximum coefficient appearing in Hubo_B)*const.\n",
    "#const was empirically selected to be 10\n",
    "const=10\n",
    "A_const=max(map(abs, list(HUBO_B.values())))*const\n",
    "# A_const = 1000\n",
    "\n",
    "#read the final HUBO\n",
    "read_dictionary= open(file_name, 'r').read()\n",
    "HUBO=eval(read_dictionary)"
   ]
  },
  {
   "cell_type": "code",
   "execution_count": 161,
   "metadata": {},
   "outputs": [
    {
     "output_type": "stream",
     "name": "stdout",
     "text": [
      "Current size of the HUBO: 57\n"
     ]
    }
   ],
   "source": [
    "print(\"Current size of the HUBO:\",len(HUBO)) "
   ]
  },
  {
   "cell_type": "code",
   "execution_count": 162,
   "metadata": {},
   "outputs": [],
   "source": [
    "def threshold_approx(h, val=1):\n",
    "    d =h.copy()\n",
    "    monoms = h.keys()\n",
    "    for m in monoms:     \n",
    "        temp = d[m]\n",
    "        if (temp < 0.0):\n",
    "            temp = -1.0 * temp\n",
    "        if (temp <= (10.0 ** (val))):\n",
    "            del d[m]\n",
    "    return d"
   ]
  },
  {
   "cell_type": "code",
   "execution_count": 163,
   "metadata": {},
   "outputs": [
    {
     "output_type": "stream",
     "name": "stdout",
     "text": [
      "Size of the HUBO after threshold approximation: 21\n"
     ]
    }
   ],
   "source": [
    "#Coefficints with absolute value less than 10^{threshold} are deleted from the HUBO.\n",
    "threshold=2\n",
    "\n",
    "HUBO=threshold_approx(HUBO,threshold)\n",
    "\n",
    "print(\"Size of the HUBO after threshold approximation:\",len(HUBO))"
   ]
  },
  {
   "cell_type": "code",
   "execution_count": 164,
   "metadata": {},
   "outputs": [],
   "source": [
    "#calculate the strength parameter needed by make_quadratic\n",
    "max_hubo_value=max(map(abs, list(HUBO.values())))\n",
    "strength=1.5*max_hubo_value\n",
    "#generate the bqm\n",
    "bqm = dimod.make_quadratic(HUBO, strength, dimod.BINARY)"
   ]
  },
  {
   "cell_type": "code",
   "execution_count": 165,
   "metadata": {},
   "outputs": [],
   "source": [
    "sampler = neal.SimulatedAnnealingSampler()\n",
    "\n",
    "sample_size=10"
   ]
  },
  {
   "cell_type": "code",
   "execution_count": 166,
   "metadata": {},
   "outputs": [
    {
     "output_type": "stream",
     "name": "stdout",
     "text": [
      "   0  1  2  3  4  5  6  7 energy num_oc.\n0  0  0  1  0  0  0  0  1  -32.3       1\n5  0  0  1  0  0  0  0  1  -32.3       1\n7  0  0  1  0  0  0  0  1  -32.3       1\n9  0  0  1  0  0  1  0  0  -32.3       1\n3  1  0  0  0  0  0  1  0 -31.66       1\n2  0  0  0  1  0  1  0  0  -27.1       1\n6  0  0  0  1  0  1  0  0  -27.1       1\n8  0  0  0  1  0  1  0  0  -27.1       1\n1  1  0  0  0  0  0  0  1  -21.9       1\n4  0  0  0  1  1  0  0  0 -21.18       1\n['BINARY', 10 rows, 10 samples, 8 variables]\n"
     ]
    }
   ],
   "source": [
    "sampleset = sampler.sample(bqm, num_reads=sample_size)\n",
    "print(sampleset)"
   ]
  },
  {
   "cell_type": "code",
   "execution_count": 167,
   "metadata": {
    "tags": []
   },
   "outputs": [
    {
     "output_type": "stream",
     "name": "stdout",
     "text": [
      "{0: 0, 1: 0, 2: 1, 3: 0, 4: 0, 5: 0, 6: 1, 7: 0}\n"
     ]
    }
   ],
   "source": [
    "sampler = EmbeddingComposite(DWaveSampler())\n",
    "sampleset = sampler.sample(bqm, num_reads=1000)\n",
    "print(sampleset.first.sample)"
   ]
  },
  {
   "cell_type": "code",
   "execution_count": null,
   "metadata": {},
   "outputs": [],
   "source": []
  }
 ]
}