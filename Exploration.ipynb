{
 "metadata": {
  "language_info": {
   "codemirror_mode": {
    "name": "ipython",
    "version": 3
   },
   "file_extension": ".py",
   "mimetype": "text/x-python",
   "name": "python",
   "nbconvert_exporter": "python",
   "pygments_lexer": "ipython3",
   "version": "3.9.16"
  },
  "orig_nbformat": 4,
  "kernelspec": {
   "name": "python3",
   "display_name": "Python 3.9.16 64-bit"
  },
  "interpreter": {
   "hash": "4cd7ab41f5fca4b9b44701077e38c5ffd31fe66a6cab21e0214b68d958d0e462"
  }
 },
 "nbformat": 4,
 "nbformat_minor": 2,
 "cells": [
  {
   "cell_type": "code",
   "execution_count": 5,
   "metadata": {},
   "outputs": [
    {
     "output_type": "stream",
     "name": "stdout",
     "text": [
      "Get:1 http://deb.debian.org/debian bullseye InRelease [116 kB]\n",
      "Get:2 http://deb.debian.org/debian-security bullseye-security InRelease [48.4 kB]\n",
      "Get:3 http://deb.debian.org/debian bullseye-updates InRelease [44.1 kB]\n",
      "Get:4 http://deb.debian.org/debian bullseye/main amd64 Packages [8,183 kB]\n",
      "Get:5 http://deb.debian.org/debian-security bullseye-security/main amd64 Packages [237 kB]\n",
      "Get:6 http://deb.debian.org/debian bullseye-updates/main amd64 Packages [14.6 kB]\n",
      "Fetched 8,643 kB in 4s (2,327 kB/s)\n",
      "\n",
      "\n",
      "\n",
      "\n",
      "The following additional packages will be installed:\n",
      "  libbsd0 libmd0 libx11-6 libx11-data libxau6 libxcb1 libxdmcp6\n",
      "The following NEW packages will be installed:\n",
      "  libbsd0 libmd0 libx11-6 libx11-data libxau6 libxcb1 libxdmcp6 libxrender1\n",
      "0 upgraded, 8 newly installed, 0 to remove and 1 not upgraded.\n",
      "Need to get 1,437 kB of archives.\n",
      "After this operation, 4,065 kB of additional disk space will be used.\n",
      "Get:1 http://deb.debian.org/debian bullseye/main amd64 libmd0 amd64 1.0.3-3 [28.0 kB]\n",
      "Get:2 http://deb.debian.org/debian bullseye/main amd64 libbsd0 amd64 0.11.3-1 [108 kB]\n",
      "Get:3 http://deb.debian.org/debian bullseye/main amd64 libxau6 amd64 1:1.0.9-1 [19.7 kB]\n",
      "Get:4 http://deb.debian.org/debian bullseye/main amd64 libxdmcp6 amd64 1:1.1.2-3 [26.3 kB]\n",
      "Get:5 http://deb.debian.org/debian bullseye/main amd64 libxcb1 amd64 1.14-3 [140 kB]\n",
      "Get:6 http://deb.debian.org/debian bullseye/main amd64 libx11-data all 2:1.7.2-1 [311 kB]\n",
      "Get:7 http://deb.debian.org/debian bullseye/main amd64 libx11-6 amd64 2:1.7.2-1 [772 kB]\n",
      "Get:8 http://deb.debian.org/debian bullseye/main amd64 libxrender1 amd64 1:0.9.10-1 [33.0 kB]\n",
      "Fetched 1,437 kB in 2s (622 kB/s)\n",
      "debconf: unable to initialize frontend: Dialog\n",
      "debconf: (No usable dialog-like program is installed, so the dialog based frontend cannot be used. at /usr/share/perl5/Debconf/FrontEnd/Dialog.pm line 78, <> line 8.)\n",
      "debconf: falling back to frontend: Readline\n",
      "Selecting previously unselected package libmd0:amd64.\n",
      "(Reading database ... 17744 files and directories currently installed.)\n",
      "Preparing to unpack .../0-libmd0_1.0.3-3_amd64.deb ...\n",
      "Unpacking libmd0:amd64 (1.0.3-3) ...\n",
      "Selecting previously unselected package libbsd0:amd64.\n",
      "Preparing to unpack .../1-libbsd0_0.11.3-1_amd64.deb ...\n",
      "Unpacking libbsd0:amd64 (0.11.3-1) ...\n",
      "Selecting previously unselected package libxau6:amd64.\n",
      "Preparing to unpack .../2-libxau6_1%3a1.0.9-1_amd64.deb ...\n",
      "Unpacking libxau6:amd64 (1:1.0.9-1) ...\n",
      "Selecting previously unselected package libxdmcp6:amd64.\n",
      "Preparing to unpack .../3-libxdmcp6_1%3a1.1.2-3_amd64.deb ...\n",
      "Unpacking libxdmcp6:amd64 (1:1.1.2-3) ...\n",
      "Selecting previously unselected package libxcb1:amd64.\n",
      "Preparing to unpack .../4-libxcb1_1.14-3_amd64.deb ...\n",
      "Unpacking libxcb1:amd64 (1.14-3) ...\n",
      "Selecting previously unselected package libx11-data.\n",
      "Preparing to unpack .../5-libx11-data_2%3a1.7.2-1_all.deb ...\n",
      "Unpacking libx11-data (2:1.7.2-1) ...\n",
      "Selecting previously unselected package libx11-6:amd64.\n",
      "Preparing to unpack .../6-libx11-6_2%3a1.7.2-1_amd64.deb ...\n",
      "Unpacking libx11-6:amd64 (2:1.7.2-1) ...\n",
      "Selecting previously unselected package libxrender1:amd64.\n",
      "Preparing to unpack .../7-libxrender1_1%3a0.9.10-1_amd64.deb ...\n",
      "Unpacking libxrender1:amd64 (1:0.9.10-1) ...\n",
      "Setting up libxau6:amd64 (1:1.0.9-1) ...\n",
      "Setting up libx11-data (2:1.7.2-1) ...\n",
      "Setting up libmd0:amd64 (1.0.3-3) ...\n",
      "Setting up libbsd0:amd64 (0.11.3-1) ...\n",
      "Setting up libxdmcp6:amd64 (1:1.1.2-3) ...\n",
      "Setting up libxcb1:amd64 (1.14-3) ...\n",
      "Setting up libx11-6:amd64 (2:1.7.2-1) ...\n",
      "Setting up libxrender1:amd64 (1:0.9.10-1) ...\n",
      "Processing triggers for libc-bin (2.31-13+deb11u5) ...\n",
      "\n",
      "\n",
      "\n",
      "The following additional packages will be installed:\n",
      "  libice6 x11-common\n",
      "The following NEW packages will be installed:\n",
      "  libice6 libsm6 libxext6 x11-common\n",
      "0 upgraded, 4 newly installed, 0 to remove and 1 not upgraded.\n",
      "Need to get 399 kB of archives.\n",
      "After this operation, 660 kB of additional disk space will be used.\n",
      "Get:1 http://deb.debian.org/debian bullseye/main amd64 x11-common all 1:7.7+22 [252 kB]\n",
      "Get:2 http://deb.debian.org/debian bullseye/main amd64 libice6 amd64 2:1.0.10-1 [58.5 kB]\n",
      "Get:3 http://deb.debian.org/debian bullseye/main amd64 libsm6 amd64 2:1.2.3-1 [35.1 kB]\n",
      "Get:4 http://deb.debian.org/debian bullseye/main amd64 libxext6 amd64 2:1.3.3-1.1 [52.7 kB]\n",
      "Fetched 399 kB in 1s (685 kB/s)\n",
      "debconf: unable to initialize frontend: Dialog\n",
      "debconf: (No usable dialog-like program is installed, so the dialog based frontend cannot be used. at /usr/share/perl5/Debconf/FrontEnd/Dialog.pm line 78, <> line 4.)\n",
      "debconf: falling back to frontend: Readline\n",
      "\n",
      "\u001b7\u001b[0;23r\u001b8\u001b[1ASelecting previously unselected package x11-common.\n",
      "(Reading database ... 18050 files and directories currently installed.)\n",
      "Preparing to unpack .../x11-common_1%3a7.7+22_all.deb ...\n",
      "\u001b7\u001b[24;0f\u001b[42m\u001b[30mProgress: [  0%]\u001b[49m\u001b[39m [..........................................................] \u001b8\u001b7\u001b[24;0f\u001b[42m\u001b[30mProgress: [  6%]\u001b[49m\u001b[39m [###.......................................................] \u001b8Unpacking x11-common (1:7.7+22) ...\n",
      "\u001b7\u001b[24;0f\u001b[42m\u001b[30mProgress: [ 12%]\u001b[49m\u001b[39m [######....................................................] \u001b8Selecting previously unselected package libice6:amd64.\n",
      "Preparing to unpack .../libice6_2%3a1.0.10-1_amd64.deb ...\n",
      "\u001b7\u001b[24;0f\u001b[42m\u001b[30mProgress: [ 18%]\u001b[49m\u001b[39m [##########................................................] \u001b8Unpacking libice6:amd64 (2:1.0.10-1) ...\n",
      "\u001b7\u001b[24;0f\u001b[42m\u001b[30mProgress: [ 24%]\u001b[49m\u001b[39m [#############.............................................] \u001b8Selecting previously unselected package libsm6:amd64.\n",
      "Preparing to unpack .../libsm6_2%3a1.2.3-1_amd64.deb ...\n",
      "\u001b7\u001b[24;0f\u001b[42m\u001b[30mProgress: [ 29%]\u001b[49m\u001b[39m [#################.........................................] \u001b8Unpacking libsm6:amd64 (2:1.2.3-1) ...\n",
      "\u001b7\u001b[24;0f\u001b[42m\u001b[30mProgress: [ 35%]\u001b[49m\u001b[39m [####################......................................] \u001b8Selecting previously unselected package libxext6:amd64.\n",
      "Preparing to unpack .../libxext6_2%3a1.3.3-1.1_amd64.deb ...\n",
      "\u001b7\u001b[24;0f\u001b[42m\u001b[30mProgress: [ 41%]\u001b[49m\u001b[39m [#######################...................................] \u001b8Unpacking libxext6:amd64 (2:1.3.3-1.1) ...\n",
      "\u001b7\u001b[24;0f\u001b[42m\u001b[30mProgress: [ 47%]\u001b[49m\u001b[39m [###########################...............................] \u001b8Setting up x11-common (1:7.7+22) ...\n",
      "\u001b7\u001b[24;0f\u001b[42m\u001b[30mProgress: [ 53%]\u001b[49m\u001b[39m [##############################............................] \u001b8debconf: unable to initialize frontend: Dialog\n",
      "debconf: (No usable dialog-like program is installed, so the dialog based frontend cannot be used. at /usr/share/perl5/Debconf/FrontEnd/Dialog.pm line 78.)\n",
      "debconf: falling back to frontend: Readline\n",
      "invoke-rc.d: could not determine current runlevel\n",
      "invoke-rc.d: policy-rc.d denied execution of start.\n",
      "\u001b7\u001b[24;0f\u001b[42m\u001b[30mProgress: [ 59%]\u001b[49m\u001b[39m [##################################........................] \u001b8Setting up libxext6:amd64 (2:1.3.3-1.1) ...\n",
      "\u001b7\u001b[24;0f\u001b[42m\u001b[30mProgress: [ 65%]\u001b[49m\u001b[39m [#####################################.....................] \u001b8\u001b7\u001b[24;0f\u001b[42m\u001b[30mProgress: [ 71%]\u001b[49m\u001b[39m [########################################..................] \u001b8Setting up libice6:amd64 (2:1.0.10-1) ...\n",
      "\u001b7\u001b[24;0f\u001b[42m\u001b[30mProgress: [ 76%]\u001b[49m\u001b[39m [############################################..............] \u001b8\u001b7\u001b[24;0f\u001b[42m\u001b[30mProgress: [ 82%]\u001b[49m\u001b[39m [###############################################...........] \u001b8Setting up libsm6:amd64 (2:1.2.3-1) ...\n",
      "\u001b7\u001b[24;0f\u001b[42m\u001b[30mProgress: [ 88%]\u001b[49m\u001b[39m [###################################################.......] \u001b8\u001b7\u001b[24;0f\u001b[42m\u001b[30mProgress: [ 94%]\u001b[49m\u001b[39m [######################################################....] \u001b8Processing triggers for libc-bin (2.31-13+deb11u5) ...\n",
      "\n",
      "\u001b7\u001b[0;24r\u001b8\u001b[1A\u001b[J"
     ]
    }
   ],
   "source": [
    "! sudo apt-get update\n",
    "! sudo apt-get install -y libxrender1\n",
    "! sudo apt install -y libsm6 libxext6"
   ]
  },
  {
   "cell_type": "code",
   "execution_count": 2,
   "metadata": {},
   "outputs": [],
   "source": [
    "# !pip install rdkit"
   ]
  },
  {
   "cell_type": "code",
   "execution_count": 3,
   "metadata": {},
   "outputs": [],
   "source": [
    "# !pip install py3Dmol"
   ]
  },
  {
   "cell_type": "code",
   "execution_count": 6,
   "metadata": {},
   "outputs": [],
   "source": [
    "import rdkit\n",
    "from rdkit.Chem import Draw\n",
    "from rdkit.Chem import AllChem\n",
    "from rdkit import Chem\n",
    "import py3Dmol"
   ]
  },
  {
   "cell_type": "code",
   "execution_count": 20,
   "metadata": {},
   "outputs": [],
   "source": [
    "mol = rdkit.Chem.MolFromMol2File('./Molecules/20A12Rot_1.mol2')\n"
   ]
  },
  {
   "cell_type": "code",
   "execution_count": 21,
   "metadata": {},
   "outputs": [
    {
     "output_type": "display_data",
     "data": {
      "application/3dmoljs_load.v0": "<div id=\"3dmolviewer_16819970751085882\"  style=\"position: relative; width: 500px; height: 250px\">\n        <p id=\"3dmolwarning_16819970751085882\" style=\"background-color:#ffcccc;color:black\">You appear to be running in JupyterLab (or JavaScript failed to load for some other reason).  You need to install the 3dmol extension: <br>\n        <tt>jupyter labextension install jupyterlab_3dmol</tt></p>\n        </div>\n<script>\n\nvar loadScriptAsync = function(uri){\n  return new Promise((resolve, reject) => {\n    //this is to ignore the existence of requirejs amd\n    var savedexports, savedmodule;\n    if (typeof exports !== 'undefined') savedexports = exports;\n    else exports = {}\n    if (typeof module !== 'undefined') savedmodule = module;\n    else module = {}\n\n    var tag = document.createElement('script');\n    tag.src = uri;\n    tag.async = true;\n    tag.onload = () => {\n        exports = savedexports;\n        module = savedmodule;\n        resolve();\n    };\n  var firstScriptTag = document.getElementsByTagName('script')[0];\n  firstScriptTag.parentNode.insertBefore(tag, firstScriptTag);\n});\n};\n\nif(typeof $3Dmolpromise === 'undefined') {\n$3Dmolpromise = null;\n  $3Dmolpromise = loadScriptAsync('https://cdnjs.cloudflare.com/ajax/libs/3Dmol/2.0.1/3Dmol-min.js');\n}\n\nvar viewer_16819970751085882 = null;\nvar warn = document.getElementById(\"3dmolwarning_16819970751085882\");\nif(warn) {\n    warn.parentNode.removeChild(warn);\n}\n$3Dmolpromise.then(function() {\nviewer_16819970751085882 = $3Dmol.createViewer(document.getElementById(\"3dmolviewer_16819970751085882\"),{backgroundColor:\"white\"});\nviewer_16819970751085882.zoomTo();\n\tviewer_16819970751085882.addModel(\"1\\n     RDKit          3D\\n\\n 20 20  0  0  0  0  0  0  0  0999 V2000\\n    1.7840    2.2110   -8.1700 C   0  0  0  0  0  0  0  0  0  0  0  0\\n    0.7290    1.4990   -7.5370 O   0  0  0  0  0  0  0  0  0  0  0  0\\n    1.2140    0.6560   -6.4960 C   0  0  0  0  0  0  0  0  0  0  0  0\\n    0.0280   -0.0630   -5.8690 C   0  0  0  0  0  0  0  0  0  0  0  0\\n    0.4790   -0.9670   -4.7350 C   0  0  0  0  0  0  0  0  0  0  0  0\\n   -0.8980   -1.8470   -4.0100 S   0  0  0  0  0  6  0  0  0  0  0  0\\n   -1.8630   -0.8720   -3.5470 O   0  0  0  0  0  0  0  0  0  0  0  0\\n   -1.2800   -2.9260   -4.8950 O   0  0  0  0  0  0  0  0  0  0  0  0\\n   -0.1540   -2.5350   -2.6510 N   0  0  0  0  0  0  0  0  0  0  0  0\\n    0.6500   -3.7510   -2.8900 C   0  0  0  0  0  0  0  0  0  0  0  0\\n   -0.9920   -2.6380   -1.4290 C   0  0  0  0  0  0  0  0  0  0  0  0\\n   -0.5010   -1.7700   -0.3090 C   0  0  1  0  0  0  0  0  0  0  0  0\\n    0.9140   -1.5150   -0.2680 O   0  0  0  0  0  0  0  0  0  0  0  0\\n    0.0670   -0.3880   -0.5330 C   0  0  2  0  0  0  0  0  0  0  0  0\\n    0.0070    0.6730    0.5250 C   0  0  0  0  0  0  0  0  0  0  0  0\\n    0.5490    0.2640    1.8960 C   0  0  0  0  0  0  0  0  0  0  0  0\\n    0.4370    1.4100    2.9040 C   0  0  0  0  0  0  0  0  0  0  0  0\\n    0.9970    1.0040    4.2680 C   0  0  0  0  0  0  0  0  0  0  0  0\\n    0.8710    2.1190    5.2660 C   0  0  0  0  0  0  0  0  0  0  0  0\\n    0.1590    2.0360    6.3970 C   0  0  0  0  0  0  0  0  0  0  0  0\\n  1  2  1  0\\n  2  3  1  0\\n  3  4  1  0\\n  4  5  1  0\\n  5  6  1  0\\n  6  7  2  0\\n  6  8  2  0\\n  6  9  1  0\\n  9 10  1  0\\n  9 11  1  0\\n 12 11  1  6\\n 12 13  1  0\\n 13 14  1  0\\n 14 12  1  0\\n 14 15  1  1\\n 15 16  1  0\\n 16 17  1  0\\n 17 18  1  0\\n 18 19  1  0\\n 19 20  2  0\\nM  END\\n\",\"mol\");\n\tviewer_16819970751085882.setStyle({\"stick\": {}});\n\tviewer_16819970751085882.zoomTo();\nviewer_16819970751085882.render();\n});\n</script>",
      "text/html": "<div id=\"3dmolviewer_16819970751085882\"  style=\"position: relative; width: 500px; height: 250px\">\n        <p id=\"3dmolwarning_16819970751085882\" style=\"background-color:#ffcccc;color:black\">You appear to be running in JupyterLab (or JavaScript failed to load for some other reason).  You need to install the 3dmol extension: <br>\n        <tt>jupyter labextension install jupyterlab_3dmol</tt></p>\n        </div>\n<script>\n\nvar loadScriptAsync = function(uri){\n  return new Promise((resolve, reject) => {\n    //this is to ignore the existence of requirejs amd\n    var savedexports, savedmodule;\n    if (typeof exports !== 'undefined') savedexports = exports;\n    else exports = {}\n    if (typeof module !== 'undefined') savedmodule = module;\n    else module = {}\n\n    var tag = document.createElement('script');\n    tag.src = uri;\n    tag.async = true;\n    tag.onload = () => {\n        exports = savedexports;\n        module = savedmodule;\n        resolve();\n    };\n  var firstScriptTag = document.getElementsByTagName('script')[0];\n  firstScriptTag.parentNode.insertBefore(tag, firstScriptTag);\n});\n};\n\nif(typeof $3Dmolpromise === 'undefined') {\n$3Dmolpromise = null;\n  $3Dmolpromise = loadScriptAsync('https://cdnjs.cloudflare.com/ajax/libs/3Dmol/2.0.1/3Dmol-min.js');\n}\n\nvar viewer_16819970751085882 = null;\nvar warn = document.getElementById(\"3dmolwarning_16819970751085882\");\nif(warn) {\n    warn.parentNode.removeChild(warn);\n}\n$3Dmolpromise.then(function() {\nviewer_16819970751085882 = $3Dmol.createViewer(document.getElementById(\"3dmolviewer_16819970751085882\"),{backgroundColor:\"white\"});\nviewer_16819970751085882.zoomTo();\n\tviewer_16819970751085882.addModel(\"1\\n     RDKit          3D\\n\\n 20 20  0  0  0  0  0  0  0  0999 V2000\\n    1.7840    2.2110   -8.1700 C   0  0  0  0  0  0  0  0  0  0  0  0\\n    0.7290    1.4990   -7.5370 O   0  0  0  0  0  0  0  0  0  0  0  0\\n    1.2140    0.6560   -6.4960 C   0  0  0  0  0  0  0  0  0  0  0  0\\n    0.0280   -0.0630   -5.8690 C   0  0  0  0  0  0  0  0  0  0  0  0\\n    0.4790   -0.9670   -4.7350 C   0  0  0  0  0  0  0  0  0  0  0  0\\n   -0.8980   -1.8470   -4.0100 S   0  0  0  0  0  6  0  0  0  0  0  0\\n   -1.8630   -0.8720   -3.5470 O   0  0  0  0  0  0  0  0  0  0  0  0\\n   -1.2800   -2.9260   -4.8950 O   0  0  0  0  0  0  0  0  0  0  0  0\\n   -0.1540   -2.5350   -2.6510 N   0  0  0  0  0  0  0  0  0  0  0  0\\n    0.6500   -3.7510   -2.8900 C   0  0  0  0  0  0  0  0  0  0  0  0\\n   -0.9920   -2.6380   -1.4290 C   0  0  0  0  0  0  0  0  0  0  0  0\\n   -0.5010   -1.7700   -0.3090 C   0  0  1  0  0  0  0  0  0  0  0  0\\n    0.9140   -1.5150   -0.2680 O   0  0  0  0  0  0  0  0  0  0  0  0\\n    0.0670   -0.3880   -0.5330 C   0  0  2  0  0  0  0  0  0  0  0  0\\n    0.0070    0.6730    0.5250 C   0  0  0  0  0  0  0  0  0  0  0  0\\n    0.5490    0.2640    1.8960 C   0  0  0  0  0  0  0  0  0  0  0  0\\n    0.4370    1.4100    2.9040 C   0  0  0  0  0  0  0  0  0  0  0  0\\n    0.9970    1.0040    4.2680 C   0  0  0  0  0  0  0  0  0  0  0  0\\n    0.8710    2.1190    5.2660 C   0  0  0  0  0  0  0  0  0  0  0  0\\n    0.1590    2.0360    6.3970 C   0  0  0  0  0  0  0  0  0  0  0  0\\n  1  2  1  0\\n  2  3  1  0\\n  3  4  1  0\\n  4  5  1  0\\n  5  6  1  0\\n  6  7  2  0\\n  6  8  2  0\\n  6  9  1  0\\n  9 10  1  0\\n  9 11  1  0\\n 12 11  1  6\\n 12 13  1  0\\n 13 14  1  0\\n 14 12  1  0\\n 14 15  1  1\\n 15 16  1  0\\n 16 17  1  0\\n 17 18  1  0\\n 18 19  1  0\\n 19 20  2  0\\nM  END\\n\",\"mol\");\n\tviewer_16819970751085882.setStyle({\"stick\": {}});\n\tviewer_16819970751085882.zoomTo();\nviewer_16819970751085882.render();\n});\n</script>"
     },
     "metadata": {}
    }
   ],
   "source": [
    "mblock = Chem.MolToMolBlock(mol)\n",
    "view = py3Dmol.view(width=500, height=250)\n",
    "view.addModel(mblock, 'mol')\n",
    "view.setStyle({'stick':{}})\n",
    "view.zoomTo()\n",
    "view.show()"
   ]
  },
  {
   "cell_type": "code",
   "execution_count": 22,
   "metadata": {},
   "outputs": [
    {
     "output_type": "display_data",
     "data": {
      "application/3dmoljs_load.v0": "<div id=\"3dmolviewer_16819970870662658\"  style=\"position: relative; width: 500px; height: 250px\">\n        <p id=\"3dmolwarning_16819970870662658\" style=\"background-color:#ffcccc;color:black\">You appear to be running in JupyterLab (or JavaScript failed to load for some other reason).  You need to install the 3dmol extension: <br>\n        <tt>jupyter labextension install jupyterlab_3dmol</tt></p>\n        </div>\n<script>\n\nvar loadScriptAsync = function(uri){\n  return new Promise((resolve, reject) => {\n    //this is to ignore the existence of requirejs amd\n    var savedexports, savedmodule;\n    if (typeof exports !== 'undefined') savedexports = exports;\n    else exports = {}\n    if (typeof module !== 'undefined') savedmodule = module;\n    else module = {}\n\n    var tag = document.createElement('script');\n    tag.src = uri;\n    tag.async = true;\n    tag.onload = () => {\n        exports = savedexports;\n        module = savedmodule;\n        resolve();\n    };\n  var firstScriptTag = document.getElementsByTagName('script')[0];\n  firstScriptTag.parentNode.insertBefore(tag, firstScriptTag);\n});\n};\n\nif(typeof $3Dmolpromise === 'undefined') {\n$3Dmolpromise = null;\n  $3Dmolpromise = loadScriptAsync('https://cdnjs.cloudflare.com/ajax/libs/3Dmol/2.0.1/3Dmol-min.js');\n}\n\nvar viewer_16819970870662658 = null;\nvar warn = document.getElementById(\"3dmolwarning_16819970870662658\");\nif(warn) {\n    warn.parentNode.removeChild(warn);\n}\n$3Dmolpromise.then(function() {\nviewer_16819970870662658 = $3Dmol.createViewer(document.getElementById(\"3dmolviewer_16819970870662658\"),{backgroundColor:\"white\"});\nviewer_16819970870662658.zoomTo();\n\tviewer_16819970870662658.addModel(\"1\\n     RDKit          3D\\n\\n 47 47  0  0  0  0  0  0  0  0999 V2000\\n    5.5912   -1.3271   -1.6846 C   0  0  0  0  0  0  0  0  0  0  0  0\\n    5.5912   -0.4690   -0.5630 O   0  0  0  0  0  0  0  0  0  0  0  0\\n    5.5048    0.8597   -0.9878 C   0  0  0  0  0  0  0  0  0  0  0  0\\n    5.5066    1.7488    0.2215 C   0  0  0  0  0  0  0  0  0  0  0  0\\n    4.3782    1.4303    1.1376 C   0  0  0  0  0  0  0  0  0  0  0  0\\n    2.8248    1.6530    0.3372 S   0  0  0  0  0  6  0  0  0  0  0  0\\n    2.5965    3.0433   -0.1199 O   0  0  0  0  0  0  0  0  0  0  0  0\\n    2.5820    0.6831   -0.7861 O   0  0  0  0  0  0  0  0  0  0  0  0\\n    1.6049    1.2922    1.5475 N   0  0  0  0  0  0  0  0  0  0  0  0\\n    1.7674   -0.0607    1.9500 C   0  0  0  0  0  0  0  0  0  0  0  0\\n    0.3360    1.6591    1.0165 C   0  0  0  0  0  0  0  0  0  0  0  0\\n   -0.3867    0.6197    0.2405 C   0  0  1  0  0  0  0  0  0  0  0  0\\n   -0.6480   -0.5640    1.0928 O   0  0  0  0  0  0  0  0  0  0  0  0\\n   -1.7431    0.2115    0.4545 C   0  0  2  0  0  0  0  0  0  0  0  0\\n   -2.3925   -0.6444   -0.6003 C   0  0  0  0  0  0  0  0  0  0  0  0\\n   -3.8097   -0.9364   -0.1384 C   0  0  0  0  0  0  0  0  0  0  0  0\\n   -4.5551   -1.7892   -1.1211 C   0  0  0  0  0  0  0  0  0  0  0  0\\n   -5.9413   -2.0345   -0.5963 C   0  0  0  0  0  0  0  0  0  0  0  0\\n   -6.6870   -0.7332   -0.4092 C   0  0  0  0  0  0  0  0  0  0  0  0\\n   -7.8073   -0.4952   -1.0597 C   0  0  0  0  0  0  0  0  0  0  0  0\\n    6.4302   -1.1377   -2.3591 H   0  0  0  0  0  0  0  0  0  0  0  0\\n    5.4631   -2.3778   -1.3781 H   0  0  0  0  0  0  0  0  0  0  0  0\\n    4.6479   -1.0702   -2.2506 H   0  0  0  0  0  0  0  0  0  0  0  0\\n    6.4350    1.1199   -1.5843 H   0  0  0  0  0  0  0  0  0  0  0  0\\n    4.6136    1.0557   -1.5865 H   0  0  0  0  0  0  0  0  0  0  0  0\\n    6.4745    1.7017    0.7752 H   0  0  0  0  0  0  0  0  0  0  0  0\\n    5.3616    2.8332   -0.0823 H   0  0  0  0  0  0  0  0  0  0  0  0\\n    4.4667    2.1432    2.0078 H   0  0  0  0  0  0  0  0  0  0  0  0\\n    4.4419    0.3840    1.5225 H   0  0  0  0  0  0  0  0  0  0  0  0\\n    1.8711   -0.7387    1.0855 H   0  0  0  0  0  0  0  0  0  0  0  0\\n    1.0218   -0.4040    2.6973 H   0  0  0  0  0  0  0  0  0  0  0  0\\n    2.7492   -0.1157    2.5085 H   0  0  0  0  0  0  0  0  0  0  0  0\\n   -0.2936    2.0449    1.8709 H   0  0  0  0  0  0  0  0  0  0  0  0\\n    0.4506    2.5576    0.3422 H   0  0  0  0  0  0  0  0  0  0  0  0\\n    0.1038    0.3412   -0.7220 H   0  0  0  0  0  0  0  0  0  0  0  0\\n   -2.4193    0.6731    1.1997 H   0  0  0  0  0  0  0  0  0  0  0  0\\n   -1.9079   -1.6320   -0.7226 H   0  0  0  0  0  0  0  0  0  0  0  0\\n   -2.3818   -0.1626   -1.6008 H   0  0  0  0  0  0  0  0  0  0  0  0\\n   -4.2882    0.0261    0.0580 H   0  0  0  0  0  0  0  0  0  0  0  0\\n   -3.7175   -1.4636    0.8362 H   0  0  0  0  0  0  0  0  0  0  0  0\\n   -4.5547   -1.2910   -2.1123 H   0  0  0  0  0  0  0  0  0  0  0  0\\n   -4.0448   -2.7634   -1.2447 H   0  0  0  0  0  0  0  0  0  0  0  0\\n   -5.8624   -2.4761    0.4076 H   0  0  0  0  0  0  0  0  0  0  0  0\\n   -6.4713   -2.6679   -1.3058 H   0  0  0  0  0  0  0  0  0  0  0  0\\n   -6.3119    0.0264    0.2649 H   0  0  0  0  0  0  0  0  0  0  0  0\\n   -8.2631   -1.1930   -1.7554 H   0  0  0  0  0  0  0  0  0  0  0  0\\n   -8.3276    0.4397   -0.9146 H   0  0  0  0  0  0  0  0  0  0  0  0\\n  1  2  1  0\\n  2  3  1  0\\n  3  4  1  0\\n  4  5  1  0\\n  5  6  1  0\\n  6  7  2  0\\n  6  8  2  0\\n  6  9  1  0\\n  9 10  1  0\\n  9 11  1  0\\n 11 12  1  0\\n 12 13  1  0\\n 13 14  1  0\\n 14 12  1  0\\n 14 15  1  0\\n 15 16  1  0\\n 16 17  1  0\\n 17 18  1  0\\n 18 19  1  0\\n 19 20  2  3\\n  1 21  1  0\\n  1 22  1  0\\n  1 23  1  0\\n  3 24  1  0\\n  3 25  1  0\\n  4 26  1  0\\n  4 27  1  0\\n  5 28  1  0\\n  5 29  1  0\\n 10 30  1  0\\n 10 31  1  0\\n 10 32  1  0\\n 11 33  1  0\\n 11 34  1  0\\n 12 35  1  6\\n 14 36  1  1\\n 15 37  1  0\\n 15 38  1  0\\n 16 39  1  0\\n 16 40  1  0\\n 17 41  1  0\\n 17 42  1  0\\n 18 43  1  0\\n 18 44  1  0\\n 19 45  1  0\\n 20 46  1  0\\n 20 47  1  0\\nM  END\\n\",\"mol\");\n\tviewer_16819970870662658.setStyle({\"stick\": {}});\n\tviewer_16819970870662658.zoomTo();\nviewer_16819970870662658.render();\n});\n</script>",
      "text/html": "<div id=\"3dmolviewer_16819970870662658\"  style=\"position: relative; width: 500px; height: 250px\">\n        <p id=\"3dmolwarning_16819970870662658\" style=\"background-color:#ffcccc;color:black\">You appear to be running in JupyterLab (or JavaScript failed to load for some other reason).  You need to install the 3dmol extension: <br>\n        <tt>jupyter labextension install jupyterlab_3dmol</tt></p>\n        </div>\n<script>\n\nvar loadScriptAsync = function(uri){\n  return new Promise((resolve, reject) => {\n    //this is to ignore the existence of requirejs amd\n    var savedexports, savedmodule;\n    if (typeof exports !== 'undefined') savedexports = exports;\n    else exports = {}\n    if (typeof module !== 'undefined') savedmodule = module;\n    else module = {}\n\n    var tag = document.createElement('script');\n    tag.src = uri;\n    tag.async = true;\n    tag.onload = () => {\n        exports = savedexports;\n        module = savedmodule;\n        resolve();\n    };\n  var firstScriptTag = document.getElementsByTagName('script')[0];\n  firstScriptTag.parentNode.insertBefore(tag, firstScriptTag);\n});\n};\n\nif(typeof $3Dmolpromise === 'undefined') {\n$3Dmolpromise = null;\n  $3Dmolpromise = loadScriptAsync('https://cdnjs.cloudflare.com/ajax/libs/3Dmol/2.0.1/3Dmol-min.js');\n}\n\nvar viewer_16819970870662658 = null;\nvar warn = document.getElementById(\"3dmolwarning_16819970870662658\");\nif(warn) {\n    warn.parentNode.removeChild(warn);\n}\n$3Dmolpromise.then(function() {\nviewer_16819970870662658 = $3Dmol.createViewer(document.getElementById(\"3dmolviewer_16819970870662658\"),{backgroundColor:\"white\"});\nviewer_16819970870662658.zoomTo();\n\tviewer_16819970870662658.addModel(\"1\\n     RDKit          3D\\n\\n 47 47  0  0  0  0  0  0  0  0999 V2000\\n    5.5912   -1.3271   -1.6846 C   0  0  0  0  0  0  0  0  0  0  0  0\\n    5.5912   -0.4690   -0.5630 O   0  0  0  0  0  0  0  0  0  0  0  0\\n    5.5048    0.8597   -0.9878 C   0  0  0  0  0  0  0  0  0  0  0  0\\n    5.5066    1.7488    0.2215 C   0  0  0  0  0  0  0  0  0  0  0  0\\n    4.3782    1.4303    1.1376 C   0  0  0  0  0  0  0  0  0  0  0  0\\n    2.8248    1.6530    0.3372 S   0  0  0  0  0  6  0  0  0  0  0  0\\n    2.5965    3.0433   -0.1199 O   0  0  0  0  0  0  0  0  0  0  0  0\\n    2.5820    0.6831   -0.7861 O   0  0  0  0  0  0  0  0  0  0  0  0\\n    1.6049    1.2922    1.5475 N   0  0  0  0  0  0  0  0  0  0  0  0\\n    1.7674   -0.0607    1.9500 C   0  0  0  0  0  0  0  0  0  0  0  0\\n    0.3360    1.6591    1.0165 C   0  0  0  0  0  0  0  0  0  0  0  0\\n   -0.3867    0.6197    0.2405 C   0  0  1  0  0  0  0  0  0  0  0  0\\n   -0.6480   -0.5640    1.0928 O   0  0  0  0  0  0  0  0  0  0  0  0\\n   -1.7431    0.2115    0.4545 C   0  0  2  0  0  0  0  0  0  0  0  0\\n   -2.3925   -0.6444   -0.6003 C   0  0  0  0  0  0  0  0  0  0  0  0\\n   -3.8097   -0.9364   -0.1384 C   0  0  0  0  0  0  0  0  0  0  0  0\\n   -4.5551   -1.7892   -1.1211 C   0  0  0  0  0  0  0  0  0  0  0  0\\n   -5.9413   -2.0345   -0.5963 C   0  0  0  0  0  0  0  0  0  0  0  0\\n   -6.6870   -0.7332   -0.4092 C   0  0  0  0  0  0  0  0  0  0  0  0\\n   -7.8073   -0.4952   -1.0597 C   0  0  0  0  0  0  0  0  0  0  0  0\\n    6.4302   -1.1377   -2.3591 H   0  0  0  0  0  0  0  0  0  0  0  0\\n    5.4631   -2.3778   -1.3781 H   0  0  0  0  0  0  0  0  0  0  0  0\\n    4.6479   -1.0702   -2.2506 H   0  0  0  0  0  0  0  0  0  0  0  0\\n    6.4350    1.1199   -1.5843 H   0  0  0  0  0  0  0  0  0  0  0  0\\n    4.6136    1.0557   -1.5865 H   0  0  0  0  0  0  0  0  0  0  0  0\\n    6.4745    1.7017    0.7752 H   0  0  0  0  0  0  0  0  0  0  0  0\\n    5.3616    2.8332   -0.0823 H   0  0  0  0  0  0  0  0  0  0  0  0\\n    4.4667    2.1432    2.0078 H   0  0  0  0  0  0  0  0  0  0  0  0\\n    4.4419    0.3840    1.5225 H   0  0  0  0  0  0  0  0  0  0  0  0\\n    1.8711   -0.7387    1.0855 H   0  0  0  0  0  0  0  0  0  0  0  0\\n    1.0218   -0.4040    2.6973 H   0  0  0  0  0  0  0  0  0  0  0  0\\n    2.7492   -0.1157    2.5085 H   0  0  0  0  0  0  0  0  0  0  0  0\\n   -0.2936    2.0449    1.8709 H   0  0  0  0  0  0  0  0  0  0  0  0\\n    0.4506    2.5576    0.3422 H   0  0  0  0  0  0  0  0  0  0  0  0\\n    0.1038    0.3412   -0.7220 H   0  0  0  0  0  0  0  0  0  0  0  0\\n   -2.4193    0.6731    1.1997 H   0  0  0  0  0  0  0  0  0  0  0  0\\n   -1.9079   -1.6320   -0.7226 H   0  0  0  0  0  0  0  0  0  0  0  0\\n   -2.3818   -0.1626   -1.6008 H   0  0  0  0  0  0  0  0  0  0  0  0\\n   -4.2882    0.0261    0.0580 H   0  0  0  0  0  0  0  0  0  0  0  0\\n   -3.7175   -1.4636    0.8362 H   0  0  0  0  0  0  0  0  0  0  0  0\\n   -4.5547   -1.2910   -2.1123 H   0  0  0  0  0  0  0  0  0  0  0  0\\n   -4.0448   -2.7634   -1.2447 H   0  0  0  0  0  0  0  0  0  0  0  0\\n   -5.8624   -2.4761    0.4076 H   0  0  0  0  0  0  0  0  0  0  0  0\\n   -6.4713   -2.6679   -1.3058 H   0  0  0  0  0  0  0  0  0  0  0  0\\n   -6.3119    0.0264    0.2649 H   0  0  0  0  0  0  0  0  0  0  0  0\\n   -8.2631   -1.1930   -1.7554 H   0  0  0  0  0  0  0  0  0  0  0  0\\n   -8.3276    0.4397   -0.9146 H   0  0  0  0  0  0  0  0  0  0  0  0\\n  1  2  1  0\\n  2  3  1  0\\n  3  4  1  0\\n  4  5  1  0\\n  5  6  1  0\\n  6  7  2  0\\n  6  8  2  0\\n  6  9  1  0\\n  9 10  1  0\\n  9 11  1  0\\n 11 12  1  0\\n 12 13  1  0\\n 13 14  1  0\\n 14 12  1  0\\n 14 15  1  0\\n 15 16  1  0\\n 16 17  1  0\\n 17 18  1  0\\n 18 19  1  0\\n 19 20  2  3\\n  1 21  1  0\\n  1 22  1  0\\n  1 23  1  0\\n  3 24  1  0\\n  3 25  1  0\\n  4 26  1  0\\n  4 27  1  0\\n  5 28  1  0\\n  5 29  1  0\\n 10 30  1  0\\n 10 31  1  0\\n 10 32  1  0\\n 11 33  1  0\\n 11 34  1  0\\n 12 35  1  6\\n 14 36  1  1\\n 15 37  1  0\\n 15 38  1  0\\n 16 39  1  0\\n 16 40  1  0\\n 17 41  1  0\\n 17 42  1  0\\n 18 43  1  0\\n 18 44  1  0\\n 19 45  1  0\\n 20 46  1  0\\n 20 47  1  0\\nM  END\\n\",\"mol\");\n\tviewer_16819970870662658.setStyle({\"stick\": {}});\n\tviewer_16819970870662658.zoomTo();\nviewer_16819970870662658.render();\n});\n</script>"
     },
     "metadata": {}
    }
   ],
   "source": [
    "molh = Chem.AddHs(mol)\n",
    "AllChem.EmbedMolecule(molh)\n",
    "mblock = Chem.MolToMolBlock(molh)\n",
    "view = py3Dmol.view(width=500, height=250)\n",
    "view.addModel(mblock, 'mol')\n",
    "view.setStyle({'stick':{}})\n",
    "view.zoomTo()\n",
    "view.show()"
   ]
  },
  {
   "cell_type": "code",
   "execution_count": 23,
   "metadata": {},
   "outputs": [
    {
     "output_type": "display_data",
     "data": {
      "application/3dmoljs_load.v0": "<div id=\"3dmolviewer_16819971060219808\"  style=\"position: relative; width: 500px; height: 250px\">\n        <p id=\"3dmolwarning_16819971060219808\" style=\"background-color:#ffcccc;color:black\">You appear to be running in JupyterLab (or JavaScript failed to load for some other reason).  You need to install the 3dmol extension: <br>\n        <tt>jupyter labextension install jupyterlab_3dmol</tt></p>\n        </div>\n<script>\n\nvar loadScriptAsync = function(uri){\n  return new Promise((resolve, reject) => {\n    //this is to ignore the existence of requirejs amd\n    var savedexports, savedmodule;\n    if (typeof exports !== 'undefined') savedexports = exports;\n    else exports = {}\n    if (typeof module !== 'undefined') savedmodule = module;\n    else module = {}\n\n    var tag = document.createElement('script');\n    tag.src = uri;\n    tag.async = true;\n    tag.onload = () => {\n        exports = savedexports;\n        module = savedmodule;\n        resolve();\n    };\n  var firstScriptTag = document.getElementsByTagName('script')[0];\n  firstScriptTag.parentNode.insertBefore(tag, firstScriptTag);\n});\n};\n\nif(typeof $3Dmolpromise === 'undefined') {\n$3Dmolpromise = null;\n  $3Dmolpromise = loadScriptAsync('https://cdnjs.cloudflare.com/ajax/libs/3Dmol/2.0.1/3Dmol-min.js');\n}\n\nvar viewer_16819971060219808 = null;\nvar warn = document.getElementById(\"3dmolwarning_16819971060219808\");\nif(warn) {\n    warn.parentNode.removeChild(warn);\n}\n$3Dmolpromise.then(function() {\nviewer_16819971060219808 = $3Dmol.createViewer(document.getElementById(\"3dmolviewer_16819971060219808\"),{backgroundColor:\"white\"});\nviewer_16819971060219808.zoomTo();\n\tviewer_16819971060219808.addModel(\"1\\n     RDKit          3D\\n\\n 47 47  0  0  0  0  0  0  0  0999 V2000\\n    6.5258   -0.4905   -1.6608 C   0  0  0  0  0  0  0  0  0  0  0  0\\n    5.8172   -0.4680   -0.4274 O   0  0  0  0  0  0  0  0  0  0  0  0\\n    5.0002   -1.6262   -0.2755 C   0  0  0  0  0  0  0  0  0  0  0  0\\n    4.1630   -1.4693    0.9886 C   0  0  0  0  0  0  0  0  0  0  0  0\\n    3.3302   -0.1889    1.0222 C   0  0  0  0  0  0  0  0  0  0  0  0\\n    1.9980   -0.2041   -0.1801 S   0  0  0  0  0  6  0  0  0  0  0  0\\n    2.5556   -0.0091   -1.5010 O   0  0  0  0  0  0  0  0  0  0  0  0\\n    1.1447   -1.3384    0.1059 O   0  0  0  0  0  0  0  0  0  0  0  0\\n    1.1343    1.1931    0.2161 N   0  0  0  0  0  0  0  0  0  0  0  0\\n    1.7748    2.4901   -0.0487 C   0  0  0  0  0  0  0  0  0  0  0  0\\n    0.2857    1.1590    1.4250 C   0  0  0  0  0  0  0  0  0  0  0  0\\n   -1.1351    0.9326    1.0257 C   0  0  1  0  0  0  0  0  0  0  0  0\\n   -2.1037    1.5393    1.8927 O   0  0  0  0  0  0  0  0  0  0  0  0\\n   -2.0096    2.0768    0.5631 C   0  0  2  0  0  0  0  0  0  0  0  0\\n   -3.2587    1.9390   -0.2549 C   0  0  0  0  0  0  0  0  0  0  0  0\\n   -3.6632    0.5288   -0.6878 C   0  0  0  0  0  0  0  0  0  0  0  0\\n   -4.3665   -0.2703    0.4165 C   0  0  0  0  0  0  0  0  0  0  0  0\\n   -4.7477   -1.6879   -0.0245 C   0  0  0  0  0  0  0  0  0  0  0  0\\n   -5.8094   -1.7101   -1.0873 C   0  0  0  0  0  0  0  0  0  0  0  0\\n   -5.6421   -2.2461   -2.3028 C   0  0  0  0  0  0  0  0  0  0  0  0\\n    5.8272   -0.4807   -2.5030 H   0  0  0  0  0  0  0  0  0  0  0  0\\n    7.1498    0.4055   -1.7150 H   0  0  0  0  0  0  0  0  0  0  0  0\\n    7.1720   -1.3718   -1.7155 H   0  0  0  0  0  0  0  0  0  0  0  0\\n    5.6442   -2.5080   -0.1782 H   0  0  0  0  0  0  0  0  0  0  0  0\\n    4.3645   -1.7676   -1.1550 H   0  0  0  0  0  0  0  0  0  0  0  0\\n    4.8428   -1.4395    1.8493 H   0  0  0  0  0  0  0  0  0  0  0  0\\n    3.5221   -2.3493    1.1123 H   0  0  0  0  0  0  0  0  0  0  0  0\\n    3.9421    0.6982    0.8383 H   0  0  0  0  0  0  0  0  0  0  0  0\\n    2.8694   -0.0978    2.0103 H   0  0  0  0  0  0  0  0  0  0  0  0\\n    1.0171    3.2800   -0.0709 H   0  0  0  0  0  0  0  0  0  0  0  0\\n    2.5051    2.7285    0.7296 H   0  0  0  0  0  0  0  0  0  0  0  0\\n    2.2690    2.4984   -1.0239 H   0  0  0  0  0  0  0  0  0  0  0  0\\n    0.3902    2.0943    1.9887 H   0  0  0  0  0  0  0  0  0  0  0  0\\n    0.5995    0.3641    2.1095 H   0  0  0  0  0  0  0  0  0  0  0  0\\n   -1.3154   -0.0750    0.6798 H   0  0  0  0  0  0  0  0  0  0  0  0\\n   -1.5755    3.0648    0.4688 H   0  0  0  0  0  0  0  0  0  0  0  0\\n   -4.0896    2.4264    0.2691 H   0  0  0  0  0  0  0  0  0  0  0  0\\n   -3.0969    2.5229   -1.1703 H   0  0  0  0  0  0  0  0  0  0  0  0\\n   -2.7952   -0.0222   -1.0673 H   0  0  0  0  0  0  0  0  0  0  0  0\\n   -4.3555    0.6330   -1.5326 H   0  0  0  0  0  0  0  0  0  0  0  0\\n   -5.2629    0.2697    0.7467 H   0  0  0  0  0  0  0  0  0  0  0  0\\n   -3.7148   -0.3588    1.2913 H   0  0  0  0  0  0  0  0  0  0  0  0\\n   -5.1324   -2.2340    0.8455 H   0  0  0  0  0  0  0  0  0  0  0  0\\n   -3.8491   -2.2227   -0.3558 H   0  0  0  0  0  0  0  0  0  0  0  0\\n   -6.7706   -1.2690   -0.8319 H   0  0  0  0  0  0  0  0  0  0  0  0\\n   -6.4484   -2.2383   -3.0296 H   0  0  0  0  0  0  0  0  0  0  0  0\\n   -4.7025   -2.7013   -2.6009 H   0  0  0  0  0  0  0  0  0  0  0  0\\n  1  2  1  0\\n  2  3  1  0\\n  3  4  1  0\\n  4  5  1  0\\n  5  6  1  0\\n  6  7  2  0\\n  6  8  2  0\\n  6  9  1  0\\n  9 10  1  0\\n  9 11  1  0\\n 11 12  1  0\\n 12 13  1  0\\n 13 14  1  0\\n 14 12  1  0\\n 14 15  1  0\\n 15 16  1  0\\n 16 17  1  0\\n 17 18  1  0\\n 18 19  1  0\\n 19 20  2  3\\n  1 21  1  0\\n  1 22  1  0\\n  1 23  1  0\\n  3 24  1  0\\n  3 25  1  0\\n  4 26  1  0\\n  4 27  1  0\\n  5 28  1  0\\n  5 29  1  0\\n 10 30  1  0\\n 10 31  1  0\\n 10 32  1  0\\n 11 33  1  0\\n 11 34  1  0\\n 12 35  1  6\\n 14 36  1  1\\n 15 37  1  0\\n 15 38  1  0\\n 16 39  1  0\\n 16 40  1  0\\n 17 41  1  0\\n 17 42  1  0\\n 18 43  1  0\\n 18 44  1  0\\n 19 45  1  0\\n 20 46  1  0\\n 20 47  1  0\\nM  END\\n\",\"mol\");\n\tviewer_16819971060219808.setStyle({\"stick\": {}});\n\tviewer_16819971060219808.zoomTo();\nviewer_16819971060219808.render();\n});\n</script>",
      "text/html": "<div id=\"3dmolviewer_16819971060219808\"  style=\"position: relative; width: 500px; height: 250px\">\n        <p id=\"3dmolwarning_16819971060219808\" style=\"background-color:#ffcccc;color:black\">You appear to be running in JupyterLab (or JavaScript failed to load for some other reason).  You need to install the 3dmol extension: <br>\n        <tt>jupyter labextension install jupyterlab_3dmol</tt></p>\n        </div>\n<script>\n\nvar loadScriptAsync = function(uri){\n  return new Promise((resolve, reject) => {\n    //this is to ignore the existence of requirejs amd\n    var savedexports, savedmodule;\n    if (typeof exports !== 'undefined') savedexports = exports;\n    else exports = {}\n    if (typeof module !== 'undefined') savedmodule = module;\n    else module = {}\n\n    var tag = document.createElement('script');\n    tag.src = uri;\n    tag.async = true;\n    tag.onload = () => {\n        exports = savedexports;\n        module = savedmodule;\n        resolve();\n    };\n  var firstScriptTag = document.getElementsByTagName('script')[0];\n  firstScriptTag.parentNode.insertBefore(tag, firstScriptTag);\n});\n};\n\nif(typeof $3Dmolpromise === 'undefined') {\n$3Dmolpromise = null;\n  $3Dmolpromise = loadScriptAsync('https://cdnjs.cloudflare.com/ajax/libs/3Dmol/2.0.1/3Dmol-min.js');\n}\n\nvar viewer_16819971060219808 = null;\nvar warn = document.getElementById(\"3dmolwarning_16819971060219808\");\nif(warn) {\n    warn.parentNode.removeChild(warn);\n}\n$3Dmolpromise.then(function() {\nviewer_16819971060219808 = $3Dmol.createViewer(document.getElementById(\"3dmolviewer_16819971060219808\"),{backgroundColor:\"white\"});\nviewer_16819971060219808.zoomTo();\n\tviewer_16819971060219808.addModel(\"1\\n     RDKit          3D\\n\\n 47 47  0  0  0  0  0  0  0  0999 V2000\\n    6.5258   -0.4905   -1.6608 C   0  0  0  0  0  0  0  0  0  0  0  0\\n    5.8172   -0.4680   -0.4274 O   0  0  0  0  0  0  0  0  0  0  0  0\\n    5.0002   -1.6262   -0.2755 C   0  0  0  0  0  0  0  0  0  0  0  0\\n    4.1630   -1.4693    0.9886 C   0  0  0  0  0  0  0  0  0  0  0  0\\n    3.3302   -0.1889    1.0222 C   0  0  0  0  0  0  0  0  0  0  0  0\\n    1.9980   -0.2041   -0.1801 S   0  0  0  0  0  6  0  0  0  0  0  0\\n    2.5556   -0.0091   -1.5010 O   0  0  0  0  0  0  0  0  0  0  0  0\\n    1.1447   -1.3384    0.1059 O   0  0  0  0  0  0  0  0  0  0  0  0\\n    1.1343    1.1931    0.2161 N   0  0  0  0  0  0  0  0  0  0  0  0\\n    1.7748    2.4901   -0.0487 C   0  0  0  0  0  0  0  0  0  0  0  0\\n    0.2857    1.1590    1.4250 C   0  0  0  0  0  0  0  0  0  0  0  0\\n   -1.1351    0.9326    1.0257 C   0  0  1  0  0  0  0  0  0  0  0  0\\n   -2.1037    1.5393    1.8927 O   0  0  0  0  0  0  0  0  0  0  0  0\\n   -2.0096    2.0768    0.5631 C   0  0  2  0  0  0  0  0  0  0  0  0\\n   -3.2587    1.9390   -0.2549 C   0  0  0  0  0  0  0  0  0  0  0  0\\n   -3.6632    0.5288   -0.6878 C   0  0  0  0  0  0  0  0  0  0  0  0\\n   -4.3665   -0.2703    0.4165 C   0  0  0  0  0  0  0  0  0  0  0  0\\n   -4.7477   -1.6879   -0.0245 C   0  0  0  0  0  0  0  0  0  0  0  0\\n   -5.8094   -1.7101   -1.0873 C   0  0  0  0  0  0  0  0  0  0  0  0\\n   -5.6421   -2.2461   -2.3028 C   0  0  0  0  0  0  0  0  0  0  0  0\\n    5.8272   -0.4807   -2.5030 H   0  0  0  0  0  0  0  0  0  0  0  0\\n    7.1498    0.4055   -1.7150 H   0  0  0  0  0  0  0  0  0  0  0  0\\n    7.1720   -1.3718   -1.7155 H   0  0  0  0  0  0  0  0  0  0  0  0\\n    5.6442   -2.5080   -0.1782 H   0  0  0  0  0  0  0  0  0  0  0  0\\n    4.3645   -1.7676   -1.1550 H   0  0  0  0  0  0  0  0  0  0  0  0\\n    4.8428   -1.4395    1.8493 H   0  0  0  0  0  0  0  0  0  0  0  0\\n    3.5221   -2.3493    1.1123 H   0  0  0  0  0  0  0  0  0  0  0  0\\n    3.9421    0.6982    0.8383 H   0  0  0  0  0  0  0  0  0  0  0  0\\n    2.8694   -0.0978    2.0103 H   0  0  0  0  0  0  0  0  0  0  0  0\\n    1.0171    3.2800   -0.0709 H   0  0  0  0  0  0  0  0  0  0  0  0\\n    2.5051    2.7285    0.7296 H   0  0  0  0  0  0  0  0  0  0  0  0\\n    2.2690    2.4984   -1.0239 H   0  0  0  0  0  0  0  0  0  0  0  0\\n    0.3902    2.0943    1.9887 H   0  0  0  0  0  0  0  0  0  0  0  0\\n    0.5995    0.3641    2.1095 H   0  0  0  0  0  0  0  0  0  0  0  0\\n   -1.3154   -0.0750    0.6798 H   0  0  0  0  0  0  0  0  0  0  0  0\\n   -1.5755    3.0648    0.4688 H   0  0  0  0  0  0  0  0  0  0  0  0\\n   -4.0896    2.4264    0.2691 H   0  0  0  0  0  0  0  0  0  0  0  0\\n   -3.0969    2.5229   -1.1703 H   0  0  0  0  0  0  0  0  0  0  0  0\\n   -2.7952   -0.0222   -1.0673 H   0  0  0  0  0  0  0  0  0  0  0  0\\n   -4.3555    0.6330   -1.5326 H   0  0  0  0  0  0  0  0  0  0  0  0\\n   -5.2629    0.2697    0.7467 H   0  0  0  0  0  0  0  0  0  0  0  0\\n   -3.7148   -0.3588    1.2913 H   0  0  0  0  0  0  0  0  0  0  0  0\\n   -5.1324   -2.2340    0.8455 H   0  0  0  0  0  0  0  0  0  0  0  0\\n   -3.8491   -2.2227   -0.3558 H   0  0  0  0  0  0  0  0  0  0  0  0\\n   -6.7706   -1.2690   -0.8319 H   0  0  0  0  0  0  0  0  0  0  0  0\\n   -6.4484   -2.2383   -3.0296 H   0  0  0  0  0  0  0  0  0  0  0  0\\n   -4.7025   -2.7013   -2.6009 H   0  0  0  0  0  0  0  0  0  0  0  0\\n  1  2  1  0\\n  2  3  1  0\\n  3  4  1  0\\n  4  5  1  0\\n  5  6  1  0\\n  6  7  2  0\\n  6  8  2  0\\n  6  9  1  0\\n  9 10  1  0\\n  9 11  1  0\\n 11 12  1  0\\n 12 13  1  0\\n 13 14  1  0\\n 14 12  1  0\\n 14 15  1  0\\n 15 16  1  0\\n 16 17  1  0\\n 17 18  1  0\\n 18 19  1  0\\n 19 20  2  3\\n  1 21  1  0\\n  1 22  1  0\\n  1 23  1  0\\n  3 24  1  0\\n  3 25  1  0\\n  4 26  1  0\\n  4 27  1  0\\n  5 28  1  0\\n  5 29  1  0\\n 10 30  1  0\\n 10 31  1  0\\n 10 32  1  0\\n 11 33  1  0\\n 11 34  1  0\\n 12 35  1  6\\n 14 36  1  1\\n 15 37  1  0\\n 15 38  1  0\\n 16 39  1  0\\n 16 40  1  0\\n 17 41  1  0\\n 17 42  1  0\\n 18 43  1  0\\n 18 44  1  0\\n 19 45  1  0\\n 20 46  1  0\\n 20 47  1  0\\nM  END\\n\",\"mol\");\n\tviewer_16819971060219808.setStyle({\"stick\": {}});\n\tviewer_16819971060219808.zoomTo();\nviewer_16819971060219808.render();\n});\n</script>"
     },
     "metadata": {}
    }
   ],
   "source": [
    "molh = Chem.AddHs(mol)\n",
    "AllChem.EmbedMolecule(molh)\n",
    "AllChem.MMFFOptimizeMolecule(molh, maxIters=200)\n",
    "mblock = Chem.MolToMolBlock(molh)\n",
    "view = py3Dmol.view(width=500, height=250)\n",
    "view.addModel(mblock, 'mol')\n",
    "view.setStyle({'stick':{}})\n",
    "view.zoomTo()\n",
    "view.show()"
   ]
  },
  {
   "cell_type": "code",
   "execution_count": 19,
   "metadata": {},
   "outputs": [],
   "source": [
    "# molh = rdkit.Chem.AddHs(mol)\n",
    "# pdb_data = rdkit.Chem.MolToPDBBlock(molh)\n",
    "# view = py3Dmol.view(width=680, height=300, query=None, data=pdb_data, linked=False)\n",
    "# view.setStyle({'stick': {}})\n",
    "# view.setBackgroundColor('#f9f4fb')\n",
    "# view"
   ]
  },
  {
   "cell_type": "code",
   "execution_count": null,
   "metadata": {},
   "outputs": [],
   "source": []
  }
 ]
}