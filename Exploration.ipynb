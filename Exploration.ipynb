{
 "metadata": {
  "language_info": {
   "codemirror_mode": {
    "name": "ipython",
    "version": 3
   },
   "file_extension": ".py",
   "mimetype": "text/x-python",
   "name": "python",
   "nbconvert_exporter": "python",
   "pygments_lexer": "ipython3",
   "version": "3.9.16"
  },
  "orig_nbformat": 4,
  "kernelspec": {
   "name": "python3",
   "display_name": "Python 3.9.16 64-bit"
  },
  "interpreter": {
   "hash": "4cd7ab41f5fca4b9b44701077e38c5ffd31fe66a6cab21e0214b68d958d0e462"
  }
 },
 "nbformat": 4,
 "nbformat_minor": 2,
 "cells": [
  {
   "cell_type": "code",
   "execution_count": 1,
   "metadata": {},
   "outputs": [
    {
     "output_type": "stream",
     "name": "stdout",
     "text": [
      "Get:1 http://deb.debian.org/debian bullseye InRelease [116 kB]\n",
      "Get:2 http://deb.debian.org/debian-security bullseye-security InRelease [48.4 kB]\n",
      "Get:3 http://deb.debian.org/debian bullseye-updates InRelease [44.1 kB]\n",
      "Get:4 http://deb.debian.org/debian bullseye/main amd64 Packages [8,183 kB]\n",
      "Get:5 http://deb.debian.org/debian-security bullseye-security/main amd64 Packages [237 kB]\n",
      "Get:6 http://deb.debian.org/debian bullseye-updates/main amd64 Packages [14.6 kB]\n",
      "Fetched 8,643 kB in 2s (4,472 kB/s)\n",
      "\n",
      "\n",
      "\n",
      "\n",
      "The following additional packages will be installed:\n",
      "  libbsd0 libmd0 libx11-6 libx11-data libxau6 libxcb1 libxdmcp6\n",
      "The following NEW packages will be installed:\n",
      "  libbsd0 libmd0 libx11-6 libx11-data libxau6 libxcb1 libxdmcp6 libxrender1\n",
      "0 upgraded, 8 newly installed, 0 to remove and 1 not upgraded.\n",
      "Need to get 1,437 kB of archives.\n",
      "After this operation, 4,065 kB of additional disk space will be used.\n",
      "Get:1 http://deb.debian.org/debian bullseye/main amd64 libmd0 amd64 1.0.3-3 [28.0 kB]\n",
      "Get:2 http://deb.debian.org/debian bullseye/main amd64 libbsd0 amd64 0.11.3-1 [108 kB]\n",
      "Get:3 http://deb.debian.org/debian bullseye/main amd64 libxau6 amd64 1:1.0.9-1 [19.7 kB]\n",
      "Get:4 http://deb.debian.org/debian bullseye/main amd64 libxdmcp6 amd64 1:1.1.2-3 [26.3 kB]\n",
      "Get:5 http://deb.debian.org/debian bullseye/main amd64 libxcb1 amd64 1.14-3 [140 kB]\n",
      "Get:6 http://deb.debian.org/debian bullseye/main amd64 libx11-data all 2:1.7.2-1 [311 kB]\n",
      "Get:7 http://deb.debian.org/debian bullseye/main amd64 libx11-6 amd64 2:1.7.2-1 [772 kB]\n",
      "Get:8 http://deb.debian.org/debian bullseye/main amd64 libxrender1 amd64 1:0.9.10-1 [33.0 kB]\n",
      "Fetched 1,437 kB in 0s (12.7 MB/s)\n",
      "debconf: unable to initialize frontend: Dialog\n",
      "debconf: (No usable dialog-like program is installed, so the dialog based frontend cannot be used. at /usr/share/perl5/Debconf/FrontEnd/Dialog.pm line 78, <> line 8.)\n",
      "debconf: falling back to frontend: Readline\n",
      "Selecting previously unselected package libmd0:amd64.\n",
      "(Reading database ... 17744 files and directories currently installed.)\n",
      "Preparing to unpack .../0-libmd0_1.0.3-3_amd64.deb ...\n",
      "Unpacking libmd0:amd64 (1.0.3-3) ...\n",
      "Selecting previously unselected package libbsd0:amd64.\n",
      "Preparing to unpack .../1-libbsd0_0.11.3-1_amd64.deb ...\n",
      "Unpacking libbsd0:amd64 (0.11.3-1) ...\n",
      "Selecting previously unselected package libxau6:amd64.\n",
      "Preparing to unpack .../2-libxau6_1%3a1.0.9-1_amd64.deb ...\n",
      "Unpacking libxau6:amd64 (1:1.0.9-1) ...\n",
      "Selecting previously unselected package libxdmcp6:amd64.\n",
      "Preparing to unpack .../3-libxdmcp6_1%3a1.1.2-3_amd64.deb ...\n",
      "Unpacking libxdmcp6:amd64 (1:1.1.2-3) ...\n",
      "Selecting previously unselected package libxcb1:amd64.\n",
      "Preparing to unpack .../4-libxcb1_1.14-3_amd64.deb ...\n",
      "Unpacking libxcb1:amd64 (1.14-3) ...\n",
      "Selecting previously unselected package libx11-data.\n",
      "Preparing to unpack .../5-libx11-data_2%3a1.7.2-1_all.deb ...\n",
      "Unpacking libx11-data (2:1.7.2-1) ...\n",
      "Selecting previously unselected package libx11-6:amd64.\n",
      "Preparing to unpack .../6-libx11-6_2%3a1.7.2-1_amd64.deb ...\n",
      "Unpacking libx11-6:amd64 (2:1.7.2-1) ...\n",
      "Selecting previously unselected package libxrender1:amd64.\n",
      "Preparing to unpack .../7-libxrender1_1%3a0.9.10-1_amd64.deb ...\n",
      "Unpacking libxrender1:amd64 (1:0.9.10-1) ...\n",
      "Setting up libxau6:amd64 (1:1.0.9-1) ...\n",
      "Setting up libx11-data (2:1.7.2-1) ...\n",
      "Setting up libmd0:amd64 (1.0.3-3) ...\n",
      "Setting up libbsd0:amd64 (0.11.3-1) ...\n",
      "Setting up libxdmcp6:amd64 (1:1.1.2-3) ...\n",
      "Setting up libxcb1:amd64 (1.14-3) ...\n",
      "Setting up libx11-6:amd64 (2:1.7.2-1) ...\n",
      "Setting up libxrender1:amd64 (1:0.9.10-1) ...\n",
      "Processing triggers for libc-bin (2.31-13+deb11u5) ...\n",
      "\n",
      "\n",
      "\n",
      "The following additional packages will be installed:\n",
      "  libice6 x11-common\n",
      "The following NEW packages will be installed:\n",
      "  libice6 libsm6 libxext6 x11-common\n",
      "0 upgraded, 4 newly installed, 0 to remove and 1 not upgraded.\n",
      "Need to get 399 kB of archives.\n",
      "After this operation, 660 kB of additional disk space will be used.\n",
      "Get:1 http://deb.debian.org/debian bullseye/main amd64 x11-common all 1:7.7+22 [252 kB]\n",
      "Get:2 http://deb.debian.org/debian bullseye/main amd64 libice6 amd64 2:1.0.10-1 [58.5 kB]\n",
      "Get:3 http://deb.debian.org/debian bullseye/main amd64 libsm6 amd64 2:1.2.3-1 [35.1 kB]\n",
      "Get:4 http://deb.debian.org/debian bullseye/main amd64 libxext6 amd64 2:1.3.3-1.1 [52.7 kB]\n",
      "Fetched 399 kB in 0s (4,293 kB/s)\n",
      "debconf: unable to initialize frontend: Dialog\n",
      "debconf: (No usable dialog-like program is installed, so the dialog based frontend cannot be used. at /usr/share/perl5/Debconf/FrontEnd/Dialog.pm line 78, <> line 4.)\n",
      "debconf: falling back to frontend: Readline\n",
      "\n",
      "\u001b7\u001b[0;23r\u001b8\u001b[1ASelecting previously unselected package x11-common.\n",
      "(Reading database ... 18050 files and directories currently installed.)\n",
      "Preparing to unpack .../x11-common_1%3a7.7+22_all.deb ...\n",
      "\u001b7\u001b[24;0f\u001b[42m\u001b[30mProgress: [  0%]\u001b[49m\u001b[39m [..........................................................] \u001b8\u001b7\u001b[24;0f\u001b[42m\u001b[30mProgress: [  6%]\u001b[49m\u001b[39m [###.......................................................] \u001b8Unpacking x11-common (1:7.7+22) ...\n",
      "\u001b7\u001b[24;0f\u001b[42m\u001b[30mProgress: [ 12%]\u001b[49m\u001b[39m [######....................................................] \u001b8Selecting previously unselected package libice6:amd64.\n",
      "Preparing to unpack .../libice6_2%3a1.0.10-1_amd64.deb ...\n",
      "\u001b7\u001b[24;0f\u001b[42m\u001b[30mProgress: [ 18%]\u001b[49m\u001b[39m [##########................................................] \u001b8Unpacking libice6:amd64 (2:1.0.10-1) ...\n",
      "\u001b7\u001b[24;0f\u001b[42m\u001b[30mProgress: [ 24%]\u001b[49m\u001b[39m [#############.............................................] \u001b8Selecting previously unselected package libsm6:amd64.\n",
      "Preparing to unpack .../libsm6_2%3a1.2.3-1_amd64.deb ...\n",
      "\u001b7\u001b[24;0f\u001b[42m\u001b[30mProgress: [ 29%]\u001b[49m\u001b[39m [#################.........................................] \u001b8Unpacking libsm6:amd64 (2:1.2.3-1) ...\n",
      "\u001b7\u001b[24;0f\u001b[42m\u001b[30mProgress: [ 35%]\u001b[49m\u001b[39m [####################......................................] \u001b8Selecting previously unselected package libxext6:amd64.\n",
      "Preparing to unpack .../libxext6_2%3a1.3.3-1.1_amd64.deb ...\n",
      "\u001b7\u001b[24;0f\u001b[42m\u001b[30mProgress: [ 41%]\u001b[49m\u001b[39m [#######################...................................] \u001b8Unpacking libxext6:amd64 (2:1.3.3-1.1) ...\n",
      "\u001b7\u001b[24;0f\u001b[42m\u001b[30mProgress: [ 47%]\u001b[49m\u001b[39m [###########################...............................] \u001b8Setting up x11-common (1:7.7+22) ...\n",
      "\u001b7\u001b[24;0f\u001b[42m\u001b[30mProgress: [ 53%]\u001b[49m\u001b[39m [##############################............................] \u001b8debconf: unable to initialize frontend: Dialog\n",
      "debconf: (No usable dialog-like program is installed, so the dialog based frontend cannot be used. at /usr/share/perl5/Debconf/FrontEnd/Dialog.pm line 78.)\n",
      "debconf: falling back to frontend: Readline\n",
      "invoke-rc.d: could not determine current runlevel\n",
      "invoke-rc.d: policy-rc.d denied execution of start.\n",
      "\u001b7\u001b[24;0f\u001b[42m\u001b[30mProgress: [ 59%]\u001b[49m\u001b[39m [##################################........................] \u001b8Setting up libxext6:amd64 (2:1.3.3-1.1) ...\n",
      "\u001b7\u001b[24;0f\u001b[42m\u001b[30mProgress: [ 65%]\u001b[49m\u001b[39m [#####################################.....................] \u001b8\u001b7\u001b[24;0f\u001b[42m\u001b[30mProgress: [ 71%]\u001b[49m\u001b[39m [########################################..................] \u001b8Setting up libice6:amd64 (2:1.0.10-1) ...\n",
      "\u001b7\u001b[24;0f\u001b[42m\u001b[30mProgress: [ 76%]\u001b[49m\u001b[39m [############################################..............] \u001b8\u001b7\u001b[24;0f\u001b[42m\u001b[30mProgress: [ 82%]\u001b[49m\u001b[39m [###############################################...........] \u001b8Setting up libsm6:amd64 (2:1.2.3-1) ...\n",
      "\u001b7\u001b[24;0f\u001b[42m\u001b[30mProgress: [ 88%]\u001b[49m\u001b[39m [###################################################.......] \u001b8\u001b7\u001b[24;0f\u001b[42m\u001b[30mProgress: [ 94%]\u001b[49m\u001b[39m [######################################################....] \u001b8Processing triggers for libc-bin (2.31-13+deb11u5) ...\n",
      "\n",
      "\u001b7\u001b[0;24r\u001b8\u001b[1A\u001b[J"
     ]
    }
   ],
   "source": [
    "! sudo apt-get update\n",
    "! sudo apt-get install -y libxrender1\n",
    "! sudo apt install -y libsm6 libxext6"
   ]
  },
  {
   "cell_type": "code",
   "execution_count": 3,
   "metadata": {},
   "outputs": [
    {
     "output_type": "stream",
     "name": "stdout",
     "text": [
      "Defaulting to user installation because normal site-packages is not writeable\n",
      "Collecting rdkit\n",
      "  Downloading rdkit-2022.9.5-cp39-cp39-manylinux_2_17_x86_64.manylinux2014_x86_64.whl (29.4 MB)\n",
      "\u001b[2K     \u001b[90m━━━━━━━━━━━━━━━━━━━━━━━━━━━━━━━━━━━━━━━━\u001b[0m \u001b[32m29.4/29.4 MB\u001b[0m \u001b[31m30.0 MB/s\u001b[0m eta \u001b[36m0:00:00\u001b[0m\n",
      "\u001b[?25hRequirement already satisfied: numpy in /usr/local/lib/python3.9/site-packages (from rdkit) (1.24.2)\n",
      "Requirement already satisfied: Pillow in /usr/local/lib/python3.9/site-packages (from rdkit) (9.4.0)\n",
      "Installing collected packages: rdkit\n",
      "Successfully installed rdkit-2022.9.5\n"
     ]
    }
   ],
   "source": [
    "!pip install rdkit"
   ]
  },
  {
   "cell_type": "code",
   "execution_count": 5,
   "metadata": {},
   "outputs": [
    {
     "output_type": "stream",
     "name": "stdout",
     "text": [
      "Defaulting to user installation because normal site-packages is not writeable\n",
      "Collecting py3Dmol\n",
      "  Downloading py3Dmol-2.0.1.post1-py2.py3-none-any.whl (12 kB)\n",
      "Installing collected packages: py3Dmol\n",
      "Successfully installed py3Dmol-2.0.1.post1\n"
     ]
    }
   ],
   "source": [
    "!pip install py3Dmol"
   ]
  },
  {
   "cell_type": "code",
   "execution_count": 6,
   "metadata": {},
   "outputs": [],
   "source": [
    "import rdkit\n",
    "from rdkit.Chem import Draw\n",
    "from rdkit.Chem import AllChem\n",
    "from rdkit import Chem\n",
    "import py3Dmol"
   ]
  },
  {
   "cell_type": "code",
   "execution_count": 7,
   "metadata": {},
   "outputs": [],
   "source": [
    "mol = rdkit.Chem.MolFromMol2File('./Molecules/20A12Rot_1.mol2')\n"
   ]
  },
  {
   "cell_type": "code",
   "execution_count": 8,
   "metadata": {},
   "outputs": [],
   "source": [
    "molh = Chem.AddHs(mol)\n",
    "AllChem.EmbedMolecule(molh)\n",
    "AllChem.MMFFOptimizeMolecule(molh, maxIters=200)\n",
    "mblock = Chem.MolToMolBlock(molh)"
   ]
  },
  {
   "cell_type": "code",
   "execution_count": 9,
   "metadata": {},
   "outputs": [
    {
     "output_type": "display_data",
     "data": {
      "application/3dmoljs_load.v0": "<div id=\"3dmolviewer_16818269965169954\"  style=\"position: relative; width: 680px; height: 300px\">\n        <p id=\"3dmolwarning_16818269965169954\" style=\"background-color:#ffcccc;color:black\">You appear to be running in JupyterLab (or JavaScript failed to load for some other reason).  You need to install the 3dmol extension: <br>\n        <tt>jupyter labextension install jupyterlab_3dmol</tt></p>\n        </div>\n<script>\n\nvar loadScriptAsync = function(uri){\n  return new Promise((resolve, reject) => {\n    //this is to ignore the existence of requirejs amd\n    var savedexports, savedmodule;\n    if (typeof exports !== 'undefined') savedexports = exports;\n    else exports = {}\n    if (typeof module !== 'undefined') savedmodule = module;\n    else module = {}\n\n    var tag = document.createElement('script');\n    tag.src = uri;\n    tag.async = true;\n    tag.onload = () => {\n        exports = savedexports;\n        module = savedmodule;\n        resolve();\n    };\n  var firstScriptTag = document.getElementsByTagName('script')[0];\n  firstScriptTag.parentNode.insertBefore(tag, firstScriptTag);\n});\n};\n\nif(typeof $3Dmolpromise === 'undefined') {\n$3Dmolpromise = null;\n  $3Dmolpromise = loadScriptAsync('https://cdnjs.cloudflare.com/ajax/libs/3Dmol/2.0.1/3Dmol-min.js');\n}\n\nvar viewer_16818269965169954 = null;\nvar warn = document.getElementById(\"3dmolwarning_16818269965169954\");\nif(warn) {\n    warn.parentNode.removeChild(warn);\n}\n$3Dmolpromise.then(function() {\nviewer_16818269965169954 = $3Dmol.createViewer(document.getElementById(\"3dmolviewer_16818269965169954\"),{backgroundColor:\"white\"});\nviewer_16818269965169954.zoomTo();\n\tviewer_16818269965169954.addModel(\"1\\n     RDKit          3D\\n\\n 47 47  0  0  0  0  0  0  0  0999 V2000\\n    5.9315   -2.6563   -0.3479 C   0  0  0  0  0  0  0  0  0  0  0  0\\n    4.9529   -1.6338   -0.4940 O   0  0  0  0  0  0  0  0  0  0  0  0\\n    3.9753   -1.9801   -1.4701 C   0  0  0  0  0  0  0  0  0  0  0  0\\n    2.9543   -0.8567   -1.5713 C   0  0  0  0  0  0  0  0  0  0  0  0\\n    3.6028    0.4495   -2.0214 C   0  0  0  0  0  0  0  0  0  0  0  0\\n    2.4028    1.7583   -2.2647 S   0  0  0  0  0  6  0  0  0  0  0  0\\n    1.4699    1.3160   -3.2800 O   0  0  0  0  0  0  0  0  0  0  0  0\\n    3.1051    3.0188   -2.4083 O   0  0  0  0  0  0  0  0  0  0  0  0\\n    1.5667    1.8099   -0.7902 N   0  0  0  0  0  0  0  0  0  0  0  0\\n    2.3385    2.2371    0.3958 C   0  0  0  0  0  0  0  0  0  0  0  0\\n    0.2314    2.4592   -0.8551 C   0  0  0  0  0  0  0  0  0  0  0  0\\n   -0.8238    1.4188   -0.6543 C   0  0  1  0  0  0  0  0  0  0  0  0\\n   -1.0312    1.0195    0.7111 O   0  0  0  0  0  0  0  0  0  0  0  0\\n   -2.1114    1.7326    0.0832 C   0  0  2  0  0  0  0  0  0  0  0  0\\n   -3.3514    0.9383   -0.1958 C   0  0  0  0  0  0  0  0  0  0  0  0\\n   -3.6229   -0.1966    0.7960 C   0  0  0  0  0  0  0  0  0  0  0  0\\n   -3.9536    0.3078    2.2081 C   0  0  0  0  0  0  0  0  0  0  0  0\\n   -4.1556   -0.8273    3.2148 C   0  0  0  0  0  0  0  0  0  0  0  0\\n   -5.3534   -1.6800    2.9030 C   0  0  0  0  0  0  0  0  0  0  0  0\\n   -5.2946   -2.9944    2.6466 C   0  0  0  0  0  0  0  0  0  0  0  0\\n    6.6423   -2.3503    0.4221 H   0  0  0  0  0  0  0  0  0  0  0  0\\n    5.4616   -3.5883   -0.0305 H   0  0  0  0  0  0  0  0  0  0  0  0\\n    6.4745   -2.8061   -1.2840 H   0  0  0  0  0  0  0  0  0  0  0  0\\n    4.4610   -2.1446   -2.4372 H   0  0  0  0  0  0  0  0  0  0  0  0\\n    3.4699   -2.9016   -1.1660 H   0  0  0  0  0  0  0  0  0  0  0  0\\n    2.1628   -1.1473   -2.2697 H   0  0  0  0  0  0  0  0  0  0  0  0\\n    2.4846   -0.7105   -0.5922 H   0  0  0  0  0  0  0  0  0  0  0  0\\n    4.3446    0.8086   -1.3049 H   0  0  0  0  0  0  0  0  0  0  0  0\\n    4.1072    0.3166   -2.9878 H   0  0  0  0  0  0  0  0  0  0  0  0\\n    3.2241    1.6124    0.5369 H   0  0  0  0  0  0  0  0  0  0  0  0\\n    2.6406    3.2823    0.3063 H   0  0  0  0  0  0  0  0  0  0  0  0\\n    1.7272    2.1279    1.2976 H   0  0  0  0  0  0  0  0  0  0  0  0\\n    0.0700    2.9535   -1.8212 H   0  0  0  0  0  0  0  0  0  0  0  0\\n    0.1485    3.2535   -0.1002 H   0  0  0  0  0  0  0  0  0  0  0  0\\n   -0.8106    0.6454   -1.4133 H   0  0  0  0  0  0  0  0  0  0  0  0\\n   -2.3140    2.7449    0.4169 H   0  0  0  0  0  0  0  0  0  0  0  0\\n   -4.2131    1.6159   -0.2083 H   0  0  0  0  0  0  0  0  0  0  0  0\\n   -3.2833    0.5167   -1.2070 H   0  0  0  0  0  0  0  0  0  0  0  0\\n   -4.4674   -0.7807    0.4142 H   0  0  0  0  0  0  0  0  0  0  0  0\\n   -2.7628   -0.8777    0.8327 H   0  0  0  0  0  0  0  0  0  0  0  0\\n   -3.1341    0.9366    2.5769 H   0  0  0  0  0  0  0  0  0  0  0  0\\n   -4.8507    0.9420    2.1775 H   0  0  0  0  0  0  0  0  0  0  0  0\\n   -4.3009   -0.3894    4.2055 H   0  0  0  0  0  0  0  0  0  0  0  0\\n   -3.2399   -1.4371    3.2674 H   0  0  0  0  0  0  0  0  0  0  0  0\\n   -6.3220   -1.1770    2.8754 H   0  0  0  0  0  0  0  0  0  0  0  0\\n   -4.3540   -3.5360    2.6604 H   0  0  0  0  0  0  0  0  0  0  0  0\\n   -6.1993   -3.5501    2.4236 H   0  0  0  0  0  0  0  0  0  0  0  0\\n  1  2  1  0\\n  2  3  1  0\\n  3  4  1  0\\n  4  5  1  0\\n  5  6  1  0\\n  6  7  2  0\\n  6  8  2  0\\n  6  9  1  0\\n  9 10  1  0\\n  9 11  1  0\\n 11 12  1  0\\n 12 13  1  0\\n 13 14  1  0\\n 14 12  1  0\\n 14 15  1  0\\n 15 16  1  0\\n 16 17  1  0\\n 17 18  1  0\\n 18 19  1  0\\n 19 20  2  3\\n  1 21  1  0\\n  1 22  1  0\\n  1 23  1  0\\n  3 24  1  0\\n  3 25  1  0\\n  4 26  1  0\\n  4 27  1  0\\n  5 28  1  0\\n  5 29  1  0\\n 10 30  1  0\\n 10 31  1  0\\n 10 32  1  0\\n 11 33  1  0\\n 11 34  1  0\\n 12 35  1  6\\n 14 36  1  1\\n 15 37  1  0\\n 15 38  1  0\\n 16 39  1  0\\n 16 40  1  0\\n 17 41  1  0\\n 17 42  1  0\\n 18 43  1  0\\n 18 44  1  0\\n 19 45  1  0\\n 20 46  1  0\\n 20 47  1  0\\nM  END\\n\",\"mol\");\n\tviewer_16818269965169954.setStyle({\"stick\": {}});\n\tviewer_16818269965169954.zoomTo();\nviewer_16818269965169954.render();\n});\n</script>",
      "text/html": "<div id=\"3dmolviewer_16818269965169954\"  style=\"position: relative; width: 680px; height: 300px\">\n        <p id=\"3dmolwarning_16818269965169954\" style=\"background-color:#ffcccc;color:black\">You appear to be running in JupyterLab (or JavaScript failed to load for some other reason).  You need to install the 3dmol extension: <br>\n        <tt>jupyter labextension install jupyterlab_3dmol</tt></p>\n        </div>\n<script>\n\nvar loadScriptAsync = function(uri){\n  return new Promise((resolve, reject) => {\n    //this is to ignore the existence of requirejs amd\n    var savedexports, savedmodule;\n    if (typeof exports !== 'undefined') savedexports = exports;\n    else exports = {}\n    if (typeof module !== 'undefined') savedmodule = module;\n    else module = {}\n\n    var tag = document.createElement('script');\n    tag.src = uri;\n    tag.async = true;\n    tag.onload = () => {\n        exports = savedexports;\n        module = savedmodule;\n        resolve();\n    };\n  var firstScriptTag = document.getElementsByTagName('script')[0];\n  firstScriptTag.parentNode.insertBefore(tag, firstScriptTag);\n});\n};\n\nif(typeof $3Dmolpromise === 'undefined') {\n$3Dmolpromise = null;\n  $3Dmolpromise = loadScriptAsync('https://cdnjs.cloudflare.com/ajax/libs/3Dmol/2.0.1/3Dmol-min.js');\n}\n\nvar viewer_16818269965169954 = null;\nvar warn = document.getElementById(\"3dmolwarning_16818269965169954\");\nif(warn) {\n    warn.parentNode.removeChild(warn);\n}\n$3Dmolpromise.then(function() {\nviewer_16818269965169954 = $3Dmol.createViewer(document.getElementById(\"3dmolviewer_16818269965169954\"),{backgroundColor:\"white\"});\nviewer_16818269965169954.zoomTo();\n\tviewer_16818269965169954.addModel(\"1\\n     RDKit          3D\\n\\n 47 47  0  0  0  0  0  0  0  0999 V2000\\n    5.9315   -2.6563   -0.3479 C   0  0  0  0  0  0  0  0  0  0  0  0\\n    4.9529   -1.6338   -0.4940 O   0  0  0  0  0  0  0  0  0  0  0  0\\n    3.9753   -1.9801   -1.4701 C   0  0  0  0  0  0  0  0  0  0  0  0\\n    2.9543   -0.8567   -1.5713 C   0  0  0  0  0  0  0  0  0  0  0  0\\n    3.6028    0.4495   -2.0214 C   0  0  0  0  0  0  0  0  0  0  0  0\\n    2.4028    1.7583   -2.2647 S   0  0  0  0  0  6  0  0  0  0  0  0\\n    1.4699    1.3160   -3.2800 O   0  0  0  0  0  0  0  0  0  0  0  0\\n    3.1051    3.0188   -2.4083 O   0  0  0  0  0  0  0  0  0  0  0  0\\n    1.5667    1.8099   -0.7902 N   0  0  0  0  0  0  0  0  0  0  0  0\\n    2.3385    2.2371    0.3958 C   0  0  0  0  0  0  0  0  0  0  0  0\\n    0.2314    2.4592   -0.8551 C   0  0  0  0  0  0  0  0  0  0  0  0\\n   -0.8238    1.4188   -0.6543 C   0  0  1  0  0  0  0  0  0  0  0  0\\n   -1.0312    1.0195    0.7111 O   0  0  0  0  0  0  0  0  0  0  0  0\\n   -2.1114    1.7326    0.0832 C   0  0  2  0  0  0  0  0  0  0  0  0\\n   -3.3514    0.9383   -0.1958 C   0  0  0  0  0  0  0  0  0  0  0  0\\n   -3.6229   -0.1966    0.7960 C   0  0  0  0  0  0  0  0  0  0  0  0\\n   -3.9536    0.3078    2.2081 C   0  0  0  0  0  0  0  0  0  0  0  0\\n   -4.1556   -0.8273    3.2148 C   0  0  0  0  0  0  0  0  0  0  0  0\\n   -5.3534   -1.6800    2.9030 C   0  0  0  0  0  0  0  0  0  0  0  0\\n   -5.2946   -2.9944    2.6466 C   0  0  0  0  0  0  0  0  0  0  0  0\\n    6.6423   -2.3503    0.4221 H   0  0  0  0  0  0  0  0  0  0  0  0\\n    5.4616   -3.5883   -0.0305 H   0  0  0  0  0  0  0  0  0  0  0  0\\n    6.4745   -2.8061   -1.2840 H   0  0  0  0  0  0  0  0  0  0  0  0\\n    4.4610   -2.1446   -2.4372 H   0  0  0  0  0  0  0  0  0  0  0  0\\n    3.4699   -2.9016   -1.1660 H   0  0  0  0  0  0  0  0  0  0  0  0\\n    2.1628   -1.1473   -2.2697 H   0  0  0  0  0  0  0  0  0  0  0  0\\n    2.4846   -0.7105   -0.5922 H   0  0  0  0  0  0  0  0  0  0  0  0\\n    4.3446    0.8086   -1.3049 H   0  0  0  0  0  0  0  0  0  0  0  0\\n    4.1072    0.3166   -2.9878 H   0  0  0  0  0  0  0  0  0  0  0  0\\n    3.2241    1.6124    0.5369 H   0  0  0  0  0  0  0  0  0  0  0  0\\n    2.6406    3.2823    0.3063 H   0  0  0  0  0  0  0  0  0  0  0  0\\n    1.7272    2.1279    1.2976 H   0  0  0  0  0  0  0  0  0  0  0  0\\n    0.0700    2.9535   -1.8212 H   0  0  0  0  0  0  0  0  0  0  0  0\\n    0.1485    3.2535   -0.1002 H   0  0  0  0  0  0  0  0  0  0  0  0\\n   -0.8106    0.6454   -1.4133 H   0  0  0  0  0  0  0  0  0  0  0  0\\n   -2.3140    2.7449    0.4169 H   0  0  0  0  0  0  0  0  0  0  0  0\\n   -4.2131    1.6159   -0.2083 H   0  0  0  0  0  0  0  0  0  0  0  0\\n   -3.2833    0.5167   -1.2070 H   0  0  0  0  0  0  0  0  0  0  0  0\\n   -4.4674   -0.7807    0.4142 H   0  0  0  0  0  0  0  0  0  0  0  0\\n   -2.7628   -0.8777    0.8327 H   0  0  0  0  0  0  0  0  0  0  0  0\\n   -3.1341    0.9366    2.5769 H   0  0  0  0  0  0  0  0  0  0  0  0\\n   -4.8507    0.9420    2.1775 H   0  0  0  0  0  0  0  0  0  0  0  0\\n   -4.3009   -0.3894    4.2055 H   0  0  0  0  0  0  0  0  0  0  0  0\\n   -3.2399   -1.4371    3.2674 H   0  0  0  0  0  0  0  0  0  0  0  0\\n   -6.3220   -1.1770    2.8754 H   0  0  0  0  0  0  0  0  0  0  0  0\\n   -4.3540   -3.5360    2.6604 H   0  0  0  0  0  0  0  0  0  0  0  0\\n   -6.1993   -3.5501    2.4236 H   0  0  0  0  0  0  0  0  0  0  0  0\\n  1  2  1  0\\n  2  3  1  0\\n  3  4  1  0\\n  4  5  1  0\\n  5  6  1  0\\n  6  7  2  0\\n  6  8  2  0\\n  6  9  1  0\\n  9 10  1  0\\n  9 11  1  0\\n 11 12  1  0\\n 12 13  1  0\\n 13 14  1  0\\n 14 12  1  0\\n 14 15  1  0\\n 15 16  1  0\\n 16 17  1  0\\n 17 18  1  0\\n 18 19  1  0\\n 19 20  2  3\\n  1 21  1  0\\n  1 22  1  0\\n  1 23  1  0\\n  3 24  1  0\\n  3 25  1  0\\n  4 26  1  0\\n  4 27  1  0\\n  5 28  1  0\\n  5 29  1  0\\n 10 30  1  0\\n 10 31  1  0\\n 10 32  1  0\\n 11 33  1  0\\n 11 34  1  0\\n 12 35  1  6\\n 14 36  1  1\\n 15 37  1  0\\n 15 38  1  0\\n 16 39  1  0\\n 16 40  1  0\\n 17 41  1  0\\n 17 42  1  0\\n 18 43  1  0\\n 18 44  1  0\\n 19 45  1  0\\n 20 46  1  0\\n 20 47  1  0\\nM  END\\n\",\"mol\");\n\tviewer_16818269965169954.setStyle({\"stick\": {}});\n\tviewer_16818269965169954.zoomTo();\nviewer_16818269965169954.render();\n});\n</script>"
     },
     "metadata": {}
    }
   ],
   "source": [
    "view = py3Dmol.view(width=680, height=300)\n",
    "view.addModel(mblock, 'mol')\n",
    "view.setStyle({'stick':{}})\n",
    "view.zoomTo()\n",
    "view.show()"
   ]
  },
  {
   "cell_type": "code",
   "execution_count": 10,
   "metadata": {},
   "outputs": [
    {
     "output_type": "display_data",
     "data": {
      "application/3dmoljs_load.v0": "<div id=\"3dmolviewer_16818270009873114\"  style=\"position: relative; width: 680px; height: 300px\">\n        <p id=\"3dmolwarning_16818270009873114\" style=\"background-color:#ffcccc;color:black\">You appear to be running in JupyterLab (or JavaScript failed to load for some other reason).  You need to install the 3dmol extension: <br>\n        <tt>jupyter labextension install jupyterlab_3dmol</tt></p>\n        </div>\n<script>\n\nvar loadScriptAsync = function(uri){\n  return new Promise((resolve, reject) => {\n    //this is to ignore the existence of requirejs amd\n    var savedexports, savedmodule;\n    if (typeof exports !== 'undefined') savedexports = exports;\n    else exports = {}\n    if (typeof module !== 'undefined') savedmodule = module;\n    else module = {}\n\n    var tag = document.createElement('script');\n    tag.src = uri;\n    tag.async = true;\n    tag.onload = () => {\n        exports = savedexports;\n        module = savedmodule;\n        resolve();\n    };\n  var firstScriptTag = document.getElementsByTagName('script')[0];\n  firstScriptTag.parentNode.insertBefore(tag, firstScriptTag);\n});\n};\n\nif(typeof $3Dmolpromise === 'undefined') {\n$3Dmolpromise = null;\n  $3Dmolpromise = loadScriptAsync('https://cdnjs.cloudflare.com/ajax/libs/3Dmol/2.0.1/3Dmol-min.js');\n}\n\nvar viewer_16818270009873114 = null;\nvar warn = document.getElementById(\"3dmolwarning_16818270009873114\");\nif(warn) {\n    warn.parentNode.removeChild(warn);\n}\n$3Dmolpromise.then(function() {\nviewer_16818270009873114 = $3Dmol.createViewer(document.getElementById(\"3dmolviewer_16818270009873114\"),{backgroundColor:\"white\"});\nviewer_16818270009873114.addModel(\"COMPND    1\\nHETATM    1  C1  UNL     1       1.784   2.211  -8.170  1.00  0.00           C  \\nHETATM    2  O1  UNL     1       0.729   1.499  -7.537  1.00  0.00           O  \\nHETATM    3  C2  UNL     1       1.214   0.656  -6.496  1.00  0.00           C  \\nHETATM    4  C3  UNL     1       0.028  -0.063  -5.869  1.00  0.00           C  \\nHETATM    5  C4  UNL     1       0.479  -0.967  -4.735  1.00  0.00           C  \\nHETATM    6  S1  UNL     1      -0.898  -1.847  -4.010  1.00  0.00           S  \\nHETATM    7  O2  UNL     1      -1.863  -0.872  -3.547  1.00  0.00           O  \\nHETATM    8  O3  UNL     1      -1.280  -2.926  -4.895  1.00  0.00           O  \\nHETATM    9  N1  UNL     1      -0.154  -2.535  -2.651  1.00  0.00           N  \\nHETATM   10  C5  UNL     1       0.650  -3.751  -2.890  1.00  0.00           C  \\nHETATM   11  C6  UNL     1      -0.992  -2.638  -1.429  1.00  0.00           C  \\nHETATM   12  C7  UNL     1      -0.501  -1.770  -0.309  1.00  0.00           C  \\nHETATM   13  O4  UNL     1       0.914  -1.515  -0.268  1.00  0.00           O  \\nHETATM   14  C8  UNL     1       0.067  -0.388  -0.533  1.00  0.00           C  \\nHETATM   15  C9  UNL     1       0.007   0.673   0.525  1.00  0.00           C  \\nHETATM   16  C10 UNL     1       0.549   0.264   1.896  1.00  0.00           C  \\nHETATM   17  C11 UNL     1       0.437   1.410   2.904  1.00  0.00           C  \\nHETATM   18  C12 UNL     1       0.997   1.004   4.268  1.00  0.00           C  \\nHETATM   19  C13 UNL     1       0.871   2.119   5.266  1.00  0.00           C  \\nHETATM   20  C14 UNL     1       0.159   2.036   6.397  1.00  0.00           C  \\nHETATM   21  H1  UNL     1       0.000   0.000   0.000  1.00  0.00           H  \\nHETATM   22  H2  UNL     1       0.000   0.000   0.000  1.00  0.00           H  \\nHETATM   23  H3  UNL     1       0.000   0.000   0.000  1.00  0.00           H  \\nHETATM   24  H4  UNL     1       0.000   0.000   0.000  1.00  0.00           H  \\nHETATM   25  H5  UNL     1       0.000   0.000   0.000  1.00  0.00           H  \\nHETATM   26  H6  UNL     1       0.000   0.000   0.000  1.00  0.00           H  \\nHETATM   27  H7  UNL     1       0.000   0.000   0.000  1.00  0.00           H  \\nHETATM   28  H8  UNL     1       0.000   0.000   0.000  1.00  0.00           H  \\nHETATM   29  H9  UNL     1       0.000   0.000   0.000  1.00  0.00           H  \\nHETATM   30  H10 UNL     1       0.000   0.000   0.000  1.00  0.00           H  \\nHETATM   31  H11 UNL     1       0.000   0.000   0.000  1.00  0.00           H  \\nHETATM   32  H12 UNL     1       0.000   0.000   0.000  1.00  0.00           H  \\nHETATM   33  H13 UNL     1       0.000   0.000   0.000  1.00  0.00           H  \\nHETATM   34  H14 UNL     1       0.000   0.000   0.000  1.00  0.00           H  \\nHETATM   35  H15 UNL     1       0.000   0.000   0.000  1.00  0.00           H  \\nHETATM   36  H16 UNL     1       0.000   0.000   0.000  1.00  0.00           H  \\nHETATM   37  H17 UNL     1       0.000   0.000   0.000  1.00  0.00           H  \\nHETATM   38  H18 UNL     1       0.000   0.000   0.000  1.00  0.00           H  \\nHETATM   39  H19 UNL     1       0.000   0.000   0.000  1.00  0.00           H  \\nHETATM   40  H20 UNL     1       0.000   0.000   0.000  1.00  0.00           H  \\nHETATM   41  H21 UNL     1       0.000   0.000   0.000  1.00  0.00           H  \\nHETATM   42  H22 UNL     1       0.000   0.000   0.000  1.00  0.00           H  \\nHETATM   43  H23 UNL     1       0.000   0.000   0.000  1.00  0.00           H  \\nHETATM   44  H24 UNL     1       0.000   0.000   0.000  1.00  0.00           H  \\nHETATM   45  H25 UNL     1       0.000   0.000   0.000  1.00  0.00           H  \\nHETATM   46  H26 UNL     1       0.000   0.000   0.000  1.00  0.00           H  \\nHETATM   47  H27 UNL     1       0.000   0.000   0.000  1.00  0.00           H  \\nCONECT    1    2   21   22   23\\nCONECT    2    3\\nCONECT    3    4   24   25\\nCONECT    4    5   26   27\\nCONECT    5    6   28   29\\nCONECT    6    7    7    8    8\\nCONECT    6    9\\nCONECT    9   10   11\\nCONECT   10   30   31   32\\nCONECT   11   12   33   34\\nCONECT   12   13   14   35\\nCONECT   13   14\\nCONECT   14   15   36\\nCONECT   15   16   37   38\\nCONECT   16   17   39   40\\nCONECT   17   18   41   42\\nCONECT   18   19   43   44\\nCONECT   19   20   20   45\\nCONECT   20   46   47\\nEND\\n\");\nviewer_16818270009873114.zoomTo();\n\tviewer_16818270009873114.setStyle({\"stick\": {}});\n\tviewer_16818270009873114.setBackgroundColor(\"#f9f4fb\");\nviewer_16818270009873114.render();\n});\n</script>",
      "text/html": "<div id=\"3dmolviewer_16818270009873114\"  style=\"position: relative; width: 680px; height: 300px\">\n        <p id=\"3dmolwarning_16818270009873114\" style=\"background-color:#ffcccc;color:black\">You appear to be running in JupyterLab (or JavaScript failed to load for some other reason).  You need to install the 3dmol extension: <br>\n        <tt>jupyter labextension install jupyterlab_3dmol</tt></p>\n        </div>\n<script>\n\nvar loadScriptAsync = function(uri){\n  return new Promise((resolve, reject) => {\n    //this is to ignore the existence of requirejs amd\n    var savedexports, savedmodule;\n    if (typeof exports !== 'undefined') savedexports = exports;\n    else exports = {}\n    if (typeof module !== 'undefined') savedmodule = module;\n    else module = {}\n\n    var tag = document.createElement('script');\n    tag.src = uri;\n    tag.async = true;\n    tag.onload = () => {\n        exports = savedexports;\n        module = savedmodule;\n        resolve();\n    };\n  var firstScriptTag = document.getElementsByTagName('script')[0];\n  firstScriptTag.parentNode.insertBefore(tag, firstScriptTag);\n});\n};\n\nif(typeof $3Dmolpromise === 'undefined') {\n$3Dmolpromise = null;\n  $3Dmolpromise = loadScriptAsync('https://cdnjs.cloudflare.com/ajax/libs/3Dmol/2.0.1/3Dmol-min.js');\n}\n\nvar viewer_16818270009873114 = null;\nvar warn = document.getElementById(\"3dmolwarning_16818270009873114\");\nif(warn) {\n    warn.parentNode.removeChild(warn);\n}\n$3Dmolpromise.then(function() {\nviewer_16818270009873114 = $3Dmol.createViewer(document.getElementById(\"3dmolviewer_16818270009873114\"),{backgroundColor:\"white\"});\nviewer_16818270009873114.addModel(\"COMPND    1\\nHETATM    1  C1  UNL     1       1.784   2.211  -8.170  1.00  0.00           C  \\nHETATM    2  O1  UNL     1       0.729   1.499  -7.537  1.00  0.00           O  \\nHETATM    3  C2  UNL     1       1.214   0.656  -6.496  1.00  0.00           C  \\nHETATM    4  C3  UNL     1       0.028  -0.063  -5.869  1.00  0.00           C  \\nHETATM    5  C4  UNL     1       0.479  -0.967  -4.735  1.00  0.00           C  \\nHETATM    6  S1  UNL     1      -0.898  -1.847  -4.010  1.00  0.00           S  \\nHETATM    7  O2  UNL     1      -1.863  -0.872  -3.547  1.00  0.00           O  \\nHETATM    8  O3  UNL     1      -1.280  -2.926  -4.895  1.00  0.00           O  \\nHETATM    9  N1  UNL     1      -0.154  -2.535  -2.651  1.00  0.00           N  \\nHETATM   10  C5  UNL     1       0.650  -3.751  -2.890  1.00  0.00           C  \\nHETATM   11  C6  UNL     1      -0.992  -2.638  -1.429  1.00  0.00           C  \\nHETATM   12  C7  UNL     1      -0.501  -1.770  -0.309  1.00  0.00           C  \\nHETATM   13  O4  UNL     1       0.914  -1.515  -0.268  1.00  0.00           O  \\nHETATM   14  C8  UNL     1       0.067  -0.388  -0.533  1.00  0.00           C  \\nHETATM   15  C9  UNL     1       0.007   0.673   0.525  1.00  0.00           C  \\nHETATM   16  C10 UNL     1       0.549   0.264   1.896  1.00  0.00           C  \\nHETATM   17  C11 UNL     1       0.437   1.410   2.904  1.00  0.00           C  \\nHETATM   18  C12 UNL     1       0.997   1.004   4.268  1.00  0.00           C  \\nHETATM   19  C13 UNL     1       0.871   2.119   5.266  1.00  0.00           C  \\nHETATM   20  C14 UNL     1       0.159   2.036   6.397  1.00  0.00           C  \\nHETATM   21  H1  UNL     1       0.000   0.000   0.000  1.00  0.00           H  \\nHETATM   22  H2  UNL     1       0.000   0.000   0.000  1.00  0.00           H  \\nHETATM   23  H3  UNL     1       0.000   0.000   0.000  1.00  0.00           H  \\nHETATM   24  H4  UNL     1       0.000   0.000   0.000  1.00  0.00           H  \\nHETATM   25  H5  UNL     1       0.000   0.000   0.000  1.00  0.00           H  \\nHETATM   26  H6  UNL     1       0.000   0.000   0.000  1.00  0.00           H  \\nHETATM   27  H7  UNL     1       0.000   0.000   0.000  1.00  0.00           H  \\nHETATM   28  H8  UNL     1       0.000   0.000   0.000  1.00  0.00           H  \\nHETATM   29  H9  UNL     1       0.000   0.000   0.000  1.00  0.00           H  \\nHETATM   30  H10 UNL     1       0.000   0.000   0.000  1.00  0.00           H  \\nHETATM   31  H11 UNL     1       0.000   0.000   0.000  1.00  0.00           H  \\nHETATM   32  H12 UNL     1       0.000   0.000   0.000  1.00  0.00           H  \\nHETATM   33  H13 UNL     1       0.000   0.000   0.000  1.00  0.00           H  \\nHETATM   34  H14 UNL     1       0.000   0.000   0.000  1.00  0.00           H  \\nHETATM   35  H15 UNL     1       0.000   0.000   0.000  1.00  0.00           H  \\nHETATM   36  H16 UNL     1       0.000   0.000   0.000  1.00  0.00           H  \\nHETATM   37  H17 UNL     1       0.000   0.000   0.000  1.00  0.00           H  \\nHETATM   38  H18 UNL     1       0.000   0.000   0.000  1.00  0.00           H  \\nHETATM   39  H19 UNL     1       0.000   0.000   0.000  1.00  0.00           H  \\nHETATM   40  H20 UNL     1       0.000   0.000   0.000  1.00  0.00           H  \\nHETATM   41  H21 UNL     1       0.000   0.000   0.000  1.00  0.00           H  \\nHETATM   42  H22 UNL     1       0.000   0.000   0.000  1.00  0.00           H  \\nHETATM   43  H23 UNL     1       0.000   0.000   0.000  1.00  0.00           H  \\nHETATM   44  H24 UNL     1       0.000   0.000   0.000  1.00  0.00           H  \\nHETATM   45  H25 UNL     1       0.000   0.000   0.000  1.00  0.00           H  \\nHETATM   46  H26 UNL     1       0.000   0.000   0.000  1.00  0.00           H  \\nHETATM   47  H27 UNL     1       0.000   0.000   0.000  1.00  0.00           H  \\nCONECT    1    2   21   22   23\\nCONECT    2    3\\nCONECT    3    4   24   25\\nCONECT    4    5   26   27\\nCONECT    5    6   28   29\\nCONECT    6    7    7    8    8\\nCONECT    6    9\\nCONECT    9   10   11\\nCONECT   10   30   31   32\\nCONECT   11   12   33   34\\nCONECT   12   13   14   35\\nCONECT   13   14\\nCONECT   14   15   36\\nCONECT   15   16   37   38\\nCONECT   16   17   39   40\\nCONECT   17   18   41   42\\nCONECT   18   19   43   44\\nCONECT   19   20   20   45\\nCONECT   20   46   47\\nEND\\n\");\nviewer_16818270009873114.zoomTo();\n\tviewer_16818270009873114.setStyle({\"stick\": {}});\n\tviewer_16818270009873114.setBackgroundColor(\"#f9f4fb\");\nviewer_16818270009873114.render();\n});\n</script>"
     },
     "metadata": {}
    },
    {
     "output_type": "execute_result",
     "data": {
      "text/plain": [
       "<py3Dmol.view at 0x7f6b80e669a0>"
      ]
     },
     "metadata": {},
     "execution_count": 10
    }
   ],
   "source": [
    "molh = rdkit.Chem.AddHs(mol)\n",
    "pdb_data = rdkit.Chem.MolToPDBBlock(molh)\n",
    "view = py3Dmol.view(width=680, height=300, query=None, data=pdb_data, linked=False)\n",
    "view.setStyle({'stick': {}})\n",
    "view.setBackgroundColor('#f9f4fb')\n",
    "view"
   ]
  }
 ]
}