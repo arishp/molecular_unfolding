{
 "metadata": {
  "language_info": {
   "codemirror_mode": {
    "name": "ipython",
    "version": 3
   },
   "file_extension": ".py",
   "mimetype": "text/x-python",
   "name": "python",
   "nbconvert_exporter": "python",
   "pygments_lexer": "ipython3",
   "version": "3.9.16"
  },
  "orig_nbformat": 4,
  "kernelspec": {
   "name": "python3",
   "display_name": "Python 3.9.16 64-bit"
  },
  "interpreter": {
   "hash": "4cd7ab41f5fca4b9b44701077e38c5ffd31fe66a6cab21e0214b68d958d0e462"
  }
 },
 "nbformat": 4,
 "nbformat_minor": 2,
 "cells": [
  {
   "source": [
    "# Visualize the molecule"
   ],
   "cell_type": "markdown",
   "metadata": {}
  },
  {
   "cell_type": "code",
   "execution_count": 321,
   "metadata": {},
   "outputs": [
    {
     "output_type": "display_data",
     "data": {
      "application/3dmoljs_load.v0": "<div id=\"3dmolviewer_168778433912444\"  style=\"position: relative; width: 500px; height: 250px\">\n        <p id=\"3dmolwarning_168778433912444\" style=\"background-color:#ffcccc;color:black\">You appear to be running in JupyterLab (or JavaScript failed to load for some other reason).  You need to install the 3dmol extension: <br>\n        <tt>jupyter labextension install jupyterlab_3dmol</tt></p>\n        </div>\n<script>\n\nvar loadScriptAsync = function(uri){\n  return new Promise((resolve, reject) => {\n    //this is to ignore the existence of requirejs amd\n    var savedexports, savedmodule;\n    if (typeof exports !== 'undefined') savedexports = exports;\n    else exports = {}\n    if (typeof module !== 'undefined') savedmodule = module;\n    else module = {}\n\n    var tag = document.createElement('script');\n    tag.src = uri;\n    tag.async = true;\n    tag.onload = () => {\n        exports = savedexports;\n        module = savedmodule;\n        resolve();\n    };\n  var firstScriptTag = document.getElementsByTagName('script')[0];\n  firstScriptTag.parentNode.insertBefore(tag, firstScriptTag);\n});\n};\n\nif(typeof $3Dmolpromise === 'undefined') {\n$3Dmolpromise = null;\n  $3Dmolpromise = loadScriptAsync('https://cdnjs.cloudflare.com/ajax/libs/3Dmol/2.0.1/3Dmol-min.js');\n}\n\nvar viewer_168778433912444 = null;\nvar warn = document.getElementById(\"3dmolwarning_168778433912444\");\nif(warn) {\n    warn.parentNode.removeChild(warn);\n}\n$3Dmolpromise.then(function() {\nviewer_168778433912444 = $3Dmol.createViewer(document.getElementById(\"3dmolviewer_168778433912444\"),{backgroundColor:\"white\"});\nviewer_168778433912444.zoomTo();\n\tviewer_168778433912444.addModel(\"76\\n     RDKit          3D\\n\\n 50 54  0  0  0  0  0  0  0  0999 V2000\\n    4.6690   -2.6830   -1.2440 C   0  0  0  0  0  0  0  0  0  0  0  0\\n    4.8020   -1.2210   -1.0010 C   0  0  0  0  0  0  0  0  0  0  0  0\\n    5.8800   -0.4210   -1.0160 C   0  0  0  0  0  0  0  0  0  0  0  0\\n    7.3510   -0.6650   -1.1650 C   0  0  0  0  0  0  0  0  0  0  0  0\\n    7.8480   -2.1100   -1.1540 C   0  0  0  0  0  0  0  0  0  0  0  0\\n    9.2770   -2.0800   -1.0820 O   0  0  0  0  0  0  0  0  0  0  0  0\\n    9.9170   -3.2770   -0.9330 C   0  0  0  0  0  0  0  0  0  0  0  0\\n    9.3340   -4.5380   -1.0250 C   0  0  0  0  0  0  0  0  0  0  0  0\\n   10.1120   -5.6900   -0.8430 C   0  0  0  0  0  0  0  0  0  0  0  0\\n   11.4830   -5.6010   -0.5660 C   0  0  0  0  0  0  0  0  0  0  0  0\\n   12.0610   -4.3280   -0.4870 C   0  0  0  0  0  0  0  0  0  0  0  0\\n   11.2840   -3.1800   -0.6720 C   0  0  0  0  0  0  0  0  0  0  0  0\\n   12.2640   -6.7670   -0.3590 N   0  0  0  0  0  0  0  0  0  0  0  0\\n   12.0600   -7.9560   -1.0190 C   0  0  0  0  0  0  0  0  0  0  0  0\\n   11.2700   -8.2010   -1.9200 O   0  0  0  0  0  0  0  0  0  0  0  0\\n   12.9730   -9.0020   -0.4490 C   0  0  0  0  0  0  0  0  0  0  0  0\\n   13.9100   -8.2180    0.4470 C   0  0  2  0  0  0  0  0  0  0  0  0\\n   14.2180   -9.0060    2.0670 S   0  0  0  0  0  0  0  0  0  0  0  0\\n   12.5960   -8.7670    2.8830 C   0  0  0  0  0  0  0  0  0  0  0  0\\n   12.5830   -9.4060    4.2670 C   0  0  0  0  0  0  0  0  0  0  0  0\\n   11.6920  -10.1910    4.5790 O   0  0  0  0  0  0  0  0  0  0  0  0\\n   13.6060   -8.9530    5.0830 N   0  0  0  0  0  0  0  0  0  0  0  0\\n   13.8470   -9.2970    6.4270 C   0  0  0  0  0  0  0  0  0  0  0  0\\n   12.9310   -9.9790    7.2290 C   0  0  0  0  0  0  0  0  0  0  0  0\\n   13.2310  -10.2670    8.5630 C   0  0  0  0  0  0  0  0  0  0  0  0\\n   14.4500   -9.8720    9.1090 C   0  0  0  0  0  0  0  0  0  0  0  0\\n   15.3860   -9.1870    8.3230 C   0  0  0  0  0  0  0  0  0  0  0  0\\n   15.0680   -8.8970    6.9840 C   0  0  0  0  0  0  0  0  0  0  0  0\\n   16.6950   -8.7290    8.9140 C   0  0  0  0  0  0  0  0  0  0  0  0\\n   17.1360   -9.5250    9.9280 F   0  0  0  0  0  0  0  0  0  0  0  0\\n   16.6170   -7.4720    9.4310 F   0  0  0  0  0  0  0  0  0  0  0  0\\n   17.7080   -8.6950    8.0030 F   0  0  0  0  0  0  0  0  0  0  0  0\\n   13.2870   -6.8480    0.5590 C   0  0  0  0  0  0  0  0  0  0  0  0\\n   13.6540   -5.9950    1.3570 O   0  0  0  0  0  0  0  0  0  0  0  0\\n    5.4700    0.9680   -0.7550 C   0  0  0  0  0  0  0  0  0  0  0  0\\n    6.1920    1.9210   -0.5490 O   0  0  0  0  0  0  0  0  0  0  0  0\\n    4.1010    0.9370   -0.7460 N   0  0  0  0  0  0  0  0  0  0  0  0\\n    3.6280   -0.3910   -0.8020 N   0  0  0  0  0  0  0  0  0  0  0  0\\n    2.6170   -0.8720    0.5270 S   0  0  0  0  0  6  0  0  0  0  0  0\\n    2.3600   -2.2960    0.5040 O   0  0  0  0  0  0  0  0  0  0  0  0\\n    3.1410   -0.2320    1.7200 O   0  0  0  0  0  0  0  0  0  0  0  0\\n    1.0840   -0.0620    0.1300 C   0  0  0  0  0  0  0  0  0  0  0  0\\n    0.5560    0.8530    1.0570 C   0  0  0  0  0  0  0  0  0  0  0  0\\n   -0.6480    1.5260    0.7980 C   0  0  0  0  0  0  0  0  0  0  0  0\\n   -1.1860    2.5010    1.8090 C   0  0  0  0  0  0  0  0  0  0  0  0\\n   -1.3180    1.2610   -0.4050 C   0  0  0  0  0  0  0  0  0  0  0  0\\n   -2.8040    2.0450   -0.8030 Cl  0  0  0  0  0  0  0  0  0  0  0  0\\n   -0.7970    0.3440   -1.3220 C   0  0  0  0  0  0  0  0  0  0  0  0\\n    0.4040   -0.3240   -1.0590 C   0  0  0  0  0  0  0  0  0  0  0  0\\n    0.9460   -1.4390   -2.2590 Cl  0  0  0  0  0  0  0  0  0  0  0  0\\n  1  2  1  0\\n  2  3  2  0\\n  3  4  1  0\\n  3 35  1  0\\n  4  5  1  0\\n  5  6  1  0\\n  6  7  1  0\\n  7  8  2  0\\n  8  9  1  0\\n  9 10  2  0\\n 10 11  1  0\\n 10 13  1  0\\n 11 12  2  0\\n 12  7  1  0\\n 13 14  1  0\\n 14 15  2  0\\n 14 16  1  0\\n 16 17  1  0\\n 17 18  1  1\\n 17 33  1  0\\n 18 19  1  0\\n 19 20  1  0\\n 20 21  2  0\\n 20 22  1  0\\n 22 23  1  0\\n 23 24  2  0\\n 24 25  1  0\\n 25 26  2  0\\n 26 27  1  0\\n 27 28  2  0\\n 27 29  1  0\\n 28 23  1  0\\n 29 30  1  0\\n 29 31  1  0\\n 29 32  1  0\\n 33 13  1  0\\n 33 34  2  0\\n 35 36  2  0\\n 35 37  1  0\\n 37 38  1  0\\n 38  2  1  0\\n 38 39  1  0\\n 39 40  2  0\\n 39 41  2  0\\n 39 42  1  0\\n 42 43  2  0\\n 43 44  1  0\\n 44 45  1  0\\n 44 46  2  0\\n 46 47  1  0\\n 46 48  1  0\\n 48 49  2  0\\n 49 42  1  0\\n 49 50  1  0\\nM  END\\n\",\"mol\");\n\tviewer_168778433912444.setStyle({\"stick\": {}});\n\tviewer_168778433912444.zoomTo();\nviewer_168778433912444.render();\n});\n</script>",
      "text/html": "<div id=\"3dmolviewer_168778433912444\"  style=\"position: relative; width: 500px; height: 250px\">\n        <p id=\"3dmolwarning_168778433912444\" style=\"background-color:#ffcccc;color:black\">You appear to be running in JupyterLab (or JavaScript failed to load for some other reason).  You need to install the 3dmol extension: <br>\n        <tt>jupyter labextension install jupyterlab_3dmol</tt></p>\n        </div>\n<script>\n\nvar loadScriptAsync = function(uri){\n  return new Promise((resolve, reject) => {\n    //this is to ignore the existence of requirejs amd\n    var savedexports, savedmodule;\n    if (typeof exports !== 'undefined') savedexports = exports;\n    else exports = {}\n    if (typeof module !== 'undefined') savedmodule = module;\n    else module = {}\n\n    var tag = document.createElement('script');\n    tag.src = uri;\n    tag.async = true;\n    tag.onload = () => {\n        exports = savedexports;\n        module = savedmodule;\n        resolve();\n    };\n  var firstScriptTag = document.getElementsByTagName('script')[0];\n  firstScriptTag.parentNode.insertBefore(tag, firstScriptTag);\n});\n};\n\nif(typeof $3Dmolpromise === 'undefined') {\n$3Dmolpromise = null;\n  $3Dmolpromise = loadScriptAsync('https://cdnjs.cloudflare.com/ajax/libs/3Dmol/2.0.1/3Dmol-min.js');\n}\n\nvar viewer_168778433912444 = null;\nvar warn = document.getElementById(\"3dmolwarning_168778433912444\");\nif(warn) {\n    warn.parentNode.removeChild(warn);\n}\n$3Dmolpromise.then(function() {\nviewer_168778433912444 = $3Dmol.createViewer(document.getElementById(\"3dmolviewer_168778433912444\"),{backgroundColor:\"white\"});\nviewer_168778433912444.zoomTo();\n\tviewer_168778433912444.addModel(\"76\\n     RDKit          3D\\n\\n 50 54  0  0  0  0  0  0  0  0999 V2000\\n    4.6690   -2.6830   -1.2440 C   0  0  0  0  0  0  0  0  0  0  0  0\\n    4.8020   -1.2210   -1.0010 C   0  0  0  0  0  0  0  0  0  0  0  0\\n    5.8800   -0.4210   -1.0160 C   0  0  0  0  0  0  0  0  0  0  0  0\\n    7.3510   -0.6650   -1.1650 C   0  0  0  0  0  0  0  0  0  0  0  0\\n    7.8480   -2.1100   -1.1540 C   0  0  0  0  0  0  0  0  0  0  0  0\\n    9.2770   -2.0800   -1.0820 O   0  0  0  0  0  0  0  0  0  0  0  0\\n    9.9170   -3.2770   -0.9330 C   0  0  0  0  0  0  0  0  0  0  0  0\\n    9.3340   -4.5380   -1.0250 C   0  0  0  0  0  0  0  0  0  0  0  0\\n   10.1120   -5.6900   -0.8430 C   0  0  0  0  0  0  0  0  0  0  0  0\\n   11.4830   -5.6010   -0.5660 C   0  0  0  0  0  0  0  0  0  0  0  0\\n   12.0610   -4.3280   -0.4870 C   0  0  0  0  0  0  0  0  0  0  0  0\\n   11.2840   -3.1800   -0.6720 C   0  0  0  0  0  0  0  0  0  0  0  0\\n   12.2640   -6.7670   -0.3590 N   0  0  0  0  0  0  0  0  0  0  0  0\\n   12.0600   -7.9560   -1.0190 C   0  0  0  0  0  0  0  0  0  0  0  0\\n   11.2700   -8.2010   -1.9200 O   0  0  0  0  0  0  0  0  0  0  0  0\\n   12.9730   -9.0020   -0.4490 C   0  0  0  0  0  0  0  0  0  0  0  0\\n   13.9100   -8.2180    0.4470 C   0  0  2  0  0  0  0  0  0  0  0  0\\n   14.2180   -9.0060    2.0670 S   0  0  0  0  0  0  0  0  0  0  0  0\\n   12.5960   -8.7670    2.8830 C   0  0  0  0  0  0  0  0  0  0  0  0\\n   12.5830   -9.4060    4.2670 C   0  0  0  0  0  0  0  0  0  0  0  0\\n   11.6920  -10.1910    4.5790 O   0  0  0  0  0  0  0  0  0  0  0  0\\n   13.6060   -8.9530    5.0830 N   0  0  0  0  0  0  0  0  0  0  0  0\\n   13.8470   -9.2970    6.4270 C   0  0  0  0  0  0  0  0  0  0  0  0\\n   12.9310   -9.9790    7.2290 C   0  0  0  0  0  0  0  0  0  0  0  0\\n   13.2310  -10.2670    8.5630 C   0  0  0  0  0  0  0  0  0  0  0  0\\n   14.4500   -9.8720    9.1090 C   0  0  0  0  0  0  0  0  0  0  0  0\\n   15.3860   -9.1870    8.3230 C   0  0  0  0  0  0  0  0  0  0  0  0\\n   15.0680   -8.8970    6.9840 C   0  0  0  0  0  0  0  0  0  0  0  0\\n   16.6950   -8.7290    8.9140 C   0  0  0  0  0  0  0  0  0  0  0  0\\n   17.1360   -9.5250    9.9280 F   0  0  0  0  0  0  0  0  0  0  0  0\\n   16.6170   -7.4720    9.4310 F   0  0  0  0  0  0  0  0  0  0  0  0\\n   17.7080   -8.6950    8.0030 F   0  0  0  0  0  0  0  0  0  0  0  0\\n   13.2870   -6.8480    0.5590 C   0  0  0  0  0  0  0  0  0  0  0  0\\n   13.6540   -5.9950    1.3570 O   0  0  0  0  0  0  0  0  0  0  0  0\\n    5.4700    0.9680   -0.7550 C   0  0  0  0  0  0  0  0  0  0  0  0\\n    6.1920    1.9210   -0.5490 O   0  0  0  0  0  0  0  0  0  0  0  0\\n    4.1010    0.9370   -0.7460 N   0  0  0  0  0  0  0  0  0  0  0  0\\n    3.6280   -0.3910   -0.8020 N   0  0  0  0  0  0  0  0  0  0  0  0\\n    2.6170   -0.8720    0.5270 S   0  0  0  0  0  6  0  0  0  0  0  0\\n    2.3600   -2.2960    0.5040 O   0  0  0  0  0  0  0  0  0  0  0  0\\n    3.1410   -0.2320    1.7200 O   0  0  0  0  0  0  0  0  0  0  0  0\\n    1.0840   -0.0620    0.1300 C   0  0  0  0  0  0  0  0  0  0  0  0\\n    0.5560    0.8530    1.0570 C   0  0  0  0  0  0  0  0  0  0  0  0\\n   -0.6480    1.5260    0.7980 C   0  0  0  0  0  0  0  0  0  0  0  0\\n   -1.1860    2.5010    1.8090 C   0  0  0  0  0  0  0  0  0  0  0  0\\n   -1.3180    1.2610   -0.4050 C   0  0  0  0  0  0  0  0  0  0  0  0\\n   -2.8040    2.0450   -0.8030 Cl  0  0  0  0  0  0  0  0  0  0  0  0\\n   -0.7970    0.3440   -1.3220 C   0  0  0  0  0  0  0  0  0  0  0  0\\n    0.4040   -0.3240   -1.0590 C   0  0  0  0  0  0  0  0  0  0  0  0\\n    0.9460   -1.4390   -2.2590 Cl  0  0  0  0  0  0  0  0  0  0  0  0\\n  1  2  1  0\\n  2  3  2  0\\n  3  4  1  0\\n  3 35  1  0\\n  4  5  1  0\\n  5  6  1  0\\n  6  7  1  0\\n  7  8  2  0\\n  8  9  1  0\\n  9 10  2  0\\n 10 11  1  0\\n 10 13  1  0\\n 11 12  2  0\\n 12  7  1  0\\n 13 14  1  0\\n 14 15  2  0\\n 14 16  1  0\\n 16 17  1  0\\n 17 18  1  1\\n 17 33  1  0\\n 18 19  1  0\\n 19 20  1  0\\n 20 21  2  0\\n 20 22  1  0\\n 22 23  1  0\\n 23 24  2  0\\n 24 25  1  0\\n 25 26  2  0\\n 26 27  1  0\\n 27 28  2  0\\n 27 29  1  0\\n 28 23  1  0\\n 29 30  1  0\\n 29 31  1  0\\n 29 32  1  0\\n 33 13  1  0\\n 33 34  2  0\\n 35 36  2  0\\n 35 37  1  0\\n 37 38  1  0\\n 38  2  1  0\\n 38 39  1  0\\n 39 40  2  0\\n 39 41  2  0\\n 39 42  1  0\\n 42 43  2  0\\n 43 44  1  0\\n 44 45  1  0\\n 44 46  2  0\\n 46 47  1  0\\n 46 48  1  0\\n 48 49  2  0\\n 49 42  1  0\\n 49 50  1  0\\nM  END\\n\",\"mol\");\n\tviewer_168778433912444.setStyle({\"stick\": {}});\n\tviewer_168778433912444.zoomTo();\nviewer_168778433912444.render();\n});\n</script>"
     },
     "metadata": {}
    }
   ],
   "source": [
    "from rdkit import Chem\n",
    "import py3Dmol\n",
    "mol_folder = './Molecules/'\n",
    "mol_fname = '50A12Rot_3.mol2'\n",
    "mol_filepath = mol_folder + mol_fname\n",
    "mol = Chem.MolFromMol2File(mol_filepath)\n",
    "mblock = Chem.MolToMolBlock(mol)\n",
    "view = py3Dmol.view(width=500, height=250)\n",
    "view.addModel(mblock, 'mol')\n",
    "view.setStyle({'stick':{}})\n",
    "view.zoomTo()\n",
    "view.show()\n"
   ]
  },
  {
   "source": [
    "# Input Variables"
   ],
   "cell_type": "markdown",
   "metadata": {}
  },
  {
   "cell_type": "code",
   "execution_count": 322,
   "metadata": {},
   "outputs": [
    {
     "output_type": "stream",
     "name": "stdout",
     "text": [
      "No. of atoms:  50\nCoordinates of atoms:\n0 \t: [4.669, -2.683, -1.244]\n1 \t: [4.802, -1.221, -1.001]\n2 \t: [5.88, -0.421, -1.016]\n3 \t: [7.351, -0.665, -1.165]\n4 \t: [7.848, -2.11, -1.154]\n5 \t: [9.277, -2.08, -1.082]\n6 \t: [9.917, -3.277, -0.933]\n7 \t: [9.334, -4.538, -1.025]\n8 \t: [10.112, -5.69, -0.843]\n9 \t: [11.483, -5.601, -0.566]\n10 \t: [12.061, -4.328, -0.487]\n11 \t: [11.284, -3.18, -0.672]\n12 \t: [12.264, -6.767, -0.359]\n13 \t: [12.06, -7.956, -1.019]\n14 \t: [11.27, -8.201, -1.92]\n15 \t: [12.973, -9.002, -0.449]\n16 \t: [13.91, -8.218, 0.447]\n17 \t: [14.218, -9.006, 2.067]\n18 \t: [12.596, -8.767, 2.883]\n19 \t: [12.583, -9.406, 4.267]\n20 \t: [11.692, -10.191, 4.579]\n21 \t: [13.606, -8.953, 5.083]\n22 \t: [13.847, -9.297, 6.427]\n23 \t: [12.931, -9.979, 7.229]\n24 \t: [13.231, -10.267, 8.563]\n25 \t: [14.45, -9.872, 9.109]\n26 \t: [15.386, -9.187, 8.323]\n27 \t: [15.068, -8.897, 6.984]\n28 \t: [16.695, -8.729, 8.914]\n29 \t: [17.136, -9.525, 9.928]\n30 \t: [16.617, -7.472, 9.431]\n31 \t: [17.708, -8.695, 8.003]\n32 \t: [13.287, -6.848, 0.559]\n33 \t: [13.654, -5.995, 1.357]\n34 \t: [5.47, 0.968, -0.755]\n35 \t: [6.192, 1.921, -0.549]\n36 \t: [4.101, 0.937, -0.746]\n37 \t: [3.628, -0.391, -0.802]\n38 \t: [2.617, -0.872, 0.527]\n39 \t: [2.36, -2.296, 0.504]\n40 \t: [3.141, -0.232, 1.72]\n41 \t: [1.084, -0.062, 0.13]\n42 \t: [0.556, 0.853, 1.057]\n43 \t: [-0.648, 1.526, 0.798]\n44 \t: [-1.186, 2.501, 1.809]\n45 \t: [-1.318, 1.261, -0.405]\n46 \t: [-2.804, 2.045, -0.803]\n47 \t: [-0.797, 0.344, -1.322]\n48 \t: [0.404, -0.324, -1.059]\n49 \t: [0.946, -1.439, -2.259]\n"
     ]
    }
   ],
   "source": [
    "n_atoms_mol = mol.GetNumAtoms()  # no. of atoms in the molecule (excluding hydrogen atoms)\n",
    "print('No. of atoms: ', n_atoms_mol)\n",
    "conformers = mol.GetConformers()\n",
    "conf = conformers[0]\n",
    "coords_mol = {}  # Coordinates of the atoms\n",
    "for i in range(n_atoms_mol):\n",
    "    coords_mol[i] = list(conf.GetAtomPosition(i))\n",
    "print('Coordinates of atoms:')\n",
    "for i in coords_mol:\n",
    "    print(i, '\\t:', coords_mol[i])"
   ]
  },
  {
   "cell_type": "code",
   "execution_count": 323,
   "metadata": {},
   "outputs": [
    {
     "output_type": "stream",
     "name": "stdout",
     "text": [
      "{0: (21, 22), 1: (37, 38)}\n[0, 11, 14, 20, 21, 22, 30, 33, 35, 37, 38, 46]\n{23: [0], 24: [0], 25: [0], 26: [0], 27: [0], 28: [0], 29: [0], 30: [0], 31: [0], 39: [1], 40: [1], 41: [1], 42: [1], 43: [1], 44: [1], 45: [1], 46: [1], 47: [1], 48: [1], 49: [1]}\n{0: [30, 46], 11: [30, 46], 14: [30, 46], 20: [30, 46], 21: [30, 46], 22: [46], 30: [33, 35, 37, 38, 46], 33: [46], 35: [46], 37: [46], 38: [], 46: []}\n"
     ]
    }
   ],
   "source": [
    "input_folder = './Input_Rot_2/'\n",
    "input_fname = mol_fname[:-5] + '_input.txt'\n",
    "input_filepath = input_folder + input_fname\n",
    "input_lines = open(input_filepath, 'r').readlines()\n",
    "torsional_bonds_mol = eval(input_lines[0])\n",
    "median_list_mol = []\n",
    "for atoms in input_lines[1].split(','):\n",
    "    median_list_mol.append(int(atoms))\n",
    "coords_rotation_mol = eval(input_lines[2])\n",
    "distance_pairs_mol = eval(input_lines[3])\n",
    "print(torsional_bonds_mol)\n",
    "print(median_list_mol)\n",
    "print(coords_rotation_mol)\n",
    "print(distance_pairs_mol)"
   ]
  },
  {
   "cell_type": "code",
   "execution_count": 324,
   "metadata": {},
   "outputs": [],
   "source": [
    "# torsional_bonds_mol = { 0: (9, 10), 1: (19, 20)  }  # Torsional bond numbers and their respective coordinate ends\n",
    "# median_list_mol = [2, 6, 9, 10, 14, 19, 20, 23]  # List of atoms (median) considered for the HUBO construction\n",
    "# coords_rotation_mol = {11:[0], 12:[0], 13:[0], 14:[0], 15:[0], 16:[0], 17:[0], 18:[0], 19:[0], 20:[0], 21:[0,1], 22:[0,1], 23:[0,1], 24:[0,1] }  # atom index and the rotatable bond numbers list that affect them\n",
    "# distance_pairs_mol = {2:[14, 19, 20, 23], 6:[14, 19, 20, 23], 9:[14, 19, 20, 23], 10:[23], 14:[23], 19:[23], 20:[], 23:[] }  # indices dictionary to find distances"
   ]
  },
  {
   "cell_type": "code",
   "execution_count": 325,
   "metadata": {},
   "outputs": [
    {
     "output_type": "stream",
     "name": "stdout",
     "text": [
      "coords_median:  {0: [4.669, -2.683, -1.244], 1: [11.284, -3.18, -0.672], 2: [11.27, -8.201, -1.92], 3: [11.692, -10.191, 4.579], 4: [13.606, -8.953, 5.083], 5: [13.847, -9.297, 6.427], 6: [16.617, -7.472, 9.431], 7: [13.654, -5.995, 1.357], 8: [6.192, 1.921, -0.549], 9: [3.628, -0.391, -0.802], 10: [2.617, -0.872, 0.527], 11: [-2.804, 2.045, -0.803]}\n\ntorsional_bonds:  {0: (4, 5), 1: (9, 10)}\n\ncoords_rotation_dict:  {6: [0], 11: [1]}\n\ndistance pairs:  [(0, 6), (0, 11), (1, 6), (1, 11), (2, 6), (2, 11), (3, 6), (3, 11), (4, 6), (4, 11), (5, 11), (6, 7), (6, 8), (6, 9), (6, 10), (6, 11), (7, 11), (8, 11), (9, 11)]\n"
     ]
    }
   ],
   "source": [
    "import copy\n",
    "\n",
    "coords_median = {}\n",
    "for i, index in enumerate(median_list_mol):\n",
    "    coords_median[i] = coords_mol[index]\n",
    "coords_median_2 = copy.deepcopy(coords_median)\n",
    "print('coords_median: ', coords_median)\n",
    "\n",
    "torsional_bonds = {}\n",
    "for i in torsional_bonds_mol:\n",
    "    torsional_bonds[i] = (median_list_mol.index(torsional_bonds_mol[i][0]), median_list_mol.index(torsional_bonds_mol[i][1]))\n",
    "print('\\ntorsional_bonds: ', torsional_bonds)\n",
    "\n",
    "coords_rotation_dict = {}\n",
    "for atom in median_list_mol:\n",
    "    if atom in coords_rotation_mol.keys():\n",
    "        coords_rotation_dict[median_list_mol.index(atom)] = coords_rotation_mol[atom]\n",
    "print('\\ncoords_rotation_dict: ', coords_rotation_dict)\n",
    "\n",
    "distance_pairs = []\n",
    "for x, y in distance_pairs_mol.items():\n",
    "    u = median_list_mol.index(x)\n",
    "    for i in y:\n",
    "        v = median_list_mol.index(i)\n",
    "        distance_pairs.append((u, v))\n",
    "print('\\ndistance pairs: ', distance_pairs)\n",
    "\n"
   ]
  },
  {
   "cell_type": "code",
   "execution_count": 326,
   "metadata": {},
   "outputs": [
    {
     "output_type": "stream",
     "name": "stdout",
     "text": [
      "(x0, x1, x2, x3, x4, x5, x6, x7, x8, x9, x10, x11, x12, x13, x14, x15)\n"
     ]
    }
   ],
   "source": [
    "import sympy as sp\n",
    "n_bonds = len(torsional_bonds)  # no. of bonds\n",
    "n_angles = 8  # no. of discrete angles\n",
    "x = sp.symbols(f'x(0:{n_bonds*n_angles})')  # hubo variables\n",
    "print(x)"
   ]
  },
  {
   "source": [
    "# Function to generate hard constraint"
   ],
   "cell_type": "markdown",
   "metadata": {}
  },
  {
   "cell_type": "code",
   "execution_count": 327,
   "metadata": {},
   "outputs": [],
   "source": [
    "# generate hard constraint\n",
    "def generate_hard_hubo():\n",
    "    hard_constraint = 0\n",
    "    index = 0\n",
    "    for i in range(n_bonds):\n",
    "        summation = 0\n",
    "        for j in range(n_angles):\n",
    "            summation += x[index]\n",
    "            index += 1\n",
    "        hard_constraint += (summation - 1) ** 2\n",
    "    a_const = sp.Symbol('A_const')\n",
    "    hard_constraint *= a_const\n",
    "    return hard_constraint"
   ]
  },
  {
   "source": [
    "# Functions to rotate coordinates with hubo variables"
   ],
   "cell_type": "markdown",
   "metadata": {}
  },
  {
   "cell_type": "code",
   "execution_count": 328,
   "metadata": {},
   "outputs": [],
   "source": [
    "def rotate_coordinates(rotation_matrix, old_coords):\n",
    "    coord_vector = ones(4, 1)\n",
    "    coord_vector[0, 0] = old_coords[0]\n",
    "    coord_vector[1, 0] = old_coords[1]\n",
    "    coord_vector[2, 0] = old_coords[2]\n",
    "    coord_rot_vector = sp.expand(rotation_matrix * coord_vector)\n",
    "    return [coord_rot_vector[0, 0], coord_rot_vector[1, 0], coord_rot_vector[2, 0]]"
   ]
  },
  {
   "cell_type": "code",
   "execution_count": 329,
   "metadata": {},
   "outputs": [],
   "source": [
    "def generate_thetas():\n",
    "    angle_incr = 2 * sp.pi / n_angles\n",
    "    thetas = [i*angle_incr for i in range(n_angles)]\n",
    "    return thetas"
   ]
  },
  {
   "cell_type": "code",
   "execution_count": 330,
   "metadata": {},
   "outputs": [],
   "source": [
    "def rotation_matrix_hubo(first_coords, second_coords, bond_no):\n",
    "    x_dash, y_dash, z_dash = first_coords[0], first_coords[1], first_coords[2]\n",
    "    x_ddash, y_ddash, z_ddash = second_coords[0], second_coords[1], second_coords[2]\n",
    "    dx = x_ddash - x_dash\n",
    "    dy = y_ddash - y_dash\n",
    "    dz = z_ddash - z_dash\n",
    "    l_sq = dx ** 2 + dy ** 2 + dz ** 2\n",
    "    l = sp.sqrt(l_sq)\n",
    "    thetas = generate_thetas()\n",
    "    c_theta = 0.0\n",
    "    s_theta = 0.0\n",
    "    index = n_angles * bond_no\n",
    "    for i in range(n_angles):\n",
    "        c_theta += sp.cos(thetas[i]) * x[index]\n",
    "        s_theta += sp.sin(thetas[i]) * x[index]\n",
    "        index += 1\n",
    "    rotation_matrix = eye(4)\n",
    "    rotation_matrix[0, 0] = (dx ** 2 + (dy ** 2 + dz ** 2) * c_theta) / l_sq\n",
    "    rotation_matrix[0, 1] = (dx * dy * (1 - c_theta) - dz * l * s_theta) / l_sq\n",
    "    rotation_matrix[0, 2] = (dx * dz * (1 - c_theta) + dy * l * s_theta) / l_sq\n",
    "    rotation_matrix[0, 3] = ((x_dash * (dy ** 2 + dz ** 2) - dx * (y_dash * dy + z_dash * dz)) * (1 - c_theta) + (\n",
    "            y_dash * dz - z_dash * dy) * l * s_theta) / l_sq\n",
    "    rotation_matrix[1, 0] = (dx * dy * (1 - c_theta) + dz * l * s_theta) / l_sq\n",
    "    rotation_matrix[1, 1] = (dy ** 2 + (dx ** 2 + dz ** 2) * c_theta) / l_sq\n",
    "    rotation_matrix[1, 2] = (dy * dz * (1 - c_theta) - dx * l * s_theta) / l_sq\n",
    "    rotation_matrix[1, 3] = ((y_dash * (dx ** 2 + dz ** 2) - dy * (x_dash * dx + z_dash * dz)) * (1 - c_theta) + (\n",
    "            z_dash * dx - x_dash * dz) * l * s_theta) / l_sq\n",
    "    rotation_matrix[2, 0] = (dx * dz * (1 - c_theta) - dy * l * s_theta) / l_sq\n",
    "    rotation_matrix[2, 1] = (dy * dz * (1 - c_theta) + dx * l * s_theta) / l_sq\n",
    "    rotation_matrix[2, 2] = (dz ** 2 + (dx ** 2 + dy ** 2) * c_theta) / l_sq\n",
    "    rotation_matrix[2, 3] = ((z_dash * (dx ** 2 + dy ** 2) - dz * (x_dash * dx + y_dash * dy)) * (1 - c_theta) + (\n",
    "            x_dash * dy - y_dash * dx) * l * s_theta) / l_sq\n",
    "    return rotation_matrix"
   ]
  },
  {
   "cell_type": "code",
   "execution_count": 331,
   "metadata": {},
   "outputs": [
    {
     "output_type": "stream",
     "name": "stdout",
     "text": [
      "The time of execution:  0.8321895599365234 seconds\n"
     ]
    }
   ],
   "source": [
    "from sympy.matrices import ones, eye\n",
    "import time\n",
    "start = time.time()\n",
    "\n",
    "for i in coords_rotation_dict:\n",
    "    rot_mat = eye(4, 4)\n",
    "    for bond_no in coords_rotation_dict[i]:\n",
    "        temp_rot_mat = rotation_matrix_hubo(coords_median[torsional_bonds[bond_no][0]], coords_median[torsional_bonds[bond_no][1]], bond_no)\n",
    "        rot_mat = rot_mat * temp_rot_mat\n",
    "    coords_median_2[i] = rotate_coordinates(rot_mat, coords_median[i])\n",
    "\n",
    "end = time.time()\n",
    "print(\"The time of execution: \", (end-start), \"seconds\")"
   ]
  },
  {
   "source": [
    "# Functions to generate the optimization contraint in hubo"
   ],
   "cell_type": "markdown",
   "metadata": {}
  },
  {
   "cell_type": "code",
   "execution_count": 332,
   "metadata": {},
   "outputs": [],
   "source": [
    "def distance_squared(first_coords, second_coords):\n",
    "    dis_sq = (second_coords[0] - first_coords[0])**2 + (second_coords[1] - first_coords[1])**2 + (second_coords[2] - first_coords[2])**2\n",
    "    return dis_sq\n",
    "\n",
    "def generate_distance_hubo():\n",
    "    distance_sq = 0\n",
    "    for pair in distance_pairs:\n",
    "        distance_sq += distance_squared(coords_median_2[pair[0]], coords_median_2[pair[1]])\n",
    "    return distance_sq.expand()"
   ]
  },
  {
   "cell_type": "code",
   "execution_count": 333,
   "metadata": {
    "tags": []
   },
   "outputs": [
    {
     "output_type": "stream",
     "name": "stdout",
     "text": [
      "The time of execution:  3.2767951488494873 seconds\n"
     ]
    }
   ],
   "source": [
    "start = time.time()\n",
    "\n",
    "hard_constraint = generate_hard_hubo()\n",
    "distance_constraint = generate_distance_hubo()\n",
    "\n",
    "end = time.time()\n",
    "print(\"The time of execution: \", (end-start), \"seconds\")\n",
    "\n",
    "hubo_expr = sp.expand(hard_constraint - distance_constraint)"
   ]
  },
  {
   "source": [
    "# The full hubo expression is written in the file 'full_hubo_expr.txt'"
   ],
   "cell_type": "markdown",
   "metadata": {}
  },
  {
   "cell_type": "code",
   "execution_count": 334,
   "metadata": {},
   "outputs": [],
   "source": [
    "def hubo_expr_to_dict():\n",
    "    hubo_args = hubo_expr.args\n",
    "    hubo_dict = {}\n",
    "    for monom in hubo_args:\n",
    "        dict_value = monom.as_coeff_mul()[0]\n",
    "        monom_key = []\n",
    "        monom_coeffs = monom.as_coeff_mul()[1]\n",
    "        for monom_item in monom_coeffs:\n",
    "            if re.match(\"^x(\\d*)\\d$\", str(monom_item)):\n",
    "                monom_key.append(int(str(monom_item)[1:]))\n",
    "            elif re.match(\"^x(\\d*)\\\\*\\\\*(\\d)$\", str(monom_item)):\n",
    "                monom_key.append(int(str(monom_item).split('**')[0][1:]))\n",
    "            else:\n",
    "                dict_value *= monom_item\n",
    "        if len(monom_key) > 0:\n",
    "            monom_key.sort()\n",
    "            dict_key = tuple(monom_key)\n",
    "        else:\n",
    "            dict_key = ()\n",
    "        dict_value = dict_value.evalf()\n",
    "        if dict_key in hubo_dict:\n",
    "            hubo_dict[dict_key] += dict_value\n",
    "        else:\n",
    "            hubo_dict[dict_key] = dict_value\n",
    "    return hubo_dict"
   ]
  },
  {
   "cell_type": "code",
   "execution_count": 335,
   "metadata": {
    "tags": []
   },
   "outputs": [],
   "source": [
    "import re\n",
    "hubo_dict = hubo_expr_to_dict()"
   ]
  },
  {
   "cell_type": "code",
   "execution_count": 336,
   "metadata": {},
   "outputs": [
    {
     "output_type": "stream",
     "name": "stdout",
     "text": [
      "full hubo dictionary written in file - ./Hubo_Rot_2/50A12Rot_3_hubo.txt\n"
     ]
    }
   ],
   "source": [
    "hubo_folder = './Hubo_Rot_2/'\n",
    "hubo_fname = mol_fname[:-5] + '_hubo.txt'\n",
    "hubo_filepath = hubo_folder + hubo_fname\n",
    "f = open(hubo_filepath, \"w\")\n",
    "print('full hubo dictionary written in file - ' + hubo_filepath)\n",
    "f.write(str(hubo_dict))\n",
    "f.close()"
   ]
  },
  {
   "cell_type": "code",
   "execution_count": 337,
   "metadata": {},
   "outputs": [],
   "source": [
    "#This is used to check the maximum coefficient appearing in Hubo_B\n",
    "A_const=0\n",
    "read_dictionary_B = open(hubo_filepath, 'r').read()\n",
    "HUBO_B=eval(read_dictionary_B)\n",
    "\n",
    "#We set the Hard constraint strength as the (maximum coefficient appearing in Hubo_B)*const.\n",
    "#const was empirically selected to be 10\n",
    "const=10\n",
    "A_const=max(map(abs, list(HUBO_B.values())))*const\n",
    "# A_const = 1000\n",
    "\n",
    "#read the final HUBO\n",
    "read_dictionary= open(hubo_filepath, 'r').read()\n",
    "HUBO=eval(read_dictionary)"
   ]
  },
  {
   "cell_type": "code",
   "execution_count": 338,
   "metadata": {},
   "outputs": [
    {
     "output_type": "stream",
     "name": "stdout",
     "text": [
      "Current size of the HUBO: 137\n"
     ]
    }
   ],
   "source": [
    "print(\"Current size of the HUBO:\",len(HUBO)) "
   ]
  },
  {
   "cell_type": "code",
   "execution_count": 339,
   "metadata": {},
   "outputs": [],
   "source": [
    "def threshold_approx(h, val=1):\n",
    "    d =h.copy()\n",
    "    monoms = h.keys()\n",
    "    for m in monoms:     \n",
    "        temp = d[m]\n",
    "        if (temp < 0.0):\n",
    "            temp = -1.0 * temp\n",
    "        if (temp <= (10.0 ** (val))):\n",
    "            del d[m]\n",
    "    return d"
   ]
  },
  {
   "cell_type": "code",
   "execution_count": 340,
   "metadata": {},
   "outputs": [
    {
     "output_type": "stream",
     "name": "stdout",
     "text": [
      "Size of the HUBO after threshold approximation: 133\n"
     ]
    }
   ],
   "source": [
    "#Coefficints with absolute value less than 10^{threshold} are deleted from the HUBO.\n",
    "threshold=1\n",
    "\n",
    "HUBO=threshold_approx(HUBO,threshold)\n",
    "\n",
    "print(\"Size of the HUBO after threshold approximation:\",len(HUBO))"
   ]
  },
  {
   "cell_type": "code",
   "execution_count": 341,
   "metadata": {},
   "outputs": [],
   "source": [
    "import dimod\n",
    "#calculate the strength parameter needed by make_quadratic\n",
    "max_hubo_value=max(map(abs, list(HUBO.values())))\n",
    "strength=1.5*max_hubo_value\n",
    "#generate the bqm\n",
    "bqm = dimod.make_quadratic(HUBO, strength, dimod.BINARY)"
   ]
  },
  {
   "cell_type": "code",
   "execution_count": 342,
   "metadata": {},
   "outputs": [],
   "source": [
    "def find_bond_theta_soln(solution):\n",
    "    thetas = generate_thetas()\n",
    "    bond_theta_soln = {}\n",
    "    for key, value in solution.items():\n",
    "        if solution[key] == 1:\n",
    "            bond_theta_soln[key//n_angles] = thetas[key%n_angles]\n",
    "    return bond_theta_soln"
   ]
  },
  {
   "cell_type": "code",
   "execution_count": 343,
   "metadata": {},
   "outputs": [
    {
     "output_type": "stream",
     "name": "stdout",
     "text": [
      "The time of execution:  0.007196903228759766 s\n   0  1  2  3  4  5  6  7  8  9 10 11 12 13 14 15       energy num_oc.\n2  0  0  0  0  0  1  0  0  0  0  0  0  0  0  0  1 -4619.647184       1\n4  0  0  0  0  0  0  1  0  0  1  0  0  0  0  0  0   -4608.9306       1\n5  1  0  0  0  0  0  0  0  1  0  0  0  0  0  0  0 -4602.674574       1\n8  1  0  0  0  0  0  0  0  1  0  0  0  0  0  0  0 -4602.674574       1\n3  0  0  0  0  1  0  0  0  1  0  0  0  0  0  0  0 -4559.426609       1\n0  1  0  0  0  0  0  0  0  0  1  0  0  0  0  0  0 -4246.814143       1\n7  1  0  0  0  0  0  0  0  0  1  0  0  0  0  0  0 -4246.814143       1\n1  0  1  0  0  0  0  0  0  0  1  0  0  0  0  0  0  -3940.45547       1\n6  0  0  0  1  0  0  0  0  0  1  0  0  0  0  0  0 -3869.315339       1\n9  0  0  0  0  1  0  0  0  0  0  0  1  0  0  0  0 -2572.902441       1\n['BINARY', 10 rows, 10 samples, 16 variables]\n"
     ]
    }
   ],
   "source": [
    "import neal\n",
    "sampler = neal.SimulatedAnnealingSampler()\n",
    "sample_size=10\n",
    "start = time.time()\n",
    "sa_sampleset = sampler.sample(bqm, num_reads=sample_size)\n",
    "end = time.time()\n",
    "print(\"The time of execution: \", (end-start), \"s\")\n",
    "print(sa_sampleset)"
   ]
  },
  {
   "cell_type": "code",
   "execution_count": 344,
   "metadata": {},
   "outputs": [],
   "source": [
    "def rotation_matrix_new_coords(first_coords, second_coords, bond_no, soln_theta):\n",
    "    x_dash, y_dash, z_dash = first_coords[0], first_coords[1], first_coords[2]\n",
    "    x_ddash, y_ddash, z_ddash = second_coords[0], second_coords[1], second_coords[2]\n",
    "    dx = x_ddash - x_dash\n",
    "    dy = y_ddash - y_dash\n",
    "    dz = z_ddash - z_dash\n",
    "    l_sq = dx ** 2 + dy ** 2 + dz ** 2\n",
    "    l = sp.sqrt(l_sq)\n",
    "    c_theta = sp.cos(soln_theta)\n",
    "    s_theta = sp.sin(soln_theta)\n",
    "    index = n_angles * bond_no\n",
    "    rotation_matrix = eye(4)\n",
    "    rotation_matrix[0, 0] = ((dx ** 2 + (dy ** 2 + dz ** 2) * c_theta) / l_sq).evalf()\n",
    "    rotation_matrix[0, 1] = ((dx * dy * (1 - c_theta) - dz * l * s_theta) / l_sq).evalf()\n",
    "    rotation_matrix[0, 2] = ((dx * dz * (1 - c_theta) + dy * l * s_theta) / l_sq).evalf()\n",
    "    rotation_matrix[0, 3] = (((x_dash * (dy ** 2 + dz ** 2) - dx * (y_dash * dy + z_dash * dz)) * (1 - c_theta) + (\n",
    "            y_dash * dz - z_dash * dy) * l * s_theta) / l_sq).evalf()\n",
    "    rotation_matrix[1, 0] = ((dx * dy * (1 - c_theta) + dz * l * s_theta) / l_sq).evalf()\n",
    "    rotation_matrix[1, 1] = ((dy ** 2 + (dx ** 2 + dz ** 2) * c_theta) / l_sq).evalf()\n",
    "    rotation_matrix[1, 2] = ((dy * dz * (1 - c_theta) - dx * l * s_theta) / l_sq).evalf()\n",
    "    rotation_matrix[1, 3] = (((y_dash * (dx ** 2 + dz ** 2) - dy * (x_dash * dx + z_dash * dz)) * (1 - c_theta) + (\n",
    "            z_dash * dx - x_dash * dz) * l * s_theta) / l_sq).evalf()\n",
    "    rotation_matrix[2, 0] = ((dx * dz * (1 - c_theta) - dy * l * s_theta) / l_sq).evalf()\n",
    "    rotation_matrix[2, 1] = ((dy * dz * (1 - c_theta) + dx * l * s_theta) / l_sq).evalf()\n",
    "    rotation_matrix[2, 2] = ((dz ** 2 + (dx ** 2 + dy ** 2) * c_theta) / l_sq).evalf()\n",
    "    rotation_matrix[2, 3] = (((z_dash * (dx ** 2 + dy ** 2) - dz * (x_dash * dx + y_dash * dy)) * (1 - c_theta) + (\n",
    "            x_dash * dy - y_dash * dx) * l * s_theta) / l_sq).evalf()\n",
    "    return rotation_matrix"
   ]
  },
  {
   "cell_type": "code",
   "execution_count": 345,
   "metadata": {},
   "outputs": [],
   "source": [
    "def compute_new_coords(solution):\n",
    "    final_coords = copy.deepcopy(coords_mol)\n",
    "    for i in coords_rotation_mol:\n",
    "        if len(coords_rotation_mol[i]) > 0:\n",
    "            rot_mat = eye(4, 4)\n",
    "            for bond_no in coords_rotation_mol[i]:\n",
    "                temp_rot_mat = rotation_matrix_new_coords(coords_mol[torsional_bonds_mol[bond_no][0]], coords_mol[torsional_bonds_mol[bond_no][1]], bond_no, solution[bond_no])\n",
    "                rot_mat = rot_mat * temp_rot_mat\n",
    "            final_coords[i] = rotate_coordinates(rot_mat, coords_mol[i])\n",
    "    return final_coords\n"
   ]
  },
  {
   "cell_type": "code",
   "execution_count": 346,
   "metadata": {},
   "outputs": [],
   "source": [
    "def find_volume_change(old_coords, new_coords):\n",
    "    n = len(old_coords)\n",
    "    old_distance_sq = 0\n",
    "    for i in range(n-1):\n",
    "        for j in range(i+1, n):\n",
    "            old_distance_sq += distance_squared(old_coords[i], old_coords[j])\n",
    "    \n",
    "    new_distance_sq = 0\n",
    "    for i in range(n-1):\n",
    "        for j in range(i+1, n):\n",
    "            new_distance_sq += distance_squared(new_coords[i], new_coords[j])\n",
    "    # print(\"new volume: \", new_distance_sq.evalf())\n",
    "    # print(\"old volume: \", old_distance_sq)\n",
    "    # print('change in volume: ', new_distance_sq.evalf() - old_distance_sq)\n",
    "    return new_distance_sq.evalf() - old_distance_sq"
   ]
  },
  {
   "cell_type": "code",
   "execution_count": 347,
   "metadata": {},
   "outputs": [
    {
     "output_type": "stream",
     "name": "stdout",
     "text": [
      "The time of execution:  6.820714473724365 s\nbest solution:  {}\nbest volume change:  0\n"
     ]
    }
   ],
   "source": [
    "start = time.time()\n",
    "thetas = generate_thetas()\n",
    "best_volume_change = 0\n",
    "best_soln = {}\n",
    "for soln in sa_sampleset:\n",
    "    bond_theta_soln = find_bond_theta_soln(soln)\n",
    "    new_coords = compute_new_coords(bond_theta_soln)\n",
    "    vol_difference = find_volume_change(coords_mol, new_coords)\n",
    "    if vol_difference > best_volume_change:\n",
    "        best_volume_change = vol_difference\n",
    "        best_soln = bond_theta_soln\n",
    "end = time.time()\n",
    "print(\"The time of execution: \", (end-start), \"s\")    \n",
    "print('best solution: ', best_soln)\n",
    "print('best volume change: ', best_volume_change)"
   ]
  },
  {
   "cell_type": "code",
   "execution_count": 93,
   "metadata": {
    "tags": []
   },
   "outputs": [
    {
     "output_type": "stream",
     "name": "stdout",
     "text": [
      "The time of execution:  0.4478275775909424 s\n",
      "   0  1  2  3  4  5  6  7  8  9 10 11 12 13 14 15       energy num_oc. ...\n",
      "0  0  0  0  0  0  0  1  0  1  0  0  0  0  0  0  0 -5015.718151       1 ...\n",
      "1  0  0  0  0  0  0  0  1  1  0  0  0  0  0  0  0 -4907.679779       6 ...\n",
      "2  0  0  0  0  0  1  0  0  1  0  0  0  0  0  0  0 -4869.134162       3 ...\n",
      "3  0  0  0  0  0  0  1  0  0  0  0  0  0  0  0  1 -4748.564545       7 ...\n",
      "4  0  0  0  0  0  0  1  0  0  0  0  0  0  0  0  1 -4748.564545       1 ...\n",
      "5  0  0  0  0  0  0  0  1  0  0  0  0  0  0  0  1 -4620.932681       1 ...\n",
      "6  0  0  0  0  0  0  0  1  0  0  0  0  0  0  0  1 -4620.932681      15 ...\n",
      "7  0  0  0  0  0  1  0  0  0  0  0  0  0  0  0  1 -4619.647184       1 ...\n",
      "8  0  0  0  0  0  1  0  0  0  0  0  0  0  0  0  1 -4619.647184      13 ...\n",
      "9  0  0  0  0  0  0  1  0  0  1  0  0  0  0  0  0   -4608.9306       3 ...\n",
      "['BINARY', 10 rows, 51 samples, 16 variables]\n"
     ]
    }
   ],
   "source": [
    "from dwave.system import DWaveSampler, EmbeddingComposite\n",
    "sampler = EmbeddingComposite(DWaveSampler())\n",
    "start = time.time()\n",
    "sampleset = sampler.sample(bqm, num_reads=1000)\n",
    "end = time.time()\n",
    "print(\"The time of execution: \", (end-start), \"s\")\n",
    "print(sampleset.slice(10))"
   ]
  },
  {
   "cell_type": "code",
   "execution_count": 94,
   "metadata": {},
   "outputs": [
    {
     "output_type": "stream",
     "name": "stdout",
     "text": [
      "{0: 0, 1: 0, 2: 0, 3: 0, 4: 0, 5: 0, 6: 1, 7: 0, 8: 1, 9: 0, 10: 0, 11: 0, 12: 0, 13: 0, 14: 0, 15: 0}\n{0: 3*pi/2, 1: 0}\n"
     ]
    }
   ],
   "source": [
    "qa_soln = sampleset.first.sample\n",
    "print(qa_soln)\n",
    "bond_theta_soln = find_bond_theta_soln(qa_soln)\n",
    "print(bond_theta_soln)"
   ]
  },
  {
   "cell_type": "code",
   "execution_count": 98,
   "metadata": {
    "tags": []
   },
   "outputs": [
    {
     "output_type": "stream",
     "name": "stdout",
     "text": [
      "The time of execution:  3.3742904663085938 s\nbest solution:  {0: 7*pi/4, 1: 0}\nbest volume change:  3636.84574730103\n"
     ]
    }
   ],
   "source": [
    "start = time.time()\n",
    "qa_10_solns = sampleset.slice(5)\n",
    "thetas = generate_thetas()\n",
    "best_volume_change = 0\n",
    "best_soln = {}\n",
    "for soln in qa_10_solns:\n",
    "    bond_theta_soln = find_bond_theta_soln(soln)\n",
    "    new_coords = compute_new_coords(bond_theta_soln)\n",
    "    vol_difference = find_volume_change(coords_mol, new_coords)\n",
    "    if vol_difference > best_volume_change:\n",
    "        best_volume_change = vol_difference\n",
    "        best_soln = bond_theta_soln\n",
    "end = time.time()\n",
    "print(\"The time of execution: \", (end-start), \"s\")    \n",
    "print('best solution: ', best_soln)\n",
    "print('best volume change: ', best_volume_change)\n"
   ]
  },
  {
   "cell_type": "code",
   "execution_count": 65,
   "metadata": {},
   "outputs": [
    {
     "output_type": "stream",
     "name": "stdout",
     "text": [
      "change in volume:  155734.205604493\n"
     ]
    }
   ],
   "source": [
    "qa_soln = sampleset.first.sample\n",
    "bond_theta_soln = find_bond_theta_soln(qa_soln)\n",
    "new_coords = compute_new_coords(bond_theta_soln)\n",
    "volume_change = find_volume_change(coords_mol, new_coords)\n",
    "print('change in volume: ', volume_change)"
   ]
  },
  {
   "cell_type": "code",
   "execution_count": 66,
   "metadata": {},
   "outputs": [
    {
     "output_type": "stream",
     "name": "stdout",
     "text": [
      "{0: 0, 1: 0} :  -1.45519152283669e-11\n",
      "{0: 0, 1: pi/4} :  9265.07372219185\n",
      "{0: 0, 1: pi/2} :  32969.2715323925\n",
      "{0: 0, 1: 3*pi/4} :  57226.9958385611\n",
      "{0: 0, 1: pi} :  67828.4007344516\n",
      "{0: 0, 1: 5*pi/4} :  58563.3270122598\n",
      "{0: 0, 1: 3*pi/2} :  34859.1292020590\n",
      "{0: 0, 1: 7*pi/4} :  10601.4048958904\n",
      "{0: pi/4, 1: 0} :  9352.38475891940\n",
      "{0: pi/4, 1: pi/4} :  38819.7820244785\n",
      "{0: pi/4, 1: pi/2} :  81103.7368451924\n",
      "{0: pi/4, 1: 3*pi/4} :  111434.881957858\n",
      "{0: pi/4, 1: pi} :  112045.643917783\n",
      "{0: pi/4, 1: 5*pi/4} :  82578.2466522234\n",
      "{0: pi/4, 1: 3*pi/2} :  40294.2918315095\n",
      "{0: pi/4, 1: 7*pi/4} :  9963.14671884388\n",
      "{0: pi/2, 1: 0} :  26194.8525936158\n",
      "{0: pi/2, 1: pi/4} :  70100.4157429594\n",
      "{0: pi/2, 1: pi/2} :  122309.157175480\n",
      "{0: pi/2, 1: 3*pi/4} :  152237.904234439\n",
      "{0: pi/2, 1: pi} :  142354.802797530\n",
      "{0: pi/2, 1: 5*pi/4} :  98449.2396481869\n",
      "{0: pi/2, 1: 3*pi/2} :  46240.4982156655\n",
      "{0: pi/2, 1: 7*pi/4} :  16311.7511567072\n",
      "{0: 3*pi/4, 1: 0} :  40661.3142703565\n",
      "{0: 3*pi/4, 1: pi/4} :  84783.2038849733\n",
      "{0: 3*pi/4, 1: pi/2} :  132447.956137058\n",
      "{0: 3*pi/4, 1: 3*pi/4} :  155734.205604493\n",
      "{0: 3*pi/4, 1: pi} :  141001.183166059\n",
      "{0: 3*pi/4, 1: 5*pi/4} :  96879.2935514423\n",
      "{0: 3*pi/4, 1: 3*pi/2} :  49214.5412993572\n",
      "{0: 3*pi/4, 1: 7*pi/4} :  25928.2918319219\n",
      "{0: pi, 1: 0} :  44277.5127384574\n",
      "{0: pi, 1: pi/4} :  74267.1682903793\n",
      "{0: pi, 1: pi/2} :  105580.962804407\n",
      "{0: pi, 1: 3*pi/4} :  119875.700143588\n",
      "{0: pi, 1: pi} :  108777.717045190\n",
      "{0: pi, 1: 5*pi/4} :  78788.0614932684\n",
      "{0: pi, 1: 3*pi/2} :  47474.2669792405\n",
      "{0: pi, 1: 7*pi/4} :  33179.5296400597\n",
      "{0: 5*pi/4, 1: 0} :  34925.1279795379\n",
      "{0: 5*pi/4, 1: pi/4} :  44712.4599880928\n",
      "{0: 5*pi/4, 1: pi/2} :  57446.4974916078\n",
      "{0: 5*pi/4, 1: 3*pi/4} :  65667.8140242913\n",
      "{0: 5*pi/4, 1: pi} :  64560.4738618595\n",
      "{0: 5*pi/4, 1: 5*pi/4} :  54773.1418533047\n",
      "{0: 5*pi/4, 1: 3*pi/2} :  42039.1043497899\n",
      "{0: 5*pi/4, 1: 7*pi/4} :  33817.7878171063\n",
      "{0: 3*pi/2, 1: 0} :  18082.6601448416\n",
      "{0: 3*pi/2, 1: pi/4} :  13431.8262696120\n",
      "{0: 3*pi/2, 1: pi/2} :  16241.0771613194\n",
      "{0: 3*pi/2, 1: 3*pi/4} :  24864.7917477104\n",
      "{0: 3*pi/2, 1: pi} :  34251.3149821119\n",
      "{0: 3*pi/2, 1: 5*pi/4} :  38902.1488573414\n",
      "{0: 3*pi/2, 1: 3*pi/2} :  36092.8979656340\n",
      "{0: 3*pi/2, 1: 7*pi/4} :  27469.1833792430\n",
      "{0: 7*pi/4, 1: 0} :  3616.19846810099\n",
      "{0: 7*pi/4, 1: pi/4} :  -1250.96187240187\n",
      "{0: 7*pi/4, 1: pi/2} :  6102.27819974175\n",
      "{0: 7*pi/4, 1: 3*pi/4} :  21368.4903776556\n",
      "{0: 7*pi/4, 1: pi} :  35604.9346135832\n",
      "{0: 7*pi/4, 1: 5*pi/4} :  40472.0949540859\n",
      "{0: 7*pi/4, 1: 3*pi/2} :  33118.8548819423\n",
      "{0: 7*pi/4, 1: 7*pi/4} :  17852.6427040285\n",
      "The time of execution:  40.14217233657837 s\n",
      "best solution:  {0: 3*pi/4, 1: 3*pi/4}\n",
      "best volume change:  155734.205604493\n"
     ]
    }
   ],
   "source": [
    "# brute force solution\n",
    "start = time.time()\n",
    "thetas = generate_thetas()\n",
    "best_volume_change = 0\n",
    "best_soln = {}\n",
    "for i in range(8):\n",
    "    for j in range(8):\n",
    "        bond_theta_soln = {0: thetas[i], 1: thetas[j]}\n",
    "        new_coords = compute_new_coords(bond_theta_soln)\n",
    "        vol_difference = find_volume_change(coords_mol, new_coords)\n",
    "        print(bond_theta_soln, ': ', vol_difference)\n",
    "        if vol_difference > best_volume_change:\n",
    "            best_volume_change = vol_difference\n",
    "            best_soln = bond_theta_soln\n",
    "end = time.time()\n",
    "print(\"The time of execution: \", (end-start), \"s\")    \n",
    "print('best solution: ', best_soln)\n",
    "print('best volume change: ', best_volume_change)\n",
    "\n",
    "\n"
   ]
  },
  {
   "cell_type": "code",
   "execution_count": 73,
   "metadata": {},
   "outputs": [],
   "source": [
    "from rdkit.Geometry import Point3D\n",
    "conf = mol.GetConformer()\n",
    "for i in range(len(coords_mol)):\n",
    "    x, y, z = new_coords[i]\n",
    "    conf.SetAtomPosition(i, Point3D(float(x), float(y), float(z)))"
   ]
  },
  {
   "cell_type": "code",
   "execution_count": 74,
   "metadata": {},
   "outputs": [
    {
     "output_type": "display_data",
     "data": {
      "application/3dmoljs_load.v0": "<div id=\"3dmolviewer_16873434294664578\"  style=\"position: relative; width: 500px; height: 250px\">\n        <p id=\"3dmolwarning_16873434294664578\" style=\"background-color:#ffcccc;color:black\">You appear to be running in JupyterLab (or JavaScript failed to load for some other reason).  You need to install the 3dmol extension: <br>\n        <tt>jupyter labextension install jupyterlab_3dmol</tt></p>\n        </div>\n<script>\n\nvar loadScriptAsync = function(uri){\n  return new Promise((resolve, reject) => {\n    //this is to ignore the existence of requirejs amd\n    var savedexports, savedmodule;\n    if (typeof exports !== 'undefined') savedexports = exports;\n    else exports = {}\n    if (typeof module !== 'undefined') savedmodule = module;\n    else module = {}\n\n    var tag = document.createElement('script');\n    tag.src = uri;\n    tag.async = true;\n    tag.onload = () => {\n        exports = savedexports;\n        module = savedmodule;\n        resolve();\n    };\n  var firstScriptTag = document.getElementsByTagName('script')[0];\n  firstScriptTag.parentNode.insertBefore(tag, firstScriptTag);\n});\n};\n\nif(typeof $3Dmolpromise === 'undefined') {\n$3Dmolpromise = null;\n  $3Dmolpromise = loadScriptAsync('https://cdnjs.cloudflare.com/ajax/libs/3Dmol/2.0.1/3Dmol-min.js');\n}\n\nvar viewer_16873434294664578 = null;\nvar warn = document.getElementById(\"3dmolwarning_16873434294664578\");\nif(warn) {\n    warn.parentNode.removeChild(warn);\n}\n$3Dmolpromise.then(function() {\nviewer_16873434294664578 = $3Dmol.createViewer(document.getElementById(\"3dmolviewer_16873434294664578\"),{backgroundColor:\"white\"});\nviewer_16873434294664578.zoomTo();\n\tviewer_16873434294664578.addModel(\"76\\n     RDKit          3D\\n\\n 50 54  0  0  0  0  0  0  0  0999 V2000\\n    4.6690   -2.6830   -1.2440 C   0  0  0  0  0  0  0  0  0  0  0  0\\n    4.8020   -1.2210   -1.0010 C   0  0  0  0  0  0  0  0  0  0  0  0\\n    5.8800   -0.4210   -1.0160 C   0  0  0  0  0  0  0  0  0  0  0  0\\n    7.3510   -0.6650   -1.1650 C   0  0  0  0  0  0  0  0  0  0  0  0\\n    7.8480   -2.1100   -1.1540 C   0  0  0  0  0  0  0  0  0  0  0  0\\n    9.2770   -2.0800   -1.0820 O   0  0  0  0  0  0  0  0  0  0  0  0\\n    9.9170   -3.2770   -0.9330 C   0  0  0  0  0  0  0  0  0  0  0  0\\n    9.3340   -4.5380   -1.0250 C   0  0  0  0  0  0  0  0  0  0  0  0\\n   10.1120   -5.6900   -0.8430 C   0  0  0  0  0  0  0  0  0  0  0  0\\n   11.4830   -5.6010   -0.5660 C   0  0  0  0  0  0  0  0  0  0  0  0\\n   12.0610   -4.3280   -0.4870 C   0  0  0  0  0  0  0  0  0  0  0  0\\n   11.2840   -3.1800   -0.6720 C   0  0  0  0  0  0  0  0  0  0  0  0\\n   12.2640   -6.7670   -0.3590 N   0  0  0  0  0  0  0  0  0  0  0  0\\n   12.0600   -7.9560   -1.0190 C   0  0  0  0  0  0  0  0  0  0  0  0\\n   11.2700   -8.2010   -1.9200 O   0  0  0  0  0  0  0  0  0  0  0  0\\n   12.9730   -9.0020   -0.4490 C   0  0  0  0  0  0  0  0  0  0  0  0\\n   13.9100   -8.2180    0.4470 C   0  0  2  0  0  0  0  0  0  0  0  0\\n   14.2180   -9.0060    2.0670 S   0  0  0  0  0  0  0  0  0  0  0  0\\n   12.5960   -8.7670    2.8830 C   0  0  0  0  0  0  0  0  0  0  0  0\\n   12.5830   -9.4060    4.2670 C   0  0  0  0  0  0  0  0  0  0  0  0\\n   11.6920  -10.1910    4.5790 O   0  0  0  0  0  0  0  0  0  0  0  0\\n   13.6060   -8.9530    5.0830 N   0  0  0  0  0  0  0  0  0  0  0  0\\n   13.8470   -9.2970    6.4270 C   0  0  0  0  0  0  0  0  0  0  0  0\\n   12.9164   -9.1194    7.4516 C   0  0  0  0  0  0  0  0  0  0  0  0\\n   13.2345   -9.4639    8.7679 C   0  0  0  0  0  0  0  0  0  0  0  0\\n   14.4892   -9.9866    9.0727 C   0  0  0  0  0  0  0  0  0  0  0  0\\n   15.4396  -10.1749    8.0605 C   0  0  0  0  0  0  0  0  0  0  0  0\\n   15.1088   -9.8168    6.7413 C   0  0  0  0  0  0  0  0  0  0  0  0\\n   16.8103  -10.7113    8.3859 C   0  0  0  0  0  0  0  0  0  0  0  0\\n   16.8221  -11.5377    9.4691 F   0  0  0  0  0  0  0  0  0  0  0  0\\n   17.7015   -9.7197    8.6612 F   0  0  0  0  0  0  0  0  0  0  0  0\\n   17.3568  -11.4308    7.3657 F   0  0  0  0  0  0  0  0  0  0  0  0\\n   13.2870   -6.8480    0.5590 C   0  0  0  0  0  0  0  0  0  0  0  0\\n   13.6540   -5.9950    1.3570 O   0  0  0  0  0  0  0  0  0  0  0  0\\n    5.4700    0.9680   -0.7550 C   0  0  0  0  0  0  0  0  0  0  0  0\\n    6.1920    1.9210   -0.5490 O   0  0  0  0  0  0  0  0  0  0  0  0\\n    4.1010    0.9370   -0.7460 N   0  0  0  0  0  0  0  0  0  0  0  0\\n    3.6280   -0.3910   -0.8020 N   0  0  0  0  0  0  0  0  0  0  0  0\\n    2.6170   -0.8720    0.5270 S   0  0  0  0  0  6  0  0  0  0  0  0\\n    1.5710   -1.7731    0.0931 O   0  0  0  0  0  0  0  0  0  0  0  0\\n    3.4938   -1.2285    1.6277 O   0  0  0  0  0  0  0  0  0  0  0  0\\n    1.8313    0.6636    0.9611 C   0  0  0  0  0  0  0  0  0  0  0  0\\n    2.0042    1.1529    2.2672 C   0  0  0  0  0  0  0  0  0  0  0  0\\n    1.4122    2.3608    2.6674 C   0  0  0  0  0  0  0  0  0  0  0  0\\n    1.6179    2.8591    4.0716 C   0  0  0  0  0  0  0  0  0  0  0  0\\n    0.6376    3.0677    1.7365 C   0  0  0  0  0  0  0  0  0  0  0  0\\n   -0.1256    4.5616    2.1454 Cl  0  0  0  0  0  0  0  0  0  0  0  0\\n    0.4585    2.5757    0.4408 C   0  0  0  0  0  0  0  0  0  0  0  0\\n    1.0512    1.3710    0.0468 C   0  0  0  0  0  0  0  0  0  0  0  0\\n    0.7542    0.8581   -1.5736 Cl  0  0  0  0  0  0  0  0  0  0  0  0\\n  1  2  1  0\\n  2  3  2  0\\n  3  4  1  0\\n  3 35  1  0\\n  4  5  1  0\\n  5  6  1  0\\n  6  7  1  0\\n  7  8  2  0\\n  8  9  1  0\\n  9 10  2  0\\n 10 11  1  0\\n 10 13  1  0\\n 11 12  2  0\\n 12  7  1  0\\n 13 14  1  0\\n 14 15  2  0\\n 14 16  1  0\\n 16 17  1  0\\n 17 18  1  1\\n 17 33  1  0\\n 18 19  1  0\\n 19 20  1  0\\n 20 21  2  0\\n 20 22  1  0\\n 22 23  1  0\\n 23 24  2  0\\n 24 25  1  0\\n 25 26  2  0\\n 26 27  1  0\\n 27 28  2  0\\n 27 29  1  0\\n 28 23  1  0\\n 29 30  1  0\\n 29 31  1  0\\n 29 32  1  0\\n 33 13  1  0\\n 33 34  2  0\\n 35 36  2  0\\n 35 37  1  0\\n 37 38  1  0\\n 38  2  1  0\\n 38 39  1  0\\n 39 40  2  0\\n 39 41  2  0\\n 39 42  1  0\\n 42 43  2  0\\n 43 44  1  0\\n 44 45  1  0\\n 44 46  2  0\\n 46 47  1  0\\n 46 48  1  0\\n 48 49  2  0\\n 49 42  1  0\\n 49 50  1  0\\nM  END\\n\",\"mol\");\n\tviewer_16873434294664578.setStyle({\"stick\": {}});\n\tviewer_16873434294664578.zoomTo();\nviewer_16873434294664578.render();\n});\n</script>",
      "text/html": "<div id=\"3dmolviewer_16873434294664578\"  style=\"position: relative; width: 500px; height: 250px\">\n        <p id=\"3dmolwarning_16873434294664578\" style=\"background-color:#ffcccc;color:black\">You appear to be running in JupyterLab (or JavaScript failed to load for some other reason).  You need to install the 3dmol extension: <br>\n        <tt>jupyter labextension install jupyterlab_3dmol</tt></p>\n        </div>\n<script>\n\nvar loadScriptAsync = function(uri){\n  return new Promise((resolve, reject) => {\n    //this is to ignore the existence of requirejs amd\n    var savedexports, savedmodule;\n    if (typeof exports !== 'undefined') savedexports = exports;\n    else exports = {}\n    if (typeof module !== 'undefined') savedmodule = module;\n    else module = {}\n\n    var tag = document.createElement('script');\n    tag.src = uri;\n    tag.async = true;\n    tag.onload = () => {\n        exports = savedexports;\n        module = savedmodule;\n        resolve();\n    };\n  var firstScriptTag = document.getElementsByTagName('script')[0];\n  firstScriptTag.parentNode.insertBefore(tag, firstScriptTag);\n});\n};\n\nif(typeof $3Dmolpromise === 'undefined') {\n$3Dmolpromise = null;\n  $3Dmolpromise = loadScriptAsync('https://cdnjs.cloudflare.com/ajax/libs/3Dmol/2.0.1/3Dmol-min.js');\n}\n\nvar viewer_16873434294664578 = null;\nvar warn = document.getElementById(\"3dmolwarning_16873434294664578\");\nif(warn) {\n    warn.parentNode.removeChild(warn);\n}\n$3Dmolpromise.then(function() {\nviewer_16873434294664578 = $3Dmol.createViewer(document.getElementById(\"3dmolviewer_16873434294664578\"),{backgroundColor:\"white\"});\nviewer_16873434294664578.zoomTo();\n\tviewer_16873434294664578.addModel(\"76\\n     RDKit          3D\\n\\n 50 54  0  0  0  0  0  0  0  0999 V2000\\n    4.6690   -2.6830   -1.2440 C   0  0  0  0  0  0  0  0  0  0  0  0\\n    4.8020   -1.2210   -1.0010 C   0  0  0  0  0  0  0  0  0  0  0  0\\n    5.8800   -0.4210   -1.0160 C   0  0  0  0  0  0  0  0  0  0  0  0\\n    7.3510   -0.6650   -1.1650 C   0  0  0  0  0  0  0  0  0  0  0  0\\n    7.8480   -2.1100   -1.1540 C   0  0  0  0  0  0  0  0  0  0  0  0\\n    9.2770   -2.0800   -1.0820 O   0  0  0  0  0  0  0  0  0  0  0  0\\n    9.9170   -3.2770   -0.9330 C   0  0  0  0  0  0  0  0  0  0  0  0\\n    9.3340   -4.5380   -1.0250 C   0  0  0  0  0  0  0  0  0  0  0  0\\n   10.1120   -5.6900   -0.8430 C   0  0  0  0  0  0  0  0  0  0  0  0\\n   11.4830   -5.6010   -0.5660 C   0  0  0  0  0  0  0  0  0  0  0  0\\n   12.0610   -4.3280   -0.4870 C   0  0  0  0  0  0  0  0  0  0  0  0\\n   11.2840   -3.1800   -0.6720 C   0  0  0  0  0  0  0  0  0  0  0  0\\n   12.2640   -6.7670   -0.3590 N   0  0  0  0  0  0  0  0  0  0  0  0\\n   12.0600   -7.9560   -1.0190 C   0  0  0  0  0  0  0  0  0  0  0  0\\n   11.2700   -8.2010   -1.9200 O   0  0  0  0  0  0  0  0  0  0  0  0\\n   12.9730   -9.0020   -0.4490 C   0  0  0  0  0  0  0  0  0  0  0  0\\n   13.9100   -8.2180    0.4470 C   0  0  2  0  0  0  0  0  0  0  0  0\\n   14.2180   -9.0060    2.0670 S   0  0  0  0  0  0  0  0  0  0  0  0\\n   12.5960   -8.7670    2.8830 C   0  0  0  0  0  0  0  0  0  0  0  0\\n   12.5830   -9.4060    4.2670 C   0  0  0  0  0  0  0  0  0  0  0  0\\n   11.6920  -10.1910    4.5790 O   0  0  0  0  0  0  0  0  0  0  0  0\\n   13.6060   -8.9530    5.0830 N   0  0  0  0  0  0  0  0  0  0  0  0\\n   13.8470   -9.2970    6.4270 C   0  0  0  0  0  0  0  0  0  0  0  0\\n   12.9164   -9.1194    7.4516 C   0  0  0  0  0  0  0  0  0  0  0  0\\n   13.2345   -9.4639    8.7679 C   0  0  0  0  0  0  0  0  0  0  0  0\\n   14.4892   -9.9866    9.0727 C   0  0  0  0  0  0  0  0  0  0  0  0\\n   15.4396  -10.1749    8.0605 C   0  0  0  0  0  0  0  0  0  0  0  0\\n   15.1088   -9.8168    6.7413 C   0  0  0  0  0  0  0  0  0  0  0  0\\n   16.8103  -10.7113    8.3859 C   0  0  0  0  0  0  0  0  0  0  0  0\\n   16.8221  -11.5377    9.4691 F   0  0  0  0  0  0  0  0  0  0  0  0\\n   17.7015   -9.7197    8.6612 F   0  0  0  0  0  0  0  0  0  0  0  0\\n   17.3568  -11.4308    7.3657 F   0  0  0  0  0  0  0  0  0  0  0  0\\n   13.2870   -6.8480    0.5590 C   0  0  0  0  0  0  0  0  0  0  0  0\\n   13.6540   -5.9950    1.3570 O   0  0  0  0  0  0  0  0  0  0  0  0\\n    5.4700    0.9680   -0.7550 C   0  0  0  0  0  0  0  0  0  0  0  0\\n    6.1920    1.9210   -0.5490 O   0  0  0  0  0  0  0  0  0  0  0  0\\n    4.1010    0.9370   -0.7460 N   0  0  0  0  0  0  0  0  0  0  0  0\\n    3.6280   -0.3910   -0.8020 N   0  0  0  0  0  0  0  0  0  0  0  0\\n    2.6170   -0.8720    0.5270 S   0  0  0  0  0  6  0  0  0  0  0  0\\n    1.5710   -1.7731    0.0931 O   0  0  0  0  0  0  0  0  0  0  0  0\\n    3.4938   -1.2285    1.6277 O   0  0  0  0  0  0  0  0  0  0  0  0\\n    1.8313    0.6636    0.9611 C   0  0  0  0  0  0  0  0  0  0  0  0\\n    2.0042    1.1529    2.2672 C   0  0  0  0  0  0  0  0  0  0  0  0\\n    1.4122    2.3608    2.6674 C   0  0  0  0  0  0  0  0  0  0  0  0\\n    1.6179    2.8591    4.0716 C   0  0  0  0  0  0  0  0  0  0  0  0\\n    0.6376    3.0677    1.7365 C   0  0  0  0  0  0  0  0  0  0  0  0\\n   -0.1256    4.5616    2.1454 Cl  0  0  0  0  0  0  0  0  0  0  0  0\\n    0.4585    2.5757    0.4408 C   0  0  0  0  0  0  0  0  0  0  0  0\\n    1.0512    1.3710    0.0468 C   0  0  0  0  0  0  0  0  0  0  0  0\\n    0.7542    0.8581   -1.5736 Cl  0  0  0  0  0  0  0  0  0  0  0  0\\n  1  2  1  0\\n  2  3  2  0\\n  3  4  1  0\\n  3 35  1  0\\n  4  5  1  0\\n  5  6  1  0\\n  6  7  1  0\\n  7  8  2  0\\n  8  9  1  0\\n  9 10  2  0\\n 10 11  1  0\\n 10 13  1  0\\n 11 12  2  0\\n 12  7  1  0\\n 13 14  1  0\\n 14 15  2  0\\n 14 16  1  0\\n 16 17  1  0\\n 17 18  1  1\\n 17 33  1  0\\n 18 19  1  0\\n 19 20  1  0\\n 20 21  2  0\\n 20 22  1  0\\n 22 23  1  0\\n 23 24  2  0\\n 24 25  1  0\\n 25 26  2  0\\n 26 27  1  0\\n 27 28  2  0\\n 27 29  1  0\\n 28 23  1  0\\n 29 30  1  0\\n 29 31  1  0\\n 29 32  1  0\\n 33 13  1  0\\n 33 34  2  0\\n 35 36  2  0\\n 35 37  1  0\\n 37 38  1  0\\n 38  2  1  0\\n 38 39  1  0\\n 39 40  2  0\\n 39 41  2  0\\n 39 42  1  0\\n 42 43  2  0\\n 43 44  1  0\\n 44 45  1  0\\n 44 46  2  0\\n 46 47  1  0\\n 46 48  1  0\\n 48 49  2  0\\n 49 42  1  0\\n 49 50  1  0\\nM  END\\n\",\"mol\");\n\tviewer_16873434294664578.setStyle({\"stick\": {}});\n\tviewer_16873434294664578.zoomTo();\nviewer_16873434294664578.render();\n});\n</script>"
     },
     "metadata": {}
    }
   ],
   "source": [
    "mblock = Chem.MolToMolBlock(mol)\n",
    "view = py3Dmol.view(width=500, height=250)\n",
    "view.addModel(mblock, 'mol')\n",
    "view.setStyle({'stick':{}})\n",
    "view.zoomTo()\n",
    "view.show()"
   ]
  },
  {
   "cell_type": "code",
   "execution_count": 76,
   "metadata": {},
   "outputs": [
    {
     "output_type": "display_data",
     "data": {
      "application/3dmoljs_load.v0": "<div id=\"3dmolviewer_16873436491740272\"  style=\"position: relative; width: 500px; height: 250px\">\n        <p id=\"3dmolwarning_16873436491740272\" style=\"background-color:#ffcccc;color:black\">You appear to be running in JupyterLab (or JavaScript failed to load for some other reason).  You need to install the 3dmol extension: <br>\n        <tt>jupyter labextension install jupyterlab_3dmol</tt></p>\n        </div>\n<script>\n\nvar loadScriptAsync = function(uri){\n  return new Promise((resolve, reject) => {\n    //this is to ignore the existence of requirejs amd\n    var savedexports, savedmodule;\n    if (typeof exports !== 'undefined') savedexports = exports;\n    else exports = {}\n    if (typeof module !== 'undefined') savedmodule = module;\n    else module = {}\n\n    var tag = document.createElement('script');\n    tag.src = uri;\n    tag.async = true;\n    tag.onload = () => {\n        exports = savedexports;\n        module = savedmodule;\n        resolve();\n    };\n  var firstScriptTag = document.getElementsByTagName('script')[0];\n  firstScriptTag.parentNode.insertBefore(tag, firstScriptTag);\n});\n};\n\nif(typeof $3Dmolpromise === 'undefined') {\n$3Dmolpromise = null;\n  $3Dmolpromise = loadScriptAsync('https://cdnjs.cloudflare.com/ajax/libs/3Dmol/2.0.1/3Dmol-min.js');\n}\n\nvar viewer_16873436491740272 = null;\nvar warn = document.getElementById(\"3dmolwarning_16873436491740272\");\nif(warn) {\n    warn.parentNode.removeChild(warn);\n}\n$3Dmolpromise.then(function() {\nviewer_16873436491740272 = $3Dmol.createViewer(document.getElementById(\"3dmolviewer_16873436491740272\"),{backgroundColor:\"white\"});\nviewer_16873436491740272.zoomTo();\n\tviewer_16873436491740272.addModel(\"76\\n     RDKit          3D\\n\\n 50 54  0  0  0  0  0  0  0  0999 V2000\\n    4.6690   -2.6830   -1.2440 C   0  0  0  0  0  0  0  0  0  0  0  0\\n    4.8020   -1.2210   -1.0010 C   0  0  0  0  0  0  0  0  0  0  0  0\\n    5.8800   -0.4210   -1.0160 C   0  0  0  0  0  0  0  0  0  0  0  0\\n    7.3510   -0.6650   -1.1650 C   0  0  0  0  0  0  0  0  0  0  0  0\\n    7.8480   -2.1100   -1.1540 C   0  0  0  0  0  0  0  0  0  0  0  0\\n    9.2770   -2.0800   -1.0820 O   0  0  0  0  0  0  0  0  0  0  0  0\\n    9.9170   -3.2770   -0.9330 C   0  0  0  0  0  0  0  0  0  0  0  0\\n    9.3340   -4.5380   -1.0250 C   0  0  0  0  0  0  0  0  0  0  0  0\\n   10.1120   -5.6900   -0.8430 C   0  0  0  0  0  0  0  0  0  0  0  0\\n   11.4830   -5.6010   -0.5660 C   0  0  0  0  0  0  0  0  0  0  0  0\\n   12.0610   -4.3280   -0.4870 C   0  0  0  0  0  0  0  0  0  0  0  0\\n   11.2840   -3.1800   -0.6720 C   0  0  0  0  0  0  0  0  0  0  0  0\\n   12.2640   -6.7670   -0.3590 N   0  0  0  0  0  0  0  0  0  0  0  0\\n   12.0600   -7.9560   -1.0190 C   0  0  0  0  0  0  0  0  0  0  0  0\\n   11.2700   -8.2010   -1.9200 O   0  0  0  0  0  0  0  0  0  0  0  0\\n   12.9730   -9.0020   -0.4490 C   0  0  0  0  0  0  0  0  0  0  0  0\\n   13.9100   -8.2180    0.4470 C   0  0  2  0  0  0  0  0  0  0  0  0\\n   14.2180   -9.0060    2.0670 S   0  0  0  0  0  0  0  0  0  0  0  0\\n   12.5960   -8.7670    2.8830 C   0  0  0  0  0  0  0  0  0  0  0  0\\n   12.5830   -9.4060    4.2670 C   0  0  0  0  0  0  0  0  0  0  0  0\\n   11.6920  -10.1910    4.5790 O   0  0  0  0  0  0  0  0  0  0  0  0\\n   13.6060   -8.9530    5.0830 N   0  0  0  0  0  0  0  0  0  0  0  0\\n   13.8470   -9.2970    6.4270 C   0  0  0  0  0  0  0  0  0  0  0  0\\n   12.9310   -9.9790    7.2290 C   0  0  0  0  0  0  0  0  0  0  0  0\\n   13.2310  -10.2670    8.5630 C   0  0  0  0  0  0  0  0  0  0  0  0\\n   14.4500   -9.8720    9.1090 C   0  0  0  0  0  0  0  0  0  0  0  0\\n   15.3860   -9.1870    8.3230 C   0  0  0  0  0  0  0  0  0  0  0  0\\n   15.0680   -8.8970    6.9840 C   0  0  0  0  0  0  0  0  0  0  0  0\\n   16.6950   -8.7290    8.9140 C   0  0  0  0  0  0  0  0  0  0  0  0\\n   17.1360   -9.5250    9.9280 F   0  0  0  0  0  0  0  0  0  0  0  0\\n   16.6170   -7.4720    9.4310 F   0  0  0  0  0  0  0  0  0  0  0  0\\n   17.7080   -8.6950    8.0030 F   0  0  0  0  0  0  0  0  0  0  0  0\\n   13.2870   -6.8480    0.5590 C   0  0  0  0  0  0  0  0  0  0  0  0\\n   13.6540   -5.9950    1.3570 O   0  0  0  0  0  0  0  0  0  0  0  0\\n    5.4700    0.9680   -0.7550 C   0  0  0  0  0  0  0  0  0  0  0  0\\n    6.1920    1.9210   -0.5490 O   0  0  0  0  0  0  0  0  0  0  0  0\\n    4.1010    0.9370   -0.7460 N   0  0  0  0  0  0  0  0  0  0  0  0\\n    3.6280   -0.3910   -0.8020 N   0  0  0  0  0  0  0  0  0  0  0  0\\n    2.6170   -0.8720    0.5270 S   0  0  0  0  0  6  0  0  0  0  0  0\\n    2.3600   -2.2960    0.5040 O   0  0  0  0  0  0  0  0  0  0  0  0\\n    3.1410   -0.2320    1.7200 O   0  0  0  0  0  0  0  0  0  0  0  0\\n    1.0840   -0.0620    0.1300 C   0  0  0  0  0  0  0  0  0  0  0  0\\n    0.5560    0.8530    1.0570 C   0  0  0  0  0  0  0  0  0  0  0  0\\n   -0.6480    1.5260    0.7980 C   0  0  0  0  0  0  0  0  0  0  0  0\\n   -1.1860    2.5010    1.8090 C   0  0  0  0  0  0  0  0  0  0  0  0\\n   -1.3180    1.2610   -0.4050 C   0  0  0  0  0  0  0  0  0  0  0  0\\n   -2.8040    2.0450   -0.8030 Cl  0  0  0  0  0  0  0  0  0  0  0  0\\n   -0.7970    0.3440   -1.3220 C   0  0  0  0  0  0  0  0  0  0  0  0\\n    0.4040   -0.3240   -1.0590 C   0  0  0  0  0  0  0  0  0  0  0  0\\n    0.9460   -1.4390   -2.2590 Cl  0  0  0  0  0  0  0  0  0  0  0  0\\n  1  2  1  0\\n  2  3  2  0\\n  3  4  1  0\\n  3 35  1  0\\n  4  5  1  0\\n  5  6  1  0\\n  6  7  1  0\\n  7  8  2  0\\n  8  9  1  0\\n  9 10  2  0\\n 10 11  1  0\\n 10 13  1  0\\n 11 12  2  0\\n 12  7  1  0\\n 13 14  1  0\\n 14 15  2  0\\n 14 16  1  0\\n 16 17  1  0\\n 17 18  1  1\\n 17 33  1  0\\n 18 19  1  0\\n 19 20  1  0\\n 20 21  2  0\\n 20 22  1  0\\n 22 23  1  0\\n 23 24  2  0\\n 24 25  1  0\\n 25 26  2  0\\n 26 27  1  0\\n 27 28  2  0\\n 27 29  1  0\\n 28 23  1  0\\n 29 30  1  0\\n 29 31  1  0\\n 29 32  1  0\\n 33 13  1  0\\n 33 34  2  0\\n 35 36  2  0\\n 35 37  1  0\\n 37 38  1  0\\n 38  2  1  0\\n 38 39  1  0\\n 39 40  2  0\\n 39 41  2  0\\n 39 42  1  0\\n 42 43  2  0\\n 43 44  1  0\\n 44 45  1  0\\n 44 46  2  0\\n 46 47  1  0\\n 46 48  1  0\\n 48 49  2  0\\n 49 42  1  0\\n 49 50  1  0\\nM  END\\n\",\"mol\");\n\tviewer_16873436491740272.setStyle({\"stick\": {}});\n\tviewer_16873436491740272.zoomTo();\nviewer_16873436491740272.render();\n});\n</script>",
      "text/html": "<div id=\"3dmolviewer_16873436491740272\"  style=\"position: relative; width: 500px; height: 250px\">\n        <p id=\"3dmolwarning_16873436491740272\" style=\"background-color:#ffcccc;color:black\">You appear to be running in JupyterLab (or JavaScript failed to load for some other reason).  You need to install the 3dmol extension: <br>\n        <tt>jupyter labextension install jupyterlab_3dmol</tt></p>\n        </div>\n<script>\n\nvar loadScriptAsync = function(uri){\n  return new Promise((resolve, reject) => {\n    //this is to ignore the existence of requirejs amd\n    var savedexports, savedmodule;\n    if (typeof exports !== 'undefined') savedexports = exports;\n    else exports = {}\n    if (typeof module !== 'undefined') savedmodule = module;\n    else module = {}\n\n    var tag = document.createElement('script');\n    tag.src = uri;\n    tag.async = true;\n    tag.onload = () => {\n        exports = savedexports;\n        module = savedmodule;\n        resolve();\n    };\n  var firstScriptTag = document.getElementsByTagName('script')[0];\n  firstScriptTag.parentNode.insertBefore(tag, firstScriptTag);\n});\n};\n\nif(typeof $3Dmolpromise === 'undefined') {\n$3Dmolpromise = null;\n  $3Dmolpromise = loadScriptAsync('https://cdnjs.cloudflare.com/ajax/libs/3Dmol/2.0.1/3Dmol-min.js');\n}\n\nvar viewer_16873436491740272 = null;\nvar warn = document.getElementById(\"3dmolwarning_16873436491740272\");\nif(warn) {\n    warn.parentNode.removeChild(warn);\n}\n$3Dmolpromise.then(function() {\nviewer_16873436491740272 = $3Dmol.createViewer(document.getElementById(\"3dmolviewer_16873436491740272\"),{backgroundColor:\"white\"});\nviewer_16873436491740272.zoomTo();\n\tviewer_16873436491740272.addModel(\"76\\n     RDKit          3D\\n\\n 50 54  0  0  0  0  0  0  0  0999 V2000\\n    4.6690   -2.6830   -1.2440 C   0  0  0  0  0  0  0  0  0  0  0  0\\n    4.8020   -1.2210   -1.0010 C   0  0  0  0  0  0  0  0  0  0  0  0\\n    5.8800   -0.4210   -1.0160 C   0  0  0  0  0  0  0  0  0  0  0  0\\n    7.3510   -0.6650   -1.1650 C   0  0  0  0  0  0  0  0  0  0  0  0\\n    7.8480   -2.1100   -1.1540 C   0  0  0  0  0  0  0  0  0  0  0  0\\n    9.2770   -2.0800   -1.0820 O   0  0  0  0  0  0  0  0  0  0  0  0\\n    9.9170   -3.2770   -0.9330 C   0  0  0  0  0  0  0  0  0  0  0  0\\n    9.3340   -4.5380   -1.0250 C   0  0  0  0  0  0  0  0  0  0  0  0\\n   10.1120   -5.6900   -0.8430 C   0  0  0  0  0  0  0  0  0  0  0  0\\n   11.4830   -5.6010   -0.5660 C   0  0  0  0  0  0  0  0  0  0  0  0\\n   12.0610   -4.3280   -0.4870 C   0  0  0  0  0  0  0  0  0  0  0  0\\n   11.2840   -3.1800   -0.6720 C   0  0  0  0  0  0  0  0  0  0  0  0\\n   12.2640   -6.7670   -0.3590 N   0  0  0  0  0  0  0  0  0  0  0  0\\n   12.0600   -7.9560   -1.0190 C   0  0  0  0  0  0  0  0  0  0  0  0\\n   11.2700   -8.2010   -1.9200 O   0  0  0  0  0  0  0  0  0  0  0  0\\n   12.9730   -9.0020   -0.4490 C   0  0  0  0  0  0  0  0  0  0  0  0\\n   13.9100   -8.2180    0.4470 C   0  0  2  0  0  0  0  0  0  0  0  0\\n   14.2180   -9.0060    2.0670 S   0  0  0  0  0  0  0  0  0  0  0  0\\n   12.5960   -8.7670    2.8830 C   0  0  0  0  0  0  0  0  0  0  0  0\\n   12.5830   -9.4060    4.2670 C   0  0  0  0  0  0  0  0  0  0  0  0\\n   11.6920  -10.1910    4.5790 O   0  0  0  0  0  0  0  0  0  0  0  0\\n   13.6060   -8.9530    5.0830 N   0  0  0  0  0  0  0  0  0  0  0  0\\n   13.8470   -9.2970    6.4270 C   0  0  0  0  0  0  0  0  0  0  0  0\\n   12.9310   -9.9790    7.2290 C   0  0  0  0  0  0  0  0  0  0  0  0\\n   13.2310  -10.2670    8.5630 C   0  0  0  0  0  0  0  0  0  0  0  0\\n   14.4500   -9.8720    9.1090 C   0  0  0  0  0  0  0  0  0  0  0  0\\n   15.3860   -9.1870    8.3230 C   0  0  0  0  0  0  0  0  0  0  0  0\\n   15.0680   -8.8970    6.9840 C   0  0  0  0  0  0  0  0  0  0  0  0\\n   16.6950   -8.7290    8.9140 C   0  0  0  0  0  0  0  0  0  0  0  0\\n   17.1360   -9.5250    9.9280 F   0  0  0  0  0  0  0  0  0  0  0  0\\n   16.6170   -7.4720    9.4310 F   0  0  0  0  0  0  0  0  0  0  0  0\\n   17.7080   -8.6950    8.0030 F   0  0  0  0  0  0  0  0  0  0  0  0\\n   13.2870   -6.8480    0.5590 C   0  0  0  0  0  0  0  0  0  0  0  0\\n   13.6540   -5.9950    1.3570 O   0  0  0  0  0  0  0  0  0  0  0  0\\n    5.4700    0.9680   -0.7550 C   0  0  0  0  0  0  0  0  0  0  0  0\\n    6.1920    1.9210   -0.5490 O   0  0  0  0  0  0  0  0  0  0  0  0\\n    4.1010    0.9370   -0.7460 N   0  0  0  0  0  0  0  0  0  0  0  0\\n    3.6280   -0.3910   -0.8020 N   0  0  0  0  0  0  0  0  0  0  0  0\\n    2.6170   -0.8720    0.5270 S   0  0  0  0  0  6  0  0  0  0  0  0\\n    2.3600   -2.2960    0.5040 O   0  0  0  0  0  0  0  0  0  0  0  0\\n    3.1410   -0.2320    1.7200 O   0  0  0  0  0  0  0  0  0  0  0  0\\n    1.0840   -0.0620    0.1300 C   0  0  0  0  0  0  0  0  0  0  0  0\\n    0.5560    0.8530    1.0570 C   0  0  0  0  0  0  0  0  0  0  0  0\\n   -0.6480    1.5260    0.7980 C   0  0  0  0  0  0  0  0  0  0  0  0\\n   -1.1860    2.5010    1.8090 C   0  0  0  0  0  0  0  0  0  0  0  0\\n   -1.3180    1.2610   -0.4050 C   0  0  0  0  0  0  0  0  0  0  0  0\\n   -2.8040    2.0450   -0.8030 Cl  0  0  0  0  0  0  0  0  0  0  0  0\\n   -0.7970    0.3440   -1.3220 C   0  0  0  0  0  0  0  0  0  0  0  0\\n    0.4040   -0.3240   -1.0590 C   0  0  0  0  0  0  0  0  0  0  0  0\\n    0.9460   -1.4390   -2.2590 Cl  0  0  0  0  0  0  0  0  0  0  0  0\\n  1  2  1  0\\n  2  3  2  0\\n  3  4  1  0\\n  3 35  1  0\\n  4  5  1  0\\n  5  6  1  0\\n  6  7  1  0\\n  7  8  2  0\\n  8  9  1  0\\n  9 10  2  0\\n 10 11  1  0\\n 10 13  1  0\\n 11 12  2  0\\n 12  7  1  0\\n 13 14  1  0\\n 14 15  2  0\\n 14 16  1  0\\n 16 17  1  0\\n 17 18  1  1\\n 17 33  1  0\\n 18 19  1  0\\n 19 20  1  0\\n 20 21  2  0\\n 20 22  1  0\\n 22 23  1  0\\n 23 24  2  0\\n 24 25  1  0\\n 25 26  2  0\\n 26 27  1  0\\n 27 28  2  0\\n 27 29  1  0\\n 28 23  1  0\\n 29 30  1  0\\n 29 31  1  0\\n 29 32  1  0\\n 33 13  1  0\\n 33 34  2  0\\n 35 36  2  0\\n 35 37  1  0\\n 37 38  1  0\\n 38  2  1  0\\n 38 39  1  0\\n 39 40  2  0\\n 39 41  2  0\\n 39 42  1  0\\n 42 43  2  0\\n 43 44  1  0\\n 44 45  1  0\\n 44 46  2  0\\n 46 47  1  0\\n 46 48  1  0\\n 48 49  2  0\\n 49 42  1  0\\n 49 50  1  0\\nM  END\\n\",\"mol\");\n\tviewer_16873436491740272.setStyle({\"stick\": {}});\n\tviewer_16873436491740272.zoomTo();\nviewer_16873436491740272.render();\n});\n</script>"
     },
     "metadata": {}
    }
   ],
   "source": [
    "mol_filepath = mol_folder + mol_fname\n",
    "mol = Chem.MolFromMol2File(mol_filepath)\n",
    "mblock = Chem.MolToMolBlock(mol)\n",
    "view = py3Dmol.view(width=500, height=250)\n",
    "view.addModel(mblock, 'mol')\n",
    "view.setStyle({'stick':{}})\n",
    "view.zoomTo()\n",
    "view.show()"
   ]
  },
  {
   "cell_type": "code",
   "execution_count": null,
   "metadata": {},
   "outputs": [],
   "source": []
  }
 ]
}