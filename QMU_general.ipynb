{
 "metadata": {
  "language_info": {
   "codemirror_mode": {
    "name": "ipython",
    "version": 3
   },
   "file_extension": ".py",
   "mimetype": "text/x-python",
   "name": "python",
   "nbconvert_exporter": "python",
   "pygments_lexer": "ipython3",
   "version": "3.9.16"
  },
  "orig_nbformat": 4,
  "kernelspec": {
   "name": "python3",
   "display_name": "Python 3.9.16 64-bit"
  },
  "interpreter": {
   "hash": "4cd7ab41f5fca4b9b44701077e38c5ffd31fe66a6cab21e0214b68d958d0e462"
  }
 },
 "nbformat": 4,
 "nbformat_minor": 2,
 "cells": [
  {
   "source": [
    "# Visualize the molecule"
   ],
   "cell_type": "markdown",
   "metadata": {}
  },
  {
   "cell_type": "code",
   "execution_count": 215,
   "metadata": {},
   "outputs": [
    {
     "output_type": "display_data",
     "data": {
      "application/3dmoljs_load.v0": "<div id=\"3dmolviewer_16866081795560699\"  style=\"position: relative; width: 500px; height: 250px\">\n        <p id=\"3dmolwarning_16866081795560699\" style=\"background-color:#ffcccc;color:black\">You appear to be running in JupyterLab (or JavaScript failed to load for some other reason).  You need to install the 3dmol extension: <br>\n        <tt>jupyter labextension install jupyterlab_3dmol</tt></p>\n        </div>\n<script>\n\nvar loadScriptAsync = function(uri){\n  return new Promise((resolve, reject) => {\n    //this is to ignore the existence of requirejs amd\n    var savedexports, savedmodule;\n    if (typeof exports !== 'undefined') savedexports = exports;\n    else exports = {}\n    if (typeof module !== 'undefined') savedmodule = module;\n    else module = {}\n\n    var tag = document.createElement('script');\n    tag.src = uri;\n    tag.async = true;\n    tag.onload = () => {\n        exports = savedexports;\n        module = savedmodule;\n        resolve();\n    };\n  var firstScriptTag = document.getElementsByTagName('script')[0];\n  firstScriptTag.parentNode.insertBefore(tag, firstScriptTag);\n});\n};\n\nif(typeof $3Dmolpromise === 'undefined') {\n$3Dmolpromise = null;\n  $3Dmolpromise = loadScriptAsync('https://cdnjs.cloudflare.com/ajax/libs/3Dmol/2.0.1/3Dmol-min.js');\n}\n\nvar viewer_16866081795560699 = null;\nvar warn = document.getElementById(\"3dmolwarning_16866081795560699\");\nif(warn) {\n    warn.parentNode.removeChild(warn);\n}\n$3Dmolpromise.then(function() {\nviewer_16866081795560699 = $3Dmol.createViewer(document.getElementById(\"3dmolviewer_16866081795560699\"),{backgroundColor:\"white\"});\nviewer_16866081795560699.zoomTo();\n\tviewer_16866081795560699.addModel(\"1\\n     RDKit          3D\\n\\n 20 20  0  0  0  0  0  0  0  0999 V2000\\n    1.7840    2.2110   -8.1700 C   0  0  0  0  0  0  0  0  0  0  0  0\\n    0.7290    1.4990   -7.5370 O   0  0  0  0  0  0  0  0  0  0  0  0\\n    1.2140    0.6560   -6.4960 C   0  0  0  0  0  0  0  0  0  0  0  0\\n    0.0280   -0.0630   -5.8690 C   0  0  0  0  0  0  0  0  0  0  0  0\\n    0.4790   -0.9670   -4.7350 C   0  0  0  0  0  0  0  0  0  0  0  0\\n   -0.8980   -1.8470   -4.0100 S   0  0  0  0  0  6  0  0  0  0  0  0\\n   -1.8630   -0.8720   -3.5470 O   0  0  0  0  0  0  0  0  0  0  0  0\\n   -1.2800   -2.9260   -4.8950 O   0  0  0  0  0  0  0  0  0  0  0  0\\n   -0.1540   -2.5350   -2.6510 N   0  0  0  0  0  0  0  0  0  0  0  0\\n    0.6500   -3.7510   -2.8900 C   0  0  0  0  0  0  0  0  0  0  0  0\\n   -0.9920   -2.6380   -1.4290 C   0  0  0  0  0  0  0  0  0  0  0  0\\n   -0.5010   -1.7700   -0.3090 C   0  0  1  0  0  0  0  0  0  0  0  0\\n    0.9140   -1.5150   -0.2680 O   0  0  0  0  0  0  0  0  0  0  0  0\\n    0.0670   -0.3880   -0.5330 C   0  0  2  0  0  0  0  0  0  0  0  0\\n    0.0070    0.6730    0.5250 C   0  0  0  0  0  0  0  0  0  0  0  0\\n    0.5490    0.2640    1.8960 C   0  0  0  0  0  0  0  0  0  0  0  0\\n    0.4370    1.4100    2.9040 C   0  0  0  0  0  0  0  0  0  0  0  0\\n    0.9970    1.0040    4.2680 C   0  0  0  0  0  0  0  0  0  0  0  0\\n    0.8710    2.1190    5.2660 C   0  0  0  0  0  0  0  0  0  0  0  0\\n    0.1590    2.0360    6.3970 C   0  0  0  0  0  0  0  0  0  0  0  0\\n  1  2  1  0\\n  2  3  1  0\\n  3  4  1  0\\n  4  5  1  0\\n  5  6  1  0\\n  6  7  2  0\\n  6  8  2  0\\n  6  9  1  0\\n  9 10  1  0\\n  9 11  1  0\\n 12 11  1  6\\n 12 13  1  0\\n 13 14  1  0\\n 14 12  1  0\\n 14 15  1  1\\n 15 16  1  0\\n 16 17  1  0\\n 17 18  1  0\\n 18 19  1  0\\n 19 20  2  0\\nM  END\\n\",\"mol\");\n\tviewer_16866081795560699.setStyle({\"stick\": {}});\n\tviewer_16866081795560699.zoomTo();\nviewer_16866081795560699.render();\n});\n</script>",
      "text/html": "<div id=\"3dmolviewer_16866081795560699\"  style=\"position: relative; width: 500px; height: 250px\">\n        <p id=\"3dmolwarning_16866081795560699\" style=\"background-color:#ffcccc;color:black\">You appear to be running in JupyterLab (or JavaScript failed to load for some other reason).  You need to install the 3dmol extension: <br>\n        <tt>jupyter labextension install jupyterlab_3dmol</tt></p>\n        </div>\n<script>\n\nvar loadScriptAsync = function(uri){\n  return new Promise((resolve, reject) => {\n    //this is to ignore the existence of requirejs amd\n    var savedexports, savedmodule;\n    if (typeof exports !== 'undefined') savedexports = exports;\n    else exports = {}\n    if (typeof module !== 'undefined') savedmodule = module;\n    else module = {}\n\n    var tag = document.createElement('script');\n    tag.src = uri;\n    tag.async = true;\n    tag.onload = () => {\n        exports = savedexports;\n        module = savedmodule;\n        resolve();\n    };\n  var firstScriptTag = document.getElementsByTagName('script')[0];\n  firstScriptTag.parentNode.insertBefore(tag, firstScriptTag);\n});\n};\n\nif(typeof $3Dmolpromise === 'undefined') {\n$3Dmolpromise = null;\n  $3Dmolpromise = loadScriptAsync('https://cdnjs.cloudflare.com/ajax/libs/3Dmol/2.0.1/3Dmol-min.js');\n}\n\nvar viewer_16866081795560699 = null;\nvar warn = document.getElementById(\"3dmolwarning_16866081795560699\");\nif(warn) {\n    warn.parentNode.removeChild(warn);\n}\n$3Dmolpromise.then(function() {\nviewer_16866081795560699 = $3Dmol.createViewer(document.getElementById(\"3dmolviewer_16866081795560699\"),{backgroundColor:\"white\"});\nviewer_16866081795560699.zoomTo();\n\tviewer_16866081795560699.addModel(\"1\\n     RDKit          3D\\n\\n 20 20  0  0  0  0  0  0  0  0999 V2000\\n    1.7840    2.2110   -8.1700 C   0  0  0  0  0  0  0  0  0  0  0  0\\n    0.7290    1.4990   -7.5370 O   0  0  0  0  0  0  0  0  0  0  0  0\\n    1.2140    0.6560   -6.4960 C   0  0  0  0  0  0  0  0  0  0  0  0\\n    0.0280   -0.0630   -5.8690 C   0  0  0  0  0  0  0  0  0  0  0  0\\n    0.4790   -0.9670   -4.7350 C   0  0  0  0  0  0  0  0  0  0  0  0\\n   -0.8980   -1.8470   -4.0100 S   0  0  0  0  0  6  0  0  0  0  0  0\\n   -1.8630   -0.8720   -3.5470 O   0  0  0  0  0  0  0  0  0  0  0  0\\n   -1.2800   -2.9260   -4.8950 O   0  0  0  0  0  0  0  0  0  0  0  0\\n   -0.1540   -2.5350   -2.6510 N   0  0  0  0  0  0  0  0  0  0  0  0\\n    0.6500   -3.7510   -2.8900 C   0  0  0  0  0  0  0  0  0  0  0  0\\n   -0.9920   -2.6380   -1.4290 C   0  0  0  0  0  0  0  0  0  0  0  0\\n   -0.5010   -1.7700   -0.3090 C   0  0  1  0  0  0  0  0  0  0  0  0\\n    0.9140   -1.5150   -0.2680 O   0  0  0  0  0  0  0  0  0  0  0  0\\n    0.0670   -0.3880   -0.5330 C   0  0  2  0  0  0  0  0  0  0  0  0\\n    0.0070    0.6730    0.5250 C   0  0  0  0  0  0  0  0  0  0  0  0\\n    0.5490    0.2640    1.8960 C   0  0  0  0  0  0  0  0  0  0  0  0\\n    0.4370    1.4100    2.9040 C   0  0  0  0  0  0  0  0  0  0  0  0\\n    0.9970    1.0040    4.2680 C   0  0  0  0  0  0  0  0  0  0  0  0\\n    0.8710    2.1190    5.2660 C   0  0  0  0  0  0  0  0  0  0  0  0\\n    0.1590    2.0360    6.3970 C   0  0  0  0  0  0  0  0  0  0  0  0\\n  1  2  1  0\\n  2  3  1  0\\n  3  4  1  0\\n  4  5  1  0\\n  5  6  1  0\\n  6  7  2  0\\n  6  8  2  0\\n  6  9  1  0\\n  9 10  1  0\\n  9 11  1  0\\n 12 11  1  6\\n 12 13  1  0\\n 13 14  1  0\\n 14 12  1  0\\n 14 15  1  1\\n 15 16  1  0\\n 16 17  1  0\\n 17 18  1  0\\n 18 19  1  0\\n 19 20  2  0\\nM  END\\n\",\"mol\");\n\tviewer_16866081795560699.setStyle({\"stick\": {}});\n\tviewer_16866081795560699.zoomTo();\nviewer_16866081795560699.render();\n});\n</script>"
     },
     "metadata": {}
    }
   ],
   "source": [
    "from rdkit import Chem\n",
    "import py3Dmol\n",
    "mol_folder = './Molecules/'\n",
    "mol_fname = '20A12Rot_1.mol2'\n",
    "mol_filepath = mol_folder + mol_fname\n",
    "mol = Chem.MolFromMol2File(mol_filepath)\n",
    "mblock = Chem.MolToMolBlock(mol)\n",
    "view = py3Dmol.view(width=500, height=250)\n",
    "view.addModel(mblock, 'mol')\n",
    "view.setStyle({'stick':{}})\n",
    "view.zoomTo()\n",
    "view.show()\n"
   ]
  },
  {
   "source": [
    "# Input Variables"
   ],
   "cell_type": "markdown",
   "metadata": {}
  },
  {
   "cell_type": "code",
   "execution_count": 216,
   "metadata": {},
   "outputs": [
    {
     "output_type": "stream",
     "name": "stdout",
     "text": [
      "No. of atoms:  20\nCoordinates of atoms:\n0 \t: [1.784, 2.211, -8.17]\n1 \t: [0.729, 1.499, -7.537]\n2 \t: [1.214, 0.656, -6.496]\n3 \t: [0.028, -0.063, -5.869]\n4 \t: [0.479, -0.967, -4.735]\n5 \t: [-0.898, -1.847, -4.01]\n6 \t: [-1.863, -0.872, -3.547]\n7 \t: [-1.28, -2.926, -4.895]\n8 \t: [-0.154, -2.535, -2.651]\n9 \t: [0.65, -3.751, -2.89]\n10 \t: [-0.992, -2.638, -1.429]\n11 \t: [-0.501, -1.77, -0.309]\n12 \t: [0.914, -1.515, -0.268]\n13 \t: [0.067, -0.388, -0.533]\n14 \t: [0.007, 0.673, 0.525]\n15 \t: [0.549, 0.264, 1.896]\n16 \t: [0.437, 1.41, 2.904]\n17 \t: [0.997, 1.004, 4.268]\n18 \t: [0.871, 2.119, 5.266]\n19 \t: [0.159, 2.036, 6.397]\n"
     ]
    }
   ],
   "source": [
    "n_atoms_mol = mol.GetNumAtoms()  # no. of atoms in the molecule (excluding hydrogen atoms)\n",
    "print('No. of atoms: ', n_atoms_mol)\n",
    "conformers = mol.GetConformers()\n",
    "conf = conformers[0]\n",
    "coords_mol = {}  # Coordinates of the atoms\n",
    "for i in range(n_atoms_mol):\n",
    "    coords_mol[i] = list(conf.GetAtomPosition(i))\n",
    "print('Coordinates of atoms:')\n",
    "for i in coords_mol:\n",
    "    print(i, '\\t:', coords_mol[i])"
   ]
  },
  {
   "cell_type": "code",
   "execution_count": 217,
   "metadata": {},
   "outputs": [
    {
     "output_type": "stream",
     "name": "stdout",
     "text": [
      "{0: (4, 5), 1: (10, 11)}\n[2, 4, 5, 7, 9, 10, 11, 15]\n{6: [0], 7: [0], 8: [0], 9: [0], 10: [0], 11: [0], 12: [0, 1], 13: [0, 1], 14: [0, 1], 15: [0, 1], 16: [0, 1], 17: [0, 1], 18: [0, 1], 19: [0, 1]}\n{2: [7, 9, 10, 11, 15], 4: [7, 9, 10, 11, 15], 5: [7, 9, 10, 11, 15], 7: [15], 9: [15], 10: [15], 11: [15], 15: []}\n"
     ]
    }
   ],
   "source": [
    "input_folder = './Input_Rot_2/'\n",
    "input_fname = mol_fname[:-5] + '_input.txt'\n",
    "input_filepath = input_folder + input_fname\n",
    "input_lines = open(input_filepath, 'r').readlines()\n",
    "torsional_bonds_mol = eval(input_lines[0])\n",
    "median_list_mol = []\n",
    "for atoms in input_lines[1].split(','):\n",
    "    median_list_mol.append(int(atoms))\n",
    "coords_rotation_mol = eval(input_lines[2])\n",
    "distance_pairs_mol = eval(input_lines[3])\n",
    "print(torsional_bonds_mol)\n",
    "print(median_list_mol)\n",
    "print(coords_rotation_mol)\n",
    "print(distance_pairs_mol)"
   ]
  },
  {
   "cell_type": "code",
   "execution_count": 218,
   "metadata": {},
   "outputs": [],
   "source": [
    "# torsional_bonds_mol = { 0: (9, 10), 1: (19, 20)  }  # Torsional bond numbers and their respective coordinate ends\n",
    "# median_list_mol = [2, 6, 9, 10, 14, 19, 20, 23]  # List of atoms (median) considered for the HUBO construction\n",
    "# coords_rotation_mol = {11:[0], 12:[0], 13:[0], 14:[0], 15:[0], 16:[0], 17:[0], 18:[0], 19:[0], 20:[0], 21:[0,1], 22:[0,1], 23:[0,1], 24:[0,1] }  # atom index and the rotatable bond numbers list that affect them\n",
    "# distance_pairs_mol = {2:[14, 19, 20, 23], 6:[14, 19, 20, 23], 9:[14, 19, 20, 23], 10:[23], 14:[23], 19:[23], 20:[], 23:[] }  # indices dictionary to find distances"
   ]
  },
  {
   "cell_type": "code",
   "execution_count": 219,
   "metadata": {},
   "outputs": [
    {
     "output_type": "stream",
     "name": "stdout",
     "text": [
      "coords_median:  {0: [1.214, 0.656, -6.496], 1: [0.479, -0.967, -4.735], 2: [-0.898, -1.847, -4.01], 3: [-1.28, -2.926, -4.895], 4: [0.65, -3.751, -2.89], 5: [-0.992, -2.638, -1.429], 6: [-0.501, -1.77, -0.309], 7: [0.549, 0.264, 1.896]}\n\ntorsional_bonds:  {0: (1, 2), 1: (5, 6)}\n\ncoords_rotation_dict:  {3: [0], 4: [0], 5: [0], 6: [0], 7: [0, 1]}\n\ndistance pairs:  [(0, 3), (0, 4), (0, 5), (0, 6), (0, 7), (1, 3), (1, 4), (1, 5), (1, 6), (1, 7), (2, 3), (2, 4), (2, 5), (2, 6), (2, 7), (3, 7), (4, 7), (5, 7), (6, 7)]\n"
     ]
    }
   ],
   "source": [
    "import copy\n",
    "\n",
    "coords_median = {}\n",
    "for i, index in enumerate(median_list_mol):\n",
    "    coords_median[i] = coords_mol[index]\n",
    "coords_median_2 = copy.deepcopy(coords_median)\n",
    "print('coords_median: ', coords_median)\n",
    "\n",
    "torsional_bonds = {}\n",
    "for i in torsional_bonds_mol:\n",
    "    torsional_bonds[i] = (median_list_mol.index(torsional_bonds_mol[i][0]), median_list_mol.index(torsional_bonds_mol[i][1]))\n",
    "print('\\ntorsional_bonds: ', torsional_bonds)\n",
    "\n",
    "coords_rotation_dict = {}\n",
    "for atom in median_list_mol:\n",
    "    if atom in coords_rotation_mol.keys():\n",
    "        coords_rotation_dict[median_list_mol.index(atom)] = coords_rotation_mol[atom]\n",
    "print('\\ncoords_rotation_dict: ', coords_rotation_dict)\n",
    "\n",
    "distance_pairs = []\n",
    "for x, y in distance_pairs_mol.items():\n",
    "    u = median_list_mol.index(x)\n",
    "    for i in y:\n",
    "        v = median_list_mol.index(i)\n",
    "        distance_pairs.append((u, v))\n",
    "print('\\ndistance pairs: ', distance_pairs)\n",
    "\n"
   ]
  },
  {
   "cell_type": "code",
   "execution_count": 220,
   "metadata": {},
   "outputs": [
    {
     "output_type": "stream",
     "name": "stdout",
     "text": [
      "(x0, x1, x2, x3, x4, x5, x6, x7, x8, x9, x10, x11, x12, x13, x14, x15)\n"
     ]
    }
   ],
   "source": [
    "import sympy as sp\n",
    "n_bonds = len(torsional_bonds)  # no. of bonds\n",
    "n_angles = 8  # no. of discrete angles\n",
    "x = sp.symbols(f'x(0:{n_bonds*n_angles})')  # hubo variables\n",
    "print(x)"
   ]
  },
  {
   "source": [
    "# Function to generate hard constraint"
   ],
   "cell_type": "markdown",
   "metadata": {}
  },
  {
   "cell_type": "code",
   "execution_count": 221,
   "metadata": {},
   "outputs": [],
   "source": [
    "# generate hard constraint\n",
    "def generate_hard_hubo():\n",
    "    hard_constraint = 0\n",
    "    index = 0\n",
    "    for i in range(n_bonds):\n",
    "        summation = 0\n",
    "        for j in range(n_angles):\n",
    "            summation += x[index]\n",
    "            index += 1\n",
    "        hard_constraint += (summation - 1) ** 2\n",
    "    a_const = sp.Symbol('A_const')\n",
    "    hard_constraint *= a_const\n",
    "    return hard_constraint"
   ]
  },
  {
   "source": [
    "# Functions to rotate coordinates with hubo variables"
   ],
   "cell_type": "markdown",
   "metadata": {}
  },
  {
   "cell_type": "code",
   "execution_count": 222,
   "metadata": {},
   "outputs": [],
   "source": [
    "def rotate_coordinates(rotation_matrix, old_coords):\n",
    "    coord_vector = ones(4, 1)\n",
    "    coord_vector[0, 0] = old_coords[0]\n",
    "    coord_vector[1, 0] = old_coords[1]\n",
    "    coord_vector[2, 0] = old_coords[2]\n",
    "    coord_rot_vector = sp.expand(rotation_matrix * coord_vector)\n",
    "    return [coord_rot_vector[0, 0], coord_rot_vector[1, 0], coord_rot_vector[2, 0]]"
   ]
  },
  {
   "cell_type": "code",
   "execution_count": 223,
   "metadata": {},
   "outputs": [],
   "source": [
    "def generate_thetas():\n",
    "    angle_incr = 2 * sp.pi / n_angles\n",
    "    thetas = [i*angle_incr for i in range(n_angles)]\n",
    "    return thetas"
   ]
  },
  {
   "cell_type": "code",
   "execution_count": 224,
   "metadata": {},
   "outputs": [],
   "source": [
    "def rotation_matrix_hubo(first_coords, second_coords, bond_no):\n",
    "    x_dash, y_dash, z_dash = first_coords[0], first_coords[1], first_coords[2]\n",
    "    x_ddash, y_ddash, z_ddash = second_coords[0], second_coords[1], second_coords[2]\n",
    "    dx = x_ddash - x_dash\n",
    "    dy = y_ddash - y_dash\n",
    "    dz = z_ddash - z_dash\n",
    "    l_sq = dx ** 2 + dy ** 2 + dz ** 2\n",
    "    l = sp.sqrt(l_sq)\n",
    "    thetas = generate_thetas()\n",
    "    c_theta = 0.0\n",
    "    s_theta = 0.0\n",
    "    index = n_angles * bond_no\n",
    "    for i in range(n_angles):\n",
    "        c_theta += sp.cos(thetas[i]) * x[index]\n",
    "        s_theta += sp.sin(thetas[i]) * x[index]\n",
    "        index += 1\n",
    "    rotation_matrix = eye(4)\n",
    "    rotation_matrix[0, 0] = (dx ** 2 + (dy ** 2 + dz ** 2) * c_theta) / l_sq\n",
    "    rotation_matrix[0, 1] = (dx * dy * (1 - c_theta) - dz * l * s_theta) / l_sq\n",
    "    rotation_matrix[0, 2] = (dx * dz * (1 - c_theta) + dy * l * s_theta) / l_sq\n",
    "    rotation_matrix[0, 3] = ((x_dash * (dy ** 2 + dz ** 2) - dx * (y_dash * dy + z_dash * dz)) * (1 - c_theta) + (\n",
    "            y_dash * dz - z_dash * dy) * l * s_theta) / l_sq\n",
    "    rotation_matrix[1, 0] = (dx * dy * (1 - c_theta) + dz * l * s_theta) / l_sq\n",
    "    rotation_matrix[1, 1] = (dy ** 2 + (dx ** 2 + dz ** 2) * c_theta) / l_sq\n",
    "    rotation_matrix[1, 2] = (dy * dz * (1 - c_theta) - dx * l * s_theta) / l_sq\n",
    "    rotation_matrix[1, 3] = ((y_dash * (dx ** 2 + dz ** 2) - dy * (x_dash * dx + z_dash * dz)) * (1 - c_theta) + (\n",
    "            z_dash * dx - x_dash * dz) * l * s_theta) / l_sq\n",
    "    rotation_matrix[2, 0] = (dx * dz * (1 - c_theta) - dy * l * s_theta) / l_sq\n",
    "    rotation_matrix[2, 1] = (dy * dz * (1 - c_theta) + dx * l * s_theta) / l_sq\n",
    "    rotation_matrix[2, 2] = (dz ** 2 + (dx ** 2 + dy ** 2) * c_theta) / l_sq\n",
    "    rotation_matrix[2, 3] = ((z_dash * (dx ** 2 + dy ** 2) - dz * (x_dash * dx + y_dash * dy)) * (1 - c_theta) + (\n",
    "            x_dash * dy - y_dash * dx) * l * s_theta) / l_sq\n",
    "    return rotation_matrix"
   ]
  },
  {
   "cell_type": "code",
   "execution_count": 225,
   "metadata": {},
   "outputs": [
    {
     "output_type": "stream",
     "name": "stdout",
     "text": [
      "The time of execution:  4.566805362701416 seconds\n"
     ]
    }
   ],
   "source": [
    "from sympy.matrices import ones, eye\n",
    "import time\n",
    "start = time.time()\n",
    "\n",
    "for i in coords_rotation_dict:\n",
    "    rot_mat = eye(4, 4)\n",
    "    for bond_no in coords_rotation_dict[i]:\n",
    "        temp_rot_mat = rotation_matrix_hubo(coords_median[torsional_bonds[bond_no][0]], coords_median[torsional_bonds[bond_no][1]], bond_no)\n",
    "        rot_mat = rot_mat * temp_rot_mat\n",
    "    coords_median_2[i] = rotate_coordinates(rot_mat, coords_median[i])\n",
    "\n",
    "end = time.time()\n",
    "print(\"The time of execution: \", (end-start), \"seconds\")"
   ]
  },
  {
   "source": [
    "# Functions to generate the optimization contraint in hubo"
   ],
   "cell_type": "markdown",
   "metadata": {}
  },
  {
   "cell_type": "code",
   "execution_count": 226,
   "metadata": {},
   "outputs": [],
   "source": [
    "def distance_squared(first_coords, second_coords):\n",
    "    dis_sq = (second_coords[0] - first_coords[0])**2 + (second_coords[1] - first_coords[1])**2 + (second_coords[2] - first_coords[2])**2\n",
    "    return dis_sq\n",
    "\n",
    "def generate_distance_hubo():\n",
    "    distance_sq = 0\n",
    "    for pair in distance_pairs:\n",
    "        distance_sq += distance_squared(coords_median_2[pair[0]], coords_median_2[pair[1]])\n",
    "    return distance_sq.expand()"
   ]
  },
  {
   "cell_type": "code",
   "execution_count": 227,
   "metadata": {
    "tags": []
   },
   "outputs": [
    {
     "output_type": "stream",
     "name": "stdout",
     "text": [
      "The time of execution:  84.97041845321655 seconds\n"
     ]
    }
   ],
   "source": [
    "start = time.time()\n",
    "\n",
    "hard_constraint = generate_hard_hubo()\n",
    "distance_constraint = generate_distance_hubo()\n",
    "hubo_expr = sp.expand(hard_constraint - distance_constraint)\n",
    "\n",
    "end = time.time()\n",
    "print(\"The time of execution: \", (end-start), \"seconds\")"
   ]
  },
  {
   "source": [
    "# The full hubo expression is written in the file 'full_hubo_expr.txt'"
   ],
   "cell_type": "markdown",
   "metadata": {}
  },
  {
   "cell_type": "code",
   "execution_count": 228,
   "metadata": {},
   "outputs": [],
   "source": [
    "def hubo_expr_to_dict():\n",
    "    hubo_args = hubo_expr.args\n",
    "    hubo_dict = {}\n",
    "    for monom in hubo_args:\n",
    "        dict_value = monom.as_coeff_mul()[0]\n",
    "        monom_key = []\n",
    "        monom_coeffs = monom.as_coeff_mul()[1]\n",
    "        for monom_item in monom_coeffs:\n",
    "            if re.match(\"^x(\\d*)\\d$\", str(monom_item)):\n",
    "                monom_key.append(int(str(monom_item)[1:]))\n",
    "            elif re.match(\"^x(\\d*)\\\\*\\\\*(\\d)$\", str(monom_item)):\n",
    "                monom_key.append(int(str(monom_item).split('**')[0][1:]))\n",
    "            else:\n",
    "                dict_value *= monom_item\n",
    "        if len(monom_key) > 0:\n",
    "            monom_key.sort()\n",
    "            dict_key = tuple(monom_key)\n",
    "        else:\n",
    "            dict_key = ()\n",
    "        dict_value = dict_value.evalf()\n",
    "        if dict_key in hubo_dict:\n",
    "            hubo_dict[dict_key] += dict_value\n",
    "        else:\n",
    "            hubo_dict[dict_key] = dict_value\n",
    "    return hubo_dict"
   ]
  },
  {
   "cell_type": "code",
   "execution_count": 229,
   "metadata": {
    "tags": []
   },
   "outputs": [],
   "source": [
    "import re\n",
    "hubo_dict = hubo_expr_to_dict()"
   ]
  },
  {
   "cell_type": "code",
   "execution_count": 230,
   "metadata": {},
   "outputs": [
    {
     "output_type": "stream",
     "name": "stdout",
     "text": [
      "full hubo dictionary written in file - ./Hubo_Rot_2/20A12Rot_1_hubo.txt\n"
     ]
    }
   ],
   "source": [
    "hubo_folder = './Hubo_Rot_2/'\n",
    "hubo_fname = mol_fname[:-5] + '_hubo.txt'\n",
    "hubo_filepath = hubo_folder + hubo_fname\n",
    "f = open(hubo_filepath, \"w\")\n",
    "print('full hubo dictionary written in file - ' + hubo_filepath)\n",
    "f.write(str(hubo_dict))\n",
    "f.close()"
   ]
  },
  {
   "cell_type": "code",
   "execution_count": 231,
   "metadata": {},
   "outputs": [],
   "source": [
    "#This is used to check the maximum coefficient appearing in Hubo_B\n",
    "A_const=0\n",
    "read_dictionary_B = open(hubo_filepath, 'r').read()\n",
    "HUBO_B=eval(read_dictionary_B)\n",
    "\n",
    "#We set the Hard constraint strength as the (maximum coefficient appearing in Hubo_B)*const.\n",
    "#const was empirically selected to be 10\n",
    "const=10\n",
    "A_const=max(map(abs, list(HUBO_B.values())))*const\n",
    "# A_const = 1000\n",
    "\n",
    "#read the final HUBO\n",
    "read_dictionary= open(hubo_filepath, 'r').read()\n",
    "HUBO=eval(read_dictionary)"
   ]
  },
  {
   "cell_type": "code",
   "execution_count": 232,
   "metadata": {},
   "outputs": [
    {
     "output_type": "stream",
     "name": "stdout",
     "text": [
      "Current size of the HUBO: 1369\n"
     ]
    }
   ],
   "source": [
    "print(\"Current size of the HUBO:\",len(HUBO)) "
   ]
  },
  {
   "cell_type": "code",
   "execution_count": 233,
   "metadata": {},
   "outputs": [],
   "source": [
    "def threshold_approx(h, val=1):\n",
    "    d =h.copy()\n",
    "    monoms = h.keys()\n",
    "    for m in monoms:     \n",
    "        temp = d[m]\n",
    "        if (temp < 0.0):\n",
    "            temp = -1.0 * temp\n",
    "        if (temp <= (10.0 ** (val))):\n",
    "            del d[m]\n",
    "    return d"
   ]
  },
  {
   "cell_type": "code",
   "execution_count": 234,
   "metadata": {},
   "outputs": [
    {
     "output_type": "stream",
     "name": "stdout",
     "text": [
      "Size of the HUBO after threshold approximation: 73\n"
     ]
    }
   ],
   "source": [
    "#Coefficints with absolute value less than 10^{threshold} are deleted from the HUBO.\n",
    "threshold=2\n",
    "\n",
    "HUBO=threshold_approx(HUBO,threshold)\n",
    "\n",
    "print(\"Size of the HUBO after threshold approximation:\",len(HUBO))"
   ]
  },
  {
   "cell_type": "code",
   "execution_count": 235,
   "metadata": {},
   "outputs": [],
   "source": [
    "import dimod\n",
    "#calculate the strength parameter needed by make_quadratic\n",
    "max_hubo_value=max(map(abs, list(HUBO.values())))\n",
    "strength=1.5*max_hubo_value\n",
    "#generate the bqm\n",
    "bqm = dimod.make_quadratic(HUBO, strength, dimod.BINARY)"
   ]
  },
  {
   "cell_type": "code",
   "execution_count": 236,
   "metadata": {},
   "outputs": [],
   "source": [
    "def find_bond_theta_soln(solution):\n",
    "    thetas = generate_thetas()\n",
    "    bond_theta_soln = {}\n",
    "    for key, value in solution.items():\n",
    "        if solution[key] == 1:\n",
    "            bond_theta_soln[key//n_angles] = thetas[key%n_angles]\n",
    "    return bond_theta_soln"
   ]
  },
  {
   "cell_type": "code",
   "execution_count": 237,
   "metadata": {},
   "outputs": [
    {
     "output_type": "stream",
     "name": "stdout",
     "text": [
      "The time of execution:  0.01174783706665039 s\n   0  1  2  3  4  5  6  7  8  9 10 11 12 13 14 15      energy num_oc.\n8  0  0  0  0  0  0  0  1  0  0  0  1  0  0  0  0 -530.164013       1\n6  0  0  0  0  0  0  0  1  0  0  0  0  0  1  0  0 -527.063561       1\n5  1  0  0  0  0  0  0  0  0  1  0  0  0  0  0  0 -523.744433       1\n4  0  0  0  0  0  1  0  0  0  0  0  0  0  0  1  0 -482.641003       1\n0  0  0  0  0  0  1  0  0  0  0  0  0  0  0  0  1 -482.118454       1\n3  0  0  1  0  0  0  0  0  0  0  1  0  0  0  0  0  -478.17086       1\n7  0  0  0  0  1  0  0  0  0  0  1  0  0  0  0  0 -465.261626       1\n9  0  0  0  0  1  0  0  0  0  0  0  0  1  0  0  0 -465.181019       1\n2  0  0  0  1  0  0  0  0  0  0  0  1  0  0  0  0 -462.795309       1\n1  0  0  1  1  0  0  0  0  0  0  0  0  0  0  1  0 5478.993564       1\n['BINARY', 10 rows, 10 samples, 16 variables]\n"
     ]
    }
   ],
   "source": [
    "import neal\n",
    "sampler = neal.SimulatedAnnealingSampler()\n",
    "sample_size=10\n",
    "start = time.time()\n",
    "sampleset = sampler.sample(bqm, num_reads=sample_size)\n",
    "end = time.time()\n",
    "print(\"The time of execution: \", (end-start), \"s\")\n",
    "print(sampleset)"
   ]
  },
  {
   "cell_type": "code",
   "execution_count": 238,
   "metadata": {},
   "outputs": [
    {
     "output_type": "stream",
     "name": "stdout",
     "text": [
      "{0: 0, 1: 0, 2: 0, 3: 0, 4: 0, 5: 0, 6: 0, 7: 1, 8: 0, 9: 0, 10: 0, 11: 1, 12: 0, 13: 0, 14: 0, 15: 0}\n{0: 7*pi/4, 1: 3*pi/4}\n"
     ]
    }
   ],
   "source": [
    "sa_soln = sampleset.first.sample\n",
    "print(sa_soln)\n",
    "bond_theta_soln = find_bond_theta_soln(sa_soln)\n",
    "print(bond_theta_soln)"
   ]
  },
  {
   "cell_type": "code",
   "execution_count": 239,
   "metadata": {
    "tags": []
   },
   "outputs": [
    {
     "output_type": "stream",
     "name": "stdout",
     "text": [
      "The time of execution:  0.23360204696655273 s\n",
      "   0  1  2  3  4  5  6  7  8  9 10 11 12 13 14 15      energy num_oc. ...\n",
      "0  0  0  0  0  0  0  0  1  0  0  0  1  0  0  0  0 -530.164013       9 ...\n",
      "1  0  0  0  0  0  0  0  1  0  0  1  0  0  0  0  0 -529.219029       3 ...\n",
      "2  0  0  0  0  0  0  0  1  0  0  0  0  1  0  0  0 -529.138422      10 ...\n",
      "3  0  0  0  0  0  0  0  1  0  1  0  0  0  0  0  0 -527.155735       4 ...\n",
      "4  0  0  0  0  0  0  0  1  0  0  0  0  0  1  0  0 -527.063561       4 ...\n",
      "5  1  0  0  0  0  0  0  0  0  0  0  1  0  0  0  0 -526.752712      13 ...\n",
      "6  1  0  0  0  0  0  0  0  0  0  1  0  0  0  0  0 -525.807727      11 ...\n",
      "7  1  0  0  0  0  0  0  0  0  0  0  0  1  0  0  0 -525.727121       9 ...\n",
      "8  0  0  0  0  0  0  0  1  1  0  0  0  0  0  0  0 -525.503309       5 ...\n",
      "9  0  0  0  0  0  0  0  1  0  0  0  0  0  0  1  0 -525.453562       7 ...\n",
      "['BINARY', 10 rows, 75 samples, 16 variables]\n"
     ]
    }
   ],
   "source": [
    "from dwave.system import DWaveSampler, EmbeddingComposite\n",
    "sampler = EmbeddingComposite(DWaveSampler())\n",
    "start = time.time()\n",
    "sampleset = sampler.sample(bqm, num_reads=1000)\n",
    "end = time.time()\n",
    "print(\"The time of execution: \", (end-start), \"s\")\n",
    "print(sampleset.slice(10))"
   ]
  },
  {
   "cell_type": "code",
   "execution_count": 240,
   "metadata": {},
   "outputs": [
    {
     "output_type": "stream",
     "name": "stdout",
     "text": [
      "{0: 0, 1: 0, 2: 0, 3: 0, 4: 0, 5: 0, 6: 0, 7: 1, 8: 0, 9: 0, 10: 0, 11: 1, 12: 0, 13: 0, 14: 0, 15: 0}\n{0: 7*pi/4, 1: 3*pi/4}\n"
     ]
    }
   ],
   "source": [
    "qa_soln = sampleset.first.sample\n",
    "print(qa_soln)\n",
    "bond_theta_soln = find_bond_theta_soln(qa_soln)\n",
    "print(bond_theta_soln)"
   ]
  },
  {
   "cell_type": "code",
   "execution_count": 241,
   "metadata": {},
   "outputs": [],
   "source": [
    "def rotation_matrix_new_coords(first_coords, second_coords, bond_no, soln_theta):\n",
    "    x_dash, y_dash, z_dash = first_coords[0], first_coords[1], first_coords[2]\n",
    "    x_ddash, y_ddash, z_ddash = second_coords[0], second_coords[1], second_coords[2]\n",
    "    dx = x_ddash - x_dash\n",
    "    dy = y_ddash - y_dash\n",
    "    dz = z_ddash - z_dash\n",
    "    l_sq = dx ** 2 + dy ** 2 + dz ** 2\n",
    "    l = sp.sqrt(l_sq)\n",
    "    c_theta = sp.cos(soln_theta)\n",
    "    s_theta = sp.sin(soln_theta)\n",
    "    index = n_angles * bond_no\n",
    "    rotation_matrix = eye(4)\n",
    "    rotation_matrix[0, 0] = ((dx ** 2 + (dy ** 2 + dz ** 2) * c_theta) / l_sq).evalf()\n",
    "    rotation_matrix[0, 1] = ((dx * dy * (1 - c_theta) - dz * l * s_theta) / l_sq).evalf()\n",
    "    rotation_matrix[0, 2] = ((dx * dz * (1 - c_theta) + dy * l * s_theta) / l_sq).evalf()\n",
    "    rotation_matrix[0, 3] = (((x_dash * (dy ** 2 + dz ** 2) - dx * (y_dash * dy + z_dash * dz)) * (1 - c_theta) + (\n",
    "            y_dash * dz - z_dash * dy) * l * s_theta) / l_sq).evalf()\n",
    "    rotation_matrix[1, 0] = ((dx * dy * (1 - c_theta) + dz * l * s_theta) / l_sq).evalf()\n",
    "    rotation_matrix[1, 1] = ((dy ** 2 + (dx ** 2 + dz ** 2) * c_theta) / l_sq).evalf()\n",
    "    rotation_matrix[1, 2] = ((dy * dz * (1 - c_theta) - dx * l * s_theta) / l_sq).evalf()\n",
    "    rotation_matrix[1, 3] = (((y_dash * (dx ** 2 + dz ** 2) - dy * (x_dash * dx + z_dash * dz)) * (1 - c_theta) + (\n",
    "            z_dash * dx - x_dash * dz) * l * s_theta) / l_sq).evalf()\n",
    "    rotation_matrix[2, 0] = ((dx * dz * (1 - c_theta) - dy * l * s_theta) / l_sq).evalf()\n",
    "    rotation_matrix[2, 1] = ((dy * dz * (1 - c_theta) + dx * l * s_theta) / l_sq).evalf()\n",
    "    rotation_matrix[2, 2] = ((dz ** 2 + (dx ** 2 + dy ** 2) * c_theta) / l_sq).evalf()\n",
    "    rotation_matrix[2, 3] = (((z_dash * (dx ** 2 + dy ** 2) - dz * (x_dash * dx + y_dash * dy)) * (1 - c_theta) + (\n",
    "            x_dash * dy - y_dash * dx) * l * s_theta) / l_sq).evalf()\n",
    "    return rotation_matrix"
   ]
  },
  {
   "cell_type": "code",
   "execution_count": 242,
   "metadata": {},
   "outputs": [],
   "source": [
    "def compute_new_coords(solution):\n",
    "    final_coords = copy.deepcopy(coords_mol)\n",
    "    for i in coords_rotation_mol:\n",
    "        if len(coords_rotation_mol[i]) > 0:\n",
    "            rot_mat = eye(4, 4)\n",
    "            for bond_no in coords_rotation_mol[i]:\n",
    "                temp_rot_mat = rotation_matrix_new_coords(coords_mol[torsional_bonds_mol[bond_no][0]], coords_mol[torsional_bonds_mol[bond_no][1]], bond_no, solution[bond_no])\n",
    "                rot_mat = rot_mat * temp_rot_mat\n",
    "            final_coords[i] = rotate_coordinates(rot_mat, coords_mol[i])\n",
    "    return final_coords\n"
   ]
  },
  {
   "cell_type": "code",
   "execution_count": 243,
   "metadata": {},
   "outputs": [
    {
     "output_type": "execute_result",
     "data": {
      "text/plain": [
       "{0: [1.784, 2.211, -8.17],\n",
       " 1: [0.729, 1.499, -7.537],\n",
       " 2: [1.214, 0.656, -6.496],\n",
       " 3: [0.028, -0.063, -5.869],\n",
       " 4: [0.479, -0.967, -4.735],\n",
       " 5: [-0.898, -1.847, -4.01],\n",
       " 6: [-1.24138894337648, -1.19805583668886, -2.76213201560775],\n",
       " 7: [-1.89078372368214, -2.08567535289794, -5.03508758353171],\n",
       " 8: [-0.167636577116067, -3.33265446848125, -3.64508758476183],\n",
       " 9: [-0.00446405072603651, -4.27591935725347, -4.77017383756249],\n",
       " 10: [-0.633242671029962, -4.00254032910638, -2.40387813465086],\n",
       " 11: [0.431914904945402, -4.08891906361392, -1.35179303706266],\n",
       " 12: [0.305431979216954, -3.19058104834707, -0.235584329057931],\n",
       " 13: [0.161338928517442, -4.58938630731519, 0.0478659138829259],\n",
       " 14: [1.23436594209187, -5.22136665551148, 0.883269329983943],\n",
       " 15: [2.52366914678451, -4.40909568368011, 1.01964790120906],\n",
       " 16: [3.55460284055266, -5.14069743478224, 1.88212027574512],\n",
       " 17: [4.83482783433540, -4.31759884913246, 2.03200250816544],\n",
       " 18: [5.85707006347297, -5.04043553014971, 2.86123887829389],\n",
       " 19: [7.06445198996251, -5.40581227869379, 2.41210335842292]}"
      ]
     },
     "metadata": {},
     "execution_count": 243
    }
   ],
   "source": [
    "compute_new_coords(bond_theta_soln)"
   ]
  },
  {
   "cell_type": "code",
   "execution_count": 244,
   "metadata": {},
   "outputs": [],
   "source": [
    "def find_volume_change(old_coords, new_coords):\n",
    "    n = len(old_coords)\n",
    "    old_distance_sq = 0\n",
    "    for i in range(n-1):\n",
    "        for j in range(i+1, n):\n",
    "            old_distance_sq += distance_squared(old_coords[i], old_coords[j])\n",
    "    \n",
    "    new_distance_sq = 0\n",
    "    for i in range(n-1):\n",
    "        for j in range(i+1, n):\n",
    "            new_distance_sq += distance_squared(new_coords[i], new_coords[j])\n",
    "    # print(\"new volume: \", new_distance_sq.evalf())\n",
    "    # print(\"old volume: \", old_distance_sq)\n",
    "    # print('change in volume: ', new_distance_sq.evalf() - old_distance_sq)\n",
    "    return new_distance_sq.evalf() - old_distance_sq"
   ]
  },
  {
   "cell_type": "code",
   "execution_count": 245,
   "metadata": {},
   "outputs": [],
   "source": [
    "# bond_theta_soln = {0: 0, 1: sp.pi}\n",
    "# bond_theta_soln = {0: sp.pi/4}\n",
    "# bond_theta_soln = {0: 2*sp.pi/4}\n",
    "# bond_theta_soln = {0: 3*sp.pi/4}\n",
    "# bond_theta_soln = {0: 4*sp.pi/4}\n",
    "# bond_theta_soln = {0: 5*sp.pi/4}\n",
    "# bond_theta_soln = {0: 6*sp.pi/4}\n",
    "# bond_theta_soln = {0: 7*sp.pi/4}"
   ]
  },
  {
   "cell_type": "code",
   "execution_count": 246,
   "metadata": {},
   "outputs": [
    {
     "output_type": "stream",
     "name": "stdout",
     "text": [
      "change in volume:  575.708976274458\n"
     ]
    }
   ],
   "source": [
    "new_coords = compute_new_coords(bond_theta_soln)\n",
    "volume_change = find_volume_change(coords_mol, new_coords)\n",
    "print('change in volume: ', volume_change)"
   ]
  },
  {
   "cell_type": "code",
   "execution_count": 247,
   "metadata": {},
   "outputs": [
    {
     "output_type": "stream",
     "name": "stdout",
     "text": [
      "The time of execution:  16.138725996017456 s\nbest solution:  {0: 7*pi/4, 1: pi/2}\nbest volume change:  630.390224485020\n"
     ]
    }
   ],
   "source": [
    "# brute force solution\n",
    "start = time.time()\n",
    "thetas = generate_thetas()\n",
    "best_volume_change = 0\n",
    "best_soln = {}\n",
    "for i in range(8):\n",
    "    for j in range(8):\n",
    "        bond_theta_soln = {0: thetas[i], 1: thetas[j]}\n",
    "        new_coords = compute_new_coords(bond_theta_soln)\n",
    "        vol_difference = find_volume_change(coords_mol, new_coords)\n",
    "        if vol_difference > best_volume_change:\n",
    "            best_volume_change = vol_difference\n",
    "            best_soln = bond_theta_soln\n",
    "end = time.time()\n",
    "print(\"The time of execution: \", (end-start), \"s\")    \n",
    "print('best solution: ', best_soln)\n",
    "print('best volume change: ', best_volume_change)\n",
    "\n",
    "\n"
   ]
  },
  {
   "cell_type": "code",
   "execution_count": 105,
   "metadata": {},
   "outputs": [],
   "source": [
    "from rdkit.Geometry import Point3D\n",
    "conf = mol.GetConformer()\n",
    "for i in range(len(coords_mol)):\n",
    "    x, y, z = new_coords[i]\n",
    "    conf.SetAtomPosition(i, Point3D(float(x), float(y), float(z)))"
   ]
  },
  {
   "cell_type": "code",
   "execution_count": 106,
   "metadata": {},
   "outputs": [
    {
     "output_type": "display_data",
     "data": {
      "application/3dmoljs_load.v0": "<div id=\"3dmolviewer_16866051226131496\"  style=\"position: relative; width: 500px; height: 250px\">\n        <p id=\"3dmolwarning_16866051226131496\" style=\"background-color:#ffcccc;color:black\">You appear to be running in JupyterLab (or JavaScript failed to load for some other reason).  You need to install the 3dmol extension: <br>\n        <tt>jupyter labextension install jupyterlab_3dmol</tt></p>\n        </div>\n<script>\n\nvar loadScriptAsync = function(uri){\n  return new Promise((resolve, reject) => {\n    //this is to ignore the existence of requirejs amd\n    var savedexports, savedmodule;\n    if (typeof exports !== 'undefined') savedexports = exports;\n    else exports = {}\n    if (typeof module !== 'undefined') savedmodule = module;\n    else module = {}\n\n    var tag = document.createElement('script');\n    tag.src = uri;\n    tag.async = true;\n    tag.onload = () => {\n        exports = savedexports;\n        module = savedmodule;\n        resolve();\n    };\n  var firstScriptTag = document.getElementsByTagName('script')[0];\n  firstScriptTag.parentNode.insertBefore(tag, firstScriptTag);\n});\n};\n\nif(typeof $3Dmolpromise === 'undefined') {\n$3Dmolpromise = null;\n  $3Dmolpromise = loadScriptAsync('https://cdnjs.cloudflare.com/ajax/libs/3Dmol/2.0.1/3Dmol-min.js');\n}\n\nvar viewer_16866051226131496 = null;\nvar warn = document.getElementById(\"3dmolwarning_16866051226131496\");\nif(warn) {\n    warn.parentNode.removeChild(warn);\n}\n$3Dmolpromise.then(function() {\nviewer_16866051226131496 = $3Dmol.createViewer(document.getElementById(\"3dmolviewer_16866051226131496\"),{backgroundColor:\"white\"});\nviewer_16866051226131496.zoomTo();\n\tviewer_16866051226131496.addModel(\"52\\n     RDKit          3D\\n\\n 25 26  0  0  0  0  0  0  0  0999 V2000\\n   12.3050   -0.7780   -0.5080 C   0  0  0  0  0  0  0  0  0  0  0  0\\n   11.0000   -0.0100   -0.3730 C   0  0  0  0  0  0  0  0  0  0  0  0\\n    9.8390   -0.9380   -0.0080 C   0  0  0  0  0  0  0  0  0  0  0  0\\n    8.5260   -0.1540    0.1300 C   0  0  0  0  0  0  0  0  0  0  0  0\\n    7.3330   -1.0020    0.3040 N   0  0  0  0  0  0  0  0  0  0  0  0\\n    7.3850   -1.8850    1.4820 C   0  0  0  0  0  0  0  0  0  0  0  0\\n    7.4200   -1.1870    2.8490 C   0  0  0  0  0  0  0  0  0  0  0  0\\n    7.4630   -2.2110    3.9870 C   0  0  0  0  0  0  0  0  0  0  0  0\\n    7.4940   -1.5310    5.3470 C   0  0  0  0  0  0  0  0  0  0  0  0\\n    6.1140   -0.1780    0.2200 C   0  0  0  0  0  0  0  0  0  0  0  0\\n    4.8080   -0.9780    0.2270 C   0  0  0  0  0  0  0  0  0  0  0  0\\n    3.7210   -0.2484    1.0142 C   0  0  0  0  0  0  0  0  0  0  0  0\\n    2.5571   -1.0735    1.0092 O   0  0  0  0  0  0  0  0  0  0  0  0\\n    1.4229   -0.6425    1.6525 C   0  0  0  0  0  0  0  0  0  0  0  0\\n    1.3618    0.5900    2.3235 C   0  0  0  0  0  0  0  0  0  0  0  0\\n    0.2024    0.9779    2.9756 C   0  0  0  0  0  0  0  0  0  0  0  0\\n   -0.8932    0.1328    2.9632 C   0  0  0  0  0  0  0  0  0  0  0  0\\n   -0.8403   -1.1024    2.2926 C   0  0  0  0  0  0  0  0  0  0  0  0\\n   -2.3024   -2.0275    2.4114 Cl  0  0  0  0  0  0  0  0  0  0  0  0\\n    0.3149   -1.5500    1.5933 C   0  0  0  0  0  0  0  0  0  0  0  0\\n    0.4617   -2.9574    0.7863 C   0  0  0  0  0  0  0  0  0  0  0  0\\n   -0.1367   -4.1457    1.4350 N   0  0  0  0  0  0  0  0  0  0  0  0\\n    1.8578   -3.3901    0.2644 C   0  0  0  0  0  0  0  0  0  0  0  0\\n    1.3874   -3.4910   -1.1028 O   0  0  0  0  0  0  0  0  0  0  0  0\\n    0.0635   -3.0457   -0.7140 C   0  0  0  0  0  0  0  0  0  0  0  0\\n  1  2  1  0\\n  2  3  1  0\\n  3  4  1  0\\n  4  5  1  0\\n  5  6  1  0\\n  5 10  1  0\\n  6  7  1  0\\n  7  8  1  0\\n  8  9  1  0\\n 10 11  1  0\\n 11 12  1  0\\n 12 13  1  0\\n 13 14  1  0\\n 14 15  2  0\\n 15 16  1  0\\n 16 17  2  0\\n 17 18  1  0\\n 18 19  1  0\\n 18 20  2  0\\n 20 14  1  0\\n 20 21  1  0\\n 21 22  1  0\\n 21 23  1  0\\n 23 24  1  0\\n 24 25  1  0\\n 25 21  1  0\\nM  END\\n\",\"mol\");\n\tviewer_16866051226131496.setStyle({\"stick\": {}});\n\tviewer_16866051226131496.zoomTo();\nviewer_16866051226131496.render();\n});\n</script>",
      "text/html": "<div id=\"3dmolviewer_16866051226131496\"  style=\"position: relative; width: 500px; height: 250px\">\n        <p id=\"3dmolwarning_16866051226131496\" style=\"background-color:#ffcccc;color:black\">You appear to be running in JupyterLab (or JavaScript failed to load for some other reason).  You need to install the 3dmol extension: <br>\n        <tt>jupyter labextension install jupyterlab_3dmol</tt></p>\n        </div>\n<script>\n\nvar loadScriptAsync = function(uri){\n  return new Promise((resolve, reject) => {\n    //this is to ignore the existence of requirejs amd\n    var savedexports, savedmodule;\n    if (typeof exports !== 'undefined') savedexports = exports;\n    else exports = {}\n    if (typeof module !== 'undefined') savedmodule = module;\n    else module = {}\n\n    var tag = document.createElement('script');\n    tag.src = uri;\n    tag.async = true;\n    tag.onload = () => {\n        exports = savedexports;\n        module = savedmodule;\n        resolve();\n    };\n  var firstScriptTag = document.getElementsByTagName('script')[0];\n  firstScriptTag.parentNode.insertBefore(tag, firstScriptTag);\n});\n};\n\nif(typeof $3Dmolpromise === 'undefined') {\n$3Dmolpromise = null;\n  $3Dmolpromise = loadScriptAsync('https://cdnjs.cloudflare.com/ajax/libs/3Dmol/2.0.1/3Dmol-min.js');\n}\n\nvar viewer_16866051226131496 = null;\nvar warn = document.getElementById(\"3dmolwarning_16866051226131496\");\nif(warn) {\n    warn.parentNode.removeChild(warn);\n}\n$3Dmolpromise.then(function() {\nviewer_16866051226131496 = $3Dmol.createViewer(document.getElementById(\"3dmolviewer_16866051226131496\"),{backgroundColor:\"white\"});\nviewer_16866051226131496.zoomTo();\n\tviewer_16866051226131496.addModel(\"52\\n     RDKit          3D\\n\\n 25 26  0  0  0  0  0  0  0  0999 V2000\\n   12.3050   -0.7780   -0.5080 C   0  0  0  0  0  0  0  0  0  0  0  0\\n   11.0000   -0.0100   -0.3730 C   0  0  0  0  0  0  0  0  0  0  0  0\\n    9.8390   -0.9380   -0.0080 C   0  0  0  0  0  0  0  0  0  0  0  0\\n    8.5260   -0.1540    0.1300 C   0  0  0  0  0  0  0  0  0  0  0  0\\n    7.3330   -1.0020    0.3040 N   0  0  0  0  0  0  0  0  0  0  0  0\\n    7.3850   -1.8850    1.4820 C   0  0  0  0  0  0  0  0  0  0  0  0\\n    7.4200   -1.1870    2.8490 C   0  0  0  0  0  0  0  0  0  0  0  0\\n    7.4630   -2.2110    3.9870 C   0  0  0  0  0  0  0  0  0  0  0  0\\n    7.4940   -1.5310    5.3470 C   0  0  0  0  0  0  0  0  0  0  0  0\\n    6.1140   -0.1780    0.2200 C   0  0  0  0  0  0  0  0  0  0  0  0\\n    4.8080   -0.9780    0.2270 C   0  0  0  0  0  0  0  0  0  0  0  0\\n    3.7210   -0.2484    1.0142 C   0  0  0  0  0  0  0  0  0  0  0  0\\n    2.5571   -1.0735    1.0092 O   0  0  0  0  0  0  0  0  0  0  0  0\\n    1.4229   -0.6425    1.6525 C   0  0  0  0  0  0  0  0  0  0  0  0\\n    1.3618    0.5900    2.3235 C   0  0  0  0  0  0  0  0  0  0  0  0\\n    0.2024    0.9779    2.9756 C   0  0  0  0  0  0  0  0  0  0  0  0\\n   -0.8932    0.1328    2.9632 C   0  0  0  0  0  0  0  0  0  0  0  0\\n   -0.8403   -1.1024    2.2926 C   0  0  0  0  0  0  0  0  0  0  0  0\\n   -2.3024   -2.0275    2.4114 Cl  0  0  0  0  0  0  0  0  0  0  0  0\\n    0.3149   -1.5500    1.5933 C   0  0  0  0  0  0  0  0  0  0  0  0\\n    0.4617   -2.9574    0.7863 C   0  0  0  0  0  0  0  0  0  0  0  0\\n   -0.1367   -4.1457    1.4350 N   0  0  0  0  0  0  0  0  0  0  0  0\\n    1.8578   -3.3901    0.2644 C   0  0  0  0  0  0  0  0  0  0  0  0\\n    1.3874   -3.4910   -1.1028 O   0  0  0  0  0  0  0  0  0  0  0  0\\n    0.0635   -3.0457   -0.7140 C   0  0  0  0  0  0  0  0  0  0  0  0\\n  1  2  1  0\\n  2  3  1  0\\n  3  4  1  0\\n  4  5  1  0\\n  5  6  1  0\\n  5 10  1  0\\n  6  7  1  0\\n  7  8  1  0\\n  8  9  1  0\\n 10 11  1  0\\n 11 12  1  0\\n 12 13  1  0\\n 13 14  1  0\\n 14 15  2  0\\n 15 16  1  0\\n 16 17  2  0\\n 17 18  1  0\\n 18 19  1  0\\n 18 20  2  0\\n 20 14  1  0\\n 20 21  1  0\\n 21 22  1  0\\n 21 23  1  0\\n 23 24  1  0\\n 24 25  1  0\\n 25 21  1  0\\nM  END\\n\",\"mol\");\n\tviewer_16866051226131496.setStyle({\"stick\": {}});\n\tviewer_16866051226131496.zoomTo();\nviewer_16866051226131496.render();\n});\n</script>"
     },
     "metadata": {}
    }
   ],
   "source": [
    "mblock = Chem.MolToMolBlock(mol)\n",
    "view = py3Dmol.view(width=500, height=250)\n",
    "view.addModel(mblock, 'mol')\n",
    "view.setStyle({'stick':{}})\n",
    "view.zoomTo()\n",
    "view.show()"
   ]
  },
  {
   "cell_type": "code",
   "execution_count": 107,
   "metadata": {},
   "outputs": [
    {
     "output_type": "display_data",
     "data": {
      "application/3dmoljs_load.v0": "<div id=\"3dmolviewer_16866051238604116\"  style=\"position: relative; width: 500px; height: 250px\">\n        <p id=\"3dmolwarning_16866051238604116\" style=\"background-color:#ffcccc;color:black\">You appear to be running in JupyterLab (or JavaScript failed to load for some other reason).  You need to install the 3dmol extension: <br>\n        <tt>jupyter labextension install jupyterlab_3dmol</tt></p>\n        </div>\n<script>\n\nvar loadScriptAsync = function(uri){\n  return new Promise((resolve, reject) => {\n    //this is to ignore the existence of requirejs amd\n    var savedexports, savedmodule;\n    if (typeof exports !== 'undefined') savedexports = exports;\n    else exports = {}\n    if (typeof module !== 'undefined') savedmodule = module;\n    else module = {}\n\n    var tag = document.createElement('script');\n    tag.src = uri;\n    tag.async = true;\n    tag.onload = () => {\n        exports = savedexports;\n        module = savedmodule;\n        resolve();\n    };\n  var firstScriptTag = document.getElementsByTagName('script')[0];\n  firstScriptTag.parentNode.insertBefore(tag, firstScriptTag);\n});\n};\n\nif(typeof $3Dmolpromise === 'undefined') {\n$3Dmolpromise = null;\n  $3Dmolpromise = loadScriptAsync('https://cdnjs.cloudflare.com/ajax/libs/3Dmol/2.0.1/3Dmol-min.js');\n}\n\nvar viewer_16866051238604116 = null;\nvar warn = document.getElementById(\"3dmolwarning_16866051238604116\");\nif(warn) {\n    warn.parentNode.removeChild(warn);\n}\n$3Dmolpromise.then(function() {\nviewer_16866051238604116 = $3Dmol.createViewer(document.getElementById(\"3dmolviewer_16866051238604116\"),{backgroundColor:\"white\"});\nviewer_16866051238604116.zoomTo();\n\tviewer_16866051238604116.addModel(\"52\\n     RDKit          3D\\n\\n 25 26  0  0  0  0  0  0  0  0999 V2000\\n   12.3050   -0.7780   -0.5080 C   0  0  0  0  0  0  0  0  0  0  0  0\\n   11.0000   -0.0100   -0.3730 C   0  0  0  0  0  0  0  0  0  0  0  0\\n    9.8390   -0.9380   -0.0080 C   0  0  0  0  0  0  0  0  0  0  0  0\\n    8.5260   -0.1540    0.1300 C   0  0  0  0  0  0  0  0  0  0  0  0\\n    7.3330   -1.0020    0.3040 N   0  0  0  0  0  0  0  0  0  0  0  0\\n    7.3850   -1.8850    1.4820 C   0  0  0  0  0  0  0  0  0  0  0  0\\n    7.4200   -1.1870    2.8490 C   0  0  0  0  0  0  0  0  0  0  0  0\\n    7.4630   -2.2110    3.9870 C   0  0  0  0  0  0  0  0  0  0  0  0\\n    7.4940   -1.5310    5.3470 C   0  0  0  0  0  0  0  0  0  0  0  0\\n    6.1140   -0.1780    0.2200 C   0  0  0  0  0  0  0  0  0  0  0  0\\n    4.8080   -0.9780    0.2270 C   0  0  0  0  0  0  0  0  0  0  0  0\\n    3.6090   -0.0750   -0.0570 C   0  0  0  0  0  0  0  0  0  0  0  0\\n    2.4350   -0.8830    0.0090 O   0  0  0  0  0  0  0  0  0  0  0  0\\n    1.2080   -0.3080   -0.2140 C   0  0  0  0  0  0  0  0  0  0  0  0\\n    1.0600    1.0580   -0.5060 C   0  0  0  0  0  0  0  0  0  0  0  0\\n   -0.1990    1.6010   -0.7060 C   0  0  0  0  0  0  0  0  0  0  0  0\\n   -1.3100    0.7820   -0.6080 C   0  0  0  0  0  0  0  0  0  0  0  0\\n   -1.1700   -0.5870   -0.3170 C   0  0  0  0  0  0  0  0  0  0  0  0\\n   -2.6770   -1.4390   -0.2130 Cl  0  0  0  0  0  0  0  0  0  0  0  0\\n    0.0950   -1.2060   -0.1160 C   0  0  0  0  0  0  0  0  0  0  0  0\\n    0.3500   -2.7800    0.2170 C   0  0  0  0  0  0  0  0  0  0  0  0\\n   -0.8490   -3.6480    0.2190 N   0  0  0  0  0  0  0  0  0  0  0  0\\n    1.1810   -3.1650    1.4700 C   0  0  0  0  0  0  0  0  0  0  0  0\\n    2.1340   -3.9240    0.6850 O   0  0  0  0  0  0  0  0  0  0  0  0\\n    1.4490   -3.5740   -0.5440 C   0  0  0  0  0  0  0  0  0  0  0  0\\n  1  2  1  0\\n  2  3  1  0\\n  3  4  1  0\\n  4  5  1  0\\n  5  6  1  0\\n  5 10  1  0\\n  6  7  1  0\\n  7  8  1  0\\n  8  9  1  0\\n 10 11  1  0\\n 11 12  1  0\\n 12 13  1  0\\n 13 14  1  0\\n 14 15  2  0\\n 15 16  1  0\\n 16 17  2  0\\n 17 18  1  0\\n 18 19  1  0\\n 18 20  2  0\\n 20 14  1  0\\n 20 21  1  0\\n 21 22  1  0\\n 21 23  1  0\\n 23 24  1  0\\n 24 25  1  0\\n 25 21  1  0\\nM  END\\n\",\"mol\");\n\tviewer_16866051238604116.setStyle({\"stick\": {}});\n\tviewer_16866051238604116.zoomTo();\nviewer_16866051238604116.render();\n});\n</script>",
      "text/html": "<div id=\"3dmolviewer_16866051238604116\"  style=\"position: relative; width: 500px; height: 250px\">\n        <p id=\"3dmolwarning_16866051238604116\" style=\"background-color:#ffcccc;color:black\">You appear to be running in JupyterLab (or JavaScript failed to load for some other reason).  You need to install the 3dmol extension: <br>\n        <tt>jupyter labextension install jupyterlab_3dmol</tt></p>\n        </div>\n<script>\n\nvar loadScriptAsync = function(uri){\n  return new Promise((resolve, reject) => {\n    //this is to ignore the existence of requirejs amd\n    var savedexports, savedmodule;\n    if (typeof exports !== 'undefined') savedexports = exports;\n    else exports = {}\n    if (typeof module !== 'undefined') savedmodule = module;\n    else module = {}\n\n    var tag = document.createElement('script');\n    tag.src = uri;\n    tag.async = true;\n    tag.onload = () => {\n        exports = savedexports;\n        module = savedmodule;\n        resolve();\n    };\n  var firstScriptTag = document.getElementsByTagName('script')[0];\n  firstScriptTag.parentNode.insertBefore(tag, firstScriptTag);\n});\n};\n\nif(typeof $3Dmolpromise === 'undefined') {\n$3Dmolpromise = null;\n  $3Dmolpromise = loadScriptAsync('https://cdnjs.cloudflare.com/ajax/libs/3Dmol/2.0.1/3Dmol-min.js');\n}\n\nvar viewer_16866051238604116 = null;\nvar warn = document.getElementById(\"3dmolwarning_16866051238604116\");\nif(warn) {\n    warn.parentNode.removeChild(warn);\n}\n$3Dmolpromise.then(function() {\nviewer_16866051238604116 = $3Dmol.createViewer(document.getElementById(\"3dmolviewer_16866051238604116\"),{backgroundColor:\"white\"});\nviewer_16866051238604116.zoomTo();\n\tviewer_16866051238604116.addModel(\"52\\n     RDKit          3D\\n\\n 25 26  0  0  0  0  0  0  0  0999 V2000\\n   12.3050   -0.7780   -0.5080 C   0  0  0  0  0  0  0  0  0  0  0  0\\n   11.0000   -0.0100   -0.3730 C   0  0  0  0  0  0  0  0  0  0  0  0\\n    9.8390   -0.9380   -0.0080 C   0  0  0  0  0  0  0  0  0  0  0  0\\n    8.5260   -0.1540    0.1300 C   0  0  0  0  0  0  0  0  0  0  0  0\\n    7.3330   -1.0020    0.3040 N   0  0  0  0  0  0  0  0  0  0  0  0\\n    7.3850   -1.8850    1.4820 C   0  0  0  0  0  0  0  0  0  0  0  0\\n    7.4200   -1.1870    2.8490 C   0  0  0  0  0  0  0  0  0  0  0  0\\n    7.4630   -2.2110    3.9870 C   0  0  0  0  0  0  0  0  0  0  0  0\\n    7.4940   -1.5310    5.3470 C   0  0  0  0  0  0  0  0  0  0  0  0\\n    6.1140   -0.1780    0.2200 C   0  0  0  0  0  0  0  0  0  0  0  0\\n    4.8080   -0.9780    0.2270 C   0  0  0  0  0  0  0  0  0  0  0  0\\n    3.6090   -0.0750   -0.0570 C   0  0  0  0  0  0  0  0  0  0  0  0\\n    2.4350   -0.8830    0.0090 O   0  0  0  0  0  0  0  0  0  0  0  0\\n    1.2080   -0.3080   -0.2140 C   0  0  0  0  0  0  0  0  0  0  0  0\\n    1.0600    1.0580   -0.5060 C   0  0  0  0  0  0  0  0  0  0  0  0\\n   -0.1990    1.6010   -0.7060 C   0  0  0  0  0  0  0  0  0  0  0  0\\n   -1.3100    0.7820   -0.6080 C   0  0  0  0  0  0  0  0  0  0  0  0\\n   -1.1700   -0.5870   -0.3170 C   0  0  0  0  0  0  0  0  0  0  0  0\\n   -2.6770   -1.4390   -0.2130 Cl  0  0  0  0  0  0  0  0  0  0  0  0\\n    0.0950   -1.2060   -0.1160 C   0  0  0  0  0  0  0  0  0  0  0  0\\n    0.3500   -2.7800    0.2170 C   0  0  0  0  0  0  0  0  0  0  0  0\\n   -0.8490   -3.6480    0.2190 N   0  0  0  0  0  0  0  0  0  0  0  0\\n    1.1810   -3.1650    1.4700 C   0  0  0  0  0  0  0  0  0  0  0  0\\n    2.1340   -3.9240    0.6850 O   0  0  0  0  0  0  0  0  0  0  0  0\\n    1.4490   -3.5740   -0.5440 C   0  0  0  0  0  0  0  0  0  0  0  0\\n  1  2  1  0\\n  2  3  1  0\\n  3  4  1  0\\n  4  5  1  0\\n  5  6  1  0\\n  5 10  1  0\\n  6  7  1  0\\n  7  8  1  0\\n  8  9  1  0\\n 10 11  1  0\\n 11 12  1  0\\n 12 13  1  0\\n 13 14  1  0\\n 14 15  2  0\\n 15 16  1  0\\n 16 17  2  0\\n 17 18  1  0\\n 18 19  1  0\\n 18 20  2  0\\n 20 14  1  0\\n 20 21  1  0\\n 21 22  1  0\\n 21 23  1  0\\n 23 24  1  0\\n 24 25  1  0\\n 25 21  1  0\\nM  END\\n\",\"mol\");\n\tviewer_16866051238604116.setStyle({\"stick\": {}});\n\tviewer_16866051238604116.zoomTo();\nviewer_16866051238604116.render();\n});\n</script>"
     },
     "metadata": {}
    }
   ],
   "source": [
    "mol_file = './Molecules/25A12Rot_2.mol2'\n",
    "mol = Chem.MolFromMol2File(mol_file)\n",
    "mblock = Chem.MolToMolBlock(mol)\n",
    "view = py3Dmol.view(width=500, height=250)\n",
    "view.addModel(mblock, 'mol')\n",
    "view.setStyle({'stick':{}})\n",
    "view.zoomTo()\n",
    "view.show()"
   ]
  },
  {
   "cell_type": "code",
   "execution_count": null,
   "metadata": {},
   "outputs": [],
   "source": []
  }
 ]
}