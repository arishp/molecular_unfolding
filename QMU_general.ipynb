{
 "metadata": {
  "language_info": {
   "codemirror_mode": {
    "name": "ipython",
    "version": 3
   },
   "file_extension": ".py",
   "mimetype": "text/x-python",
   "name": "python",
   "nbconvert_exporter": "python",
   "pygments_lexer": "ipython3",
   "version": "3.9.16"
  },
  "orig_nbformat": 4,
  "kernelspec": {
   "name": "python3",
   "display_name": "Python 3.9.16 64-bit"
  },
  "interpreter": {
   "hash": "4cd7ab41f5fca4b9b44701077e38c5ffd31fe66a6cab21e0214b68d958d0e462"
  }
 },
 "nbformat": 4,
 "nbformat_minor": 2,
 "cells": [
  {
   "source": [
    "# Visualize the molecule"
   ],
   "cell_type": "markdown",
   "metadata": {}
  },
  {
   "cell_type": "code",
   "execution_count": 126,
   "metadata": {},
   "outputs": [
    {
     "output_type": "display_data",
     "data": {
      "application/3dmoljs_load.v0": "<div id=\"3dmolviewer_16871862611145375\"  style=\"position: relative; width: 500px; height: 250px\">\n        <p id=\"3dmolwarning_16871862611145375\" style=\"background-color:#ffcccc;color:black\">You appear to be running in JupyterLab (or JavaScript failed to load for some other reason).  You need to install the 3dmol extension: <br>\n        <tt>jupyter labextension install jupyterlab_3dmol</tt></p>\n        </div>\n<script>\n\nvar loadScriptAsync = function(uri){\n  return new Promise((resolve, reject) => {\n    //this is to ignore the existence of requirejs amd\n    var savedexports, savedmodule;\n    if (typeof exports !== 'undefined') savedexports = exports;\n    else exports = {}\n    if (typeof module !== 'undefined') savedmodule = module;\n    else module = {}\n\n    var tag = document.createElement('script');\n    tag.src = uri;\n    tag.async = true;\n    tag.onload = () => {\n        exports = savedexports;\n        module = savedmodule;\n        resolve();\n    };\n  var firstScriptTag = document.getElementsByTagName('script')[0];\n  firstScriptTag.parentNode.insertBefore(tag, firstScriptTag);\n});\n};\n\nif(typeof $3Dmolpromise === 'undefined') {\n$3Dmolpromise = null;\n  $3Dmolpromise = loadScriptAsync('https://cdnjs.cloudflare.com/ajax/libs/3Dmol/2.0.1/3Dmol-min.js');\n}\n\nvar viewer_16871862611145375 = null;\nvar warn = document.getElementById(\"3dmolwarning_16871862611145375\");\nif(warn) {\n    warn.parentNode.removeChild(warn);\n}\n$3Dmolpromise.then(function() {\nviewer_16871862611145375 = $3Dmol.createViewer(document.getElementById(\"3dmolviewer_16871862611145375\"),{backgroundColor:\"white\"});\nviewer_16871862611145375.zoomTo();\n\tviewer_16871862611145375.addModel(\"109\\n     RDKit          3D\\n\\n 25 26  0  0  0  0  0  0  0  0999 V2000\\n   10.9320   -2.2770   -2.4060 C   0  0  0  0  0  0  0  0  0  0  0  0\\n    9.9210   -1.2540   -1.9130 C   0  0  0  0  0  0  0  0  0  0  0  0\\n    9.0950   -1.7980   -0.7450 C   0  0  0  0  0  0  0  0  0  0  0  0\\n    8.0870   -0.7520   -0.2460 C   0  0  0  0  0  0  0  0  0  0  0  0\\n    7.1830   -1.2780    0.7980 N   0  0  0  0  0  0  0  0  0  0  0  0\\n    7.8850   -1.4400    2.0710 C   0  0  0  0  0  0  0  0  0  0  0  0\\n    6.0070   -0.3790    0.9230 C   0  0  0  0  0  0  0  0  0  0  0  0\\n    4.8580   -0.8610    1.8550 C   0  0  1  0  0  0  0  0  0  0  0  0\\n    5.0520   -0.4240    3.2600 N   0  0  0  0  0  0  0  0  0  0  0  0\\n    3.5090   -0.2920    1.3550 C   0  0  0  0  0  0  0  0  0  0  0  0\\n    2.4530   -0.8120    2.1890 O   0  0  0  0  0  0  0  0  0  0  0  0\\n    1.2490   -0.2710    1.8240 C   0  0  0  0  0  0  0  0  0  0  0  0\\n    0.8930    0.9790    2.3320 C   0  0  0  0  0  0  0  0  0  0  0  0\\n   -0.3540    1.5220    2.0270 C   0  0  0  0  0  0  0  0  0  0  0  0\\n   -1.2510    0.8130    1.2230 C   0  0  0  0  0  0  0  0  0  0  0  0\\n   -0.9010   -0.4420    0.7150 C   0  0  0  0  0  0  0  0  0  0  0  0\\n   -1.7540   -1.1940   -0.0470 O   0  0  0  0  0  0  0  0  0  0  0  0\\n   -2.4560   -0.4650   -1.0590 C   0  0  0  0  0  0  0  0  0  0  0  0\\n   -2.9650   -1.3950   -2.1230 C   0  0  0  0  0  0  0  0  0  0  0  0\\n   -2.1440   -2.5660   -2.6050 C   0  0  0  0  0  0  0  0  0  0  0  0\\n   -3.4010   -2.8060   -1.8110 C   0  0  0  0  0  0  0  0  0  0  0  0\\n    0.3440   -0.9900    1.0400 C   0  0  0  0  0  0  0  0  0  0  0  0\\n    0.7230   -2.3140    0.5300 C   0  0  0  0  0  0  0  0  0  0  0  0\\n    1.5270   -2.4040   -0.3930 O   0  0  0  0  0  0  0  0  0  0  0  0\\n    0.0850   -3.5050    1.1890 C   0  0  0  0  0  0  0  0  0  0  0  0\\n  1  2  1  0\\n  2  3  1  0\\n  3  4  1  0\\n  4  5  1  0\\n  5  6  1  0\\n  5  7  1  0\\n  7  8  1  0\\n  8  9  1  1\\n  8 10  1  0\\n 10 11  1  0\\n 11 12  1  0\\n 12 13  2  0\\n 13 14  1  0\\n 14 15  2  0\\n 15 16  1  0\\n 16 17  1  0\\n 16 22  2  0\\n 17 18  1  0\\n 18 19  1  0\\n 19 20  1  0\\n 20 21  1  0\\n 21 19  1  0\\n 22 12  1  0\\n 22 23  1  0\\n 23 24  2  0\\n 23 25  1  0\\nM  END\\n\",\"mol\");\n\tviewer_16871862611145375.setStyle({\"stick\": {}});\n\tviewer_16871862611145375.zoomTo();\nviewer_16871862611145375.render();\n});\n</script>",
      "text/html": "<div id=\"3dmolviewer_16871862611145375\"  style=\"position: relative; width: 500px; height: 250px\">\n        <p id=\"3dmolwarning_16871862611145375\" style=\"background-color:#ffcccc;color:black\">You appear to be running in JupyterLab (or JavaScript failed to load for some other reason).  You need to install the 3dmol extension: <br>\n        <tt>jupyter labextension install jupyterlab_3dmol</tt></p>\n        </div>\n<script>\n\nvar loadScriptAsync = function(uri){\n  return new Promise((resolve, reject) => {\n    //this is to ignore the existence of requirejs amd\n    var savedexports, savedmodule;\n    if (typeof exports !== 'undefined') savedexports = exports;\n    else exports = {}\n    if (typeof module !== 'undefined') savedmodule = module;\n    else module = {}\n\n    var tag = document.createElement('script');\n    tag.src = uri;\n    tag.async = true;\n    tag.onload = () => {\n        exports = savedexports;\n        module = savedmodule;\n        resolve();\n    };\n  var firstScriptTag = document.getElementsByTagName('script')[0];\n  firstScriptTag.parentNode.insertBefore(tag, firstScriptTag);\n});\n};\n\nif(typeof $3Dmolpromise === 'undefined') {\n$3Dmolpromise = null;\n  $3Dmolpromise = loadScriptAsync('https://cdnjs.cloudflare.com/ajax/libs/3Dmol/2.0.1/3Dmol-min.js');\n}\n\nvar viewer_16871862611145375 = null;\nvar warn = document.getElementById(\"3dmolwarning_16871862611145375\");\nif(warn) {\n    warn.parentNode.removeChild(warn);\n}\n$3Dmolpromise.then(function() {\nviewer_16871862611145375 = $3Dmol.createViewer(document.getElementById(\"3dmolviewer_16871862611145375\"),{backgroundColor:\"white\"});\nviewer_16871862611145375.zoomTo();\n\tviewer_16871862611145375.addModel(\"109\\n     RDKit          3D\\n\\n 25 26  0  0  0  0  0  0  0  0999 V2000\\n   10.9320   -2.2770   -2.4060 C   0  0  0  0  0  0  0  0  0  0  0  0\\n    9.9210   -1.2540   -1.9130 C   0  0  0  0  0  0  0  0  0  0  0  0\\n    9.0950   -1.7980   -0.7450 C   0  0  0  0  0  0  0  0  0  0  0  0\\n    8.0870   -0.7520   -0.2460 C   0  0  0  0  0  0  0  0  0  0  0  0\\n    7.1830   -1.2780    0.7980 N   0  0  0  0  0  0  0  0  0  0  0  0\\n    7.8850   -1.4400    2.0710 C   0  0  0  0  0  0  0  0  0  0  0  0\\n    6.0070   -0.3790    0.9230 C   0  0  0  0  0  0  0  0  0  0  0  0\\n    4.8580   -0.8610    1.8550 C   0  0  1  0  0  0  0  0  0  0  0  0\\n    5.0520   -0.4240    3.2600 N   0  0  0  0  0  0  0  0  0  0  0  0\\n    3.5090   -0.2920    1.3550 C   0  0  0  0  0  0  0  0  0  0  0  0\\n    2.4530   -0.8120    2.1890 O   0  0  0  0  0  0  0  0  0  0  0  0\\n    1.2490   -0.2710    1.8240 C   0  0  0  0  0  0  0  0  0  0  0  0\\n    0.8930    0.9790    2.3320 C   0  0  0  0  0  0  0  0  0  0  0  0\\n   -0.3540    1.5220    2.0270 C   0  0  0  0  0  0  0  0  0  0  0  0\\n   -1.2510    0.8130    1.2230 C   0  0  0  0  0  0  0  0  0  0  0  0\\n   -0.9010   -0.4420    0.7150 C   0  0  0  0  0  0  0  0  0  0  0  0\\n   -1.7540   -1.1940   -0.0470 O   0  0  0  0  0  0  0  0  0  0  0  0\\n   -2.4560   -0.4650   -1.0590 C   0  0  0  0  0  0  0  0  0  0  0  0\\n   -2.9650   -1.3950   -2.1230 C   0  0  0  0  0  0  0  0  0  0  0  0\\n   -2.1440   -2.5660   -2.6050 C   0  0  0  0  0  0  0  0  0  0  0  0\\n   -3.4010   -2.8060   -1.8110 C   0  0  0  0  0  0  0  0  0  0  0  0\\n    0.3440   -0.9900    1.0400 C   0  0  0  0  0  0  0  0  0  0  0  0\\n    0.7230   -2.3140    0.5300 C   0  0  0  0  0  0  0  0  0  0  0  0\\n    1.5270   -2.4040   -0.3930 O   0  0  0  0  0  0  0  0  0  0  0  0\\n    0.0850   -3.5050    1.1890 C   0  0  0  0  0  0  0  0  0  0  0  0\\n  1  2  1  0\\n  2  3  1  0\\n  3  4  1  0\\n  4  5  1  0\\n  5  6  1  0\\n  5  7  1  0\\n  7  8  1  0\\n  8  9  1  1\\n  8 10  1  0\\n 10 11  1  0\\n 11 12  1  0\\n 12 13  2  0\\n 13 14  1  0\\n 14 15  2  0\\n 15 16  1  0\\n 16 17  1  0\\n 16 22  2  0\\n 17 18  1  0\\n 18 19  1  0\\n 19 20  1  0\\n 20 21  1  0\\n 21 19  1  0\\n 22 12  1  0\\n 22 23  1  0\\n 23 24  2  0\\n 23 25  1  0\\nM  END\\n\",\"mol\");\n\tviewer_16871862611145375.setStyle({\"stick\": {}});\n\tviewer_16871862611145375.zoomTo();\nviewer_16871862611145375.render();\n});\n</script>"
     },
     "metadata": {}
    }
   ],
   "source": [
    "from rdkit import Chem\n",
    "import py3Dmol\n",
    "mol_folder = './Molecules/'\n",
    "mol_fname = '25A12Rot_37.mol2'\n",
    "mol_filepath = mol_folder + mol_fname\n",
    "mol = Chem.MolFromMol2File(mol_filepath)\n",
    "mblock = Chem.MolToMolBlock(mol)\n",
    "view = py3Dmol.view(width=500, height=250)\n",
    "view.addModel(mblock, 'mol')\n",
    "view.setStyle({'stick':{}})\n",
    "view.zoomTo()\n",
    "view.show()\n"
   ]
  },
  {
   "source": [
    "# Input Variables"
   ],
   "cell_type": "markdown",
   "metadata": {}
  },
  {
   "cell_type": "code",
   "execution_count": 127,
   "metadata": {},
   "outputs": [
    {
     "output_type": "stream",
     "name": "stdout",
     "text": [
      "No. of atoms:  25\nCoordinates of atoms:\n0 \t: [10.932, -2.277, -2.406]\n1 \t: [9.921, -1.254, -1.913]\n2 \t: [9.095, -1.798, -0.745]\n3 \t: [8.087, -0.752, -0.246]\n4 \t: [7.183, -1.278, 0.798]\n5 \t: [7.885, -1.44, 2.071]\n6 \t: [6.007, -0.379, 0.923]\n7 \t: [4.858, -0.861, 1.855]\n8 \t: [5.052, -0.424, 3.26]\n9 \t: [3.509, -0.292, 1.355]\n10 \t: [2.453, -0.812, 2.189]\n11 \t: [1.249, -0.271, 1.824]\n12 \t: [0.893, 0.979, 2.332]\n13 \t: [-0.354, 1.522, 2.027]\n14 \t: [-1.251, 0.813, 1.223]\n15 \t: [-0.901, -0.442, 0.715]\n16 \t: [-1.754, -1.194, -0.047]\n17 \t: [-2.456, -0.465, -1.059]\n18 \t: [-2.965, -1.395, -2.123]\n19 \t: [-2.144, -2.566, -2.605]\n20 \t: [-3.401, -2.806, -1.811]\n21 \t: [0.344, -0.99, 1.04]\n22 \t: [0.723, -2.314, 0.53]\n23 \t: [1.527, -2.404, -0.393]\n24 \t: [0.085, -3.505, 1.189]\n"
     ]
    }
   ],
   "source": [
    "n_atoms_mol = mol.GetNumAtoms()  # no. of atoms in the molecule (excluding hydrogen atoms)\n",
    "print('No. of atoms: ', n_atoms_mol)\n",
    "conformers = mol.GetConformers()\n",
    "conf = conformers[0]\n",
    "coords_mol = {}  # Coordinates of the atoms\n",
    "for i in range(n_atoms_mol):\n",
    "    coords_mol[i] = list(conf.GetAtomPosition(i))\n",
    "print('Coordinates of atoms:')\n",
    "for i in coords_mol:\n",
    "    print(i, '\\t:', coords_mol[i])"
   ]
  },
  {
   "cell_type": "code",
   "execution_count": 128,
   "metadata": {},
   "outputs": [
    {
     "output_type": "stream",
     "name": "stdout",
     "text": [
      "{0: (6, 8), 1: (15, 16)}\n[2, 5, 6, 7, 8, 12, 15, 16, 19, 22, 23]\n{9: [0], 10: [0], 11: [0], 12: [0], 13: [0], 14: [0], 15: [0], 16: [0], 17: [0, 1], 18: [0, 1], 19: [0, 1], 20: [0], 21: [0], 22: [0], 23: [0]}\n{2: [12, 15, 16, 19, 22, 23], 5: [12, 15, 16, 19, 22, 23], 6: [12, 15, 16, 19, 22, 23], 7: [12, 15, 16, 19, 22, 23], 8: [12, 15, 16, 19, 22, 23], 12: [19], 15: [19], 16: [], 19: [22, 23], 22: [], 23: []}\n"
     ]
    }
   ],
   "source": [
    "input_folder = './Input_Rot_2/'\n",
    "input_fname = mol_fname[:-5] + '_input.txt'\n",
    "input_filepath = input_folder + input_fname\n",
    "input_lines = open(input_filepath, 'r').readlines()\n",
    "torsional_bonds_mol = eval(input_lines[0])\n",
    "median_list_mol = []\n",
    "for atoms in input_lines[1].split(','):\n",
    "    median_list_mol.append(int(atoms))\n",
    "coords_rotation_mol = eval(input_lines[2])\n",
    "distance_pairs_mol = eval(input_lines[3])\n",
    "print(torsional_bonds_mol)\n",
    "print(median_list_mol)\n",
    "print(coords_rotation_mol)\n",
    "print(distance_pairs_mol)"
   ]
  },
  {
   "cell_type": "code",
   "execution_count": 129,
   "metadata": {},
   "outputs": [],
   "source": [
    "# torsional_bonds_mol = { 0: (9, 10), 1: (19, 20)  }  # Torsional bond numbers and their respective coordinate ends\n",
    "# median_list_mol = [2, 6, 9, 10, 14, 19, 20, 23]  # List of atoms (median) considered for the HUBO construction\n",
    "# coords_rotation_mol = {11:[0], 12:[0], 13:[0], 14:[0], 15:[0], 16:[0], 17:[0], 18:[0], 19:[0], 20:[0], 21:[0,1], 22:[0,1], 23:[0,1], 24:[0,1] }  # atom index and the rotatable bond numbers list that affect them\n",
    "# distance_pairs_mol = {2:[14, 19, 20, 23], 6:[14, 19, 20, 23], 9:[14, 19, 20, 23], 10:[23], 14:[23], 19:[23], 20:[], 23:[] }  # indices dictionary to find distances"
   ]
  },
  {
   "cell_type": "code",
   "execution_count": 130,
   "metadata": {},
   "outputs": [
    {
     "output_type": "stream",
     "name": "stdout",
     "text": [
      "coords_median:  {0: [9.095, -1.798, -0.745], 1: [7.885, -1.44, 2.071], 2: [6.007, -0.379, 0.923], 3: [4.858, -0.861, 1.855], 4: [5.052, -0.424, 3.26], 5: [0.893, 0.979, 2.332], 6: [-0.901, -0.442, 0.715], 7: [-1.754, -1.194, -0.047], 8: [-2.144, -2.566, -2.605], 9: [0.723, -2.314, 0.53], 10: [1.527, -2.404, -0.393]}\n\ntorsional_bonds:  {0: (2, 4), 1: (6, 7)}\n\ncoords_rotation_dict:  {5: [0], 6: [0], 7: [0], 8: [0, 1], 9: [0], 10: [0]}\n\ndistance pairs:  [(0, 5), (0, 6), (0, 7), (0, 8), (0, 9), (0, 10), (1, 5), (1, 6), (1, 7), (1, 8), (1, 9), (1, 10), (2, 5), (2, 6), (2, 7), (2, 8), (2, 9), (2, 10), (3, 5), (3, 6), (3, 7), (3, 8), (3, 9), (3, 10), (4, 5), (4, 6), (4, 7), (4, 8), (4, 9), (4, 10), (5, 8), (6, 8), (8, 9), (8, 10)]\n"
     ]
    }
   ],
   "source": [
    "import copy\n",
    "\n",
    "coords_median = {}\n",
    "for i, index in enumerate(median_list_mol):\n",
    "    coords_median[i] = coords_mol[index]\n",
    "coords_median_2 = copy.deepcopy(coords_median)\n",
    "print('coords_median: ', coords_median)\n",
    "\n",
    "torsional_bonds = {}\n",
    "for i in torsional_bonds_mol:\n",
    "    torsional_bonds[i] = (median_list_mol.index(torsional_bonds_mol[i][0]), median_list_mol.index(torsional_bonds_mol[i][1]))\n",
    "print('\\ntorsional_bonds: ', torsional_bonds)\n",
    "\n",
    "coords_rotation_dict = {}\n",
    "for atom in median_list_mol:\n",
    "    if atom in coords_rotation_mol.keys():\n",
    "        coords_rotation_dict[median_list_mol.index(atom)] = coords_rotation_mol[atom]\n",
    "print('\\ncoords_rotation_dict: ', coords_rotation_dict)\n",
    "\n",
    "distance_pairs = []\n",
    "for x, y in distance_pairs_mol.items():\n",
    "    u = median_list_mol.index(x)\n",
    "    for i in y:\n",
    "        v = median_list_mol.index(i)\n",
    "        distance_pairs.append((u, v))\n",
    "print('\\ndistance pairs: ', distance_pairs)\n",
    "\n"
   ]
  },
  {
   "cell_type": "code",
   "execution_count": 131,
   "metadata": {},
   "outputs": [
    {
     "output_type": "stream",
     "name": "stdout",
     "text": [
      "(x0, x1, x2, x3, x4, x5, x6, x7, x8, x9, x10, x11, x12, x13, x14, x15)\n"
     ]
    }
   ],
   "source": [
    "import sympy as sp\n",
    "n_bonds = len(torsional_bonds)  # no. of bonds\n",
    "n_angles = 8  # no. of discrete angles\n",
    "x = sp.symbols(f'x(0:{n_bonds*n_angles})')  # hubo variables\n",
    "print(x)"
   ]
  },
  {
   "source": [
    "# Function to generate hard constraint"
   ],
   "cell_type": "markdown",
   "metadata": {}
  },
  {
   "cell_type": "code",
   "execution_count": 132,
   "metadata": {},
   "outputs": [],
   "source": [
    "# generate hard constraint\n",
    "def generate_hard_hubo():\n",
    "    hard_constraint = 0\n",
    "    index = 0\n",
    "    for i in range(n_bonds):\n",
    "        summation = 0\n",
    "        for j in range(n_angles):\n",
    "            summation += x[index]\n",
    "            index += 1\n",
    "        hard_constraint += (summation - 1) ** 2\n",
    "    a_const = sp.Symbol('A_const')\n",
    "    hard_constraint *= a_const\n",
    "    return hard_constraint"
   ]
  },
  {
   "source": [
    "# Functions to rotate coordinates with hubo variables"
   ],
   "cell_type": "markdown",
   "metadata": {}
  },
  {
   "cell_type": "code",
   "execution_count": 133,
   "metadata": {},
   "outputs": [],
   "source": [
    "def rotate_coordinates(rotation_matrix, old_coords):\n",
    "    coord_vector = ones(4, 1)\n",
    "    coord_vector[0, 0] = old_coords[0]\n",
    "    coord_vector[1, 0] = old_coords[1]\n",
    "    coord_vector[2, 0] = old_coords[2]\n",
    "    coord_rot_vector = sp.expand(rotation_matrix * coord_vector)\n",
    "    return [coord_rot_vector[0, 0], coord_rot_vector[1, 0], coord_rot_vector[2, 0]]"
   ]
  },
  {
   "cell_type": "code",
   "execution_count": 134,
   "metadata": {},
   "outputs": [],
   "source": [
    "def generate_thetas():\n",
    "    angle_incr = 2 * sp.pi / n_angles\n",
    "    thetas = [i*angle_incr for i in range(n_angles)]\n",
    "    return thetas"
   ]
  },
  {
   "cell_type": "code",
   "execution_count": 135,
   "metadata": {},
   "outputs": [],
   "source": [
    "def rotation_matrix_hubo(first_coords, second_coords, bond_no):\n",
    "    x_dash, y_dash, z_dash = first_coords[0], first_coords[1], first_coords[2]\n",
    "    x_ddash, y_ddash, z_ddash = second_coords[0], second_coords[1], second_coords[2]\n",
    "    dx = x_ddash - x_dash\n",
    "    dy = y_ddash - y_dash\n",
    "    dz = z_ddash - z_dash\n",
    "    l_sq = dx ** 2 + dy ** 2 + dz ** 2\n",
    "    l = sp.sqrt(l_sq)\n",
    "    thetas = generate_thetas()\n",
    "    c_theta = 0.0\n",
    "    s_theta = 0.0\n",
    "    index = n_angles * bond_no\n",
    "    for i in range(n_angles):\n",
    "        c_theta += sp.cos(thetas[i]) * x[index]\n",
    "        s_theta += sp.sin(thetas[i]) * x[index]\n",
    "        index += 1\n",
    "    rotation_matrix = eye(4)\n",
    "    rotation_matrix[0, 0] = (dx ** 2 + (dy ** 2 + dz ** 2) * c_theta) / l_sq\n",
    "    rotation_matrix[0, 1] = (dx * dy * (1 - c_theta) - dz * l * s_theta) / l_sq\n",
    "    rotation_matrix[0, 2] = (dx * dz * (1 - c_theta) + dy * l * s_theta) / l_sq\n",
    "    rotation_matrix[0, 3] = ((x_dash * (dy ** 2 + dz ** 2) - dx * (y_dash * dy + z_dash * dz)) * (1 - c_theta) + (\n",
    "            y_dash * dz - z_dash * dy) * l * s_theta) / l_sq\n",
    "    rotation_matrix[1, 0] = (dx * dy * (1 - c_theta) + dz * l * s_theta) / l_sq\n",
    "    rotation_matrix[1, 1] = (dy ** 2 + (dx ** 2 + dz ** 2) * c_theta) / l_sq\n",
    "    rotation_matrix[1, 2] = (dy * dz * (1 - c_theta) - dx * l * s_theta) / l_sq\n",
    "    rotation_matrix[1, 3] = ((y_dash * (dx ** 2 + dz ** 2) - dy * (x_dash * dx + z_dash * dz)) * (1 - c_theta) + (\n",
    "            z_dash * dx - x_dash * dz) * l * s_theta) / l_sq\n",
    "    rotation_matrix[2, 0] = (dx * dz * (1 - c_theta) - dy * l * s_theta) / l_sq\n",
    "    rotation_matrix[2, 1] = (dy * dz * (1 - c_theta) + dx * l * s_theta) / l_sq\n",
    "    rotation_matrix[2, 2] = (dz ** 2 + (dx ** 2 + dy ** 2) * c_theta) / l_sq\n",
    "    rotation_matrix[2, 3] = ((z_dash * (dx ** 2 + dy ** 2) - dz * (x_dash * dx + y_dash * dy)) * (1 - c_theta) + (\n",
    "            x_dash * dy - y_dash * dx) * l * s_theta) / l_sq\n",
    "    return rotation_matrix"
   ]
  },
  {
   "cell_type": "code",
   "execution_count": 136,
   "metadata": {},
   "outputs": [
    {
     "output_type": "stream",
     "name": "stdout",
     "text": [
      "The time of execution:  5.733651399612427 seconds\n"
     ]
    }
   ],
   "source": [
    "from sympy.matrices import ones, eye\n",
    "import time\n",
    "start = time.time()\n",
    "\n",
    "for i in coords_rotation_dict:\n",
    "    rot_mat = eye(4, 4)\n",
    "    for bond_no in coords_rotation_dict[i]:\n",
    "        temp_rot_mat = rotation_matrix_hubo(coords_median[torsional_bonds[bond_no][0]], coords_median[torsional_bonds[bond_no][1]], bond_no)\n",
    "        rot_mat = rot_mat * temp_rot_mat\n",
    "    coords_median_2[i] = rotate_coordinates(rot_mat, coords_median[i])\n",
    "\n",
    "end = time.time()\n",
    "print(\"The time of execution: \", (end-start), \"seconds\")"
   ]
  },
  {
   "source": [
    "# Functions to generate the optimization contraint in hubo"
   ],
   "cell_type": "markdown",
   "metadata": {}
  },
  {
   "cell_type": "code",
   "execution_count": 137,
   "metadata": {},
   "outputs": [],
   "source": [
    "def distance_squared(first_coords, second_coords):\n",
    "    dis_sq = (second_coords[0] - first_coords[0])**2 + (second_coords[1] - first_coords[1])**2 + (second_coords[2] - first_coords[2])**2\n",
    "    return dis_sq\n",
    "\n",
    "def generate_distance_hubo():\n",
    "    distance_sq = 0\n",
    "    for pair in distance_pairs:\n",
    "        distance_sq += distance_squared(coords_median_2[pair[0]], coords_median_2[pair[1]])\n",
    "    return distance_sq.expand()"
   ]
  },
  {
   "cell_type": "code",
   "execution_count": 138,
   "metadata": {
    "tags": []
   },
   "outputs": [
    {
     "output_type": "stream",
     "name": "stdout",
     "text": [
      "The time of execution:  139.42659521102905 seconds\n"
     ]
    }
   ],
   "source": [
    "start = time.time()\n",
    "\n",
    "hard_constraint = generate_hard_hubo()\n",
    "distance_constraint = generate_distance_hubo()\n",
    "hubo_expr = sp.expand(hard_constraint - distance_constraint)\n",
    "\n",
    "end = time.time()\n",
    "print(\"The time of execution: \", (end-start), \"seconds\")"
   ]
  },
  {
   "source": [
    "# The full hubo expression is written in the file 'full_hubo_expr.txt'"
   ],
   "cell_type": "markdown",
   "metadata": {}
  },
  {
   "cell_type": "code",
   "execution_count": 139,
   "metadata": {},
   "outputs": [],
   "source": [
    "def hubo_expr_to_dict():\n",
    "    hubo_args = hubo_expr.args\n",
    "    hubo_dict = {}\n",
    "    for monom in hubo_args:\n",
    "        dict_value = monom.as_coeff_mul()[0]\n",
    "        monom_key = []\n",
    "        monom_coeffs = monom.as_coeff_mul()[1]\n",
    "        for monom_item in monom_coeffs:\n",
    "            if re.match(\"^x(\\d*)\\d$\", str(monom_item)):\n",
    "                monom_key.append(int(str(monom_item)[1:]))\n",
    "            elif re.match(\"^x(\\d*)\\\\*\\\\*(\\d)$\", str(monom_item)):\n",
    "                monom_key.append(int(str(monom_item).split('**')[0][1:]))\n",
    "            else:\n",
    "                dict_value *= monom_item\n",
    "        if len(monom_key) > 0:\n",
    "            monom_key.sort()\n",
    "            dict_key = tuple(monom_key)\n",
    "        else:\n",
    "            dict_key = ()\n",
    "        dict_value = dict_value.evalf()\n",
    "        if dict_key in hubo_dict:\n",
    "            hubo_dict[dict_key] += dict_value\n",
    "        else:\n",
    "            hubo_dict[dict_key] = dict_value\n",
    "    return hubo_dict"
   ]
  },
  {
   "cell_type": "code",
   "execution_count": 140,
   "metadata": {
    "tags": []
   },
   "outputs": [],
   "source": [
    "import re\n",
    "hubo_dict = hubo_expr_to_dict()"
   ]
  },
  {
   "cell_type": "code",
   "execution_count": 141,
   "metadata": {},
   "outputs": [
    {
     "output_type": "stream",
     "name": "stdout",
     "text": [
      "full hubo dictionary written in file - ./Hubo_Rot_2/25A12Rot_37_hubo.txt\n"
     ]
    }
   ],
   "source": [
    "hubo_folder = './Hubo_Rot_2/'\n",
    "hubo_fname = mol_fname[:-5] + '_hubo.txt'\n",
    "hubo_filepath = hubo_folder + hubo_fname\n",
    "f = open(hubo_filepath, \"w\")\n",
    "print('full hubo dictionary written in file - ' + hubo_filepath)\n",
    "f.write(str(hubo_dict))\n",
    "f.close()"
   ]
  },
  {
   "cell_type": "code",
   "execution_count": 151,
   "metadata": {},
   "outputs": [],
   "source": [
    "#This is used to check the maximum coefficient appearing in Hubo_B\n",
    "A_const=0\n",
    "read_dictionary_B = open(hubo_filepath, 'r').read()\n",
    "HUBO_B=eval(read_dictionary_B)\n",
    "\n",
    "#We set the Hard constraint strength as the (maximum coefficient appearing in Hubo_B)*const.\n",
    "#const was empirically selected to be 10\n",
    "const=10\n",
    "A_const=max(map(abs, list(HUBO_B.values())))*const\n",
    "# A_const = 1000\n",
    "\n",
    "#read the final HUBO\n",
    "read_dictionary= open(hubo_filepath, 'r').read()\n",
    "HUBO=eval(read_dictionary)"
   ]
  },
  {
   "cell_type": "code",
   "execution_count": 152,
   "metadata": {},
   "outputs": [
    {
     "output_type": "stream",
     "name": "stdout",
     "text": [
      "Current size of the HUBO: 1369\n"
     ]
    }
   ],
   "source": [
    "print(\"Current size of the HUBO:\",len(HUBO)) "
   ]
  },
  {
   "cell_type": "code",
   "execution_count": 153,
   "metadata": {},
   "outputs": [],
   "source": [
    "def threshold_approx(h, val=1):\n",
    "    d =h.copy()\n",
    "    monoms = h.keys()\n",
    "    for m in monoms:     \n",
    "        temp = d[m]\n",
    "        if (temp < 0.0):\n",
    "            temp = -1.0 * temp\n",
    "        if (temp <= (10.0 ** (val))):\n",
    "            del d[m]\n",
    "    return d"
   ]
  },
  {
   "cell_type": "code",
   "execution_count": 154,
   "metadata": {},
   "outputs": [
    {
     "output_type": "stream",
     "name": "stdout",
     "text": [
      "Size of the HUBO after threshold approximation: 73\n"
     ]
    }
   ],
   "source": [
    "#Coefficints with absolute value less than 10^{threshold} are deleted from the HUBO.\n",
    "threshold=3\n",
    "\n",
    "HUBO=threshold_approx(HUBO,threshold)\n",
    "\n",
    "print(\"Size of the HUBO after threshold approximation:\",len(HUBO))"
   ]
  },
  {
   "cell_type": "code",
   "execution_count": 155,
   "metadata": {},
   "outputs": [],
   "source": [
    "import dimod\n",
    "#calculate the strength parameter needed by make_quadratic\n",
    "max_hubo_value=max(map(abs, list(HUBO.values())))\n",
    "strength=1.5*max_hubo_value\n",
    "#generate the bqm\n",
    "bqm = dimod.make_quadratic(HUBO, strength, dimod.BINARY)"
   ]
  },
  {
   "cell_type": "code",
   "execution_count": 156,
   "metadata": {},
   "outputs": [],
   "source": [
    "def find_bond_theta_soln(solution):\n",
    "    thetas = generate_thetas()\n",
    "    bond_theta_soln = {}\n",
    "    for key, value in solution.items():\n",
    "        if solution[key] == 1:\n",
    "            bond_theta_soln[key//n_angles] = thetas[key%n_angles]\n",
    "    return bond_theta_soln"
   ]
  },
  {
   "cell_type": "code",
   "execution_count": 157,
   "metadata": {},
   "outputs": [
    {
     "output_type": "stream",
     "name": "stdout",
     "text": [
      "The time of execution:  0.016998291015625 s\n   0  1  2  3  4  5  6  7  8  9 10 11 12 13 14 15       energy num_oc.\n9  0  0  0  0  0  0  0  1  0  0  0  0  1  0  0  0 -2097.216642       1\n5  0  0  0  0  0  0  0  1  0  0  1  0  0  0  0  0 -2069.452944       1\n0  0  0  0  0  0  0  0  1  0  0  0  0  0  0  1  0 -2064.565039       1\n3  0  0  0  0  0  0  1  0  0  0  0  0  0  0  0  1 -1978.321098       1\n8  0  0  0  0  0  0  1  0  0  1  0  0  0  0  0  0  -1971.36733       1\n4  0  0  0  0  0  0  1  0  0  0  0  0  0  0  1  0 -1969.435042       1\n6  1  0  0  0  0  0  0  0  0  1  0  0  0  0  0  0 -1951.971708       1\n2  0  0  0  0  0  1  0  0  0  1  0  0  0  0  0  0 -1722.307578       1\n7  0  1  0  0  0  0  0  0  0  0  1  0  0  0  0  0 -1697.833642       1\n1  0  0  0  0  1  0  0  0  0  0  0  0  0  1  0  0 -1475.978885       1\n['BINARY', 10 rows, 10 samples, 16 variables]\n"
     ]
    }
   ],
   "source": [
    "import neal\n",
    "sampler = neal.SimulatedAnnealingSampler()\n",
    "sample_size=10\n",
    "start = time.time()\n",
    "sampleset = sampler.sample(bqm, num_reads=sample_size)\n",
    "end = time.time()\n",
    "print(\"The time of execution: \", (end-start), \"s\")\n",
    "print(sampleset)"
   ]
  },
  {
   "cell_type": "code",
   "execution_count": 158,
   "metadata": {},
   "outputs": [
    {
     "output_type": "stream",
     "name": "stdout",
     "text": [
      "{0: 0, 1: 0, 2: 0, 3: 0, 4: 0, 5: 0, 6: 0, 7: 1, 8: 0, 9: 0, 10: 0, 11: 0, 12: 1, 13: 0, 14: 0, 15: 0}\n{0: 7*pi/4, 1: pi}\n"
     ]
    }
   ],
   "source": [
    "sa_soln = sampleset.first.sample\n",
    "print(sa_soln)\n",
    "bond_theta_soln = find_bond_theta_soln(sa_soln)\n",
    "print(bond_theta_soln)"
   ]
  },
  {
   "cell_type": "code",
   "execution_count": 159,
   "metadata": {
    "tags": []
   },
   "outputs": [
    {
     "output_type": "stream",
     "name": "stdout",
     "text": [
      "The time of execution:  0.20296144485473633 s\n",
      "   0  1  2  3  4  5  6  7  8  9 10 11 12 13 14 15       energy num_oc. ...\n",
      "0  0  0  0  0  0  0  0  1  0  0  0  0  1  0  0  0 -2097.216642       9 ...\n",
      "1  0  0  0  0  0  0  0  1  0  0  0  1  0  0  0  0 -2091.128627      11 ...\n",
      "2  0  0  0  0  0  0  0  1  0  0  0  0  0  1  0  0 -2077.262318       3 ...\n",
      "3  0  0  0  0  0  0  0  1  1  0  0  0  0  0  0  0 -2077.104742       7 ...\n",
      "4  0  0  0  0  0  0  0  1  0  0  0  0  0  0  0  1 -2073.451095      12 ...\n",
      "5  0  0  0  0  0  0  0  1  0  0  1  0  0  0  0  0 -2069.452944      19 ...\n",
      "6  0  0  0  0  0  0  0  1  0  1  0  0  0  0  0  0 -2066.497328      11 ...\n",
      "7  0  0  0  0  0  0  0  1  0  0  0  0  0  0  1  0 -2064.565039       6 ...\n",
      "8  0  0  0  0  0  0  1  0  0  0  0  0  1  0  0  0 -2002.086644      14 ...\n",
      "9  0  0  0  0  0  0  1  0  0  0  0  1  0  0  0  0 -1995.998629       6 ...\n",
      "['BINARY', 10 rows, 98 samples, 16 variables]\n"
     ]
    }
   ],
   "source": [
    "from dwave.system import DWaveSampler, EmbeddingComposite\n",
    "sampler = EmbeddingComposite(DWaveSampler())\n",
    "start = time.time()\n",
    "sampleset = sampler.sample(bqm, num_reads=1000)\n",
    "end = time.time()\n",
    "print(\"The time of execution: \", (end-start), \"s\")\n",
    "print(sampleset.slice(10))"
   ]
  },
  {
   "cell_type": "code",
   "execution_count": 160,
   "metadata": {},
   "outputs": [
    {
     "output_type": "stream",
     "name": "stdout",
     "text": [
      "{0: 0, 1: 0, 2: 0, 3: 0, 4: 0, 5: 0, 6: 0, 7: 1, 8: 0, 9: 0, 10: 0, 11: 0, 12: 1, 13: 0, 14: 0, 15: 0}\n{0: 7*pi/4, 1: pi}\n"
     ]
    }
   ],
   "source": [
    "qa_soln = sampleset.first.sample\n",
    "print(qa_soln)\n",
    "bond_theta_soln = find_bond_theta_soln(qa_soln)\n",
    "print(bond_theta_soln)"
   ]
  },
  {
   "cell_type": "code",
   "execution_count": 161,
   "metadata": {},
   "outputs": [],
   "source": [
    "def rotation_matrix_new_coords(first_coords, second_coords, bond_no, soln_theta):\n",
    "    x_dash, y_dash, z_dash = first_coords[0], first_coords[1], first_coords[2]\n",
    "    x_ddash, y_ddash, z_ddash = second_coords[0], second_coords[1], second_coords[2]\n",
    "    dx = x_ddash - x_dash\n",
    "    dy = y_ddash - y_dash\n",
    "    dz = z_ddash - z_dash\n",
    "    l_sq = dx ** 2 + dy ** 2 + dz ** 2\n",
    "    l = sp.sqrt(l_sq)\n",
    "    c_theta = sp.cos(soln_theta)\n",
    "    s_theta = sp.sin(soln_theta)\n",
    "    index = n_angles * bond_no\n",
    "    rotation_matrix = eye(4)\n",
    "    rotation_matrix[0, 0] = ((dx ** 2 + (dy ** 2 + dz ** 2) * c_theta) / l_sq).evalf()\n",
    "    rotation_matrix[0, 1] = ((dx * dy * (1 - c_theta) - dz * l * s_theta) / l_sq).evalf()\n",
    "    rotation_matrix[0, 2] = ((dx * dz * (1 - c_theta) + dy * l * s_theta) / l_sq).evalf()\n",
    "    rotation_matrix[0, 3] = (((x_dash * (dy ** 2 + dz ** 2) - dx * (y_dash * dy + z_dash * dz)) * (1 - c_theta) + (\n",
    "            y_dash * dz - z_dash * dy) * l * s_theta) / l_sq).evalf()\n",
    "    rotation_matrix[1, 0] = ((dx * dy * (1 - c_theta) + dz * l * s_theta) / l_sq).evalf()\n",
    "    rotation_matrix[1, 1] = ((dy ** 2 + (dx ** 2 + dz ** 2) * c_theta) / l_sq).evalf()\n",
    "    rotation_matrix[1, 2] = ((dy * dz * (1 - c_theta) - dx * l * s_theta) / l_sq).evalf()\n",
    "    rotation_matrix[1, 3] = (((y_dash * (dx ** 2 + dz ** 2) - dy * (x_dash * dx + z_dash * dz)) * (1 - c_theta) + (\n",
    "            z_dash * dx - x_dash * dz) * l * s_theta) / l_sq).evalf()\n",
    "    rotation_matrix[2, 0] = ((dx * dz * (1 - c_theta) - dy * l * s_theta) / l_sq).evalf()\n",
    "    rotation_matrix[2, 1] = ((dy * dz * (1 - c_theta) + dx * l * s_theta) / l_sq).evalf()\n",
    "    rotation_matrix[2, 2] = ((dz ** 2 + (dx ** 2 + dy ** 2) * c_theta) / l_sq).evalf()\n",
    "    rotation_matrix[2, 3] = (((z_dash * (dx ** 2 + dy ** 2) - dz * (x_dash * dx + y_dash * dy)) * (1 - c_theta) + (\n",
    "            x_dash * dy - y_dash * dx) * l * s_theta) / l_sq).evalf()\n",
    "    return rotation_matrix"
   ]
  },
  {
   "cell_type": "code",
   "execution_count": 162,
   "metadata": {},
   "outputs": [],
   "source": [
    "def compute_new_coords(solution):\n",
    "    final_coords = copy.deepcopy(coords_mol)\n",
    "    for i in coords_rotation_mol:\n",
    "        if len(coords_rotation_mol[i]) > 0:\n",
    "            rot_mat = eye(4, 4)\n",
    "            for bond_no in coords_rotation_mol[i]:\n",
    "                temp_rot_mat = rotation_matrix_new_coords(coords_mol[torsional_bonds_mol[bond_no][0]], coords_mol[torsional_bonds_mol[bond_no][1]], bond_no, solution[bond_no])\n",
    "                rot_mat = rot_mat * temp_rot_mat\n",
    "            final_coords[i] = rotate_coordinates(rot_mat, coords_mol[i])\n",
    "    return final_coords\n"
   ]
  },
  {
   "cell_type": "code",
   "execution_count": 163,
   "metadata": {},
   "outputs": [
    {
     "output_type": "execute_result",
     "data": {
      "text/plain": [
       "{0: [10.932, -2.277, -2.406],\n",
       " 1: [9.921, -1.254, -1.913],\n",
       " 2: [9.095, -1.798, -0.745],\n",
       " 3: [8.087, -0.752, -0.246],\n",
       " 4: [7.183, -1.278, 0.798],\n",
       " 5: [7.885, -1.44, 2.071],\n",
       " 6: [6.007, -0.379, 0.923],\n",
       " 7: [4.858, -0.861, 1.855],\n",
       " 8: [5.052, -0.424, 3.26],\n",
       " 9: [4.15424692230288, 1.19481223240277, 1.64730524657996],\n",
       " 10: [2.94695281637116, 1.28901773337597, 2.43130669132922],\n",
       " 11: [2.43310506544955, 2.55658382000679, 2.36232332452059],\n",
       " 12: [2.94131784821421, 3.53455415247080, 3.21824025755488],\n",
       " 13: [2.39118009841086, 4.81525518393715, 3.21221329792877],\n",
       " 14: [1.32621332137866, 5.11803594690604, 2.35905705585254],\n",
       " 15: [0.810224342729386, 4.14044452471101, 1.50251786517696],\n",
       " 16: [-0.253789818892602, 4.37267094753617, 0.673240015231790],\n",
       " 17: [-1.23078863351286, 3.32722613853197, 0.643115813055177],\n",
       " 18: [-2.54289491454414, 3.84504976979816, 0.127060782868885],\n",
       " 19: [-3.05435752200189, 5.21336166828141, 0.506184179194761],\n",
       " 20: [-2.38693903055578, 4.78759482502551, -1.25039238641619],\n",
       " 21: [1.35378336314230, 2.85206702901846, 1.52662221998576],\n",
       " 22: [0.814401475537879, 1.80730130182993, 0.646708159059059],\n",
       " 23: [1.44052555747809, 1.47036229416632, -0.353734612482215],\n",
       " 24: [0.085, -3.505, 1.189]}"
      ]
     },
     "metadata": {},
     "execution_count": 163
    }
   ],
   "source": [
    "compute_new_coords(bond_theta_soln)"
   ]
  },
  {
   "cell_type": "code",
   "execution_count": 164,
   "metadata": {},
   "outputs": [],
   "source": [
    "def find_volume_change(old_coords, new_coords):\n",
    "    n = len(old_coords)\n",
    "    old_distance_sq = 0\n",
    "    for i in range(n-1):\n",
    "        for j in range(i+1, n):\n",
    "            old_distance_sq += distance_squared(old_coords[i], old_coords[j])\n",
    "    \n",
    "    new_distance_sq = 0\n",
    "    for i in range(n-1):\n",
    "        for j in range(i+1, n):\n",
    "            new_distance_sq += distance_squared(new_coords[i], new_coords[j])\n",
    "    # print(\"new volume: \", new_distance_sq.evalf())\n",
    "    # print(\"old volume: \", old_distance_sq)\n",
    "    # print('change in volume: ', new_distance_sq.evalf() - old_distance_sq)\n",
    "    return new_distance_sq.evalf() - old_distance_sq"
   ]
  },
  {
   "cell_type": "code",
   "execution_count": 165,
   "metadata": {},
   "outputs": [],
   "source": [
    "# bond_theta_soln = {0: 0, 1: sp.pi}\n",
    "# bond_theta_soln = {0: sp.pi/4}\n",
    "# bond_theta_soln = {0: 2*sp.pi/4}\n",
    "# bond_theta_soln = {0: 3*sp.pi/4}\n",
    "# bond_theta_soln = {0: 4*sp.pi/4}\n",
    "# bond_theta_soln = {0: 5*sp.pi/4}\n",
    "# bond_theta_soln = {0: 6*sp.pi/4}\n",
    "# bond_theta_soln = {0: 7*sp.pi/4}"
   ]
  },
  {
   "cell_type": "code",
   "execution_count": 166,
   "metadata": {},
   "outputs": [
    {
     "output_type": "stream",
     "name": "stdout",
     "text": [
      "change in volume:  1333.14391192819\n"
     ]
    }
   ],
   "source": [
    "new_coords = compute_new_coords(bond_theta_soln)\n",
    "volume_change = find_volume_change(coords_mol, new_coords)\n",
    "print('change in volume: ', volume_change)"
   ]
  },
  {
   "cell_type": "code",
   "execution_count": 167,
   "metadata": {},
   "outputs": [
    {
     "output_type": "stream",
     "name": "stdout",
     "text": [
      "The time of execution:  18.05426335334778 s\nbest solution:  {0: 7*pi/4, 1: 3*pi/2}\nbest volume change:  1728.86274523471\n"
     ]
    }
   ],
   "source": [
    "# brute force solution\n",
    "start = time.time()\n",
    "thetas = generate_thetas()\n",
    "best_volume_change = 0\n",
    "best_soln = {}\n",
    "for i in range(8):\n",
    "    for j in range(8):\n",
    "        bond_theta_soln = {0: thetas[i], 1: thetas[j]}\n",
    "        new_coords = compute_new_coords(bond_theta_soln)\n",
    "        vol_difference = find_volume_change(coords_mol, new_coords)\n",
    "        if vol_difference > best_volume_change:\n",
    "            best_volume_change = vol_difference\n",
    "            best_soln = bond_theta_soln\n",
    "end = time.time()\n",
    "print(\"The time of execution: \", (end-start), \"s\")    \n",
    "print('best solution: ', best_soln)\n",
    "print('best volume change: ', best_volume_change)\n",
    "\n",
    "\n"
   ]
  },
  {
   "cell_type": "code",
   "execution_count": 94,
   "metadata": {},
   "outputs": [],
   "source": [
    "from rdkit.Geometry import Point3D\n",
    "conf = mol.GetConformer()\n",
    "for i in range(len(coords_mol)):\n",
    "    x, y, z = new_coords[i]\n",
    "    conf.SetAtomPosition(i, Point3D(float(x), float(y), float(z)))"
   ]
  },
  {
   "cell_type": "code",
   "execution_count": 95,
   "metadata": {},
   "outputs": [
    {
     "output_type": "display_data",
     "data": {
      "application/3dmoljs_load.v0": "<div id=\"3dmolviewer_1687182771981421\"  style=\"position: relative; width: 500px; height: 250px\">\n        <p id=\"3dmolwarning_1687182771981421\" style=\"background-color:#ffcccc;color:black\">You appear to be running in JupyterLab (or JavaScript failed to load for some other reason).  You need to install the 3dmol extension: <br>\n        <tt>jupyter labextension install jupyterlab_3dmol</tt></p>\n        </div>\n<script>\n\nvar loadScriptAsync = function(uri){\n  return new Promise((resolve, reject) => {\n    //this is to ignore the existence of requirejs amd\n    var savedexports, savedmodule;\n    if (typeof exports !== 'undefined') savedexports = exports;\n    else exports = {}\n    if (typeof module !== 'undefined') savedmodule = module;\n    else module = {}\n\n    var tag = document.createElement('script');\n    tag.src = uri;\n    tag.async = true;\n    tag.onload = () => {\n        exports = savedexports;\n        module = savedmodule;\n        resolve();\n    };\n  var firstScriptTag = document.getElementsByTagName('script')[0];\n  firstScriptTag.parentNode.insertBefore(tag, firstScriptTag);\n});\n};\n\nif(typeof $3Dmolpromise === 'undefined') {\n$3Dmolpromise = null;\n  $3Dmolpromise = loadScriptAsync('https://cdnjs.cloudflare.com/ajax/libs/3Dmol/2.0.1/3Dmol-min.js');\n}\n\nvar viewer_1687182771981421 = null;\nvar warn = document.getElementById(\"3dmolwarning_1687182771981421\");\nif(warn) {\n    warn.parentNode.removeChild(warn);\n}\n$3Dmolpromise.then(function() {\nviewer_1687182771981421 = $3Dmol.createViewer(document.getElementById(\"3dmolviewer_1687182771981421\"),{backgroundColor:\"white\"});\nviewer_1687182771981421.zoomTo();\n\tviewer_1687182771981421.addModel(\"27\\n     RDKit          3D\\n\\n 20 20  0  0  0  0  0  0  0  0999 V2000\\n   -0.4640    3.1340   -6.7450 C   0  0  0  0  0  0  0  0  0  0  0  0\\n   -0.5950    1.6250   -6.7070 C   0  0  0  0  0  0  0  0  0  0  0  0\\n   -0.2300    0.9760   -5.0780 S   0  0  0  0  0  6  0  0  0  0  0  0\\n   -1.1770    1.5360   -4.1390 O   0  0  0  0  0  0  0  0  0  0  0  0\\n    1.1950    1.0520   -4.8390 O   0  0  0  0  0  0  0  0  0  0  0  0\\n   -0.6170   -0.6660   -5.2720 N   0  0  0  0  0  0  0  0  0  0  0  0\\n    0.2990   -1.4830   -6.1170 C   0  0  0  0  0  0  0  0  0  0  0  0\\n   -0.5180   -2.2260   -7.1910 C   0  0  0  0  0  0  0  0  0  0  0  0\\n    0.1007   -2.0992   -8.5165 N   0  0  0  0  0  0  0  0  0  0  0  0\\n   -0.7170   -2.7724   -9.5344 C   0  0  0  0  0  0  0  0  0  0  0  0\\n   -0.1168   -2.6178  -10.9364 C   0  0  0  0  0  0  0  0  0  0  0  0\\n   -0.9348   -3.3320  -11.8663 O   0  0  0  0  0  0  0  0  0  0  0  0\\n   -0.4461   -3.2073  -13.1955 C   0  0  0  0  0  0  0  0  0  0  0  0\\n   -1.0980   -1.3720   -4.0490 C   0  0  0  0  0  0  0  0  0  0  0  0\\n   -0.1200   -1.3050   -2.8690 C   0  0  0  0  0  0  0  0  0  0  0  0\\n   -0.5410   -2.2440   -1.8760 O   0  0  0  0  0  0  0  0  0  0  0  0\\n    0.4537   -2.8208   -0.9924 C   0  0  0  0  0  0  0  0  0  0  0  0\\n    1.8303   -3.2272   -1.5306 C   0  0  0  0  0  0  0  0  0  0  0  0\\n    2.5078   -2.4610   -0.5053 O   0  0  0  0  0  0  0  0  0  0  0  0\\n    1.2486   -1.8990   -0.0617 C   0  0  0  0  0  0  0  0  0  0  0  0\\n  1  2  1  0\\n  2  3  1  0\\n  3  4  2  0\\n  3  5  2  0\\n  3  6  1  0\\n  6  7  1  0\\n  6 14  1  0\\n  7  8  1  0\\n  8  9  1  0\\n  9 10  1  0\\n 10 11  1  0\\n 11 12  1  0\\n 12 13  1  0\\n 14 15  1  0\\n 15 16  1  0\\n 16 17  1  0\\n 17 18  1  0\\n 18 19  1  0\\n 19 20  1  0\\n 20 17  1  0\\nM  END\\n\",\"mol\");\n\tviewer_1687182771981421.setStyle({\"stick\": {}});\n\tviewer_1687182771981421.zoomTo();\nviewer_1687182771981421.render();\n});\n</script>",
      "text/html": "<div id=\"3dmolviewer_1687182771981421\"  style=\"position: relative; width: 500px; height: 250px\">\n        <p id=\"3dmolwarning_1687182771981421\" style=\"background-color:#ffcccc;color:black\">You appear to be running in JupyterLab (or JavaScript failed to load for some other reason).  You need to install the 3dmol extension: <br>\n        <tt>jupyter labextension install jupyterlab_3dmol</tt></p>\n        </div>\n<script>\n\nvar loadScriptAsync = function(uri){\n  return new Promise((resolve, reject) => {\n    //this is to ignore the existence of requirejs amd\n    var savedexports, savedmodule;\n    if (typeof exports !== 'undefined') savedexports = exports;\n    else exports = {}\n    if (typeof module !== 'undefined') savedmodule = module;\n    else module = {}\n\n    var tag = document.createElement('script');\n    tag.src = uri;\n    tag.async = true;\n    tag.onload = () => {\n        exports = savedexports;\n        module = savedmodule;\n        resolve();\n    };\n  var firstScriptTag = document.getElementsByTagName('script')[0];\n  firstScriptTag.parentNode.insertBefore(tag, firstScriptTag);\n});\n};\n\nif(typeof $3Dmolpromise === 'undefined') {\n$3Dmolpromise = null;\n  $3Dmolpromise = loadScriptAsync('https://cdnjs.cloudflare.com/ajax/libs/3Dmol/2.0.1/3Dmol-min.js');\n}\n\nvar viewer_1687182771981421 = null;\nvar warn = document.getElementById(\"3dmolwarning_1687182771981421\");\nif(warn) {\n    warn.parentNode.removeChild(warn);\n}\n$3Dmolpromise.then(function() {\nviewer_1687182771981421 = $3Dmol.createViewer(document.getElementById(\"3dmolviewer_1687182771981421\"),{backgroundColor:\"white\"});\nviewer_1687182771981421.zoomTo();\n\tviewer_1687182771981421.addModel(\"27\\n     RDKit          3D\\n\\n 20 20  0  0  0  0  0  0  0  0999 V2000\\n   -0.4640    3.1340   -6.7450 C   0  0  0  0  0  0  0  0  0  0  0  0\\n   -0.5950    1.6250   -6.7070 C   0  0  0  0  0  0  0  0  0  0  0  0\\n   -0.2300    0.9760   -5.0780 S   0  0  0  0  0  6  0  0  0  0  0  0\\n   -1.1770    1.5360   -4.1390 O   0  0  0  0  0  0  0  0  0  0  0  0\\n    1.1950    1.0520   -4.8390 O   0  0  0  0  0  0  0  0  0  0  0  0\\n   -0.6170   -0.6660   -5.2720 N   0  0  0  0  0  0  0  0  0  0  0  0\\n    0.2990   -1.4830   -6.1170 C   0  0  0  0  0  0  0  0  0  0  0  0\\n   -0.5180   -2.2260   -7.1910 C   0  0  0  0  0  0  0  0  0  0  0  0\\n    0.1007   -2.0992   -8.5165 N   0  0  0  0  0  0  0  0  0  0  0  0\\n   -0.7170   -2.7724   -9.5344 C   0  0  0  0  0  0  0  0  0  0  0  0\\n   -0.1168   -2.6178  -10.9364 C   0  0  0  0  0  0  0  0  0  0  0  0\\n   -0.9348   -3.3320  -11.8663 O   0  0  0  0  0  0  0  0  0  0  0  0\\n   -0.4461   -3.2073  -13.1955 C   0  0  0  0  0  0  0  0  0  0  0  0\\n   -1.0980   -1.3720   -4.0490 C   0  0  0  0  0  0  0  0  0  0  0  0\\n   -0.1200   -1.3050   -2.8690 C   0  0  0  0  0  0  0  0  0  0  0  0\\n   -0.5410   -2.2440   -1.8760 O   0  0  0  0  0  0  0  0  0  0  0  0\\n    0.4537   -2.8208   -0.9924 C   0  0  0  0  0  0  0  0  0  0  0  0\\n    1.8303   -3.2272   -1.5306 C   0  0  0  0  0  0  0  0  0  0  0  0\\n    2.5078   -2.4610   -0.5053 O   0  0  0  0  0  0  0  0  0  0  0  0\\n    1.2486   -1.8990   -0.0617 C   0  0  0  0  0  0  0  0  0  0  0  0\\n  1  2  1  0\\n  2  3  1  0\\n  3  4  2  0\\n  3  5  2  0\\n  3  6  1  0\\n  6  7  1  0\\n  6 14  1  0\\n  7  8  1  0\\n  8  9  1  0\\n  9 10  1  0\\n 10 11  1  0\\n 11 12  1  0\\n 12 13  1  0\\n 14 15  1  0\\n 15 16  1  0\\n 16 17  1  0\\n 17 18  1  0\\n 18 19  1  0\\n 19 20  1  0\\n 20 17  1  0\\nM  END\\n\",\"mol\");\n\tviewer_1687182771981421.setStyle({\"stick\": {}});\n\tviewer_1687182771981421.zoomTo();\nviewer_1687182771981421.render();\n});\n</script>"
     },
     "metadata": {}
    }
   ],
   "source": [
    "mblock = Chem.MolToMolBlock(mol)\n",
    "view = py3Dmol.view(width=500, height=250)\n",
    "view.addModel(mblock, 'mol')\n",
    "view.setStyle({'stick':{}})\n",
    "view.zoomTo()\n",
    "view.show()"
   ]
  },
  {
   "cell_type": "code",
   "execution_count": 96,
   "metadata": {},
   "outputs": [
    {
     "output_type": "display_data",
     "data": {
      "application/3dmoljs_load.v0": "<div id=\"3dmolviewer_16871827828369553\"  style=\"position: relative; width: 500px; height: 250px\">\n        <p id=\"3dmolwarning_16871827828369553\" style=\"background-color:#ffcccc;color:black\">You appear to be running in JupyterLab (or JavaScript failed to load for some other reason).  You need to install the 3dmol extension: <br>\n        <tt>jupyter labextension install jupyterlab_3dmol</tt></p>\n        </div>\n<script>\n\nvar loadScriptAsync = function(uri){\n  return new Promise((resolve, reject) => {\n    //this is to ignore the existence of requirejs amd\n    var savedexports, savedmodule;\n    if (typeof exports !== 'undefined') savedexports = exports;\n    else exports = {}\n    if (typeof module !== 'undefined') savedmodule = module;\n    else module = {}\n\n    var tag = document.createElement('script');\n    tag.src = uri;\n    tag.async = true;\n    tag.onload = () => {\n        exports = savedexports;\n        module = savedmodule;\n        resolve();\n    };\n  var firstScriptTag = document.getElementsByTagName('script')[0];\n  firstScriptTag.parentNode.insertBefore(tag, firstScriptTag);\n});\n};\n\nif(typeof $3Dmolpromise === 'undefined') {\n$3Dmolpromise = null;\n  $3Dmolpromise = loadScriptAsync('https://cdnjs.cloudflare.com/ajax/libs/3Dmol/2.0.1/3Dmol-min.js');\n}\n\nvar viewer_16871827828369553 = null;\nvar warn = document.getElementById(\"3dmolwarning_16871827828369553\");\nif(warn) {\n    warn.parentNode.removeChild(warn);\n}\n$3Dmolpromise.then(function() {\nviewer_16871827828369553 = $3Dmol.createViewer(document.getElementById(\"3dmolviewer_16871827828369553\"),{backgroundColor:\"white\"});\nviewer_16871827828369553.zoomTo();\n\tviewer_16871827828369553.addModel(\"52\\n     RDKit          3D\\n\\n 25 26  0  0  0  0  0  0  0  0999 V2000\\n   12.3050   -0.7780   -0.5080 C   0  0  0  0  0  0  0  0  0  0  0  0\\n   11.0000   -0.0100   -0.3730 C   0  0  0  0  0  0  0  0  0  0  0  0\\n    9.8390   -0.9380   -0.0080 C   0  0  0  0  0  0  0  0  0  0  0  0\\n    8.5260   -0.1540    0.1300 C   0  0  0  0  0  0  0  0  0  0  0  0\\n    7.3330   -1.0020    0.3040 N   0  0  0  0  0  0  0  0  0  0  0  0\\n    7.3850   -1.8850    1.4820 C   0  0  0  0  0  0  0  0  0  0  0  0\\n    7.4200   -1.1870    2.8490 C   0  0  0  0  0  0  0  0  0  0  0  0\\n    7.4630   -2.2110    3.9870 C   0  0  0  0  0  0  0  0  0  0  0  0\\n    7.4940   -1.5310    5.3470 C   0  0  0  0  0  0  0  0  0  0  0  0\\n    6.1140   -0.1780    0.2200 C   0  0  0  0  0  0  0  0  0  0  0  0\\n    4.8080   -0.9780    0.2270 C   0  0  0  0  0  0  0  0  0  0  0  0\\n    3.6090   -0.0750   -0.0570 C   0  0  0  0  0  0  0  0  0  0  0  0\\n    2.4350   -0.8830    0.0090 O   0  0  0  0  0  0  0  0  0  0  0  0\\n    1.2080   -0.3080   -0.2140 C   0  0  0  0  0  0  0  0  0  0  0  0\\n    1.0600    1.0580   -0.5060 C   0  0  0  0  0  0  0  0  0  0  0  0\\n   -0.1990    1.6010   -0.7060 C   0  0  0  0  0  0  0  0  0  0  0  0\\n   -1.3100    0.7820   -0.6080 C   0  0  0  0  0  0  0  0  0  0  0  0\\n   -1.1700   -0.5870   -0.3170 C   0  0  0  0  0  0  0  0  0  0  0  0\\n   -2.6770   -1.4390   -0.2130 Cl  0  0  0  0  0  0  0  0  0  0  0  0\\n    0.0950   -1.2060   -0.1160 C   0  0  0  0  0  0  0  0  0  0  0  0\\n    0.3500   -2.7800    0.2170 C   0  0  0  0  0  0  0  0  0  0  0  0\\n   -0.8490   -3.6480    0.2190 N   0  0  0  0  0  0  0  0  0  0  0  0\\n    1.1810   -3.1650    1.4700 C   0  0  0  0  0  0  0  0  0  0  0  0\\n    2.1340   -3.9240    0.6850 O   0  0  0  0  0  0  0  0  0  0  0  0\\n    1.4490   -3.5740   -0.5440 C   0  0  0  0  0  0  0  0  0  0  0  0\\n  1  2  1  0\\n  2  3  1  0\\n  3  4  1  0\\n  4  5  1  0\\n  5  6  1  0\\n  5 10  1  0\\n  6  7  1  0\\n  7  8  1  0\\n  8  9  1  0\\n 10 11  1  0\\n 11 12  1  0\\n 12 13  1  0\\n 13 14  1  0\\n 14 15  2  0\\n 15 16  1  0\\n 16 17  2  0\\n 17 18  1  0\\n 18 19  1  0\\n 18 20  2  0\\n 20 14  1  0\\n 20 21  1  0\\n 21 22  1  0\\n 21 23  1  0\\n 23 24  1  0\\n 24 25  1  0\\n 25 21  1  0\\nM  END\\n\",\"mol\");\n\tviewer_16871827828369553.setStyle({\"stick\": {}});\n\tviewer_16871827828369553.zoomTo();\nviewer_16871827828369553.render();\n});\n</script>",
      "text/html": "<div id=\"3dmolviewer_16871827828369553\"  style=\"position: relative; width: 500px; height: 250px\">\n        <p id=\"3dmolwarning_16871827828369553\" style=\"background-color:#ffcccc;color:black\">You appear to be running in JupyterLab (or JavaScript failed to load for some other reason).  You need to install the 3dmol extension: <br>\n        <tt>jupyter labextension install jupyterlab_3dmol</tt></p>\n        </div>\n<script>\n\nvar loadScriptAsync = function(uri){\n  return new Promise((resolve, reject) => {\n    //this is to ignore the existence of requirejs amd\n    var savedexports, savedmodule;\n    if (typeof exports !== 'undefined') savedexports = exports;\n    else exports = {}\n    if (typeof module !== 'undefined') savedmodule = module;\n    else module = {}\n\n    var tag = document.createElement('script');\n    tag.src = uri;\n    tag.async = true;\n    tag.onload = () => {\n        exports = savedexports;\n        module = savedmodule;\n        resolve();\n    };\n  var firstScriptTag = document.getElementsByTagName('script')[0];\n  firstScriptTag.parentNode.insertBefore(tag, firstScriptTag);\n});\n};\n\nif(typeof $3Dmolpromise === 'undefined') {\n$3Dmolpromise = null;\n  $3Dmolpromise = loadScriptAsync('https://cdnjs.cloudflare.com/ajax/libs/3Dmol/2.0.1/3Dmol-min.js');\n}\n\nvar viewer_16871827828369553 = null;\nvar warn = document.getElementById(\"3dmolwarning_16871827828369553\");\nif(warn) {\n    warn.parentNode.removeChild(warn);\n}\n$3Dmolpromise.then(function() {\nviewer_16871827828369553 = $3Dmol.createViewer(document.getElementById(\"3dmolviewer_16871827828369553\"),{backgroundColor:\"white\"});\nviewer_16871827828369553.zoomTo();\n\tviewer_16871827828369553.addModel(\"52\\n     RDKit          3D\\n\\n 25 26  0  0  0  0  0  0  0  0999 V2000\\n   12.3050   -0.7780   -0.5080 C   0  0  0  0  0  0  0  0  0  0  0  0\\n   11.0000   -0.0100   -0.3730 C   0  0  0  0  0  0  0  0  0  0  0  0\\n    9.8390   -0.9380   -0.0080 C   0  0  0  0  0  0  0  0  0  0  0  0\\n    8.5260   -0.1540    0.1300 C   0  0  0  0  0  0  0  0  0  0  0  0\\n    7.3330   -1.0020    0.3040 N   0  0  0  0  0  0  0  0  0  0  0  0\\n    7.3850   -1.8850    1.4820 C   0  0  0  0  0  0  0  0  0  0  0  0\\n    7.4200   -1.1870    2.8490 C   0  0  0  0  0  0  0  0  0  0  0  0\\n    7.4630   -2.2110    3.9870 C   0  0  0  0  0  0  0  0  0  0  0  0\\n    7.4940   -1.5310    5.3470 C   0  0  0  0  0  0  0  0  0  0  0  0\\n    6.1140   -0.1780    0.2200 C   0  0  0  0  0  0  0  0  0  0  0  0\\n    4.8080   -0.9780    0.2270 C   0  0  0  0  0  0  0  0  0  0  0  0\\n    3.6090   -0.0750   -0.0570 C   0  0  0  0  0  0  0  0  0  0  0  0\\n    2.4350   -0.8830    0.0090 O   0  0  0  0  0  0  0  0  0  0  0  0\\n    1.2080   -0.3080   -0.2140 C   0  0  0  0  0  0  0  0  0  0  0  0\\n    1.0600    1.0580   -0.5060 C   0  0  0  0  0  0  0  0  0  0  0  0\\n   -0.1990    1.6010   -0.7060 C   0  0  0  0  0  0  0  0  0  0  0  0\\n   -1.3100    0.7820   -0.6080 C   0  0  0  0  0  0  0  0  0  0  0  0\\n   -1.1700   -0.5870   -0.3170 C   0  0  0  0  0  0  0  0  0  0  0  0\\n   -2.6770   -1.4390   -0.2130 Cl  0  0  0  0  0  0  0  0  0  0  0  0\\n    0.0950   -1.2060   -0.1160 C   0  0  0  0  0  0  0  0  0  0  0  0\\n    0.3500   -2.7800    0.2170 C   0  0  0  0  0  0  0  0  0  0  0  0\\n   -0.8490   -3.6480    0.2190 N   0  0  0  0  0  0  0  0  0  0  0  0\\n    1.1810   -3.1650    1.4700 C   0  0  0  0  0  0  0  0  0  0  0  0\\n    2.1340   -3.9240    0.6850 O   0  0  0  0  0  0  0  0  0  0  0  0\\n    1.4490   -3.5740   -0.5440 C   0  0  0  0  0  0  0  0  0  0  0  0\\n  1  2  1  0\\n  2  3  1  0\\n  3  4  1  0\\n  4  5  1  0\\n  5  6  1  0\\n  5 10  1  0\\n  6  7  1  0\\n  7  8  1  0\\n  8  9  1  0\\n 10 11  1  0\\n 11 12  1  0\\n 12 13  1  0\\n 13 14  1  0\\n 14 15  2  0\\n 15 16  1  0\\n 16 17  2  0\\n 17 18  1  0\\n 18 19  1  0\\n 18 20  2  0\\n 20 14  1  0\\n 20 21  1  0\\n 21 22  1  0\\n 21 23  1  0\\n 23 24  1  0\\n 24 25  1  0\\n 25 21  1  0\\nM  END\\n\",\"mol\");\n\tviewer_16871827828369553.setStyle({\"stick\": {}});\n\tviewer_16871827828369553.zoomTo();\nviewer_16871827828369553.render();\n});\n</script>"
     },
     "metadata": {}
    }
   ],
   "source": [
    "mol_file = './Molecules/25A12Rot_2.mol2'\n",
    "mol = Chem.MolFromMol2File(mol_file)\n",
    "mblock = Chem.MolToMolBlock(mol)\n",
    "view = py3Dmol.view(width=500, height=250)\n",
    "view.addModel(mblock, 'mol')\n",
    "view.setStyle({'stick':{}})\n",
    "view.zoomTo()\n",
    "view.show()"
   ]
  },
  {
   "cell_type": "code",
   "execution_count": null,
   "metadata": {},
   "outputs": [],
   "source": []
  }
 ]
}