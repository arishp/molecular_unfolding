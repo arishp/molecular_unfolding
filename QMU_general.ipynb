{
 "metadata": {
  "language_info": {
   "codemirror_mode": {
    "name": "ipython",
    "version": 3
   },
   "file_extension": ".py",
   "mimetype": "text/x-python",
   "name": "python",
   "nbconvert_exporter": "python",
   "pygments_lexer": "ipython3",
   "version": "3.9.16"
  },
  "orig_nbformat": 4,
  "kernelspec": {
   "name": "python3",
   "display_name": "Python 3.9.16 64-bit"
  },
  "interpreter": {
   "hash": "4cd7ab41f5fca4b9b44701077e38c5ffd31fe66a6cab21e0214b68d958d0e462"
  }
 },
 "nbformat": 4,
 "nbformat_minor": 2,
 "cells": [
  {
   "source": [
    "# Import necessary packages"
   ],
   "cell_type": "markdown",
   "metadata": {}
  },
  {
   "cell_type": "code",
   "execution_count": 1,
   "metadata": {},
   "outputs": [],
   "source": [
    "\n",
    "\n"
   ]
  },
  {
   "cell_type": "code",
   "execution_count": 3,
   "metadata": {},
   "outputs": [
    {
     "output_type": "display_data",
     "data": {
      "application/3dmoljs_load.v0": "<div id=\"3dmolviewer_16862591645612397\"  style=\"position: relative; width: 500px; height: 250px\">\n        <p id=\"3dmolwarning_16862591645612397\" style=\"background-color:#ffcccc;color:black\">You appear to be running in JupyterLab (or JavaScript failed to load for some other reason).  You need to install the 3dmol extension: <br>\n        <tt>jupyter labextension install jupyterlab_3dmol</tt></p>\n        </div>\n<script>\n\nvar loadScriptAsync = function(uri){\n  return new Promise((resolve, reject) => {\n    //this is to ignore the existence of requirejs amd\n    var savedexports, savedmodule;\n    if (typeof exports !== 'undefined') savedexports = exports;\n    else exports = {}\n    if (typeof module !== 'undefined') savedmodule = module;\n    else module = {}\n\n    var tag = document.createElement('script');\n    tag.src = uri;\n    tag.async = true;\n    tag.onload = () => {\n        exports = savedexports;\n        module = savedmodule;\n        resolve();\n    };\n  var firstScriptTag = document.getElementsByTagName('script')[0];\n  firstScriptTag.parentNode.insertBefore(tag, firstScriptTag);\n});\n};\n\nif(typeof $3Dmolpromise === 'undefined') {\n$3Dmolpromise = null;\n  $3Dmolpromise = loadScriptAsync('https://cdnjs.cloudflare.com/ajax/libs/3Dmol/2.0.1/3Dmol-min.js');\n}\n\nvar viewer_16862591645612397 = null;\nvar warn = document.getElementById(\"3dmolwarning_16862591645612397\");\nif(warn) {\n    warn.parentNode.removeChild(warn);\n}\n$3Dmolpromise.then(function() {\nviewer_16862591645612397 = $3Dmol.createViewer(document.getElementById(\"3dmolviewer_16862591645612397\"),{backgroundColor:\"white\"});\nviewer_16862591645612397.zoomTo();\n\tviewer_16862591645612397.addModel(\"52\\n     RDKit          3D\\n\\n 25 26  0  0  0  0  0  0  0  0999 V2000\\n   12.3050   -0.7780   -0.5080 C   0  0  0  0  0  0  0  0  0  0  0  0\\n   11.0000   -0.0100   -0.3730 C   0  0  0  0  0  0  0  0  0  0  0  0\\n    9.8390   -0.9380   -0.0080 C   0  0  0  0  0  0  0  0  0  0  0  0\\n    8.5260   -0.1540    0.1300 C   0  0  0  0  0  0  0  0  0  0  0  0\\n    7.3330   -1.0020    0.3040 N   0  0  0  0  0  0  0  0  0  0  0  0\\n    7.3850   -1.8850    1.4820 C   0  0  0  0  0  0  0  0  0  0  0  0\\n    7.4200   -1.1870    2.8490 C   0  0  0  0  0  0  0  0  0  0  0  0\\n    7.4630   -2.2110    3.9870 C   0  0  0  0  0  0  0  0  0  0  0  0\\n    7.4940   -1.5310    5.3470 C   0  0  0  0  0  0  0  0  0  0  0  0\\n    6.1140   -0.1780    0.2200 C   0  0  0  0  0  0  0  0  0  0  0  0\\n    4.8080   -0.9780    0.2270 C   0  0  0  0  0  0  0  0  0  0  0  0\\n    3.6090   -0.0750   -0.0570 C   0  0  0  0  0  0  0  0  0  0  0  0\\n    2.4350   -0.8830    0.0090 O   0  0  0  0  0  0  0  0  0  0  0  0\\n    1.2080   -0.3080   -0.2140 C   0  0  0  0  0  0  0  0  0  0  0  0\\n    1.0600    1.0580   -0.5060 C   0  0  0  0  0  0  0  0  0  0  0  0\\n   -0.1990    1.6010   -0.7060 C   0  0  0  0  0  0  0  0  0  0  0  0\\n   -1.3100    0.7820   -0.6080 C   0  0  0  0  0  0  0  0  0  0  0  0\\n   -1.1700   -0.5870   -0.3170 C   0  0  0  0  0  0  0  0  0  0  0  0\\n   -2.6770   -1.4390   -0.2130 Cl  0  0  0  0  0  0  0  0  0  0  0  0\\n    0.0950   -1.2060   -0.1160 C   0  0  0  0  0  0  0  0  0  0  0  0\\n    0.3500   -2.7800    0.2170 C   0  0  0  0  0  0  0  0  0  0  0  0\\n   -0.8490   -3.6480    0.2190 N   0  0  0  0  0  0  0  0  0  0  0  0\\n    1.1810   -3.1650    1.4700 C   0  0  0  0  0  0  0  0  0  0  0  0\\n    2.1340   -3.9240    0.6850 O   0  0  0  0  0  0  0  0  0  0  0  0\\n    1.4490   -3.5740   -0.5440 C   0  0  0  0  0  0  0  0  0  0  0  0\\n  1  2  1  0\\n  2  3  1  0\\n  3  4  1  0\\n  4  5  1  0\\n  5  6  1  0\\n  5 10  1  0\\n  6  7  1  0\\n  7  8  1  0\\n  8  9  1  0\\n 10 11  1  0\\n 11 12  1  0\\n 12 13  1  0\\n 13 14  1  0\\n 14 15  2  0\\n 15 16  1  0\\n 16 17  2  0\\n 17 18  1  0\\n 18 19  1  0\\n 18 20  2  0\\n 20 14  1  0\\n 20 21  1  0\\n 21 22  1  0\\n 21 23  1  0\\n 23 24  1  0\\n 24 25  1  0\\n 25 21  1  0\\nM  END\\n\",\"mol\");\n\tviewer_16862591645612397.setStyle({\"stick\": {}});\n\tviewer_16862591645612397.zoomTo();\nviewer_16862591645612397.render();\n});\n</script>",
      "text/html": "<div id=\"3dmolviewer_16862591645612397\"  style=\"position: relative; width: 500px; height: 250px\">\n        <p id=\"3dmolwarning_16862591645612397\" style=\"background-color:#ffcccc;color:black\">You appear to be running in JupyterLab (or JavaScript failed to load for some other reason).  You need to install the 3dmol extension: <br>\n        <tt>jupyter labextension install jupyterlab_3dmol</tt></p>\n        </div>\n<script>\n\nvar loadScriptAsync = function(uri){\n  return new Promise((resolve, reject) => {\n    //this is to ignore the existence of requirejs amd\n    var savedexports, savedmodule;\n    if (typeof exports !== 'undefined') savedexports = exports;\n    else exports = {}\n    if (typeof module !== 'undefined') savedmodule = module;\n    else module = {}\n\n    var tag = document.createElement('script');\n    tag.src = uri;\n    tag.async = true;\n    tag.onload = () => {\n        exports = savedexports;\n        module = savedmodule;\n        resolve();\n    };\n  var firstScriptTag = document.getElementsByTagName('script')[0];\n  firstScriptTag.parentNode.insertBefore(tag, firstScriptTag);\n});\n};\n\nif(typeof $3Dmolpromise === 'undefined') {\n$3Dmolpromise = null;\n  $3Dmolpromise = loadScriptAsync('https://cdnjs.cloudflare.com/ajax/libs/3Dmol/2.0.1/3Dmol-min.js');\n}\n\nvar viewer_16862591645612397 = null;\nvar warn = document.getElementById(\"3dmolwarning_16862591645612397\");\nif(warn) {\n    warn.parentNode.removeChild(warn);\n}\n$3Dmolpromise.then(function() {\nviewer_16862591645612397 = $3Dmol.createViewer(document.getElementById(\"3dmolviewer_16862591645612397\"),{backgroundColor:\"white\"});\nviewer_16862591645612397.zoomTo();\n\tviewer_16862591645612397.addModel(\"52\\n     RDKit          3D\\n\\n 25 26  0  0  0  0  0  0  0  0999 V2000\\n   12.3050   -0.7780   -0.5080 C   0  0  0  0  0  0  0  0  0  0  0  0\\n   11.0000   -0.0100   -0.3730 C   0  0  0  0  0  0  0  0  0  0  0  0\\n    9.8390   -0.9380   -0.0080 C   0  0  0  0  0  0  0  0  0  0  0  0\\n    8.5260   -0.1540    0.1300 C   0  0  0  0  0  0  0  0  0  0  0  0\\n    7.3330   -1.0020    0.3040 N   0  0  0  0  0  0  0  0  0  0  0  0\\n    7.3850   -1.8850    1.4820 C   0  0  0  0  0  0  0  0  0  0  0  0\\n    7.4200   -1.1870    2.8490 C   0  0  0  0  0  0  0  0  0  0  0  0\\n    7.4630   -2.2110    3.9870 C   0  0  0  0  0  0  0  0  0  0  0  0\\n    7.4940   -1.5310    5.3470 C   0  0  0  0  0  0  0  0  0  0  0  0\\n    6.1140   -0.1780    0.2200 C   0  0  0  0  0  0  0  0  0  0  0  0\\n    4.8080   -0.9780    0.2270 C   0  0  0  0  0  0  0  0  0  0  0  0\\n    3.6090   -0.0750   -0.0570 C   0  0  0  0  0  0  0  0  0  0  0  0\\n    2.4350   -0.8830    0.0090 O   0  0  0  0  0  0  0  0  0  0  0  0\\n    1.2080   -0.3080   -0.2140 C   0  0  0  0  0  0  0  0  0  0  0  0\\n    1.0600    1.0580   -0.5060 C   0  0  0  0  0  0  0  0  0  0  0  0\\n   -0.1990    1.6010   -0.7060 C   0  0  0  0  0  0  0  0  0  0  0  0\\n   -1.3100    0.7820   -0.6080 C   0  0  0  0  0  0  0  0  0  0  0  0\\n   -1.1700   -0.5870   -0.3170 C   0  0  0  0  0  0  0  0  0  0  0  0\\n   -2.6770   -1.4390   -0.2130 Cl  0  0  0  0  0  0  0  0  0  0  0  0\\n    0.0950   -1.2060   -0.1160 C   0  0  0  0  0  0  0  0  0  0  0  0\\n    0.3500   -2.7800    0.2170 C   0  0  0  0  0  0  0  0  0  0  0  0\\n   -0.8490   -3.6480    0.2190 N   0  0  0  0  0  0  0  0  0  0  0  0\\n    1.1810   -3.1650    1.4700 C   0  0  0  0  0  0  0  0  0  0  0  0\\n    2.1340   -3.9240    0.6850 O   0  0  0  0  0  0  0  0  0  0  0  0\\n    1.4490   -3.5740   -0.5440 C   0  0  0  0  0  0  0  0  0  0  0  0\\n  1  2  1  0\\n  2  3  1  0\\n  3  4  1  0\\n  4  5  1  0\\n  5  6  1  0\\n  5 10  1  0\\n  6  7  1  0\\n  7  8  1  0\\n  8  9  1  0\\n 10 11  1  0\\n 11 12  1  0\\n 12 13  1  0\\n 13 14  1  0\\n 14 15  2  0\\n 15 16  1  0\\n 16 17  2  0\\n 17 18  1  0\\n 18 19  1  0\\n 18 20  2  0\\n 20 14  1  0\\n 20 21  1  0\\n 21 22  1  0\\n 21 23  1  0\\n 23 24  1  0\\n 24 25  1  0\\n 25 21  1  0\\nM  END\\n\",\"mol\");\n\tviewer_16862591645612397.setStyle({\"stick\": {}});\n\tviewer_16862591645612397.zoomTo();\nviewer_16862591645612397.render();\n});\n</script>"
     },
     "metadata": {}
    }
   ],
   "source": [
    "from rdkit import Chem\n",
    "import py3Dmol\n",
    "mol_file = './Molecules/25A12Rot_2.mol2'\n",
    "mol = Chem.MolFromMol2File(mol_file)\n",
    "mblock = Chem.MolToMolBlock(mol)\n",
    "view = py3Dmol.view(width=500, height=250)\n",
    "view.addModel(mblock, 'mol')\n",
    "view.setStyle({'stick':{}})\n",
    "view.zoomTo()\n",
    "view.show()\n"
   ]
  },
  {
   "source": [
    "# Input Variables"
   ],
   "cell_type": "markdown",
   "metadata": {}
  },
  {
   "cell_type": "code",
   "execution_count": 4,
   "metadata": {},
   "outputs": [
    {
     "output_type": "stream",
     "name": "stdout",
     "text": [
      "No. of atoms:  25\nCoordinates of atoms:\n0 \t: [12.305, -0.778, -0.508]\n1 \t: [11.0, -0.01, -0.373]\n2 \t: [9.839, -0.938, -0.008]\n3 \t: [8.526, -0.154, 0.13]\n4 \t: [7.333, -1.002, 0.304]\n5 \t: [7.385, -1.885, 1.482]\n6 \t: [7.42, -1.187, 2.849]\n7 \t: [7.463, -2.211, 3.987]\n8 \t: [7.494, -1.531, 5.347]\n9 \t: [6.114, -0.178, 0.22]\n10 \t: [4.808, -0.978, 0.227]\n11 \t: [3.609, -0.075, -0.057]\n12 \t: [2.435, -0.883, 0.009]\n13 \t: [1.208, -0.308, -0.214]\n14 \t: [1.06, 1.058, -0.506]\n15 \t: [-0.199, 1.601, -0.706]\n16 \t: [-1.31, 0.782, -0.608]\n17 \t: [-1.17, -0.587, -0.317]\n18 \t: [-2.677, -1.439, -0.213]\n19 \t: [0.095, -1.206, -0.116]\n20 \t: [0.35, -2.78, 0.217]\n21 \t: [-0.849, -3.648, 0.219]\n22 \t: [1.181, -3.165, 1.47]\n23 \t: [2.134, -3.924, 0.685]\n24 \t: [1.449, -3.574, -0.544]\n"
     ]
    }
   ],
   "source": [
    "n_atoms_mol = mol.GetNumAtoms()  # no. of atoms in the molecule (excluding hydrogen atoms)\n",
    "print('No. of atoms: ', n_atoms_mol)\n",
    "conformers = mol.GetConformers()\n",
    "conf = conformers[0]\n",
    "coords_mol = {}  # Coordinates of the atoms\n",
    "for i in range(n_atoms_mol):\n",
    "    coords_mol[i] = list(conf.GetAtomPosition(i))\n",
    "print('Coordinates of atoms:')\n",
    "for i in coords_mol:\n",
    "    print(i, '\\t:', coords_mol[i])"
   ]
  },
  {
   "cell_type": "code",
   "execution_count": 96,
   "metadata": {},
   "outputs": [],
   "source": [
    "torsional_bonds_mol = { 0: (9, 10), 1: (19, 20)  }  # Torsional bond numbers and their respective coordinate ends\n",
    "median_list_mol = [2, 6, 9, 10, 14, 19, 20, 23]  # List of atoms (median) considered for the HUBO construction\n",
    "coords_rotation_mol = {11:[0], 12:[0], 13:[0], 14:[0], 15:[0], 16:[0], 17:[0], 18:[0], 19:[0], 20:[0], 21:[0,1], 22:[0,1], 23:[0,1], 24:[0,1] }  # atom index and the rotatable bond numbers list that affect them\n",
    "distance_pairs_mol = {2:[14, 19, 20, 23], 6:[14, 19, 20, 23], 9:[14, 19, 20, 23], 10:[23], 14:[23], 19:[23], 20:[], 23:[] }  # indices dictionary to find distances"
   ]
  },
  {
   "cell_type": "code",
   "execution_count": 100,
   "metadata": {},
   "outputs": [
    {
     "output_type": "stream",
     "name": "stdout",
     "text": [
      "coords_median:  {0: [9.839, -0.938, -0.008], 1: [7.42, -1.187, 2.849], 2: [6.114, -0.178, 0.22], 3: [4.808, -0.978, 0.227], 4: [1.06, 1.058, -0.506], 5: [0.095, -1.206, -0.116], 6: [0.35, -2.78, 0.217], 7: [2.134, -3.924, 0.685]}\n\ntorsional_bonds:  {0: (2, 3), 1: (5, 6)}\n\ncoords_rotation_dict:  {4: [0], 5: [0], 6: [0], 7: [0, 1]}\n\ndistance pairs:  [(0, 4), (0, 5), (0, 6), (0, 7), (1, 4), (1, 5), (1, 6), (1, 7), (2, 4), (2, 5), (2, 6), (2, 7), (3, 7), (4, 7), (5, 7)]\n"
     ]
    }
   ],
   "source": [
    "import copy\n",
    "\n",
    "coords_median = {}\n",
    "for i, index in enumerate(median_list_mol):\n",
    "    coords_median[i] = coords_mol[index]\n",
    "coords_median_2 = copy.deepcopy(coords_median)\n",
    "print('coords_median: ', coords_median)\n",
    "\n",
    "torsional_bonds = {}\n",
    "for i in torsional_bonds_mol:\n",
    "    torsional_bonds[i] = (median_list_mol.index(torsional_bonds_mol[i][0]), median_list_mol.index(torsional_bonds_mol[i][1]))\n",
    "print('\\ntorsional_bonds: ', torsional_bonds)\n",
    "\n",
    "coords_rotation_dict = {}\n",
    "for atom in median_list_mol:\n",
    "    if atom in coords_rotation_mol.keys():\n",
    "        coords_rotation_dict[median_list_mol.index(atom)] = coords_rotation_mol[atom]\n",
    "print('\\ncoords_rotation_dict: ', coords_rotation_dict)\n",
    "\n",
    "distance_pairs = []\n",
    "for x, y in distance_pairs_mol.items():\n",
    "    u = median_list_mol.index(x)\n",
    "    for i in y:\n",
    "        v = median_list_mol.index(i)\n",
    "        distance_pairs.append((u, v))\n",
    "print('\\ndistance pairs: ', distance_pairs)\n",
    "\n"
   ]
  },
  {
   "cell_type": "code",
   "execution_count": 101,
   "metadata": {},
   "outputs": [
    {
     "output_type": "stream",
     "name": "stdout",
     "text": [
      "(x0, x1, x2, x3, x4, x5, x6, x7, x8, x9, x10, x11, x12, x13, x14, x15)\n"
     ]
    }
   ],
   "source": [
    "import sympy as sp\n",
    "n_bonds = len(torsional_bonds)  # no. of bonds\n",
    "n_angles = 8  # no. of discrete angles\n",
    "x = sp.symbols(f'x(0:{n_bonds*n_angles})')  # hubo variables\n",
    "print(x)"
   ]
  },
  {
   "source": [
    "# Function to generate hard constraint"
   ],
   "cell_type": "markdown",
   "metadata": {}
  },
  {
   "cell_type": "code",
   "execution_count": 102,
   "metadata": {},
   "outputs": [],
   "source": [
    "# generate hard constraint\n",
    "def generate_hard_hubo():\n",
    "    hard_constraint = 0\n",
    "    index = 0\n",
    "    for i in range(n_bonds):\n",
    "        summation = 0\n",
    "        for j in range(n_angles):\n",
    "            summation += x[index]\n",
    "            index += 1\n",
    "        hard_constraint += (summation - 1) ** 2\n",
    "    a_const = sp.Symbol('A_const')\n",
    "    hard_constraint *= a_const\n",
    "    return hard_constraint"
   ]
  },
  {
   "source": [
    "# Functions to rotate coordinates with hubo variables"
   ],
   "cell_type": "markdown",
   "metadata": {}
  },
  {
   "cell_type": "code",
   "execution_count": 103,
   "metadata": {},
   "outputs": [],
   "source": [
    "def rotate_coordinates(rotation_matrix, old_coords):\n",
    "    coord_vector = ones(4, 1)\n",
    "    coord_vector[0, 0] = old_coords[0]\n",
    "    coord_vector[1, 0] = old_coords[1]\n",
    "    coord_vector[2, 0] = old_coords[2]\n",
    "    coord_rot_vector = sp.expand(rotation_matrix * coord_vector)\n",
    "    return [coord_rot_vector[0, 0], coord_rot_vector[1, 0], coord_rot_vector[2, 0]]"
   ]
  },
  {
   "cell_type": "code",
   "execution_count": 104,
   "metadata": {},
   "outputs": [],
   "source": [
    "def generate_thetas():\n",
    "    angle_incr = 2 * sp.pi / n_angles\n",
    "    thetas = [i*angle_incr for i in range(n_angles)]\n",
    "    return thetas"
   ]
  },
  {
   "cell_type": "code",
   "execution_count": 105,
   "metadata": {},
   "outputs": [],
   "source": [
    "def rotation_matrix_hubo(first_coords, second_coords, bond_no):\n",
    "    x_dash, y_dash, z_dash = first_coords[0], first_coords[1], first_coords[2]\n",
    "    x_ddash, y_ddash, z_ddash = second_coords[0], second_coords[1], second_coords[2]\n",
    "    dx = x_ddash - x_dash\n",
    "    dy = y_ddash - y_dash\n",
    "    dz = z_ddash - z_dash\n",
    "    l_sq = dx ** 2 + dy ** 2 + dz ** 2\n",
    "    l = sp.sqrt(l_sq)\n",
    "    thetas = generate_thetas()\n",
    "    c_theta = 0.0\n",
    "    s_theta = 0.0\n",
    "    index = n_angles * bond_no\n",
    "    for i in range(n_angles):\n",
    "        c_theta += sp.cos(thetas[i]) * x[index]\n",
    "        s_theta += sp.sin(thetas[i]) * x[index]\n",
    "        index += 1\n",
    "    rotation_matrix = eye(4)\n",
    "    rotation_matrix[0, 0] = (dx ** 2 + (dy ** 2 + dz ** 2) * c_theta) / l_sq\n",
    "    rotation_matrix[0, 1] = (dx * dy * (1 - c_theta) - dz * l * s_theta) / l_sq\n",
    "    rotation_matrix[0, 2] = (dx * dz * (1 - c_theta) + dy * l * s_theta) / l_sq\n",
    "    rotation_matrix[0, 3] = ((x_dash * (dy ** 2 + dz ** 2) - dx * (y_dash * dy + z_dash * dz)) * (1 - c_theta) + (\n",
    "            y_dash * dz - z_dash * dy) * l * s_theta) / l_sq\n",
    "    rotation_matrix[1, 0] = (dx * dy * (1 - c_theta) + dz * l * s_theta) / l_sq\n",
    "    rotation_matrix[1, 1] = (dy ** 2 + (dx ** 2 + dz ** 2) * c_theta) / l_sq\n",
    "    rotation_matrix[1, 2] = (dy * dz * (1 - c_theta) - dx * l * s_theta) / l_sq\n",
    "    rotation_matrix[1, 3] = ((y_dash * (dx ** 2 + dz ** 2) - dy * (x_dash * dx + z_dash * dz)) * (1 - c_theta) + (\n",
    "            z_dash * dx - x_dash * dz) * l * s_theta) / l_sq\n",
    "    rotation_matrix[2, 0] = (dx * dz * (1 - c_theta) - dy * l * s_theta) / l_sq\n",
    "    rotation_matrix[2, 1] = (dy * dz * (1 - c_theta) + dx * l * s_theta) / l_sq\n",
    "    rotation_matrix[2, 2] = (dz ** 2 + (dx ** 2 + dy ** 2) * c_theta) / l_sq\n",
    "    rotation_matrix[2, 3] = ((z_dash * (dx ** 2 + dy ** 2) - dz * (x_dash * dx + y_dash * dy)) * (1 - c_theta) + (\n",
    "            x_dash * dy - y_dash * dx) * l * s_theta) / l_sq\n",
    "    return rotation_matrix"
   ]
  },
  {
   "cell_type": "code",
   "execution_count": 107,
   "metadata": {},
   "outputs": [
    {
     "output_type": "stream",
     "name": "stdout",
     "text": [
      "The time of execution:  2.215198516845703 seconds\n"
     ]
    }
   ],
   "source": [
    "from sympy.matrices import ones, eye\n",
    "import time\n",
    "start = time.time()\n",
    "\n",
    "for i in coords_rotation_dict:\n",
    "    rot_mat = eye(4, 4)\n",
    "    for bond_no in coords_rotation_dict[i]:\n",
    "        temp_rot_mat = rotation_matrix_hubo(coords_median[torsional_bonds[bond_no][0]], coords_median[torsional_bonds[bond_no][1]], bond_no)\n",
    "        rot_mat = rot_mat * temp_rot_mat\n",
    "    coords_median_2[i] = rotate_coordinates(rot_mat, coords_median[i])\n",
    "\n",
    "end = time.time()\n",
    "print(\"The time of execution: \", (end-start), \"seconds\")"
   ]
  },
  {
   "source": [
    "# Functions to generate the optimization contraint in hubo"
   ],
   "cell_type": "markdown",
   "metadata": {}
  },
  {
   "cell_type": "code",
   "execution_count": 108,
   "metadata": {},
   "outputs": [],
   "source": [
    "def distance_squared(first_coords, second_coords):\n",
    "    dis_sq = (second_coords[0] - first_coords[0])**2 + (second_coords[1] - first_coords[1])**2 + (second_coords[2] - first_coords[2])**2\n",
    "    return dis_sq\n",
    "\n",
    "def generate_distance_hubo():\n",
    "    distance_sq = 0\n",
    "    for pair in distance_pairs:\n",
    "        distance_sq += distance_squared(coords_median_2[pair[0]], coords_median_2[pair[1]])\n",
    "    return distance_sq.expand()"
   ]
  },
  {
   "cell_type": "code",
   "execution_count": 109,
   "metadata": {
    "tags": []
   },
   "outputs": [
    {
     "output_type": "stream",
     "name": "stdout",
     "text": [
      "The time of execution:  2.7050390243530273 seconds\n"
     ]
    }
   ],
   "source": [
    "start = time.time()\n",
    "\n",
    "hard_constraint = generate_hard_hubo()\n",
    "distance_constraint = generate_distance_hubo()\n",
    "hubo_expr = sp.expand(hard_constraint - distance_constraint)\n",
    "\n",
    "end = time.time()\n",
    "print(\"The time of execution: \", (end-start), \"seconds\")"
   ]
  },
  {
   "source": [
    "# The full hubo expression is written in the file 'full_hubo_expr.txt'"
   ],
   "cell_type": "markdown",
   "metadata": {}
  },
  {
   "cell_type": "code",
   "execution_count": 110,
   "metadata": {},
   "outputs": [],
   "source": [
    "def hubo_expr_to_dict():\n",
    "    hubo_args = hubo_expr.args\n",
    "    hubo_dict = {}\n",
    "    for monom in hubo_args:\n",
    "        dict_value = monom.as_coeff_mul()[0]\n",
    "        monom_key = []\n",
    "        monom_coeffs = monom.as_coeff_mul()[1]\n",
    "        for monom_item in monom_coeffs:\n",
    "            if re.match(\"^x(\\d*)\\d$\", str(monom_item)):\n",
    "                monom_key.append(int(str(monom_item)[1:]))\n",
    "            elif re.match(\"^x(\\d*)\\\\*\\\\*(\\d)$\", str(monom_item)):\n",
    "                monom_key.append(int(str(monom_item).split('**')[0][1:]))\n",
    "            else:\n",
    "                dict_value *= monom_item\n",
    "        if len(monom_key) > 0:\n",
    "            monom_key.sort()\n",
    "            dict_key = tuple(monom_key)\n",
    "        else:\n",
    "            dict_key = ()\n",
    "        dict_value = dict_value.evalf()\n",
    "        if dict_key in hubo_dict:\n",
    "            hubo_dict[dict_key] += dict_value\n",
    "        else:\n",
    "            hubo_dict[dict_key] = dict_value\n",
    "    return hubo_dict"
   ]
  },
  {
   "cell_type": "code",
   "execution_count": 111,
   "metadata": {
    "tags": []
   },
   "outputs": [],
   "source": [
    "import re\n",
    "hubo_dict = hubo_expr_to_dict()"
   ]
  },
  {
   "cell_type": "code",
   "execution_count": 112,
   "metadata": {},
   "outputs": [
    {
     "output_type": "stream",
     "name": "stdout",
     "text": [
      "full hubo dictionary written in file - hubo_dict.txt\n"
     ]
    }
   ],
   "source": [
    "file_name = \"hubo_dict.txt\"\n",
    "f = open(file_name, \"w\")\n",
    "print('full hubo dictionary written in file - hubo_dict.txt')\n",
    "f.write(str(hubo_dict))\n",
    "f.close()"
   ]
  },
  {
   "cell_type": "code",
   "execution_count": 113,
   "metadata": {},
   "outputs": [],
   "source": [
    "#This is used to check the maximum coefficient appearing in Hubo_B\n",
    "A_const=0\n",
    "read_dictionary_B = open(file_name, 'r').read()\n",
    "HUBO_B=eval(read_dictionary_B)\n",
    "\n",
    "#We set the Hard constraint strength as the (maximum coefficient appearing in Hubo_B)*const.\n",
    "#const was empirically selected to be 10\n",
    "const=10\n",
    "A_const=max(map(abs, list(HUBO_B.values())))*const\n",
    "# A_const = 1000\n",
    "\n",
    "#read the final HUBO\n",
    "read_dictionary= open(file_name, 'r').read()\n",
    "HUBO=eval(read_dictionary)"
   ]
  },
  {
   "cell_type": "code",
   "execution_count": 114,
   "metadata": {},
   "outputs": [
    {
     "output_type": "stream",
     "name": "stdout",
     "text": [
      "Current size of the HUBO: 1369\n"
     ]
    }
   ],
   "source": [
    "print(\"Current size of the HUBO:\",len(HUBO)) "
   ]
  },
  {
   "cell_type": "code",
   "execution_count": 115,
   "metadata": {},
   "outputs": [],
   "source": [
    "def threshold_approx(h, val=1):\n",
    "    d =h.copy()\n",
    "    monoms = h.keys()\n",
    "    for m in monoms:     \n",
    "        temp = d[m]\n",
    "        if (temp < 0.0):\n",
    "            temp = -1.0 * temp\n",
    "        if (temp <= (10.0 ** (val))):\n",
    "            del d[m]\n",
    "    return d"
   ]
  },
  {
   "cell_type": "code",
   "execution_count": 116,
   "metadata": {},
   "outputs": [
    {
     "output_type": "stream",
     "name": "stdout",
     "text": [
      "Size of the HUBO after threshold approximation: 73\n"
     ]
    }
   ],
   "source": [
    "#Coefficints with absolute value less than 10^{threshold} are deleted from the HUBO.\n",
    "threshold=2\n",
    "\n",
    "HUBO=threshold_approx(HUBO,threshold)\n",
    "\n",
    "print(\"Size of the HUBO after threshold approximation:\",len(HUBO))"
   ]
  },
  {
   "cell_type": "code",
   "execution_count": 117,
   "metadata": {},
   "outputs": [],
   "source": [
    "import dimod\n",
    "#calculate the strength parameter needed by make_quadratic\n",
    "max_hubo_value=max(map(abs, list(HUBO.values())))\n",
    "strength=1.5*max_hubo_value\n",
    "#generate the bqm\n",
    "bqm = dimod.make_quadratic(HUBO, strength, dimod.BINARY)"
   ]
  },
  {
   "cell_type": "code",
   "execution_count": 118,
   "metadata": {},
   "outputs": [],
   "source": [
    "def find_bond_theta_soln(solution):\n",
    "    thetas = generate_thetas()\n",
    "    bond_theta_soln = {}\n",
    "    for key, value in solution.items():\n",
    "        if solution[key] == 1:\n",
    "            bond_theta_soln[key//n_angles] = thetas[key%n_angles]\n",
    "    return bond_theta_soln"
   ]
  },
  {
   "cell_type": "code",
   "execution_count": 119,
   "metadata": {},
   "outputs": [
    {
     "output_type": "stream",
     "name": "stdout",
     "text": [
      "The time of execution:  0.01391458511352539 s\n   0  1  2  3  4  5  6  7  8  9 10 11 12 13 14 15      energy num_oc.\n4  0  1  0  0  0  0  0  0  0  0  0  0  1  0  0  0 -936.891866       1\n8  0  1  0  0  0  0  0  0  0  0  0  0  1  0  0  0 -936.891866       1\n9  0  0  0  0  0  0  0  1  0  0  0  0  0  1  0  0 -866.988698       1\n5  0  0  0  0  0  0  1  0  0  0  0  0  0  1  0  0  -821.04883       1\n3  0  0  1  0  0  0  0  0  0  0  1  0  0  0  0  0 -795.555649       1\n1  0  0  0  0  1  0  0  0  0  0  0  0  0  1  0  0 -788.330654       1\n2  0  0  0  0  1  0  0  0  0  0  0  0  0  1  0  0 -788.330654       1\n0  1  0  0  0  0  0  0  0  1  0  0  0  0  0  0  0  -740.03008       1\n6  0  0  0  0  0  1  0  0  0  0  1  0  0  0  0  0 -717.365172       1\n7  0  0  0  1  0  0  0  0  0  1  0  0  0  0  0  0 -685.299905       1\n['BINARY', 10 rows, 10 samples, 16 variables]\n"
     ]
    }
   ],
   "source": [
    "import neal\n",
    "sampler = neal.SimulatedAnnealingSampler()\n",
    "sample_size=10\n",
    "start = time.time()\n",
    "sampleset = sampler.sample(bqm, num_reads=sample_size)\n",
    "end = time.time()\n",
    "print(\"The time of execution: \", (end-start), \"s\")\n",
    "print(sampleset)"
   ]
  },
  {
   "cell_type": "code",
   "execution_count": 120,
   "metadata": {},
   "outputs": [
    {
     "output_type": "stream",
     "name": "stdout",
     "text": [
      "{0: 0, 1: 1, 2: 0, 3: 0, 4: 0, 5: 0, 6: 0, 7: 0, 8: 0, 9: 0, 10: 0, 11: 0, 12: 1, 13: 0, 14: 0, 15: 0}\n{0: pi/4, 1: pi}\n"
     ]
    }
   ],
   "source": [
    "sa_soln = sampleset.first.sample\n",
    "print(sa_soln)\n",
    "bond_theta_soln = find_bond_theta_soln(sa_soln)\n",
    "print(bond_theta_soln)"
   ]
  },
  {
   "cell_type": "code",
   "execution_count": 121,
   "metadata": {
    "tags": []
   },
   "outputs": [
    {
     "output_type": "stream",
     "name": "stdout",
     "text": [
      "The time of execution:  0.17249655723571777 s\n",
      "   0  1  2  3  4  5  6  7  8  9 10 11 12 13 14 15      energy num_oc. ...\n",
      "0  1  0  0  0  0  0  0  0  0  0  0  0  1  0  0  0 -937.028813      10 ...\n",
      "1  0  1  0  0  0  0  0  0  0  0  0  0  1  0  0  0 -936.891866       8 ...\n",
      "2  0  0  0  0  0  0  0  1  0  0  0  0  1  0  0  0 -904.641257      14 ...\n",
      "3  0  0  1  0  0  0  0  0  0  0  0  0  1  0  0  0 -904.310637       4 ...\n",
      "4  1  0  0  0  0  0  0  0  0  0  0  1  0  0  0  0 -903.981993      15 ...\n",
      "5  0  1  0  0  0  0  0  0  0  0  0  1  0  0  0  0 -903.845046       9 ...\n",
      "6  1  0  0  0  0  0  0  0  0  0  0  0  0  1  0  0 -899.376254       8 ...\n",
      "7  0  1  0  0  0  0  0  0  0  0  0  0  0  1  0  0 -899.239307       8 ...\n",
      "8  0  0  0  0  0  0  0  1  0  0  0  1  0  0  0  0 -871.594437      33 ...\n",
      "9  0  0  1  0  0  0  0  0  0  0  0  1  0  0  0  0 -871.263817       3 ...\n",
      "['BINARY', 10 rows, 112 samples, 16 variables]\n"
     ]
    }
   ],
   "source": [
    "from dwave.system import DWaveSampler, EmbeddingComposite\n",
    "sampler = EmbeddingComposite(DWaveSampler())\n",
    "start = time.time()\n",
    "sampleset = sampler.sample(bqm, num_reads=1000)\n",
    "end = time.time()\n",
    "print(\"The time of execution: \", (end-start), \"s\")\n",
    "print(sampleset.slice(10))"
   ]
  },
  {
   "cell_type": "code",
   "execution_count": 122,
   "metadata": {},
   "outputs": [
    {
     "output_type": "stream",
     "name": "stdout",
     "text": [
      "{0: 1, 1: 0, 2: 0, 3: 0, 4: 0, 5: 0, 6: 0, 7: 0, 8: 0, 9: 0, 10: 0, 11: 0, 12: 1, 13: 0, 14: 0, 15: 0}\n{0: 0, 1: pi}\n"
     ]
    }
   ],
   "source": [
    "qa_soln = sampleset.first.sample\n",
    "print(qa_soln)\n",
    "bond_theta_soln = find_bond_theta_soln(qa_soln)\n",
    "print(bond_theta_soln)"
   ]
  },
  {
   "cell_type": "code",
   "execution_count": 123,
   "metadata": {},
   "outputs": [],
   "source": [
    "def rotation_matrix_new_coords(first_coords, second_coords, bond_no, soln_theta):\n",
    "    x_dash, y_dash, z_dash = first_coords[0], first_coords[1], first_coords[2]\n",
    "    x_ddash, y_ddash, z_ddash = second_coords[0], second_coords[1], second_coords[2]\n",
    "    dx = x_ddash - x_dash\n",
    "    dy = y_ddash - y_dash\n",
    "    dz = z_ddash - z_dash\n",
    "    l_sq = dx ** 2 + dy ** 2 + dz ** 2\n",
    "    l = sp.sqrt(l_sq)\n",
    "    c_theta = sp.cos(soln_theta)\n",
    "    s_theta = sp.sin(soln_theta)\n",
    "    index = n_angles * bond_no\n",
    "    rotation_matrix = eye(4)\n",
    "    rotation_matrix[0, 0] = ((dx ** 2 + (dy ** 2 + dz ** 2) * c_theta) / l_sq).evalf()\n",
    "    rotation_matrix[0, 1] = ((dx * dy * (1 - c_theta) - dz * l * s_theta) / l_sq).evalf()\n",
    "    rotation_matrix[0, 2] = ((dx * dz * (1 - c_theta) + dy * l * s_theta) / l_sq).evalf()\n",
    "    rotation_matrix[0, 3] = (((x_dash * (dy ** 2 + dz ** 2) - dx * (y_dash * dy + z_dash * dz)) * (1 - c_theta) + (\n",
    "            y_dash * dz - z_dash * dy) * l * s_theta) / l_sq).evalf()\n",
    "    rotation_matrix[1, 0] = ((dx * dy * (1 - c_theta) + dz * l * s_theta) / l_sq).evalf()\n",
    "    rotation_matrix[1, 1] = ((dy ** 2 + (dx ** 2 + dz ** 2) * c_theta) / l_sq).evalf()\n",
    "    rotation_matrix[1, 2] = ((dy * dz * (1 - c_theta) - dx * l * s_theta) / l_sq).evalf()\n",
    "    rotation_matrix[1, 3] = (((y_dash * (dx ** 2 + dz ** 2) - dy * (x_dash * dx + z_dash * dz)) * (1 - c_theta) + (\n",
    "            z_dash * dx - x_dash * dz) * l * s_theta) / l_sq).evalf()\n",
    "    rotation_matrix[2, 0] = ((dx * dz * (1 - c_theta) - dy * l * s_theta) / l_sq).evalf()\n",
    "    rotation_matrix[2, 1] = ((dy * dz * (1 - c_theta) + dx * l * s_theta) / l_sq).evalf()\n",
    "    rotation_matrix[2, 2] = ((dz ** 2 + (dx ** 2 + dy ** 2) * c_theta) / l_sq).evalf()\n",
    "    rotation_matrix[2, 3] = (((z_dash * (dx ** 2 + dy ** 2) - dz * (x_dash * dx + y_dash * dy)) * (1 - c_theta) + (\n",
    "            x_dash * dy - y_dash * dx) * l * s_theta) / l_sq).evalf()\n",
    "    return rotation_matrix"
   ]
  },
  {
   "cell_type": "code",
   "execution_count": 124,
   "metadata": {},
   "outputs": [],
   "source": [
    "def compute_new_coords(solution):\n",
    "    final_coords = copy.deepcopy(coords_mol)\n",
    "    for i in coords_rotation_mol:\n",
    "        if len(coords_rotation_mol[i]) > 0:\n",
    "            rot_mat = eye(4, 4)\n",
    "            for bond_no in coords_rotation_mol[i]:\n",
    "                temp_rot_mat = rotation_matrix_new_coords(coords_mol[torsional_bonds_mol[bond_no][0]], coords_mol[torsional_bonds_mol[bond_no][1]], bond_no, solution[bond_no])\n",
    "                rot_mat = rot_mat * temp_rot_mat\n",
    "            final_coords[i] = rotate_coordinates(rot_mat, coords_mol[i])\n",
    "    return final_coords\n"
   ]
  },
  {
   "cell_type": "code",
   "execution_count": 125,
   "metadata": {},
   "outputs": [
    {
     "output_type": "execute_result",
     "data": {
      "text/plain": [
       "{0: [12.305, -0.778, -0.508],\n",
       " 1: [11.0, -0.01, -0.373],\n",
       " 2: [9.839, -0.938, -0.008],\n",
       " 3: [8.526, -0.154, 0.13],\n",
       " 4: [7.333, -1.002, 0.304],\n",
       " 5: [7.385, -1.885, 1.482],\n",
       " 6: [7.42, -1.187, 2.849],\n",
       " 7: [7.463, -2.211, 3.987],\n",
       " 8: [7.494, -1.531, 5.347],\n",
       " 9: [6.114, -0.178, 0.22],\n",
       " 10: [4.808, -0.978, 0.227],\n",
       " 11: [3.60900000000000, -0.0750000000000000, -0.0570000000000000],\n",
       " 12: [2.43500000000000, -0.883000000000000, 0.00900000000000000],\n",
       " 13: [1.20800000000000, -0.308000000000000, -0.214000000000000],\n",
       " 14: [1.06000000000000, 1.05800000000000, -0.506000000000000],\n",
       " 15: [-0.199000000000000, 1.60100000000000, -0.706000000000000],\n",
       " 16: [-1.31000000000000, 0.782000000000000, -0.608000000000000],\n",
       " 17: [-1.17000000000000, -0.587000000000000, -0.317000000000000],\n",
       " 18: [-2.67700000000000, -1.43900000000000, -0.213000000000000],\n",
       " 19: [0.0950000000000000, -1.20600000000000, -0.116000000000000],\n",
       " 20: [0.350000000000000, -2.78000000000000, 0.217000000000000],\n",
       " 21: [1.75296098198908, -3.17095915941494, 0.481349047068091],\n",
       " 22: [-0.243596738511866, -3.86038326895029, -0.725979270291966],\n",
       " 23: [-0.970508315777176, -4.49692514104598, 0.354265611161571],\n",
       " 24: [-0.503630913661392, -3.50055271332145, 1.29842315980689]}"
      ]
     },
     "metadata": {},
     "execution_count": 125
    }
   ],
   "source": [
    "compute_new_coords(bond_theta_soln)"
   ]
  },
  {
   "cell_type": "code",
   "execution_count": 126,
   "metadata": {},
   "outputs": [],
   "source": [
    "def find_volume_change(old_coords, new_coords):\n",
    "    n = len(old_coords)\n",
    "    old_distance_sq = 0\n",
    "    for i in range(n-1):\n",
    "        for j in range(i+1, n):\n",
    "            old_distance_sq += distance_squared(old_coords[i], old_coords[j])\n",
    "    \n",
    "    new_distance_sq = 0\n",
    "    for i in range(n-1):\n",
    "        for j in range(i+1, n):\n",
    "            new_distance_sq += distance_squared(new_coords[i], new_coords[j])\n",
    "    print(\"new volume: \", new_distance_sq.evalf())\n",
    "    print(\"old volume: \", old_distance_sq)\n",
    "    print('change in volume: ', new_distance_sq.evalf() - old_distance_sq)\n",
    "    return new_distance_sq.evalf() - old_distance_sq"
   ]
  },
  {
   "cell_type": "code",
   "execution_count": 127,
   "metadata": {},
   "outputs": [],
   "source": [
    "bond_theta_soln = {0: 0, 1: sp.pi}\n",
    "# bond_theta_soln = {0: sp.pi/4}\n",
    "# bond_theta_soln = {0: 2*sp.pi/4}\n",
    "# bond_theta_soln = {0: 3*sp.pi/4}\n",
    "# bond_theta_soln = {0: 4*sp.pi/4}\n",
    "# bond_theta_soln = {0: 5*sp.pi/4}\n",
    "# bond_theta_soln = {0: 6*sp.pi/4}\n",
    "# bond_theta_soln = {0: 7*sp.pi/4}"
   ]
  },
  {
   "cell_type": "code",
   "execution_count": 128,
   "metadata": {},
   "outputs": [
    {
     "output_type": "stream",
     "name": "stdout",
     "text": [
      "new volume:  14366.7747018963\nold volume:  13633.201490000001\nchange in volume:  733.573211896271\n"
     ]
    },
    {
     "output_type": "execute_result",
     "data": {
      "text/plain": [
       "733.573211896271"
      ],
      "text/latex": "$\\displaystyle 733.573211896271$"
     },
     "metadata": {},
     "execution_count": 128
    }
   ],
   "source": [
    "new_coords = compute_new_coords(bond_theta_soln)\n",
    "find_volume_change(coords_mol, new_coords)"
   ]
  },
  {
   "cell_type": "code",
   "execution_count": 129,
   "metadata": {},
   "outputs": [
    {
     "output_type": "stream",
     "name": "stdout",
     "text": [
      "\n",
      "bond theta soln:  {0: 0, 1: 0}\n",
      "new volume:  13633.2014900000\n",
      "old volume:  13633.201490000001\n",
      "change in volume:  0\n",
      "\n",
      "bond theta soln:  {0: 0, 1: pi/4}\n",
      "new volume:  13733.7921249576\n",
      "old volume:  13633.201490000001\n",
      "change in volume:  100.590634957565\n",
      "\n",
      "bond theta soln:  {0: 0, 1: pi/2}\n",
      "new volume:  13990.3167494723\n",
      "old volume:  13633.201490000001\n",
      "change in volume:  357.115259472333\n",
      "\n",
      "bond theta soln:  {0: 0, 1: 3*pi/4}\n",
      "new volume:  14252.5067175862\n",
      "old volume:  13633.201490000001\n",
      "change in volume:  619.305227586225\n",
      "\n",
      "bond theta soln:  {0: 0, 1: pi}\n",
      "new volume:  14366.7747018963\n",
      "old volume:  13633.201490000001\n",
      "change in volume:  733.573211896271\n",
      "\n",
      "bond theta soln:  {0: 0, 1: 5*pi/4}\n",
      "new volume:  14266.1840669387\n",
      "old volume:  13633.201490000001\n",
      "change in volume:  632.982576938704\n",
      "\n",
      "bond theta soln:  {0: 0, 1: 3*pi/2}\n",
      "new volume:  14009.6594424239\n",
      "old volume:  13633.201490000001\n",
      "change in volume:  376.457952423933\n",
      "\n",
      "bond theta soln:  {0: 0, 1: 7*pi/4}\n",
      "new volume:  13747.4694743100\n",
      "old volume:  13633.201490000001\n",
      "change in volume:  114.267984310045\n",
      "\n",
      "bond theta soln:  {0: pi/4, 1: 0}\n",
      "new volume:  13622.8501070834\n",
      "old volume:  13633.201490000001\n",
      "change in volume:  -10.3513829166204\n",
      "\n",
      "bond theta soln:  {0: pi/4, 1: pi/4}\n",
      "new volume:  13770.0341415321\n",
      "old volume:  13633.201490000001\n",
      "change in volume:  136.832651532111\n",
      "\n",
      "bond theta soln:  {0: pi/4, 1: pi/2}\n",
      "new volume:  14043.4375229064\n",
      "old volume:  13633.201490000001\n",
      "change in volume:  410.236032906361\n",
      "\n",
      "bond theta soln:  {0: pi/4, 1: 3*pi/4}\n",
      "new volume:  14282.9042583958\n",
      "old volume:  13633.201490000001\n",
      "change in volume:  649.702768395766\n",
      "\n",
      "bond theta soln:  {0: pi/4, 1: pi}\n",
      "new volume:  14348.1579820878\n",
      "old volume:  13633.201490000001\n",
      "change in volume:  714.956492087833\n",
      "\n",
      "bond theta soln:  {0: pi/4, 1: 5*pi/4}\n",
      "new volume:  14200.9739476391\n",
      "old volume:  13633.201490000001\n",
      "change in volume:  567.772457639099\n",
      "\n",
      "bond theta soln:  {0: pi/4, 1: 3*pi/2}\n",
      "new volume:  13927.5705662648\n",
      "old volume:  13633.201490000001\n",
      "change in volume:  294.369076264842\n",
      "\n",
      "bond theta soln:  {0: pi/4, 1: 7*pi/4}\n",
      "new volume:  13688.1038307754\n",
      "old volume:  13633.201490000001\n",
      "change in volume:  54.9023407754430\n",
      "\n",
      "bond theta soln:  {0: pi/2, 1: 0}\n",
      "new volume:  12941.4637554552\n",
      "old volume:  13633.201490000001\n",
      "change in volume:  -691.737734544753\n",
      "\n",
      "bond theta soln:  {0: pi/2, 1: pi/4}\n",
      "new volume:  13113.2156376921\n",
      "old volume:  13633.201490000001\n",
      "change in volume:  -519.985852307915\n",
      "\n",
      "bond theta soln:  {0: pi/2, 1: pi/2}\n",
      "new volume:  13384.7220809388\n",
      "old volume:  13633.201490000001\n",
      "change in volume:  -248.479409061209\n",
      "\n",
      "bond theta soln:  {0: pi/2, 1: 3*pi/4}\n",
      "new volume:  13596.9382930131\n",
      "old volume:  13633.201490000001\n",
      "change in volume:  -36.2631969868762\n",
      "\n",
      "bond theta soln:  {0: pi/2, 1: pi}\n",
      "new volume:  13625.5508950374\n",
      "old volume:  13633.201490000001\n",
      "change in volume:  -7.65059496262984\n",
      "\n",
      "bond theta soln:  {0: pi/2, 1: 5*pi/4}\n",
      "new volume:  13453.7990128005\n",
      "old volume:  13633.201490000001\n",
      "change in volume:  -179.402477199477\n",
      "\n",
      "bond theta soln:  {0: pi/2, 1: 3*pi/2}\n",
      "new volume:  13182.2925695538\n",
      "old volume:  13633.201490000001\n",
      "change in volume:  -450.908920446180\n",
      "\n",
      "bond theta soln:  {0: pi/2, 1: 7*pi/4}\n",
      "new volume:  12970.0763574795\n",
      "old volume:  13633.201490000001\n",
      "change in volume:  -663.125132520501\n",
      "\n",
      "bond theta soln:  {0: 3*pi/4, 1: 0}\n",
      "new volume:  11988.1893186834\n",
      "old volume:  13633.201490000001\n",
      "change in volume:  -1645.01217131657\n",
      "\n",
      "bond theta soln:  {0: 3*pi/4, 1: pi/4}\n",
      "new volume:  12148.0919849694\n",
      "old volume:  13633.201490000001\n",
      "change in volume:  -1485.10950503063\n",
      "\n",
      "bond theta soln:  {0: 3*pi/4, 1: pi/2}\n",
      "new volume:  12400.0369957296\n",
      "old volume:  13633.201490000001\n",
      "change in volume:  -1233.16449427036\n",
      "\n",
      "bond theta soln:  {0: 3*pi/4, 1: 3*pi/4}\n",
      "new volume:  12596.4383806331\n",
      "old volume:  13633.201490000001\n",
      "change in volume:  -1036.76310936692\n",
      "\n",
      "bond theta soln:  {0: 3*pi/4, 1: pi}\n",
      "new volume:  12622.2468720721\n",
      "old volume:  13633.201490000001\n",
      "change in volume:  -1010.95461792787\n",
      "\n",
      "bond theta soln:  {0: 3*pi/4, 1: 5*pi/4}\n",
      "new volume:  12462.3442057862\n",
      "old volume:  13633.201490000001\n",
      "change in volume:  -1170.85728421382\n",
      "\n",
      "bond theta soln:  {0: 3*pi/4, 1: 3*pi/2}\n",
      "new volume:  12210.3991950259\n",
      "old volume:  13633.201490000001\n",
      "change in volume:  -1422.80229497408\n",
      "\n",
      "bond theta soln:  {0: 3*pi/4, 1: 7*pi/4}\n",
      "new volume:  12013.9978101225\n",
      "old volume:  13633.201490000001\n",
      "change in volume:  -1619.20367987753\n",
      "\n",
      "bond theta soln:  {0: pi, 1: 0}\n",
      "new volume:  11321.4420331653\n",
      "old volume:  13633.201490000001\n",
      "change in volume:  -2311.75945683472\n",
      "\n",
      "bond theta soln:  {0: pi, 1: pi/4}\n",
      "new volume:  11440.0195297619\n",
      "old volume:  13633.201490000001\n",
      "change in volume:  -2193.18196023813\n",
      "\n",
      "bond theta soln:  {0: pi, 1: pi/2}\n",
      "new volume:  11666.1974355279\n",
      "old volume:  13633.201490000001\n",
      "change in volume:  -1967.00405447209\n",
      "\n",
      "bond theta soln:  {0: pi, 1: 3*pi/4}\n",
      "new volume:  11867.4838007748\n",
      "old volume:  13633.201490000001\n",
      "change in volume:  -1765.71768922521\n",
      "\n",
      "bond theta soln:  {0: pi, 1: pi}\n",
      "new volume:  11925.9678026617\n",
      "old volume:  13633.201490000001\n",
      "change in volume:  -1707.23368733833\n",
      "\n",
      "bond theta soln:  {0: pi, 1: 5*pi/4}\n",
      "new volume:  11807.3903060651\n",
      "old volume:  13633.201490000001\n",
      "change in volume:  -1825.81118393493\n",
      "\n",
      "bond theta soln:  {0: pi, 1: 3*pi/2}\n",
      "new volume:  11581.2124002990\n",
      "old volume:  13633.201490000001\n",
      "change in volume:  -2051.98908970097\n",
      "\n",
      "bond theta soln:  {0: pi, 1: 7*pi/4}\n",
      "new volume:  11379.9260350522\n",
      "old volume:  13633.201490000001\n",
      "change in volume:  -2253.27545494784\n",
      "\n",
      "bond theta soln:  {0: 5*pi/4, 1: 0}\n",
      "new volume:  11331.7934160819\n",
      "old volume:  13633.201490000001\n",
      "change in volume:  -2301.40807391811\n",
      "\n",
      "bond theta soln:  {0: 5*pi/4, 1: pi/4}\n",
      "new volume:  11403.7775131873\n",
      "old volume:  13633.201490000001\n",
      "change in volume:  -2229.42397681269\n",
      "\n",
      "bond theta soln:  {0: 5*pi/4, 1: pi/2}\n",
      "new volume:  11613.0766620939\n",
      "old volume:  13633.201490000001\n",
      "change in volume:  -2020.12482790613\n",
      "\n",
      "bond theta soln:  {0: 5*pi/4, 1: 3*pi/4}\n",
      "new volume:  11837.0862599652\n",
      "old volume:  13633.201490000001\n",
      "change in volume:  -1796.11523003476\n",
      "\n",
      "bond theta soln:  {0: 5*pi/4, 1: pi}\n",
      "new volume:  11944.5845224701\n",
      "old volume:  13633.201490000001\n",
      "change in volume:  -1688.61696752990\n",
      "\n",
      "bond theta soln:  {0: 5*pi/4, 1: 5*pi/4}\n",
      "new volume:  11872.6004253647\n",
      "old volume:  13633.201490000001\n",
      "change in volume:  -1760.60106463533\n",
      "\n",
      "bond theta soln:  {0: 5*pi/4, 1: 3*pi/2}\n",
      "new volume:  11663.3012764581\n",
      "old volume:  13633.201490000001\n",
      "change in volume:  -1969.90021354189\n",
      "\n",
      "bond theta soln:  {0: 5*pi/4, 1: 7*pi/4}\n",
      "new volume:  11439.2916785868\n",
      "old volume:  13633.201490000001\n",
      "change in volume:  -2193.90981141325\n",
      "\n",
      "bond theta soln:  {0: 3*pi/2, 1: 0}\n",
      "new volume:  12013.1797677100\n",
      "old volume:  13633.201490000001\n",
      "change in volume:  -1620.02172228997\n",
      "\n",
      "bond theta soln:  {0: 3*pi/2, 1: pi/4}\n",
      "new volume:  12060.5960170273\n",
      "old volume:  13633.201490000001\n",
      "change in volume:  -1572.60547297266\n",
      "\n",
      "bond theta soln:  {0: 3*pi/2, 1: pi/2}\n",
      "new volume:  12271.7921040614\n",
      "old volume:  13633.201490000001\n",
      "change in volume:  -1361.40938593856\n",
      "\n",
      "bond theta soln:  {0: 3*pi/2, 1: 3*pi/4}\n",
      "new volume:  12523.0522253479\n",
      "old volume:  13633.201490000001\n",
      "change in volume:  -1110.14926465212\n",
      "\n",
      "bond theta soln:  {0: 3*pi/2, 1: pi}\n",
      "new volume:  12667.1916095206\n",
      "old volume:  13633.201490000001\n",
      "change in volume:  -966.009880479438\n",
      "\n",
      "bond theta soln:  {0: 3*pi/2, 1: 5*pi/4}\n",
      "new volume:  12619.7753602032\n",
      "old volume:  13633.201490000001\n",
      "change in volume:  -1013.42612979676\n",
      "\n",
      "bond theta soln:  {0: 3*pi/2, 1: 3*pi/2}\n",
      "new volume:  12408.5792731691\n",
      "old volume:  13633.201490000001\n",
      "change in volume:  -1224.62221683086\n",
      "\n",
      "bond theta soln:  {0: 3*pi/2, 1: 7*pi/4}\n",
      "new volume:  12157.3191518827\n",
      "old volume:  13633.201490000001\n",
      "change in volume:  -1475.88233811729\n",
      "\n",
      "bond theta soln:  {0: 7*pi/4, 1: 0}\n",
      "new volume:  12966.4542044819\n",
      "old volume:  13633.201490000001\n",
      "change in volume:  -666.747285518148\n",
      "\n",
      "bond theta soln:  {0: 7*pi/4, 1: pi/4}\n",
      "new volume:  13025.7196697501\n",
      "old volume:  13633.201490000001\n",
      "change in volume:  -607.481820249943\n",
      "\n",
      "bond theta soln:  {0: 7*pi/4, 1: pi/2}\n",
      "new volume:  13256.4771892706\n",
      "old volume:  13633.201490000001\n",
      "change in volume:  -376.724300729398\n",
      "\n",
      "bond theta soln:  {0: 7*pi/4, 1: 3*pi/4}\n",
      "new volume:  13523.5521377279\n",
      "old volume:  13633.201490000001\n",
      "change in volume:  -109.649352272087\n",
      "\n",
      "bond theta soln:  {0: 7*pi/4, 1: pi}\n",
      "new volume:  13670.4956324858\n",
      "old volume:  13633.201490000001\n",
      "change in volume:  37.2941424858018\n",
      "\n",
      "bond theta soln:  {0: 7*pi/4, 1: 5*pi/4}\n",
      "new volume:  13611.2301672176\n",
      "old volume:  13633.201490000001\n",
      "change in volume:  -21.9713227824141\n",
      "\n",
      "bond theta soln:  {0: 7*pi/4, 1: 3*pi/2}\n",
      "new volume:  13380.4726476970\n",
      "old volume:  13633.201490000001\n",
      "change in volume:  -252.728842302959\n",
      "\n",
      "bond theta soln:  {0: 7*pi/4, 1: 7*pi/4}\n",
      "new volume:  13113.3976992397\n",
      "old volume:  13633.201490000001\n",
      "change in volume:  -519.803790760272\n",
      "The time of execution:  13.13184642791748 s\n",
      "best solution:  {0: 0, 1: pi}\n"
     ]
    }
   ],
   "source": [
    "# brute force solution\n",
    "start = time.time()\n",
    "thetas = generate_thetas()\n",
    "best_volume_change = 0\n",
    "best_soln = {}\n",
    "for i in range(8):\n",
    "    for j in range(8):\n",
    "        bond_theta_soln = {0: thetas[i], 1: thetas[j]}\n",
    "        print('\\nbond theta soln: ', bond_theta_soln)\n",
    "        new_coords = compute_new_coords(bond_theta_soln)\n",
    "        vol_difference = find_volume_change(coords_mol, new_coords)\n",
    "        if vol_difference > best_volume_change:\n",
    "            best_volume_change = vol_difference\n",
    "            best_soln = bond_theta_soln\n",
    "end = time.time()\n",
    "print(\"The time of execution: \", (end-start), \"s\")    \n",
    "print('best solution: ', best_soln)\n",
    "\n",
    "\n"
   ]
  },
  {
   "cell_type": "code",
   "execution_count": 131,
   "metadata": {},
   "outputs": [],
   "source": [
    "from rdkit.Geometry import Point3D\n",
    "conf = mol.GetConformer()\n",
    "for i in range(len(coords_mol)):\n",
    "    x, y, z = final_coords[i]\n",
    "    conf.SetAtomPosition(i, Point3D(float(x), float(y), float(z)))"
   ]
  },
  {
   "cell_type": "code",
   "execution_count": 132,
   "metadata": {},
   "outputs": [
    {
     "output_type": "display_data",
     "data": {
      "application/3dmoljs_load.v0": "<div id=\"3dmolviewer_16862627176780784\"  style=\"position: relative; width: 500px; height: 250px\">\n        <p id=\"3dmolwarning_16862627176780784\" style=\"background-color:#ffcccc;color:black\">You appear to be running in JupyterLab (or JavaScript failed to load for some other reason).  You need to install the 3dmol extension: <br>\n        <tt>jupyter labextension install jupyterlab_3dmol</tt></p>\n        </div>\n<script>\n\nvar loadScriptAsync = function(uri){\n  return new Promise((resolve, reject) => {\n    //this is to ignore the existence of requirejs amd\n    var savedexports, savedmodule;\n    if (typeof exports !== 'undefined') savedexports = exports;\n    else exports = {}\n    if (typeof module !== 'undefined') savedmodule = module;\n    else module = {}\n\n    var tag = document.createElement('script');\n    tag.src = uri;\n    tag.async = true;\n    tag.onload = () => {\n        exports = savedexports;\n        module = savedmodule;\n        resolve();\n    };\n  var firstScriptTag = document.getElementsByTagName('script')[0];\n  firstScriptTag.parentNode.insertBefore(tag, firstScriptTag);\n});\n};\n\nif(typeof $3Dmolpromise === 'undefined') {\n$3Dmolpromise = null;\n  $3Dmolpromise = loadScriptAsync('https://cdnjs.cloudflare.com/ajax/libs/3Dmol/2.0.1/3Dmol-min.js');\n}\n\nvar viewer_16862627176780784 = null;\nvar warn = document.getElementById(\"3dmolwarning_16862627176780784\");\nif(warn) {\n    warn.parentNode.removeChild(warn);\n}\n$3Dmolpromise.then(function() {\nviewer_16862627176780784 = $3Dmol.createViewer(document.getElementById(\"3dmolviewer_16862627176780784\"),{backgroundColor:\"white\"});\nviewer_16862627176780784.zoomTo();\n\tviewer_16862627176780784.addModel(\"52\\n     RDKit          3D\\n\\n 25 26  0  0  0  0  0  0  0  0999 V2000\\n   12.3050   -0.7780   -0.5080 C   0  0  0  0  0  0  0  0  0  0  0  0\\n   11.0000   -0.0100   -0.3730 C   0  0  0  0  0  0  0  0  0  0  0  0\\n    9.8390   -0.9380   -0.0080 C   0  0  0  0  0  0  0  0  0  0  0  0\\n    8.5260   -0.1540    0.1300 C   0  0  0  0  0  0  0  0  0  0  0  0\\n    7.3330   -1.0020    0.3040 N   0  0  0  0  0  0  0  0  0  0  0  0\\n    7.3850   -1.8850    1.4820 C   0  0  0  0  0  0  0  0  0  0  0  0\\n    7.4200   -1.1870    2.8490 C   0  0  0  0  0  0  0  0  0  0  0  0\\n    7.4630   -2.2110    3.9870 C   0  0  0  0  0  0  0  0  0  0  0  0\\n    7.4940   -1.5310    5.3470 C   0  0  0  0  0  0  0  0  0  0  0  0\\n    6.1140   -0.1780    0.2200 C   0  0  0  0  0  0  0  0  0  0  0  0\\n    4.8080   -0.9780    0.2270 C   0  0  0  0  0  0  0  0  0  0  0  0\\n    3.6090   -0.0750   -0.0570 C   0  0  0  0  0  0  0  0  0  0  0  0\\n    2.4350   -0.8830    0.0090 O   0  0  0  0  0  0  0  0  0  0  0  0\\n    1.2080   -0.3080   -0.2140 C   0  0  0  0  0  0  0  0  0  0  0  0\\n    1.0600    1.0580   -0.5060 C   0  0  0  0  0  0  0  0  0  0  0  0\\n   -0.1990    1.6010   -0.7060 C   0  0  0  0  0  0  0  0  0  0  0  0\\n   -1.3100    0.7820   -0.6080 C   0  0  0  0  0  0  0  0  0  0  0  0\\n   -1.1700   -0.5870   -0.3170 C   0  0  0  0  0  0  0  0  0  0  0  0\\n   -2.6770   -1.4390   -0.2130 Cl  0  0  0  0  0  0  0  0  0  0  0  0\\n    0.0950   -1.2060   -0.1160 C   0  0  0  0  0  0  0  0  0  0  0  0\\n    0.3500   -2.7800    0.2170 C   0  0  0  0  0  0  0  0  0  0  0  0\\n   -0.8490   -3.6480    0.2190 N   0  0  0  0  0  0  0  0  0  0  0  0\\n    1.1810   -3.1650    1.4700 C   0  0  0  0  0  0  0  0  0  0  0  0\\n   -0.9705   -4.4969    0.3543 O   0  0  0  0  0  0  0  0  0  0  0  0\\n    1.4490   -3.5740   -0.5440 C   0  0  0  0  0  0  0  0  0  0  0  0\\n  1  2  1  0\\n  2  3  1  0\\n  3  4  1  0\\n  4  5  1  0\\n  5  6  1  0\\n  5 10  1  0\\n  6  7  1  0\\n  7  8  1  0\\n  8  9  1  0\\n 10 11  1  0\\n 11 12  1  0\\n 12 13  1  0\\n 13 14  1  0\\n 14 15  2  0\\n 15 16  1  0\\n 16 17  2  0\\n 17 18  1  0\\n 18 19  1  0\\n 18 20  2  0\\n 20 14  1  0\\n 20 21  1  0\\n 21 22  1  0\\n 21 23  1  0\\n 23 24  1  0\\n 24 25  1  0\\n 25 21  1  0\\nM  END\\n\",\"mol\");\n\tviewer_16862627176780784.setStyle({\"stick\": {}});\n\tviewer_16862627176780784.zoomTo();\nviewer_16862627176780784.render();\n});\n</script>",
      "text/html": "<div id=\"3dmolviewer_16862627176780784\"  style=\"position: relative; width: 500px; height: 250px\">\n        <p id=\"3dmolwarning_16862627176780784\" style=\"background-color:#ffcccc;color:black\">You appear to be running in JupyterLab (or JavaScript failed to load for some other reason).  You need to install the 3dmol extension: <br>\n        <tt>jupyter labextension install jupyterlab_3dmol</tt></p>\n        </div>\n<script>\n\nvar loadScriptAsync = function(uri){\n  return new Promise((resolve, reject) => {\n    //this is to ignore the existence of requirejs amd\n    var savedexports, savedmodule;\n    if (typeof exports !== 'undefined') savedexports = exports;\n    else exports = {}\n    if (typeof module !== 'undefined') savedmodule = module;\n    else module = {}\n\n    var tag = document.createElement('script');\n    tag.src = uri;\n    tag.async = true;\n    tag.onload = () => {\n        exports = savedexports;\n        module = savedmodule;\n        resolve();\n    };\n  var firstScriptTag = document.getElementsByTagName('script')[0];\n  firstScriptTag.parentNode.insertBefore(tag, firstScriptTag);\n});\n};\n\nif(typeof $3Dmolpromise === 'undefined') {\n$3Dmolpromise = null;\n  $3Dmolpromise = loadScriptAsync('https://cdnjs.cloudflare.com/ajax/libs/3Dmol/2.0.1/3Dmol-min.js');\n}\n\nvar viewer_16862627176780784 = null;\nvar warn = document.getElementById(\"3dmolwarning_16862627176780784\");\nif(warn) {\n    warn.parentNode.removeChild(warn);\n}\n$3Dmolpromise.then(function() {\nviewer_16862627176780784 = $3Dmol.createViewer(document.getElementById(\"3dmolviewer_16862627176780784\"),{backgroundColor:\"white\"});\nviewer_16862627176780784.zoomTo();\n\tviewer_16862627176780784.addModel(\"52\\n     RDKit          3D\\n\\n 25 26  0  0  0  0  0  0  0  0999 V2000\\n   12.3050   -0.7780   -0.5080 C   0  0  0  0  0  0  0  0  0  0  0  0\\n   11.0000   -0.0100   -0.3730 C   0  0  0  0  0  0  0  0  0  0  0  0\\n    9.8390   -0.9380   -0.0080 C   0  0  0  0  0  0  0  0  0  0  0  0\\n    8.5260   -0.1540    0.1300 C   0  0  0  0  0  0  0  0  0  0  0  0\\n    7.3330   -1.0020    0.3040 N   0  0  0  0  0  0  0  0  0  0  0  0\\n    7.3850   -1.8850    1.4820 C   0  0  0  0  0  0  0  0  0  0  0  0\\n    7.4200   -1.1870    2.8490 C   0  0  0  0  0  0  0  0  0  0  0  0\\n    7.4630   -2.2110    3.9870 C   0  0  0  0  0  0  0  0  0  0  0  0\\n    7.4940   -1.5310    5.3470 C   0  0  0  0  0  0  0  0  0  0  0  0\\n    6.1140   -0.1780    0.2200 C   0  0  0  0  0  0  0  0  0  0  0  0\\n    4.8080   -0.9780    0.2270 C   0  0  0  0  0  0  0  0  0  0  0  0\\n    3.6090   -0.0750   -0.0570 C   0  0  0  0  0  0  0  0  0  0  0  0\\n    2.4350   -0.8830    0.0090 O   0  0  0  0  0  0  0  0  0  0  0  0\\n    1.2080   -0.3080   -0.2140 C   0  0  0  0  0  0  0  0  0  0  0  0\\n    1.0600    1.0580   -0.5060 C   0  0  0  0  0  0  0  0  0  0  0  0\\n   -0.1990    1.6010   -0.7060 C   0  0  0  0  0  0  0  0  0  0  0  0\\n   -1.3100    0.7820   -0.6080 C   0  0  0  0  0  0  0  0  0  0  0  0\\n   -1.1700   -0.5870   -0.3170 C   0  0  0  0  0  0  0  0  0  0  0  0\\n   -2.6770   -1.4390   -0.2130 Cl  0  0  0  0  0  0  0  0  0  0  0  0\\n    0.0950   -1.2060   -0.1160 C   0  0  0  0  0  0  0  0  0  0  0  0\\n    0.3500   -2.7800    0.2170 C   0  0  0  0  0  0  0  0  0  0  0  0\\n   -0.8490   -3.6480    0.2190 N   0  0  0  0  0  0  0  0  0  0  0  0\\n    1.1810   -3.1650    1.4700 C   0  0  0  0  0  0  0  0  0  0  0  0\\n   -0.9705   -4.4969    0.3543 O   0  0  0  0  0  0  0  0  0  0  0  0\\n    1.4490   -3.5740   -0.5440 C   0  0  0  0  0  0  0  0  0  0  0  0\\n  1  2  1  0\\n  2  3  1  0\\n  3  4  1  0\\n  4  5  1  0\\n  5  6  1  0\\n  5 10  1  0\\n  6  7  1  0\\n  7  8  1  0\\n  8  9  1  0\\n 10 11  1  0\\n 11 12  1  0\\n 12 13  1  0\\n 13 14  1  0\\n 14 15  2  0\\n 15 16  1  0\\n 16 17  2  0\\n 17 18  1  0\\n 18 19  1  0\\n 18 20  2  0\\n 20 14  1  0\\n 20 21  1  0\\n 21 22  1  0\\n 21 23  1  0\\n 23 24  1  0\\n 24 25  1  0\\n 25 21  1  0\\nM  END\\n\",\"mol\");\n\tviewer_16862627176780784.setStyle({\"stick\": {}});\n\tviewer_16862627176780784.zoomTo();\nviewer_16862627176780784.render();\n});\n</script>"
     },
     "metadata": {}
    }
   ],
   "source": [
    "mblock = Chem.MolToMolBlock(mol)\n",
    "view = py3Dmol.view(width=500, height=250)\n",
    "view.addModel(mblock, 'mol')\n",
    "view.setStyle({'stick':{}})\n",
    "view.zoomTo()\n",
    "view.show()"
   ]
  },
  {
   "cell_type": "code",
   "execution_count": 133,
   "metadata": {},
   "outputs": [
    {
     "output_type": "display_data",
     "data": {
      "application/3dmoljs_load.v0": "<div id=\"3dmolviewer_16862627250954773\"  style=\"position: relative; width: 500px; height: 250px\">\n        <p id=\"3dmolwarning_16862627250954773\" style=\"background-color:#ffcccc;color:black\">You appear to be running in JupyterLab (or JavaScript failed to load for some other reason).  You need to install the 3dmol extension: <br>\n        <tt>jupyter labextension install jupyterlab_3dmol</tt></p>\n        </div>\n<script>\n\nvar loadScriptAsync = function(uri){\n  return new Promise((resolve, reject) => {\n    //this is to ignore the existence of requirejs amd\n    var savedexports, savedmodule;\n    if (typeof exports !== 'undefined') savedexports = exports;\n    else exports = {}\n    if (typeof module !== 'undefined') savedmodule = module;\n    else module = {}\n\n    var tag = document.createElement('script');\n    tag.src = uri;\n    tag.async = true;\n    tag.onload = () => {\n        exports = savedexports;\n        module = savedmodule;\n        resolve();\n    };\n  var firstScriptTag = document.getElementsByTagName('script')[0];\n  firstScriptTag.parentNode.insertBefore(tag, firstScriptTag);\n});\n};\n\nif(typeof $3Dmolpromise === 'undefined') {\n$3Dmolpromise = null;\n  $3Dmolpromise = loadScriptAsync('https://cdnjs.cloudflare.com/ajax/libs/3Dmol/2.0.1/3Dmol-min.js');\n}\n\nvar viewer_16862627250954773 = null;\nvar warn = document.getElementById(\"3dmolwarning_16862627250954773\");\nif(warn) {\n    warn.parentNode.removeChild(warn);\n}\n$3Dmolpromise.then(function() {\nviewer_16862627250954773 = $3Dmol.createViewer(document.getElementById(\"3dmolviewer_16862627250954773\"),{backgroundColor:\"white\"});\nviewer_16862627250954773.zoomTo();\n\tviewer_16862627250954773.addModel(\"52\\n     RDKit          3D\\n\\n 25 26  0  0  0  0  0  0  0  0999 V2000\\n   12.3050   -0.7780   -0.5080 C   0  0  0  0  0  0  0  0  0  0  0  0\\n   11.0000   -0.0100   -0.3730 C   0  0  0  0  0  0  0  0  0  0  0  0\\n    9.8390   -0.9380   -0.0080 C   0  0  0  0  0  0  0  0  0  0  0  0\\n    8.5260   -0.1540    0.1300 C   0  0  0  0  0  0  0  0  0  0  0  0\\n    7.3330   -1.0020    0.3040 N   0  0  0  0  0  0  0  0  0  0  0  0\\n    7.3850   -1.8850    1.4820 C   0  0  0  0  0  0  0  0  0  0  0  0\\n    7.4200   -1.1870    2.8490 C   0  0  0  0  0  0  0  0  0  0  0  0\\n    7.4630   -2.2110    3.9870 C   0  0  0  0  0  0  0  0  0  0  0  0\\n    7.4940   -1.5310    5.3470 C   0  0  0  0  0  0  0  0  0  0  0  0\\n    6.1140   -0.1780    0.2200 C   0  0  0  0  0  0  0  0  0  0  0  0\\n    4.8080   -0.9780    0.2270 C   0  0  0  0  0  0  0  0  0  0  0  0\\n    3.6090   -0.0750   -0.0570 C   0  0  0  0  0  0  0  0  0  0  0  0\\n    2.4350   -0.8830    0.0090 O   0  0  0  0  0  0  0  0  0  0  0  0\\n    1.2080   -0.3080   -0.2140 C   0  0  0  0  0  0  0  0  0  0  0  0\\n    1.0600    1.0580   -0.5060 C   0  0  0  0  0  0  0  0  0  0  0  0\\n   -0.1990    1.6010   -0.7060 C   0  0  0  0  0  0  0  0  0  0  0  0\\n   -1.3100    0.7820   -0.6080 C   0  0  0  0  0  0  0  0  0  0  0  0\\n   -1.1700   -0.5870   -0.3170 C   0  0  0  0  0  0  0  0  0  0  0  0\\n   -2.6770   -1.4390   -0.2130 Cl  0  0  0  0  0  0  0  0  0  0  0  0\\n    0.0950   -1.2060   -0.1160 C   0  0  0  0  0  0  0  0  0  0  0  0\\n    0.3500   -2.7800    0.2170 C   0  0  0  0  0  0  0  0  0  0  0  0\\n   -0.8490   -3.6480    0.2190 N   0  0  0  0  0  0  0  0  0  0  0  0\\n    1.1810   -3.1650    1.4700 C   0  0  0  0  0  0  0  0  0  0  0  0\\n    2.1340   -3.9240    0.6850 O   0  0  0  0  0  0  0  0  0  0  0  0\\n    1.4490   -3.5740   -0.5440 C   0  0  0  0  0  0  0  0  0  0  0  0\\n  1  2  1  0\\n  2  3  1  0\\n  3  4  1  0\\n  4  5  1  0\\n  5  6  1  0\\n  5 10  1  0\\n  6  7  1  0\\n  7  8  1  0\\n  8  9  1  0\\n 10 11  1  0\\n 11 12  1  0\\n 12 13  1  0\\n 13 14  1  0\\n 14 15  2  0\\n 15 16  1  0\\n 16 17  2  0\\n 17 18  1  0\\n 18 19  1  0\\n 18 20  2  0\\n 20 14  1  0\\n 20 21  1  0\\n 21 22  1  0\\n 21 23  1  0\\n 23 24  1  0\\n 24 25  1  0\\n 25 21  1  0\\nM  END\\n\",\"mol\");\n\tviewer_16862627250954773.setStyle({\"stick\": {}});\n\tviewer_16862627250954773.zoomTo();\nviewer_16862627250954773.render();\n});\n</script>",
      "text/html": "<div id=\"3dmolviewer_16862627250954773\"  style=\"position: relative; width: 500px; height: 250px\">\n        <p id=\"3dmolwarning_16862627250954773\" style=\"background-color:#ffcccc;color:black\">You appear to be running in JupyterLab (or JavaScript failed to load for some other reason).  You need to install the 3dmol extension: <br>\n        <tt>jupyter labextension install jupyterlab_3dmol</tt></p>\n        </div>\n<script>\n\nvar loadScriptAsync = function(uri){\n  return new Promise((resolve, reject) => {\n    //this is to ignore the existence of requirejs amd\n    var savedexports, savedmodule;\n    if (typeof exports !== 'undefined') savedexports = exports;\n    else exports = {}\n    if (typeof module !== 'undefined') savedmodule = module;\n    else module = {}\n\n    var tag = document.createElement('script');\n    tag.src = uri;\n    tag.async = true;\n    tag.onload = () => {\n        exports = savedexports;\n        module = savedmodule;\n        resolve();\n    };\n  var firstScriptTag = document.getElementsByTagName('script')[0];\n  firstScriptTag.parentNode.insertBefore(tag, firstScriptTag);\n});\n};\n\nif(typeof $3Dmolpromise === 'undefined') {\n$3Dmolpromise = null;\n  $3Dmolpromise = loadScriptAsync('https://cdnjs.cloudflare.com/ajax/libs/3Dmol/2.0.1/3Dmol-min.js');\n}\n\nvar viewer_16862627250954773 = null;\nvar warn = document.getElementById(\"3dmolwarning_16862627250954773\");\nif(warn) {\n    warn.parentNode.removeChild(warn);\n}\n$3Dmolpromise.then(function() {\nviewer_16862627250954773 = $3Dmol.createViewer(document.getElementById(\"3dmolviewer_16862627250954773\"),{backgroundColor:\"white\"});\nviewer_16862627250954773.zoomTo();\n\tviewer_16862627250954773.addModel(\"52\\n     RDKit          3D\\n\\n 25 26  0  0  0  0  0  0  0  0999 V2000\\n   12.3050   -0.7780   -0.5080 C   0  0  0  0  0  0  0  0  0  0  0  0\\n   11.0000   -0.0100   -0.3730 C   0  0  0  0  0  0  0  0  0  0  0  0\\n    9.8390   -0.9380   -0.0080 C   0  0  0  0  0  0  0  0  0  0  0  0\\n    8.5260   -0.1540    0.1300 C   0  0  0  0  0  0  0  0  0  0  0  0\\n    7.3330   -1.0020    0.3040 N   0  0  0  0  0  0  0  0  0  0  0  0\\n    7.3850   -1.8850    1.4820 C   0  0  0  0  0  0  0  0  0  0  0  0\\n    7.4200   -1.1870    2.8490 C   0  0  0  0  0  0  0  0  0  0  0  0\\n    7.4630   -2.2110    3.9870 C   0  0  0  0  0  0  0  0  0  0  0  0\\n    7.4940   -1.5310    5.3470 C   0  0  0  0  0  0  0  0  0  0  0  0\\n    6.1140   -0.1780    0.2200 C   0  0  0  0  0  0  0  0  0  0  0  0\\n    4.8080   -0.9780    0.2270 C   0  0  0  0  0  0  0  0  0  0  0  0\\n    3.6090   -0.0750   -0.0570 C   0  0  0  0  0  0  0  0  0  0  0  0\\n    2.4350   -0.8830    0.0090 O   0  0  0  0  0  0  0  0  0  0  0  0\\n    1.2080   -0.3080   -0.2140 C   0  0  0  0  0  0  0  0  0  0  0  0\\n    1.0600    1.0580   -0.5060 C   0  0  0  0  0  0  0  0  0  0  0  0\\n   -0.1990    1.6010   -0.7060 C   0  0  0  0  0  0  0  0  0  0  0  0\\n   -1.3100    0.7820   -0.6080 C   0  0  0  0  0  0  0  0  0  0  0  0\\n   -1.1700   -0.5870   -0.3170 C   0  0  0  0  0  0  0  0  0  0  0  0\\n   -2.6770   -1.4390   -0.2130 Cl  0  0  0  0  0  0  0  0  0  0  0  0\\n    0.0950   -1.2060   -0.1160 C   0  0  0  0  0  0  0  0  0  0  0  0\\n    0.3500   -2.7800    0.2170 C   0  0  0  0  0  0  0  0  0  0  0  0\\n   -0.8490   -3.6480    0.2190 N   0  0  0  0  0  0  0  0  0  0  0  0\\n    1.1810   -3.1650    1.4700 C   0  0  0  0  0  0  0  0  0  0  0  0\\n    2.1340   -3.9240    0.6850 O   0  0  0  0  0  0  0  0  0  0  0  0\\n    1.4490   -3.5740   -0.5440 C   0  0  0  0  0  0  0  0  0  0  0  0\\n  1  2  1  0\\n  2  3  1  0\\n  3  4  1  0\\n  4  5  1  0\\n  5  6  1  0\\n  5 10  1  0\\n  6  7  1  0\\n  7  8  1  0\\n  8  9  1  0\\n 10 11  1  0\\n 11 12  1  0\\n 12 13  1  0\\n 13 14  1  0\\n 14 15  2  0\\n 15 16  1  0\\n 16 17  2  0\\n 17 18  1  0\\n 18 19  1  0\\n 18 20  2  0\\n 20 14  1  0\\n 20 21  1  0\\n 21 22  1  0\\n 21 23  1  0\\n 23 24  1  0\\n 24 25  1  0\\n 25 21  1  0\\nM  END\\n\",\"mol\");\n\tviewer_16862627250954773.setStyle({\"stick\": {}});\n\tviewer_16862627250954773.zoomTo();\nviewer_16862627250954773.render();\n});\n</script>"
     },
     "metadata": {}
    }
   ],
   "source": [
    "mol_file = './Molecules/25A12Rot_2.mol2'\n",
    "mol = Chem.MolFromMol2File(mol_file)\n",
    "mblock = Chem.MolToMolBlock(mol)\n",
    "view = py3Dmol.view(width=500, height=250)\n",
    "view.addModel(mblock, 'mol')\n",
    "view.setStyle({'stick':{}})\n",
    "view.zoomTo()\n",
    "view.show()"
   ]
  },
  {
   "cell_type": "code",
   "execution_count": null,
   "metadata": {},
   "outputs": [],
   "source": []
  }
 ]
}