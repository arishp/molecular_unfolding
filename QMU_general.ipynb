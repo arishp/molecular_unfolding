{
 "metadata": {
  "language_info": {
   "codemirror_mode": {
    "name": "ipython",
    "version": 3
   },
   "file_extension": ".py",
   "mimetype": "text/x-python",
   "name": "python",
   "nbconvert_exporter": "python",
   "pygments_lexer": "ipython3",
   "version": "3.9.16"
  },
  "orig_nbformat": 4,
  "kernelspec": {
   "name": "python3",
   "display_name": "Python 3.9.16 64-bit"
  },
  "interpreter": {
   "hash": "4cd7ab41f5fca4b9b44701077e38c5ffd31fe66a6cab21e0214b68d958d0e462"
  }
 },
 "nbformat": 4,
 "nbformat_minor": 2,
 "cells": [
  {
   "source": [
    "# Visualize the molecule"
   ],
   "cell_type": "markdown",
   "metadata": {}
  },
  {
   "cell_type": "code",
   "execution_count": 40,
   "metadata": {},
   "outputs": [
    {
     "output_type": "display_data",
     "data": {
      "application/3dmoljs_load.v0": "<div id=\"3dmolviewer_16873432395468752\"  style=\"position: relative; width: 500px; height: 250px\">\n        <p id=\"3dmolwarning_16873432395468752\" style=\"background-color:#ffcccc;color:black\">You appear to be running in JupyterLab (or JavaScript failed to load for some other reason).  You need to install the 3dmol extension: <br>\n        <tt>jupyter labextension install jupyterlab_3dmol</tt></p>\n        </div>\n<script>\n\nvar loadScriptAsync = function(uri){\n  return new Promise((resolve, reject) => {\n    //this is to ignore the existence of requirejs amd\n    var savedexports, savedmodule;\n    if (typeof exports !== 'undefined') savedexports = exports;\n    else exports = {}\n    if (typeof module !== 'undefined') savedmodule = module;\n    else module = {}\n\n    var tag = document.createElement('script');\n    tag.src = uri;\n    tag.async = true;\n    tag.onload = () => {\n        exports = savedexports;\n        module = savedmodule;\n        resolve();\n    };\n  var firstScriptTag = document.getElementsByTagName('script')[0];\n  firstScriptTag.parentNode.insertBefore(tag, firstScriptTag);\n});\n};\n\nif(typeof $3Dmolpromise === 'undefined') {\n$3Dmolpromise = null;\n  $3Dmolpromise = loadScriptAsync('https://cdnjs.cloudflare.com/ajax/libs/3Dmol/2.0.1/3Dmol-min.js');\n}\n\nvar viewer_16873432395468752 = null;\nvar warn = document.getElementById(\"3dmolwarning_16873432395468752\");\nif(warn) {\n    warn.parentNode.removeChild(warn);\n}\n$3Dmolpromise.then(function() {\nviewer_16873432395468752 = $3Dmol.createViewer(document.getElementById(\"3dmolviewer_16873432395468752\"),{backgroundColor:\"white\"});\nviewer_16873432395468752.zoomTo();\n\tviewer_16873432395468752.addModel(\"76\\n     RDKit          3D\\n\\n 50 54  0  0  0  0  0  0  0  0999 V2000\\n    4.6690   -2.6830   -1.2440 C   0  0  0  0  0  0  0  0  0  0  0  0\\n    4.8020   -1.2210   -1.0010 C   0  0  0  0  0  0  0  0  0  0  0  0\\n    5.8800   -0.4210   -1.0160 C   0  0  0  0  0  0  0  0  0  0  0  0\\n    7.3510   -0.6650   -1.1650 C   0  0  0  0  0  0  0  0  0  0  0  0\\n    7.8480   -2.1100   -1.1540 C   0  0  0  0  0  0  0  0  0  0  0  0\\n    9.2770   -2.0800   -1.0820 O   0  0  0  0  0  0  0  0  0  0  0  0\\n    9.9170   -3.2770   -0.9330 C   0  0  0  0  0  0  0  0  0  0  0  0\\n    9.3340   -4.5380   -1.0250 C   0  0  0  0  0  0  0  0  0  0  0  0\\n   10.1120   -5.6900   -0.8430 C   0  0  0  0  0  0  0  0  0  0  0  0\\n   11.4830   -5.6010   -0.5660 C   0  0  0  0  0  0  0  0  0  0  0  0\\n   12.0610   -4.3280   -0.4870 C   0  0  0  0  0  0  0  0  0  0  0  0\\n   11.2840   -3.1800   -0.6720 C   0  0  0  0  0  0  0  0  0  0  0  0\\n   12.2640   -6.7670   -0.3590 N   0  0  0  0  0  0  0  0  0  0  0  0\\n   12.0600   -7.9560   -1.0190 C   0  0  0  0  0  0  0  0  0  0  0  0\\n   11.2700   -8.2010   -1.9200 O   0  0  0  0  0  0  0  0  0  0  0  0\\n   12.9730   -9.0020   -0.4490 C   0  0  0  0  0  0  0  0  0  0  0  0\\n   13.9100   -8.2180    0.4470 C   0  0  2  0  0  0  0  0  0  0  0  0\\n   14.2180   -9.0060    2.0670 S   0  0  0  0  0  0  0  0  0  0  0  0\\n   12.5960   -8.7670    2.8830 C   0  0  0  0  0  0  0  0  0  0  0  0\\n   12.5830   -9.4060    4.2670 C   0  0  0  0  0  0  0  0  0  0  0  0\\n   11.6920  -10.1910    4.5790 O   0  0  0  0  0  0  0  0  0  0  0  0\\n   13.6060   -8.9530    5.0830 N   0  0  0  0  0  0  0  0  0  0  0  0\\n   13.8470   -9.2970    6.4270 C   0  0  0  0  0  0  0  0  0  0  0  0\\n   12.9310   -9.9790    7.2290 C   0  0  0  0  0  0  0  0  0  0  0  0\\n   13.2310  -10.2670    8.5630 C   0  0  0  0  0  0  0  0  0  0  0  0\\n   14.4500   -9.8720    9.1090 C   0  0  0  0  0  0  0  0  0  0  0  0\\n   15.3860   -9.1870    8.3230 C   0  0  0  0  0  0  0  0  0  0  0  0\\n   15.0680   -8.8970    6.9840 C   0  0  0  0  0  0  0  0  0  0  0  0\\n   16.6950   -8.7290    8.9140 C   0  0  0  0  0  0  0  0  0  0  0  0\\n   17.1360   -9.5250    9.9280 F   0  0  0  0  0  0  0  0  0  0  0  0\\n   16.6170   -7.4720    9.4310 F   0  0  0  0  0  0  0  0  0  0  0  0\\n   17.7080   -8.6950    8.0030 F   0  0  0  0  0  0  0  0  0  0  0  0\\n   13.2870   -6.8480    0.5590 C   0  0  0  0  0  0  0  0  0  0  0  0\\n   13.6540   -5.9950    1.3570 O   0  0  0  0  0  0  0  0  0  0  0  0\\n    5.4700    0.9680   -0.7550 C   0  0  0  0  0  0  0  0  0  0  0  0\\n    6.1920    1.9210   -0.5490 O   0  0  0  0  0  0  0  0  0  0  0  0\\n    4.1010    0.9370   -0.7460 N   0  0  0  0  0  0  0  0  0  0  0  0\\n    3.6280   -0.3910   -0.8020 N   0  0  0  0  0  0  0  0  0  0  0  0\\n    2.6170   -0.8720    0.5270 S   0  0  0  0  0  6  0  0  0  0  0  0\\n    2.3600   -2.2960    0.5040 O   0  0  0  0  0  0  0  0  0  0  0  0\\n    3.1410   -0.2320    1.7200 O   0  0  0  0  0  0  0  0  0  0  0  0\\n    1.0840   -0.0620    0.1300 C   0  0  0  0  0  0  0  0  0  0  0  0\\n    0.5560    0.8530    1.0570 C   0  0  0  0  0  0  0  0  0  0  0  0\\n   -0.6480    1.5260    0.7980 C   0  0  0  0  0  0  0  0  0  0  0  0\\n   -1.1860    2.5010    1.8090 C   0  0  0  0  0  0  0  0  0  0  0  0\\n   -1.3180    1.2610   -0.4050 C   0  0  0  0  0  0  0  0  0  0  0  0\\n   -2.8040    2.0450   -0.8030 Cl  0  0  0  0  0  0  0  0  0  0  0  0\\n   -0.7970    0.3440   -1.3220 C   0  0  0  0  0  0  0  0  0  0  0  0\\n    0.4040   -0.3240   -1.0590 C   0  0  0  0  0  0  0  0  0  0  0  0\\n    0.9460   -1.4390   -2.2590 Cl  0  0  0  0  0  0  0  0  0  0  0  0\\n  1  2  1  0\\n  2  3  2  0\\n  3  4  1  0\\n  3 35  1  0\\n  4  5  1  0\\n  5  6  1  0\\n  6  7  1  0\\n  7  8  2  0\\n  8  9  1  0\\n  9 10  2  0\\n 10 11  1  0\\n 10 13  1  0\\n 11 12  2  0\\n 12  7  1  0\\n 13 14  1  0\\n 14 15  2  0\\n 14 16  1  0\\n 16 17  1  0\\n 17 18  1  1\\n 17 33  1  0\\n 18 19  1  0\\n 19 20  1  0\\n 20 21  2  0\\n 20 22  1  0\\n 22 23  1  0\\n 23 24  2  0\\n 24 25  1  0\\n 25 26  2  0\\n 26 27  1  0\\n 27 28  2  0\\n 27 29  1  0\\n 28 23  1  0\\n 29 30  1  0\\n 29 31  1  0\\n 29 32  1  0\\n 33 13  1  0\\n 33 34  2  0\\n 35 36  2  0\\n 35 37  1  0\\n 37 38  1  0\\n 38  2  1  0\\n 38 39  1  0\\n 39 40  2  0\\n 39 41  2  0\\n 39 42  1  0\\n 42 43  2  0\\n 43 44  1  0\\n 44 45  1  0\\n 44 46  2  0\\n 46 47  1  0\\n 46 48  1  0\\n 48 49  2  0\\n 49 42  1  0\\n 49 50  1  0\\nM  END\\n\",\"mol\");\n\tviewer_16873432395468752.setStyle({\"stick\": {}});\n\tviewer_16873432395468752.zoomTo();\nviewer_16873432395468752.render();\n});\n</script>",
      "text/html": "<div id=\"3dmolviewer_16873432395468752\"  style=\"position: relative; width: 500px; height: 250px\">\n        <p id=\"3dmolwarning_16873432395468752\" style=\"background-color:#ffcccc;color:black\">You appear to be running in JupyterLab (or JavaScript failed to load for some other reason).  You need to install the 3dmol extension: <br>\n        <tt>jupyter labextension install jupyterlab_3dmol</tt></p>\n        </div>\n<script>\n\nvar loadScriptAsync = function(uri){\n  return new Promise((resolve, reject) => {\n    //this is to ignore the existence of requirejs amd\n    var savedexports, savedmodule;\n    if (typeof exports !== 'undefined') savedexports = exports;\n    else exports = {}\n    if (typeof module !== 'undefined') savedmodule = module;\n    else module = {}\n\n    var tag = document.createElement('script');\n    tag.src = uri;\n    tag.async = true;\n    tag.onload = () => {\n        exports = savedexports;\n        module = savedmodule;\n        resolve();\n    };\n  var firstScriptTag = document.getElementsByTagName('script')[0];\n  firstScriptTag.parentNode.insertBefore(tag, firstScriptTag);\n});\n};\n\nif(typeof $3Dmolpromise === 'undefined') {\n$3Dmolpromise = null;\n  $3Dmolpromise = loadScriptAsync('https://cdnjs.cloudflare.com/ajax/libs/3Dmol/2.0.1/3Dmol-min.js');\n}\n\nvar viewer_16873432395468752 = null;\nvar warn = document.getElementById(\"3dmolwarning_16873432395468752\");\nif(warn) {\n    warn.parentNode.removeChild(warn);\n}\n$3Dmolpromise.then(function() {\nviewer_16873432395468752 = $3Dmol.createViewer(document.getElementById(\"3dmolviewer_16873432395468752\"),{backgroundColor:\"white\"});\nviewer_16873432395468752.zoomTo();\n\tviewer_16873432395468752.addModel(\"76\\n     RDKit          3D\\n\\n 50 54  0  0  0  0  0  0  0  0999 V2000\\n    4.6690   -2.6830   -1.2440 C   0  0  0  0  0  0  0  0  0  0  0  0\\n    4.8020   -1.2210   -1.0010 C   0  0  0  0  0  0  0  0  0  0  0  0\\n    5.8800   -0.4210   -1.0160 C   0  0  0  0  0  0  0  0  0  0  0  0\\n    7.3510   -0.6650   -1.1650 C   0  0  0  0  0  0  0  0  0  0  0  0\\n    7.8480   -2.1100   -1.1540 C   0  0  0  0  0  0  0  0  0  0  0  0\\n    9.2770   -2.0800   -1.0820 O   0  0  0  0  0  0  0  0  0  0  0  0\\n    9.9170   -3.2770   -0.9330 C   0  0  0  0  0  0  0  0  0  0  0  0\\n    9.3340   -4.5380   -1.0250 C   0  0  0  0  0  0  0  0  0  0  0  0\\n   10.1120   -5.6900   -0.8430 C   0  0  0  0  0  0  0  0  0  0  0  0\\n   11.4830   -5.6010   -0.5660 C   0  0  0  0  0  0  0  0  0  0  0  0\\n   12.0610   -4.3280   -0.4870 C   0  0  0  0  0  0  0  0  0  0  0  0\\n   11.2840   -3.1800   -0.6720 C   0  0  0  0  0  0  0  0  0  0  0  0\\n   12.2640   -6.7670   -0.3590 N   0  0  0  0  0  0  0  0  0  0  0  0\\n   12.0600   -7.9560   -1.0190 C   0  0  0  0  0  0  0  0  0  0  0  0\\n   11.2700   -8.2010   -1.9200 O   0  0  0  0  0  0  0  0  0  0  0  0\\n   12.9730   -9.0020   -0.4490 C   0  0  0  0  0  0  0  0  0  0  0  0\\n   13.9100   -8.2180    0.4470 C   0  0  2  0  0  0  0  0  0  0  0  0\\n   14.2180   -9.0060    2.0670 S   0  0  0  0  0  0  0  0  0  0  0  0\\n   12.5960   -8.7670    2.8830 C   0  0  0  0  0  0  0  0  0  0  0  0\\n   12.5830   -9.4060    4.2670 C   0  0  0  0  0  0  0  0  0  0  0  0\\n   11.6920  -10.1910    4.5790 O   0  0  0  0  0  0  0  0  0  0  0  0\\n   13.6060   -8.9530    5.0830 N   0  0  0  0  0  0  0  0  0  0  0  0\\n   13.8470   -9.2970    6.4270 C   0  0  0  0  0  0  0  0  0  0  0  0\\n   12.9310   -9.9790    7.2290 C   0  0  0  0  0  0  0  0  0  0  0  0\\n   13.2310  -10.2670    8.5630 C   0  0  0  0  0  0  0  0  0  0  0  0\\n   14.4500   -9.8720    9.1090 C   0  0  0  0  0  0  0  0  0  0  0  0\\n   15.3860   -9.1870    8.3230 C   0  0  0  0  0  0  0  0  0  0  0  0\\n   15.0680   -8.8970    6.9840 C   0  0  0  0  0  0  0  0  0  0  0  0\\n   16.6950   -8.7290    8.9140 C   0  0  0  0  0  0  0  0  0  0  0  0\\n   17.1360   -9.5250    9.9280 F   0  0  0  0  0  0  0  0  0  0  0  0\\n   16.6170   -7.4720    9.4310 F   0  0  0  0  0  0  0  0  0  0  0  0\\n   17.7080   -8.6950    8.0030 F   0  0  0  0  0  0  0  0  0  0  0  0\\n   13.2870   -6.8480    0.5590 C   0  0  0  0  0  0  0  0  0  0  0  0\\n   13.6540   -5.9950    1.3570 O   0  0  0  0  0  0  0  0  0  0  0  0\\n    5.4700    0.9680   -0.7550 C   0  0  0  0  0  0  0  0  0  0  0  0\\n    6.1920    1.9210   -0.5490 O   0  0  0  0  0  0  0  0  0  0  0  0\\n    4.1010    0.9370   -0.7460 N   0  0  0  0  0  0  0  0  0  0  0  0\\n    3.6280   -0.3910   -0.8020 N   0  0  0  0  0  0  0  0  0  0  0  0\\n    2.6170   -0.8720    0.5270 S   0  0  0  0  0  6  0  0  0  0  0  0\\n    2.3600   -2.2960    0.5040 O   0  0  0  0  0  0  0  0  0  0  0  0\\n    3.1410   -0.2320    1.7200 O   0  0  0  0  0  0  0  0  0  0  0  0\\n    1.0840   -0.0620    0.1300 C   0  0  0  0  0  0  0  0  0  0  0  0\\n    0.5560    0.8530    1.0570 C   0  0  0  0  0  0  0  0  0  0  0  0\\n   -0.6480    1.5260    0.7980 C   0  0  0  0  0  0  0  0  0  0  0  0\\n   -1.1860    2.5010    1.8090 C   0  0  0  0  0  0  0  0  0  0  0  0\\n   -1.3180    1.2610   -0.4050 C   0  0  0  0  0  0  0  0  0  0  0  0\\n   -2.8040    2.0450   -0.8030 Cl  0  0  0  0  0  0  0  0  0  0  0  0\\n   -0.7970    0.3440   -1.3220 C   0  0  0  0  0  0  0  0  0  0  0  0\\n    0.4040   -0.3240   -1.0590 C   0  0  0  0  0  0  0  0  0  0  0  0\\n    0.9460   -1.4390   -2.2590 Cl  0  0  0  0  0  0  0  0  0  0  0  0\\n  1  2  1  0\\n  2  3  2  0\\n  3  4  1  0\\n  3 35  1  0\\n  4  5  1  0\\n  5  6  1  0\\n  6  7  1  0\\n  7  8  2  0\\n  8  9  1  0\\n  9 10  2  0\\n 10 11  1  0\\n 10 13  1  0\\n 11 12  2  0\\n 12  7  1  0\\n 13 14  1  0\\n 14 15  2  0\\n 14 16  1  0\\n 16 17  1  0\\n 17 18  1  1\\n 17 33  1  0\\n 18 19  1  0\\n 19 20  1  0\\n 20 21  2  0\\n 20 22  1  0\\n 22 23  1  0\\n 23 24  2  0\\n 24 25  1  0\\n 25 26  2  0\\n 26 27  1  0\\n 27 28  2  0\\n 27 29  1  0\\n 28 23  1  0\\n 29 30  1  0\\n 29 31  1  0\\n 29 32  1  0\\n 33 13  1  0\\n 33 34  2  0\\n 35 36  2  0\\n 35 37  1  0\\n 37 38  1  0\\n 38  2  1  0\\n 38 39  1  0\\n 39 40  2  0\\n 39 41  2  0\\n 39 42  1  0\\n 42 43  2  0\\n 43 44  1  0\\n 44 45  1  0\\n 44 46  2  0\\n 46 47  1  0\\n 46 48  1  0\\n 48 49  2  0\\n 49 42  1  0\\n 49 50  1  0\\nM  END\\n\",\"mol\");\n\tviewer_16873432395468752.setStyle({\"stick\": {}});\n\tviewer_16873432395468752.zoomTo();\nviewer_16873432395468752.render();\n});\n</script>"
     },
     "metadata": {}
    }
   ],
   "source": [
    "from rdkit import Chem\n",
    "import py3Dmol\n",
    "mol_folder = './Molecules/'\n",
    "mol_fname = '50A12Rot_3.mol2'\n",
    "mol_filepath = mol_folder + mol_fname\n",
    "mol = Chem.MolFromMol2File(mol_filepath)\n",
    "mblock = Chem.MolToMolBlock(mol)\n",
    "view = py3Dmol.view(width=500, height=250)\n",
    "view.addModel(mblock, 'mol')\n",
    "view.setStyle({'stick':{}})\n",
    "view.zoomTo()\n",
    "view.show()\n"
   ]
  },
  {
   "source": [
    "# Input Variables"
   ],
   "cell_type": "markdown",
   "metadata": {}
  },
  {
   "cell_type": "code",
   "execution_count": 41,
   "metadata": {},
   "outputs": [
    {
     "output_type": "stream",
     "name": "stdout",
     "text": [
      "No. of atoms:  50\nCoordinates of atoms:\n0 \t: [4.669, -2.683, -1.244]\n1 \t: [4.802, -1.221, -1.001]\n2 \t: [5.88, -0.421, -1.016]\n3 \t: [7.351, -0.665, -1.165]\n4 \t: [7.848, -2.11, -1.154]\n5 \t: [9.277, -2.08, -1.082]\n6 \t: [9.917, -3.277, -0.933]\n7 \t: [9.334, -4.538, -1.025]\n8 \t: [10.112, -5.69, -0.843]\n9 \t: [11.483, -5.601, -0.566]\n10 \t: [12.061, -4.328, -0.487]\n11 \t: [11.284, -3.18, -0.672]\n12 \t: [12.264, -6.767, -0.359]\n13 \t: [12.06, -7.956, -1.019]\n14 \t: [11.27, -8.201, -1.92]\n15 \t: [12.973, -9.002, -0.449]\n16 \t: [13.91, -8.218, 0.447]\n17 \t: [14.218, -9.006, 2.067]\n18 \t: [12.596, -8.767, 2.883]\n19 \t: [12.583, -9.406, 4.267]\n20 \t: [11.692, -10.191, 4.579]\n21 \t: [13.606, -8.953, 5.083]\n22 \t: [13.847, -9.297, 6.427]\n23 \t: [12.931, -9.979, 7.229]\n24 \t: [13.231, -10.267, 8.563]\n25 \t: [14.45, -9.872, 9.109]\n26 \t: [15.386, -9.187, 8.323]\n27 \t: [15.068, -8.897, 6.984]\n28 \t: [16.695, -8.729, 8.914]\n29 \t: [17.136, -9.525, 9.928]\n30 \t: [16.617, -7.472, 9.431]\n31 \t: [17.708, -8.695, 8.003]\n32 \t: [13.287, -6.848, 0.559]\n33 \t: [13.654, -5.995, 1.357]\n34 \t: [5.47, 0.968, -0.755]\n35 \t: [6.192, 1.921, -0.549]\n36 \t: [4.101, 0.937, -0.746]\n37 \t: [3.628, -0.391, -0.802]\n38 \t: [2.617, -0.872, 0.527]\n39 \t: [2.36, -2.296, 0.504]\n40 \t: [3.141, -0.232, 1.72]\n41 \t: [1.084, -0.062, 0.13]\n42 \t: [0.556, 0.853, 1.057]\n43 \t: [-0.648, 1.526, 0.798]\n44 \t: [-1.186, 2.501, 1.809]\n45 \t: [-1.318, 1.261, -0.405]\n46 \t: [-2.804, 2.045, -0.803]\n47 \t: [-0.797, 0.344, -1.322]\n48 \t: [0.404, -0.324, -1.059]\n49 \t: [0.946, -1.439, -2.259]\n"
     ]
    }
   ],
   "source": [
    "n_atoms_mol = mol.GetNumAtoms()  # no. of atoms in the molecule (excluding hydrogen atoms)\n",
    "print('No. of atoms: ', n_atoms_mol)\n",
    "conformers = mol.GetConformers()\n",
    "conf = conformers[0]\n",
    "coords_mol = {}  # Coordinates of the atoms\n",
    "for i in range(n_atoms_mol):\n",
    "    coords_mol[i] = list(conf.GetAtomPosition(i))\n",
    "print('Coordinates of atoms:')\n",
    "for i in coords_mol:\n",
    "    print(i, '\\t:', coords_mol[i])"
   ]
  },
  {
   "cell_type": "code",
   "execution_count": 42,
   "metadata": {},
   "outputs": [
    {
     "output_type": "stream",
     "name": "stdout",
     "text": [
      "{0: (21, 22), 1: (37, 38)}\n[0, 11, 14, 20, 21, 22, 30, 33, 35, 37, 38, 46]\n{23: [0], 24: [0], 25: [0], 26: [0], 27: [0], 28: [0], 29: [0], 30: [0], 31: [0], 39: [1], 40: [1], 41: [1], 42: [1], 43: [1], 44: [1], 45: [1], 46: [1], 47: [1], 48: [1], 49: [1]}\n{0: [30, 46], 11: [30, 46], 14: [30, 46], 20: [30, 46], 21: [30, 46], 22: [46], 30: [33, 35, 37, 38, 46], 33: [46], 35: [46], 37: [46], 38: [], 46: []}\n"
     ]
    }
   ],
   "source": [
    "input_folder = './Input_Rot_2/'\n",
    "input_fname = mol_fname[:-5] + '_input.txt'\n",
    "input_filepath = input_folder + input_fname\n",
    "input_lines = open(input_filepath, 'r').readlines()\n",
    "torsional_bonds_mol = eval(input_lines[0])\n",
    "median_list_mol = []\n",
    "for atoms in input_lines[1].split(','):\n",
    "    median_list_mol.append(int(atoms))\n",
    "coords_rotation_mol = eval(input_lines[2])\n",
    "distance_pairs_mol = eval(input_lines[3])\n",
    "print(torsional_bonds_mol)\n",
    "print(median_list_mol)\n",
    "print(coords_rotation_mol)\n",
    "print(distance_pairs_mol)"
   ]
  },
  {
   "cell_type": "code",
   "execution_count": 43,
   "metadata": {},
   "outputs": [],
   "source": [
    "# torsional_bonds_mol = { 0: (9, 10), 1: (19, 20)  }  # Torsional bond numbers and their respective coordinate ends\n",
    "# median_list_mol = [2, 6, 9, 10, 14, 19, 20, 23]  # List of atoms (median) considered for the HUBO construction\n",
    "# coords_rotation_mol = {11:[0], 12:[0], 13:[0], 14:[0], 15:[0], 16:[0], 17:[0], 18:[0], 19:[0], 20:[0], 21:[0,1], 22:[0,1], 23:[0,1], 24:[0,1] }  # atom index and the rotatable bond numbers list that affect them\n",
    "# distance_pairs_mol = {2:[14, 19, 20, 23], 6:[14, 19, 20, 23], 9:[14, 19, 20, 23], 10:[23], 14:[23], 19:[23], 20:[], 23:[] }  # indices dictionary to find distances"
   ]
  },
  {
   "cell_type": "code",
   "execution_count": 44,
   "metadata": {},
   "outputs": [
    {
     "output_type": "stream",
     "name": "stdout",
     "text": [
      "coords_median:  {0: [4.669, -2.683, -1.244], 1: [11.284, -3.18, -0.672], 2: [11.27, -8.201, -1.92], 3: [11.692, -10.191, 4.579], 4: [13.606, -8.953, 5.083], 5: [13.847, -9.297, 6.427], 6: [16.617, -7.472, 9.431], 7: [13.654, -5.995, 1.357], 8: [6.192, 1.921, -0.549], 9: [3.628, -0.391, -0.802], 10: [2.617, -0.872, 0.527], 11: [-2.804, 2.045, -0.803]}\n\ntorsional_bonds:  {0: (4, 5), 1: (9, 10)}\n\ncoords_rotation_dict:  {6: [0], 11: [1]}\n\ndistance pairs:  [(0, 6), (0, 11), (1, 6), (1, 11), (2, 6), (2, 11), (3, 6), (3, 11), (4, 6), (4, 11), (5, 11), (6, 7), (6, 8), (6, 9), (6, 10), (6, 11), (7, 11), (8, 11), (9, 11)]\n"
     ]
    }
   ],
   "source": [
    "import copy\n",
    "\n",
    "coords_median = {}\n",
    "for i, index in enumerate(median_list_mol):\n",
    "    coords_median[i] = coords_mol[index]\n",
    "coords_median_2 = copy.deepcopy(coords_median)\n",
    "print('coords_median: ', coords_median)\n",
    "\n",
    "torsional_bonds = {}\n",
    "for i in torsional_bonds_mol:\n",
    "    torsional_bonds[i] = (median_list_mol.index(torsional_bonds_mol[i][0]), median_list_mol.index(torsional_bonds_mol[i][1]))\n",
    "print('\\ntorsional_bonds: ', torsional_bonds)\n",
    "\n",
    "coords_rotation_dict = {}\n",
    "for atom in median_list_mol:\n",
    "    if atom in coords_rotation_mol.keys():\n",
    "        coords_rotation_dict[median_list_mol.index(atom)] = coords_rotation_mol[atom]\n",
    "print('\\ncoords_rotation_dict: ', coords_rotation_dict)\n",
    "\n",
    "distance_pairs = []\n",
    "for x, y in distance_pairs_mol.items():\n",
    "    u = median_list_mol.index(x)\n",
    "    for i in y:\n",
    "        v = median_list_mol.index(i)\n",
    "        distance_pairs.append((u, v))\n",
    "print('\\ndistance pairs: ', distance_pairs)\n",
    "\n"
   ]
  },
  {
   "cell_type": "code",
   "execution_count": 45,
   "metadata": {},
   "outputs": [
    {
     "output_type": "stream",
     "name": "stdout",
     "text": [
      "(x0, x1, x2, x3, x4, x5, x6, x7, x8, x9, x10, x11, x12, x13, x14, x15)\n"
     ]
    }
   ],
   "source": [
    "import sympy as sp\n",
    "n_bonds = len(torsional_bonds)  # no. of bonds\n",
    "n_angles = 8  # no. of discrete angles\n",
    "x = sp.symbols(f'x(0:{n_bonds*n_angles})')  # hubo variables\n",
    "print(x)"
   ]
  },
  {
   "source": [
    "# Function to generate hard constraint"
   ],
   "cell_type": "markdown",
   "metadata": {}
  },
  {
   "cell_type": "code",
   "execution_count": 46,
   "metadata": {},
   "outputs": [],
   "source": [
    "# generate hard constraint\n",
    "def generate_hard_hubo():\n",
    "    hard_constraint = 0\n",
    "    index = 0\n",
    "    for i in range(n_bonds):\n",
    "        summation = 0\n",
    "        for j in range(n_angles):\n",
    "            summation += x[index]\n",
    "            index += 1\n",
    "        hard_constraint += (summation - 1) ** 2\n",
    "    a_const = sp.Symbol('A_const')\n",
    "    hard_constraint *= a_const\n",
    "    return hard_constraint"
   ]
  },
  {
   "source": [
    "# Functions to rotate coordinates with hubo variables"
   ],
   "cell_type": "markdown",
   "metadata": {}
  },
  {
   "cell_type": "code",
   "execution_count": 47,
   "metadata": {},
   "outputs": [],
   "source": [
    "def rotate_coordinates(rotation_matrix, old_coords):\n",
    "    coord_vector = ones(4, 1)\n",
    "    coord_vector[0, 0] = old_coords[0]\n",
    "    coord_vector[1, 0] = old_coords[1]\n",
    "    coord_vector[2, 0] = old_coords[2]\n",
    "    coord_rot_vector = sp.expand(rotation_matrix * coord_vector)\n",
    "    return [coord_rot_vector[0, 0], coord_rot_vector[1, 0], coord_rot_vector[2, 0]]"
   ]
  },
  {
   "cell_type": "code",
   "execution_count": 48,
   "metadata": {},
   "outputs": [],
   "source": [
    "def generate_thetas():\n",
    "    angle_incr = 2 * sp.pi / n_angles\n",
    "    thetas = [i*angle_incr for i in range(n_angles)]\n",
    "    return thetas"
   ]
  },
  {
   "cell_type": "code",
   "execution_count": 49,
   "metadata": {},
   "outputs": [],
   "source": [
    "def rotation_matrix_hubo(first_coords, second_coords, bond_no):\n",
    "    x_dash, y_dash, z_dash = first_coords[0], first_coords[1], first_coords[2]\n",
    "    x_ddash, y_ddash, z_ddash = second_coords[0], second_coords[1], second_coords[2]\n",
    "    dx = x_ddash - x_dash\n",
    "    dy = y_ddash - y_dash\n",
    "    dz = z_ddash - z_dash\n",
    "    l_sq = dx ** 2 + dy ** 2 + dz ** 2\n",
    "    l = sp.sqrt(l_sq)\n",
    "    thetas = generate_thetas()\n",
    "    c_theta = 0.0\n",
    "    s_theta = 0.0\n",
    "    index = n_angles * bond_no\n",
    "    for i in range(n_angles):\n",
    "        c_theta += sp.cos(thetas[i]) * x[index]\n",
    "        s_theta += sp.sin(thetas[i]) * x[index]\n",
    "        index += 1\n",
    "    rotation_matrix = eye(4)\n",
    "    rotation_matrix[0, 0] = (dx ** 2 + (dy ** 2 + dz ** 2) * c_theta) / l_sq\n",
    "    rotation_matrix[0, 1] = (dx * dy * (1 - c_theta) - dz * l * s_theta) / l_sq\n",
    "    rotation_matrix[0, 2] = (dx * dz * (1 - c_theta) + dy * l * s_theta) / l_sq\n",
    "    rotation_matrix[0, 3] = ((x_dash * (dy ** 2 + dz ** 2) - dx * (y_dash * dy + z_dash * dz)) * (1 - c_theta) + (\n",
    "            y_dash * dz - z_dash * dy) * l * s_theta) / l_sq\n",
    "    rotation_matrix[1, 0] = (dx * dy * (1 - c_theta) + dz * l * s_theta) / l_sq\n",
    "    rotation_matrix[1, 1] = (dy ** 2 + (dx ** 2 + dz ** 2) * c_theta) / l_sq\n",
    "    rotation_matrix[1, 2] = (dy * dz * (1 - c_theta) - dx * l * s_theta) / l_sq\n",
    "    rotation_matrix[1, 3] = ((y_dash * (dx ** 2 + dz ** 2) - dy * (x_dash * dx + z_dash * dz)) * (1 - c_theta) + (\n",
    "            z_dash * dx - x_dash * dz) * l * s_theta) / l_sq\n",
    "    rotation_matrix[2, 0] = (dx * dz * (1 - c_theta) - dy * l * s_theta) / l_sq\n",
    "    rotation_matrix[2, 1] = (dy * dz * (1 - c_theta) + dx * l * s_theta) / l_sq\n",
    "    rotation_matrix[2, 2] = (dz ** 2 + (dx ** 2 + dy ** 2) * c_theta) / l_sq\n",
    "    rotation_matrix[2, 3] = ((z_dash * (dx ** 2 + dy ** 2) - dz * (x_dash * dx + y_dash * dy)) * (1 - c_theta) + (\n",
    "            x_dash * dy - y_dash * dx) * l * s_theta) / l_sq\n",
    "    return rotation_matrix"
   ]
  },
  {
   "cell_type": "code",
   "execution_count": 50,
   "metadata": {},
   "outputs": [
    {
     "output_type": "stream",
     "name": "stdout",
     "text": [
      "The time of execution:  1.0741002559661865 seconds\n"
     ]
    }
   ],
   "source": [
    "from sympy.matrices import ones, eye\n",
    "import time\n",
    "start = time.time()\n",
    "\n",
    "for i in coords_rotation_dict:\n",
    "    rot_mat = eye(4, 4)\n",
    "    for bond_no in coords_rotation_dict[i]:\n",
    "        temp_rot_mat = rotation_matrix_hubo(coords_median[torsional_bonds[bond_no][0]], coords_median[torsional_bonds[bond_no][1]], bond_no)\n",
    "        rot_mat = rot_mat * temp_rot_mat\n",
    "    coords_median_2[i] = rotate_coordinates(rot_mat, coords_median[i])\n",
    "\n",
    "end = time.time()\n",
    "print(\"The time of execution: \", (end-start), \"seconds\")"
   ]
  },
  {
   "source": [
    "# Functions to generate the optimization contraint in hubo"
   ],
   "cell_type": "markdown",
   "metadata": {}
  },
  {
   "cell_type": "code",
   "execution_count": 51,
   "metadata": {},
   "outputs": [],
   "source": [
    "def distance_squared(first_coords, second_coords):\n",
    "    dis_sq = (second_coords[0] - first_coords[0])**2 + (second_coords[1] - first_coords[1])**2 + (second_coords[2] - first_coords[2])**2\n",
    "    return dis_sq\n",
    "\n",
    "def generate_distance_hubo():\n",
    "    distance_sq = 0\n",
    "    for pair in distance_pairs:\n",
    "        distance_sq += distance_squared(coords_median_2[pair[0]], coords_median_2[pair[1]])\n",
    "    return distance_sq.expand()"
   ]
  },
  {
   "cell_type": "code",
   "execution_count": 52,
   "metadata": {
    "tags": []
   },
   "outputs": [
    {
     "output_type": "stream",
     "name": "stdout",
     "text": [
      "The time of execution:  3.8760340213775635 seconds\n"
     ]
    }
   ],
   "source": [
    "start = time.time()\n",
    "\n",
    "hard_constraint = generate_hard_hubo()\n",
    "distance_constraint = generate_distance_hubo()\n",
    "hubo_expr = sp.expand(hard_constraint - distance_constraint)\n",
    "\n",
    "end = time.time()\n",
    "print(\"The time of execution: \", (end-start), \"seconds\")"
   ]
  },
  {
   "source": [
    "# The full hubo expression is written in the file 'full_hubo_expr.txt'"
   ],
   "cell_type": "markdown",
   "metadata": {}
  },
  {
   "cell_type": "code",
   "execution_count": 53,
   "metadata": {},
   "outputs": [],
   "source": [
    "def hubo_expr_to_dict():\n",
    "    hubo_args = hubo_expr.args\n",
    "    hubo_dict = {}\n",
    "    for monom in hubo_args:\n",
    "        dict_value = monom.as_coeff_mul()[0]\n",
    "        monom_key = []\n",
    "        monom_coeffs = monom.as_coeff_mul()[1]\n",
    "        for monom_item in monom_coeffs:\n",
    "            if re.match(\"^x(\\d*)\\d$\", str(monom_item)):\n",
    "                monom_key.append(int(str(monom_item)[1:]))\n",
    "            elif re.match(\"^x(\\d*)\\\\*\\\\*(\\d)$\", str(monom_item)):\n",
    "                monom_key.append(int(str(monom_item).split('**')[0][1:]))\n",
    "            else:\n",
    "                dict_value *= monom_item\n",
    "        if len(monom_key) > 0:\n",
    "            monom_key.sort()\n",
    "            dict_key = tuple(monom_key)\n",
    "        else:\n",
    "            dict_key = ()\n",
    "        dict_value = dict_value.evalf()\n",
    "        if dict_key in hubo_dict:\n",
    "            hubo_dict[dict_key] += dict_value\n",
    "        else:\n",
    "            hubo_dict[dict_key] = dict_value\n",
    "    return hubo_dict"
   ]
  },
  {
   "cell_type": "code",
   "execution_count": 54,
   "metadata": {
    "tags": []
   },
   "outputs": [],
   "source": [
    "import re\n",
    "hubo_dict = hubo_expr_to_dict()"
   ]
  },
  {
   "cell_type": "code",
   "execution_count": 55,
   "metadata": {},
   "outputs": [
    {
     "output_type": "stream",
     "name": "stdout",
     "text": [
      "full hubo dictionary written in file - ./Hubo_Rot_2/50A12Rot_3_hubo.txt\n"
     ]
    }
   ],
   "source": [
    "hubo_folder = './Hubo_Rot_2/'\n",
    "hubo_fname = mol_fname[:-5] + '_hubo.txt'\n",
    "hubo_filepath = hubo_folder + hubo_fname\n",
    "f = open(hubo_filepath, \"w\")\n",
    "print('full hubo dictionary written in file - ' + hubo_filepath)\n",
    "f.write(str(hubo_dict))\n",
    "f.close()"
   ]
  },
  {
   "cell_type": "code",
   "execution_count": 56,
   "metadata": {},
   "outputs": [],
   "source": [
    "#This is used to check the maximum coefficient appearing in Hubo_B\n",
    "A_const=0\n",
    "read_dictionary_B = open(hubo_filepath, 'r').read()\n",
    "HUBO_B=eval(read_dictionary_B)\n",
    "\n",
    "#We set the Hard constraint strength as the (maximum coefficient appearing in Hubo_B)*const.\n",
    "#const was empirically selected to be 10\n",
    "const=10\n",
    "A_const=max(map(abs, list(HUBO_B.values())))*const\n",
    "# A_const = 1000\n",
    "\n",
    "#read the final HUBO\n",
    "read_dictionary= open(hubo_filepath, 'r').read()\n",
    "HUBO=eval(read_dictionary)"
   ]
  },
  {
   "cell_type": "code",
   "execution_count": 57,
   "metadata": {},
   "outputs": [
    {
     "output_type": "stream",
     "name": "stdout",
     "text": [
      "Current size of the HUBO: 137\n"
     ]
    }
   ],
   "source": [
    "print(\"Current size of the HUBO:\",len(HUBO)) "
   ]
  },
  {
   "cell_type": "code",
   "execution_count": 58,
   "metadata": {},
   "outputs": [],
   "source": [
    "def threshold_approx(h, val=1):\n",
    "    d =h.copy()\n",
    "    monoms = h.keys()\n",
    "    for m in monoms:     \n",
    "        temp = d[m]\n",
    "        if (temp < 0.0):\n",
    "            temp = -1.0 * temp\n",
    "        if (temp <= (10.0 ** (val))):\n",
    "            del d[m]\n",
    "    return d"
   ]
  },
  {
   "cell_type": "code",
   "execution_count": 59,
   "metadata": {},
   "outputs": [
    {
     "output_type": "stream",
     "name": "stdout",
     "text": [
      "Size of the HUBO after threshold approximation: 73\n"
     ]
    }
   ],
   "source": [
    "#Coefficints with absolute value less than 10^{threshold} are deleted from the HUBO.\n",
    "threshold=2\n",
    "\n",
    "HUBO=threshold_approx(HUBO,threshold)\n",
    "\n",
    "print(\"Size of the HUBO after threshold approximation:\",len(HUBO))"
   ]
  },
  {
   "cell_type": "code",
   "execution_count": 60,
   "metadata": {},
   "outputs": [],
   "source": [
    "import dimod\n",
    "#calculate the strength parameter needed by make_quadratic\n",
    "max_hubo_value=max(map(abs, list(HUBO.values())))\n",
    "strength=1.5*max_hubo_value\n",
    "#generate the bqm\n",
    "bqm = dimod.make_quadratic(HUBO, strength, dimod.BINARY)"
   ]
  },
  {
   "cell_type": "code",
   "execution_count": 61,
   "metadata": {},
   "outputs": [],
   "source": [
    "def find_bond_theta_soln(solution):\n",
    "    thetas = generate_thetas()\n",
    "    bond_theta_soln = {}\n",
    "    for key, value in solution.items():\n",
    "        if solution[key] == 1:\n",
    "            bond_theta_soln[key//n_angles] = thetas[key%n_angles]\n",
    "    return bond_theta_soln"
   ]
  },
  {
   "cell_type": "code",
   "execution_count": 62,
   "metadata": {},
   "outputs": [
    {
     "output_type": "stream",
     "name": "stdout",
     "text": [
      "The time of execution:  0.036550045013427734 s\n   0  1  2  3  4  5  6  7  8  9 10 11 12 13 14 15       energy num_oc.\n2  0  0  0  0  1  0  0  0  0  0  0  0  0  0  0  1 -4288.983641       1\n6  0  0  0  0  1  0  0  0  0  0  0  0  0  0  0  1 -4288.983641       1\n8  0  1  0  0  0  0  0  0  0  0  0  0  0  0  0  1 -4041.426123       1\n4  0  0  0  0  0  0  1  0  0  0  1  0  0  0  0  0 -3784.549764       1\n7  0  0  0  0  0  0  0  1  0  0  1  0  0  0  0  0 -3682.008083       1\n0  1  0  0  0  0  0  0  0  0  0  0  0  0  0  1  0 -3565.227373       1\n3  0  0  0  0  1  0  0  0  0  0  1  0  0  0  0  0 -3360.621672       1\n9  0  1  0  0  0  0  0  0  0  0  1  0  0  0  0  0 -3113.064154       1\n1  1  0  0  0  0  0  0  0  0  0  0  0  0  1  0  0 -2750.962554       1\n5  0  0  0  1  0  0  0  0  0  0  0  0  0  1  0  0 -2429.576143       1\n['BINARY', 10 rows, 10 samples, 16 variables]\n"
     ]
    }
   ],
   "source": [
    "import neal\n",
    "sampler = neal.SimulatedAnnealingSampler()\n",
    "sample_size=10\n",
    "start = time.time()\n",
    "sampleset = sampler.sample(bqm, num_reads=sample_size)\n",
    "end = time.time()\n",
    "print(\"The time of execution: \", (end-start), \"s\")\n",
    "print(sampleset)"
   ]
  },
  {
   "cell_type": "code",
   "execution_count": 63,
   "metadata": {},
   "outputs": [
    {
     "output_type": "stream",
     "name": "stdout",
     "text": [
      "{0: 0, 1: 0, 2: 0, 3: 0, 4: 1, 5: 0, 6: 0, 7: 0, 8: 0, 9: 0, 10: 0, 11: 0, 12: 0, 13: 0, 14: 0, 15: 1}\n{0: pi, 1: 7*pi/4}\n"
     ]
    }
   ],
   "source": [
    "sa_soln = sampleset.first.sample\n",
    "print(sa_soln)\n",
    "bond_theta_soln = find_bond_theta_soln(sa_soln)\n",
    "print(bond_theta_soln)"
   ]
  },
  {
   "cell_type": "code",
   "execution_count": 64,
   "metadata": {
    "tags": []
   },
   "outputs": [
    {
     "output_type": "stream",
     "name": "stdout",
     "text": [
      "The time of execution:  0.19040489196777344 s\n",
      "   0  1  2  3  4  5  6  7  8  9 10 11 12 13 14 15       energy num_oc. ...\n",
      "0  0  0  0  0  0  0  1  0  1  0  0  0  0  0  0  0 -4983.354702       6 ...\n",
      "1  0  0  0  0  0  0  0  1  1  0  0  0  0  0  0  0  -4880.81302       3 ...\n",
      "2  0  0  0  0  0  1  0  0  1  0  0  0  0  0  0  0 -4850.232092       6 ...\n",
      "3  0  0  0  0  0  0  1  0  0  0  0  0  0  0  0  1 -4712.911733      15 ...\n",
      "4  0  0  0  0  0  0  0  1  0  0  0  0  0  0  0  1 -4610.370052       9 ...\n",
      "5  1  0  0  0  0  0  0  0  1  0  0  0  0  0  0  0 -4602.674574      12 ...\n",
      "6  0  0  0  0  0  0  1  0  0  1  0  0  0  0  0  0 -4598.814583       7 ...\n",
      "7  0  0  0  0  0  1  0  0  0  0  0  0  0  0  0  1 -4579.789123       8 ...\n",
      "8  0  0  0  0  1  0  0  0  1  0  0  0  0  0  0  0 -4559.426609       2 ...\n",
      "9  0  0  0  0  0  0  0  1  0  1  0  0  0  0  0  0 -4496.272902       9 ...\n",
      "['BINARY', 10 rows, 77 samples, 16 variables]\n"
     ]
    }
   ],
   "source": [
    "from dwave.system import DWaveSampler, EmbeddingComposite\n",
    "sampler = EmbeddingComposite(DWaveSampler())\n",
    "start = time.time()\n",
    "sampleset = sampler.sample(bqm, num_reads=1000)\n",
    "end = time.time()\n",
    "print(\"The time of execution: \", (end-start), \"s\")\n",
    "print(sampleset.slice(10))"
   ]
  },
  {
   "cell_type": "code",
   "execution_count": 65,
   "metadata": {},
   "outputs": [
    {
     "output_type": "stream",
     "name": "stdout",
     "text": [
      "{0: 0, 1: 0, 2: 0, 3: 0, 4: 0, 5: 0, 6: 1, 7: 0, 8: 1, 9: 0, 10: 0, 11: 0, 12: 0, 13: 0, 14: 0, 15: 0}\n{0: 3*pi/2, 1: 0}\n"
     ]
    }
   ],
   "source": [
    "qa_soln = sampleset.first.sample\n",
    "print(qa_soln)\n",
    "bond_theta_soln = find_bond_theta_soln(qa_soln)\n",
    "print(bond_theta_soln)"
   ]
  },
  {
   "cell_type": "code",
   "execution_count": 66,
   "metadata": {},
   "outputs": [],
   "source": [
    "def rotation_matrix_new_coords(first_coords, second_coords, bond_no, soln_theta):\n",
    "    x_dash, y_dash, z_dash = first_coords[0], first_coords[1], first_coords[2]\n",
    "    x_ddash, y_ddash, z_ddash = second_coords[0], second_coords[1], second_coords[2]\n",
    "    dx = x_ddash - x_dash\n",
    "    dy = y_ddash - y_dash\n",
    "    dz = z_ddash - z_dash\n",
    "    l_sq = dx ** 2 + dy ** 2 + dz ** 2\n",
    "    l = sp.sqrt(l_sq)\n",
    "    c_theta = sp.cos(soln_theta)\n",
    "    s_theta = sp.sin(soln_theta)\n",
    "    index = n_angles * bond_no\n",
    "    rotation_matrix = eye(4)\n",
    "    rotation_matrix[0, 0] = ((dx ** 2 + (dy ** 2 + dz ** 2) * c_theta) / l_sq).evalf()\n",
    "    rotation_matrix[0, 1] = ((dx * dy * (1 - c_theta) - dz * l * s_theta) / l_sq).evalf()\n",
    "    rotation_matrix[0, 2] = ((dx * dz * (1 - c_theta) + dy * l * s_theta) / l_sq).evalf()\n",
    "    rotation_matrix[0, 3] = (((x_dash * (dy ** 2 + dz ** 2) - dx * (y_dash * dy + z_dash * dz)) * (1 - c_theta) + (\n",
    "            y_dash * dz - z_dash * dy) * l * s_theta) / l_sq).evalf()\n",
    "    rotation_matrix[1, 0] = ((dx * dy * (1 - c_theta) + dz * l * s_theta) / l_sq).evalf()\n",
    "    rotation_matrix[1, 1] = ((dy ** 2 + (dx ** 2 + dz ** 2) * c_theta) / l_sq).evalf()\n",
    "    rotation_matrix[1, 2] = ((dy * dz * (1 - c_theta) - dx * l * s_theta) / l_sq).evalf()\n",
    "    rotation_matrix[1, 3] = (((y_dash * (dx ** 2 + dz ** 2) - dy * (x_dash * dx + z_dash * dz)) * (1 - c_theta) + (\n",
    "            z_dash * dx - x_dash * dz) * l * s_theta) / l_sq).evalf()\n",
    "    rotation_matrix[2, 0] = ((dx * dz * (1 - c_theta) - dy * l * s_theta) / l_sq).evalf()\n",
    "    rotation_matrix[2, 1] = ((dy * dz * (1 - c_theta) + dx * l * s_theta) / l_sq).evalf()\n",
    "    rotation_matrix[2, 2] = ((dz ** 2 + (dx ** 2 + dy ** 2) * c_theta) / l_sq).evalf()\n",
    "    rotation_matrix[2, 3] = (((z_dash * (dx ** 2 + dy ** 2) - dz * (x_dash * dx + y_dash * dy)) * (1 - c_theta) + (\n",
    "            x_dash * dy - y_dash * dx) * l * s_theta) / l_sq).evalf()\n",
    "    return rotation_matrix"
   ]
  },
  {
   "cell_type": "code",
   "execution_count": 67,
   "metadata": {},
   "outputs": [],
   "source": [
    "def compute_new_coords(solution):\n",
    "    final_coords = copy.deepcopy(coords_mol)\n",
    "    for i in coords_rotation_mol:\n",
    "        if len(coords_rotation_mol[i]) > 0:\n",
    "            rot_mat = eye(4, 4)\n",
    "            for bond_no in coords_rotation_mol[i]:\n",
    "                temp_rot_mat = rotation_matrix_new_coords(coords_mol[torsional_bonds_mol[bond_no][0]], coords_mol[torsional_bonds_mol[bond_no][1]], bond_no, solution[bond_no])\n",
    "                rot_mat = rot_mat * temp_rot_mat\n",
    "            final_coords[i] = rotate_coordinates(rot_mat, coords_mol[i])\n",
    "    return final_coords\n"
   ]
  },
  {
   "cell_type": "code",
   "execution_count": 68,
   "metadata": {},
   "outputs": [
    {
     "output_type": "execute_result",
     "data": {
      "text/plain": [
       "{0: [4.669, -2.683, -1.244],\n",
       " 1: [4.802, -1.221, -1.001],\n",
       " 2: [5.88, -0.421, -1.016],\n",
       " 3: [7.351, -0.665, -1.165],\n",
       " 4: [7.848, -2.11, -1.154],\n",
       " 5: [9.277, -2.08, -1.082],\n",
       " 6: [9.917, -3.277, -0.933],\n",
       " 7: [9.334, -4.538, -1.025],\n",
       " 8: [10.112, -5.69, -0.843],\n",
       " 9: [11.483, -5.601, -0.566],\n",
       " 10: [12.061, -4.328, -0.487],\n",
       " 11: [11.284, -3.18, -0.672],\n",
       " 12: [12.264, -6.767, -0.359],\n",
       " 13: [12.06, -7.956, -1.019],\n",
       " 14: [11.27, -8.201, -1.92],\n",
       " 15: [12.973, -9.002, -0.449],\n",
       " 16: [13.91, -8.218, 0.447],\n",
       " 17: [14.218, -9.006, 2.067],\n",
       " 18: [12.596, -8.767, 2.883],\n",
       " 19: [12.583, -9.406, 4.267],\n",
       " 20: [11.692, -10.191, 4.579],\n",
       " 21: [13.606, -8.953, 5.083],\n",
       " 22: [13.847, -9.297, 6.427],\n",
       " 23: [13.5246753466952, -8.47484862545528, 7.50753594813231],\n",
       " 24: [13.8144361746317, -8.87366714949978, 8.81500772506388],\n",
       " 25: [14.4332294541536, -10.0984346020590, 9.05405074288743],\n",
       " 26: [14.7654005374591, -10.9413251220330, 7.98525939620016],\n",
       " 27: [14.4748994546045, -10.5241439078197, 6.67388074936782],\n",
       " 28: [15.4626727359432, -12.2547897206577, 8.23254107643709],\n",
       " 29: [15.1624793705579, -12.8045552290458, 9.44247282210103],\n",
       " 30: [16.8183664584937, -12.1341258109600, 8.20160967599165],\n",
       " 31: [15.1519979306395, -13.2054945573489, 7.30685890698502],\n",
       " 32: [13.287, -6.848, 0.559],\n",
       " 33: [13.654, -5.995, 1.357],\n",
       " 34: [5.47, 0.968, -0.755],\n",
       " 35: [6.192, 1.921, -0.549],\n",
       " 36: [4.101, 0.937, -0.746],\n",
       " 37: [3.628, -0.391, -0.802],\n",
       " 38: [2.617, -0.872, 0.527],\n",
       " 39: [2.36000000000000, -2.29600000000000, 0.504000000000000],\n",
       " 40: [3.14100000000000, -0.232000000000000, 1.72000000000000],\n",
       " 41: [1.08400000000000, -0.0620000000000000, 0.130000000000000],\n",
       " 42: [0.556000000000000, 0.853000000000000, 1.05700000000000],\n",
       " 43: [-0.648000000000000, 1.52600000000000, 0.798000000000000],\n",
       " 44: [-1.18600000000000, 2.50100000000000, 1.80900000000000],\n",
       " 45: [-1.31800000000000, 1.26100000000000, -0.405000000000000],\n",
       " 46: [-2.80400000000000, 2.04500000000000, -0.803000000000000],\n",
       " 47: [-0.797000000000000, 0.344000000000000, -1.32200000000000],\n",
       " 48: [0.404000000000000, -0.324000000000000, -1.05900000000000],\n",
       " 49: [0.946000000000000, -1.43900000000000, -2.25900000000000]}"
      ]
     },
     "metadata": {},
     "execution_count": 68
    }
   ],
   "source": [
    "compute_new_coords(bond_theta_soln)"
   ]
  },
  {
   "cell_type": "code",
   "execution_count": 69,
   "metadata": {},
   "outputs": [],
   "source": [
    "def find_volume_change(old_coords, new_coords):\n",
    "    n = len(old_coords)\n",
    "    old_distance_sq = 0\n",
    "    for i in range(n-1):\n",
    "        for j in range(i+1, n):\n",
    "            old_distance_sq += distance_squared(old_coords[i], old_coords[j])\n",
    "    \n",
    "    new_distance_sq = 0\n",
    "    for i in range(n-1):\n",
    "        for j in range(i+1, n):\n",
    "            new_distance_sq += distance_squared(new_coords[i], new_coords[j])\n",
    "    # print(\"new volume: \", new_distance_sq.evalf())\n",
    "    # print(\"old volume: \", old_distance_sq)\n",
    "    # print('change in volume: ', new_distance_sq.evalf() - old_distance_sq)\n",
    "    return new_distance_sq.evalf() - old_distance_sq"
   ]
  },
  {
   "cell_type": "code",
   "execution_count": 70,
   "metadata": {},
   "outputs": [],
   "source": [
    "# bond_theta_soln = {0: 0, 1: sp.pi}\n",
    "# bond_theta_soln = {0: sp.pi/4}\n",
    "# bond_theta_soln = {0: 2*sp.pi/4}\n",
    "# bond_theta_soln = {0: 3*sp.pi/4}\n",
    "# bond_theta_soln = {0: 4*sp.pi/4}\n",
    "# bond_theta_soln = {0: 5*sp.pi/4}\n",
    "# bond_theta_soln = {0: 6*sp.pi/4}\n",
    "# bond_theta_soln = {0: 7*sp.pi/4}"
   ]
  },
  {
   "cell_type": "code",
   "execution_count": 71,
   "metadata": {},
   "outputs": [
    {
     "output_type": "stream",
     "name": "stdout",
     "text": [
      "change in volume:  3422.30331882919\n"
     ]
    }
   ],
   "source": [
    "new_coords = compute_new_coords(bond_theta_soln)\n",
    "volume_change = find_volume_change(coords_mol, new_coords)\n",
    "print('change in volume: ', volume_change)"
   ]
  },
  {
   "cell_type": "code",
   "execution_count": 72,
   "metadata": {},
   "outputs": [
    {
     "output_type": "stream",
     "name": "stdout",
     "text": [
      "{0: 0, 1: 0} :  0\n",
      "{0: 0, 1: pi/4} :  -7400.98284565745\n",
      "{0: 0, 1: pi/2} :  -23673.5340617109\n",
      "{0: 0, 1: 3*pi/4} :  -39285.4138402079\n",
      "{0: 0, 1: pi} :  -45091.3947410423\n",
      "{0: 0, 1: 5*pi/4} :  -37690.4118953849\n",
      "{0: 0, 1: 3*pi/2} :  -21417.8606793309\n",
      "{0: 0, 1: 7*pi/4} :  -5805.98090083429\n",
      "{0: pi/4, 1: 0} :  -5357.81900856335\n",
      "{0: pi/4, 1: pi/4} :  -12459.4568369353\n",
      "{0: pi/4, 1: pi/2} :  -28345.7495871320\n",
      "{0: pi/4, 1: 3*pi/4} :  -43710.7224219177\n",
      "{0: pi/4, 1: pi} :  -49553.7826401694\n",
      "{0: pi/4, 1: 5*pi/4} :  -42452.1448117974\n",
      "{0: pi/4, 1: 3*pi/2} :  -26565.8520616007\n",
      "{0: pi/4, 1: 7*pi/4} :  -11200.8792268148\n",
      "{0: pi/2, 1: 0} :  -9298.07356791379\n",
      "{0: pi/2, 1: pi/4} :  -16418.1646314156\n",
      "{0: pi/2, 1: pi/2} :  -32098.6715326786\n",
      "{0: pi/2, 1: 3*pi/4} :  -47154.1659938273\n",
      "{0: pi/2, 1: pi} :  -52765.3435477543\n",
      "{0: pi/2, 1: 5*pi/4} :  -45645.2524842522\n",
      "{0: pi/2, 1: 3*pi/2} :  -29964.7455829894\n",
      "{0: pi/2, 1: 7*pi/4} :  -14909.2511218404\n",
      "{0: 3*pi/4, 1: 0} :  -9512.61599638555\n",
      "{0: 3*pi/4, 1: pi/4} :  -16958.1488925635\n",
      "{0: 3*pi/4, 1: pi/2} :  -32733.8891211768\n",
      "{0: 3*pi/4, 1: 3*pi/4} :  -47598.6220127781\n",
      "{0: 3*pi/4, 1: pi} :  -52844.7886405211\n",
      "{0: 3*pi/4, 1: 5*pi/4} :  -45399.2557443429\n",
      "{0: 3*pi/4, 1: 3*pi/2} :  -29623.5155157297\n",
      "{0: 3*pi/4, 1: 7*pi/4} :  -14758.7826241282\n",
      "{0: pi, 1: 0} :  -5875.77024908472\n",
      "{0: pi, 1: pi/4} :  -13763.0941636668\n",
      "{0: pi, 1: pi/2} :  -29879.3005043425\n",
      "{0: pi, 1: 3*pi/4} :  -44783.7341707471\n",
      "{0: pi, 1: pi} :  -49745.5800605909\n",
      "{0: pi, 1: 5*pi/4} :  -41858.2561460085\n",
      "{0: pi, 1: 3*pi/2} :  -25742.0498053328\n",
      "{0: pi, 1: 7*pi/4} :  -10837.6161389282\n",
      "{0: 5*pi/4, 1: 0} :  -517.951240520895\n",
      "{0: 5*pi/4, 1: pi/4} :  -8704.62017238885\n",
      "{0: 5*pi/4, 1: pi/2} :  -25207.0849789214\n",
      "{0: 5*pi/4, 1: 3*pi/4} :  -40358.4255890370\n",
      "{0: 5*pi/4, 1: pi} :  -45283.1921614638\n",
      "{0: 5*pi/4, 1: 5*pi/4} :  -37096.5232295959\n",
      "{0: 5*pi/4, 1: 3*pi/2} :  -20594.0584230630\n",
      "{0: 5*pi/4, 1: 7*pi/4} :  -5442.71781294767\n",
      "{0: 3*pi/2, 1: 0} :  3422.30331882919\n",
      "{0: 3*pi/2, 1: pi/4} :  -4745.91237790839\n",
      "{0: 3*pi/2, 1: pi/2} :  -21454.1630333750\n",
      "{0: 3*pi/2, 1: 3*pi/4} :  -36914.9820171274\n",
      "{0: 3*pi/2, 1: pi} :  -42071.6312538790\n",
      "{0: 3*pi/2, 1: 5*pi/4} :  -33903.4155571411\n",
      "{0: 3*pi/2, 1: 3*pi/2} :  -17195.1649016744\n",
      "{0: 3*pi/2, 1: 7*pi/4} :  -1734.34591792195\n",
      "{0: 7*pi/4, 1: 0} :  3636.84574730103\n",
      "{0: 7*pi/4, 1: pi/4} :  -4205.92811676057\n",
      "{0: 7*pi/4, 1: pi/2} :  -20818.9454448767\n",
      "{0: 7*pi/4, 1: 3*pi/4} :  -36470.5259981768\n",
      "{0: 7*pi/4, 1: pi} :  -41992.1861611123\n",
      "{0: 7*pi/4, 1: 5*pi/4} :  -34149.4122970506\n",
      "{0: 7*pi/4, 1: 3*pi/2} :  -17536.3949689341\n",
      "{0: 7*pi/4, 1: 7*pi/4} :  -1884.81441563426\n",
      "The time of execution:  45.49077773094177 s\n",
      "best solution:  {0: 7*pi/4, 1: 0}\n",
      "best volume change:  3636.84574730103\n"
     ]
    }
   ],
   "source": [
    "# brute force solution\n",
    "start = time.time()\n",
    "thetas = generate_thetas()\n",
    "best_volume_change = 0\n",
    "best_soln = {}\n",
    "for i in range(8):\n",
    "    for j in range(8):\n",
    "        bond_theta_soln = {0: thetas[i], 1: thetas[j]}\n",
    "        new_coords = compute_new_coords(bond_theta_soln)\n",
    "        vol_difference = find_volume_change(coords_mol, new_coords)\n",
    "        print(bond_theta_soln, ': ', vol_difference)\n",
    "        if vol_difference > best_volume_change:\n",
    "            best_volume_change = vol_difference\n",
    "            best_soln = bond_theta_soln\n",
    "end = time.time()\n",
    "print(\"The time of execution: \", (end-start), \"s\")    \n",
    "print('best solution: ', best_soln)\n",
    "print('best volume change: ', best_volume_change)\n",
    "\n",
    "\n"
   ]
  },
  {
   "cell_type": "code",
   "execution_count": 73,
   "metadata": {},
   "outputs": [],
   "source": [
    "from rdkit.Geometry import Point3D\n",
    "conf = mol.GetConformer()\n",
    "for i in range(len(coords_mol)):\n",
    "    x, y, z = new_coords[i]\n",
    "    conf.SetAtomPosition(i, Point3D(float(x), float(y), float(z)))"
   ]
  },
  {
   "cell_type": "code",
   "execution_count": 74,
   "metadata": {},
   "outputs": [
    {
     "output_type": "display_data",
     "data": {
      "application/3dmoljs_load.v0": "<div id=\"3dmolviewer_16873434294664578\"  style=\"position: relative; width: 500px; height: 250px\">\n        <p id=\"3dmolwarning_16873434294664578\" style=\"background-color:#ffcccc;color:black\">You appear to be running in JupyterLab (or JavaScript failed to load for some other reason).  You need to install the 3dmol extension: <br>\n        <tt>jupyter labextension install jupyterlab_3dmol</tt></p>\n        </div>\n<script>\n\nvar loadScriptAsync = function(uri){\n  return new Promise((resolve, reject) => {\n    //this is to ignore the existence of requirejs amd\n    var savedexports, savedmodule;\n    if (typeof exports !== 'undefined') savedexports = exports;\n    else exports = {}\n    if (typeof module !== 'undefined') savedmodule = module;\n    else module = {}\n\n    var tag = document.createElement('script');\n    tag.src = uri;\n    tag.async = true;\n    tag.onload = () => {\n        exports = savedexports;\n        module = savedmodule;\n        resolve();\n    };\n  var firstScriptTag = document.getElementsByTagName('script')[0];\n  firstScriptTag.parentNode.insertBefore(tag, firstScriptTag);\n});\n};\n\nif(typeof $3Dmolpromise === 'undefined') {\n$3Dmolpromise = null;\n  $3Dmolpromise = loadScriptAsync('https://cdnjs.cloudflare.com/ajax/libs/3Dmol/2.0.1/3Dmol-min.js');\n}\n\nvar viewer_16873434294664578 = null;\nvar warn = document.getElementById(\"3dmolwarning_16873434294664578\");\nif(warn) {\n    warn.parentNode.removeChild(warn);\n}\n$3Dmolpromise.then(function() {\nviewer_16873434294664578 = $3Dmol.createViewer(document.getElementById(\"3dmolviewer_16873434294664578\"),{backgroundColor:\"white\"});\nviewer_16873434294664578.zoomTo();\n\tviewer_16873434294664578.addModel(\"76\\n     RDKit          3D\\n\\n 50 54  0  0  0  0  0  0  0  0999 V2000\\n    4.6690   -2.6830   -1.2440 C   0  0  0  0  0  0  0  0  0  0  0  0\\n    4.8020   -1.2210   -1.0010 C   0  0  0  0  0  0  0  0  0  0  0  0\\n    5.8800   -0.4210   -1.0160 C   0  0  0  0  0  0  0  0  0  0  0  0\\n    7.3510   -0.6650   -1.1650 C   0  0  0  0  0  0  0  0  0  0  0  0\\n    7.8480   -2.1100   -1.1540 C   0  0  0  0  0  0  0  0  0  0  0  0\\n    9.2770   -2.0800   -1.0820 O   0  0  0  0  0  0  0  0  0  0  0  0\\n    9.9170   -3.2770   -0.9330 C   0  0  0  0  0  0  0  0  0  0  0  0\\n    9.3340   -4.5380   -1.0250 C   0  0  0  0  0  0  0  0  0  0  0  0\\n   10.1120   -5.6900   -0.8430 C   0  0  0  0  0  0  0  0  0  0  0  0\\n   11.4830   -5.6010   -0.5660 C   0  0  0  0  0  0  0  0  0  0  0  0\\n   12.0610   -4.3280   -0.4870 C   0  0  0  0  0  0  0  0  0  0  0  0\\n   11.2840   -3.1800   -0.6720 C   0  0  0  0  0  0  0  0  0  0  0  0\\n   12.2640   -6.7670   -0.3590 N   0  0  0  0  0  0  0  0  0  0  0  0\\n   12.0600   -7.9560   -1.0190 C   0  0  0  0  0  0  0  0  0  0  0  0\\n   11.2700   -8.2010   -1.9200 O   0  0  0  0  0  0  0  0  0  0  0  0\\n   12.9730   -9.0020   -0.4490 C   0  0  0  0  0  0  0  0  0  0  0  0\\n   13.9100   -8.2180    0.4470 C   0  0  2  0  0  0  0  0  0  0  0  0\\n   14.2180   -9.0060    2.0670 S   0  0  0  0  0  0  0  0  0  0  0  0\\n   12.5960   -8.7670    2.8830 C   0  0  0  0  0  0  0  0  0  0  0  0\\n   12.5830   -9.4060    4.2670 C   0  0  0  0  0  0  0  0  0  0  0  0\\n   11.6920  -10.1910    4.5790 O   0  0  0  0  0  0  0  0  0  0  0  0\\n   13.6060   -8.9530    5.0830 N   0  0  0  0  0  0  0  0  0  0  0  0\\n   13.8470   -9.2970    6.4270 C   0  0  0  0  0  0  0  0  0  0  0  0\\n   12.9164   -9.1194    7.4516 C   0  0  0  0  0  0  0  0  0  0  0  0\\n   13.2345   -9.4639    8.7679 C   0  0  0  0  0  0  0  0  0  0  0  0\\n   14.4892   -9.9866    9.0727 C   0  0  0  0  0  0  0  0  0  0  0  0\\n   15.4396  -10.1749    8.0605 C   0  0  0  0  0  0  0  0  0  0  0  0\\n   15.1088   -9.8168    6.7413 C   0  0  0  0  0  0  0  0  0  0  0  0\\n   16.8103  -10.7113    8.3859 C   0  0  0  0  0  0  0  0  0  0  0  0\\n   16.8221  -11.5377    9.4691 F   0  0  0  0  0  0  0  0  0  0  0  0\\n   17.7015   -9.7197    8.6612 F   0  0  0  0  0  0  0  0  0  0  0  0\\n   17.3568  -11.4308    7.3657 F   0  0  0  0  0  0  0  0  0  0  0  0\\n   13.2870   -6.8480    0.5590 C   0  0  0  0  0  0  0  0  0  0  0  0\\n   13.6540   -5.9950    1.3570 O   0  0  0  0  0  0  0  0  0  0  0  0\\n    5.4700    0.9680   -0.7550 C   0  0  0  0  0  0  0  0  0  0  0  0\\n    6.1920    1.9210   -0.5490 O   0  0  0  0  0  0  0  0  0  0  0  0\\n    4.1010    0.9370   -0.7460 N   0  0  0  0  0  0  0  0  0  0  0  0\\n    3.6280   -0.3910   -0.8020 N   0  0  0  0  0  0  0  0  0  0  0  0\\n    2.6170   -0.8720    0.5270 S   0  0  0  0  0  6  0  0  0  0  0  0\\n    1.5710   -1.7731    0.0931 O   0  0  0  0  0  0  0  0  0  0  0  0\\n    3.4938   -1.2285    1.6277 O   0  0  0  0  0  0  0  0  0  0  0  0\\n    1.8313    0.6636    0.9611 C   0  0  0  0  0  0  0  0  0  0  0  0\\n    2.0042    1.1529    2.2672 C   0  0  0  0  0  0  0  0  0  0  0  0\\n    1.4122    2.3608    2.6674 C   0  0  0  0  0  0  0  0  0  0  0  0\\n    1.6179    2.8591    4.0716 C   0  0  0  0  0  0  0  0  0  0  0  0\\n    0.6376    3.0677    1.7365 C   0  0  0  0  0  0  0  0  0  0  0  0\\n   -0.1256    4.5616    2.1454 Cl  0  0  0  0  0  0  0  0  0  0  0  0\\n    0.4585    2.5757    0.4408 C   0  0  0  0  0  0  0  0  0  0  0  0\\n    1.0512    1.3710    0.0468 C   0  0  0  0  0  0  0  0  0  0  0  0\\n    0.7542    0.8581   -1.5736 Cl  0  0  0  0  0  0  0  0  0  0  0  0\\n  1  2  1  0\\n  2  3  2  0\\n  3  4  1  0\\n  3 35  1  0\\n  4  5  1  0\\n  5  6  1  0\\n  6  7  1  0\\n  7  8  2  0\\n  8  9  1  0\\n  9 10  2  0\\n 10 11  1  0\\n 10 13  1  0\\n 11 12  2  0\\n 12  7  1  0\\n 13 14  1  0\\n 14 15  2  0\\n 14 16  1  0\\n 16 17  1  0\\n 17 18  1  1\\n 17 33  1  0\\n 18 19  1  0\\n 19 20  1  0\\n 20 21  2  0\\n 20 22  1  0\\n 22 23  1  0\\n 23 24  2  0\\n 24 25  1  0\\n 25 26  2  0\\n 26 27  1  0\\n 27 28  2  0\\n 27 29  1  0\\n 28 23  1  0\\n 29 30  1  0\\n 29 31  1  0\\n 29 32  1  0\\n 33 13  1  0\\n 33 34  2  0\\n 35 36  2  0\\n 35 37  1  0\\n 37 38  1  0\\n 38  2  1  0\\n 38 39  1  0\\n 39 40  2  0\\n 39 41  2  0\\n 39 42  1  0\\n 42 43  2  0\\n 43 44  1  0\\n 44 45  1  0\\n 44 46  2  0\\n 46 47  1  0\\n 46 48  1  0\\n 48 49  2  0\\n 49 42  1  0\\n 49 50  1  0\\nM  END\\n\",\"mol\");\n\tviewer_16873434294664578.setStyle({\"stick\": {}});\n\tviewer_16873434294664578.zoomTo();\nviewer_16873434294664578.render();\n});\n</script>",
      "text/html": "<div id=\"3dmolviewer_16873434294664578\"  style=\"position: relative; width: 500px; height: 250px\">\n        <p id=\"3dmolwarning_16873434294664578\" style=\"background-color:#ffcccc;color:black\">You appear to be running in JupyterLab (or JavaScript failed to load for some other reason).  You need to install the 3dmol extension: <br>\n        <tt>jupyter labextension install jupyterlab_3dmol</tt></p>\n        </div>\n<script>\n\nvar loadScriptAsync = function(uri){\n  return new Promise((resolve, reject) => {\n    //this is to ignore the existence of requirejs amd\n    var savedexports, savedmodule;\n    if (typeof exports !== 'undefined') savedexports = exports;\n    else exports = {}\n    if (typeof module !== 'undefined') savedmodule = module;\n    else module = {}\n\n    var tag = document.createElement('script');\n    tag.src = uri;\n    tag.async = true;\n    tag.onload = () => {\n        exports = savedexports;\n        module = savedmodule;\n        resolve();\n    };\n  var firstScriptTag = document.getElementsByTagName('script')[0];\n  firstScriptTag.parentNode.insertBefore(tag, firstScriptTag);\n});\n};\n\nif(typeof $3Dmolpromise === 'undefined') {\n$3Dmolpromise = null;\n  $3Dmolpromise = loadScriptAsync('https://cdnjs.cloudflare.com/ajax/libs/3Dmol/2.0.1/3Dmol-min.js');\n}\n\nvar viewer_16873434294664578 = null;\nvar warn = document.getElementById(\"3dmolwarning_16873434294664578\");\nif(warn) {\n    warn.parentNode.removeChild(warn);\n}\n$3Dmolpromise.then(function() {\nviewer_16873434294664578 = $3Dmol.createViewer(document.getElementById(\"3dmolviewer_16873434294664578\"),{backgroundColor:\"white\"});\nviewer_16873434294664578.zoomTo();\n\tviewer_16873434294664578.addModel(\"76\\n     RDKit          3D\\n\\n 50 54  0  0  0  0  0  0  0  0999 V2000\\n    4.6690   -2.6830   -1.2440 C   0  0  0  0  0  0  0  0  0  0  0  0\\n    4.8020   -1.2210   -1.0010 C   0  0  0  0  0  0  0  0  0  0  0  0\\n    5.8800   -0.4210   -1.0160 C   0  0  0  0  0  0  0  0  0  0  0  0\\n    7.3510   -0.6650   -1.1650 C   0  0  0  0  0  0  0  0  0  0  0  0\\n    7.8480   -2.1100   -1.1540 C   0  0  0  0  0  0  0  0  0  0  0  0\\n    9.2770   -2.0800   -1.0820 O   0  0  0  0  0  0  0  0  0  0  0  0\\n    9.9170   -3.2770   -0.9330 C   0  0  0  0  0  0  0  0  0  0  0  0\\n    9.3340   -4.5380   -1.0250 C   0  0  0  0  0  0  0  0  0  0  0  0\\n   10.1120   -5.6900   -0.8430 C   0  0  0  0  0  0  0  0  0  0  0  0\\n   11.4830   -5.6010   -0.5660 C   0  0  0  0  0  0  0  0  0  0  0  0\\n   12.0610   -4.3280   -0.4870 C   0  0  0  0  0  0  0  0  0  0  0  0\\n   11.2840   -3.1800   -0.6720 C   0  0  0  0  0  0  0  0  0  0  0  0\\n   12.2640   -6.7670   -0.3590 N   0  0  0  0  0  0  0  0  0  0  0  0\\n   12.0600   -7.9560   -1.0190 C   0  0  0  0  0  0  0  0  0  0  0  0\\n   11.2700   -8.2010   -1.9200 O   0  0  0  0  0  0  0  0  0  0  0  0\\n   12.9730   -9.0020   -0.4490 C   0  0  0  0  0  0  0  0  0  0  0  0\\n   13.9100   -8.2180    0.4470 C   0  0  2  0  0  0  0  0  0  0  0  0\\n   14.2180   -9.0060    2.0670 S   0  0  0  0  0  0  0  0  0  0  0  0\\n   12.5960   -8.7670    2.8830 C   0  0  0  0  0  0  0  0  0  0  0  0\\n   12.5830   -9.4060    4.2670 C   0  0  0  0  0  0  0  0  0  0  0  0\\n   11.6920  -10.1910    4.5790 O   0  0  0  0  0  0  0  0  0  0  0  0\\n   13.6060   -8.9530    5.0830 N   0  0  0  0  0  0  0  0  0  0  0  0\\n   13.8470   -9.2970    6.4270 C   0  0  0  0  0  0  0  0  0  0  0  0\\n   12.9164   -9.1194    7.4516 C   0  0  0  0  0  0  0  0  0  0  0  0\\n   13.2345   -9.4639    8.7679 C   0  0  0  0  0  0  0  0  0  0  0  0\\n   14.4892   -9.9866    9.0727 C   0  0  0  0  0  0  0  0  0  0  0  0\\n   15.4396  -10.1749    8.0605 C   0  0  0  0  0  0  0  0  0  0  0  0\\n   15.1088   -9.8168    6.7413 C   0  0  0  0  0  0  0  0  0  0  0  0\\n   16.8103  -10.7113    8.3859 C   0  0  0  0  0  0  0  0  0  0  0  0\\n   16.8221  -11.5377    9.4691 F   0  0  0  0  0  0  0  0  0  0  0  0\\n   17.7015   -9.7197    8.6612 F   0  0  0  0  0  0  0  0  0  0  0  0\\n   17.3568  -11.4308    7.3657 F   0  0  0  0  0  0  0  0  0  0  0  0\\n   13.2870   -6.8480    0.5590 C   0  0  0  0  0  0  0  0  0  0  0  0\\n   13.6540   -5.9950    1.3570 O   0  0  0  0  0  0  0  0  0  0  0  0\\n    5.4700    0.9680   -0.7550 C   0  0  0  0  0  0  0  0  0  0  0  0\\n    6.1920    1.9210   -0.5490 O   0  0  0  0  0  0  0  0  0  0  0  0\\n    4.1010    0.9370   -0.7460 N   0  0  0  0  0  0  0  0  0  0  0  0\\n    3.6280   -0.3910   -0.8020 N   0  0  0  0  0  0  0  0  0  0  0  0\\n    2.6170   -0.8720    0.5270 S   0  0  0  0  0  6  0  0  0  0  0  0\\n    1.5710   -1.7731    0.0931 O   0  0  0  0  0  0  0  0  0  0  0  0\\n    3.4938   -1.2285    1.6277 O   0  0  0  0  0  0  0  0  0  0  0  0\\n    1.8313    0.6636    0.9611 C   0  0  0  0  0  0  0  0  0  0  0  0\\n    2.0042    1.1529    2.2672 C   0  0  0  0  0  0  0  0  0  0  0  0\\n    1.4122    2.3608    2.6674 C   0  0  0  0  0  0  0  0  0  0  0  0\\n    1.6179    2.8591    4.0716 C   0  0  0  0  0  0  0  0  0  0  0  0\\n    0.6376    3.0677    1.7365 C   0  0  0  0  0  0  0  0  0  0  0  0\\n   -0.1256    4.5616    2.1454 Cl  0  0  0  0  0  0  0  0  0  0  0  0\\n    0.4585    2.5757    0.4408 C   0  0  0  0  0  0  0  0  0  0  0  0\\n    1.0512    1.3710    0.0468 C   0  0  0  0  0  0  0  0  0  0  0  0\\n    0.7542    0.8581   -1.5736 Cl  0  0  0  0  0  0  0  0  0  0  0  0\\n  1  2  1  0\\n  2  3  2  0\\n  3  4  1  0\\n  3 35  1  0\\n  4  5  1  0\\n  5  6  1  0\\n  6  7  1  0\\n  7  8  2  0\\n  8  9  1  0\\n  9 10  2  0\\n 10 11  1  0\\n 10 13  1  0\\n 11 12  2  0\\n 12  7  1  0\\n 13 14  1  0\\n 14 15  2  0\\n 14 16  1  0\\n 16 17  1  0\\n 17 18  1  1\\n 17 33  1  0\\n 18 19  1  0\\n 19 20  1  0\\n 20 21  2  0\\n 20 22  1  0\\n 22 23  1  0\\n 23 24  2  0\\n 24 25  1  0\\n 25 26  2  0\\n 26 27  1  0\\n 27 28  2  0\\n 27 29  1  0\\n 28 23  1  0\\n 29 30  1  0\\n 29 31  1  0\\n 29 32  1  0\\n 33 13  1  0\\n 33 34  2  0\\n 35 36  2  0\\n 35 37  1  0\\n 37 38  1  0\\n 38  2  1  0\\n 38 39  1  0\\n 39 40  2  0\\n 39 41  2  0\\n 39 42  1  0\\n 42 43  2  0\\n 43 44  1  0\\n 44 45  1  0\\n 44 46  2  0\\n 46 47  1  0\\n 46 48  1  0\\n 48 49  2  0\\n 49 42  1  0\\n 49 50  1  0\\nM  END\\n\",\"mol\");\n\tviewer_16873434294664578.setStyle({\"stick\": {}});\n\tviewer_16873434294664578.zoomTo();\nviewer_16873434294664578.render();\n});\n</script>"
     },
     "metadata": {}
    }
   ],
   "source": [
    "mblock = Chem.MolToMolBlock(mol)\n",
    "view = py3Dmol.view(width=500, height=250)\n",
    "view.addModel(mblock, 'mol')\n",
    "view.setStyle({'stick':{}})\n",
    "view.zoomTo()\n",
    "view.show()"
   ]
  },
  {
   "cell_type": "code",
   "execution_count": 76,
   "metadata": {},
   "outputs": [
    {
     "output_type": "display_data",
     "data": {
      "application/3dmoljs_load.v0": "<div id=\"3dmolviewer_16873436491740272\"  style=\"position: relative; width: 500px; height: 250px\">\n        <p id=\"3dmolwarning_16873436491740272\" style=\"background-color:#ffcccc;color:black\">You appear to be running in JupyterLab (or JavaScript failed to load for some other reason).  You need to install the 3dmol extension: <br>\n        <tt>jupyter labextension install jupyterlab_3dmol</tt></p>\n        </div>\n<script>\n\nvar loadScriptAsync = function(uri){\n  return new Promise((resolve, reject) => {\n    //this is to ignore the existence of requirejs amd\n    var savedexports, savedmodule;\n    if (typeof exports !== 'undefined') savedexports = exports;\n    else exports = {}\n    if (typeof module !== 'undefined') savedmodule = module;\n    else module = {}\n\n    var tag = document.createElement('script');\n    tag.src = uri;\n    tag.async = true;\n    tag.onload = () => {\n        exports = savedexports;\n        module = savedmodule;\n        resolve();\n    };\n  var firstScriptTag = document.getElementsByTagName('script')[0];\n  firstScriptTag.parentNode.insertBefore(tag, firstScriptTag);\n});\n};\n\nif(typeof $3Dmolpromise === 'undefined') {\n$3Dmolpromise = null;\n  $3Dmolpromise = loadScriptAsync('https://cdnjs.cloudflare.com/ajax/libs/3Dmol/2.0.1/3Dmol-min.js');\n}\n\nvar viewer_16873436491740272 = null;\nvar warn = document.getElementById(\"3dmolwarning_16873436491740272\");\nif(warn) {\n    warn.parentNode.removeChild(warn);\n}\n$3Dmolpromise.then(function() {\nviewer_16873436491740272 = $3Dmol.createViewer(document.getElementById(\"3dmolviewer_16873436491740272\"),{backgroundColor:\"white\"});\nviewer_16873436491740272.zoomTo();\n\tviewer_16873436491740272.addModel(\"76\\n     RDKit          3D\\n\\n 50 54  0  0  0  0  0  0  0  0999 V2000\\n    4.6690   -2.6830   -1.2440 C   0  0  0  0  0  0  0  0  0  0  0  0\\n    4.8020   -1.2210   -1.0010 C   0  0  0  0  0  0  0  0  0  0  0  0\\n    5.8800   -0.4210   -1.0160 C   0  0  0  0  0  0  0  0  0  0  0  0\\n    7.3510   -0.6650   -1.1650 C   0  0  0  0  0  0  0  0  0  0  0  0\\n    7.8480   -2.1100   -1.1540 C   0  0  0  0  0  0  0  0  0  0  0  0\\n    9.2770   -2.0800   -1.0820 O   0  0  0  0  0  0  0  0  0  0  0  0\\n    9.9170   -3.2770   -0.9330 C   0  0  0  0  0  0  0  0  0  0  0  0\\n    9.3340   -4.5380   -1.0250 C   0  0  0  0  0  0  0  0  0  0  0  0\\n   10.1120   -5.6900   -0.8430 C   0  0  0  0  0  0  0  0  0  0  0  0\\n   11.4830   -5.6010   -0.5660 C   0  0  0  0  0  0  0  0  0  0  0  0\\n   12.0610   -4.3280   -0.4870 C   0  0  0  0  0  0  0  0  0  0  0  0\\n   11.2840   -3.1800   -0.6720 C   0  0  0  0  0  0  0  0  0  0  0  0\\n   12.2640   -6.7670   -0.3590 N   0  0  0  0  0  0  0  0  0  0  0  0\\n   12.0600   -7.9560   -1.0190 C   0  0  0  0  0  0  0  0  0  0  0  0\\n   11.2700   -8.2010   -1.9200 O   0  0  0  0  0  0  0  0  0  0  0  0\\n   12.9730   -9.0020   -0.4490 C   0  0  0  0  0  0  0  0  0  0  0  0\\n   13.9100   -8.2180    0.4470 C   0  0  2  0  0  0  0  0  0  0  0  0\\n   14.2180   -9.0060    2.0670 S   0  0  0  0  0  0  0  0  0  0  0  0\\n   12.5960   -8.7670    2.8830 C   0  0  0  0  0  0  0  0  0  0  0  0\\n   12.5830   -9.4060    4.2670 C   0  0  0  0  0  0  0  0  0  0  0  0\\n   11.6920  -10.1910    4.5790 O   0  0  0  0  0  0  0  0  0  0  0  0\\n   13.6060   -8.9530    5.0830 N   0  0  0  0  0  0  0  0  0  0  0  0\\n   13.8470   -9.2970    6.4270 C   0  0  0  0  0  0  0  0  0  0  0  0\\n   12.9310   -9.9790    7.2290 C   0  0  0  0  0  0  0  0  0  0  0  0\\n   13.2310  -10.2670    8.5630 C   0  0  0  0  0  0  0  0  0  0  0  0\\n   14.4500   -9.8720    9.1090 C   0  0  0  0  0  0  0  0  0  0  0  0\\n   15.3860   -9.1870    8.3230 C   0  0  0  0  0  0  0  0  0  0  0  0\\n   15.0680   -8.8970    6.9840 C   0  0  0  0  0  0  0  0  0  0  0  0\\n   16.6950   -8.7290    8.9140 C   0  0  0  0  0  0  0  0  0  0  0  0\\n   17.1360   -9.5250    9.9280 F   0  0  0  0  0  0  0  0  0  0  0  0\\n   16.6170   -7.4720    9.4310 F   0  0  0  0  0  0  0  0  0  0  0  0\\n   17.7080   -8.6950    8.0030 F   0  0  0  0  0  0  0  0  0  0  0  0\\n   13.2870   -6.8480    0.5590 C   0  0  0  0  0  0  0  0  0  0  0  0\\n   13.6540   -5.9950    1.3570 O   0  0  0  0  0  0  0  0  0  0  0  0\\n    5.4700    0.9680   -0.7550 C   0  0  0  0  0  0  0  0  0  0  0  0\\n    6.1920    1.9210   -0.5490 O   0  0  0  0  0  0  0  0  0  0  0  0\\n    4.1010    0.9370   -0.7460 N   0  0  0  0  0  0  0  0  0  0  0  0\\n    3.6280   -0.3910   -0.8020 N   0  0  0  0  0  0  0  0  0  0  0  0\\n    2.6170   -0.8720    0.5270 S   0  0  0  0  0  6  0  0  0  0  0  0\\n    2.3600   -2.2960    0.5040 O   0  0  0  0  0  0  0  0  0  0  0  0\\n    3.1410   -0.2320    1.7200 O   0  0  0  0  0  0  0  0  0  0  0  0\\n    1.0840   -0.0620    0.1300 C   0  0  0  0  0  0  0  0  0  0  0  0\\n    0.5560    0.8530    1.0570 C   0  0  0  0  0  0  0  0  0  0  0  0\\n   -0.6480    1.5260    0.7980 C   0  0  0  0  0  0  0  0  0  0  0  0\\n   -1.1860    2.5010    1.8090 C   0  0  0  0  0  0  0  0  0  0  0  0\\n   -1.3180    1.2610   -0.4050 C   0  0  0  0  0  0  0  0  0  0  0  0\\n   -2.8040    2.0450   -0.8030 Cl  0  0  0  0  0  0  0  0  0  0  0  0\\n   -0.7970    0.3440   -1.3220 C   0  0  0  0  0  0  0  0  0  0  0  0\\n    0.4040   -0.3240   -1.0590 C   0  0  0  0  0  0  0  0  0  0  0  0\\n    0.9460   -1.4390   -2.2590 Cl  0  0  0  0  0  0  0  0  0  0  0  0\\n  1  2  1  0\\n  2  3  2  0\\n  3  4  1  0\\n  3 35  1  0\\n  4  5  1  0\\n  5  6  1  0\\n  6  7  1  0\\n  7  8  2  0\\n  8  9  1  0\\n  9 10  2  0\\n 10 11  1  0\\n 10 13  1  0\\n 11 12  2  0\\n 12  7  1  0\\n 13 14  1  0\\n 14 15  2  0\\n 14 16  1  0\\n 16 17  1  0\\n 17 18  1  1\\n 17 33  1  0\\n 18 19  1  0\\n 19 20  1  0\\n 20 21  2  0\\n 20 22  1  0\\n 22 23  1  0\\n 23 24  2  0\\n 24 25  1  0\\n 25 26  2  0\\n 26 27  1  0\\n 27 28  2  0\\n 27 29  1  0\\n 28 23  1  0\\n 29 30  1  0\\n 29 31  1  0\\n 29 32  1  0\\n 33 13  1  0\\n 33 34  2  0\\n 35 36  2  0\\n 35 37  1  0\\n 37 38  1  0\\n 38  2  1  0\\n 38 39  1  0\\n 39 40  2  0\\n 39 41  2  0\\n 39 42  1  0\\n 42 43  2  0\\n 43 44  1  0\\n 44 45  1  0\\n 44 46  2  0\\n 46 47  1  0\\n 46 48  1  0\\n 48 49  2  0\\n 49 42  1  0\\n 49 50  1  0\\nM  END\\n\",\"mol\");\n\tviewer_16873436491740272.setStyle({\"stick\": {}});\n\tviewer_16873436491740272.zoomTo();\nviewer_16873436491740272.render();\n});\n</script>",
      "text/html": "<div id=\"3dmolviewer_16873436491740272\"  style=\"position: relative; width: 500px; height: 250px\">\n        <p id=\"3dmolwarning_16873436491740272\" style=\"background-color:#ffcccc;color:black\">You appear to be running in JupyterLab (or JavaScript failed to load for some other reason).  You need to install the 3dmol extension: <br>\n        <tt>jupyter labextension install jupyterlab_3dmol</tt></p>\n        </div>\n<script>\n\nvar loadScriptAsync = function(uri){\n  return new Promise((resolve, reject) => {\n    //this is to ignore the existence of requirejs amd\n    var savedexports, savedmodule;\n    if (typeof exports !== 'undefined') savedexports = exports;\n    else exports = {}\n    if (typeof module !== 'undefined') savedmodule = module;\n    else module = {}\n\n    var tag = document.createElement('script');\n    tag.src = uri;\n    tag.async = true;\n    tag.onload = () => {\n        exports = savedexports;\n        module = savedmodule;\n        resolve();\n    };\n  var firstScriptTag = document.getElementsByTagName('script')[0];\n  firstScriptTag.parentNode.insertBefore(tag, firstScriptTag);\n});\n};\n\nif(typeof $3Dmolpromise === 'undefined') {\n$3Dmolpromise = null;\n  $3Dmolpromise = loadScriptAsync('https://cdnjs.cloudflare.com/ajax/libs/3Dmol/2.0.1/3Dmol-min.js');\n}\n\nvar viewer_16873436491740272 = null;\nvar warn = document.getElementById(\"3dmolwarning_16873436491740272\");\nif(warn) {\n    warn.parentNode.removeChild(warn);\n}\n$3Dmolpromise.then(function() {\nviewer_16873436491740272 = $3Dmol.createViewer(document.getElementById(\"3dmolviewer_16873436491740272\"),{backgroundColor:\"white\"});\nviewer_16873436491740272.zoomTo();\n\tviewer_16873436491740272.addModel(\"76\\n     RDKit          3D\\n\\n 50 54  0  0  0  0  0  0  0  0999 V2000\\n    4.6690   -2.6830   -1.2440 C   0  0  0  0  0  0  0  0  0  0  0  0\\n    4.8020   -1.2210   -1.0010 C   0  0  0  0  0  0  0  0  0  0  0  0\\n    5.8800   -0.4210   -1.0160 C   0  0  0  0  0  0  0  0  0  0  0  0\\n    7.3510   -0.6650   -1.1650 C   0  0  0  0  0  0  0  0  0  0  0  0\\n    7.8480   -2.1100   -1.1540 C   0  0  0  0  0  0  0  0  0  0  0  0\\n    9.2770   -2.0800   -1.0820 O   0  0  0  0  0  0  0  0  0  0  0  0\\n    9.9170   -3.2770   -0.9330 C   0  0  0  0  0  0  0  0  0  0  0  0\\n    9.3340   -4.5380   -1.0250 C   0  0  0  0  0  0  0  0  0  0  0  0\\n   10.1120   -5.6900   -0.8430 C   0  0  0  0  0  0  0  0  0  0  0  0\\n   11.4830   -5.6010   -0.5660 C   0  0  0  0  0  0  0  0  0  0  0  0\\n   12.0610   -4.3280   -0.4870 C   0  0  0  0  0  0  0  0  0  0  0  0\\n   11.2840   -3.1800   -0.6720 C   0  0  0  0  0  0  0  0  0  0  0  0\\n   12.2640   -6.7670   -0.3590 N   0  0  0  0  0  0  0  0  0  0  0  0\\n   12.0600   -7.9560   -1.0190 C   0  0  0  0  0  0  0  0  0  0  0  0\\n   11.2700   -8.2010   -1.9200 O   0  0  0  0  0  0  0  0  0  0  0  0\\n   12.9730   -9.0020   -0.4490 C   0  0  0  0  0  0  0  0  0  0  0  0\\n   13.9100   -8.2180    0.4470 C   0  0  2  0  0  0  0  0  0  0  0  0\\n   14.2180   -9.0060    2.0670 S   0  0  0  0  0  0  0  0  0  0  0  0\\n   12.5960   -8.7670    2.8830 C   0  0  0  0  0  0  0  0  0  0  0  0\\n   12.5830   -9.4060    4.2670 C   0  0  0  0  0  0  0  0  0  0  0  0\\n   11.6920  -10.1910    4.5790 O   0  0  0  0  0  0  0  0  0  0  0  0\\n   13.6060   -8.9530    5.0830 N   0  0  0  0  0  0  0  0  0  0  0  0\\n   13.8470   -9.2970    6.4270 C   0  0  0  0  0  0  0  0  0  0  0  0\\n   12.9310   -9.9790    7.2290 C   0  0  0  0  0  0  0  0  0  0  0  0\\n   13.2310  -10.2670    8.5630 C   0  0  0  0  0  0  0  0  0  0  0  0\\n   14.4500   -9.8720    9.1090 C   0  0  0  0  0  0  0  0  0  0  0  0\\n   15.3860   -9.1870    8.3230 C   0  0  0  0  0  0  0  0  0  0  0  0\\n   15.0680   -8.8970    6.9840 C   0  0  0  0  0  0  0  0  0  0  0  0\\n   16.6950   -8.7290    8.9140 C   0  0  0  0  0  0  0  0  0  0  0  0\\n   17.1360   -9.5250    9.9280 F   0  0  0  0  0  0  0  0  0  0  0  0\\n   16.6170   -7.4720    9.4310 F   0  0  0  0  0  0  0  0  0  0  0  0\\n   17.7080   -8.6950    8.0030 F   0  0  0  0  0  0  0  0  0  0  0  0\\n   13.2870   -6.8480    0.5590 C   0  0  0  0  0  0  0  0  0  0  0  0\\n   13.6540   -5.9950    1.3570 O   0  0  0  0  0  0  0  0  0  0  0  0\\n    5.4700    0.9680   -0.7550 C   0  0  0  0  0  0  0  0  0  0  0  0\\n    6.1920    1.9210   -0.5490 O   0  0  0  0  0  0  0  0  0  0  0  0\\n    4.1010    0.9370   -0.7460 N   0  0  0  0  0  0  0  0  0  0  0  0\\n    3.6280   -0.3910   -0.8020 N   0  0  0  0  0  0  0  0  0  0  0  0\\n    2.6170   -0.8720    0.5270 S   0  0  0  0  0  6  0  0  0  0  0  0\\n    2.3600   -2.2960    0.5040 O   0  0  0  0  0  0  0  0  0  0  0  0\\n    3.1410   -0.2320    1.7200 O   0  0  0  0  0  0  0  0  0  0  0  0\\n    1.0840   -0.0620    0.1300 C   0  0  0  0  0  0  0  0  0  0  0  0\\n    0.5560    0.8530    1.0570 C   0  0  0  0  0  0  0  0  0  0  0  0\\n   -0.6480    1.5260    0.7980 C   0  0  0  0  0  0  0  0  0  0  0  0\\n   -1.1860    2.5010    1.8090 C   0  0  0  0  0  0  0  0  0  0  0  0\\n   -1.3180    1.2610   -0.4050 C   0  0  0  0  0  0  0  0  0  0  0  0\\n   -2.8040    2.0450   -0.8030 Cl  0  0  0  0  0  0  0  0  0  0  0  0\\n   -0.7970    0.3440   -1.3220 C   0  0  0  0  0  0  0  0  0  0  0  0\\n    0.4040   -0.3240   -1.0590 C   0  0  0  0  0  0  0  0  0  0  0  0\\n    0.9460   -1.4390   -2.2590 Cl  0  0  0  0  0  0  0  0  0  0  0  0\\n  1  2  1  0\\n  2  3  2  0\\n  3  4  1  0\\n  3 35  1  0\\n  4  5  1  0\\n  5  6  1  0\\n  6  7  1  0\\n  7  8  2  0\\n  8  9  1  0\\n  9 10  2  0\\n 10 11  1  0\\n 10 13  1  0\\n 11 12  2  0\\n 12  7  1  0\\n 13 14  1  0\\n 14 15  2  0\\n 14 16  1  0\\n 16 17  1  0\\n 17 18  1  1\\n 17 33  1  0\\n 18 19  1  0\\n 19 20  1  0\\n 20 21  2  0\\n 20 22  1  0\\n 22 23  1  0\\n 23 24  2  0\\n 24 25  1  0\\n 25 26  2  0\\n 26 27  1  0\\n 27 28  2  0\\n 27 29  1  0\\n 28 23  1  0\\n 29 30  1  0\\n 29 31  1  0\\n 29 32  1  0\\n 33 13  1  0\\n 33 34  2  0\\n 35 36  2  0\\n 35 37  1  0\\n 37 38  1  0\\n 38  2  1  0\\n 38 39  1  0\\n 39 40  2  0\\n 39 41  2  0\\n 39 42  1  0\\n 42 43  2  0\\n 43 44  1  0\\n 44 45  1  0\\n 44 46  2  0\\n 46 47  1  0\\n 46 48  1  0\\n 48 49  2  0\\n 49 42  1  0\\n 49 50  1  0\\nM  END\\n\",\"mol\");\n\tviewer_16873436491740272.setStyle({\"stick\": {}});\n\tviewer_16873436491740272.zoomTo();\nviewer_16873436491740272.render();\n});\n</script>"
     },
     "metadata": {}
    }
   ],
   "source": [
    "mol_filepath = mol_folder + mol_fname\n",
    "mol = Chem.MolFromMol2File(mol_filepath)\n",
    "mblock = Chem.MolToMolBlock(mol)\n",
    "view = py3Dmol.view(width=500, height=250)\n",
    "view.addModel(mblock, 'mol')\n",
    "view.setStyle({'stick':{}})\n",
    "view.zoomTo()\n",
    "view.show()"
   ]
  },
  {
   "cell_type": "code",
   "execution_count": null,
   "metadata": {},
   "outputs": [],
   "source": []
  }
 ]
}