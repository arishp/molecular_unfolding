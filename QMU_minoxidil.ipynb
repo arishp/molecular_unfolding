{
 "metadata": {
  "language_info": {
   "codemirror_mode": {
    "name": "ipython",
    "version": 3
   },
   "file_extension": ".py",
   "mimetype": "text/x-python",
   "name": "python",
   "nbconvert_exporter": "python",
   "pygments_lexer": "ipython3",
   "version": "3.9.16"
  },
  "orig_nbformat": 4,
  "kernelspec": {
   "name": "python3",
   "display_name": "Python 3.9.16 64-bit"
  },
  "interpreter": {
   "hash": "4cd7ab41f5fca4b9b44701077e38c5ffd31fe66a6cab21e0214b68d958d0e462"
  }
 },
 "nbformat": 4,
 "nbformat_minor": 2,
 "cells": [
  {
   "source": [
    "# Import necessary packages"
   ],
   "cell_type": "markdown",
   "metadata": {}
  },
  {
   "cell_type": "code",
   "execution_count": 1,
   "metadata": {},
   "outputs": [],
   "source": [
    "import copy\n",
    "import sympy as sp\n",
    "from sympy.matrices import ones, eye\n",
    "import re\n",
    "import dimod\n",
    "import neal\n",
    "from dwave.system import DWaveSampler, EmbeddingComposite\n",
    "from rdkit import Chem"
   ]
  },
  {
   "source": [
    "# Input Variables"
   ],
   "cell_type": "markdown",
   "metadata": {}
  },
  {
   "source": [
    "coords_original - Coordinates considered for distance measure in the hubo<br>torsional_bonds - Torsional bond numbers and their respective coordinate ends<br>coords_rotation_dict - Coordinate numbers and the bonds that affect them<br>distance_pairs - Pairs of coordinates to find distance"
   ],
   "cell_type": "markdown",
   "metadata": {}
  },
  {
   "cell_type": "code",
   "execution_count": 7,
   "metadata": {},
   "outputs": [
    {
     "output_type": "stream",
     "name": "stdout",
     "text": [
      "{0: [-3.9714, 0.0468, -0.236], 1: [1.4255, -0.2076, 0.3469], 2: [-0.6244, -1.2585, 0.2517], 3: [-2.5918, 0.0684, -0.0959], 4: [-2.5007, 2.476, -0.3524], 5: [-2.6363, -2.2928, 0.16], 6: [4.1965, 0.1557, -0.3181], 7: [3.3505, -0.9312, -0.9788], 8: [3.3217, 1.324, 0.1334], 9: [2.2046, -1.3715, -0.0708], 10: [2.1762, 0.8481, 1.0239], 11: [0.0815, -0.1536, 0.2026], 12: [-0.5489, 1.196, -0.0111], 13: [-1.8877, 1.2635, -0.1559], 14: [-1.9954, -1.1633, 0.1005]}\n"
     ]
    }
   ],
   "source": [
    "mol = Chem.MolFromMolFile('./Minoxidil.mol')\n",
    "n_atoms = len(mol.GetAtoms())\n",
    "conformers = mol.GetConformers()\n",
    "coords_original = {}\n",
    "for i in range(n_atoms):\n",
    "    coords_original[i] = list(conformers[0].GetAtomPosition(i))\n",
    "print(coords_original)"
   ]
  },
  {
   "cell_type": "code",
   "execution_count": 8,
   "metadata": {},
   "outputs": [],
   "source": [
    "torsional_bonds = {\n",
    "    0: (1, 11),\n",
    "}\n",
    "\n",
    "coords_rotation_dict = {}\n",
    "for i in range(n_atoms):\n",
    "    coords_rotation_dict[i] = []\n",
    "coords_rotation_dict[6] = [0]\n",
    "coords_rotation_dict[7] = [0]\n",
    "coords_rotation_dict[8] = [0]\n",
    "coords_rotation_dict[9] = [0]\n",
    "coords_rotation_dict[10] = [0]\n",
    "\n",
    "distance_pairs = [\n",
    "    (0,6), (0,7), (0,8), (0,9), (0,10),\n",
    "    (2,6), (2,7), (2,8), (2,9), (2,10),\n",
    "    (3,6), (3,7), (3,8), (3,9), (3,10),\n",
    "    (4,6), (4,7), (4,8), (4,9), (4,10),\n",
    "    (5,6), (5,7), (5,8), (5,9), (5,10),\n",
    "    (11,6), (11,7), (11,8), (11,9), (11,10),\n",
    "    (12,6), (12,7), (12,8), (12,9), (12,10),\n",
    "    (13,6), (13,7), (13,8), (13,9), (13,10),\n",
    "    (14,6), (14,7), (14,8), (14,9), (14,10),\n",
    "]"
   ]
  },
  {
   "cell_type": "code",
   "execution_count": 9,
   "metadata": {},
   "outputs": [
    {
     "output_type": "stream",
     "name": "stdout",
     "text": [
      "(x0, x1, x2, x3, x4, x5, x6, x7)\n"
     ]
    }
   ],
   "source": [
    "coords_dict = copy.deepcopy(coords_original)\n",
    "final_coords = copy.deepcopy(coords_original)\n",
    "\n",
    "n_bonds = len(torsional_bonds)  # no. of bonds\n",
    "n_angles = 8  # no. of discrete angles\n",
    "\n",
    "x = sp.symbols(f'x(0:{n_bonds*n_angles})')  # hubo variables\n",
    "print(x)"
   ]
  },
  {
   "source": [
    "# Function to generate hard constraint"
   ],
   "cell_type": "markdown",
   "metadata": {}
  },
  {
   "cell_type": "code",
   "execution_count": 10,
   "metadata": {},
   "outputs": [],
   "source": [
    "def generate_hard_constraint():\n",
    "    hard_constraint = 0\n",
    "    index = 0\n",
    "    for i in range(n_bonds):\n",
    "        summation = 0\n",
    "        for j in range(n_angles):\n",
    "            summation += x[index]\n",
    "            index += 1\n",
    "        hard_constraint += (summation - 1) ** 2\n",
    "    a_const = sp.Symbol('A_const')\n",
    "    hard_constraint *= a_const\n",
    "    return hard_constraint"
   ]
  },
  {
   "cell_type": "code",
   "execution_count": 11,
   "metadata": {},
   "outputs": [
    {
     "output_type": "stream",
     "name": "stdout",
     "text": [
      "                                                   2\nA_const⋅(x₀ + x₁ + x₂ + x₃ + x₄ + x₅ + x₆ + x₇ - 1) \n"
     ]
    }
   ],
   "source": [
    "hard_hubo = generate_hard_constraint()\n",
    "sp.pprint(hard_hubo)"
   ]
  },
  {
   "source": [
    "# Functions to rotate coordinates with hubo variables"
   ],
   "cell_type": "markdown",
   "metadata": {}
  },
  {
   "cell_type": "code",
   "execution_count": 12,
   "metadata": {},
   "outputs": [],
   "source": [
    "def rotate_coordinates(rotation_matrix, old_coords):\n",
    "    coord_vector = ones(4, 1)\n",
    "    coord_vector[0, 0] = old_coords[0]\n",
    "    coord_vector[1, 0] = old_coords[1]\n",
    "    coord_vector[2, 0] = old_coords[2]\n",
    "    coord_rot_vector = sp.expand(rotation_matrix * coord_vector)\n",
    "    return [coord_rot_vector[0, 0], coord_rot_vector[1, 0], coord_rot_vector[2, 0]]"
   ]
  },
  {
   "cell_type": "code",
   "execution_count": 13,
   "metadata": {},
   "outputs": [],
   "source": [
    "def generate_thetas():\n",
    "    angle_incr = 2 * sp.pi / n_angles\n",
    "    thetas = [i*angle_incr for i in range(n_angles)]\n",
    "    return thetas"
   ]
  },
  {
   "cell_type": "code",
   "execution_count": 14,
   "metadata": {},
   "outputs": [],
   "source": [
    "def generate_rotation_matrix(first_coords, second_coords, bond_no):\n",
    "    x_dash, y_dash, z_dash = first_coords[0], first_coords[1], first_coords[2]\n",
    "    x_ddash, y_ddash, z_ddash = second_coords[0], second_coords[1], second_coords[2]\n",
    "    dx = x_ddash - x_dash\n",
    "    dy = y_ddash - y_dash\n",
    "    dz = z_ddash - z_dash\n",
    "    l_sq = dx ** 2 + dy ** 2 + dz ** 2\n",
    "    l = sp.sqrt(l_sq)\n",
    "    thetas = generate_thetas()\n",
    "    c_theta = 0.0\n",
    "    s_theta = 0.0\n",
    "    index = n_angles * bond_no\n",
    "    for i in range(n_angles):\n",
    "        c_theta += sp.cos(thetas[i]) * x[index]\n",
    "        s_theta += sp.sin(thetas[i]) * x[index]\n",
    "        index += 1\n",
    "    rotation_matrix = eye(4)\n",
    "    rotation_matrix[0, 0] = (dx ** 2 + (dy ** 2 + dz ** 2) * c_theta) / l_sq\n",
    "    rotation_matrix[0, 1] = (dx * dy * (1 - c_theta) - dz * l * s_theta) / l_sq\n",
    "    rotation_matrix[0, 2] = (dx * dz * (1 - c_theta) + dy * l * s_theta) / l_sq\n",
    "    rotation_matrix[0, 3] = ((x_dash * (dy ** 2 + dz ** 2) - dx * (y_dash * dy + z_dash * dz)) * (1 - c_theta) + (\n",
    "            y_dash * dz - z_dash * dy) * l * s_theta) / l_sq\n",
    "    rotation_matrix[1, 0] = (dx * dy * (1 - c_theta) + dz * l * s_theta) / l_sq\n",
    "    rotation_matrix[1, 1] = (dy ** 2 + (dx ** 2 + dz ** 2) * c_theta) / l_sq\n",
    "    rotation_matrix[1, 2] = (dy * dz * (1 - c_theta) - dx * l * s_theta) / l_sq\n",
    "    rotation_matrix[1, 3] = ((y_dash * (dx ** 2 + dz ** 2) - dy * (x_dash * dx + z_dash * dz)) * (1 - c_theta) + (\n",
    "            z_dash * dx - x_dash * dz) * l * s_theta) / l_sq\n",
    "    rotation_matrix[2, 0] = (dx * dz * (1 - c_theta) - dy * l * s_theta) / l_sq\n",
    "    rotation_matrix[2, 1] = (dy * dz * (1 - c_theta) + dx * l * s_theta) / l_sq\n",
    "    rotation_matrix[2, 2] = (dz ** 2 + (dx ** 2 + dy ** 2) * c_theta) / l_sq\n",
    "    rotation_matrix[2, 3] = ((z_dash * (dx ** 2 + dy ** 2) - dz * (x_dash * dx + y_dash * dy)) * (1 - c_theta) + (\n",
    "            x_dash * dy - y_dash * dx) * l * s_theta) / l_sq\n",
    "    return rotation_matrix"
   ]
  },
  {
   "cell_type": "code",
   "execution_count": 15,
   "metadata": {},
   "outputs": [],
   "source": [
    "def rotate_all_coordinates():\n",
    "    for i in coords_original.keys():\n",
    "        if len(coords_rotation_dict[i]) > 0:\n",
    "            rot_mat = eye(4, 4)\n",
    "            for bond_no in coords_rotation_dict[i]:\n",
    "                temp_rot_mat = generate_rotation_matrix(coords_original[torsional_bonds[bond_no][0]],\n",
    "                                                        coords_original[torsional_bonds[bond_no][1]], bond_no)\n",
    "                rot_mat = rot_mat * temp_rot_mat\n",
    "            coords_dict[i] = rotate_coordinates(rot_mat, coords_original[i])"
   ]
  },
  {
   "cell_type": "code",
   "execution_count": 16,
   "metadata": {},
   "outputs": [],
   "source": [
    "rotate_all_coordinates()"
   ]
  },
  {
   "cell_type": "code",
   "execution_count": 17,
   "metadata": {},
   "outputs": [
    {
     "output_type": "stream",
     "name": "stdout",
     "text": [
      "{0: [-3.9714, 0.0468, -0.236], 1: [1.4255, -0.2076, 0.3469], 2: [-0.6244, -1.2\n585, 0.2517], 3: [-2.5918, 0.0684, -0.0959], 4: [-2.5007, 2.476, -0.3524], 5: \n[-2.6363, -2.2928, 0.16], 6: [4.1965, 0.1557, -0.3181], 7: [3.3505, -0.9312, -\n0.9788], 8: [3.3217, 1.324, 0.1334], 9: [2.2046, -1.3715, -0.0708], 10: [2.176\n2, 0.8481, 1.0239], 11: [0.0815, -0.1536, 0.2026], 12: [-0.5489, 1.196, -0.011\n1], 13: [-1.8877, 1.2635, -0.1559], 14: [-1.9954, -1.1633, 0.1005]}\n"
     ]
    }
   ],
   "source": [
    "sp.pprint(coords_original)"
   ]
  },
  {
   "cell_type": "code",
   "execution_count": 18,
   "metadata": {},
   "outputs": [
    {
     "output_type": "stream",
     "name": "stdout",
     "text": [
      "{0: [-3.9714, 0.0468, -0.236], 1: [1.4255, -0.2076, 0.3469], 2: [-0.6244, -1.2\n585, 0.2517], 3: [-2.5918, 0.0684, -0.0959], 4: [-2.5007, 2.476, -0.3524], 5: \n[-2.6363, -2.2928, 0.16], 6: [0.120823379484406⋅x₀ + 0.0665153857785361⋅√2⋅x₁ \n+ 0.0122073920726667⋅x₂ - 0.0543079937058695⋅√2⋅x₃ - 0.120823379484406⋅x₄ - 0.\n0665153857785361⋅√2⋅x₅ - 0.0122073920726667⋅x₆ + 0.0543079937058695⋅√2⋅x₇ + 4.\n07567662051559, 0.469780310645716⋅x₀ - 0.243234086868262⋅√2⋅x₁ - 0.95624848438\n2239⋅x₂ - 0.713014397513978⋅√2⋅x₃ - 0.469780310645716⋅x₄ + 0.243234086868262⋅√\n2⋅x₅ + 0.956248484382239⋅x₆ + 0.713014397513978⋅√2⋅x₇ - 0.314080310645716, -0.\n949539052336607⋅x₀ - 0.710542752441017⋅√2⋅x₁ - 0.471546452545426⋅x₂ + 0.238996\n299895591⋅√2⋅x₃ + 0.949539052336607⋅x₄ + 0.710542752441017⋅√2⋅x₅ + 0.471546452\n545426⋅x₆ - 0.238996299895591⋅√2⋅x₇ + 0.631439052336607], 7: [0.13676262821957\n6⋅x₀ + 0.0033299538845715⋅√2⋅x₁ - 0.130102720450433⋅x₂ - 0.133432674335004⋅√2⋅\nx₃ - 0.136762628219576⋅x₄ - 0.0033299538845715⋅√2⋅x₅ + 0.130102720450433⋅x₆ + \n0.133432674335004⋅√2⋅x₇ + 3.21373737178042, -0.65175117702668⋅x₀ - 1.087079963\n93024⋅√2⋅x₁ - 1.5224087508338⋅x₂ - 0.435328786903558⋅√2⋅x₃ + 0.65175117702668⋅\nx₄ + 1.08707996393024⋅√2⋅x₅ + 1.5224087508338⋅x₆ + 0.435328786903558⋅√2⋅x₇ - 0\n.279448822973321, -1.51769602138982⋅x₀ - 0.437822426008988⋅√2⋅x₁ + 0.642051169\n371842⋅x₂ + 1.07987359538083⋅√2⋅x₃ + 1.51769602138982⋅x₄ + 0.437822426008988⋅√\n2⋅x₅ - 0.642051169371842⋅x₆ - 1.07987359538083⋅√2⋅x₇ + 0.538896021389818], 8: \n[0.107960821604589⋅x₀ + 0.131405196210699⋅√2⋅x₁ + 0.154849570816809⋅x₂ + 0.023\n4443746061098⋅√2⋅x₃ - 0.107960821604589⋅x₄ - 0.131405196210699⋅√2⋅x₅ - 0.15484\n9570816809⋅x₆ - 0.0234443746061098⋅√2⋅x₇ + 3.21373917839541, 1.60344889556053⋅\nx₀ + 0.594537634679133⋅√2⋅x₁ - 0.414373626202264⋅x₂ - 1.0089112608814⋅√2⋅x₃ - \n1.60344889556053⋅x₄ - 0.594537634679133⋅√2⋅x₅ + 0.414373626202264⋅x₆ + 1.00891\n12608814⋅√2⋅x₇ - 0.27944889556053, -0.405496215358972⋅x₀ - 1.00141061285174⋅√2\n⋅x₁ - 1.59732501034452⋅x₂ - 0.595914397492772⋅√2⋅x₃ + 0.405496215358972⋅x₄ + 1\n.00141061285174⋅√2⋅x₅ + 1.59732501034452⋅x₆ + 0.595914397492772⋅√2⋅x₇ + 0.5388\n96215358971], 9: [0.0082137940729396⋅x₀ - 0.0663049243247026⋅√2⋅x₁ - 0.1408236\n42722345⋅x₂ - 0.0745187183976422⋅√2⋅x₃ - 0.0082137940729396⋅x₄ + 0.06630492432\n47026⋅√2⋅x₅ + 0.140823642722345⋅x₆ + 0.0745187183976422⋅√2⋅x₇ + 2.196386205927\n06, -1.13292689351186⋅x₀ - 0.815506803412911⋅√2⋅x₁ - 0.498086713313963⋅x₂ + 0.\n317420090098948⋅√2⋅x₃ + 1.13292689351186⋅x₄ + 0.815506803412911⋅√2⋅x₅ + 0.4980\n86713313963⋅x₆ - 0.317420090098948⋅√2⋅x₇ - 0.238573106488141, -0.5004670234488\n65⋅x₀ + 0.312380117173272⋅√2⋅x₁ + 1.12522725779541⋅x₂ + 0.812847140622137⋅√2⋅x\n₃ + 0.500467023448865⋅x₄ - 0.312380117173272⋅√2⋅x₅ - 1.12522725779541⋅x₆ - 0.8\n12847140622137⋅√2⋅x₇ + 0.429667023448865], 10: [-0.0201400931811251⋅x₀ + 0.059\n7463219790231⋅√2⋅x₁ + 0.139632737139171⋅x₂ + 0.0798864151601481⋅√2⋅x₃ + 0.0201\n400931811251⋅x₄ - 0.0597463219790231⋅√2⋅x₅ - 0.139632737139171⋅x₆ - 0.07988641\n51601481⋅√2⋅x₇ + 2.19634009318113, 1.08667125374388⋅x₀ + 0.839595433816059⋅√2⋅\nx₁ + 0.592519613888234⋅x₂ - 0.247075819927825⋅√2⋅x₃ - 1.08667125374388⋅x₄ - 0.\n839595433816059⋅√2⋅x₅ - 0.592519613888234⋅x₆ + 0.247075819927825⋅√2⋅x₇ - 0.238\n571253743885, 0.594237927495509⋅x₀ - 0.242279302243519⋅√2⋅x₁ - 1.0787965319825\n5⋅x₂ - 0.836517229739028⋅√2⋅x₃ - 0.594237927495509⋅x₄ + 0.242279302243519⋅√2⋅x\n₅ + 1.07879653198255⋅x₆ + 0.836517229739028⋅√2⋅x₇ + 0.429662072504491], 11: [0\n.0815, -0.1536, 0.2026], 12: [-0.5489, 1.196, -0.0111], 13: [-1.8877, 1.2635, \n-0.1559], 14: [-1.9954, -1.1633, 0.1005]}\n"
     ]
    }
   ],
   "source": [
    "sp.pprint(coords_dict)"
   ]
  },
  {
   "source": [
    "# Functions to generate the optimization contraint in hubo"
   ],
   "cell_type": "markdown",
   "metadata": {}
  },
  {
   "cell_type": "code",
   "execution_count": 19,
   "metadata": {},
   "outputs": [],
   "source": [
    "def distance_squared(first_coords, second_coords):\n",
    "    dis_sq = sp.expand((second_coords[0] - first_coords[0])**2 + (second_coords[1] - first_coords[1])**2 +(second_coords[2] - first_coords[2])**2)\n",
    "    return dis_sq\n",
    "\n",
    "def generate_distance_hubo():\n",
    "    distance_sq = 0\n",
    "    for pair in distance_pairs:\n",
    "        distance_sq += distance_squared(coords_dict[pair[0]], coords_dict[pair[1]])\n",
    "    return distance_sq.expand()"
   ]
  },
  {
   "cell_type": "code",
   "execution_count": 20,
   "metadata": {
    "tags": []
   },
   "outputs": [
    {
     "output_type": "stream",
     "name": "stdout",
     "text": [
      "                   2                                                          \n87.2943205832167⋅x₀  + 87.2943205832167⋅√2⋅x₀⋅x₁ + 9.56179579958416e-15⋅x₀⋅x₂ \n\n                                                                              \n- 87.2943205832167⋅√2⋅x₀⋅x₃ - 174.588641166433⋅x₀⋅x₄ - 87.2943205832167⋅√2⋅x₀⋅\n\n                                                                              \nx₅ - 9.56179579958416e-15⋅x₀⋅x₆ + 87.2943205832167⋅√2⋅x₀⋅x₇ - 2.88506322756245\n\n                         2                                                    \n⋅x₀ + 87.2943205832167⋅x₁  + 87.2943205832167⋅√2⋅x₁⋅x₂ + 2.54447071051933e-14⋅\n\n                                                                              \nx₁⋅x₃ - 87.2943205832167⋅√2⋅x₁⋅x₄ - 174.588641166433⋅x₁⋅x₅ - 87.2943205832167⋅\n\n                                                                              \n√2⋅x₁⋅x₆ - 2.54447071051933e-14⋅x₁⋅x₇ + 0.854158447387186⋅√2⋅x₁ + 87.294320583\n\n       2                                                                      \n2167⋅x₂  + 87.2943205832167⋅√2⋅x₂⋅x₃ - 9.56179579958416e-15⋅x₂⋅x₄ - 87.2943205\n\n                                                                              \n832167⋅√2⋅x₂⋅x₅ - 174.588641166433⋅x₂⋅x₆ - 87.2943205832167⋅√2⋅x₂⋅x₇ + 4.59338\n\n                                  2                                           \n012233682⋅x₂ + 87.2943205832167⋅x₃  + 87.2943205832167⋅√2⋅x₃⋅x₄ - 2.5444707105\n\n                                                                              \n1933e-14⋅x₃⋅x₅ - 87.2943205832167⋅√2⋅x₃⋅x₆ - 174.588641166433⋅x₃⋅x₇ + 3.739221\n\n                                    2                                         \n67494963⋅√2⋅x₃ + 87.2943205832167⋅x₄  + 87.2943205832167⋅√2⋅x₄⋅x₅ + 9.56179579\n\n                                                                              \n958416e-15⋅x₄⋅x₆ - 87.2943205832167⋅√2⋅x₄⋅x₇ + 2.88506322756245⋅x₄ + 87.294320\n\n          2                                                                   \n5832167⋅x₅  + 87.2943205832167⋅√2⋅x₅⋅x₆ + 2.54447071051933e-14⋅x₅⋅x₇ - 0.85415\n\n                                      2                                       \n8447387186⋅√2⋅x₅ + 87.2943205832167⋅x₆  + 87.2943205832167⋅√2⋅x₆⋅x₇ - 4.593380\n\n                                 2                                            \n12233682⋅x₆ + 87.2943205832167⋅x₇  - 3.73922167494963⋅√2⋅x₇ + 1244.02674465435\n"
     ]
    }
   ],
   "source": [
    "distance_hubo = generate_distance_hubo()\n",
    "sp.pprint(distance_hubo)"
   ]
  },
  {
   "source": [
    "# The full hubo expression is written in the file 'full_hubo_expr.txt'"
   ],
   "cell_type": "markdown",
   "metadata": {}
  },
  {
   "cell_type": "code",
   "execution_count": 21,
   "metadata": {},
   "outputs": [
    {
     "output_type": "execute_result",
     "data": {
      "text/plain": [
       "A_const*x0**2 + 2*A_const*x0*x1 + 2*A_const*x0*x2 + 2*A_const*x0*x3 + 2*A_const*x0*x4 + 2*A_const*x0*x5 + 2*A_const*x0*x6 + 2*A_const*x0*x7 - 2*A_const*x0 + A_const*x1**2 + 2*A_const*x1*x2 + 2*A_const*x1*x3 + 2*A_const*x1*x4 + 2*A_const*x1*x5 + 2*A_const*x1*x6 + 2*A_const*x1*x7 - 2*A_const*x1 + A_const*x2**2 + 2*A_const*x2*x3 + 2*A_const*x2*x4 + 2*A_const*x2*x5 + 2*A_const*x2*x6 + 2*A_const*x2*x7 - 2*A_const*x2 + A_const*x3**2 + 2*A_const*x3*x4 + 2*A_const*x3*x5 + 2*A_const*x3*x6 + 2*A_const*x3*x7 - 2*A_const*x3 + A_const*x4**2 + 2*A_const*x4*x5 + 2*A_const*x4*x6 + 2*A_const*x4*x7 - 2*A_const*x4 + A_const*x5**2 + 2*A_const*x5*x6 + 2*A_const*x5*x7 - 2*A_const*x5 + A_const*x6**2 + 2*A_const*x6*x7 - 2*A_const*x6 + A_const*x7**2 - 2*A_const*x7 + A_const - 87.2943205832167*x0**2 - 87.2943205832167*sqrt(2)*x0*x1 - 9.56179579958416e-15*x0*x2 + 87.2943205832167*sqrt(2)*x0*x3 + 174.588641166433*x0*x4 + 87.2943205832167*sqrt(2)*x0*x5 + 9.56179579958416e-15*x0*x6 - 87.2943205832167*sqrt(2)*x0*x7 + 2.88506322756245*x0 - 87.2943205832167*x1**2 - 87.2943205832167*sqrt(2)*x1*x2 - 2.54447071051933e-14*x1*x3 + 87.2943205832167*sqrt(2)*x1*x4 + 174.588641166433*x1*x5 + 87.2943205832167*sqrt(2)*x1*x6 + 2.54447071051933e-14*x1*x7 - 0.854158447387186*sqrt(2)*x1 - 87.2943205832167*x2**2 - 87.2943205832167*sqrt(2)*x2*x3 + 9.56179579958416e-15*x2*x4 + 87.2943205832167*sqrt(2)*x2*x5 + 174.588641166433*x2*x6 + 87.2943205832167*sqrt(2)*x2*x7 - 4.59338012233682*x2 - 87.2943205832167*x3**2 - 87.2943205832167*sqrt(2)*x3*x4 + 2.54447071051933e-14*x3*x5 + 87.2943205832167*sqrt(2)*x3*x6 + 174.588641166433*x3*x7 - 3.73922167494963*sqrt(2)*x3 - 87.2943205832167*x4**2 - 87.2943205832167*sqrt(2)*x4*x5 - 9.56179579958416e-15*x4*x6 + 87.2943205832167*sqrt(2)*x4*x7 - 2.88506322756245*x4 - 87.2943205832167*x5**2 - 87.2943205832167*sqrt(2)*x5*x6 - 2.54447071051933e-14*x5*x7 + 0.854158447387186*sqrt(2)*x5 - 87.2943205832167*x6**2 - 87.2943205832167*sqrt(2)*x6*x7 + 4.59338012233682*x6 - 87.2943205832167*x7**2 + 3.73922167494963*sqrt(2)*x7 - 1244.02674465435"
      ],
      "text/latex": "$\\displaystyle A_{const} x_{0}^{2} + 2 A_{const} x_{0} x_{1} + 2 A_{const} x_{0} x_{2} + 2 A_{const} x_{0} x_{3} + 2 A_{const} x_{0} x_{4} + 2 A_{const} x_{0} x_{5} + 2 A_{const} x_{0} x_{6} + 2 A_{const} x_{0} x_{7} - 2 A_{const} x_{0} + A_{const} x_{1}^{2} + 2 A_{const} x_{1} x_{2} + 2 A_{const} x_{1} x_{3} + 2 A_{const} x_{1} x_{4} + 2 A_{const} x_{1} x_{5} + 2 A_{const} x_{1} x_{6} + 2 A_{const} x_{1} x_{7} - 2 A_{const} x_{1} + A_{const} x_{2}^{2} + 2 A_{const} x_{2} x_{3} + 2 A_{const} x_{2} x_{4} + 2 A_{const} x_{2} x_{5} + 2 A_{const} x_{2} x_{6} + 2 A_{const} x_{2} x_{7} - 2 A_{const} x_{2} + A_{const} x_{3}^{2} + 2 A_{const} x_{3} x_{4} + 2 A_{const} x_{3} x_{5} + 2 A_{const} x_{3} x_{6} + 2 A_{const} x_{3} x_{7} - 2 A_{const} x_{3} + A_{const} x_{4}^{2} + 2 A_{const} x_{4} x_{5} + 2 A_{const} x_{4} x_{6} + 2 A_{const} x_{4} x_{7} - 2 A_{const} x_{4} + A_{const} x_{5}^{2} + 2 A_{const} x_{5} x_{6} + 2 A_{const} x_{5} x_{7} - 2 A_{const} x_{5} + A_{const} x_{6}^{2} + 2 A_{const} x_{6} x_{7} - 2 A_{const} x_{6} + A_{const} x_{7}^{2} - 2 A_{const} x_{7} + A_{const} - 87.2943205832167 x_{0}^{2} - 87.2943205832167 \\sqrt{2} x_{0} x_{1} - 9.56179579958416 \\cdot 10^{-15} x_{0} x_{2} + 87.2943205832167 \\sqrt{2} x_{0} x_{3} + 174.588641166433 x_{0} x_{4} + 87.2943205832167 \\sqrt{2} x_{0} x_{5} + 9.56179579958416 \\cdot 10^{-15} x_{0} x_{6} - 87.2943205832167 \\sqrt{2} x_{0} x_{7} + 2.88506322756245 x_{0} - 87.2943205832167 x_{1}^{2} - 87.2943205832167 \\sqrt{2} x_{1} x_{2} - 2.54447071051933 \\cdot 10^{-14} x_{1} x_{3} + 87.2943205832167 \\sqrt{2} x_{1} x_{4} + 174.588641166433 x_{1} x_{5} + 87.2943205832167 \\sqrt{2} x_{1} x_{6} + 2.54447071051933 \\cdot 10^{-14} x_{1} x_{7} - 0.854158447387186 \\sqrt{2} x_{1} - 87.2943205832167 x_{2}^{2} - 87.2943205832167 \\sqrt{2} x_{2} x_{3} + 9.56179579958416 \\cdot 10^{-15} x_{2} x_{4} + 87.2943205832167 \\sqrt{2} x_{2} x_{5} + 174.588641166433 x_{2} x_{6} + 87.2943205832167 \\sqrt{2} x_{2} x_{7} - 4.59338012233682 x_{2} - 87.2943205832167 x_{3}^{2} - 87.2943205832167 \\sqrt{2} x_{3} x_{4} + 2.54447071051933 \\cdot 10^{-14} x_{3} x_{5} + 87.2943205832167 \\sqrt{2} x_{3} x_{6} + 174.588641166433 x_{3} x_{7} - 3.73922167494963 \\sqrt{2} x_{3} - 87.2943205832167 x_{4}^{2} - 87.2943205832167 \\sqrt{2} x_{4} x_{5} - 9.56179579958416 \\cdot 10^{-15} x_{4} x_{6} + 87.2943205832167 \\sqrt{2} x_{4} x_{7} - 2.88506322756245 x_{4} - 87.2943205832167 x_{5}^{2} - 87.2943205832167 \\sqrt{2} x_{5} x_{6} - 2.54447071051933 \\cdot 10^{-14} x_{5} x_{7} + 0.854158447387186 \\sqrt{2} x_{5} - 87.2943205832167 x_{6}^{2} - 87.2943205832167 \\sqrt{2} x_{6} x_{7} + 4.59338012233682 x_{6} - 87.2943205832167 x_{7}^{2} + 3.73922167494963 \\sqrt{2} x_{7} - 1244.02674465435$"
     },
     "metadata": {},
     "execution_count": 21
    }
   ],
   "source": [
    "hubo_expr = sp.expand(hard_hubo - distance_hubo)\n",
    "hubo_expr"
   ]
  },
  {
   "cell_type": "code",
   "execution_count": 22,
   "metadata": {},
   "outputs": [],
   "source": [
    "def hubo_expr_to_dict():\n",
    "    hubo_args = hubo_expr.args\n",
    "    hubo_dict = {}\n",
    "    for monom in hubo_args:\n",
    "        dict_value = monom.as_coeff_mul()[0]\n",
    "        monom_key = []\n",
    "        monom_coeffs = monom.as_coeff_mul()[1]\n",
    "        for monom_item in monom_coeffs:\n",
    "            if re.match(\"^x(\\d*)\\d$\", str(monom_item)):\n",
    "                monom_key.append(int(str(monom_item)[1:]))\n",
    "            elif re.match(\"^x(\\d*)\\\\*\\\\*(\\d)$\", str(monom_item)):\n",
    "                monom_key.append(int(str(monom_item).split('**')[0][1:]))\n",
    "            else:\n",
    "                dict_value *= monom_item\n",
    "        if len(monom_key) > 0:\n",
    "            monom_key.sort()\n",
    "            dict_key = tuple(monom_key)\n",
    "        else:\n",
    "            dict_key = ()\n",
    "        dict_value = dict_value.evalf()\n",
    "        if dict_key in hubo_dict:\n",
    "            hubo_dict[dict_key] += dict_value\n",
    "        else:\n",
    "            hubo_dict[dict_key] = dict_value\n",
    "    return hubo_dict"
   ]
  },
  {
   "cell_type": "code",
   "execution_count": 23,
   "metadata": {
    "tags": []
   },
   "outputs": [
    {
     "output_type": "stream",
     "name": "stdout",
     "text": [
      "{(): A_const - 1244.02674465435, (0,): -1.0*A_const - 84.4092573556542, (6,): -1.0*A_const - 82.7009404608799, (4,): -1.0*A_const - 90.1793838107791, (2,): -1.0*A_const - 91.8877007055535, (3,): -1.0*A_const - 92.5823785886499, (7,): -1.0*A_const - 82.0062625777835, (1,): -1.0*A_const - 88.5022830439272, (5,): -1.0*A_const - 86.0863581225062, (0, 6): 2.0*A_const + 9.56179579958416e-15, (2, 4): 2.0*A_const + 9.56179579958416e-15, (1, 7): 2.0*A_const + 2.54447071051933e-14, (3, 5): 2.0*A_const + 2.54447071051933e-14, (2, 6): 2.0*A_const + 174.588641166433, (3, 7): 2.0*A_const + 174.588641166433, (0, 4): 2.0*A_const + 174.588641166433, (1, 5): 2.0*A_const + 174.588641166433, (0, 2): 2.0*A_const - 9.56179579958416e-15, (4, 6): 2.0*A_const - 9.56179579958416e-15, (1, 3): 2.0*A_const - 2.54447071051933e-14, (5, 7): 2.0*A_const - 2.54447071051933e-14, (0, 1): 2.0*A_const - 123.45281208693, (0, 3): 2.0*A_const + 123.45281208693, (0, 5): 2.0*A_const + 123.45281208693, (0, 7): 2.0*A_const - 123.45281208693, (1, 2): 2.0*A_const - 123.45281208693, (1, 4): 2.0*A_const + 123.45281208693, (1, 6): 2.0*A_const + 123.45281208693, (2, 3): 2.0*A_const - 123.45281208693, (2, 5): 2.0*A_const + 123.45281208693, (2, 7): 2.0*A_const + 123.45281208693, (3, 4): 2.0*A_const - 123.45281208693, (3, 6): 2.0*A_const + 123.45281208693, (4, 5): 2.0*A_const - 123.45281208693, (4, 7): 2.0*A_const + 123.45281208693, (5, 6): 2.0*A_const - 123.45281208693, (6, 7): 2.0*A_const - 123.45281208693}\n"
     ]
    }
   ],
   "source": [
    "hubo_dict = hubo_expr_to_dict()\n",
    "print(hubo_dict)"
   ]
  },
  {
   "cell_type": "code",
   "execution_count": 24,
   "metadata": {},
   "outputs": [
    {
     "output_type": "stream",
     "name": "stdout",
     "text": [
      "full hubo dictionary written in file - hubo_dict.txt\n"
     ]
    }
   ],
   "source": [
    "file_name = \"hubo_dict.txt\"\n",
    "f = open(file_name, \"w\")\n",
    "print('full hubo dictionary written in file - hubo_dict.txt')\n",
    "f.write(str(hubo_dict))\n",
    "f.close()"
   ]
  },
  {
   "cell_type": "code",
   "execution_count": 25,
   "metadata": {},
   "outputs": [],
   "source": [
    "#This is used to check the maximum coefficient appearing in Hubo_B\n",
    "A_const=0\n",
    "read_dictionary_B = open(file_name, 'r').read()\n",
    "HUBO_B=eval(read_dictionary_B)\n",
    "\n",
    "#We set the Hard constraint strength as the (maximum coefficient appearing in Hubo_B)*const.\n",
    "#const was empirically selected to be 10\n",
    "const=10\n",
    "A_const=max(map(abs, list(HUBO_B.values())))*const\n",
    "# A_const = 1000\n",
    "\n",
    "#read the final HUBO\n",
    "read_dictionary= open(file_name, 'r').read()\n",
    "HUBO=eval(read_dictionary)"
   ]
  },
  {
   "cell_type": "code",
   "execution_count": 26,
   "metadata": {},
   "outputs": [
    {
     "output_type": "stream",
     "name": "stdout",
     "text": [
      "Current size of the HUBO: 37\n"
     ]
    }
   ],
   "source": [
    "print(\"Current size of the HUBO:\",len(HUBO)) "
   ]
  },
  {
   "cell_type": "code",
   "execution_count": 27,
   "metadata": {},
   "outputs": [],
   "source": [
    "def threshold_approx(h, val=1):\n",
    "    d =h.copy()\n",
    "    monoms = h.keys()\n",
    "    for m in monoms:     \n",
    "        temp = d[m]\n",
    "        if (temp < 0.0):\n",
    "            temp = -1.0 * temp\n",
    "        if (temp <= (10.0 ** (val))):\n",
    "            del d[m]\n",
    "    return d"
   ]
  },
  {
   "cell_type": "code",
   "execution_count": 28,
   "metadata": {},
   "outputs": [
    {
     "output_type": "stream",
     "name": "stdout",
     "text": [
      "Size of the HUBO after threshold approximation: 37\n"
     ]
    }
   ],
   "source": [
    "#Coefficints with absolute value less than 10^{threshold} are deleted from the HUBO.\n",
    "threshold=2\n",
    "\n",
    "HUBO=threshold_approx(HUBO,threshold)\n",
    "\n",
    "print(\"Size of the HUBO after threshold approximation:\",len(HUBO))"
   ]
  },
  {
   "cell_type": "code",
   "execution_count": 29,
   "metadata": {},
   "outputs": [],
   "source": [
    "#calculate the strength parameter needed by make_quadratic\n",
    "max_hubo_value=max(map(abs, list(HUBO.values())))\n",
    "strength=1.5*max_hubo_value\n",
    "#generate the bqm\n",
    "bqm = dimod.make_quadratic(HUBO, strength, dimod.BINARY)"
   ]
  },
  {
   "cell_type": "code",
   "execution_count": 40,
   "metadata": {},
   "outputs": [],
   "source": [
    "def display_soln_angles(solution):\n",
    "    thetas = generate_thetas()\n",
    "    for key, value in solution.items():\n",
    "        if solution[key] == 1:\n",
    "            print('bond ', (key//n_angles+1), ': ', thetas[key%n_angles])"
   ]
  },
  {
   "cell_type": "code",
   "execution_count": 45,
   "metadata": {},
   "outputs": [
    {
     "output_type": "stream",
     "name": "stdout",
     "text": [
      "   0  1  2  3  4  5  6  7       energy num_oc.\n6  0  0  0  1  0  0  0  0 -1336.609123       1\n4  0  1  0  0  0  0  0  0 -1332.529028       1\n0  0  0  0  0  0  1  0  0 -1330.113103       1\n5  0  0  0  0  0  1  0  0 -1330.113103       1\n9  0  0  0  0  0  1  0  0 -1330.113103       1\n8  0  0  0  0  0  0  1  0 -1326.727685       1\n1  0  0  0  0  0  0  0  1 -1326.033007       1\n2  0  0  0  0  0  0  0  1 -1326.033007       1\n3  0  0  0  0  0  0  0  1 -1326.033007       1\n7  0  0  0  0  0  0  0  1 -1326.033007       1\n['BINARY', 10 rows, 10 samples, 8 variables]\n"
     ]
    }
   ],
   "source": [
    "sampler = neal.SimulatedAnnealingSampler()\n",
    "sample_size=10\n",
    "sampleset = sampler.sample(bqm, num_reads=sample_size)\n",
    "print(sampleset)"
   ]
  },
  {
   "cell_type": "code",
   "execution_count": 43,
   "metadata": {},
   "outputs": [
    {
     "output_type": "stream",
     "name": "stdout",
     "text": [
      "{0: 0, 1: 0, 2: 0, 3: 1, 4: 0, 5: 0, 6: 0, 7: 0}\nbond  1 :  3*pi/4\n"
     ]
    }
   ],
   "source": [
    "sa_soln = sampleset.first.sample\n",
    "print(sa_soln)\n",
    "display_soln_angles(sa_soln)"
   ]
  },
  {
   "cell_type": "code",
   "execution_count": 46,
   "metadata": {
    "tags": []
   },
   "outputs": [
    {
     "output_type": "stream",
     "name": "stdout",
     "text": [
      "   0  1  2  3  4  5  6  7       energy num_oc. chain_.\n0  0  0  0  1  0  0  0  0 -1336.609123      41     0.0\n1  0  0  1  0  0  0  0  0 -1335.914445      94     0.0\n2  0  0  0  0  1  0  0  0 -1334.206128      92     0.0\n3  0  1  0  0  0  0  0  0 -1332.529028     143     0.0\n4  0  0  0  0  0  1  0  0 -1330.113103     173     0.0\n5  1  0  0  0  0  0  0  0 -1328.436002      88     0.0\n6  0  0  0  0  0  0  1  0 -1326.727685      61     0.0\n7  0  0  0  0  0  0  0  1 -1326.033007      84     0.0\n8  0  0  1  1  0  0  0  0 10888.317811       4     0.0\n9  0  0  0  1  1  0  0  0 10890.026127       1     0.0\n['BINARY', 10 rows, 781 samples, 8 variables]\n"
     ]
    }
   ],
   "source": [
    "sampler = EmbeddingComposite(DWaveSampler())\n",
    "sampleset = sampler.sample(bqm, num_reads=1000)\n",
    "print(sampleset.slice(10))"
   ]
  },
  {
   "cell_type": "code",
   "execution_count": 34,
   "metadata": {},
   "outputs": [
    {
     "output_type": "stream",
     "name": "stdout",
     "text": [
      "{0: 0, 1: 0, 2: 0, 3: 1, 4: 0, 5: 0, 6: 0, 7: 0}\nbond  1 :  3*pi/4\n"
     ]
    }
   ],
   "source": [
    "qa_soln = sampleset.first.sample\n",
    "print(qa_soln)\n",
    "display_soln_angles(qa_soln)"
   ]
  },
  {
   "cell_type": "code",
   "execution_count": null,
   "metadata": {},
   "outputs": [],
   "source": []
  }
 ]
}