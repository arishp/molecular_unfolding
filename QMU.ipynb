{
 "metadata": {
  "language_info": {
   "codemirror_mode": {
    "name": "ipython",
    "version": 3
   },
   "file_extension": ".py",
   "mimetype": "text/x-python",
   "name": "python",
   "nbconvert_exporter": "python",
   "pygments_lexer": "ipython3",
   "version": "3.9.16"
  },
  "orig_nbformat": 4,
  "kernelspec": {
   "name": "python3",
   "display_name": "Python 3.9.16 64-bit"
  },
  "interpreter": {
   "hash": "4cd7ab41f5fca4b9b44701077e38c5ffd31fe66a6cab21e0214b68d958d0e462"
  }
 },
 "nbformat": 4,
 "nbformat_minor": 2,
 "cells": [
  {
   "cell_type": "code",
   "execution_count": 1,
   "metadata": {},
   "outputs": [],
   "source": [
    "import sys\n",
    "sys.path.append('../')"
   ]
  },
  {
   "cell_type": "code",
   "execution_count": 2,
   "metadata": {},
   "outputs": [
    {
     "output_type": "stream",
     "name": "stdout",
     "text": [
      "Defaulting to user installation because normal site-packages is not writeable\n",
      "Requirement already satisfied: sympy in /workspace/.pip-modules/lib/python3.9/site-packages (1.11.1)\n",
      "Requirement already satisfied: mpmath>=0.19 in /workspace/.pip-modules/lib/python3.9/site-packages (from sympy) (1.3.0)\n"
     ]
    }
   ],
   "source": [
    "!pip install sympy"
   ]
  },
  {
   "cell_type": "code",
   "execution_count": 6,
   "metadata": {},
   "outputs": [],
   "source": [
    "import math\n",
    "import sympy\n",
    "from sympy import poly\n",
    "import numpy\n",
    "import dimod\n",
    "from sympy import symbols\n",
    "from copy import deepcopy\n",
    "import neal"
   ]
  },
  {
   "cell_type": "code",
   "execution_count": 7,
   "metadata": {},
   "outputs": [],
   "source": [
    "HUBO_Mol=\"./N_Rot_2/HUBO_20A12Rot_27#s2\""
   ]
  },
  {
   "cell_type": "code",
   "execution_count": 8,
   "metadata": {},
   "outputs": [],
   "source": [
    "#numer of rotatable bond considered\n",
    "num_rots=int(HUBO_Mol[HUBO_Mol.find(\"s\")+1])\n",
    "\n",
    "#Initialize variables\n",
    "if num_rots==2:\n",
    "    a0, a1, a2, a3  = symbols('a0, a1, a2, a3')\n",
    "if num_rots==4:\n",
    "    a0, a1, a2, a3, a4, a5, a6, a7  = symbols('a0, a1, a2, a3, a4, a5, a6, a7')\n",
    "if num_rots==5:\n",
    "    a0, a1, a2, a3, a4, a5, a6, a7, a8, a9  = symbols('a0, a1, a2, a3, a4, a5, a6, a7, a8, a9')\n",
    "if num_rots==6:\n",
    "    a0, a1, a2, a3, a4, a5, a6, a7, a8, a9, a10, a11  = symbols('a0, a1, a2, a3, a4, a5, a6, a7, a8, a9, a10, a11')\n",
    "if num_rots==8:\n",
    "    a0, a1, a2, a3, a4, a5, a6, a7, a8, a9, a10, a11, a12, a13, a14, a15  = symbols('a0, a1, a2, a3, a4, a5, a6, a7, a8, a9, a10, a11, a12, a13, a14, a15')"
   ]
  },
  {
   "cell_type": "code",
   "execution_count": 9,
   "metadata": {},
   "outputs": [],
   "source": [
    "FILE= HUBO_Mol + \".txt\"\n",
    "total_FILE= HUBO_Mol + '_total.txt'\n",
    "\n",
    "read_total = open(total_FILE, 'r').read()\n",
    "total=eval(read_total)"
   ]
  },
  {
   "cell_type": "code",
   "execution_count": 10,
   "metadata": {},
   "outputs": [],
   "source": [
    " #This is used to check the maximum coefficient appearing in Hubo_B\n",
    "A_const=0\n",
    "read_dictionary_B = open(FILE, 'r').read()\n",
    "HUBO_B=eval(read_dictionary_B)\n",
    "\n",
    "#We set the Hard constraint strength as the (maximum coefficient appearing in Hubo_B)*const.\n",
    "#const was empirically selected to be 10\n",
    "const=10\n",
    "A_const=max(map(abs, list(HUBO_B.values())))*const\n",
    "\n",
    "#read the final HUBO\n",
    "read_dictionary= open(FILE, 'r').read()\n",
    "HUBO=eval(read_dictionary)"
   ]
  },
  {
   "cell_type": "code",
   "execution_count": 11,
   "metadata": {},
   "outputs": [
    {
     "output_type": "stream",
     "name": "stdout",
     "text": [
      "Current size of the HUBO: 137\n"
     ]
    }
   ],
   "source": [
    "print(\"Current size of the HUBO:\",len(HUBO))"
   ]
  },
  {
   "cell_type": "code",
   "execution_count": 12,
   "metadata": {},
   "outputs": [],
   "source": [
    "def threshold_approx(h, val=1):\n",
    "    d =h.copy()\n",
    "    monoms = h.keys()\n",
    "    for m in monoms:     \n",
    "        temp = d[m]\n",
    "        if (temp < 0.0):\n",
    "            temp = -1.0 * temp\n",
    "        if (temp <= (10.0 ** (val))):\n",
    "            del d[m]\n",
    "    return d"
   ]
  },
  {
   "cell_type": "code",
   "execution_count": 13,
   "metadata": {},
   "outputs": [
    {
     "output_type": "stream",
     "name": "stdout",
     "text": [
      "Size of the HUBO after threshold approximation: 73\n"
     ]
    }
   ],
   "source": [
    " #Coefficints with absolute value less than 10^{threshold} are deleted from the HUBO.\n",
    "threshold=2\n",
    "\n",
    "HUBO=threshold_approx(HUBO,threshold)\n",
    "\n",
    "print(\"Size of the HUBO after threshold approximation:\",len(HUBO))"
   ]
  },
  {
   "cell_type": "code",
   "execution_count": 14,
   "metadata": {},
   "outputs": [],
   "source": [
    " #calculate the strength parameter needed by make_quadratic\n",
    "max_hubo_value=max(map(abs, list(HUBO.values())))\n",
    "strength=1.5*max_hubo_value\n",
    "#generate the bqm\n",
    "bqm = dimod.make_quadratic(HUBO, strength, dimod.BINARY)"
   ]
  },
  {
   "cell_type": "code",
   "execution_count": 15,
   "metadata": {},
   "outputs": [],
   "source": [
    "sampler = neal.SimulatedAnnealingSampler()\n",
    "\n",
    "sample_size=10"
   ]
  },
  {
   "cell_type": "code",
   "execution_count": 16,
   "metadata": {},
   "outputs": [
    {
     "output_type": "stream",
     "name": "stdout",
     "text": [
      "   1  2  3  4  5  6  7  8  9 10 11 12 13 14 15 16       energy num_oc.\n4  0  0  0  1  0  0  0  0  0  0  0  0  0  0  0  1 -2771.167969       1\n2  1  0  0  0  0  0  0  0  1  0  0  0  0  0  0  0 -2758.628906       1\n9  0  0  1  0  0  0  0  0  0  0  0  1  0  0  0  0 -2756.808594       1\n8  1  0  0  0  0  0  0  0  0  0  0  0  0  0  0  1 -2753.707031       1\n0  1  0  0  0  0  0  0  0  0  1  0  0  0  0  0  0 -2751.902344       1\n3  1  0  0  0  0  0  0  0  0  0  0  1  0  0  0  0 -2724.152344       1\n5  1  0  0  0  0  0  0  0  0  0  0  0  1  0  0  0 -2719.228271       1\n1  0  0  0  0  0  1  0  0  0  0  1  0  0  0  0  0 -2701.320312       1\n7  0  0  0  0  0  0  0  1  0  0  0  0  1  0  0  0 -2690.697021       1\n6  0  0  0  0  0  0  1  0  0  0  0  1  0  0  0  0 -2680.427734       1\n['BINARY', 10 rows, 10 samples, 16 variables]\n"
     ]
    }
   ],
   "source": [
    "sampleset = sampler.sample(bqm, num_reads=sample_size)\n",
    "print(sampleset)"
   ]
  },
  {
   "cell_type": "code",
   "execution_count": 17,
   "metadata": {},
   "outputs": [],
   "source": [
    "new_answer=sampleset.record.sample\n",
    "\n",
    "counter=0\n",
    "solutions={}\n",
    "occur_solutions=[]\n",
    "occurrences={}\n",
    "\n",
    "for s in range(len(new_answer)):\n",
    "    bit_new_answer=new_answer[s]\n",
    "    \n",
    "    if num_rots==2:\n",
    "    \n",
    "        k1=tuple(i for i,x in enumerate(bit_new_answer[0:8]) if x == 1)\n",
    "        k2=tuple(i for i,x in enumerate(bit_new_answer[8:16]) if x == 1)\n",
    "        \n",
    "        if len(k1)==1:\n",
    "            if len(k2)==1:\n",
    "                         \n",
    "                occur_solutions.append((k1[0]+1, k2[0]+1))\n",
    "                    \n",
    "                c1=numpy.cos((numpy.pi/4.0)*(k1[0]+1))\n",
    "                s1=numpy.sin((numpy.pi/4.0)*(k1[0]+1))\n",
    "                c2=numpy.cos((numpy.pi/4.0)*(k2[0]+1))\n",
    "                s2=numpy.sin((numpy.pi/4.0)*(k2[0]+1))\n",
    "                \n",
    "                minim=total(c1,s1,c2,s2)\n",
    "                \n",
    "                solutions[(k1[0]+1, k2[0]+1)]= minim\n",
    "                counter=counter+1\n",
    "                \n",
    "    if num_rots==4:\n",
    "        \n",
    "        k1=tuple(i for i,x in enumerate(bit_new_answer[0:8]) if x == 1)\n",
    "        k2=tuple(i for i,x in enumerate(bit_new_answer[8:16]) if x == 1)\n",
    "        k3=tuple(i for i,x in enumerate(bit_new_answer[16:24]) if x == 1)\n",
    "        k4=tuple(i for i,x in enumerate(bit_new_answer[24:32]) if x == 1)\n",
    "        \n",
    "        \n",
    "        if len(k1)==1:\n",
    "            if len(k2)==1:\n",
    "                if len(k3)==1:\n",
    "                    if len(k4)==1:\n",
    "                        \n",
    "                        occur_solutions.append((k1[0]+1, k2[0]+1, k3[0]+1, k4[0]+1))\n",
    "            \n",
    "                        c1=numpy.cos((numpy.pi/4.0)*(k1[0]+1))\n",
    "                        s1=numpy.sin((numpy.pi/4.0)*(k1[0]+1))\n",
    "                        c2=numpy.cos((numpy.pi/4.0)*(k2[0]+1))\n",
    "                        s2=numpy.sin((numpy.pi/4.0)*(k2[0]+1))\n",
    "                        c3=numpy.cos((numpy.pi/4.0)*(k3[0]+1))\n",
    "                        s3=numpy.sin((numpy.pi/4.0)*(k3[0]+1))\n",
    "                        c4=numpy.cos((numpy.pi/4.0)*(k4[0]+1))\n",
    "                        s4=numpy.sin((numpy.pi/4.0)*(k4[0]+1))\n",
    "                        \n",
    "                        minim=total(c1,s1,c2,s2,c3,s3,c4,s4)\n",
    "               \n",
    "                        solutions[(k1[0]+1, k2[0]+1, k3[0]+1, k4[0]+1)]= minim\n",
    "                        counter=counter+1\n",
    "                        \n",
    "    if num_rots==5:\n",
    "        \n",
    "        k1=tuple(i for i,x in enumerate(bit_new_answer[0:8]) if x == 1)\n",
    "        k2=tuple(i for i,x in enumerate(bit_new_answer[8:16]) if x == 1)\n",
    "        k3=tuple(i for i,x in enumerate(bit_new_answer[16:24]) if x == 1)\n",
    "        k4=tuple(i for i,x in enumerate(bit_new_answer[24:32]) if x == 1)\n",
    "        k5=tuple(i for i,x in enumerate(bit_new_answer[32:40]) if x == 1)\n",
    "    \n",
    "        \n",
    "        if len(k1)==1:\n",
    "            if len(k2)==1:\n",
    "                if len(k3)==1:\n",
    "                    if len(k4)==1:\n",
    "                        if len(k5)==1:\n",
    "                            \n",
    "                            occur_solutions.append((k1[0]+1, k2[0]+1, k3[0]+1, k4[0]+1, k5[0]+1))\n",
    "                            \n",
    "                            c1=numpy.cos((numpy.pi/4.0)*(k1[0]+1))\n",
    "                            s1=numpy.sin((numpy.pi/4.0)*(k1[0]+1))\n",
    "                            c2=numpy.cos((numpy.pi/4.0)*(k2[0]+1))\n",
    "                            s2=numpy.sin((numpy.pi/4.0)*(k2[0]+1))\n",
    "                            c3=numpy.cos((numpy.pi/4.0)*(k3[0]+1))\n",
    "                            s3=numpy.sin((numpy.pi/4.0)*(k3[0]+1))\n",
    "                            c4=numpy.cos((numpy.pi/4.0)*(k4[0]+1))\n",
    "                            s4=numpy.sin((numpy.pi/4.0)*(k4[0]+1))\n",
    "                            c5=numpy.cos((numpy.pi/4.0)*(k5[0]+1))\n",
    "                            s5=numpy.sin((numpy.pi/4.0)*(k5[0]+1))\n",
    "\n",
    "                            minim=total(c1,s1,c2,s2,c3,s3,c4,s4,c5,s5)\n",
    "                  \n",
    "                            solutions[(k1[0]+1, k2[0]+1, k3[0]+1, k4[0]+1, k5[0]+1)]= minim\n",
    "                            counter=counter+1\n",
    "                            \n",
    "    if num_rots==6:\n",
    "        \n",
    "        k1=tuple(i for i,x in enumerate(bit_new_answer[0:8]) if x == 1)\n",
    "        k2=tuple(i for i,x in enumerate(bit_new_answer[8:16]) if x == 1)\n",
    "        k3=tuple(i for i,x in enumerate(bit_new_answer[16:24]) if x == 1)\n",
    "        k4=tuple(i for i,x in enumerate(bit_new_answer[24:32]) if x == 1)\n",
    "        k5=tuple(i for i,x in enumerate(bit_new_answer[32:40]) if x == 1)\n",
    "        k6=tuple(i for i,x in enumerate(bit_new_answer[40:48]) if x == 1)\n",
    "        \n",
    "        \n",
    "        if len(k1)==1:\n",
    "            if len(k2)==1:\n",
    "                if len(k3)==1:\n",
    "                    if len(k4)==1:\n",
    "                        if len(k5)==1:\n",
    "                            if len(k6)==1:\n",
    "                        \n",
    "                                occur_solutions.append((k1[0]+1, k2[0]+1, k3[0]+1, k4[0]+1, k5[0]+1, k6[0]+1))\n",
    "            \n",
    "                                c1=numpy.cos((numpy.pi/4.0)*(k1[0]+1))\n",
    "                                s1=numpy.sin((numpy.pi/4.0)*(k1[0]+1))\n",
    "                                c2=numpy.cos((numpy.pi/4.0)*(k2[0]+1))\n",
    "                                s2=numpy.sin((numpy.pi/4.0)*(k2[0]+1))\n",
    "                                c3=numpy.cos((numpy.pi/4.0)*(k3[0]+1))\n",
    "                                s3=numpy.sin((numpy.pi/4.0)*(k3[0]+1))\n",
    "                                c4=numpy.cos((numpy.pi/4.0)*(k4[0]+1))\n",
    "                                s4=numpy.sin((numpy.pi/4.0)*(k4[0]+1))\n",
    "                                c5=numpy.cos((numpy.pi/4.0)*(k5[0]+1))\n",
    "                                s5=numpy.sin((numpy.pi/4.0)*(k5[0]+1))\n",
    "                                c6=numpy.cos((numpy.pi/4.0)*(k6[0]+1))\n",
    "                                s6=numpy.sin((numpy.pi/4.0)*(k6[0]+1))\n",
    "                                \n",
    "                                minim=total(c1,s1,c2,s2,c3,s3,c4,s4,c5,s5,c6,s6)\n",
    "                      \n",
    "                                solutions[(k1[0]+1, k2[0]+1, k3[0]+1, k4[0]+1, k5[0]+1, k6[0]+1)]= minim\n",
    "                                counter=counter+1\n",
    "                                \n",
    "    if num_rots==8:\n",
    "        \n",
    "        k1=tuple(i for i,x in enumerate(bit_new_answer[0:8]) if x == 1)\n",
    "        k2=tuple(i for i,x in enumerate(bit_new_answer[8:16]) if x == 1)\n",
    "        k3=tuple(i for i,x in enumerate(bit_new_answer[16:24]) if x == 1)\n",
    "        k4=tuple(i for i,x in enumerate(bit_new_answer[24:32]) if x == 1)\n",
    "        k5=tuple(i for i,x in enumerate(bit_new_answer[32:40]) if x == 1)\n",
    "        k6=tuple(i for i,x in enumerate(bit_new_answer[40:48]) if x == 1)\n",
    "        k7=tuple(i for i,x in enumerate(bit_new_answer[48:56]) if x == 1)\n",
    "        k8=tuple(i for i,x in enumerate(bit_new_answer[56:64]) if x == 1)\n",
    "        \n",
    "        \n",
    "        \n",
    "        if len(k1)==1:\n",
    "            if len(k2)==1:\n",
    "                if len(k3)==1:\n",
    "                    if len(k4)==1:\n",
    "                        if len(k5)==1:\n",
    "                            if len(k6)==1:\n",
    "                                if len(k7)==1:\n",
    "                                    if len(k8)==1:\n",
    "                        \n",
    "                                        occur_solutions.append((k1[0]+1, k2[0]+1, k3[0]+1, k4[0]+1, k5[0]+1, k6[0]+1, k7[0]+1, k8[0]+1))\n",
    "                    \n",
    "                                        c1=numpy.cos((numpy.pi/4.0)*(k1[0]+1))\n",
    "                                        s1=numpy.sin((numpy.pi/4.0)*(k1[0]+1))\n",
    "                                        c2=numpy.cos((numpy.pi/4.0)*(k2[0]+1))\n",
    "                                        s2=numpy.sin((numpy.pi/4.0)*(k2[0]+1))\n",
    "                                        c3=numpy.cos((numpy.pi/4.0)*(k3[0]+1))\n",
    "                                        s3=numpy.sin((numpy.pi/4.0)*(k3[0]+1))\n",
    "                                        c4=numpy.cos((numpy.pi/4.0)*(k4[0]+1))\n",
    "                                        s4=numpy.sin((numpy.pi/4.0)*(k4[0]+1))\n",
    "                                        c5=numpy.cos((numpy.pi/4.0)*(k5[0]+1))\n",
    "                                        s5=numpy.sin((numpy.pi/4.0)*(k5[0]+1))\n",
    "                                        c6=numpy.cos((numpy.pi/4.0)*(k6[0]+1))\n",
    "                                        s6=numpy.sin((numpy.pi/4.0)*(k6[0]+1))\n",
    "                                        c7=numpy.cos((numpy.pi/4.0)*(k7[0]+1))\n",
    "                                        s7=numpy.sin((numpy.pi/4.0)*(k7[0]+1))\n",
    "                                        c8=numpy.cos((numpy.pi/4.0)*(k8[0]+1))\n",
    "                                        s8=numpy.sin((numpy.pi/4.0)*(k8[0]+1))\n",
    "                                        \n",
    "                                        minim=total(c1,s1,c2,s2,c3,s3,c4,s4,c5,s5,c6,s6,c7,s7,c8,s8)\n",
    "                                                                  \n",
    "                                        solutions[(k1[0]+1, k2[0]+1, k3[0]+1, k4[0]+1, k5[0]+1, k6[0]+1, k7[0]+1, k8[0]+1)]= minim\n",
    "    \n",
    "                                        counter=counter+1\n",
    "    \n",
    "\n",
    "for sols in  list(set(occur_solutions)):\n",
    "    occurrences[sols]=occur_solutions.count(sols)\n",
    "    \n",
    "Final_Solutions= sorted(solutions.items(), key=lambda x: x[1], reverse=True)"
   ]
  },
  {
   "cell_type": "code",
   "execution_count": 18,
   "metadata": {},
   "outputs": [
    {
     "output_type": "stream",
     "name": "stdout",
     "text": [
      "Number of acceptable solutions found:  10\n"
     ]
    }
   ],
   "source": [
    "print( \"Number of acceptable solutions found: \", counter) "
   ]
  },
  {
   "cell_type": "code",
   "execution_count": 19,
   "metadata": {},
   "outputs": [
    {
     "output_type": "stream",
     "name": "stdout",
     "text": [
      "All solutions found:  [((1, 8), 215.589769852800), ((3, 4), 214.265677153627), ((1, 1), 210.043271839780), ((4, 8), 192.387079292383), ((1, 2), 188.479711588632), ((1, 5), 155.357600716986), ((6, 3), 153.954258669861), ((1, 4), 149.811102703967), ((8, 5), 119.110256368122), ((7, 4), 110.558090270887)]\n"
     ]
    }
   ],
   "source": [
    "print(\"All solutions found: \", Final_Solutions) "
   ]
  },
  {
   "cell_type": "code",
   "execution_count": 20,
   "metadata": {},
   "outputs": [
    {
     "output_type": "stream",
     "name": "stdout",
     "text": [
      "Occurrences of each solution:  {(7, 4): 1, (1, 2): 1, (3, 4): 1, (1, 5): 1, (1, 1): 1, (1, 8): 1, (1, 4): 1, (4, 8): 1, (6, 3): 1, (8, 5): 1}\n"
     ]
    }
   ],
   "source": [
    "print( \"Occurrences of each solution: \", occurrences) "
   ]
  },
  {
   "cell_type": "code",
   "execution_count": null,
   "metadata": {},
   "outputs": [],
   "source": [
    "print( \"Best Solution Found: \", Final_Solutions[0])\n",
    "print( \"Best Solution Occurences: \", occurrences[Final_Solutions[0][0]])"
   ]
  }
 ]
}