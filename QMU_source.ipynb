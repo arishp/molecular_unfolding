{
 "cells": [
  {
   "cell_type": "markdown",
   "id": "dd066771",
   "metadata": {},
   "source": [
    "# Quantum Molecular Unfolding\n",
    "https://arxiv.org/abs/2107.13607\n",
    "\n",
    "Kevin Mato, Riccardo Mengoni, Daniele Ottaviani, Gianluca Palermo\n",
    "\n",
    "*Abstract*: Molecular Docking (MD) is an important step of the drug discovery process which aims at calculating the preferred position and shape of one molecule to a second when they are bound to each other. During such analysis, 3D representations of molecules are manipulated according to their degree of freedoms: rigid roto-translation and fragment rotations along the rotatable bonds. In our work, we focused on one specific phase of the molecular docking procedure i.e. Molecular Unfolding (MU), which is used to remove the initial bias of a molecule by expanding it to an unfolded shape. The objective of the MU problem is to find the configuration that maximizes the molecular area, or equivalently, that maximizes the internal distances between atoms inside the molecule. We propose a quantum annealing approach to MU by formulating it as a High-order Unconstrained Binary Optimization (HUBO) which was possible to solve on the latest D-Wave annealing hardware (2000Q and Advantage). Results and performances obtained with quantum annealers are compared with state of art classical solvers.\n"
   ]
  },
  {
   "cell_type": "code",
   "execution_count": 1,
   "id": "8d2442c0",
   "metadata": {},
   "outputs": [],
   "source": [
    "import sys\n",
    "sys.path.append('../')\n",
    "import math\n",
    "import sympy\n",
    "from sympy import poly\n",
    "import numpy\n",
    "import dimod\n",
    "from sympy import symbols\n",
    "from copy import deepcopy\n",
    "import neal"
   ]
  },
  {
   "cell_type": "markdown",
   "id": "edffb6e0",
   "metadata": {},
   "source": [
    "HUBOs for Quantum Molecular unfolding problem have this form $H(x_{ik})=A\\sum_{i} \\left( \\sum_{k=1}^d x_{ik} -1 \\right)^2 - \\sum_{\\substack{a,b}} D_{ab}( {\\Theta})^2$\n",
    "\n",
    "where $H_A=A\\sum_{i} \\left( \\sum_{k=1}^d x_{ik} -1 \\right)^2$ is the hard constraint, modulated by coefficient A which has to be large wrt maximum coefficint appearing in $H_B=\\sum_{\\substack{a,b}} D_{ab}( {\\Theta})^2$ which is the optimization term, responsible for maximization of internal distances.\n",
    "\n",
    "\n",
    "HUBOs are already generated and are stored in folders. HUBOs are divided in several groups, depending on number of rotatable bonds considered (e.g. 5 rotatable bonds in the folder *./N_Rot_5*) and value of the threshold used to generate the HUBO (e.g. threshold value equal to 100 in folder *./HUBO_5_100*). "
   ]
  },
  {
   "cell_type": "markdown",
   "id": "0d4e239f",
   "metadata": {},
   "source": [
    "### Select the Molecular HUBO you want to study. \n",
    "Check that the path is correct."
   ]
  },
  {
   "cell_type": "code",
   "execution_count": 2,
   "id": "140db702",
   "metadata": {},
   "outputs": [],
   "source": [
    "HUBO_Mol=\"./N_Rot_2/HUBO_20A12Rot_27#s2\""
   ]
  },
  {
   "cell_type": "markdown",
   "id": "fd6eae78",
   "metadata": {},
   "source": [
    "Initializing the variables need in the problem"
   ]
  },
  {
   "cell_type": "code",
   "execution_count": 3,
   "id": "90854899",
   "metadata": {},
   "outputs": [],
   "source": [
    "#numer of rotatable bond considered\n",
    "num_rots=int(HUBO_Mol[HUBO_Mol.find(\"s\")+1])\n",
    "\n",
    "#Initialize variables\n",
    "if num_rots==2:\n",
    "    a0, a1, a2, a3  = symbols('a0, a1, a2, a3')\n",
    "if num_rots==4:\n",
    "    a0, a1, a2, a3, a4, a5, a6, a7  = symbols('a0, a1, a2, a3, a4, a5, a6, a7')\n",
    "if num_rots==5:\n",
    "    a0, a1, a2, a3, a4, a5, a6, a7, a8, a9  = symbols('a0, a1, a2, a3, a4, a5, a6, a7, a8, a9')\n",
    "if num_rots==6:\n",
    "    a0, a1, a2, a3, a4, a5, a6, a7, a8, a9, a10, a11  = symbols('a0, a1, a2, a3, a4, a5, a6, a7, a8, a9, a10, a11')\n",
    "if num_rots==8:\n",
    "    a0, a1, a2, a3, a4, a5, a6, a7, a8, a9, a10, a11, a12, a13, a14, a15  = symbols('a0, a1, a2, a3, a4, a5, a6, a7, a8, a9, a10, a11, a12, a13, a14, a15')"
   ]
  },
  {
   "cell_type": "markdown",
   "id": "3c8a40c4",
   "metadata": {},
   "source": [
    "Read the correct files in folder.\n",
    "Files named  *_total*  contain the scoring function $H_B$ to evaluate (in the format of a *sympy polynomial*)."
   ]
  },
  {
   "cell_type": "code",
   "execution_count": 4,
   "id": "597710ce",
   "metadata": {},
   "outputs": [],
   "source": [
    "FILE= HUBO_Mol + \".txt\"\n",
    "total_FILE= HUBO_Mol + '_total.txt'\n",
    "\n",
    "read_total = open(total_FILE, 'r').read()\n",
    "total=eval(read_total)"
   ]
  },
  {
   "cell_type": "markdown",
   "id": "f035f4ca",
   "metadata": {},
   "source": [
    "Check the max coefficient appearing in $H_B$ and set the hard constraint strenght $A$ as 10 times this number"
   ]
  },
  {
   "cell_type": "code",
   "execution_count": 5,
   "id": "8e5ee3b9",
   "metadata": {},
   "outputs": [],
   "source": [
    "#This is used to check the maximum coefficient appearing in Hubo_B\n",
    "A_const=0\n",
    "read_dictionary_B = open(FILE, 'r').read()\n",
    "HUBO_B=eval(read_dictionary_B)\n",
    "\n",
    "#We set the Hard constraint strength as the (maximum coefficient appearing in Hubo_B)*const.\n",
    "#const was empirically selected to be 10\n",
    "const=10\n",
    "A_const=max(map(abs, list(HUBO_B.values())))*const\n",
    "\n",
    "#read the final HUBO\n",
    "read_dictionary= open(FILE, 'r').read()\n",
    "HUBO=eval(read_dictionary)"
   ]
  },
  {
   "cell_type": "markdown",
   "id": "5fec240c",
   "metadata": {},
   "source": [
    "Current size of the HUBO"
   ]
  },
  {
   "cell_type": "code",
   "execution_count": 6,
   "id": "670ada0e",
   "metadata": {},
   "outputs": [
    {
     "name": "stdout",
     "output_type": "stream",
     "text": [
      "Current size of the HUBO: 137\n"
     ]
    }
   ],
   "source": [
    "print(\"Current size of the HUBO:\",len(HUBO))"
   ]
  },
  {
   "cell_type": "markdown",
   "id": "9c8e0183",
   "metadata": {},
   "source": [
    "Define the Threshold approximation function.\n",
    "Coefficints with absolute value less than $10^{val}$ are deleted from the HUBO."
   ]
  },
  {
   "cell_type": "code",
   "execution_count": 9,
   "id": "28e12fbd",
   "metadata": {},
   "outputs": [],
   "source": [
    "def threshold_approx(h, val=1):\n",
    "    d =h.copy()\n",
    "    monoms = h.keys()\n",
    "    for m in monoms:     \n",
    "        temp = d[m]\n",
    "        if (temp < 0.0):\n",
    "            temp = -1.0 * temp\n",
    "        if (temp <= (10.0 ** (val))):\n",
    "            del d[m]\n",
    "    return d"
   ]
  },
  {
   "cell_type": "markdown",
   "id": "1a936ba0",
   "metadata": {},
   "source": [
    "### Select a threshold value and apply the threshold approximation"
   ]
  },
  {
   "cell_type": "code",
   "execution_count": 10,
   "id": "19c6386f",
   "metadata": {},
   "outputs": [
    {
     "name": "stdout",
     "output_type": "stream",
     "text": [
      "Size of the HUBO after threshold approximation: 73\n"
     ]
    }
   ],
   "source": [
    "#Coefficints with absolute value less than 10^{threshold} are deleted from the HUBO.\n",
    "threshold=2\n",
    "\n",
    "HUBO=threshold_approx(HUBO,threshold)\n",
    "\n",
    "print(\"Size of the HUBO after threshold approximation:\",len(HUBO))"
   ]
  },
  {
   "cell_type": "markdown",
   "id": "0d095738",
   "metadata": {},
   "source": [
    "Constract the binary quadratic model (QUBO) from the HUBO using the function *dimod.make_quadratic* , which takes in input a *strength* parameter set to 1.5*(maximum HUBO value) for empirical reasons (as suggested by D-Wave researchers)"
   ]
  },
  {
   "cell_type": "code",
   "execution_count": 11,
   "id": "fb2a61f5",
   "metadata": {},
   "outputs": [],
   "source": [
    "#calculate the strength parameter needed by make_quadratic\n",
    "max_hubo_value=max(map(abs, list(HUBO.values())))\n",
    "strength=1.5*max_hubo_value\n",
    "#generate the bqm\n",
    "bqm = dimod.make_quadratic(HUBO, strength, dimod.BINARY)"
   ]
  },
  {
   "cell_type": "markdown",
   "id": "f605fe9e",
   "metadata": {},
   "source": [
    "### Select a sampler and the sample_size\n",
    "Here we consider the Simulated annealing solver. In order to use the Quantum annealing solver, please set up a D-Wave Leap account as explained here  https://docs.ocean.dwavesys.com/en/stable/overview/sapi.html\n",
    "\n",
    "Inthat case use DWaveSampler() with annealing schedule of $1 \\mu second$\n",
    "\n",
    "*sampler = EmbeddingComposite(DWaveSampler())*\n",
    "\n",
    "*sampleset = sampler.sample(bqm, num_reads=sample_size, anneal_schedule=[[0.0,0.0],[1.0,1.0]])*\n",
    "\n",
    "Remember that HUBOs get harder to solve when more rotatable bonds are considerd.\n",
    "Increase the sample_size accordingly (suggested sample_sizes: 1000, 10000, 100000)\n"
   ]
  },
  {
   "cell_type": "code",
   "execution_count": 12,
   "id": "41a3fb7a",
   "metadata": {},
   "outputs": [],
   "source": [
    "sampler = neal.SimulatedAnnealingSampler()\n",
    "\n",
    "sample_size=10\n"
   ]
  },
  {
   "cell_type": "markdown",
   "id": "4823d0bd",
   "metadata": {},
   "source": [
    "Run the problem and display sample"
   ]
  },
  {
   "cell_type": "code",
   "execution_count": 13,
   "id": "d9252443",
   "metadata": {},
   "outputs": [
    {
     "name": "stdout",
     "output_type": "stream",
     "text": [
      "   1  2  3  4  5  6  7  8  9 10 11 12 13 14 15 16       energy num_oc.\n",
      "1  0  0  1  0  0  0  0  0  1  0  0  0  0  0  0  0 -2791.285156       1\n",
      "4  0  0  1  0  0  0  0  0  0  0  0  0  0  0  1  0 -2772.867188       1\n",
      "2  1  0  0  0  0  0  0  0  0  0  0  0  0  0  0  1 -2753.707031       1\n",
      "3  0  0  0  1  0  0  0  0  0  0  0  0  1  0  0  0 -2736.689209       1\n",
      "7  1  0  0  0  0  0  0  0  0  0  0  0  0  1  0  0 -2725.957031       1\n",
      "0  1  0  0  0  0  0  0  0  0  0  0  1  0  0  0  0 -2724.152344       1\n",
      "8  0  0  0  0  0  1  0  0  1  0  0  0  0  0  0  0 -2722.300781       1\n",
      "5  0  0  0  0  0  0  0  1  0  0  0  0  0  0  1  0 -2711.679688       1\n",
      "9  0  0  0  0  0  0  0  1  0  0  0  0  0  0  1  0 -2711.679688       1\n",
      "6  0  0  0  0  0  0  0  1  0  0  0  0  0  1  0  0 -2697.425781       1\n",
      "['BINARY', 10 rows, 10 samples, 16 variables]\n"
     ]
    }
   ],
   "source": [
    "sampleset = sampler.sample(bqm, num_reads=sample_size)\n",
    "print(sampleset)"
   ]
  },
  {
   "cell_type": "markdown",
   "id": "755dd44e",
   "metadata": {},
   "source": [
    "### PostProcessing Part\n",
    "Evaluating the sampleset on  $H_B$\n"
   ]
  },
  {
   "cell_type": "code",
   "execution_count": 14,
   "id": "d8cbc094",
   "metadata": {},
   "outputs": [],
   "source": [
    "new_answer=sampleset.record.sample\n",
    "\n",
    "counter=0\n",
    "solutions={}\n",
    "occur_solutions=[]\n",
    "occurrences={}\n",
    "\n",
    "for s in range(len(new_answer)):\n",
    "    bit_new_answer=new_answer[s]\n",
    "    \n",
    "    if num_rots==2:\n",
    "    \n",
    "        k1=tuple(i for i,x in enumerate(bit_new_answer[0:8]) if x == 1)\n",
    "        k2=tuple(i for i,x in enumerate(bit_new_answer[8:16]) if x == 1)\n",
    "        \n",
    "        if len(k1)==1:\n",
    "            if len(k2)==1:\n",
    "                         \n",
    "                occur_solutions.append((k1[0]+1, k2[0]+1))\n",
    "                    \n",
    "                c1=numpy.cos((numpy.pi/4.0)*(k1[0]+1))\n",
    "                s1=numpy.sin((numpy.pi/4.0)*(k1[0]+1))\n",
    "                c2=numpy.cos((numpy.pi/4.0)*(k2[0]+1))\n",
    "                s2=numpy.sin((numpy.pi/4.0)*(k2[0]+1))\n",
    "                \n",
    "                minim=total(c1,s1,c2,s2)\n",
    "                \n",
    "                solutions[(k1[0]+1, k2[0]+1)]= minim\n",
    "                counter=counter+1\n",
    "                \n",
    "    if num_rots==4:\n",
    "        \n",
    "        k1=tuple(i for i,x in enumerate(bit_new_answer[0:8]) if x == 1)\n",
    "        k2=tuple(i for i,x in enumerate(bit_new_answer[8:16]) if x == 1)\n",
    "        k3=tuple(i for i,x in enumerate(bit_new_answer[16:24]) if x == 1)\n",
    "        k4=tuple(i for i,x in enumerate(bit_new_answer[24:32]) if x == 1)\n",
    "        \n",
    "        \n",
    "        if len(k1)==1:\n",
    "            if len(k2)==1:\n",
    "                if len(k3)==1:\n",
    "                    if len(k4)==1:\n",
    "                        \n",
    "                        occur_solutions.append((k1[0]+1, k2[0]+1, k3[0]+1, k4[0]+1))\n",
    "            \n",
    "                        c1=numpy.cos((numpy.pi/4.0)*(k1[0]+1))\n",
    "                        s1=numpy.sin((numpy.pi/4.0)*(k1[0]+1))\n",
    "                        c2=numpy.cos((numpy.pi/4.0)*(k2[0]+1))\n",
    "                        s2=numpy.sin((numpy.pi/4.0)*(k2[0]+1))\n",
    "                        c3=numpy.cos((numpy.pi/4.0)*(k3[0]+1))\n",
    "                        s3=numpy.sin((numpy.pi/4.0)*(k3[0]+1))\n",
    "                        c4=numpy.cos((numpy.pi/4.0)*(k4[0]+1))\n",
    "                        s4=numpy.sin((numpy.pi/4.0)*(k4[0]+1))\n",
    "                        \n",
    "                        minim=total(c1,s1,c2,s2,c3,s3,c4,s4)\n",
    "               \n",
    "                        solutions[(k1[0]+1, k2[0]+1, k3[0]+1, k4[0]+1)]= minim\n",
    "                        counter=counter+1\n",
    "                        \n",
    "    if num_rots==5:\n",
    "        \n",
    "        k1=tuple(i for i,x in enumerate(bit_new_answer[0:8]) if x == 1)\n",
    "        k2=tuple(i for i,x in enumerate(bit_new_answer[8:16]) if x == 1)\n",
    "        k3=tuple(i for i,x in enumerate(bit_new_answer[16:24]) if x == 1)\n",
    "        k4=tuple(i for i,x in enumerate(bit_new_answer[24:32]) if x == 1)\n",
    "        k5=tuple(i for i,x in enumerate(bit_new_answer[32:40]) if x == 1)\n",
    "    \n",
    "        \n",
    "        if len(k1)==1:\n",
    "            if len(k2)==1:\n",
    "                if len(k3)==1:\n",
    "                    if len(k4)==1:\n",
    "                        if len(k5)==1:\n",
    "                            \n",
    "                            occur_solutions.append((k1[0]+1, k2[0]+1, k3[0]+1, k4[0]+1, k5[0]+1))\n",
    "                            \n",
    "                            c1=numpy.cos((numpy.pi/4.0)*(k1[0]+1))\n",
    "                            s1=numpy.sin((numpy.pi/4.0)*(k1[0]+1))\n",
    "                            c2=numpy.cos((numpy.pi/4.0)*(k2[0]+1))\n",
    "                            s2=numpy.sin((numpy.pi/4.0)*(k2[0]+1))\n",
    "                            c3=numpy.cos((numpy.pi/4.0)*(k3[0]+1))\n",
    "                            s3=numpy.sin((numpy.pi/4.0)*(k3[0]+1))\n",
    "                            c4=numpy.cos((numpy.pi/4.0)*(k4[0]+1))\n",
    "                            s4=numpy.sin((numpy.pi/4.0)*(k4[0]+1))\n",
    "                            c5=numpy.cos((numpy.pi/4.0)*(k5[0]+1))\n",
    "                            s5=numpy.sin((numpy.pi/4.0)*(k5[0]+1))\n",
    "\n",
    "                            minim=total(c1,s1,c2,s2,c3,s3,c4,s4,c5,s5)\n",
    "                  \n",
    "                            solutions[(k1[0]+1, k2[0]+1, k3[0]+1, k4[0]+1, k5[0]+1)]= minim\n",
    "                            counter=counter+1\n",
    "                            \n",
    "    if num_rots==6:\n",
    "        \n",
    "        k1=tuple(i for i,x in enumerate(bit_new_answer[0:8]) if x == 1)\n",
    "        k2=tuple(i for i,x in enumerate(bit_new_answer[8:16]) if x == 1)\n",
    "        k3=tuple(i for i,x in enumerate(bit_new_answer[16:24]) if x == 1)\n",
    "        k4=tuple(i for i,x in enumerate(bit_new_answer[24:32]) if x == 1)\n",
    "        k5=tuple(i for i,x in enumerate(bit_new_answer[32:40]) if x == 1)\n",
    "        k6=tuple(i for i,x in enumerate(bit_new_answer[40:48]) if x == 1)\n",
    "        \n",
    "        \n",
    "        if len(k1)==1:\n",
    "            if len(k2)==1:\n",
    "                if len(k3)==1:\n",
    "                    if len(k4)==1:\n",
    "                        if len(k5)==1:\n",
    "                            if len(k6)==1:\n",
    "                        \n",
    "                                occur_solutions.append((k1[0]+1, k2[0]+1, k3[0]+1, k4[0]+1, k5[0]+1, k6[0]+1))\n",
    "            \n",
    "                                c1=numpy.cos((numpy.pi/4.0)*(k1[0]+1))\n",
    "                                s1=numpy.sin((numpy.pi/4.0)*(k1[0]+1))\n",
    "                                c2=numpy.cos((numpy.pi/4.0)*(k2[0]+1))\n",
    "                                s2=numpy.sin((numpy.pi/4.0)*(k2[0]+1))\n",
    "                                c3=numpy.cos((numpy.pi/4.0)*(k3[0]+1))\n",
    "                                s3=numpy.sin((numpy.pi/4.0)*(k3[0]+1))\n",
    "                                c4=numpy.cos((numpy.pi/4.0)*(k4[0]+1))\n",
    "                                s4=numpy.sin((numpy.pi/4.0)*(k4[0]+1))\n",
    "                                c5=numpy.cos((numpy.pi/4.0)*(k5[0]+1))\n",
    "                                s5=numpy.sin((numpy.pi/4.0)*(k5[0]+1))\n",
    "                                c6=numpy.cos((numpy.pi/4.0)*(k6[0]+1))\n",
    "                                s6=numpy.sin((numpy.pi/4.0)*(k6[0]+1))\n",
    "                                \n",
    "                                minim=total(c1,s1,c2,s2,c3,s3,c4,s4,c5,s5,c6,s6)\n",
    "                      \n",
    "                                solutions[(k1[0]+1, k2[0]+1, k3[0]+1, k4[0]+1, k5[0]+1, k6[0]+1)]= minim\n",
    "                                counter=counter+1\n",
    "                                \n",
    "    if num_rots==8:\n",
    "        \n",
    "        k1=tuple(i for i,x in enumerate(bit_new_answer[0:8]) if x == 1)\n",
    "        k2=tuple(i for i,x in enumerate(bit_new_answer[8:16]) if x == 1)\n",
    "        k3=tuple(i for i,x in enumerate(bit_new_answer[16:24]) if x == 1)\n",
    "        k4=tuple(i for i,x in enumerate(bit_new_answer[24:32]) if x == 1)\n",
    "        k5=tuple(i for i,x in enumerate(bit_new_answer[32:40]) if x == 1)\n",
    "        k6=tuple(i for i,x in enumerate(bit_new_answer[40:48]) if x == 1)\n",
    "        k7=tuple(i for i,x in enumerate(bit_new_answer[48:56]) if x == 1)\n",
    "        k8=tuple(i for i,x in enumerate(bit_new_answer[56:64]) if x == 1)\n",
    "        \n",
    "        \n",
    "        \n",
    "        if len(k1)==1:\n",
    "            if len(k2)==1:\n",
    "                if len(k3)==1:\n",
    "                    if len(k4)==1:\n",
    "                        if len(k5)==1:\n",
    "                            if len(k6)==1:\n",
    "                                if len(k7)==1:\n",
    "                                    if len(k8)==1:\n",
    "                        \n",
    "                                        occur_solutions.append((k1[0]+1, k2[0]+1, k3[0]+1, k4[0]+1, k5[0]+1, k6[0]+1, k7[0]+1, k8[0]+1))\n",
    "                    \n",
    "                                        c1=numpy.cos((numpy.pi/4.0)*(k1[0]+1))\n",
    "                                        s1=numpy.sin((numpy.pi/4.0)*(k1[0]+1))\n",
    "                                        c2=numpy.cos((numpy.pi/4.0)*(k2[0]+1))\n",
    "                                        s2=numpy.sin((numpy.pi/4.0)*(k2[0]+1))\n",
    "                                        c3=numpy.cos((numpy.pi/4.0)*(k3[0]+1))\n",
    "                                        s3=numpy.sin((numpy.pi/4.0)*(k3[0]+1))\n",
    "                                        c4=numpy.cos((numpy.pi/4.0)*(k4[0]+1))\n",
    "                                        s4=numpy.sin((numpy.pi/4.0)*(k4[0]+1))\n",
    "                                        c5=numpy.cos((numpy.pi/4.0)*(k5[0]+1))\n",
    "                                        s5=numpy.sin((numpy.pi/4.0)*(k5[0]+1))\n",
    "                                        c6=numpy.cos((numpy.pi/4.0)*(k6[0]+1))\n",
    "                                        s6=numpy.sin((numpy.pi/4.0)*(k6[0]+1))\n",
    "                                        c7=numpy.cos((numpy.pi/4.0)*(k7[0]+1))\n",
    "                                        s7=numpy.sin((numpy.pi/4.0)*(k7[0]+1))\n",
    "                                        c8=numpy.cos((numpy.pi/4.0)*(k8[0]+1))\n",
    "                                        s8=numpy.sin((numpy.pi/4.0)*(k8[0]+1))\n",
    "                                        \n",
    "                                        minim=total(c1,s1,c2,s2,c3,s3,c4,s4,c5,s5,c6,s6,c7,s7,c8,s8)\n",
    "                                                                  \n",
    "                                        solutions[(k1[0]+1, k2[0]+1, k3[0]+1, k4[0]+1, k5[0]+1, k6[0]+1, k7[0]+1, k8[0]+1)]= minim\n",
    "    \n",
    "                                        counter=counter+1\n",
    "    \n",
    "\n",
    "for sols in  list(set(occur_solutions)):\n",
    "    occurrences[sols]=occur_solutions.count(sols)\n",
    "    \n",
    "Final_Solutions= sorted(solutions.items(), key=lambda x: x[1], reverse=True)"
   ]
  },
  {
   "cell_type": "markdown",
   "id": "8fcdabca",
   "metadata": {},
   "source": [
    "## Display Solutions"
   ]
  },
  {
   "cell_type": "markdown",
   "id": "c0fc3fb2",
   "metadata": {},
   "source": [
    "Number of acceptable solutions that do not violate the hard contraint:"
   ]
  },
  {
   "cell_type": "code",
   "execution_count": 15,
   "id": "8f993a1f",
   "metadata": {},
   "outputs": [
    {
     "name": "stdout",
     "output_type": "stream",
     "text": [
      "Number of acceptable solutions found:  10\n"
     ]
    }
   ],
   "source": [
    "print( \"Number of acceptable solutions found: \", counter)"
   ]
  },
  {
   "cell_type": "markdown",
   "id": "22f9330e",
   "metadata": {},
   "source": [
    "Dictionary containing all the acceptable solutions found. Each solution is of the following form\n",
    "$[(k_1..k_d), H_B(k_1..k_d)]$ where $(k_1..k_d)$ are the parameters that define the torsional angle value $\\theta_i=\\frac{\\pi}{4}k_i$, while $H_B(k_1..k_d)$ is the value of the optimization function, evaluated in $(k_1..k_d)$"
   ]
  },
  {
   "cell_type": "code",
   "execution_count": 16,
   "id": "35dc96af",
   "metadata": {},
   "outputs": [
    {
     "name": "stdout",
     "output_type": "stream",
     "text": [
      "All solutions found:  [((3, 1), 220.704690075685), ((1, 8), 215.589769852800), ((3, 7), 211.100698922578), ((4, 5), 196.025016740852), ((1, 6), 176.921160968135), ((8, 7), 171.939415235912), ((6, 1), 170.560071322753), ((1, 4), 149.811102703967), ((8, 6), 141.934996918969)]\n"
     ]
    }
   ],
   "source": [
    "print(\"All solutions found: \", Final_Solutions)"
   ]
  },
  {
   "cell_type": "markdown",
   "id": "02c56e2e",
   "metadata": {},
   "source": [
    "Occurrences of each solution $(k_1..k_d)$"
   ]
  },
  {
   "cell_type": "code",
   "execution_count": 17,
   "id": "e0ed642a",
   "metadata": {},
   "outputs": [
    {
     "name": "stdout",
     "output_type": "stream",
     "text": [
      "Occurrences of each solution:  {(3, 1): 1, (3, 7): 1, (8, 7): 2, (1, 8): 1, (6, 1): 1, (1, 4): 1, (4, 5): 1, (8, 6): 1, (1, 6): 1}\n"
     ]
    }
   ],
   "source": [
    "print( \"Occurrences of each solution: \", occurrences)"
   ]
  },
  {
   "cell_type": "markdown",
   "id": "e3e933cd",
   "metadata": {},
   "source": [
    "Best solution found  $(k_1..k_d)_{best}$ and its occurrency "
   ]
  },
  {
   "cell_type": "code",
   "execution_count": 18,
   "id": "9e52e6b5",
   "metadata": {},
   "outputs": [
    {
     "name": "stdout",
     "output_type": "stream",
     "text": [
      "Best Solution Found:  ((3, 1), 220.704690075685)\n",
      "Best Solution Occurences:  1\n"
     ]
    }
   ],
   "source": [
    "print( \"Best Solution Found: \", Final_Solutions[0])\n",
    "print( \"Best Solution Occurences: \", occurrences[Final_Solutions[0][0]])"
   ]
  },
  {
   "cell_type": "code",
   "execution_count": null,
   "id": "91838d51",
   "metadata": {},
   "outputs": [],
   "source": []
  }
 ],
 "metadata": {
  "kernelspec": {
   "display_name": "Python 3 (ipykernel)",
   "language": "python",
   "name": "python3"
  },
  "language_info": {
   "codemirror_mode": {
    "name": "ipython",
    "version": 3
   },
   "file_extension": ".py",
   "mimetype": "text/x-python",
   "name": "python",
   "nbconvert_exporter": "python",
   "pygments_lexer": "ipython3",
   "version": "3.9.12"
  }
 },
 "nbformat": 4,
 "nbformat_minor": 5
}
