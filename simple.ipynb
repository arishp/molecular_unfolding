{
 "metadata": {
  "language_info": {
   "codemirror_mode": {
    "name": "ipython",
    "version": 3
   },
   "file_extension": ".py",
   "mimetype": "text/x-python",
   "name": "python",
   "nbconvert_exporter": "python",
   "pygments_lexer": "ipython3",
   "version": "3.9.16"
  },
  "orig_nbformat": 4,
  "kernelspec": {
   "name": "python3",
   "display_name": "Python 3.9.16 64-bit"
  },
  "interpreter": {
   "hash": "4cd7ab41f5fca4b9b44701077e38c5ffd31fe66a6cab21e0214b68d958d0e462"
  }
 },
 "nbformat": 4,
 "nbformat_minor": 2,
 "cells": [
  {
   "cell_type": "code",
   "execution_count": 1,
   "metadata": {},
   "outputs": [
    {
     "output_type": "stream",
     "name": "stdout",
     "text": [
      "Get:1 http://deb.debian.org/debian bullseye InRelease [116 kB]\n",
      "Get:2 http://deb.debian.org/debian-security bullseye-security InRelease [48.4 kB]\n",
      "Get:3 http://deb.debian.org/debian bullseye-updates InRelease [44.1 kB]\n",
      "Get:4 http://deb.debian.org/debian bullseye/main amd64 Packages [8,183 kB]\n",
      "Get:5 http://deb.debian.org/debian-security bullseye-security/main amd64 Packages [243 kB]\n",
      "Get:6 http://deb.debian.org/debian bullseye-updates/main amd64 Packages [14.6 kB]\n",
      "Fetched 8,649 kB in 3s (3,352 kB/s)\n",
      "\n",
      "\n",
      "\n",
      "\n",
      "The following additional packages will be installed:\n",
      "  libbsd0 libmd0 libx11-6 libx11-data libxau6 libxcb1 libxdmcp6\n",
      "The following NEW packages will be installed:\n",
      "  libbsd0 libmd0 libx11-6 libx11-data libxau6 libxcb1 libxdmcp6 libxrender1\n",
      "0 upgraded, 8 newly installed, 0 to remove and 18 not upgraded.\n",
      "Need to get 1,437 kB of archives.\n",
      "After this operation, 4,065 kB of additional disk space will be used.\n",
      "Get:1 http://deb.debian.org/debian bullseye/main amd64 libmd0 amd64 1.0.3-3 [28.0 kB]\n",
      "Get:2 http://deb.debian.org/debian bullseye/main amd64 libbsd0 amd64 0.11.3-1 [108 kB]\n",
      "Get:3 http://deb.debian.org/debian bullseye/main amd64 libxau6 amd64 1:1.0.9-1 [19.7 kB]\n",
      "Get:4 http://deb.debian.org/debian bullseye/main amd64 libxdmcp6 amd64 1:1.1.2-3 [26.3 kB]\n",
      "Get:5 http://deb.debian.org/debian bullseye/main amd64 libxcb1 amd64 1.14-3 [140 kB]\n",
      "Get:6 http://deb.debian.org/debian bullseye/main amd64 libx11-data all 2:1.7.2-1 [311 kB]\n",
      "Get:7 http://deb.debian.org/debian bullseye/main amd64 libx11-6 amd64 2:1.7.2-1 [772 kB]\n",
      "Get:8 http://deb.debian.org/debian bullseye/main amd64 libxrender1 amd64 1:0.9.10-1 [33.0 kB]\n",
      "Fetched 1,437 kB in 0s (10.6 MB/s)\n",
      "debconf: unable to initialize frontend: Dialog\n",
      "debconf: (No usable dialog-like program is installed, so the dialog based frontend cannot be used. at /usr/share/perl5/Debconf/FrontEnd/Dialog.pm line 78, <> line 8.)\n",
      "debconf: falling back to frontend: Readline\n",
      "Selecting previously unselected package libmd0:amd64.\n",
      "(Reading database ... 17744 files and directories currently installed.)\n",
      "Preparing to unpack .../0-libmd0_1.0.3-3_amd64.deb ...\n",
      "Unpacking libmd0:amd64 (1.0.3-3) ...\n",
      "Selecting previously unselected package libbsd0:amd64.\n",
      "Preparing to unpack .../1-libbsd0_0.11.3-1_amd64.deb ...\n",
      "Unpacking libbsd0:amd64 (0.11.3-1) ...\n",
      "Selecting previously unselected package libxau6:amd64.\n",
      "Preparing to unpack .../2-libxau6_1%3a1.0.9-1_amd64.deb ...\n",
      "Unpacking libxau6:amd64 (1:1.0.9-1) ...\n",
      "Selecting previously unselected package libxdmcp6:amd64.\n",
      "Preparing to unpack .../3-libxdmcp6_1%3a1.1.2-3_amd64.deb ...\n",
      "Unpacking libxdmcp6:amd64 (1:1.1.2-3) ...\n",
      "Selecting previously unselected package libxcb1:amd64.\n",
      "Preparing to unpack .../4-libxcb1_1.14-3_amd64.deb ...\n",
      "Unpacking libxcb1:amd64 (1.14-3) ...\n",
      "Selecting previously unselected package libx11-data.\n",
      "Preparing to unpack .../5-libx11-data_2%3a1.7.2-1_all.deb ...\n",
      "Unpacking libx11-data (2:1.7.2-1) ...\n",
      "Selecting previously unselected package libx11-6:amd64.\n",
      "Preparing to unpack .../6-libx11-6_2%3a1.7.2-1_amd64.deb ...\n",
      "Unpacking libx11-6:amd64 (2:1.7.2-1) ...\n",
      "Selecting previously unselected package libxrender1:amd64.\n",
      "Preparing to unpack .../7-libxrender1_1%3a0.9.10-1_amd64.deb ...\n",
      "Unpacking libxrender1:amd64 (1:0.9.10-1) ...\n",
      "Setting up libxau6:amd64 (1:1.0.9-1) ...\n",
      "Setting up libx11-data (2:1.7.2-1) ...\n",
      "Setting up libmd0:amd64 (1.0.3-3) ...\n",
      "Setting up libbsd0:amd64 (0.11.3-1) ...\n",
      "Setting up libxdmcp6:amd64 (1:1.1.2-3) ...\n",
      "Setting up libxcb1:amd64 (1.14-3) ...\n",
      "Setting up libx11-6:amd64 (2:1.7.2-1) ...\n",
      "Setting up libxrender1:amd64 (1:0.9.10-1) ...\n",
      "Processing triggers for libc-bin (2.31-13+deb11u5) ...\n",
      "\n",
      "\n",
      "\n",
      "The following additional packages will be installed:\n",
      "  libice6 x11-common\n",
      "The following NEW packages will be installed:\n",
      "  libice6 libsm6 libxext6 x11-common\n",
      "0 upgraded, 4 newly installed, 0 to remove and 18 not upgraded.\n",
      "Need to get 399 kB of archives.\n",
      "After this operation, 660 kB of additional disk space will be used.\n",
      "Get:1 http://deb.debian.org/debian bullseye/main amd64 x11-common all 1:7.7+22 [252 kB]\n",
      "Get:2 http://deb.debian.org/debian bullseye/main amd64 libice6 amd64 2:1.0.10-1 [58.5 kB]\n",
      "Get:3 http://deb.debian.org/debian bullseye/main amd64 libsm6 amd64 2:1.2.3-1 [35.1 kB]\n",
      "Get:4 http://deb.debian.org/debian bullseye/main amd64 libxext6 amd64 2:1.3.3-1.1 [52.7 kB]\n",
      "Fetched 399 kB in 0s (4,202 kB/s)\n",
      "debconf: unable to initialize frontend: Dialog\n",
      "debconf: (No usable dialog-like program is installed, so the dialog based frontend cannot be used. at /usr/share/perl5/Debconf/FrontEnd/Dialog.pm line 78, <> line 4.)\n",
      "debconf: falling back to frontend: Readline\n",
      "\n",
      "\u001b7\u001b[0;23r\u001b8\u001b[1ASelecting previously unselected package x11-common.\n",
      "(Reading database ... 18050 files and directories currently installed.)\n",
      "Preparing to unpack .../x11-common_1%3a7.7+22_all.deb ...\n",
      "\u001b7\u001b[24;0f\u001b[42m\u001b[30mProgress: [  0%]\u001b[49m\u001b[39m [..........................................................] \u001b8\u001b7\u001b[24;0f\u001b[42m\u001b[30mProgress: [  6%]\u001b[49m\u001b[39m [###.......................................................] \u001b8Unpacking x11-common (1:7.7+22) ...\n",
      "\u001b7\u001b[24;0f\u001b[42m\u001b[30mProgress: [ 12%]\u001b[49m\u001b[39m [######....................................................] \u001b8Selecting previously unselected package libice6:amd64.\n",
      "Preparing to unpack .../libice6_2%3a1.0.10-1_amd64.deb ...\n",
      "\u001b7\u001b[24;0f\u001b[42m\u001b[30mProgress: [ 18%]\u001b[49m\u001b[39m [##########................................................] \u001b8Unpacking libice6:amd64 (2:1.0.10-1) ...\n",
      "\u001b7\u001b[24;0f\u001b[42m\u001b[30mProgress: [ 24%]\u001b[49m\u001b[39m [#############.............................................] \u001b8Selecting previously unselected package libsm6:amd64.\n",
      "Preparing to unpack .../libsm6_2%3a1.2.3-1_amd64.deb ...\n",
      "\u001b7\u001b[24;0f\u001b[42m\u001b[30mProgress: [ 29%]\u001b[49m\u001b[39m [#################.........................................] \u001b8Unpacking libsm6:amd64 (2:1.2.3-1) ...\n",
      "\u001b7\u001b[24;0f\u001b[42m\u001b[30mProgress: [ 35%]\u001b[49m\u001b[39m [####################......................................] \u001b8Selecting previously unselected package libxext6:amd64.\n",
      "Preparing to unpack .../libxext6_2%3a1.3.3-1.1_amd64.deb ...\n",
      "\u001b7\u001b[24;0f\u001b[42m\u001b[30mProgress: [ 41%]\u001b[49m\u001b[39m [#######################...................................] \u001b8Unpacking libxext6:amd64 (2:1.3.3-1.1) ...\n",
      "\u001b7\u001b[24;0f\u001b[42m\u001b[30mProgress: [ 47%]\u001b[49m\u001b[39m [###########################...............................] \u001b8Setting up x11-common (1:7.7+22) ...\n",
      "\u001b7\u001b[24;0f\u001b[42m\u001b[30mProgress: [ 53%]\u001b[49m\u001b[39m [##############################............................] \u001b8debconf: unable to initialize frontend: Dialog\n",
      "debconf: (No usable dialog-like program is installed, so the dialog based frontend cannot be used. at /usr/share/perl5/Debconf/FrontEnd/Dialog.pm line 78.)\n",
      "debconf: falling back to frontend: Readline\n",
      "invoke-rc.d: could not determine current runlevel\n",
      "invoke-rc.d: policy-rc.d denied execution of start.\n",
      "\u001b7\u001b[24;0f\u001b[42m\u001b[30mProgress: [ 59%]\u001b[49m\u001b[39m [##################################........................] \u001b8Setting up libxext6:amd64 (2:1.3.3-1.1) ...\n",
      "\u001b7\u001b[24;0f\u001b[42m\u001b[30mProgress: [ 65%]\u001b[49m\u001b[39m [#####################################.....................] \u001b8\u001b7\u001b[24;0f\u001b[42m\u001b[30mProgress: [ 71%]\u001b[49m\u001b[39m [########################################..................] \u001b8Setting up libice6:amd64 (2:1.0.10-1) ...\n",
      "\u001b7\u001b[24;0f\u001b[42m\u001b[30mProgress: [ 76%]\u001b[49m\u001b[39m [############################################..............] \u001b8\u001b7\u001b[24;0f\u001b[42m\u001b[30mProgress: [ 82%]\u001b[49m\u001b[39m [###############################################...........] \u001b8Setting up libsm6:amd64 (2:1.2.3-1) ...\n",
      "\u001b7\u001b[24;0f\u001b[42m\u001b[30mProgress: [ 88%]\u001b[49m\u001b[39m [###################################################.......] \u001b8\u001b7\u001b[24;0f\u001b[42m\u001b[30mProgress: [ 94%]\u001b[49m\u001b[39m [######################################################....] \u001b8Processing triggers for libc-bin (2.31-13+deb11u5) ...\n",
      "\n",
      "\u001b7\u001b[0;24r\u001b8\u001b[1A\u001b[J"
     ]
    }
   ],
   "source": [
    "! sudo apt-get update\n",
    "! sudo apt-get install -y libxrender1\n",
    "! sudo apt install -y libsm6 libxext6"
   ]
  },
  {
   "cell_type": "code",
   "execution_count": 2,
   "metadata": {},
   "outputs": [],
   "source": [
    "import rdkit\n",
    "from rdkit.Chem import Draw\n",
    "from rdkit.Chem import AllChem\n",
    "from rdkit import Chem\n",
    "import py3Dmol\n",
    "import numpy as np"
   ]
  },
  {
   "cell_type": "code",
   "execution_count": 3,
   "metadata": {},
   "outputs": [
    {
     "output_type": "stream",
     "name": "stderr",
     "text": [
      "[13:09:49] SIMPLE: Warning - no explicit hydrogens in mol2 file but needed for formal charge estimation.\n"
     ]
    }
   ],
   "source": [
    "mol = rdkit.Chem.MolFromMol2File('./two_rot_simple.mol2')"
   ]
  },
  {
   "cell_type": "code",
   "execution_count": 4,
   "metadata": {},
   "outputs": [
    {
     "output_type": "display_data",
     "data": {
      "application/3dmoljs_load.v0": "<div id=\"3dmolviewer_16842449096437204\"  style=\"position: relative; width: 500px; height: 250px\">\n        <p id=\"3dmolwarning_16842449096437204\" style=\"background-color:#ffcccc;color:black\">You appear to be running in JupyterLab (or JavaScript failed to load for some other reason).  You need to install the 3dmol extension: <br>\n        <tt>jupyter labextension install jupyterlab_3dmol</tt></p>\n        </div>\n<script>\n\nvar loadScriptAsync = function(uri){\n  return new Promise((resolve, reject) => {\n    //this is to ignore the existence of requirejs amd\n    var savedexports, savedmodule;\n    if (typeof exports !== 'undefined') savedexports = exports;\n    else exports = {}\n    if (typeof module !== 'undefined') savedmodule = module;\n    else module = {}\n\n    var tag = document.createElement('script');\n    tag.src = uri;\n    tag.async = true;\n    tag.onload = () => {\n        exports = savedexports;\n        module = savedmodule;\n        resolve();\n    };\n  var firstScriptTag = document.getElementsByTagName('script')[0];\n  firstScriptTag.parentNode.insertBefore(tag, firstScriptTag);\n});\n};\n\nif(typeof $3Dmolpromise === 'undefined') {\n$3Dmolpromise = null;\n  $3Dmolpromise = loadScriptAsync('https://cdnjs.cloudflare.com/ajax/libs/3Dmol/2.0.1/3Dmol-min.js');\n}\n\nvar viewer_16842449096437204 = null;\nvar warn = document.getElementById(\"3dmolwarning_16842449096437204\");\nif(warn) {\n    warn.parentNode.removeChild(warn);\n}\n$3Dmolpromise.then(function() {\nviewer_16842449096437204 = $3Dmol.createViewer(document.getElementById(\"3dmolviewer_16842449096437204\"),{backgroundColor:\"white\"});\nviewer_16842449096437204.zoomTo();\n\tviewer_16842449096437204.addModel(\"SIMPLE\\n     RDKit          3D\\n\\n  4  3  0  0  0  0  0  0  0  0999 V2000\\n    1.0000   -0.5000    0.0000 C   0  0  0  0  0  1  0  0  0  0  0  0\\n    0.0000    0.0000    0.0000 C   0  0  0  0  0  2  0  0  0  0  0  0\\n    0.0000    1.0000    0.0000 C   0  0  0  0  0  2  0  0  0  0  0  0\\n    1.0000    1.5000    0.0000 C   0  0  0  0  0  1  0  0  0  0  0  0\\n  1  2  1  0\\n  2  3  1  0\\n  3  4  1  0\\nM  RAD  4   1   2   2   3   3   3   4   2\\nM  END\\n\",\"mol\");\n\tviewer_16842449096437204.setStyle({\"stick\": {}});\n\tviewer_16842449096437204.zoomTo();\nviewer_16842449096437204.render();\n});\n</script>",
      "text/html": "<div id=\"3dmolviewer_16842449096437204\"  style=\"position: relative; width: 500px; height: 250px\">\n        <p id=\"3dmolwarning_16842449096437204\" style=\"background-color:#ffcccc;color:black\">You appear to be running in JupyterLab (or JavaScript failed to load for some other reason).  You need to install the 3dmol extension: <br>\n        <tt>jupyter labextension install jupyterlab_3dmol</tt></p>\n        </div>\n<script>\n\nvar loadScriptAsync = function(uri){\n  return new Promise((resolve, reject) => {\n    //this is to ignore the existence of requirejs amd\n    var savedexports, savedmodule;\n    if (typeof exports !== 'undefined') savedexports = exports;\n    else exports = {}\n    if (typeof module !== 'undefined') savedmodule = module;\n    else module = {}\n\n    var tag = document.createElement('script');\n    tag.src = uri;\n    tag.async = true;\n    tag.onload = () => {\n        exports = savedexports;\n        module = savedmodule;\n        resolve();\n    };\n  var firstScriptTag = document.getElementsByTagName('script')[0];\n  firstScriptTag.parentNode.insertBefore(tag, firstScriptTag);\n});\n};\n\nif(typeof $3Dmolpromise === 'undefined') {\n$3Dmolpromise = null;\n  $3Dmolpromise = loadScriptAsync('https://cdnjs.cloudflare.com/ajax/libs/3Dmol/2.0.1/3Dmol-min.js');\n}\n\nvar viewer_16842449096437204 = null;\nvar warn = document.getElementById(\"3dmolwarning_16842449096437204\");\nif(warn) {\n    warn.parentNode.removeChild(warn);\n}\n$3Dmolpromise.then(function() {\nviewer_16842449096437204 = $3Dmol.createViewer(document.getElementById(\"3dmolviewer_16842449096437204\"),{backgroundColor:\"white\"});\nviewer_16842449096437204.zoomTo();\n\tviewer_16842449096437204.addModel(\"SIMPLE\\n     RDKit          3D\\n\\n  4  3  0  0  0  0  0  0  0  0999 V2000\\n    1.0000   -0.5000    0.0000 C   0  0  0  0  0  1  0  0  0  0  0  0\\n    0.0000    0.0000    0.0000 C   0  0  0  0  0  2  0  0  0  0  0  0\\n    0.0000    1.0000    0.0000 C   0  0  0  0  0  2  0  0  0  0  0  0\\n    1.0000    1.5000    0.0000 C   0  0  0  0  0  1  0  0  0  0  0  0\\n  1  2  1  0\\n  2  3  1  0\\n  3  4  1  0\\nM  RAD  4   1   2   2   3   3   3   4   2\\nM  END\\n\",\"mol\");\n\tviewer_16842449096437204.setStyle({\"stick\": {}});\n\tviewer_16842449096437204.zoomTo();\nviewer_16842449096437204.render();\n});\n</script>"
     },
     "metadata": {}
    }
   ],
   "source": [
    "mblock = Chem.MolToMolBlock(mol)\n",
    "view = py3Dmol.view(width=500, height=250)\n",
    "view.addModel(mblock, 'mol')\n",
    "view.setStyle({'stick':{}})\n",
    "view.zoomTo()\n",
    "view.show()"
   ]
  },
  {
   "cell_type": "code",
   "execution_count": 5,
   "metadata": {},
   "outputs": [
    {
     "output_type": "stream",
     "name": "stdout",
     "text": [
      "[1.0, -0.5, 0.0]\n[0.0, 0.0, 0.0]\n[0.0, 1.0, 0.0]\n[1.0, 1.5, 0.0]\n"
     ]
    }
   ],
   "source": [
    "conformers = mol.GetConformers()\n",
    "C1_coords = conformers[0].GetAtomPosition(0)\n",
    "C2_coords = conformers[0].GetAtomPosition(1)\n",
    "C3_coords = conformers[0].GetAtomPosition(2)\n",
    "C4_coords = conformers[0].GetAtomPosition(3)\n",
    "print(list(C1_coords))\n",
    "print(list(C2_coords))\n",
    "print(list(C3_coords))\n",
    "print(list(C4_coords))"
   ]
  },
  {
   "cell_type": "code",
   "execution_count": 6,
   "metadata": {},
   "outputs": [
    {
     "output_type": "stream",
     "name": "stdout",
     "text": [
      "[[0. 0. 0. 0.]\n [0. 0. 0. 0.]\n [0. 0. 0. 0.]\n [0. 0. 0. 0.]]\n"
     ]
    }
   ],
   "source": [
    "import numpy as np\n",
    "rot_mat = np.zeros((4,4))\n",
    "print(rot_mat)"
   ]
  },
  {
   "cell_type": "code",
   "execution_count": 7,
   "metadata": {},
   "outputs": [],
   "source": [
    "#fix C1 and rotate C4\n",
    "theta = np.pi\n",
    "x_dash = C2_coords.x\n",
    "y_dash = C2_coords.y\n",
    "z_dash = C2_coords.z\n",
    "\n",
    "x_ddash = C3_coords.x\n",
    "y_ddash = C3_coords.y\n",
    "z_ddash = C3_coords.z\n",
    "\n",
    "dx = x_ddash - x_dash\n",
    "dy = y_ddash - y_dash\n",
    "dz = z_ddash - z_dash\n",
    "l = np.sqrt(dx*dx + dy*dy + dz*dz)\n",
    "s_theta = np.sin(theta)\n",
    "c_theta = np.cos(theta)\n",
    "l_sq = l*l\n"
   ]
  },
  {
   "cell_type": "code",
   "execution_count": 8,
   "metadata": {},
   "outputs": [
    {
     "output_type": "stream",
     "name": "stdout",
     "text": [
      "[[-1.0000000e+00  0.0000000e+00 -1.2246468e-16  0.0000000e+00]\n [ 0.0000000e+00  1.0000000e+00  0.0000000e+00  0.0000000e+00]\n [-1.2246468e-16  0.0000000e+00 -1.0000000e+00  0.0000000e+00]\n [ 0.0000000e+00  0.0000000e+00  0.0000000e+00  1.0000000e+00]]\n"
     ]
    }
   ],
   "source": [
    "rot_mat[0][0] = (dx*dx + (dy*dy + dz*dz)*c_theta)/l_sq\n",
    "rot_mat[0][1] = (dx*dy*(1-c_theta) - dz*l*s_theta)/l_sq\n",
    "rot_mat[0][2] = (dx*dz*(1-c_theta) - dy*l*s_theta)/l_sq\n",
    "rot_mat[0][3] = ((x_dash*(dy*dy + dz*dz) - dx*(y_dash*dy + z_dash*dz))*(1-c_theta) + (y_dash*dz - z_dash*dy)*l*s_theta)/l_sq\n",
    "\n",
    "rot_mat[1][0] = (dx*dy*(1-c_theta) + dz*l*s_theta)/l_sq\n",
    "rot_mat[1][1] = (dy*dy + (dx*dx + dz*dz)*c_theta)/l_sq\n",
    "rot_mat[1][2] = (dy*dz*(1-c_theta) - dx*l*s_theta)/l_sq\n",
    "rot_mat[1][3] = ((y_dash*(dx*dx + dz*dz) - dy*(x_dash*dx + z_dash*dz))*(1-c_theta) + (z_dash*dx - x_dash*dz)*l*s_theta)/l_sq\n",
    "\n",
    "rot_mat[2][0] = (dx*dz*(1-c_theta) - dy*l*s_theta)/l_sq\n",
    "rot_mat[2][1] = (dy*dz*(1-c_theta) + dx*l*s_theta)/l_sq\n",
    "rot_mat[2][2] = (dz*dz + (dx*dx + dy*dy)*c_theta)/l_sq\n",
    "rot_mat[2][3] = ((z_dash*(dx*dx + dy*dy) - dz*(x_dash*dx + y_dash*dy))*(1-c_theta) + (x_dash*dy - y_dash*dx)*l*s_theta)/l_sq\n",
    "\n",
    "rot_mat[3][0] = 0.0\n",
    "rot_mat[3][1] = 0.0\n",
    "rot_mat[3][2] = 0.0\n",
    "rot_mat[3][3] = 1.0\n",
    "\n",
    "print(rot_mat)"
   ]
  },
  {
   "cell_type": "code",
   "execution_count": 9,
   "metadata": {},
   "outputs": [
    {
     "output_type": "execute_result",
     "data": {
      "text/plain": [
       "array([[1. ],\n",
       "       [1.5],\n",
       "       [0. ],\n",
       "       [1. ]])"
      ]
     },
     "metadata": {},
     "execution_count": 9
    }
   ],
   "source": [
    "C4_vector = list(C4_coords)\n",
    "C4_vector.append(1.0)\n",
    "C4_array = np.array(C4_vector).reshape((4,1))\n",
    "C4_array"
   ]
  },
  {
   "cell_type": "code",
   "execution_count": 10,
   "metadata": {},
   "outputs": [],
   "source": [
    "new_vector = np.matmul(rot_mat, C4_array)\n",
    "print(new_vector)\n"
   ]
  },
  {
   "cell_type": "code",
   "execution_count": 11,
   "metadata": {},
   "outputs": [
    {
     "output_type": "stream",
     "name": "stdout",
     "text": [
      "{('x11', 'x11'): 13.5, ('x11', 'x12'): 31.0, ('x11', 'x13'): 31.0, ('x11', 'x14'): 31.0, ('x11',): -36.5, ('x12', 'x12'): 13.5, ('x12', 'x13'): 31.0, ('x12', 'x14'): 35.0, ('x12',): -41.5, ('x13', 'x13'): 13.5, ('x13', 'x14'): 31.0, ('x13',): -43.5, ('x14', 'x14'): 13.5, ('x14',): -41.5, (): 18.75}\n"
     ]
    }
   ],
   "source": [
    "hubo = {}\n",
    "\n",
    "A_const= 20.0\n",
    "### Hard constraint\n",
    "hubo[('x11', 'x11')] = 1 * A_const\n",
    "hubo[('x11', 'x12')] = 2.0 * A_const\n",
    "hubo[('x11', 'x13')] = 2.0 * A_const\n",
    "hubo[('x11', 'x14')] = 2.0 * A_const\n",
    "hubo[('x11', )] = -2.0 * A_const\n",
    "hubo[('x12', 'x12')] = 1 * A_const\n",
    "hubo[('x12', 'x13')] = 2.0 * A_const\n",
    "hubo[('x12', 'x14')] = 2.0 * A_const\n",
    "hubo[('x12', )] = -2.0 * A_const\n",
    "hubo[('x13', 'x13')] = 1 * A_const\n",
    "hubo[('x13', 'x14')] = 2.0 * A_const\n",
    "hubo[('x13', )] = -2.0 * A_const\n",
    "hubo[('x14', 'x14')] = 1 * A_const\n",
    "hubo[('x14', )] = -2.0 * A_const\n",
    "hubo[()] = 1.0 * A_const\n",
    "\n",
    "### optimizing constraint\n",
    "#C1, C4 - X\n",
    "hubo[('x11', 'x11')] -= 1\n",
    "hubo[('x11', 'x13')] -= 2.0\n",
    "hubo[('x11', )] -= -2.0\n",
    "hubo[('x13', 'x13')] -= 1\n",
    "hubo[('x13', )] -= 2.0\n",
    "hubo[()] -= 1.0\n",
    "#C1, C4 - Y\n",
    "hubo[('x11', 'x11')] -= 2.25\n",
    "hubo[('x11', 'x12')] -= 4.5\n",
    "hubo[('x11', 'x13')] -= 4.5\n",
    "hubo[('x11', 'x14')] -= 4.5\n",
    "hubo[('x11', )] -= -1.5\n",
    "hubo[('x12', 'x12')] -= 2.25\n",
    "hubo[('x12', 'x13')] -= 4.5\n",
    "hubo[('x12', 'x14')] -= 4.5\n",
    "hubo[('x12', )] -= 1.5\n",
    "hubo[('x13', 'x13')] -= 2.25\n",
    "hubo[('x13', 'x14')] -= 4.5\n",
    "hubo[('x13', )] -= 1.5\n",
    "hubo[('x14', 'x14')] -= 2.25\n",
    "hubo[('x14', )] -= 1.5\n",
    "hubo[()] -= 0.25\n",
    "#C1, C4 - Z\n",
    "hubo[('x12', 'x12')] -= 1\n",
    "hubo[('x12', 'x14')] -= -2.0\n",
    "hubo[('x14', 'x14')] -= 1\n",
    "\n",
    "\n",
    "#C2, C4 - X\n",
    "hubo[('x11', 'x11')] -= 1\n",
    "hubo[('x11', 'x13')] -= -2.0\n",
    "hubo[('x13', 'x13')] -= 1\n",
    "#C2, C4 - Y\n",
    "hubo[('x11', 'x11')] -= 2.25\n",
    "hubo[('x11', 'x12')] -= 4.5\n",
    "hubo[('x11', 'x13')] -= 4.5\n",
    "hubo[('x11', 'x14')] -= 4.5\n",
    "hubo[('x12', 'x12')] -= 2.25\n",
    "hubo[('x12', 'x13')] -= 4.5\n",
    "hubo[('x12', 'x14')] -= 4.5\n",
    "hubo[('x13', 'x13')] -= 2.25\n",
    "hubo[('x13', 'x14')] -= 4.5\n",
    "hubo[('x14', 'x14')] -= 2.25\n",
    "#C2, C4 - Z\n",
    "hubo[('x12', 'x12')] -= 1\n",
    "hubo[('x12', 'x14')] -= -2.0\n",
    "hubo[('x14', 'x14')] -= 1\n",
    "\n",
    "print(hubo)"
   ]
  },
  {
   "cell_type": "code",
   "execution_count": 12,
   "metadata": {},
   "outputs": [],
   "source": [
    "import dimod\n",
    "bqm = dimod.make_quadratic(hubo, 12.0, dimod.BINARY) "
   ]
  },
  {
   "cell_type": "code",
   "execution_count": 13,
   "metadata": {},
   "outputs": [],
   "source": [
    "import neal\n",
    "sampler = neal.SimulatedAnnealingSampler()\n",
    "sample_size=10"
   ]
  },
  {
   "cell_type": "code",
   "execution_count": 14,
   "metadata": {},
   "outputs": [
    {
     "output_type": "stream",
     "name": "stdout",
     "text": [
      "  x11 x12 x13 x14 energy num_oc.\n0   0   0   1   0 -11.25       1\n5   0   0   1   0 -11.25       1\n7   0   0   1   0 -11.25       1\n9   0   0   1   0 -11.25       1\n2   0   1   0   0  -9.25       1\n1   0   0   1   1  -8.25       1\n3   0   1   1   0  -8.25       1\n8   0   1   1   0  -8.25       1\n4   1   0   0   0  -4.25       1\n6   1   0   0   0  -4.25       1\n['BINARY', 10 rows, 10 samples, 4 variables]\n"
     ]
    }
   ],
   "source": [
    "sampleset = sampler.sample(bqm, num_reads=sample_size)\n",
    "print(sampleset)"
   ]
  },
  {
   "cell_type": "code",
   "execution_count": 15,
   "metadata": {},
   "outputs": [],
   "source": [
    "from dwave.system import DWaveSampler, EmbeddingComposite\n",
    "sampler = EmbeddingComposite(DWaveSampler())\n",
    "sampleset = sampler.sample(bqm, num_reads=1000)"
   ]
  },
  {
   "cell_type": "code",
   "execution_count": 16,
   "metadata": {},
   "outputs": [
    {
     "output_type": "stream",
     "name": "stdout",
     "text": [
      "  x11 x12 x13 x14 energy num_oc. chain_.\n0   0   0   1   0 -11.25     479     0.0\n1   0   0   0   1  -9.25      97     0.0\n2   0   1   0   0  -9.25     194     0.0\n3   0   0   1   1  -8.25      80     0.0\n4   0   1   1   0  -8.25     136     0.0\n5   1   0   0   0  -4.25       6     0.0\n6   1   0   1   0  -3.25       2     0.0\n7   0   1   0   1  -2.25       2     0.0\n8   1   1   0   0  -1.25       2     0.0\n9   1   0   0   1  -1.25       2     0.0\n['BINARY', 10 rows, 1000 samples, 4 variables]\n"
     ]
    }
   ],
   "source": [
    "print(sampleset)"
   ]
  }
 ]
}