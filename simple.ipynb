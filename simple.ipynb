{
 "metadata": {
  "language_info": {
   "codemirror_mode": {
    "name": "ipython",
    "version": 3
   },
   "file_extension": ".py",
   "mimetype": "text/x-python",
   "name": "python",
   "nbconvert_exporter": "python",
   "pygments_lexer": "ipython3",
   "version": "3.9.16"
  },
  "orig_nbformat": 4,
  "kernelspec": {
   "name": "python3",
   "display_name": "Python 3.9.16 64-bit"
  },
  "interpreter": {
   "hash": "4cd7ab41f5fca4b9b44701077e38c5ffd31fe66a6cab21e0214b68d958d0e462"
  }
 },
 "nbformat": 4,
 "nbformat_minor": 2,
 "cells": [
  {
   "cell_type": "code",
   "execution_count": 1,
   "metadata": {},
   "outputs": [
    {
     "output_type": "stream",
     "name": "stdout",
     "text": [
      "Get:1 http://deb.debian.org/debian bullseye InRelease [116 kB]\n",
      "Get:2 http://deb.debian.org/debian-security bullseye-security InRelease [48.4 kB]\n",
      "Get:3 http://deb.debian.org/debian bullseye-updates InRelease [44.1 kB]\n",
      "Get:4 http://deb.debian.org/debian bullseye/main amd64 Packages [8,183 kB]\n",
      "Get:5 http://deb.debian.org/debian-security bullseye-security/main amd64 Packages [237 kB]\n",
      "Get:6 http://deb.debian.org/debian bullseye-updates/main amd64 Packages [14.6 kB]\n",
      "Fetched 8,643 kB in 3s (3,280 kB/s)\n",
      "\n",
      "\n",
      "\n",
      "\n",
      "The following additional packages will be installed:\n",
      "  libbsd0 libmd0 libx11-6 libx11-data libxau6 libxcb1 libxdmcp6\n",
      "The following NEW packages will be installed:\n",
      "  libbsd0 libmd0 libx11-6 libx11-data libxau6 libxcb1 libxdmcp6 libxrender1\n",
      "0 upgraded, 8 newly installed, 0 to remove and 1 not upgraded.\n",
      "Need to get 1,437 kB of archives.\n",
      "After this operation, 4,065 kB of additional disk space will be used.\n",
      "Get:1 http://deb.debian.org/debian bullseye/main amd64 libmd0 amd64 1.0.3-3 [28.0 kB]\n",
      "Get:2 http://deb.debian.org/debian bullseye/main amd64 libbsd0 amd64 0.11.3-1 [108 kB]\n",
      "Get:3 http://deb.debian.org/debian bullseye/main amd64 libxau6 amd64 1:1.0.9-1 [19.7 kB]\n",
      "Get:4 http://deb.debian.org/debian bullseye/main amd64 libxdmcp6 amd64 1:1.1.2-3 [26.3 kB]\n",
      "Get:5 http://deb.debian.org/debian bullseye/main amd64 libxcb1 amd64 1.14-3 [140 kB]\n",
      "Get:6 http://deb.debian.org/debian bullseye/main amd64 libx11-data all 2:1.7.2-1 [311 kB]\n",
      "Get:7 http://deb.debian.org/debian bullseye/main amd64 libx11-6 amd64 2:1.7.2-1 [772 kB]\n",
      "Get:8 http://deb.debian.org/debian bullseye/main amd64 libxrender1 amd64 1:0.9.10-1 [33.0 kB]\n",
      "Fetched 1,437 kB in 1s (1,023 kB/s)\n",
      "debconf: unable to initialize frontend: Dialog\n",
      "debconf: (No usable dialog-like program is installed, so the dialog based frontend cannot be used. at /usr/share/perl5/Debconf/FrontEnd/Dialog.pm line 78, <> line 8.)\n",
      "debconf: falling back to frontend: Readline\n",
      "Selecting previously unselected package libmd0:amd64.\n",
      "(Reading database ... 17744 files and directories currently installed.)\n",
      "Preparing to unpack .../0-libmd0_1.0.3-3_amd64.deb ...\n",
      "Unpacking libmd0:amd64 (1.0.3-3) ...\n",
      "Selecting previously unselected package libbsd0:amd64.\n",
      "Preparing to unpack .../1-libbsd0_0.11.3-1_amd64.deb ...\n",
      "Unpacking libbsd0:amd64 (0.11.3-1) ...\n",
      "Selecting previously unselected package libxau6:amd64.\n",
      "Preparing to unpack .../2-libxau6_1%3a1.0.9-1_amd64.deb ...\n",
      "Unpacking libxau6:amd64 (1:1.0.9-1) ...\n",
      "Selecting previously unselected package libxdmcp6:amd64.\n",
      "Preparing to unpack .../3-libxdmcp6_1%3a1.1.2-3_amd64.deb ...\n",
      "Unpacking libxdmcp6:amd64 (1:1.1.2-3) ...\n",
      "Selecting previously unselected package libxcb1:amd64.\n",
      "Preparing to unpack .../4-libxcb1_1.14-3_amd64.deb ...\n",
      "Unpacking libxcb1:amd64 (1.14-3) ...\n",
      "Selecting previously unselected package libx11-data.\n",
      "Preparing to unpack .../5-libx11-data_2%3a1.7.2-1_all.deb ...\n",
      "Unpacking libx11-data (2:1.7.2-1) ...\n",
      "Selecting previously unselected package libx11-6:amd64.\n",
      "Preparing to unpack .../6-libx11-6_2%3a1.7.2-1_amd64.deb ...\n",
      "Unpacking libx11-6:amd64 (2:1.7.2-1) ...\n",
      "Selecting previously unselected package libxrender1:amd64.\n",
      "Preparing to unpack .../7-libxrender1_1%3a0.9.10-1_amd64.deb ...\n",
      "Unpacking libxrender1:amd64 (1:0.9.10-1) ...\n",
      "Setting up libxau6:amd64 (1:1.0.9-1) ...\n",
      "Setting up libx11-data (2:1.7.2-1) ...\n",
      "Setting up libmd0:amd64 (1.0.3-3) ...\n",
      "Setting up libbsd0:amd64 (0.11.3-1) ...\n",
      "Setting up libxdmcp6:amd64 (1:1.1.2-3) ...\n",
      "Setting up libxcb1:amd64 (1.14-3) ...\n",
      "Setting up libx11-6:amd64 (2:1.7.2-1) ...\n",
      "Setting up libxrender1:amd64 (1:0.9.10-1) ...\n",
      "Processing triggers for libc-bin (2.31-13+deb11u5) ...\n",
      "\n",
      "\n",
      "\n",
      "The following additional packages will be installed:\n",
      "  libice6 x11-common\n",
      "The following NEW packages will be installed:\n",
      "  libice6 libsm6 libxext6 x11-common\n",
      "0 upgraded, 4 newly installed, 0 to remove and 1 not upgraded.\n",
      "Need to get 399 kB of archives.\n",
      "After this operation, 660 kB of additional disk space will be used.\n",
      "Get:1 http://deb.debian.org/debian bullseye/main amd64 x11-common all 1:7.7+22 [252 kB]\n",
      "Get:2 http://deb.debian.org/debian bullseye/main amd64 libice6 amd64 2:1.0.10-1 [58.5 kB]\n",
      "Get:3 http://deb.debian.org/debian bullseye/main amd64 libsm6 amd64 2:1.2.3-1 [35.1 kB]\n",
      "Get:4 http://deb.debian.org/debian bullseye/main amd64 libxext6 amd64 2:1.3.3-1.1 [52.7 kB]\n",
      "Fetched 399 kB in 0s (1,020 kB/s)\n",
      "debconf: unable to initialize frontend: Dialog\n",
      "debconf: (No usable dialog-like program is installed, so the dialog based frontend cannot be used. at /usr/share/perl5/Debconf/FrontEnd/Dialog.pm line 78, <> line 4.)\n",
      "debconf: falling back to frontend: Readline\n",
      "\n",
      "\u001b7\u001b[0;23r\u001b8\u001b[1ASelecting previously unselected package x11-common.\n",
      "(Reading database ... 18050 files and directories currently installed.)\n",
      "Preparing to unpack .../x11-common_1%3a7.7+22_all.deb ...\n",
      "\u001b7\u001b[24;0f\u001b[42m\u001b[30mProgress: [  0%]\u001b[49m\u001b[39m [..........................................................] \u001b8\u001b7\u001b[24;0f\u001b[42m\u001b[30mProgress: [  6%]\u001b[49m\u001b[39m [###.......................................................] \u001b8Unpacking x11-common (1:7.7+22) ...\n",
      "\u001b7\u001b[24;0f\u001b[42m\u001b[30mProgress: [ 12%]\u001b[49m\u001b[39m [######....................................................] \u001b8Selecting previously unselected package libice6:amd64.\n",
      "Preparing to unpack .../libice6_2%3a1.0.10-1_amd64.deb ...\n",
      "\u001b7\u001b[24;0f\u001b[42m\u001b[30mProgress: [ 18%]\u001b[49m\u001b[39m [##########................................................] \u001b8Unpacking libice6:amd64 (2:1.0.10-1) ...\n",
      "\u001b7\u001b[24;0f\u001b[42m\u001b[30mProgress: [ 24%]\u001b[49m\u001b[39m [#############.............................................] \u001b8Selecting previously unselected package libsm6:amd64.\n",
      "Preparing to unpack .../libsm6_2%3a1.2.3-1_amd64.deb ...\n",
      "\u001b7\u001b[24;0f\u001b[42m\u001b[30mProgress: [ 29%]\u001b[49m\u001b[39m [#################.........................................] \u001b8Unpacking libsm6:amd64 (2:1.2.3-1) ...\n",
      "\u001b7\u001b[24;0f\u001b[42m\u001b[30mProgress: [ 35%]\u001b[49m\u001b[39m [####################......................................] \u001b8Selecting previously unselected package libxext6:amd64.\n",
      "Preparing to unpack .../libxext6_2%3a1.3.3-1.1_amd64.deb ...\n",
      "\u001b7\u001b[24;0f\u001b[42m\u001b[30mProgress: [ 41%]\u001b[49m\u001b[39m [#######################...................................] \u001b8Unpacking libxext6:amd64 (2:1.3.3-1.1) ...\n",
      "\u001b7\u001b[24;0f\u001b[42m\u001b[30mProgress: [ 47%]\u001b[49m\u001b[39m [###########################...............................] \u001b8Setting up x11-common (1:7.7+22) ...\n",
      "\u001b7\u001b[24;0f\u001b[42m\u001b[30mProgress: [ 53%]\u001b[49m\u001b[39m [##############################............................] \u001b8debconf: unable to initialize frontend: Dialog\n",
      "debconf: (No usable dialog-like program is installed, so the dialog based frontend cannot be used. at /usr/share/perl5/Debconf/FrontEnd/Dialog.pm line 78.)\n",
      "debconf: falling back to frontend: Readline\n",
      "invoke-rc.d: could not determine current runlevel\n",
      "invoke-rc.d: policy-rc.d denied execution of start.\n",
      "\u001b7\u001b[24;0f\u001b[42m\u001b[30mProgress: [ 59%]\u001b[49m\u001b[39m [##################################........................] \u001b8Setting up libxext6:amd64 (2:1.3.3-1.1) ...\n",
      "\u001b7\u001b[24;0f\u001b[42m\u001b[30mProgress: [ 65%]\u001b[49m\u001b[39m [#####################################.....................] \u001b8\u001b7\u001b[24;0f\u001b[42m\u001b[30mProgress: [ 71%]\u001b[49m\u001b[39m [########################################..................] \u001b8Setting up libice6:amd64 (2:1.0.10-1) ...\n",
      "\u001b7\u001b[24;0f\u001b[42m\u001b[30mProgress: [ 76%]\u001b[49m\u001b[39m [############################################..............] \u001b8\u001b7\u001b[24;0f\u001b[42m\u001b[30mProgress: [ 82%]\u001b[49m\u001b[39m [###############################################...........] \u001b8Setting up libsm6:amd64 (2:1.2.3-1) ...\n",
      "\u001b7\u001b[24;0f\u001b[42m\u001b[30mProgress: [ 88%]\u001b[49m\u001b[39m [###################################################.......] \u001b8\u001b7\u001b[24;0f\u001b[42m\u001b[30mProgress: [ 94%]\u001b[49m\u001b[39m [######################################################....] \u001b8Processing triggers for libc-bin (2.31-13+deb11u5) ...\n",
      "\n",
      "\u001b7\u001b[0;24r\u001b8\u001b[1A\u001b[J"
     ]
    }
   ],
   "source": [
    "! sudo apt-get update\n",
    "! sudo apt-get install -y libxrender1\n",
    "! sudo apt install -y libsm6 libxext6"
   ]
  },
  {
   "cell_type": "code",
   "execution_count": 156,
   "metadata": {},
   "outputs": [],
   "source": [
    "import rdkit\n",
    "from rdkit.Chem import Draw\n",
    "from rdkit.Chem import AllChem\n",
    "from rdkit import Chem\n",
    "import py3Dmol"
   ]
  },
  {
   "cell_type": "code",
   "execution_count": 157,
   "metadata": {},
   "outputs": [
    {
     "output_type": "stream",
     "name": "stderr",
     "text": [
      "[12:49:02] SIMPLE: Warning - no explicit hydrogens in mol2 file but needed for formal charge estimation.\n"
     ]
    }
   ],
   "source": [
    "mol = rdkit.Chem.MolFromMol2File('./simple.mol2')"
   ]
  },
  {
   "cell_type": "code",
   "execution_count": 158,
   "metadata": {},
   "outputs": [
    {
     "output_type": "display_data",
     "data": {
      "application/3dmoljs_load.v0": "<div id=\"3dmolviewer_16825997438145587\"  style=\"position: relative; width: 500px; height: 250px\">\n        <p id=\"3dmolwarning_16825997438145587\" style=\"background-color:#ffcccc;color:black\">You appear to be running in JupyterLab (or JavaScript failed to load for some other reason).  You need to install the 3dmol extension: <br>\n        <tt>jupyter labextension install jupyterlab_3dmol</tt></p>\n        </div>\n<script>\n\nvar loadScriptAsync = function(uri){\n  return new Promise((resolve, reject) => {\n    //this is to ignore the existence of requirejs amd\n    var savedexports, savedmodule;\n    if (typeof exports !== 'undefined') savedexports = exports;\n    else exports = {}\n    if (typeof module !== 'undefined') savedmodule = module;\n    else module = {}\n\n    var tag = document.createElement('script');\n    tag.src = uri;\n    tag.async = true;\n    tag.onload = () => {\n        exports = savedexports;\n        module = savedmodule;\n        resolve();\n    };\n  var firstScriptTag = document.getElementsByTagName('script')[0];\n  firstScriptTag.parentNode.insertBefore(tag, firstScriptTag);\n});\n};\n\nif(typeof $3Dmolpromise === 'undefined') {\n$3Dmolpromise = null;\n  $3Dmolpromise = loadScriptAsync('https://cdnjs.cloudflare.com/ajax/libs/3Dmol/2.0.1/3Dmol-min.js');\n}\n\nvar viewer_16825997438145587 = null;\nvar warn = document.getElementById(\"3dmolwarning_16825997438145587\");\nif(warn) {\n    warn.parentNode.removeChild(warn);\n}\n$3Dmolpromise.then(function() {\nviewer_16825997438145587 = $3Dmol.createViewer(document.getElementById(\"3dmolviewer_16825997438145587\"),{backgroundColor:\"white\"});\nviewer_16825997438145587.zoomTo();\n\tviewer_16825997438145587.addModel(\"SIMPLE\\n     RDKit          3D\\n\\n  4  3  0  0  0  0  0  0  0  0999 V2000\\n    1.0000    0.0000    0.0000 C   0  0  0  0  0  1  0  0  0  0  0  0\\n    0.0000    0.0000    0.0000 C   0  0  0  0  0  2  0  0  0  0  0  0\\n    0.0000    1.0000    0.0000 C   0  0  0  0  0  2  0  0  0  0  0  0\\n    1.0000    1.0000    0.0000 C   0  0  0  0  0  1  0  0  0  0  0  0\\n  1  2  1  0\\n  2  3  1  0\\n  3  4  1  0\\nM  RAD  4   1   2   2   3   3   3   4   2\\nM  END\\n\",\"mol\");\n\tviewer_16825997438145587.setStyle({\"stick\": {}});\n\tviewer_16825997438145587.zoomTo();\nviewer_16825997438145587.render();\n});\n</script>",
      "text/html": "<div id=\"3dmolviewer_16825997438145587\"  style=\"position: relative; width: 500px; height: 250px\">\n        <p id=\"3dmolwarning_16825997438145587\" style=\"background-color:#ffcccc;color:black\">You appear to be running in JupyterLab (or JavaScript failed to load for some other reason).  You need to install the 3dmol extension: <br>\n        <tt>jupyter labextension install jupyterlab_3dmol</tt></p>\n        </div>\n<script>\n\nvar loadScriptAsync = function(uri){\n  return new Promise((resolve, reject) => {\n    //this is to ignore the existence of requirejs amd\n    var savedexports, savedmodule;\n    if (typeof exports !== 'undefined') savedexports = exports;\n    else exports = {}\n    if (typeof module !== 'undefined') savedmodule = module;\n    else module = {}\n\n    var tag = document.createElement('script');\n    tag.src = uri;\n    tag.async = true;\n    tag.onload = () => {\n        exports = savedexports;\n        module = savedmodule;\n        resolve();\n    };\n  var firstScriptTag = document.getElementsByTagName('script')[0];\n  firstScriptTag.parentNode.insertBefore(tag, firstScriptTag);\n});\n};\n\nif(typeof $3Dmolpromise === 'undefined') {\n$3Dmolpromise = null;\n  $3Dmolpromise = loadScriptAsync('https://cdnjs.cloudflare.com/ajax/libs/3Dmol/2.0.1/3Dmol-min.js');\n}\n\nvar viewer_16825997438145587 = null;\nvar warn = document.getElementById(\"3dmolwarning_16825997438145587\");\nif(warn) {\n    warn.parentNode.removeChild(warn);\n}\n$3Dmolpromise.then(function() {\nviewer_16825997438145587 = $3Dmol.createViewer(document.getElementById(\"3dmolviewer_16825997438145587\"),{backgroundColor:\"white\"});\nviewer_16825997438145587.zoomTo();\n\tviewer_16825997438145587.addModel(\"SIMPLE\\n     RDKit          3D\\n\\n  4  3  0  0  0  0  0  0  0  0999 V2000\\n    1.0000    0.0000    0.0000 C   0  0  0  0  0  1  0  0  0  0  0  0\\n    0.0000    0.0000    0.0000 C   0  0  0  0  0  2  0  0  0  0  0  0\\n    0.0000    1.0000    0.0000 C   0  0  0  0  0  2  0  0  0  0  0  0\\n    1.0000    1.0000    0.0000 C   0  0  0  0  0  1  0  0  0  0  0  0\\n  1  2  1  0\\n  2  3  1  0\\n  3  4  1  0\\nM  RAD  4   1   2   2   3   3   3   4   2\\nM  END\\n\",\"mol\");\n\tviewer_16825997438145587.setStyle({\"stick\": {}});\n\tviewer_16825997438145587.zoomTo();\nviewer_16825997438145587.render();\n});\n</script>"
     },
     "metadata": {}
    }
   ],
   "source": [
    "mblock = Chem.MolToMolBlock(mol)\n",
    "view = py3Dmol.view(width=500, height=250)\n",
    "view.addModel(mblock, 'mol')\n",
    "view.setStyle({'stick':{}})\n",
    "view.zoomTo()\n",
    "view.show()"
   ]
  },
  {
   "cell_type": "code",
   "execution_count": 159,
   "metadata": {},
   "outputs": [
    {
     "output_type": "stream",
     "name": "stdout",
     "text": [
      "[1.0, 0.0, 0.0]\n[0.0, 0.0, 0.0]\n[0.0, 1.0, 0.0]\n[1.0, 1.0, 0.0]\n"
     ]
    }
   ],
   "source": [
    "conformers = mol.GetConformers()\n",
    "C1_coords = conformers[0].GetAtomPosition(0)\n",
    "C2_coords = conformers[0].GetAtomPosition(1)\n",
    "C3_coords = conformers[0].GetAtomPosition(2)\n",
    "C4_coords = conformers[0].GetAtomPosition(3)\n",
    "print(list(C1_coords))\n",
    "print(list(C2_coords))\n",
    "print(list(C3_coords))\n",
    "print(list(C4_coords))"
   ]
  },
  {
   "cell_type": "code",
   "execution_count": 160,
   "metadata": {},
   "outputs": [
    {
     "output_type": "stream",
     "name": "stdout",
     "text": [
      "[[0. 0. 0. 0.]\n [0. 0. 0. 0.]\n [0. 0. 0. 0.]\n [0. 0. 0. 0.]]\n"
     ]
    }
   ],
   "source": [
    "import numpy as np\n",
    "rot_mat = np.zeros((4,4))\n",
    "print(rot_mat)"
   ]
  },
  {
   "cell_type": "code",
   "execution_count": 183,
   "metadata": {},
   "outputs": [],
   "source": [
    "#fix C1 and rotate C4\n",
    "theta = np.pi/2.0\n",
    "x_dash = C2_coords.x\n",
    "y_dash = C2_coords.y\n",
    "z_dash = C2_coords.z\n",
    "dx = C3_coords.x - x_dash\n",
    "dy = C3_coords.y - y_dash\n",
    "dz = C3_coords.z - z_dash\n",
    "l = np.sqrt(dx*dx + dy*dy + dz*dz)\n",
    "s_theta = np.sin(theta)\n",
    "c_theta = np.cos(theta)\n",
    "l_sq = l*l\n"
   ]
  },
  {
   "cell_type": "code",
   "execution_count": 184,
   "metadata": {},
   "outputs": [
    {
     "output_type": "stream",
     "name": "stdout",
     "text": [
      "[[ 6.123234e-17  0.000000e+00 -1.000000e+00  0.000000e+00]\n [ 0.000000e+00  1.000000e+00  0.000000e+00  0.000000e+00]\n [-1.000000e+00  0.000000e+00  6.123234e-17  0.000000e+00]\n [ 0.000000e+00  0.000000e+00  0.000000e+00  1.000000e+00]]\n"
     ]
    }
   ],
   "source": [
    "rot_mat[0][0] = (dx*dx + (dy*dy + dz*dz)*c_theta)/l_sq\n",
    "rot_mat[0][1] = (dx*dy*(1-c_theta) - dz*l*s_theta)/l_sq\n",
    "rot_mat[0][2] = (dx*dz*(1-c_theta) - dy*l*s_theta)/l_sq\n",
    "rot_mat[0][3] = ((x_dash*(dy*dy + dz*dz) - dx*(y_dash*dy + z_dash*dz))*(1-c_theta) + (y_dash*dz - z_dash*dy)*l*s_theta)/l_sq\n",
    "\n",
    "rot_mat[1][0] = (dx*dy*(1-c_theta) + dz*l*s_theta)/l_sq\n",
    "rot_mat[1][1] = (dy*dy + (dx*dx + dz*dz)*c_theta)/l_sq\n",
    "rot_mat[1][2] = (dy*dz*(1-c_theta) - dx*l*s_theta)/l_sq\n",
    "rot_mat[1][3] = ((y_dash*(dx*dx + dz*dz) - dy*(x_dash*dx + z_dash*dz))*(1-c_theta) + (z_dash*dx - x_dash*dz)*l*s_theta)/l_sq\n",
    "\n",
    "rot_mat[2][0] = (dx*dz*(1-c_theta) - dy*l*s_theta)/l_sq\n",
    "rot_mat[2][1] = (dy*dz*(1-c_theta) + dx*l*s_theta)/l_sq\n",
    "rot_mat[2][2] = (dz*dz + (dx*dx + dy*dy)*c_theta)/l_sq\n",
    "rot_mat[2][3] = ((z_dash*(dx*dx + dy*dy) - dz*(x_dash*dx + y_dash*dy))*(1-c_theta) + (x_dash*dy - y_dash*dx)*l*s_theta)/l_sq\n",
    "\n",
    "rot_mat[3][0] = 0.0\n",
    "rot_mat[3][1] = 0.0\n",
    "rot_mat[3][2] = 0.0\n",
    "rot_mat[3][3] = 1.0\n",
    "\n",
    "print(rot_mat)"
   ]
  },
  {
   "cell_type": "code",
   "execution_count": 185,
   "metadata": {},
   "outputs": [
    {
     "output_type": "execute_result",
     "data": {
      "text/plain": [
       "array([[1.],\n",
       "       [1.],\n",
       "       [0.],\n",
       "       [1.]])"
      ]
     },
     "metadata": {},
     "execution_count": 185
    }
   ],
   "source": [
    "C4_vector = list(C4_coords)\n",
    "C4_vector.append(1.0)\n",
    "C4_array = np.array(C4_vector).reshape((4,1))\n",
    "C4_array"
   ]
  },
  {
   "cell_type": "code",
   "execution_count": 186,
   "metadata": {},
   "outputs": [
    {
     "output_type": "execute_result",
     "data": {
      "text/plain": [
       "array([[ 6.123234e-17],\n",
       "       [ 1.000000e+00],\n",
       "       [-1.000000e+00],\n",
       "       [ 1.000000e+00]])"
      ]
     },
     "metadata": {},
     "execution_count": 186
    }
   ],
   "source": [
    "np.matmul(rot_mat, C4_array)\n"
   ]
  },
  {
   "cell_type": "code",
   "execution_count": null,
   "metadata": {},
   "outputs": [],
   "source": []
  }
 ]
}